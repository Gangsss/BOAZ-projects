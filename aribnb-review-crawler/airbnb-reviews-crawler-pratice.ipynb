{
 "cells": [
  {
   "cell_type": "code",
   "execution_count": 38,
   "metadata": {},
   "outputs": [],
   "source": [
    "import requests\n",
    "import json"
   ]
  },
  {
   "cell_type": "code",
   "execution_count": 11,
   "metadata": {},
   "outputs": [],
   "source": [
    "url = \"https://www.airbnb.co.kr/api/v2/reviews\"\n",
    "params = {\n",
    "    'key':'d306zoyjsyarp7ifhu67rjxn52tv0t20',\n",
    "    'currency':'KRW',\n",
    "    'locale':'ko',\n",
    "    'listing_id':'6261834',\n",
    "    'role':'guest',\n",
    "    '_format':'for_p3',\n",
    "    '_limit':'', # 몇개의 게시물을 보여줄 것인가(100개 이하로 설정가능)\n",
    "    '_offset':'',# 몇번째 게시물부터 시작할 것인가 0부터 시작\n",
    "    '_order':'language_country'}"
   ]
  },
  {
   "cell_type": "markdown",
   "metadata": {},
   "source": [
    "##### https://www.airbnb.co.kr/api/v2/reviews?key=d306zoyjsyarp7ifhu67rjxn52tv0t20&currency=KRW&locale=ko&listing_id=6261834&role=guest&_format=for_p3&_limit=7&_offset=7&_order=language_country"
   ]
  },
  {
   "cell_type": "code",
   "execution_count": 12,
   "metadata": {},
   "outputs": [],
   "source": [
    "params['_offset']=0  # 시작하는 게시물\n",
    "params['_limit']=100 # 보여지는 게시물(100개가 최대)"
   ]
  },
  {
   "cell_type": "code",
   "execution_count": 13,
   "metadata": {},
   "outputs": [],
   "source": [
    "response = requests.get(url,params=params).text"
   ]
  },
  {
   "cell_type": "code",
   "execution_count": 14,
   "metadata": {
    "scrolled": true
   },
   "outputs": [],
   "source": [
    "import json\n",
    "result = json.loads(response)"
   ]
  },
  {
   "cell_type": "markdown",
   "metadata": {},
   "source": [
    "- result:{'reviews', 'metadata'}\n",
    "    -  reviews:[100 items]: {'collection_tag', __'comments'__, 'created_at', __'id'__, 'language', 'localized_date', 'rating', 'response', 'reviewee', __'reviewer'__}\n",
    "    - metadata:{'reviews_count', 'should_show_review_translations'}"
   ]
  },
  {
   "cell_type": "code",
   "execution_count": 28,
   "metadata": {},
   "outputs": [
    {
     "name": "stdout",
     "output_type": "stream",
     "text": [
      "||                 collection_tag || : None\n",
      "||                       comments || : 너무 깨끗하고 좋았습니다.\n",
      "||                     created_at || : 2018-10-29T07:04:45Z\n",
      "||                             id || : 342585456\n",
      "||                       language || : ko\n",
      "||                 localized_date || : 2018년 10월\n",
      "||                         rating || : 5\n",
      "||                       response || : \n",
      "||                       reviewee || : {'deleted': False, 'first_name': '현아', 'host_name': '현아', 'id': 24468677, 'is_superhost': False, 'picture_url': 'https://a0.muscache.com/im/pictures/5af5aaac-5719-4708-8056-b32d76f23b44.jpg?aki_policy=profile_x_medium', 'profile_path': '/users/show/24468677'}\n",
      "||                       reviewer || : {'deleted': False, 'first_name': 'Doohoon', 'host_name': 'Doohoon', 'id': 81515153, 'is_superhost': False, 'picture_url': 'https://a0.muscache.com/im/pictures/user/c9774fbd-6469-4db7-81a1-f374743fcad8.jpg?aki_policy=profile_x_medium', 'profile_path': '/users/show/81515153'}\n"
     ]
    }
   ],
   "source": [
    "for k,v in result['reviews'][0].items():\n",
    "     print(\"|| %30s || : %s\" % (k,v)) # (|| key || : value) 형태로 출력"
   ]
  },
  {
   "cell_type": "code",
   "execution_count": 15,
   "metadata": {},
   "outputs": [
    {
     "data": {
      "text/plain": [
       "dict"
      ]
     },
     "execution_count": 15,
     "metadata": {},
     "output_type": "execute_result"
    }
   ],
   "source": [
    "result.__class__"
   ]
  },
  {
   "cell_type": "code",
   "execution_count": 16,
   "metadata": {},
   "outputs": [],
   "source": [
    "review_count= result['metadata']['reviews_count'] # 총 review 갯수"
   ]
  },
  {
   "cell_type": "code",
   "execution_count": 17,
   "metadata": {},
   "outputs": [],
   "source": [
    "review_count_100 = review_count//100 # 100개단위로 하기위해서"
   ]
  },
  {
   "cell_type": "code",
   "execution_count": 18,
   "metadata": {},
   "outputs": [],
   "source": [
    "review_count_rest = review_count%100 # 나머지"
   ]
  },
  {
   "cell_type": "code",
   "execution_count": 85,
   "metadata": {},
   "outputs": [],
   "source": [
    "reviews = []\n",
    "\n",
    "while True:\n",
    "    for i in range(review_count_100):\n",
    "        params['_offset'] = 100*i\n",
    "        params['limit'] = 100\n",
    "        response = requests.get(url,params=params).text\n",
    "        time.sleep(2)\n",
    "        result = json.loads(response)\n",
    "        time.sleep(2)\n",
    "        result_dic = result['reviews']\n",
    "        for j in range(100):\n",
    "            reviews.append(result_dic[j]['comments'])\n",
    "            \n",
    "    params['limit'] = review_count_rest\n",
    "    response = requests.get(url,params=params).text\n",
    "    time.sleep(2)\n",
    "    result = json.loads(response)\n",
    "    time.sleep(2)\n",
    "    result_dic = result['reviews']\n",
    "    for k in range(review_count_rest):\n",
    "        reviews.append(result_dic[j]['comments'])\n",
    "        \n",
    "    break\n",
    "    "
   ]
  },
  {
   "cell_type": "code",
   "execution_count": 86,
   "metadata": {},
   "outputs": [
    {
     "data": {
      "text/plain": [
       "392"
      ]
     },
     "execution_count": 86,
     "metadata": {},
     "output_type": "execute_result"
    }
   ],
   "source": [
    "len(reviews)"
   ]
  },
  {
   "cell_type": "markdown",
   "metadata": {},
   "source": [
    "## listing id"
   ]
  },
  {
   "cell_type": "markdown",
   "metadata": {},
   "source": [
    "### listing id만 알면 숙소 하나하나 주소 다 찾을 필요가 없다\n",
    "### 피쳐 어떤 걸로 뽑아야하는지 알면 뽑을 수 있을듯\n",
    "### https://api.airbnb.com/v2/explore_tabs?_format=for_explore_search_web&currency=KRW&items_per_grid=300&key=d306zoyjsyarp7ifhu67rjxn52tv0t20&location=%EC%84%9C%EC%9A%B8&section_offset=1&&supports_for_you_v3=true&tab_id=home_tab&timezone_offset=300&version=1.3.9"
   ]
  },
  {
   "cell_type": "code",
   "execution_count": 11,
   "metadata": {},
   "outputs": [],
   "source": [
    "url_listing = 'https://api.airbnb.com/v2/explore_tabs'\n",
    "params = {\n",
    "'_format':'for_explore_search_web',\n",
    "'currency':'KRW',\n",
    "'items_per_grid':'300', # 가져올 수 있는 방의 수\n",
    "'key:'d306zoyjsyarp7ifhu67rjxn52tv0t20', \n",
    "'location':'%EC%84%9C%EC%9A%B8',   #URL 인코드 - 디코드하면 서울\n",
    "'section_offset':'1',\n",
    "'supports_for_you_v3:'true',\n",
    "'tab_id':'home_tab',\n",
    "'timezone_offset':'300',\n",
    "'version':'1.3.9',\n",
    "}"
   ]
  },
  {
   "cell_type": "code",
   "execution_count": 12,
   "metadata": {},
   "outputs": [],
   "source": [
    "response_listing= requests.get(url_listing).text"
   ]
  },
  {
   "cell_type": "code",
   "execution_count": 13,
   "metadata": {},
   "outputs": [],
   "source": [
    "import json\n",
    "listing_json=json.loads(response)"
   ]
  },
  {
   "cell_type": "code",
   "execution_count": null,
   "metadata": {},
   "outputs": [],
   "source": [
    "listing_list=listing_json['explore_tabs'][0]['sections'][0]['listings']"
   ]
  },
  {
   "cell_type": "code",
   "execution_count": 33,
   "metadata": {},
   "outputs": [],
   "source": [
    "listing_num=len(listing_json['explore_tabs'][0]['sections'][0]['listings'])"
   ]
  },
  {
   "cell_type": "code",
   "execution_count": 42,
   "metadata": {},
   "outputs": [],
   "source": [
    "# for i in listing_num:\n",
    "    \n",
    "# listing_json['explore_tabs'][0]['sections'][0]['listings']"
   ]
  },
  {
   "cell_type": "code",
   "execution_count": null,
   "metadata": {},
   "outputs": [],
   "source": []
  },
  {
   "cell_type": "markdown",
   "metadata": {},
   "source": [
    "Question\n",
    "1. 지역 어떤 지역 할지\n",
    "2. 다른 나라도 할지\n",
    "3. dataframe 형태 어떤 피쳐, 파일명\n",
    "4.  DB와 연결 어떻게할지"
   ]
  },
  {
   "cell_type": "code",
   "execution_count": null,
   "metadata": {},
   "outputs": [],
   "source": []
  }
 ],
 "metadata": {
  "kernelspec": {
   "display_name": "Python 3",
   "language": "python",
   "name": "python3"
  },
  "language_info": {
   "codemirror_mode": {
    "name": "ipython",
    "version": 3
   },
   "file_extension": ".py",
   "mimetype": "text/x-python",
   "name": "python",
   "nbconvert_exporter": "python",
   "pygments_lexer": "ipython3",
   "version": "3.7.0"
  }
 },
 "nbformat": 4,
 "nbformat_minor": 2
}
