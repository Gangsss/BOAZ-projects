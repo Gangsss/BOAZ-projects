{
 "cells": [
  {
   "cell_type": "markdown",
   "metadata": {},
   "source": [
    "https://stevesie.com/apps/airbnb-api/listings"
   ]
  },
  {
   "cell_type": "code",
   "execution_count": 1,
   "metadata": {},
   "outputs": [],
   "source": [
    "import requests\n",
    "import json"
   ]
  },
  {
   "cell_type": "code",
   "execution_count": 30,
   "metadata": {},
   "outputs": [],
   "source": [
    "url = \"https://api.airbnb.com/v2/explore_tabs\"\n",
    "params = {\n",
    "    'key':'d306zoyjsyarp7ifhu67rjxn52tv0t20',\n",
    "    '_format':'for_explore_search_web',\n",
    "    \n",
    "    'currency':'KRW',\n",
    "    'location':'서울',\n",
    "    'tab_id':'home_tab',\n",
    "    'items_per_grid':'306', # 최대 306 -> 수정할방법찾아야\n",
    "#     'section_offset':'1',\n",
    "#     'supports_for_you_v3':'true',\n",
    "#     'timezone_offset':'300',\n",
    "    'version':'1.3.9'\n",
    "    }"
   ]
  },
  {
   "cell_type": "code",
   "execution_count": 31,
   "metadata": {},
   "outputs": [],
   "source": [
    "resp = requests.get(url,params=params)"
   ]
  },
  {
   "cell_type": "markdown",
   "metadata": {},
   "source": [
    "JSON 개념 정리\n",
    "\n",
    "https://github.com/chankoo/python-for-data/blob/master/3.2%20JSON%2C%20XML.ipynb"
   ]
  },
  {
   "cell_type": "code",
   "execution_count": 32,
   "metadata": {},
   "outputs": [],
   "source": [
    "res_jsn = resp.json() # .json() 메소드: response의 형태가 json 일경우 이 response를 파이썬 dict로 바로 매핑해준다"
   ]
  },
  {
   "cell_type": "code",
   "execution_count": 33,
   "metadata": {},
   "outputs": [],
   "source": [
    "# with open('home_jsn_306.json', 'w') as fp: # 파일로 저장하자 -> review 크롤러에서 가져다 쓰기 위해서이다\n",
    "#     json.dump(res_jsn,fp) # 파이썬 dict를 다시 json으로 변환하려면 json 모듈의 dump를 이용"
   ]
  },
  {
   "cell_type": "markdown",
   "metadata": {},
   "source": [
    "__데이터 구조 개괄__\n",
    "- res_jsn: {explore_tabs, metadata}\n",
    "    -  __explore_tabs[0]__: { 'tab_id', 'tab_name', 'pagination_metadata', 'sections', 'experiments_metadata', 'home_tab_metadata'}\n",
    "        - tab_id: home_tab\n",
    "        - tab_name: homes\n",
    "        - pagination_metadata: {'has_next_page', 'items_offset', 'section_offset', 'search_session_id'}\n",
    "        - __sections: [0:not paginated, 1: paginated]__\n",
    "            - sections[0]: ...'messages': [{'icon': 'icon-p2-aggregate-reviews',\n",
    "                                           'style': 'MESSAGE_WITH_ICON',\n",
    "                                       'title': 'Over 540,000 guest reviews for Seoul homes, with an average of 4.7 out of 5 stars.'}]...\n",
    "                                       \n",
    "            - __sections__[1]:{'backend_search_id', 'display_type', 'experiments_metadata', 'result_type', 'search_session_id', 'section_id', 'section_type_uid', 'title', 'is_paginated', 'bankai_section_id', 'refinements', __'listings'__, 'review_items', 'breadcrumbs', 'section_metadata', 'nearby_locations', 'localized_listing_count'}\n",
    "                - ...\n",
    "                - __listings: [#items_per_grid \\* { {listing}, {pricing_quote}, {verified}, {verified_card} }]__\n",
    "                    - __listing : 해당 숙소에 대한 50가지 features__\n",
    "                - ...\n",
    "        - experiments_metadata\n",
    "        - home_tab_metadata: {'urgency_commitment', 'golden_ticket_urgency_commitment', 'listing_cards_urgency_commitment_metadata', 'listing_cards_price_line_urgency_commitment_metadata', 'messages', 'facets', 'overrides', 'search_feed_items', __'remarketing_ids'__, 'location', 'breadcrumbs', 'listings_count', 'search', 'geography', 'price_histogram', 'filters'}\n",
    "            - __remarketing_ids__ : listing_id 담은 리스트 -> 숙소 id 바로뽑을 수 있다\n",
    "  \n",
    "    \n",
    "    \n",
    "    - metadata"
   ]
  },
  {
   "cell_type": "code",
   "execution_count": 5,
   "metadata": {},
   "outputs": [
    {
     "data": {
      "text/plain": [
       "dict_keys(['explore_tabs', 'metadata'])"
      ]
     },
     "execution_count": 5,
     "metadata": {},
     "output_type": "execute_result"
    }
   ],
   "source": [
    "res_jsn.keys() # 가장 큰 구조, 'explore_tabs'과 'metadata'로 나뉨"
   ]
  },
  {
   "cell_type": "code",
   "execution_count": 6,
   "metadata": {},
   "outputs": [
    {
     "data": {
      "text/plain": [
       "dict_keys(['tab_id', 'tab_name', 'pagination_metadata', 'sections', 'experiments_metadata', 'home_tab_metadata'])"
      ]
     },
     "execution_count": 6,
     "metadata": {},
     "output_type": "execute_result"
    }
   ],
   "source": [
    "res_jsn['explore_tabs'][0].keys() # explore_tabs을 살펴보자"
   ]
  },
  {
   "cell_type": "code",
   "execution_count": 7,
   "metadata": {},
   "outputs": [
    {
     "data": {
      "text/plain": [
       "'homes'"
      ]
     },
     "execution_count": 7,
     "metadata": {},
     "output_type": "execute_result"
    }
   ],
   "source": [
    "res_jsn['explore_tabs'][0]['tab_id']\n",
    "res_jsn['explore_tabs'][0]['tab_name'] # 웹에서 보고있는 탭이 homes 이다"
   ]
  },
  {
   "cell_type": "markdown",
   "metadata": {},
   "source": [
    "> home 탭으로 추정되는 화면\n",
    ">![2018-11-04 13-38-47](https://user-images.githubusercontent.com/38183218/47960055-11210580-e037-11e8-865d-8f3fda99ed7b.png)\n",
    "\n",
    "계속 살펴보자"
   ]
  },
  {
   "cell_type": "code",
   "execution_count": 8,
   "metadata": {},
   "outputs": [
    {
     "data": {
      "text/plain": [
       "{'has_next_page': True,\n",
       " 'items_offset': 100,\n",
       " 'section_offset': 5,\n",
       " 'search_session_id': '3cb445a2-32c0-420a-91df-b38e1c87d51e'}"
      ]
     },
     "execution_count": 8,
     "metadata": {},
     "output_type": "execute_result"
    }
   ],
   "source": [
    "# pagination 즉, 페이지가 넘어가는 것에 대한 메타데이터가 담겨있음\n",
    "res_jsn['explore_tabs'][0]['pagination_metadata'] # items_per_grid 300개 이상 설정시 {'has_next_page': False} 가 떠버림"
   ]
  },
  {
   "cell_type": "code",
   "execution_count": 9,
   "metadata": {},
   "outputs": [
    {
     "data": {
      "text/plain": [
       "dict_keys(['backend_search_id', 'display_type', 'experiments_metadata', 'result_type', 'search_session_id', 'section_id', 'section_type_uid', 'title', 'is_paginated', 'bankai_section_id', 'refinements', 'listings', 'review_items', 'breadcrumbs', 'section_metadata', 'nearby_locations', 'localized_listing_count'])"
      ]
     },
     "execution_count": 9,
     "metadata": {},
     "output_type": "execute_result"
    }
   ],
   "source": [
    "# 본격적인 컨텐츠를 구성하는 sections[1] 의 구조\n",
    "res_jsn['explore_tabs'][0]['sections'][1].keys()"
   ]
  },
  {
   "cell_type": "code",
   "execution_count": 10,
   "metadata": {},
   "outputs": [
    {
     "data": {
      "text/plain": [
       "dict_keys(['listing', 'pricing_quote', 'verified', 'verified_card'])"
      ]
     },
     "execution_count": 10,
     "metadata": {},
     "output_type": "execute_result"
    }
   ],
   "source": [
    "# listings에 숙소가 리스팅되어있다\n",
    "res_jsn['explore_tabs'][0]['sections'][1]['listings'][1].keys()"
   ]
  },
  {
   "cell_type": "markdown",
   "metadata": {},
   "source": [
    "위 4가지 key중 listing에 대부분의 feature가 들어있음 (50개)\n",
    "\n",
    "__listing dict의 key 설명__\n",
    "\n",
    "- badges: ?\n",
    "- bathroom_label, bathrooms: 화장실 수\n",
    "- bed_label, bedroom_label, bedrooms: 침대 수, 침실 형태, 침실 수\n",
    "- city: 표기 혼재 ex) '서울특별시', '마포구', 'Mapo-gu'\n",
    "- guest_label: 수용인원?\n",
    "- host_languages: 호스트 가능 언어\n",
    "- host_thumbnail_url_small, host_thumbnail_url: 호스트 썸네일\n",
    "- __id : 숙소 id__ 인듯?\n",
    "- is_business_travel_ready: 비즈니스 트래블위한 숙소인지\n",
    "- is_fully_refundable: 환불가능여부\n",
    "- is_host_highly_rated: 호스트 신뢰가능 여부\n",
    "\n",
    "... : 기타 features 생략\n",
    "\n",
    "- kicker_content: 숙소형태 요약?\n",
    "- lat, lng: 위도 경도\n",
    "- localized_city: 군,구 수준 주소?\n",
    "- localized_neighborhood: 지하철역 수준 주소?\n",
    "- name: 숙소이름\n",
    "- neighborhood: 근처 뭐있는지?\n",
    "- person_capacity: 수용가능인원 (guest_label과 차이는뭐지??)\n",
    "- picture_count,picture_url,picture_urls,picture: 숙소 사진 관련\n",
    "- preview_amenities: 프리뷰에 보여지는 amenities들인듯 ex) 와이파이, 주방\n",
    "- property_type_id: room_and_property_type 관련 id인듯\n",
    "- __reviews_count: 리뷰수__\n",
    "- room_type_category, room_type: 숙소형태 ex)Entire home/apt\n",
    "\n",
    "... 기타\n",
    "\n",
    "- star_rating: 숙소 별점\n",
    "- tier_id: ?\n",
    "- __user: 호스트 관련 정보(id, 썸네일..)__\n",
    "- public_address: 군,구 수준까지 주소\n",
    "- seo_reviews: ?\n",
    "- amenity_ids, preview_amenity_names: 보유한 amenity들??\n",
    "- reviews: ??\n"
   ]
  },
  {
   "cell_type": "code",
   "execution_count": 11,
   "metadata": {},
   "outputs": [
    {
     "name": "stdout",
     "output_type": "stream",
     "text": [
      "||                         badges || : []\n",
      "||                 bathroom_label || : 1 bath\n",
      "||                      bathrooms || : 1.0\n",
      "||                      bed_label || : 2 beds\n",
      "||                  bedroom_label || : 2 bedrooms\n",
      "||                       bedrooms || : 2\n",
      "||                           beds || : 2\n",
      "||                           city || : Yongsan-gu\n",
      "||                    guest_label || : 4 guests\n",
      "||                 host_languages || : ['en', 'ko']\n",
      "||       host_thumbnail_url_small || : https://a0.muscache.com/im/pictures/970eb53a-a8bd-4a04-a6dc-861846582771.jpg?aki_policy=profile_small\n",
      "||             host_thumbnail_url || : https://a0.muscache.com/im/pictures/970eb53a-a8bd-4a04-a6dc-861846582771.jpg?aki_policy=profile_x_medium\n",
      "||                             id || : 16683321\n",
      "||       is_business_travel_ready || : False\n",
      "||            is_fully_refundable || : True\n",
      "||           is_host_highly_rated || : True\n",
      "||                 is_new_listing || : False\n",
      "||                  is_rebookable || : False\n",
      "||                   is_superhost || : True\n",
      "||                 kicker_content || : {'messages': ['Entire apartment', '2 beds']}\n",
      "||                            lat || : 37.5546721332994\n",
      "||                            lng || : 126.96999096640928\n",
      "||                 localized_city || : Yongsan-gu\n",
      "||         localized_neighborhood || : Namdaemun\n",
      "||                           name || : [Seoul station] Cosy house\n",
      "||                   neighborhood || : Namdaemun\n",
      "||                person_capacity || : 4\n",
      "||                  picture_count || : 33\n",
      "||                    picture_url || : https://a0.muscache.com/im/pictures/7be66c81-1f7a-4337-9582-cb714087dde2.jpg?aki_policy=large\n",
      "||                   picture_urls || : ['https://a0.muscache.com/im/pictures/7be66c81-1f7a-4337-9582-cb714087dde2.jpg?aki_policy=large', 'https://a0.muscache.com/im/pictures/c3229d66-039e-46d8-879e-b9b31da780c4.jpg?aki_policy=large', 'https://a0.muscache.com/im/pictures/d858fb1a-beaf-4e36-a807-164eed8540b4.jpg?aki_policy=large', 'https://a0.muscache.com/im/pictures/7c17e5ff-28b0-4307-aca8-ccd9eac49810.jpg?aki_policy=large', 'https://a0.muscache.com/im/pictures/725da0a8-2722-40e1-8b8e-28f62e407d33.jpg?aki_policy=large', 'https://a0.muscache.com/im/pictures/fef49721-ad6f-4099-82a1-68369bad10ca.jpg?aki_policy=large', 'https://a0.muscache.com/im/pictures/690bc00c-af1e-4fb6-b450-5ef301fde0a4.jpg?aki_policy=large', 'https://a0.muscache.com/im/pictures/34c9c7a2-32bf-45d7-94ed-f2f5c3951e2d.jpg?aki_policy=large', 'https://a0.muscache.com/im/pictures/de5b34b7-722c-43b0-9808-d2c282e4770e.jpg?aki_policy=large', 'https://a0.muscache.com/im/pictures/824564d6-acc1-4826-b3ad-bca428351842.jpg?aki_policy=large', 'https://a0.muscache.com/im/pictures/33b4d148-5d7e-4420-8f4e-33c76b4d7def.jpg?aki_policy=large', 'https://a0.muscache.com/im/pictures/2f7d187a-5067-490d-aee7-e957b6a7a146.jpg?aki_policy=large', 'https://a0.muscache.com/im/pictures/a1cc4c34-eefd-4d6d-9f39-48da85d5cdab.jpg?aki_policy=large', 'https://a0.muscache.com/im/pictures/32f33e66-fdcf-4868-98ac-8f34cbb964b8.jpg?aki_policy=large', 'https://a0.muscache.com/im/pictures/6f1f7cf7-e4aa-4722-a4be-de5e7ac6a429.jpg?aki_policy=large', 'https://a0.muscache.com/im/pictures/1d6e1b1f-ea93-4e29-8180-d60af7ff69b9.jpg?aki_policy=large', 'https://a0.muscache.com/im/pictures/3a50276d-fe50-494b-85b0-3b9261f5cdf9.jpg?aki_policy=large', 'https://a0.muscache.com/im/pictures/8bc66c68-f2e4-4d9c-b9d2-dcd1d1fc317e.jpg?aki_policy=large', 'https://a0.muscache.com/im/pictures/19223aaf-f148-4657-8f0d-f89a50839722.jpg?aki_policy=large', 'https://a0.muscache.com/im/pictures/7cc44275-0d7b-429b-afbc-749d734e7191.jpg?aki_policy=large', 'https://a0.muscache.com/im/pictures/3388f945-43df-4a97-bdd9-b63e01ae407a.jpg?aki_policy=large', 'https://a0.muscache.com/im/pictures/e67d6cd3-55de-49f6-906b-000bafd672ce.jpg?aki_policy=large', 'https://a0.muscache.com/im/pictures/3190b4f6-5f68-4a22-b7dd-4d2ef02e04c7.jpg?aki_policy=large', 'https://a0.muscache.com/im/pictures/24b9ac37-bddc-4caf-b60a-2462a4d52828.jpg?aki_policy=large', 'https://a0.muscache.com/im/pictures/7ef5b888-74b7-4958-a38b-c756c2ab1827.jpg?aki_policy=large', 'https://a0.muscache.com/im/pictures/746bf32f-6f95-4a6c-a4d1-3cf3267be756.jpg?aki_policy=large', 'https://a0.muscache.com/im/pictures/41cfa027-8e39-4042-81fb-69e973f77949.jpg?aki_policy=large', 'https://a0.muscache.com/im/pictures/6ba20503-d6cb-4a08-bb4b-4603ad413ebd.jpg?aki_policy=large', 'https://a0.muscache.com/im/pictures/77ae1e2d-c5fa-4ccb-8d78-d761a98c5bc0.jpg?aki_policy=large', 'https://a0.muscache.com/im/pictures/2b0e1a08-4a22-4ab5-9eb7-f62c6f8cb39c.jpg?aki_policy=large']\n",
      "||                        picture || : {'id': 252095023, 'dominant_saturated_color': '#787878', 'large_ro': 'https://a0.muscache.com/im/pictures/7be66c81-1f7a-4337-9582-cb714087dde2.jpg?aki_policy=large_ro', 'picture': 'https://a0.muscache.com/im/pictures/7be66c81-1f7a-4337-9582-cb714087dde2.jpg?aki_policy=large', 'preview_encoded_png': 'iVBORw0KGgoAAAANSUhEUgAAAAUAAAADCAIAAADUVFKvAAAAO0lEQVQIHQEwAM//ASIeGHRoUlpALwofOMO+xwHfsnoJGSXt6voWLkjKvbUBtY1hFRIPo7LaKSorA/XsqqcTUSI1U+gAAAAASUVORK5CYII=', 'saturated_a11y_dark_color': '#787878', 'scrim_color': '#0F0C13'}\n",
      "||              preview_amenities || : Wifi, Kitchen, Washer\n",
      "||            preview_encoded_png || : iVBORw0KGgoAAAANSUhEUgAAAAUAAAADCAIAAADUVFKvAAAAO0lEQVQIHQEwAM//ASIeGHRoUlpALwofOMO+xwHfsnoJGSXt6voWLkjKvbUBtY1hFRIPo7LaKSorA/XsqqcTUSI1U+gAAAAASUVORK5CYII=\n",
      "||               property_type_id || : 1\n",
      "||                  reviews_count || : 97\n",
      "||         room_and_property_type || : Entire apartment\n",
      "||             room_type_category || : entire_home\n",
      "||                      room_type || : Entire home/apt\n",
      "||                    scrim_color || : #0F0C13\n",
      "||           show_structured_name || : False\n",
      "||                     space_type || : Entire apartment\n",
      "||                    star_rating || : 5.0\n",
      "||                        tier_id || : 0\n",
      "||                           user || : {'first_name': ' ', 'has_profile_pic': True, 'id': 110426916, 'is_superhost': True, 'picture_url': 'https://a0.muscache.com/im/pictures/970eb53a-a8bd-4a04-a6dc-861846582771.jpg?aki_policy=profile_x_medium', 'smart_name': ' ', 'thumbnail_url': 'https://a0.muscache.com/im/pictures/970eb53a-a8bd-4a04-a6dc-861846582771.jpg?aki_policy=profile_small'}\n",
      "||            wide_kicker_content || : {'messages': ['Entire apartment']}\n",
      "||                 public_address || : Yongsan-gu, Seoul, South Korea\n",
      "||                    seo_reviews || : []\n",
      "||                    amenity_ids || : [1, 2, 3, 4, 5, 8, 14, 21, 28, 30, 31, 33, 34, 35, 36, 37, 38, 39, 40, 41, 42, 43, 44, 45, 46, 47, 57]\n",
      "||          preview_amenity_names || : ['Wifi', 'Kitchen', 'Washer']\n",
      "||                        reviews || : []\n"
     ]
    }
   ],
   "source": [
    "# listing의 키밸류 쌍을 뽑아보자\n",
    "for k,v in res_jsn['explore_tabs'][0]['sections'][1]['listings'][10]['listing'].items():\n",
    "     print(\"|| %30s || : %s\" % (k,v)) # (|| key || : value) 형태로 출력\n"
   ]
  },
  {
   "cell_type": "code",
   "execution_count": null,
   "metadata": {},
   "outputs": [],
   "source": []
  },
  {
   "cell_type": "code",
   "execution_count": 12,
   "metadata": {},
   "outputs": [
    {
     "data": {
      "text/plain": [
       "[]"
      ]
     },
     "execution_count": 12,
     "metadata": {},
     "output_type": "execute_result"
    }
   ],
   "source": [
    "res_jsn['explore_tabs'][0]['experiments_metadata'] # 뭐없다"
   ]
  },
  {
   "cell_type": "markdown",
   "metadata": {},
   "source": [
    "home_tab에 대한 메타데이터도 뽑아보자\n",
    "\n",
    "결과적으로 여기의 remarketing_ids 에서 숙소 id를 바로 뽑는다"
   ]
  },
  {
   "cell_type": "code",
   "execution_count": 13,
   "metadata": {},
   "outputs": [
    {
     "name": "stdout",
     "output_type": "stream",
     "text": [
      "||             urgency_commitment || : {'message_type': 'empty_message', 'message': {}}\n",
      "|| golden_ticket_urgency_commitment || : {'message_type': 'empty_message', 'message': {}}\n",
      "|| listing_cards_urgency_commitment_metadata || : []\n",
      "|| listing_cards_price_line_urgency_commitment_metadata || : []\n",
      "||                       messages || : {}\n",
      "||                         facets || : {}\n",
      "||                      overrides || : {}\n",
      "||              search_feed_items || : []\n",
      "||                remarketing_ids || : [8213750, 11444903, 18956008, 12778317, 22320269, 4619104, 19777144, 17560209, 16683321, 16965764, 22133272, 18739581, 18967029, 20719576, 19634147, 20129439, 1753246, 17578320, 10044927, 21007367, 12857880, 14440359, 20763289, 15596154, 18385571, 4258317, 14069246, 19378056, 17481718, 15649684, 9710807, 8996724, 22056285, 20292369, 19576908, 18473432, 1077893, 16013768, 17660903, 14885947, 11802302, 5714483, 19433253, 10127540, 9715695, 7128212, 1634115, 982772, 24129062, 14482939, 20546115, 18166957, 825230, 19778279, 9663158, 18675619, 13921817, 8777431, 21705098, 14976052, 25764855, 18562564, 10969312, 14578227, 21742234, 18641438, 17482061, 21959899, 23722060, 14951883, 15429401, 16305610, 20184364, 8108953, 22241038, 21901887, 18793625, 19678445, 19564652, 18501662, 17215696, 21920181, 8139172, 1755951, 18277895, 1764218, 15089817, 15306314, 12142413, 17370939, 16589888, 19772800, 11573127, 16139057, 21329957, 13775341, 16007254, 20426343, 26262255, 19227515]\n",
      "||                       location || : {'canonical_location': 'Seoul, South Korea', 'display_location': 'Seoul'}\n",
      "||                    breadcrumbs || : [{'location_name': 'South Korea', 'canonical_location_name': 'South Korea', 'type': 'country'}, {'location_name': 'Seoul', 'canonical_location_name': 'Seoul, South Korea', 'type': 'state'}, {'location_name': 'Seoul', 'canonical_location_name': 'Seoul, South Korea', 'type': 'city'}]\n",
      "||                 listings_count || : 1001\n",
      "||                         search || : {'native_currency': 'KRW', 'price_range_max_native': 1000000, 'price_range_min_native': 11000, 'price_type': 'nightly', 'search_id': '46d3efc5-f986-4b8b-b315-af3a94680376', 'mobile_session_id': 'fAJQlQyk', 'is_business_travel_verified': False, 'business_travel_ready_data': {'filter_criteria': {}, 'show_btr_upsell': False}}\n",
      "||                      geography || : {'accuracy': 4, 'city': 'Seoul', 'country_code': 'KR', 'country': 'South Korea', 'lat': 37.566535, 'lng': 126.9779692, 'place_id': 'ChIJzWXFYYuifDUR64Pq5LTtioU', 'precision': 'city', 'result_type': 'locality', 'state': 'Seoul', 'state_short': 'Seoul', 'extended_precision': 'city'}\n",
      "||                price_histogram || : {'average_price': 57283, 'histogram': [150, 127, 307, 233, 681, 875, 1245, 1140, 1509, 2008, 1322, 1670, 1180, 910, 791, 353, 287, 211, 251, 134, 113, 161, 45, 59, 83, 31, 41, 59, 33, 30, 28, 10, 3, 14, 7, 22, 8, 11, 5, 2, 6, 8, 1, 1, 3, 0, 0, 1, 1, 30]}\n"
     ]
    }
   ],
   "source": [
    "for k,v in res_jsn['explore_tabs'][0]['home_tab_metadata'].items():\n",
    "    if k == 'filters': continue # filters 너무 많아 출력 안하겠다\n",
    "    print(\"|| %30s || : %s\" % (k,v)) # (|| key || : value) 형태로 출력"
   ]
  },
  {
   "cell_type": "code",
   "execution_count": 14,
   "metadata": {},
   "outputs": [],
   "source": [
    "# res_jsn['explore_tabs'][0]['home_tab_metadata']['filters'] # 필터 정보 들여다볼 필요있으면 켜보자"
   ]
  },
  {
   "cell_type": "code",
   "execution_count": 15,
   "metadata": {},
   "outputs": [
    {
     "data": {
      "text/plain": [
       "{'current_tab_id': 'home_tab',\n",
       " 'request_uuid': '44734ba5-83ed-4b45-8575-dca541f1e5ee',\n",
       " 'search_id': '44734ba5-83ed-4b45-8575-dca541f1e5ee',\n",
       " 'query': '서울',\n",
       " 'query_text': '서울특별시 · Homes',\n",
       " 'current_refinement_paths': ['/homes'],\n",
       " 'federated_search_id': '7ac2d6a3-e859-4cf1-aa51-1fe67d422f33',\n",
       " 'federated_search_session_id': '1952caa0-a801-44bb-a9e7-cb7aabcaff7c',\n",
       " 'suggestions': [{'title': 'All',\n",
       "   'type': 'for_you',\n",
       "   'search_params': {'params': [],\n",
       "    'query': '서울',\n",
       "    'refinement_paths': ['/for_you'],\n",
       "    'refinement_path': '/for_you',\n",
       "    'tab_id': 'all_tab'},\n",
       "   'is_selected': False},\n",
       "  {'title': 'Homes',\n",
       "   'type': 'homes',\n",
       "   'search_params': {'params': [],\n",
       "    'query': '서울',\n",
       "    'refinement_paths': ['/homes'],\n",
       "    'refinement_path': '/homes',\n",
       "    'tab_id': 'home_tab'},\n",
       "   'is_selected': True},\n",
       "  {'title': 'Experiences',\n",
       "   'type': 'experiences',\n",
       "   'search_params': {'params': [],\n",
       "    'query': '서울',\n",
       "    'refinement_paths': ['/experiences'],\n",
       "    'refinement_path': '/experiences',\n",
       "    'tab_id': 'experience_tab'},\n",
       "   'is_selected': False}],\n",
       " 'has_map': True,\n",
       " 'show_as_hint': False,\n",
       " 'marquee_mode': 'DEFAULT',\n",
       " 'satori_version': '1.0.3',\n",
       " 'gtm_experiments': [],\n",
       " 'saved_search_responses': [],\n",
       " 'map_toggle': False,\n",
       " 'price_display_strategy': 'CONTROL',\n",
       " 'satori_config': {'market': 'Seoul',\n",
       "  'state_code': '',\n",
       "  'country_code': 'KR',\n",
       "  'region_id': -1,\n",
       "  'version': '1.1.0'},\n",
       " 'page_metadata': {'page_title': '서울특별시 · Homes · Airbnb',\n",
       "  'render_type': 'EXPLORE'}}"
      ]
     },
     "execution_count": 15,
     "metadata": {},
     "output_type": "execute_result"
    }
   ],
   "source": [
    "res_jsn['metadata'] # 마지막으로 res_json 전체에 대한 metadata이다"
   ]
  },
  {
   "cell_type": "code",
   "execution_count": null,
   "metadata": {},
   "outputs": [],
   "source": [
    "home = {}\n",
    "except_cnt = 0\n",
    "while int(params['price_max']) < 1000000:\n",
    "    print(params['price_min'],params['price_max'])\n",
    "    \n",
    "    retry = 3 # request 예외발생시 재시도 횟수\n",
    "    while retry !=0:\n",
    "        try:\n",
    "            resp = requests.get(url,params=params)\n",
    "            res_jsn = resp.json()\n",
    "            home_count = len(res_jsn['explore_tabs'][0]['sections'][1]['listings'])\n",
    "            break\n",
    "\n",
    "        except Exception as e:\n",
    "            retry -= 1\n",
    "            print('ERR: btw {} and {}'.format(params['price_min'],params['price_max']),end='|')\n",
    "            print(e)\n",
    "            time.sleep(1)\n",
    "            continue\n",
    "    \n",
    "    if retry ==0:\n",
    "        print('해당 데이터 못가져옴')\n",
    "        except_cnt += 1\n",
    "        continue\n",
    "    if home_count > 0:\n",
    "        print('해당가격대 숙소 count: ',home_count)\n",
    "        for el in res_jsn['explore_tabs'][0]['sections'][1]['listings']:\n",
    "            tmp_dict = el['listing']\n",
    "            tmp_id = str(tmp_dict['id'])\n",
    "#             if home.get(tmp_id) is not None: print('home_id {} is overlapped, be updated'.format(tmp_id))\n",
    "            del tmp_dict['id']\n",
    "            home[tmp_id] = tmp_dict\n",
    "    \n",
    "    if int(params['price_max']) < 100000: # 십만원 기준으로 그미만은 100원단위, 이상은 1000원 단위로 request\n",
    "        params['price_min'] = str(int(params['price_min']) + 100) # 가격필터 변경(100원단위)\n",
    "        params['price_max'] = str(int(params['price_min']) + 99)\n",
    "    else:\n",
    "        params['price_min'] = str(int(params['price_min']) + 1000) # 가격필터 변경(1000원단위)\n",
    "        params['price_max'] = str(int(params['price_min']) + 999)\n"
   ]
  },
  {
   "cell_type": "code",
   "execution_count": null,
   "metadata": {},
   "outputs": [],
   "source": [
    "with open('home_jsn_14610.json','w') as fp:\n",
    "    json.dump(home,fp)"
   ]
  }
 ],
 "metadata": {
  "kernelspec": {
   "display_name": "Python 3",
   "language": "python",
   "name": "python3"
  },
  "language_info": {
   "codemirror_mode": {
    "name": "ipython",
    "version": 3
   },
   "file_extension": ".py",
   "mimetype": "text/x-python",
   "name": "python",
   "nbconvert_exporter": "python",
   "pygments_lexer": "ipython3",
   "version": "3.6.7"
  }
 },
 "nbformat": 4,
 "nbformat_minor": 2
}
