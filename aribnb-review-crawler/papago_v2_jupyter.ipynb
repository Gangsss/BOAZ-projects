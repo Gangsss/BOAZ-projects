{
 "cells": [
  {
   "cell_type": "code",
   "execution_count": null,
   "metadata": {},
   "outputs": [
    {
     "data": {
      "application/vnd.jupyter.widget-view+json": {
       "model_id": "409d37ecb9144178a0da1b81569ea3ff",
       "version_major": 2,
       "version_minor": 0
      },
      "text/plain": [
       "HBox(children=(IntProgress(value=0, description='숙소 수', max=1616), HTML(value='')))"
      ]
     },
     "metadata": {},
     "output_type": "display_data"
    },
    {
     "name": "stdout",
     "output_type": "stream",
     "text": [
      "1번째 집 시작\n"
     ]
    },
    {
     "data": {
      "application/vnd.jupyter.widget-view+json": {
       "model_id": "42d548bfd8304a1286a28ff45ee2032f",
       "version_major": 2,
       "version_minor": 0
      },
      "text/plain": [
       "HBox(children=(IntProgress(value=0, description='변역루프', max=181), HTML(value='')))"
      ]
     },
     "metadata": {},
     "output_type": "display_data"
    },
    {
     "name": "stdout",
     "output_type": "stream",
     "text": [
      "10번째는 영어입니다. 번역을 하지 않습니다.\n",
      "13번째는 영어입니다. 번역을 하지 않습니다.\n",
      "10046627의18번째에서 오류가 났습니다.\n",
      "좋았어요\n",
      "21번째는 영어입니다. 번역을 하지 않습니다.\n",
      "41번째는 영어입니다. 번역을 하지 않습니다.\n",
      "54번째는 영어입니다. 번역을 하지 않습니다.\n",
      "61번째는 영어입니다. 번역을 하지 않습니다.\n",
      "62번째는 영어입니다. 번역을 하지 않습니다.\n",
      "10046627의79번째에서 오류가 났습니다.\n",
      "좋아요.\n",
      "106번째는 영어입니다. 번역을 하지 않습니다.\n",
      "111번째는 영어입니다. 번역을 하지 않습니다.\n",
      "120번째는 영어입니다. 번역을 하지 않습니다.\n"
     ]
    }
   ],
   "source": [
    "from selenium import webdriver\n",
    "from bs4 import BeautifulSoup\n",
    "import time\n",
    "import requests\n",
    "from selenium.common.exceptions import NoSuchElementException, StaleElementReferenceException\n",
    "import json\n",
    "from tqdm import tnrange,tqdm_notebook\n",
    "from selenium.webdriver.chrome.options import Options\n",
    "# setup Driver|Chrome : 크롬드라이버를 사용하는 driver 생성\n",
    "\n",
    "with open('review_daegu_33689.json','r',encoding='UTF8') as fp:  # 파일 열기\n",
    "    review = json.load(fp)\n",
    "\n",
    "\n",
    "driver = webdriver.Chrome('C:\\\\Users\\\\Kim\\\\Desktop/chromedriver')\n",
    "#driver = webdriver.PhantomJS('C:\\\\Users\\\\Kim\\\\Desktop\\phantomjs') # 있는 거 선택하기\n",
    "driver.implicitly_wait(1.5)\n",
    "\n",
    "\n",
    "\n",
    "new_review={}\n",
    "k=1\n",
    "max_attempt = 3\n",
    "listing_id = review.keys()\n",
    "attempt = 0 \n",
    "\n",
    "\n",
    "for j in tnrange(len(listing_id),desc='숙소 수'):\n",
    "    l_id = list(listing_id)[j]\n",
    "    rev_lst = review[l_id]\n",
    "    print(str(k)+'번째 집 시작')\n",
    "    for i in tnrange(len(rev_lst), desc='변역루프'):\n",
    "        rev = rev_lst[i]\n",
    "        comment = rev['comments']\n",
    "        lang = rev['language']\n",
    "        language.append(lang)\n",
    "        if lang == 'en':\n",
    "            print(str(i+1)+'번째는 영어입니다. 번역을 하지 않습니다.')\n",
    "            rev['language'] = rev['language']+'_en'\n",
    "\n",
    "        elif len(comment)>=5000:\n",
    "            print(str(listing_id)+'의'+str(i+1)+'번째 리뷰는 5000자가 넘습니다.')\n",
    "            rev['language'] = rev['language']+'_5000'\n",
    "            print(comment)\n",
    "        else:\n",
    "            url = 'https://papago.naver.com/?sk=auto&tk=en&st='\n",
    "            driver.get(url)\n",
    "            driver.set_window_size(1024, 600) # 창크기 미리 설정\n",
    "            try:\n",
    "                input = driver.find_element_by_css_selector(\"#txtSource\")\n",
    "                input.send_keys(comment)\n",
    "                driver.implicitly_wait(2)\n",
    "                trans_button = driver.find_element_by_css_selector('#btnTranslate')\n",
    "                driver.implicitly_wait(2)\n",
    "                trans_button.click() # 한문장인 경우는 번역 버튼 눌러줘야한다.\n",
    "                if '\\n' in comment: #띄여져있는 문장입력시 늦어져서 로드가 안되서 error 나와서 충분히 쉬는 시간준다.\n",
    "                    time.sleep(2)\n",
    "                    for x in range(max_attempt): # 자동으로 번역 되는 경우있어서 세번의 확인 작업\n",
    "                        driver.implicitly_wait(3) # 다 써질때까지 기다리자\n",
    "                        target = driver.find_elements_by_xpath('//*[@id=\"txtTarget\"]/span') # 여러 문장인 경우가 있어서 elements라 함\n",
    "                        t_comment = ''\n",
    "                        for t in range(len(target)):\n",
    "                            t_comment= t_comment + target[t].text\n",
    "                else:\n",
    "                    driver.implicitly_wait(2) # 로드 될 때까지 2초 의무로 기다려주기\n",
    "                    target = driver.find_element_by_xpath('//*[@id=\"txtTarget\"]/span')\n",
    "                    t_comment= target.text\n",
    "                    \n",
    "                rev['t_comments'] = t_comment # json에 저장\n",
    "                rev['language'] = rev['language']+'_en'\n",
    "                    \n",
    "\n",
    "            except NoSuchElementException :  \n",
    "                print(str(l_id)+'의'+str(i+1)+'번째에서 오류가 났습니다.')\n",
    "                trans.append('error')\n",
    "                rev['error'] = 'True'\n",
    "                print(comment)\n",
    "            \n",
    "            except StaleElementReferenceException : # 한번 더 시도해보기\n",
    "                time.sleep(2)\n",
    "                target = driver.find_elements_by_xpath('//*[@id=\"txtTarget\"]/span') # 여러 문장인 경우가 있어서 elements라 함\n",
    "                t_comment = '' # 초기화 \n",
    "                trans_button.click()\n",
    "                for t in range(len(target)):\n",
    "                    t_comment= t_comment + target[t].text\n",
    "                rev['t_comments'] = t_comment # json에 저장\n",
    "                rev['language'] = rev['language']+'_en'\n",
    "\n",
    "                \n",
    "    print(str(k)+'번째 집 완료')\n",
    "    new_review[listing_id] = review[listing_id] # 집 하나 할때마다 새로운 딕셔너리에 넣기\n",
    "\n",
    "    if k%100 == 0: # 집 100개마다 저장\n",
    "        with open(str(k)+'_translated_review_daegu.json', 'w', encoding='UTF8') as fp: \n",
    "            json.dump(new_review, fp, ensure_ascii=False)\n",
    "        new_review = {} #딕셔너리 초기화\n",
    "        print(str(k)+'개 까지 저장완료')\n",
    "\n",
    "    k = k+1\n",
    "\n",
    "with open('all_translated_review_daegu.json', 'w', encoding='UTF8') as fp: \n",
    "    json.dump(review, fp, ensure_ascii=False)\n",
    "\n",
    "print('번역완료')"
   ]
  }
 ],
 "metadata": {
  "kernelspec": {
   "display_name": "Python 3",
   "language": "python",
   "name": "python3"
  },
  "language_info": {
   "codemirror_mode": {
    "name": "ipython",
    "version": 3
   },
   "file_extension": ".py",
   "mimetype": "text/x-python",
   "name": "python",
   "nbconvert_exporter": "python",
   "pygments_lexer": "ipython3",
   "version": "3.6.5"
  }
 },
 "nbformat": 4,
 "nbformat_minor": 2
}
