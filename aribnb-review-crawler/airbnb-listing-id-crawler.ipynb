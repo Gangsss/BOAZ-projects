{
 "cells": [
  {
   "cell_type": "code",
   "execution_count": 2,
   "metadata": {},
   "outputs": [],
   "source": [
    "url = \"https://api.airbnb.com/v2/explore_tabs\"\n",
    "params = {\n",
    "    'key':'d306zoyjsyarp7ifhu67rjxn52tv0t20',\n",
    "    '_format':'for_explore_search_web',\n",
    "    \n",
    "    'currency':'KRW',\n",
    "    'location':'서울',\n",
    "    'tab_id':'home_tab',\n",
    "    'items_per_grid':'306', # 최대 306 -> 수정할방법찾아야\n",
    "#     'section_offset':'1',\n",
    "#     'supports_for_you_v3':'true',\n",
    "#     'timezone_offset':'300',\n",
    "    'price_max':'11500',\n",
    "    'price_min':'11000',\n",
    "    'version':'1.3.9'\n",
    "    }"
   ]
  },
  {
   "cell_type": "code",
   "execution_count": 5,
   "metadata": {},
   "outputs": [],
   "source": [
    "import requests\n",
    "import time\n",
    "import json\n",
    "\n",
    "for i in range(100):    #1980으로 바꾸기 전 실험\n",
    "    id_new = []\n",
    "    resp = requests.get(url,params=params)\n",
    "    time.sleep(2)\n",
    "    res_jsn = resp.json()\n",
    "    #최소 가격기준 json파일 저장\n",
    "    with open('listinngs_all'+str(params['price_min']),'w',encoding='UTF8') as fp: # encoding 설정 해줘야 한다.\n",
    "        json.dump(res_jsn,fp,ensure_ascii=False)\n",
    "    #listing_id 저장     \n",
    "    id_new = res_jsn['explore_tabs'][0]['home_tab_metadata']['remarketing_ids']\n",
    "    id.append(id_new)\n",
    "    #500원씩 올려가면서 crawling\n",
    "    params['price_min'] = params['price_max']\n",
    "    params['price_max'] = int(params['price_max']) + 500"
   ]
  },
  {
   "cell_type": "code",
   "execution_count": null,
   "metadata": {},
   "outputs": [],
   "source": [
    "id= [item for sublist in id for item in sublist] # 리스트 안 리스트 풀기"
   ]
  },
  {
   "cell_type": "code",
   "execution_count": null,
   "metadata": {},
   "outputs": [],
   "source": [
    "len(list(set(id))) #4231나옴"
   ]
  }
 ],
 "metadata": {
  "kernelspec": {
   "display_name": "Python 3",
   "language": "python",
   "name": "python3"
  },
  "language_info": {
   "codemirror_mode": {
    "name": "ipython",
    "version": 3
   },
   "file_extension": ".py",
   "mimetype": "text/x-python",
   "name": "python",
   "nbconvert_exporter": "python",
   "pygments_lexer": "ipython3",
   "version": "3.6.5"
  }
 },
 "nbformat": 4,
 "nbformat_minor": 2
}
