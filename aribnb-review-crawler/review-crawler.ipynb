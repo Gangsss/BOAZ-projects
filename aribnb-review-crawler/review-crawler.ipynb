{
 "cells": [
  {
   "cell_type": "code",
   "execution_count": 1,
   "metadata": {},
   "outputs": [],
   "source": [
    "import requests\n",
    "import json\n",
    "from tqdm import tqdm\n",
    "import time"
   ]
  },
  {
   "cell_type": "markdown",
   "metadata": {},
   "source": [
    "예시코드 listing_id = '6261834'"
   ]
  },
  {
   "cell_type": "code",
   "execution_count": 2,
   "metadata": {},
   "outputs": [],
   "source": [
    "url = \"https://www.airbnb.co.kr/api/v2/reviews\"\n",
    "params = {\n",
    "    'key':'d306zoyjsyarp7ifhu67rjxn52tv0t20',\n",
    "    'currency':'KRW',\n",
    "    'locale':'ko',\n",
    "    'listing_id':'6261834',\n",
    "    'role':'guest',\n",
    "    '_format':'for_p3',\n",
    "    '_limit':'100', # 몇개의 게시물을 보여줄 것인가(100개 이하로 설정가능)\n",
    "    '_offset':'0',# 몇번째 게시물부터 시작할 것인가 0부터 시작\n",
    "    '_order':'language_country'}"
   ]
  },
  {
   "cell_type": "markdown",
   "metadata": {},
   "source": [
    "##### https://www.airbnb.co.kr/api/v2/reviews?key=d306zoyjsyarp7ifhu67rjxn52tv0t20&currency=KRW&locale=ko&listing_id=6261834&role=guest&_format=for_p3&_limit=7&_offset=7&_order=language_country"
   ]
  },
  {
   "cell_type": "code",
   "execution_count": 3,
   "metadata": {},
   "outputs": [],
   "source": [
    "response = requests.get(url,params=params).text"
   ]
  },
  {
   "cell_type": "code",
   "execution_count": 4,
   "metadata": {
    "scrolled": true
   },
   "outputs": [],
   "source": [
    "result = json.loads(response)"
   ]
  },
  {
   "cell_type": "markdown",
   "metadata": {},
   "source": [
    "- result:{'reviews', 'metadata'}\n",
    "    -  reviews:[100 items]: {'collection_tag', __'comments'__, 'created_at', __'id'__, 'language', 'localized_date', 'rating', 'response', 'reviewee', __'reviewer'__}\n",
    "    - metadata:{'reviews_count', 'should_show_review_translations'}"
   ]
  },
  {
   "cell_type": "code",
   "execution_count": 5,
   "metadata": {},
   "outputs": [
    {
     "name": "stdout",
     "output_type": "stream",
     "text": [
      "||                 collection_tag || : None\n",
      "||                       comments || : 너무 깨끗하고 좋았습니다.\n",
      "||                     created_at || : 2018-10-29T07:04:45Z\n",
      "||                             id || : 342585456\n",
      "||                       language || : ko\n",
      "||                 localized_date || : 2018년 10월\n",
      "||                         rating || : 5\n",
      "||                       response || : \n",
      "||                       reviewee || : {'deleted': False, 'first_name': '현아', 'host_name': '현아', 'id': 24468677, 'is_superhost': False, 'picture_url': 'https://a0.muscache.com/im/pictures/5af5aaac-5719-4708-8056-b32d76f23b44.jpg?aki_policy=profile_x_medium', 'profile_path': '/users/show/24468677'}\n",
      "||                       reviewer || : {'deleted': False, 'first_name': 'Doohoon', 'host_name': 'Doohoon', 'id': 81515153, 'is_superhost': False, 'picture_url': 'https://a0.muscache.com/im/pictures/user/c9774fbd-6469-4db7-81a1-f374743fcad8.jpg?aki_policy=profile_x_medium', 'profile_path': '/users/show/81515153'}\n"
     ]
    }
   ],
   "source": [
    "for k,v in result['reviews'][0].items():\n",
    "     print(\"|| %30s || : %s\" % (k,v)) # (|| key || : value) 형태로 출력"
   ]
  },
  {
   "cell_type": "code",
   "execution_count": null,
   "metadata": {},
   "outputs": [],
   "source": []
  },
  {
   "cell_type": "markdown",
   "metadata": {},
   "source": [
    "### listing_id 이용한 리뷰데이터 크롤링(서울)"
   ]
  },
  {
   "cell_type": "code",
   "execution_count": 2,
   "metadata": {},
   "outputs": [],
   "source": [
    "import requests\n",
    "import json\n",
    "from tqdm import tqdm\n",
    "import time"
   ]
  },
  {
   "cell_type": "code",
   "execution_count": 3,
   "metadata": {},
   "outputs": [
    {
     "data": {
      "text/plain": [
       "'C:\\\\Users\\\\Chankoo\\\\Desktop\\\\GitHub\\\\BOAZ-projects\\\\aribnb-review-crawler'"
      ]
     },
     "execution_count": 3,
     "metadata": {},
     "output_type": "execute_result"
    }
   ],
   "source": [
    "pwd"
   ]
  },
  {
   "cell_type": "code",
   "execution_count": 4,
   "metadata": {},
   "outputs": [],
   "source": [
    "# 14610개 숙소 정보담은 home_jsn_314610,json 파일 불러오자, 경로설정은 각자하시길 \n",
    "with open('C:\\\\Users\\\\Chankoo\\\\Desktop\\\\GitHub\\\\BOAZ-projects\\\\airbnb-data\\\\home_jsn_14610.json','r') as fp: \n",
    "    home_jsn = json.load(fp)"
   ]
  },
  {
   "cell_type": "markdown",
   "metadata": {},
   "source": [
    "14610개 숙소의 모든 리뷰를 긁어오자"
   ]
  },
  {
   "cell_type": "code",
   "execution_count": 116,
   "metadata": {},
   "outputs": [],
   "source": [
    "listing_ids = list(home_jsn.keys())"
   ]
  },
  {
   "cell_type": "markdown",
   "metadata": {},
   "source": [
    "전역변수"
   ]
  },
  {
   "cell_type": "code",
   "execution_count": 203,
   "metadata": {},
   "outputs": [],
   "source": [
    "url = \"https://www.airbnb.co.kr/api/v2/reviews\"\n",
    "headers = {'User-Agent':'Mozilla/5.0 (X11; Linux x86_64) AppleWebKit/537.36 (KHTML, like Gecko) Chrome/70.0.3538.77 Safari/537.36'}\n",
    "\n",
    "params = {\n",
    "        'key':'d306zoyjsyarp7ifhu67rjxn52tv0t20',\n",
    "#         'currency':'KRW',\n",
    "#         'locale':'ko',\n",
    "#         'listing_id':\n",
    "        'role':'guest',\n",
    "        '_format':'for_p3',\n",
    "#         '_limit':'100', # 몇개의 게시물을 보여줄 것인가(100개 이하로 설정가능)\n",
    "#         '_offset':'0',# 몇번째 게시물부터 시작할 것인가 0부터 시작\n",
    "#         '_order':'recent'\n",
    "            }\n",
    "\n",
    "review_jsn ={} # 리뷰데이터를 json으로 저장하기위해 우선 dict 생성\n",
    "review_cnt_total = 0"
   ]
  },
  {
   "cell_type": "markdown",
   "metadata": {},
   "source": [
    "listing_id 이용해 숙소의 메타데이터 중 리뷰 수를 가져오는 함수"
   ]
  },
  {
   "cell_type": "code",
   "execution_count": 204,
   "metadata": {},
   "outputs": [],
   "source": [
    "def get_review_count(listing_id,params=params,url=url,headers=headers)->int:\n",
    "    params_local = params.copy()\n",
    "    review_jsn[listing_id] = [] # listing_id 키로 갖는 리뷰리스트 쌓자\n",
    "    params_local['listing_id'] = listing_id # 리스팅 id를 해당 listing_id로 설정\n",
    "    listing_id_res = requests.get(url, params=params_local, headers=headers).json() # 메타데이터 따기위한 request\n",
    "    \n",
    "    review_count= listing_id_res['metadata']['reviews_count'] # response하는 리뷰개수가 제한적(100개)이므로 리뷰수 따라 조정필요\n",
    "    \n",
    "    global review_cnt_total \n",
    "    review_cnt_total += review_count # 전역변수 review_cnt_total에 합산\n",
    "    \n",
    "    del params_local\n",
    "    return review_count\n",
    "    "
   ]
  },
  {
   "cell_type": "markdown",
   "metadata": {},
   "source": [
    "listing_id와 review_count 이용해 리뷰를 review_jsn에 저장하는 함수"
   ]
  },
  {
   "cell_type": "code",
   "execution_count": 205,
   "metadata": {},
   "outputs": [],
   "source": [
    "def get_reviews(listing_id,review_count,params=params,url=url,headers=headers):\n",
    "    params_local = params.copy()\n",
    "    params_local['listing_id'] = listing_id\n",
    "    params_local['_limit'] = 100 # 최대 100개 리뷰 보겠다\n",
    "    review_count_iter = review_count//100 # 100개단위로 리뷰개수 끊어줌 -> loop 돌아갈 횟수\n",
    "    review_count_rest = review_count%100 # 100개 미만 나머지 리뷰의 수 -> loop 이후 가져올 나머지 리뷰 \n",
    "    \n",
    "    # loop 시작\n",
    "    for i in range(review_count_iter): # 리뷰개수 100개 단위로 반복\n",
    "#         print('iter:',i)\n",
    "        params_local['_offset'] = 100*i\n",
    "\n",
    "        print(params_local)\n",
    "        res_100_reviews = requests.get(url, params=params_local, headers=headers).json()\n",
    "        review_jsn[listing_id].extend(res_100_reviews['reviews']) # listing_id 를 key로 100개의 리뷰데이터를 쌓음\n",
    "    \n",
    "    # loop 끝 -> 나머지 리뷰 가져오기\n",
    "    if review_count_rest >0:\n",
    "        params_local['_limit'] = review_count_rest # 100개 미만 나머지 리뷰에 대해\n",
    "        params_local['_offset'] = 100*review_count_iter\n",
    "\n",
    "        print(params_local)\n",
    "        res_rest_reviews = requests.get(url, params=params_local, headers=headers).json()\n",
    "        review_jsn[listing_id].extend(res_rest_reviews['reviews'])\n",
    "        del params_local"
   ]
  },
  {
   "cell_type": "markdown",
   "metadata": {},
   "source": [
    "메인\n"
   ]
  },
  {
   "cell_type": "code",
   "execution_count": null,
   "metadata": {},
   "outputs": [],
   "source": []
  },
  {
   "cell_type": "code",
   "execution_count": 206,
   "metadata": {},
   "outputs": [
    {
     "data": {
      "text/plain": [
       "{'_format': 'for_p3',\n",
       " 'key': 'd306zoyjsyarp7ifhu67rjxn52tv0t20',\n",
       " 'role': 'guest'}"
      ]
     },
     "execution_count": 206,
     "metadata": {},
     "output_type": "execute_result"
    }
   ],
   "source": [
    "params"
   ]
  },
  {
   "cell_type": "code",
   "execution_count": 207,
   "metadata": {},
   "outputs": [
    {
     "name": "stderr",
     "output_type": "stream",
     "text": [
      "\n",
      "\n",
      "\n",
      "\n",
      "\n",
      "\n",
      "\n",
      "\n",
      "\n",
      "\n",
      "\n",
      "\n",
      "\n",
      "\n",
      "\n",
      "\n",
      "\n",
      "\n",
      "  0%|                                                                                        | 0/14610 [00:00<?, ?it/s]"
     ]
    },
    {
     "name": "stdout",
     "output_type": "stream",
     "text": [
      "{'key': 'd306zoyjsyarp7ifhu67rjxn52tv0t20', 'role': 'guest', '_format': 'for_p3', 'listing_id': '18551259', '_limit': 69, '_offset': 0}\n"
     ]
    },
    {
     "name": "stderr",
     "output_type": "stream",
     "text": [
      "\n",
      "\n",
      "\n",
      "\n",
      "\n",
      "\n",
      "\n",
      "\n",
      "\n",
      "\n",
      "\n",
      "\n",
      "\n",
      "\n",
      "\n",
      "\n",
      "\n",
      "\n",
      "  0%|                                                                              | 1/14610 [00:01<7:20:03,  1.81s/it]"
     ]
    },
    {
     "name": "stdout",
     "output_type": "stream",
     "text": [
      "{'key': 'd306zoyjsyarp7ifhu67rjxn52tv0t20', 'role': 'guest', '_format': 'for_p3', 'listing_id': '21841919', '_limit': 28, '_offset': 0}\n"
     ]
    },
    {
     "name": "stderr",
     "output_type": "stream",
     "text": [
      "\n",
      "\n",
      "\n",
      "\n",
      "\n",
      "\n",
      "\n",
      "\n",
      "\n",
      "\n",
      "\n",
      "\n",
      "\n",
      "\n",
      "\n",
      "\n",
      "\n",
      "\n",
      "  0%|                                                                              | 2/14610 [00:03<7:48:38,  1.92s/it]"
     ]
    },
    {
     "name": "stdout",
     "output_type": "stream",
     "text": [
      "{'key': 'd306zoyjsyarp7ifhu67rjxn52tv0t20', 'role': 'guest', '_format': 'for_p3', 'listing_id': '18518487', '_limit': 25, '_offset': 0}\n"
     ]
    },
    {
     "name": "stderr",
     "output_type": "stream",
     "text": [
      "\n",
      "\n",
      "\n",
      "\n",
      "\n",
      "\n",
      "\n",
      "\n",
      "\n",
      "\n",
      "\n",
      "\n",
      "\n",
      "\n",
      "\n",
      "\n",
      "\n",
      "\n",
      "  0%|                                                                              | 3/14610 [00:05<7:00:41,  1.73s/it]"
     ]
    },
    {
     "name": "stdout",
     "output_type": "stream",
     "text": [
      "{'key': 'd306zoyjsyarp7ifhu67rjxn52tv0t20', 'role': 'guest', '_format': 'for_p3', 'listing_id': '20835996', '_limit': 45, '_offset': 0}\n"
     ]
    },
    {
     "name": "stderr",
     "output_type": "stream",
     "text": [
      "\n",
      "\n",
      "\n",
      "\n",
      "\n",
      "\n",
      "\n",
      "\n",
      "\n",
      "\n",
      "\n",
      "\n",
      "\n",
      "\n",
      "\n",
      "\n",
      "\n",
      "\n",
      "  0%|                                                                              | 4/14610 [00:06<6:47:38,  1.67s/it]"
     ]
    },
    {
     "name": "stdout",
     "output_type": "stream",
     "text": [
      "{'key': 'd306zoyjsyarp7ifhu67rjxn52tv0t20', 'role': 'guest', '_format': 'for_p3', 'listing_id': '26311383', '_limit': 20, '_offset': 0}\n"
     ]
    },
    {
     "name": "stderr",
     "output_type": "stream",
     "text": [
      "\n",
      "\n",
      "\n",
      "\n",
      "\n",
      "\n",
      "\n",
      "\n",
      "\n",
      "\n",
      "\n",
      "\n",
      "\n",
      "\n",
      "\n",
      "\n",
      "\n",
      "\n",
      "  0%|                                                                              | 5/14610 [00:08<6:37:50,  1.63s/it]"
     ]
    },
    {
     "name": "stdout",
     "output_type": "stream",
     "text": [
      "{'key': 'd306zoyjsyarp7ifhu67rjxn52tv0t20', 'role': 'guest', '_format': 'for_p3', 'listing_id': '24399870', '_limit': 6, '_offset': 0}\n"
     ]
    },
    {
     "name": "stderr",
     "output_type": "stream",
     "text": [
      "\n",
      "\n",
      "\n",
      "\n",
      "\n",
      "\n",
      "\n",
      "\n",
      "\n",
      "\n",
      "\n",
      "\n",
      "\n",
      "\n",
      "\n",
      "\n",
      "\n",
      "\n",
      "  0%|                                                                              | 6/14610 [00:09<6:32:39,  1.61s/it]"
     ]
    },
    {
     "name": "stdout",
     "output_type": "stream",
     "text": [
      "{'key': 'd306zoyjsyarp7ifhu67rjxn52tv0t20', 'role': 'guest', '_format': 'for_p3', 'listing_id': '26165629', '_limit': 19, '_offset': 0}\n"
     ]
    },
    {
     "name": "stderr",
     "output_type": "stream",
     "text": [
      "\n",
      "\n",
      "\n",
      "\n",
      "\n",
      "\n",
      "\n",
      "\n",
      "\n",
      "\n",
      "\n",
      "\n",
      "\n",
      "\n",
      "\n",
      "\n",
      "\n",
      "\n",
      "  0%|                                                                              | 7/14610 [00:11<6:32:48,  1.61s/it]"
     ]
    },
    {
     "name": "stdout",
     "output_type": "stream",
     "text": [
      "{'key': 'd306zoyjsyarp7ifhu67rjxn52tv0t20', 'role': 'guest', '_format': 'for_p3', 'listing_id': '26260479', '_limit': 15, '_offset': 0}\n"
     ]
    },
    {
     "name": "stderr",
     "output_type": "stream",
     "text": [
      "\n",
      "\n",
      "\n",
      "\n",
      "\n",
      "\n",
      "\n",
      "\n",
      "\n",
      "\n",
      "\n",
      "\n",
      "\n",
      "\n",
      "\n",
      "\n",
      "\n",
      "\n",
      "  0%|                                                                              | 8/14610 [00:12<6:32:13,  1.61s/it]"
     ]
    },
    {
     "name": "stdout",
     "output_type": "stream",
     "text": [
      "{'key': 'd306zoyjsyarp7ifhu67rjxn52tv0t20', 'role': 'guest', '_format': 'for_p3', 'listing_id': '24535421', '_limit': 10, '_offset': 0}\n"
     ]
    },
    {
     "name": "stderr",
     "output_type": "stream",
     "text": [
      "\n",
      "\n",
      "\n",
      "\n",
      "\n",
      "\n",
      "\n",
      "\n",
      "\n",
      "\n",
      "\n",
      "\n",
      "\n",
      "\n",
      "\n",
      "\n",
      "\n",
      "\n",
      "  0%|                                                                              | 9/14610 [00:14<6:43:33,  1.66s/it]"
     ]
    },
    {
     "name": "stdout",
     "output_type": "stream",
     "text": [
      "{'key': 'd306zoyjsyarp7ifhu67rjxn52tv0t20', 'role': 'guest', '_format': 'for_p3', 'listing_id': '28422744', '_limit': 11, '_offset': 0}\n"
     ]
    },
    {
     "name": "stderr",
     "output_type": "stream",
     "text": [
      "\n",
      "\n",
      "\n",
      "\n",
      "\n",
      "\n",
      "\n",
      "\n",
      "\n",
      "\n",
      "\n",
      "\n",
      "\n",
      "\n",
      "\n",
      "\n",
      "\n",
      "\n",
      "  0%|                                                                             | 10/14610 [00:16<6:35:27,  1.63s/it]"
     ]
    },
    {
     "name": "stdout",
     "output_type": "stream",
     "text": [
      "{'key': 'd306zoyjsyarp7ifhu67rjxn52tv0t20', 'role': 'guest', '_format': 'for_p3', 'listing_id': '19914834', '_limit': 64, '_offset': 0}\n"
     ]
    },
    {
     "name": "stderr",
     "output_type": "stream",
     "text": [
      "\n",
      "\n",
      "\n",
      "\n",
      "\n",
      "\n",
      "\n",
      "\n",
      "\n",
      "\n",
      "\n",
      "\n",
      "\n",
      "\n",
      "\n",
      "\n",
      "\n",
      "\n",
      "  0%|                                                                             | 11/14610 [00:17<6:37:57,  1.64s/it]"
     ]
    },
    {
     "name": "stdout",
     "output_type": "stream",
     "text": [
      "{'key': 'd306zoyjsyarp7ifhu67rjxn52tv0t20', 'role': 'guest', '_format': 'for_p3', 'listing_id': '20679600', '_limit': 57, '_offset': 0}\n"
     ]
    },
    {
     "name": "stderr",
     "output_type": "stream",
     "text": [
      "\n",
      "\n",
      "\n",
      "\n",
      "\n",
      "\n",
      "\n",
      "\n",
      "\n",
      "\n",
      "\n",
      "\n",
      "\n",
      "\n",
      "\n",
      "\n",
      "\n",
      "\n",
      "  0%|                                                                             | 12/14610 [00:19<6:41:04,  1.65s/it]"
     ]
    },
    {
     "name": "stdout",
     "output_type": "stream",
     "text": [
      "{'key': 'd306zoyjsyarp7ifhu67rjxn52tv0t20', 'role': 'guest', '_format': 'for_p3', 'listing_id': '29509115', '_limit': 5, '_offset': 0}\n"
     ]
    },
    {
     "name": "stderr",
     "output_type": "stream",
     "text": [
      "\n",
      "\n",
      "\n",
      "\n",
      "\n",
      "\n",
      "\n",
      "\n",
      "\n",
      "\n",
      "\n",
      "\n",
      "\n",
      "\n",
      "\n",
      "\n",
      "\n",
      "\n",
      "  0%|                                                                             | 13/14610 [00:22<7:02:33,  1.74s/it]"
     ]
    },
    {
     "name": "stdout",
     "output_type": "stream",
     "text": [
      "{'key': 'd306zoyjsyarp7ifhu67rjxn52tv0t20', 'role': 'guest', '_format': 'for_p3', 'listing_id': '23439260', '_limit': 9, '_offset': 0}\n"
     ]
    },
    {
     "name": "stderr",
     "output_type": "stream",
     "text": [
      "\n",
      "\n",
      "\n",
      "\n",
      "\n",
      "\n",
      "\n",
      "\n",
      "\n",
      "\n",
      "\n",
      "\n",
      "\n",
      "\n",
      "\n",
      "\n",
      "\n",
      "\n",
      "  0%|                                                                             | 14/14610 [00:24<6:59:10,  1.72s/it]"
     ]
    },
    {
     "name": "stdout",
     "output_type": "stream",
     "text": [
      "{'key': 'd306zoyjsyarp7ifhu67rjxn52tv0t20', 'role': 'guest', '_format': 'for_p3', 'listing_id': '25064428', '_limit': 12, '_offset': 0}\n"
     ]
    },
    {
     "name": "stderr",
     "output_type": "stream",
     "text": [
      "\n",
      "\n",
      "\n",
      "\n",
      "\n",
      "\n",
      "\n",
      "\n",
      "\n",
      "\n",
      "\n",
      "\n",
      "\n",
      "\n",
      "\n",
      "\n",
      "\n",
      "\n",
      "  0%|                                                                             | 15/14610 [00:25<6:51:16,  1.69s/it]"
     ]
    },
    {
     "name": "stdout",
     "output_type": "stream",
     "text": [
      "{'key': 'd306zoyjsyarp7ifhu67rjxn52tv0t20', 'role': 'guest', '_format': 'for_p3', 'listing_id': '26038284', '_limit': 24, '_offset': 0}\n"
     ]
    },
    {
     "name": "stderr",
     "output_type": "stream",
     "text": [
      "\n",
      "\n",
      "\n",
      "\n",
      "\n",
      "\n",
      "\n",
      "\n",
      "\n",
      "\n",
      "\n",
      "\n",
      "\n",
      "\n",
      "\n",
      "\n",
      "\n",
      "\n",
      "  0%|                                                                             | 16/14610 [00:26<6:49:39,  1.68s/it]"
     ]
    },
    {
     "name": "stdout",
     "output_type": "stream",
     "text": [
      "{'key': 'd306zoyjsyarp7ifhu67rjxn52tv0t20', 'role': 'guest', '_format': 'for_p3', 'listing_id': '29502644', '_limit': 2, '_offset': 0}\n"
     ]
    },
    {
     "name": "stderr",
     "output_type": "stream",
     "text": [
      "\n",
      "\n",
      "\n",
      "\n",
      "\n",
      "\n",
      "\n",
      "\n",
      "\n",
      "\n",
      "\n",
      "\n",
      "\n",
      "\n",
      "\n",
      "\n",
      "\n",
      "\n",
      "  0%|                                                                             | 17/14610 [00:28<6:43:22,  1.66s/it]"
     ]
    },
    {
     "name": "stdout",
     "output_type": "stream",
     "text": [
      "{'key': 'd306zoyjsyarp7ifhu67rjxn52tv0t20', 'role': 'guest', '_format': 'for_p3', 'listing_id': '25065353', '_limit': 14, '_offset': 0}\n"
     ]
    },
    {
     "name": "stderr",
     "output_type": "stream",
     "text": [
      "\n",
      "\n",
      "\n",
      "\n",
      "\n",
      "\n",
      "\n",
      "\n",
      "\n",
      "\n",
      "\n",
      "\n",
      "\n",
      "\n",
      "\n",
      "\n",
      "\n",
      "\n",
      "  0%|                                                                             | 18/14610 [00:29<6:41:08,  1.65s/it]"
     ]
    },
    {
     "name": "stdout",
     "output_type": "stream",
     "text": [
      "{'key': 'd306zoyjsyarp7ifhu67rjxn52tv0t20', 'role': 'guest', '_format': 'for_p3', 'listing_id': '24159676', '_limit': 16, '_offset': 0}\n"
     ]
    },
    {
     "name": "stderr",
     "output_type": "stream",
     "text": [
      "\n",
      "\n",
      "\n",
      "\n",
      "\n",
      "\n",
      "\n",
      "\n",
      "\n",
      "\n",
      "\n",
      "\n",
      "\n",
      "\n",
      "\n",
      "\n",
      "\n",
      "\n",
      "  0%|                                                                             | 19/14610 [00:31<6:38:54,  1.64s/it]"
     ]
    },
    {
     "name": "stdout",
     "output_type": "stream",
     "text": [
      "{'key': 'd306zoyjsyarp7ifhu67rjxn52tv0t20', 'role': 'guest', '_format': 'for_p3', 'listing_id': '24901478', '_limit': 9, '_offset': 0}\n"
     ]
    },
    {
     "name": "stderr",
     "output_type": "stream",
     "text": [
      "\n",
      "\n",
      "\n",
      "\n",
      "\n",
      "\n",
      "\n",
      "\n",
      "\n",
      "\n",
      "\n",
      "\n",
      "\n",
      "\n",
      "\n",
      "\n",
      "\n",
      "\n",
      "  0%|                                                                             | 20/14610 [00:32<6:36:47,  1.63s/it]"
     ]
    },
    {
     "name": "stdout",
     "output_type": "stream",
     "text": [
      "{'key': 'd306zoyjsyarp7ifhu67rjxn52tv0t20', 'role': 'guest', '_format': 'for_p3', 'listing_id': '14715698', '_limit': 64, '_offset': 0}\n"
     ]
    },
    {
     "name": "stderr",
     "output_type": "stream",
     "text": [
      "\n",
      "\n",
      "\n",
      "\n",
      "\n",
      "\n",
      "\n",
      "\n",
      "\n",
      "\n",
      "\n",
      "\n",
      "\n",
      "\n",
      "\n",
      "\n",
      "\n",
      "\n",
      "  0%|                                                                             | 21/14610 [00:34<6:39:49,  1.64s/it]"
     ]
    },
    {
     "name": "stdout",
     "output_type": "stream",
     "text": [
      "{'key': 'd306zoyjsyarp7ifhu67rjxn52tv0t20', 'role': 'guest', '_format': 'for_p3', 'listing_id': '25064858', '_limit': 2, '_offset': 0}\n"
     ]
    },
    {
     "name": "stderr",
     "output_type": "stream",
     "text": [
      "\n",
      "\n",
      "\n",
      "\n",
      "\n",
      "\n",
      "\n",
      "\n",
      "\n",
      "\n",
      "\n",
      "\n",
      "\n",
      "\n",
      "\n",
      "\n",
      "\n",
      "\n",
      "  0%|                                                                             | 22/14610 [00:35<6:36:30,  1.63s/it]"
     ]
    },
    {
     "name": "stdout",
     "output_type": "stream",
     "text": [
      "{'key': 'd306zoyjsyarp7ifhu67rjxn52tv0t20', 'role': 'guest', '_format': 'for_p3', 'listing_id': '25291145', '_limit': 4, '_offset': 0}\n"
     ]
    },
    {
     "name": "stderr",
     "output_type": "stream",
     "text": [
      "\n",
      "\n",
      "\n",
      "\n",
      "\n",
      "\n",
      "\n",
      "\n",
      "\n",
      "\n",
      "\n",
      "\n",
      "\n",
      "\n",
      "\n",
      "\n",
      "\n",
      "\n",
      "  0%|                                                                             | 23/14610 [00:37<6:35:38,  1.63s/it]"
     ]
    },
    {
     "name": "stdout",
     "output_type": "stream",
     "text": [
      "{'key': 'd306zoyjsyarp7ifhu67rjxn52tv0t20', 'role': 'guest', '_format': 'for_p3', 'listing_id': '24901028', '_limit': 11, '_offset': 0}\n"
     ]
    },
    {
     "name": "stderr",
     "output_type": "stream",
     "text": [
      "\n",
      "\n",
      "\n",
      "\n",
      "\n",
      "\n",
      "\n",
      "\n",
      "\n",
      "\n",
      "\n",
      "\n",
      "\n",
      "\n",
      "\n",
      "\n",
      "\n",
      "\n",
      "  0%|▏                                                                            | 24/14610 [00:38<6:33:06,  1.62s/it]"
     ]
    },
    {
     "name": "stdout",
     "output_type": "stream",
     "text": [
      "{'key': 'd306zoyjsyarp7ifhu67rjxn52tv0t20', 'role': 'guest', '_format': 'for_p3', 'listing_id': '23751460', '_limit': 23, '_offset': 0}\n"
     ]
    },
    {
     "name": "stderr",
     "output_type": "stream",
     "text": [
      "\n",
      "\n",
      "\n",
      "\n",
      "\n",
      "\n",
      "\n",
      "\n",
      "\n",
      "\n",
      "\n",
      "\n",
      "\n",
      "\n",
      "\n",
      "\n",
      "\n",
      "\n",
      "  0%|▏                                                                            | 25/14610 [00:41<6:48:18,  1.68s/it]"
     ]
    },
    {
     "name": "stdout",
     "output_type": "stream",
     "text": [
      "{'key': 'd306zoyjsyarp7ifhu67rjxn52tv0t20', 'role': 'guest', '_format': 'for_p3', 'listing_id': '677424', '_limit': 100, '_offset': 0}\n",
      "{'key': 'd306zoyjsyarp7ifhu67rjxn52tv0t20', 'role': 'guest', '_format': 'for_p3', 'listing_id': '677424', '_limit': 91, '_offset': 100}\n"
     ]
    },
    {
     "name": "stderr",
     "output_type": "stream",
     "text": [
      "\n",
      "\n",
      "\n",
      "\n",
      "\n",
      "\n",
      "\n",
      "\n",
      "\n",
      "\n",
      "\n",
      "\n",
      "\n",
      "\n",
      "\n",
      "\n",
      "\n",
      "\n",
      "  0%|▏                                                                            | 26/14610 [00:47<7:24:14,  1.83s/it]"
     ]
    },
    {
     "name": "stdout",
     "output_type": "stream",
     "text": [
      "{'key': 'd306zoyjsyarp7ifhu67rjxn52tv0t20', 'role': 'guest', '_format': 'for_p3', 'listing_id': '13082759', '_limit': 66, '_offset': 0}\n"
     ]
    },
    {
     "name": "stderr",
     "output_type": "stream",
     "text": [
      "\n",
      "\n",
      "\n",
      "\n",
      "\n",
      "\n",
      "\n",
      "\n",
      "\n",
      "\n",
      "\n",
      "\n",
      "\n",
      "\n",
      "\n",
      "\n",
      "\n",
      "\n",
      "  0%|▏                                                                            | 27/14610 [00:49<7:28:08,  1.84s/it]"
     ]
    },
    {
     "name": "stdout",
     "output_type": "stream",
     "text": [
      "{'key': 'd306zoyjsyarp7ifhu67rjxn52tv0t20', 'role': 'guest', '_format': 'for_p3', 'listing_id': '25983022', '_limit': 4, '_offset': 0}\n"
     ]
    },
    {
     "name": "stderr",
     "output_type": "stream",
     "text": [
      "\n",
      "\n",
      "\n",
      "\n",
      "\n",
      "\n",
      "\n",
      "\n",
      "\n",
      "\n",
      "\n",
      "\n",
      "\n",
      "\n",
      "\n",
      "\n",
      "\n",
      "\n",
      "  0%|▏                                                                            | 28/14610 [00:51<7:22:45,  1.82s/it]"
     ]
    },
    {
     "name": "stdout",
     "output_type": "stream",
     "text": [
      "{'key': 'd306zoyjsyarp7ifhu67rjxn52tv0t20', 'role': 'guest', '_format': 'for_p3', 'listing_id': '10644346', '_limit': 49, '_offset': 0}\n"
     ]
    },
    {
     "name": "stderr",
     "output_type": "stream",
     "text": [
      "\n",
      "\n",
      "\n",
      "\n",
      "\n",
      "\n",
      "\n",
      "\n",
      "\n",
      "\n",
      "\n",
      "\n",
      "\n",
      "\n",
      "\n",
      "\n",
      "\n",
      "\n",
      "  0%|▏                                                                            | 29/14610 [00:53<7:25:37,  1.83s/it]"
     ]
    },
    {
     "name": "stdout",
     "output_type": "stream",
     "text": [
      "{'key': 'd306zoyjsyarp7ifhu67rjxn52tv0t20', 'role': 'guest', '_format': 'for_p3', 'listing_id': '13902596', '_limit': 46, '_offset': 0}\n"
     ]
    },
    {
     "name": "stderr",
     "output_type": "stream",
     "text": [
      "\n",
      "\n",
      "\n",
      "\n",
      "\n",
      "\n",
      "\n",
      "\n",
      "\n",
      "\n",
      "\n",
      "\n",
      "\n",
      "\n",
      "\n",
      "\n",
      "\n",
      "\n",
      "  0%|▏                                                                            | 30/14610 [00:54<7:23:43,  1.83s/it]"
     ]
    },
    {
     "name": "stdout",
     "output_type": "stream",
     "text": [
      "{'key': 'd306zoyjsyarp7ifhu67rjxn52tv0t20', 'role': 'guest', '_format': 'for_p3', 'listing_id': '21794339', '_limit': 32, '_offset': 0}\n"
     ]
    },
    {
     "name": "stderr",
     "output_type": "stream",
     "text": [
      "\n",
      "\n",
      "\n",
      "\n",
      "\n",
      "\n",
      "\n",
      "\n",
      "\n",
      "\n",
      "\n",
      "\n",
      "\n",
      "\n",
      "\n",
      "\n",
      "\n",
      "\n",
      "  0%|▏                                                                            | 31/14610 [00:56<7:22:30,  1.82s/it]"
     ]
    },
    {
     "name": "stdout",
     "output_type": "stream",
     "text": [
      "{'key': 'd306zoyjsyarp7ifhu67rjxn52tv0t20', 'role': 'guest', '_format': 'for_p3', 'listing_id': '20552862', '_limit': 67, '_offset': 0}\n"
     ]
    },
    {
     "name": "stderr",
     "output_type": "stream",
     "text": [
      "\n",
      "\n",
      "\n",
      "\n",
      "\n",
      "\n",
      "\n",
      "\n",
      "\n",
      "\n",
      "\n",
      "\n",
      "\n",
      "\n",
      "\n",
      "\n",
      "\n",
      "\n",
      "  0%|▏                                                                            | 32/14610 [00:58<7:26:16,  1.84s/it]"
     ]
    },
    {
     "name": "stdout",
     "output_type": "stream",
     "text": [
      "{'key': 'd306zoyjsyarp7ifhu67rjxn52tv0t20', 'role': 'guest', '_format': 'for_p3', 'listing_id': '26710519', '_limit': 18, '_offset': 0}\n"
     ]
    },
    {
     "name": "stderr",
     "output_type": "stream",
     "text": [
      "\n",
      "\n",
      "\n",
      "\n",
      "\n",
      "\n",
      "\n",
      "\n",
      "\n",
      "\n",
      "\n",
      "\n",
      "\n",
      "\n",
      "\n",
      "\n",
      "\n",
      "\n",
      "  0%|▏                                                                            | 33/14610 [01:00<7:24:21,  1.83s/it]"
     ]
    },
    {
     "name": "stdout",
     "output_type": "stream",
     "text": [
      "{'key': 'd306zoyjsyarp7ifhu67rjxn52tv0t20', 'role': 'guest', '_format': 'for_p3', 'listing_id': '15076829', '_limit': 78, '_offset': 0}\n"
     ]
    },
    {
     "name": "stderr",
     "output_type": "stream",
     "text": [
      "\n",
      "\n",
      "\n",
      "\n",
      "\n",
      "\n",
      "\n",
      "\n",
      "\n",
      "\n",
      "\n",
      "\n",
      "\n",
      "\n",
      "\n",
      "\n",
      "\n",
      "\n",
      "  0%|▏                                                                            | 34/14610 [01:02<7:26:01,  1.84s/it]"
     ]
    },
    {
     "name": "stdout",
     "output_type": "stream",
     "text": [
      "{'key': 'd306zoyjsyarp7ifhu67rjxn52tv0t20', 'role': 'guest', '_format': 'for_p3', 'listing_id': '14310194', '_limit': 53, '_offset': 0}\n"
     ]
    },
    {
     "name": "stderr",
     "output_type": "stream",
     "text": [
      "\n",
      "\n",
      "\n",
      "\n",
      "\n",
      "\n",
      "\n",
      "\n",
      "\n",
      "\n",
      "\n",
      "\n",
      "\n",
      "\n",
      "\n",
      "\n",
      "\n",
      "\n",
      "  0%|▏                                                                            | 35/14610 [01:04<7:25:38,  1.83s/it]"
     ]
    },
    {
     "name": "stdout",
     "output_type": "stream",
     "text": [
      "{'key': 'd306zoyjsyarp7ifhu67rjxn52tv0t20', 'role': 'guest', '_format': 'for_p3', 'listing_id': '1254326', '_limit': 77, '_offset': 0}\n"
     ]
    },
    {
     "name": "stderr",
     "output_type": "stream",
     "text": [
      "\n",
      "\n",
      "\n",
      "\n",
      "\n",
      "\n",
      "\n",
      "\n",
      "\n",
      "\n",
      "\n",
      "\n",
      "\n",
      "\n",
      "\n",
      "\n",
      "\n",
      "\n",
      "  0%|▏                                                                            | 36/14610 [01:06<7:26:37,  1.84s/it]"
     ]
    },
    {
     "name": "stdout",
     "output_type": "stream",
     "text": [
      "{'key': 'd306zoyjsyarp7ifhu67rjxn52tv0t20', 'role': 'guest', '_format': 'for_p3', 'listing_id': '10577796', '_limit': 60, '_offset': 0}\n"
     ]
    },
    {
     "name": "stderr",
     "output_type": "stream",
     "text": [
      "\n",
      "\n",
      "\n",
      "\n",
      "\n",
      "\n",
      "\n",
      "\n",
      "\n",
      "\n",
      "\n",
      "\n",
      "\n",
      "\n",
      "\n",
      "\n",
      "\n",
      "\n",
      "  0%|▏                                                                            | 37/14610 [01:08<7:29:06,  1.85s/it]"
     ]
    },
    {
     "name": "stdout",
     "output_type": "stream",
     "text": [
      "{'key': 'd306zoyjsyarp7ifhu67rjxn52tv0t20', 'role': 'guest', '_format': 'for_p3', 'listing_id': '20836209', '_limit': 47, '_offset': 0}\n"
     ]
    },
    {
     "name": "stderr",
     "output_type": "stream",
     "text": [
      "\n",
      "\n",
      "\n",
      "\n",
      "\n",
      "\n",
      "\n",
      "\n",
      "\n",
      "\n",
      "\n",
      "\n",
      "\n",
      "\n",
      "\n",
      "\n",
      "\n",
      "\n",
      "  0%|▏                                                                            | 38/14610 [01:09<7:26:51,  1.84s/it]"
     ]
    },
    {
     "name": "stdout",
     "output_type": "stream",
     "text": [
      "{'key': 'd306zoyjsyarp7ifhu67rjxn52tv0t20', 'role': 'guest', '_format': 'for_p3', 'listing_id': '19738793', '_limit': 84, '_offset': 0}\n"
     ]
    },
    {
     "name": "stderr",
     "output_type": "stream",
     "text": [
      "\n",
      "\n",
      "\n",
      "\n",
      "\n",
      "\n",
      "\n",
      "\n",
      "\n",
      "\n",
      "\n",
      "\n",
      "\n",
      "\n",
      "\n",
      "\n",
      "\n",
      "\n",
      "  0%|▏                                                                            | 39/14610 [01:12<7:30:48,  1.86s/it]"
     ]
    },
    {
     "name": "stdout",
     "output_type": "stream",
     "text": [
      "{'key': 'd306zoyjsyarp7ifhu67rjxn52tv0t20', 'role': 'guest', '_format': 'for_p3', 'listing_id': '1093295', '_limit': 100, '_offset': 0}\n",
      "{'key': 'd306zoyjsyarp7ifhu67rjxn52tv0t20', 'role': 'guest', '_format': 'for_p3', 'listing_id': '1093295', '_limit': 17, '_offset': 100}\n"
     ]
    },
    {
     "name": "stderr",
     "output_type": "stream",
     "text": [
      "\n",
      "\n",
      "\n",
      "\n",
      "\n",
      "\n",
      "\n",
      "\n",
      "\n",
      "\n",
      "\n",
      "\n",
      "\n",
      "\n",
      "\n",
      "\n",
      "\n",
      "\n",
      "  0%|▏                                                                            | 40/14610 [01:15<7:37:41,  1.88s/it]"
     ]
    },
    {
     "name": "stdout",
     "output_type": "stream",
     "text": [
      "{'key': 'd306zoyjsyarp7ifhu67rjxn52tv0t20', 'role': 'guest', '_format': 'for_p3', 'listing_id': '26710859', '_limit': 25, '_offset': 0}\n"
     ]
    },
    {
     "name": "stderr",
     "output_type": "stream",
     "text": [
      "\n",
      "\n",
      "\n",
      "\n",
      "\n",
      "\n",
      "\n",
      "\n",
      "\n",
      "\n",
      "\n",
      "\n",
      "\n",
      "\n",
      "\n",
      "\n",
      "\n",
      "\n",
      "  0%|▏                                                                            | 41/14610 [01:16<7:35:41,  1.88s/it]"
     ]
    },
    {
     "name": "stdout",
     "output_type": "stream",
     "text": [
      "{'key': 'd306zoyjsyarp7ifhu67rjxn52tv0t20', 'role': 'guest', '_format': 'for_p3', 'listing_id': '20584786', '_limit': 59, '_offset': 0}\n"
     ]
    },
    {
     "name": "stderr",
     "output_type": "stream",
     "text": [
      "\n",
      "\n",
      "\n",
      "\n",
      "\n",
      "\n",
      "\n",
      "\n",
      "\n",
      "\n",
      "\n",
      "\n",
      "\n",
      "\n",
      "\n",
      "\n",
      "\n",
      "\n",
      "  0%|▏                                                                            | 42/14610 [01:19<7:37:44,  1.89s/it]"
     ]
    },
    {
     "name": "stdout",
     "output_type": "stream",
     "text": [
      "{'key': 'd306zoyjsyarp7ifhu67rjxn52tv0t20', 'role': 'guest', '_format': 'for_p3', 'listing_id': '15077442', '_limit': 51, '_offset': 0}\n"
     ]
    },
    {
     "name": "stderr",
     "output_type": "stream",
     "text": [
      "\n",
      "\n",
      "\n",
      "\n",
      "\n",
      "\n",
      "\n",
      "\n",
      "\n",
      "\n",
      "\n",
      "\n",
      "\n",
      "\n",
      "\n",
      "\n",
      "\n",
      "\n",
      "  0%|▏                                                                            | 43/14610 [01:20<7:36:22,  1.88s/it]"
     ]
    },
    {
     "name": "stdout",
     "output_type": "stream",
     "text": [
      "{'key': 'd306zoyjsyarp7ifhu67rjxn52tv0t20', 'role': 'guest', '_format': 'for_p3', 'listing_id': '14310332', '_limit': 28, '_offset': 0}\n"
     ]
    },
    {
     "name": "stderr",
     "output_type": "stream",
     "text": [
      "\n",
      "\n",
      "\n",
      "\n",
      "\n",
      "\n",
      "\n",
      "\n",
      "\n",
      "\n",
      "\n",
      "\n",
      "\n",
      "\n",
      "\n",
      "\n",
      "\n",
      "\n",
      "  0%|▏                                                                            | 44/14610 [01:22<7:34:14,  1.87s/it]"
     ]
    },
    {
     "name": "stdout",
     "output_type": "stream",
     "text": [
      "{'key': 'd306zoyjsyarp7ifhu67rjxn52tv0t20', 'role': 'guest', '_format': 'for_p3', 'listing_id': '26705129', '_limit': 29, '_offset': 0}\n"
     ]
    },
    {
     "name": "stderr",
     "output_type": "stream",
     "text": [
      "\n",
      "\n",
      "\n",
      "\n",
      "\n",
      "\n",
      "\n",
      "\n",
      "\n",
      "\n",
      "\n",
      "\n",
      "\n",
      "\n",
      "\n",
      "\n",
      "\n",
      "\n",
      "  0%|▏                                                                            | 45/14610 [01:23<7:31:52,  1.86s/it]"
     ]
    },
    {
     "name": "stdout",
     "output_type": "stream",
     "text": [
      "{'key': 'd306zoyjsyarp7ifhu67rjxn52tv0t20', 'role': 'guest', '_format': 'for_p3', 'listing_id': '14310466', '_limit': 41, '_offset': 0}\n"
     ]
    },
    {
     "name": "stderr",
     "output_type": "stream",
     "text": [
      "\n",
      "\n",
      "\n",
      "\n",
      "\n",
      "\n",
      "\n",
      "\n",
      "\n",
      "\n",
      "\n",
      "\n",
      "\n",
      "\n",
      "\n",
      "\n",
      "\n",
      "\n",
      "  0%|▏                                                                            | 46/14610 [01:25<7:33:23,  1.87s/it]"
     ]
    },
    {
     "name": "stdout",
     "output_type": "stream",
     "text": [
      "{'key': 'd306zoyjsyarp7ifhu67rjxn52tv0t20', 'role': 'guest', '_format': 'for_p3', 'listing_id': '23403825', '_limit': 28, '_offset': 0}\n"
     ]
    },
    {
     "name": "stderr",
     "output_type": "stream",
     "text": [
      "\n",
      "\n",
      "\n",
      "\n",
      "\n",
      "\n",
      "\n",
      "\n",
      "\n",
      "\n",
      "\n",
      "\n",
      "\n",
      "\n",
      "\n",
      "\n",
      "\n",
      "\n",
      "  0%|▏                                                                            | 47/14610 [01:27<7:32:05,  1.86s/it]\n",
      "\n",
      "\n",
      "\n",
      "\n",
      "\n",
      "\n",
      "\n",
      "\n",
      "\n",
      "\n",
      "\n",
      "\n",
      "\n",
      "\n",
      "\n",
      "\n",
      "\n",
      "  0%|▎                                                                            | 48/14610 [01:28<7:25:36,  1.84s/it]"
     ]
    },
    {
     "name": "stdout",
     "output_type": "stream",
     "text": [
      "{'key': 'd306zoyjsyarp7ifhu67rjxn52tv0t20', 'role': 'guest', '_format': 'for_p3', 'listing_id': '20877202', '_limit': 41, '_offset': 0}\n"
     ]
    },
    {
     "name": "stderr",
     "output_type": "stream",
     "text": [
      "\n",
      "\n",
      "\n",
      "\n",
      "\n",
      "\n",
      "\n",
      "\n",
      "\n",
      "\n",
      "\n",
      "\n",
      "\n",
      "\n",
      "\n",
      "\n",
      "\n",
      "\n",
      "  0%|▎                                                                            | 49/14610 [01:29<7:24:57,  1.83s/it]"
     ]
    },
    {
     "name": "stdout",
     "output_type": "stream",
     "text": [
      "{'key': 'd306zoyjsyarp7ifhu67rjxn52tv0t20', 'role': 'guest', '_format': 'for_p3', 'listing_id': '19914927', '_limit': 55, '_offset': 0}\n"
     ]
    },
    {
     "name": "stderr",
     "output_type": "stream",
     "text": [
      "\n",
      "\n",
      "\n",
      "\n",
      "\n",
      "\n",
      "\n",
      "\n",
      "\n",
      "\n",
      "\n",
      "\n",
      "\n",
      "\n",
      "\n",
      "\n",
      "\n",
      "\n",
      "  0%|▎                                                                            | 50/14610 [01:32<7:28:44,  1.85s/it]"
     ]
    },
    {
     "name": "stdout",
     "output_type": "stream",
     "text": [
      "{'key': 'd306zoyjsyarp7ifhu67rjxn52tv0t20', 'role': 'guest', '_format': 'for_p3', 'listing_id': '14310134', '_limit': 48, '_offset': 0}\n"
     ]
    },
    {
     "name": "stderr",
     "output_type": "stream",
     "text": [
      "\n",
      "\n",
      "\n",
      "\n",
      "\n",
      "\n",
      "\n",
      "\n",
      "\n",
      "\n",
      "\n",
      "\n",
      "\n",
      "\n",
      "\n",
      "\n",
      "\n",
      "\n",
      "  0%|▎                                                                            | 51/14610 [01:34<7:28:48,  1.85s/it]"
     ]
    },
    {
     "name": "stdout",
     "output_type": "stream",
     "text": [
      "{'key': 'd306zoyjsyarp7ifhu67rjxn52tv0t20', 'role': 'guest', '_format': 'for_p3', 'listing_id': '15077441', '_limit': 38, '_offset': 0}\n"
     ]
    },
    {
     "name": "stderr",
     "output_type": "stream",
     "text": [
      "\n",
      "\n",
      "\n",
      "\n",
      "\n",
      "\n",
      "\n",
      "\n",
      "\n",
      "\n",
      "\n",
      "\n",
      "\n",
      "\n",
      "\n",
      "\n",
      "\n",
      "\n",
      "  0%|▎                                                                            | 52/14610 [01:36<7:29:26,  1.85s/it]"
     ]
    },
    {
     "name": "stdout",
     "output_type": "stream",
     "text": [
      "{'key': 'd306zoyjsyarp7ifhu67rjxn52tv0t20', 'role': 'guest', '_format': 'for_p3', 'listing_id': '26710028', '_limit': 23, '_offset': 0}\n"
     ]
    },
    {
     "name": "stderr",
     "output_type": "stream",
     "text": [
      "\n",
      "\n",
      "\n",
      "\n",
      "\n",
      "\n",
      "\n",
      "\n",
      "\n",
      "\n",
      "\n",
      "\n",
      "\n",
      "\n",
      "\n",
      "\n",
      "\n",
      "\n",
      "  0%|▎                                                                            | 53/14610 [01:37<7:27:52,  1.85s/it]"
     ]
    },
    {
     "name": "stdout",
     "output_type": "stream",
     "text": [
      "{'key': 'd306zoyjsyarp7ifhu67rjxn52tv0t20', 'role': 'guest', '_format': 'for_p3', 'listing_id': '14310098', '_limit': 47, '_offset': 0}\n"
     ]
    },
    {
     "name": "stderr",
     "output_type": "stream",
     "text": [
      "\n",
      "\n",
      "\n",
      "\n",
      "\n",
      "\n",
      "\n",
      "\n",
      "\n",
      "\n",
      "\n",
      "\n",
      "\n",
      "\n",
      "\n",
      "\n",
      "\n",
      "\n",
      "  0%|▎                                                                            | 54/14610 [01:39<7:29:01,  1.85s/it]"
     ]
    },
    {
     "name": "stdout",
     "output_type": "stream",
     "text": [
      "{'key': 'd306zoyjsyarp7ifhu67rjxn52tv0t20', 'role': 'guest', '_format': 'for_p3', 'listing_id': '19738905', '_limit': 67, '_offset': 0}\n"
     ]
    },
    {
     "name": "stderr",
     "output_type": "stream",
     "text": [
      "\n",
      "\n",
      "\n",
      "\n",
      "\n",
      "\n",
      "\n",
      "\n",
      "\n",
      "\n",
      "\n",
      "\n",
      "\n",
      "\n",
      "\n",
      "\n",
      "\n",
      "\n",
      "  0%|▎                                                                            | 55/14610 [01:41<7:28:32,  1.85s/it]"
     ]
    },
    {
     "name": "stdout",
     "output_type": "stream",
     "text": [
      "{'key': 'd306zoyjsyarp7ifhu67rjxn52tv0t20', 'role': 'guest', '_format': 'for_p3', 'listing_id': '1375433', '_limit': 48, '_offset': 0}\n"
     ]
    },
    {
     "name": "stderr",
     "output_type": "stream",
     "text": [
      "\n",
      "\n",
      "\n",
      "\n",
      "\n",
      "\n",
      "\n",
      "\n",
      "\n",
      "\n",
      "\n",
      "\n",
      "\n",
      "\n",
      "\n",
      "\n",
      "\n",
      "\n",
      "  0%|▎                                                                            | 56/14610 [01:43<7:29:05,  1.85s/it]"
     ]
    },
    {
     "name": "stdout",
     "output_type": "stream",
     "text": [
      "{'key': 'd306zoyjsyarp7ifhu67rjxn52tv0t20', 'role': 'guest', '_format': 'for_p3', 'listing_id': '14743122', '_limit': 27, '_offset': 0}\n"
     ]
    },
    {
     "name": "stderr",
     "output_type": "stream",
     "text": [
      "\n",
      "\n",
      "\n",
      "\n",
      "\n",
      "\n",
      "\n",
      "\n",
      "\n",
      "\n",
      "\n",
      "\n",
      "\n",
      "\n",
      "\n",
      "\n",
      "\n",
      "\n",
      "  0%|▎                                                                            | 57/14610 [01:45<7:29:14,  1.85s/it]"
     ]
    },
    {
     "name": "stdout",
     "output_type": "stream",
     "text": [
      "{'key': 'd306zoyjsyarp7ifhu67rjxn52tv0t20', 'role': 'guest', '_format': 'for_p3', 'listing_id': '24213426', '_limit': 12, '_offset': 0}\n"
     ]
    },
    {
     "name": "stderr",
     "output_type": "stream",
     "text": [
      "\n",
      "\n",
      "\n",
      "\n",
      "\n",
      "\n",
      "\n",
      "\n",
      "\n",
      "\n",
      "\n",
      "\n",
      "\n",
      "\n",
      "\n",
      "\n",
      "\n",
      "\n",
      "  0%|▎                                                                            | 58/14610 [01:47<7:28:41,  1.85s/it]"
     ]
    },
    {
     "name": "stdout",
     "output_type": "stream",
     "text": [
      "{'key': 'd306zoyjsyarp7ifhu67rjxn52tv0t20', 'role': 'guest', '_format': 'for_p3', 'listing_id': '9303687', '_limit': 26, '_offset': 0}\n"
     ]
    },
    {
     "name": "stderr",
     "output_type": "stream",
     "text": [
      "\n",
      "\n",
      "\n",
      "\n",
      "\n",
      "\n",
      "\n",
      "\n",
      "\n",
      "\n",
      "\n",
      "\n",
      "\n",
      "\n",
      "\n",
      "\n",
      "\n",
      "\n",
      "  0%|▎                                                                            | 59/14610 [01:48<7:27:59,  1.85s/it]"
     ]
    },
    {
     "name": "stdout",
     "output_type": "stream",
     "text": [
      "{'key': 'd306zoyjsyarp7ifhu67rjxn52tv0t20', 'role': 'guest', '_format': 'for_p3', 'listing_id': '19914733', '_limit': 49, '_offset': 0}\n"
     ]
    },
    {
     "name": "stderr",
     "output_type": "stream",
     "text": [
      "\n",
      "\n",
      "\n",
      "\n",
      "\n",
      "\n",
      "\n",
      "\n",
      "\n",
      "\n",
      "\n",
      "\n",
      "\n",
      "\n",
      "\n",
      "\n",
      "\n",
      "\n",
      "  0%|▎                                                                            | 60/14610 [01:51<7:30:41,  1.86s/it]"
     ]
    },
    {
     "name": "stdout",
     "output_type": "stream",
     "text": [
      "{'key': 'd306zoyjsyarp7ifhu67rjxn52tv0t20', 'role': 'guest', '_format': 'for_p3', 'listing_id': '19914890', '_limit': 59, '_offset': 0}\n"
     ]
    },
    {
     "name": "stderr",
     "output_type": "stream",
     "text": [
      "\n",
      "\n",
      "\n",
      "\n",
      "\n",
      "\n",
      "\n",
      "\n",
      "\n",
      "\n",
      "\n",
      "\n",
      "\n",
      "\n",
      "\n",
      "\n",
      "\n",
      "\n",
      "  0%|▎                                                                            | 61/14610 [01:54<7:33:13,  1.87s/it]"
     ]
    },
    {
     "name": "stdout",
     "output_type": "stream",
     "text": [
      "{'key': 'd306zoyjsyarp7ifhu67rjxn52tv0t20', 'role': 'guest', '_format': 'for_p3', 'listing_id': '19735702', '_limit': 52, '_offset': 0}\n"
     ]
    },
    {
     "name": "stderr",
     "output_type": "stream",
     "text": [
      "\n",
      "\n",
      "\n",
      "\n",
      "\n",
      "\n",
      "\n",
      "\n",
      "\n",
      "\n",
      "\n",
      "\n",
      "\n",
      "\n",
      "\n",
      "\n",
      "\n",
      "\n",
      "  0%|▎                                                                            | 62/14610 [01:55<7:32:19,  1.87s/it]"
     ]
    },
    {
     "name": "stdout",
     "output_type": "stream",
     "text": [
      "{'key': 'd306zoyjsyarp7ifhu67rjxn52tv0t20', 'role': 'guest', '_format': 'for_p3', 'listing_id': '19735808', '_limit': 61, '_offset': 0}\n"
     ]
    },
    {
     "name": "stderr",
     "output_type": "stream",
     "text": [
      "\n",
      "\n",
      "\n",
      "\n",
      "\n",
      "\n",
      "\n",
      "\n",
      "\n",
      "\n",
      "\n",
      "\n",
      "\n",
      "\n",
      "\n",
      "\n",
      "\n",
      "\n",
      "  0%|▎                                                                            | 63/14610 [01:57<7:33:18,  1.87s/it]"
     ]
    },
    {
     "name": "stdout",
     "output_type": "stream",
     "text": [
      "{'key': 'd306zoyjsyarp7ifhu67rjxn52tv0t20', 'role': 'guest', '_format': 'for_p3', 'listing_id': '23404634', '_limit': 19, '_offset': 0}\n"
     ]
    },
    {
     "name": "stderr",
     "output_type": "stream",
     "text": [
      "\n",
      "\n",
      "\n",
      "\n",
      "\n",
      "\n",
      "\n",
      "\n",
      "\n",
      "\n",
      "\n",
      "\n",
      "\n",
      "\n",
      "\n",
      "\n",
      "\n",
      "\n",
      "  0%|▎                                                                            | 64/14610 [01:59<7:31:43,  1.86s/it]"
     ]
    },
    {
     "name": "stdout",
     "output_type": "stream",
     "text": [
      "{'key': 'd306zoyjsyarp7ifhu67rjxn52tv0t20', 'role': 'guest', '_format': 'for_p3', 'listing_id': '26709697', '_limit': 22, '_offset': 0}\n"
     ]
    },
    {
     "name": "stderr",
     "output_type": "stream",
     "text": [
      "\n",
      "\n",
      "\n",
      "\n",
      "\n",
      "\n",
      "\n",
      "\n",
      "\n",
      "\n",
      "\n",
      "\n",
      "\n",
      "\n",
      "\n",
      "\n",
      "\n",
      "\n",
      "  0%|▎                                                                            | 65/14610 [02:00<7:30:20,  1.86s/it]"
     ]
    },
    {
     "name": "stdout",
     "output_type": "stream",
     "text": [
      "{'key': 'd306zoyjsyarp7ifhu67rjxn52tv0t20', 'role': 'guest', '_format': 'for_p3', 'listing_id': '21493428', '_limit': 23, '_offset': 0}\n"
     ]
    },
    {
     "name": "stderr",
     "output_type": "stream",
     "text": [
      "\n",
      "\n",
      "\n",
      "\n",
      "\n",
      "\n",
      "\n",
      "\n",
      "\n",
      "\n",
      "\n",
      "\n",
      "\n",
      "\n",
      "\n",
      "\n",
      "\n",
      "\n",
      "  0%|▎                                                                            | 66/14610 [02:02<7:30:57,  1.86s/it]"
     ]
    },
    {
     "name": "stdout",
     "output_type": "stream",
     "text": [
      "{'key': 'd306zoyjsyarp7ifhu67rjxn52tv0t20', 'role': 'guest', '_format': 'for_p3', 'listing_id': '25064108', '_limit': 4, '_offset': 0}\n"
     ]
    },
    {
     "name": "stderr",
     "output_type": "stream",
     "text": [
      "\n",
      "\n",
      "\n",
      "\n",
      "\n",
      "\n",
      "\n",
      "\n",
      "\n",
      "\n",
      "\n",
      "\n",
      "\n",
      "\n",
      "\n",
      "\n",
      "\n",
      "\n",
      "  0%|▎                                                                            | 67/14610 [02:04<7:31:23,  1.86s/it]"
     ]
    },
    {
     "name": "stdout",
     "output_type": "stream",
     "text": [
      "{'key': 'd306zoyjsyarp7ifhu67rjxn52tv0t20', 'role': 'guest', '_format': 'for_p3', 'listing_id': '24901655', '_limit': 8, '_offset': 0}\n"
     ]
    },
    {
     "name": "stderr",
     "output_type": "stream",
     "text": [
      "\n",
      "\n",
      "\n",
      "\n",
      "\n",
      "\n",
      "\n",
      "\n",
      "\n",
      "\n",
      "\n",
      "\n",
      "\n",
      "\n",
      "\n",
      "\n",
      "\n",
      "\n",
      "  0%|▎                                                                            | 68/14610 [02:06<7:29:30,  1.85s/it]"
     ]
    },
    {
     "name": "stdout",
     "output_type": "stream",
     "text": [
      "{'key': 'd306zoyjsyarp7ifhu67rjxn52tv0t20', 'role': 'guest', '_format': 'for_p3', 'listing_id': '23844556', '_limit': 15, '_offset': 0}\n"
     ]
    },
    {
     "name": "stderr",
     "output_type": "stream",
     "text": [
      "\n",
      "\n",
      "\n",
      "\n",
      "\n",
      "\n",
      "\n",
      "\n",
      "\n",
      "\n",
      "\n",
      "\n",
      "\n",
      "\n",
      "\n",
      "\n",
      "\n",
      "\n",
      "  0%|▎                                                                            | 69/14610 [02:07<7:28:12,  1.85s/it]"
     ]
    },
    {
     "name": "stdout",
     "output_type": "stream",
     "text": [
      "{'key': 'd306zoyjsyarp7ifhu67rjxn52tv0t20', 'role': 'guest', '_format': 'for_p3', 'listing_id': '1375385', '_limit': 14, '_offset': 0}\n"
     ]
    },
    {
     "name": "stderr",
     "output_type": "stream",
     "text": [
      "\n",
      "\n",
      "\n",
      "\n",
      "\n",
      "\n",
      "\n",
      "\n",
      "\n",
      "\n",
      "\n",
      "\n",
      "\n",
      "\n",
      "\n",
      "\n",
      "\n",
      "\n",
      "  0%|▎                                                                            | 70/14610 [02:09<7:26:58,  1.84s/it]"
     ]
    },
    {
     "name": "stdout",
     "output_type": "stream",
     "text": [
      "{'key': 'd306zoyjsyarp7ifhu67rjxn52tv0t20', 'role': 'guest', '_format': 'for_p3', 'listing_id': '12574481', '_limit': 34, '_offset': 0}\n"
     ]
    },
    {
     "name": "stderr",
     "output_type": "stream",
     "text": [
      "\n",
      "\n",
      "\n",
      "\n",
      "\n",
      "\n",
      "\n",
      "\n",
      "\n",
      "\n",
      "\n",
      "\n",
      "\n",
      "\n",
      "\n",
      "\n",
      "\n",
      "\n",
      "  0%|▎                                                                            | 71/14610 [02:11<7:28:01,  1.85s/it]"
     ]
    },
    {
     "name": "stdout",
     "output_type": "stream",
     "text": [
      "{'key': 'd306zoyjsyarp7ifhu67rjxn52tv0t20', 'role': 'guest', '_format': 'for_p3', 'listing_id': '24399994', '_limit': 4, '_offset': 0}\n"
     ]
    },
    {
     "name": "stderr",
     "output_type": "stream",
     "text": [
      "\n",
      "\n",
      "\n",
      "\n",
      "\n",
      "\n",
      "\n",
      "\n",
      "\n",
      "\n",
      "\n",
      "\n",
      "\n",
      "\n",
      "\n",
      "\n",
      "\n",
      "\n",
      "  0%|▍                                                                            | 72/14610 [02:12<7:26:18,  1.84s/it]"
     ]
    },
    {
     "name": "stdout",
     "output_type": "stream",
     "text": [
      "{'key': 'd306zoyjsyarp7ifhu67rjxn52tv0t20', 'role': 'guest', '_format': 'for_p3', 'listing_id': '4760766', '_limit': 8, '_offset': 0}\n"
     ]
    },
    {
     "name": "stderr",
     "output_type": "stream",
     "text": [
      "\n",
      "\n",
      "\n",
      "\n",
      "\n",
      "\n",
      "\n",
      "\n",
      "\n",
      "\n",
      "\n",
      "\n",
      "\n",
      "\n",
      "\n",
      "\n",
      "\n",
      "\n",
      "  0%|▍                                                                            | 73/14610 [02:14<7:24:47,  1.84s/it]"
     ]
    },
    {
     "name": "stdout",
     "output_type": "stream",
     "text": [
      "{'key': 'd306zoyjsyarp7ifhu67rjxn52tv0t20', 'role': 'guest', '_format': 'for_p3', 'listing_id': '28237886', '_limit': 2, '_offset': 0}\n"
     ]
    },
    {
     "name": "stderr",
     "output_type": "stream",
     "text": [
      "\n",
      "\n",
      "\n",
      "\n",
      "\n",
      "\n",
      "\n",
      "\n",
      "\n",
      "\n",
      "\n",
      "\n",
      "\n",
      "\n",
      "\n",
      "\n",
      "\n",
      "\n",
      "  1%|▍                                                                            | 74/14610 [02:15<7:23:03,  1.83s/it]"
     ]
    },
    {
     "name": "stdout",
     "output_type": "stream",
     "text": [
      "{'key': 'd306zoyjsyarp7ifhu67rjxn52tv0t20', 'role': 'guest', '_format': 'for_p3', 'listing_id': '24290988', '_limit': 9, '_offset': 0}\n"
     ]
    },
    {
     "name": "stderr",
     "output_type": "stream",
     "text": [
      "\n",
      "\n",
      "\n",
      "\n",
      "\n",
      "\n",
      "\n",
      "\n",
      "\n",
      "\n",
      "\n",
      "\n",
      "\n",
      "\n",
      "\n",
      "\n",
      "\n",
      "\n",
      "  1%|▍                                                                            | 75/14610 [02:16<7:21:40,  1.82s/it]"
     ]
    },
    {
     "name": "stdout",
     "output_type": "stream",
     "text": [
      "{'key': 'd306zoyjsyarp7ifhu67rjxn52tv0t20', 'role': 'guest', '_format': 'for_p3', 'listing_id': '22932908', '_limit': 8, '_offset': 0}\n"
     ]
    },
    {
     "name": "stderr",
     "output_type": "stream",
     "text": [
      "\n",
      "\n",
      "\n",
      "\n",
      "\n",
      "\n",
      "\n",
      "\n",
      "\n",
      "\n",
      "\n",
      "\n",
      "\n",
      "\n",
      "\n",
      "\n",
      "\n",
      "\n",
      "  1%|▍                                                                            | 76/14610 [02:18<7:20:05,  1.82s/it]"
     ]
    },
    {
     "name": "stdout",
     "output_type": "stream",
     "text": [
      "{'key': 'd306zoyjsyarp7ifhu67rjxn52tv0t20', 'role': 'guest', '_format': 'for_p3', 'listing_id': '26709213', '_limit': 14, '_offset': 0}\n"
     ]
    },
    {
     "name": "stderr",
     "output_type": "stream",
     "text": [
      "\n",
      "\n",
      "\n",
      "\n",
      "\n",
      "\n",
      "\n",
      "\n",
      "\n",
      "\n",
      "\n",
      "\n",
      "\n",
      "\n",
      "\n",
      "\n",
      "\n",
      "\n",
      "  1%|▍                                                                            | 77/14610 [02:19<7:20:05,  1.82s/it]"
     ]
    },
    {
     "name": "stdout",
     "output_type": "stream",
     "text": [
      "{'key': 'd306zoyjsyarp7ifhu67rjxn52tv0t20', 'role': 'guest', '_format': 'for_p3', 'listing_id': '23216250', '_limit': 18, '_offset': 0}\n"
     ]
    },
    {
     "name": "stderr",
     "output_type": "stream",
     "text": [
      "\n",
      "\n",
      "\n",
      "\n",
      "\n",
      "\n",
      "\n",
      "\n",
      "\n",
      "\n",
      "\n",
      "\n",
      "\n",
      "\n",
      "\n",
      "\n",
      "\n",
      "\n",
      "  1%|▍                                                                            | 78/14610 [02:22<7:20:55,  1.82s/it]"
     ]
    },
    {
     "name": "stdout",
     "output_type": "stream",
     "text": [
      "{'key': 'd306zoyjsyarp7ifhu67rjxn52tv0t20', 'role': 'guest', '_format': 'for_p3', 'listing_id': '25065521', '_limit': 1, '_offset': 0}\n"
     ]
    },
    {
     "name": "stderr",
     "output_type": "stream",
     "text": [
      "\n",
      "\n",
      "\n",
      "\n",
      "\n",
      "\n",
      "\n",
      "\n",
      "\n",
      "\n",
      "\n",
      "\n",
      "\n",
      "\n",
      "\n",
      "\n",
      "\n",
      "\n",
      "  1%|▍                                                                            | 79/14610 [02:23<7:19:15,  1.81s/it]"
     ]
    },
    {
     "name": "stdout",
     "output_type": "stream",
     "text": [
      "{'key': 'd306zoyjsyarp7ifhu67rjxn52tv0t20', 'role': 'guest', '_format': 'for_p3', 'listing_id': '24900932', '_limit': 16, '_offset': 0}\n"
     ]
    },
    {
     "name": "stderr",
     "output_type": "stream",
     "text": [
      "\n",
      "\n",
      "\n",
      "\n",
      "\n",
      "\n",
      "\n",
      "\n",
      "\n",
      "\n",
      "\n",
      "\n",
      "\n",
      "\n",
      "\n",
      "\n",
      "\n",
      "\n",
      "  1%|▍                                                                            | 80/14610 [02:25<7:19:05,  1.81s/it]"
     ]
    },
    {
     "name": "stdout",
     "output_type": "stream",
     "text": [
      "{'key': 'd306zoyjsyarp7ifhu67rjxn52tv0t20', 'role': 'guest', '_format': 'for_p3', 'listing_id': '23842256', '_limit': 20, '_offset': 0}\n"
     ]
    },
    {
     "name": "stderr",
     "output_type": "stream",
     "text": [
      "\n",
      "\n",
      "\n",
      "\n",
      "\n",
      "\n",
      "\n",
      "\n",
      "\n",
      "\n",
      "\n",
      "\n",
      "\n",
      "\n",
      "\n",
      "\n",
      "\n",
      "\n",
      "  1%|▍                                                                            | 81/14610 [02:26<7:18:15,  1.81s/it]"
     ]
    },
    {
     "name": "stdout",
     "output_type": "stream",
     "text": [
      "{'key': 'd306zoyjsyarp7ifhu67rjxn52tv0t20', 'role': 'guest', '_format': 'for_p3', 'listing_id': '25064502', '_limit': 11, '_offset': 0}\n"
     ]
    },
    {
     "name": "stderr",
     "output_type": "stream",
     "text": [
      "\n",
      "\n",
      "\n",
      "\n",
      "\n",
      "\n",
      "\n",
      "\n",
      "\n",
      "\n",
      "\n",
      "\n",
      "\n",
      "\n",
      "\n",
      "\n",
      "\n",
      "\n",
      "  1%|▍                                                                            | 82/14610 [02:27<7:17:00,  1.80s/it]"
     ]
    },
    {
     "name": "stdout",
     "output_type": "stream",
     "text": [
      "{'key': 'd306zoyjsyarp7ifhu67rjxn52tv0t20', 'role': 'guest', '_format': 'for_p3', 'listing_id': '1285404', '_limit': 20, '_offset': 0}\n"
     ]
    },
    {
     "name": "stderr",
     "output_type": "stream",
     "text": [
      "\n",
      "\n",
      "\n",
      "\n",
      "\n",
      "\n",
      "\n",
      "\n",
      "\n",
      "\n",
      "\n",
      "\n",
      "\n",
      "\n",
      "\n",
      "\n",
      "\n",
      "\n",
      "  1%|▍                                                                            | 83/14610 [02:29<7:16:00,  1.80s/it]"
     ]
    },
    {
     "name": "stdout",
     "output_type": "stream",
     "text": [
      "{'key': 'd306zoyjsyarp7ifhu67rjxn52tv0t20', 'role': 'guest', '_format': 'for_p3', 'listing_id': '26272786', '_limit': 22, '_offset': 0}\n"
     ]
    },
    {
     "name": "stderr",
     "output_type": "stream",
     "text": [
      "\n",
      "\n",
      "\n",
      "\n",
      "\n",
      "\n",
      "\n",
      "\n",
      "\n",
      "\n",
      "\n",
      "\n",
      "\n",
      "\n",
      "\n",
      "\n",
      "\n",
      "\n",
      "  1%|▍                                                                            | 84/14610 [02:31<7:15:17,  1.80s/it]"
     ]
    },
    {
     "name": "stdout",
     "output_type": "stream",
     "text": [
      "{'key': 'd306zoyjsyarp7ifhu67rjxn52tv0t20', 'role': 'guest', '_format': 'for_p3', 'listing_id': '10790686', '_limit': 11, '_offset': 0}\n"
     ]
    },
    {
     "name": "stderr",
     "output_type": "stream",
     "text": [
      "\n",
      "\n",
      "\n",
      "\n",
      "\n",
      "\n",
      "\n",
      "\n",
      "\n",
      "\n",
      "\n",
      "\n",
      "\n",
      "\n",
      "\n",
      "\n",
      "\n",
      "\n",
      "  1%|▍                                                                            | 85/14610 [02:33<7:15:56,  1.80s/it]"
     ]
    },
    {
     "name": "stdout",
     "output_type": "stream",
     "text": [
      "{'key': 'd306zoyjsyarp7ifhu67rjxn52tv0t20', 'role': 'guest', '_format': 'for_p3', 'listing_id': '4015302', '_limit': 18, '_offset': 0}\n"
     ]
    },
    {
     "name": "stderr",
     "output_type": "stream",
     "text": [
      "\n",
      "\n",
      "\n",
      "\n",
      "\n",
      "\n",
      "\n",
      "\n",
      "\n",
      "\n",
      "\n",
      "\n",
      "\n",
      "\n",
      "\n",
      "\n",
      "\n",
      "\n",
      "  1%|▍                                                                            | 86/14610 [02:34<7:15:45,  1.80s/it]"
     ]
    },
    {
     "name": "stdout",
     "output_type": "stream",
     "text": [
      "{'key': 'd306zoyjsyarp7ifhu67rjxn52tv0t20', 'role': 'guest', '_format': 'for_p3', 'listing_id': '24899048', '_limit': 2, '_offset': 0}\n"
     ]
    },
    {
     "name": "stderr",
     "output_type": "stream",
     "text": [
      "\n",
      "\n",
      "\n",
      "\n",
      "\n",
      "\n",
      "\n",
      "\n",
      "\n",
      "\n",
      "\n",
      "\n",
      "\n",
      "\n",
      "\n",
      "\n",
      "\n",
      "\n",
      "  1%|▍                                                                            | 87/14610 [02:36<7:14:24,  1.79s/it]"
     ]
    },
    {
     "name": "stdout",
     "output_type": "stream",
     "text": [
      "{'key': 'd306zoyjsyarp7ifhu67rjxn52tv0t20', 'role': 'guest', '_format': 'for_p3', 'listing_id': '25064649', '_limit': 17, '_offset': 0}\n"
     ]
    },
    {
     "name": "stderr",
     "output_type": "stream",
     "text": [
      "\n",
      "\n",
      "\n",
      "\n",
      "\n",
      "\n",
      "\n",
      "\n",
      "\n",
      "\n",
      "\n",
      "\n",
      "\n",
      "\n",
      "\n",
      "\n",
      "\n",
      "\n",
      "  1%|▍                                                                            | 88/14610 [02:37<7:13:30,  1.79s/it]"
     ]
    },
    {
     "name": "stdout",
     "output_type": "stream",
     "text": [
      "{'key': 'd306zoyjsyarp7ifhu67rjxn52tv0t20', 'role': 'guest', '_format': 'for_p3', 'listing_id': '25273052', '_limit': 4, '_offset': 0}\n"
     ]
    },
    {
     "name": "stderr",
     "output_type": "stream",
     "text": [
      "\n",
      "\n",
      "\n",
      "\n",
      "\n",
      "\n",
      "\n",
      "\n",
      "\n",
      "\n",
      "\n",
      "\n",
      "\n",
      "\n",
      "\n",
      "\n",
      "\n",
      "\n",
      "  1%|▍                                                                            | 89/14610 [02:39<7:12:30,  1.79s/it]"
     ]
    },
    {
     "name": "stdout",
     "output_type": "stream",
     "text": [
      "{'key': 'd306zoyjsyarp7ifhu67rjxn52tv0t20', 'role': 'guest', '_format': 'for_p3', 'listing_id': '25064722', '_limit': 10, '_offset': 0}\n"
     ]
    },
    {
     "name": "stderr",
     "output_type": "stream",
     "text": [
      "\n",
      "\n",
      "\n",
      "\n",
      "\n",
      "\n",
      "\n",
      "\n",
      "\n",
      "\n",
      "\n",
      "\n",
      "\n",
      "\n",
      "\n",
      "\n",
      "\n",
      "\n",
      "  1%|▍                                                                            | 90/14610 [02:40<7:11:20,  1.78s/it]"
     ]
    },
    {
     "name": "stdout",
     "output_type": "stream",
     "text": [
      "{'key': 'd306zoyjsyarp7ifhu67rjxn52tv0t20', 'role': 'guest', '_format': 'for_p3', 'listing_id': '25064308', '_limit': 2, '_offset': 0}\n"
     ]
    },
    {
     "name": "stderr",
     "output_type": "stream",
     "text": [
      "\n",
      "\n",
      "\n",
      "\n",
      "\n",
      "\n",
      "\n",
      "\n",
      "\n",
      "\n",
      "\n",
      "\n",
      "\n",
      "\n",
      "\n",
      "\n",
      "\n",
      "\n",
      "  1%|▍                                                                            | 91/14610 [02:41<7:10:17,  1.78s/it]"
     ]
    },
    {
     "name": "stdout",
     "output_type": "stream",
     "text": [
      "{'key': 'd306zoyjsyarp7ifhu67rjxn52tv0t20', 'role': 'guest', '_format': 'for_p3', 'listing_id': '19508727', '_limit': 5, '_offset': 0}\n"
     ]
    },
    {
     "name": "stderr",
     "output_type": "stream",
     "text": [
      "\n",
      "\n",
      "\n",
      "\n",
      "\n",
      "\n",
      "\n",
      "\n",
      "\n",
      "\n",
      "\n",
      "\n",
      "\n",
      "\n",
      "\n",
      "\n",
      "\n",
      "\n",
      "  1%|▍                                                                            | 92/14610 [02:43<7:08:50,  1.77s/it]"
     ]
    },
    {
     "name": "stdout",
     "output_type": "stream",
     "text": [
      "{'key': 'd306zoyjsyarp7ifhu67rjxn52tv0t20', 'role': 'guest', '_format': 'for_p3', 'listing_id': '28238648', '_limit': 6, '_offset': 0}\n"
     ]
    },
    {
     "name": "stderr",
     "output_type": "stream",
     "text": [
      "\n",
      "\n",
      "\n",
      "\n",
      "\n",
      "\n",
      "\n",
      "\n",
      "\n",
      "\n",
      "\n",
      "\n",
      "\n",
      "\n",
      "\n",
      "\n",
      "\n",
      "\n",
      "  1%|▍                                                                            | 93/14610 [02:44<7:07:33,  1.77s/it]"
     ]
    },
    {
     "name": "stdout",
     "output_type": "stream",
     "text": [
      "{'key': 'd306zoyjsyarp7ifhu67rjxn52tv0t20', 'role': 'guest', '_format': 'for_p3', 'listing_id': '4730903', '_limit': 1, '_offset': 0}\n"
     ]
    },
    {
     "name": "stderr",
     "output_type": "stream",
     "text": [
      "\n",
      "\n",
      "\n",
      "\n",
      "\n",
      "\n",
      "\n",
      "\n",
      "\n",
      "\n",
      "\n",
      "\n",
      "\n",
      "\n",
      "\n",
      "\n",
      "\n",
      "\n",
      "  1%|▍                                                                            | 94/14610 [02:45<7:06:07,  1.76s/it]"
     ]
    },
    {
     "name": "stdout",
     "output_type": "stream",
     "text": [
      "{'key': 'd306zoyjsyarp7ifhu67rjxn52tv0t20', 'role': 'guest', '_format': 'for_p3', 'listing_id': '26569919', '_limit': 3, '_offset': 0}\n"
     ]
    },
    {
     "name": "stderr",
     "output_type": "stream",
     "text": [
      "\n",
      "\n",
      "\n",
      "\n",
      "\n",
      "\n",
      "\n",
      "\n",
      "\n",
      "\n",
      "\n",
      "\n",
      "\n",
      "\n",
      "\n",
      "\n",
      "\n",
      "\n",
      "  1%|▌                                                                            | 95/14610 [02:46<7:04:45,  1.76s/it]"
     ]
    },
    {
     "name": "stdout",
     "output_type": "stream",
     "text": [
      "{'key': 'd306zoyjsyarp7ifhu67rjxn52tv0t20', 'role': 'guest', '_format': 'for_p3', 'listing_id': '28260463', '_limit': 7, '_offset': 0}\n"
     ]
    },
    {
     "name": "stderr",
     "output_type": "stream",
     "text": [
      "\n",
      "\n",
      "\n",
      "\n",
      "\n",
      "\n",
      "\n",
      "\n",
      "\n",
      "\n",
      "\n",
      "\n",
      "\n",
      "\n",
      "\n",
      "\n",
      "\n",
      "\n",
      "  1%|▌                                                                            | 96/14610 [02:48<7:04:19,  1.75s/it]"
     ]
    },
    {
     "name": "stdout",
     "output_type": "stream",
     "text": [
      "{'key': 'd306zoyjsyarp7ifhu67rjxn52tv0t20', 'role': 'guest', '_format': 'for_p3', 'listing_id': '27062133', '_limit': 7, '_offset': 0}\n"
     ]
    },
    {
     "name": "stderr",
     "output_type": "stream",
     "text": [
      "\n",
      "\n",
      "\n",
      "\n",
      "\n",
      "\n",
      "\n",
      "\n",
      "\n",
      "\n",
      "\n",
      "\n",
      "\n",
      "\n",
      "\n",
      "\n",
      "\n",
      "\n",
      "  1%|▌                                                                            | 97/14610 [02:49<7:03:09,  1.75s/it]"
     ]
    },
    {
     "name": "stdout",
     "output_type": "stream",
     "text": [
      "{'key': 'd306zoyjsyarp7ifhu67rjxn52tv0t20', 'role': 'guest', '_format': 'for_p3', 'listing_id': '25266092', '_limit': 2, '_offset': 0}\n"
     ]
    },
    {
     "name": "stderr",
     "output_type": "stream",
     "text": [
      "\n",
      "\n",
      "\n",
      "\n",
      "\n",
      "\n",
      "\n",
      "\n",
      "\n",
      "\n",
      "\n",
      "\n",
      "\n",
      "\n",
      "\n",
      "\n",
      "\n",
      "\n",
      "  1%|▌                                                                            | 98/14610 [02:50<7:01:47,  1.74s/it]"
     ]
    },
    {
     "name": "stdout",
     "output_type": "stream",
     "text": [
      "{'key': 'd306zoyjsyarp7ifhu67rjxn52tv0t20', 'role': 'guest', '_format': 'for_p3', 'listing_id': '27882914', '_limit': 1, '_offset': 0}\n"
     ]
    },
    {
     "name": "stderr",
     "output_type": "stream",
     "text": [
      "\n",
      "\n",
      "\n",
      "\n",
      "\n",
      "\n",
      "\n",
      "\n",
      "\n",
      "\n",
      "\n",
      "\n",
      "\n",
      "\n",
      "\n",
      "\n",
      "\n",
      "\n",
      "  1%|▌                                                                            | 99/14610 [02:52<7:01:16,  1.74s/it]\n",
      "\n",
      "\n",
      "\n",
      "\n",
      "\n",
      "\n",
      "\n",
      "\n",
      "\n",
      "\n",
      "\n",
      "\n",
      "\n",
      "\n",
      "\n",
      "\n",
      "\n",
      "  1%|▌                                                                           | 100/14610 [02:52<6:58:20,  1.73s/it]"
     ]
    },
    {
     "name": "stdout",
     "output_type": "stream",
     "text": [
      "{'key': 'd306zoyjsyarp7ifhu67rjxn52tv0t20', 'role': 'guest', '_format': 'for_p3', 'listing_id': '3836358', '_limit': 28, '_offset': 0}\n"
     ]
    },
    {
     "name": "stderr",
     "output_type": "stream",
     "text": [
      "\n",
      "\n",
      "\n",
      "\n",
      "\n",
      "\n",
      "\n",
      "\n",
      "\n",
      "\n",
      "\n",
      "\n",
      "\n",
      "\n",
      "\n",
      "\n",
      "\n",
      "\n",
      "  1%|▌                                                                           | 101/14610 [02:54<6:58:26,  1.73s/it]\n",
      "\n",
      "\n",
      "\n",
      "\n",
      "\n",
      "\n",
      "\n",
      "\n",
      "\n",
      "\n",
      "\n",
      "\n",
      "\n",
      "\n",
      "\n",
      "\n",
      "\n",
      "  1%|▌                                                                           | 102/14610 [02:55<6:55:35,  1.72s/it]"
     ]
    },
    {
     "name": "stdout",
     "output_type": "stream",
     "text": [
      "{'key': 'd306zoyjsyarp7ifhu67rjxn52tv0t20', 'role': 'guest', '_format': 'for_p3', 'listing_id': '9959342', '_limit': 26, '_offset': 0}\n"
     ]
    },
    {
     "name": "stderr",
     "output_type": "stream",
     "text": [
      "\n",
      "\n",
      "\n",
      "\n",
      "\n",
      "\n",
      "\n",
      "\n",
      "\n",
      "\n",
      "\n",
      "\n",
      "\n",
      "\n",
      "\n",
      "\n",
      "\n",
      "\n",
      "  1%|▌                                                                           | 103/14610 [02:57<6:55:41,  1.72s/it]"
     ]
    },
    {
     "name": "stdout",
     "output_type": "stream",
     "text": [
      "{'key': 'd306zoyjsyarp7ifhu67rjxn52tv0t20', 'role': 'guest', '_format': 'for_p3', 'listing_id': '27343800', '_limit': 6, '_offset': 0}\n"
     ]
    },
    {
     "name": "stderr",
     "output_type": "stream",
     "text": [
      "\n",
      "\n",
      "\n",
      "\n",
      "\n",
      "\n",
      "\n",
      "\n",
      "\n",
      "\n",
      "\n",
      "\n",
      "\n",
      "\n",
      "\n",
      "\n",
      "\n",
      "\n",
      "  1%|▌                                                                           | 104/14610 [02:58<6:54:40,  1.72s/it]"
     ]
    },
    {
     "name": "stdout",
     "output_type": "stream",
     "text": [
      "{'key': 'd306zoyjsyarp7ifhu67rjxn52tv0t20', 'role': 'guest', '_format': 'for_p3', 'listing_id': '22403212', '_limit': 1, '_offset': 0}\n"
     ]
    },
    {
     "name": "stderr",
     "output_type": "stream",
     "text": [
      "\n",
      "\n",
      "\n",
      "\n",
      "\n",
      "\n",
      "\n",
      "\n",
      "\n",
      "\n",
      "\n",
      "\n",
      "\n",
      "\n",
      "\n",
      "\n",
      "\n",
      "\n",
      "  1%|▌                                                                           | 105/14610 [03:00<6:54:33,  1.71s/it]\n",
      "\n",
      "\n",
      "\n",
      "\n",
      "\n",
      "\n",
      "\n",
      "\n",
      "\n",
      "\n",
      "\n",
      "\n",
      "\n",
      "\n",
      "\n",
      "\n",
      "\n",
      "  1%|▌                                                                           | 106/14610 [03:00<6:52:01,  1.70s/it]"
     ]
    },
    {
     "name": "stdout",
     "output_type": "stream",
     "text": [
      "{'key': 'd306zoyjsyarp7ifhu67rjxn52tv0t20', 'role': 'guest', '_format': 'for_p3', 'listing_id': '26753982', '_limit': 7, '_offset': 0}\n"
     ]
    },
    {
     "name": "stderr",
     "output_type": "stream",
     "text": [
      "\n",
      "\n",
      "\n",
      "\n",
      "\n",
      "\n",
      "\n",
      "\n",
      "\n",
      "\n",
      "\n",
      "\n",
      "\n",
      "\n",
      "\n",
      "\n",
      "\n",
      "\n",
      "  1%|▌                                                                           | 107/14610 [03:02<6:52:10,  1.71s/it]"
     ]
    },
    {
     "name": "stdout",
     "output_type": "stream",
     "text": [
      "{'key': 'd306zoyjsyarp7ifhu67rjxn52tv0t20', 'role': 'guest', '_format': 'for_p3', 'listing_id': '24896749', '_limit': 4, '_offset': 0}\n"
     ]
    },
    {
     "name": "stderr",
     "output_type": "stream",
     "text": [
      "\n",
      "\n",
      "\n",
      "\n",
      "\n",
      "\n",
      "\n",
      "\n",
      "\n",
      "\n",
      "\n",
      "\n",
      "\n",
      "\n",
      "\n",
      "\n",
      "\n",
      "\n",
      "  1%|▌                                                                           | 108/14610 [03:03<6:51:12,  1.70s/it]"
     ]
    },
    {
     "name": "stdout",
     "output_type": "stream",
     "text": [
      "{'key': 'd306zoyjsyarp7ifhu67rjxn52tv0t20', 'role': 'guest', '_format': 'for_p3', 'listing_id': '28237129', '_limit': 4, '_offset': 0}\n"
     ]
    },
    {
     "name": "stderr",
     "output_type": "stream",
     "text": [
      "\n",
      "\n",
      "\n",
      "\n",
      "\n",
      "\n",
      "\n",
      "\n",
      "\n",
      "\n",
      "\n",
      "\n",
      "\n",
      "\n",
      "\n",
      "\n",
      "\n",
      "\n",
      "  1%|▌                                                                           | 109/14610 [03:05<6:51:28,  1.70s/it]\n",
      "\n",
      "\n",
      "\n",
      "\n",
      "\n",
      "\n",
      "\n",
      "\n",
      "\n",
      "\n",
      "\n",
      "\n",
      "\n",
      "\n",
      "\n",
      "\n",
      "\n",
      "  1%|▌                                                                           | 110/14610 [03:06<6:48:57,  1.69s/it]"
     ]
    },
    {
     "name": "stdout",
     "output_type": "stream",
     "text": [
      "{'key': 'd306zoyjsyarp7ifhu67rjxn52tv0t20', 'role': 'guest', '_format': 'for_p3', 'listing_id': '29546043', '_limit': 3, '_offset': 0}\n"
     ]
    },
    {
     "name": "stderr",
     "output_type": "stream",
     "text": [
      "\n",
      "\n",
      "\n",
      "\n",
      "\n",
      "\n",
      "\n",
      "\n",
      "\n",
      "\n",
      "\n",
      "\n",
      "\n",
      "\n",
      "\n",
      "\n",
      "\n",
      "\n",
      "  1%|▌                                                                           | 111/14610 [03:07<6:48:11,  1.69s/it]\n",
      "\n",
      "\n",
      "\n",
      "\n",
      "\n",
      "\n",
      "\n",
      "\n",
      "\n",
      "\n",
      "\n",
      "\n",
      "\n",
      "\n",
      "\n",
      "\n",
      "\n",
      "  1%|▌                                                                           | 112/14610 [03:08<6:45:42,  1.68s/it]\n",
      "\n",
      "\n",
      "\n",
      "\n",
      "\n",
      "\n",
      "\n",
      "\n",
      "\n",
      "\n",
      "\n",
      "\n",
      "\n",
      "\n",
      "\n",
      "\n",
      "\n",
      "  1%|▌                                                                           | 113/14610 [03:08<6:43:18,  1.67s/it]"
     ]
    },
    {
     "name": "stdout",
     "output_type": "stream",
     "text": [
      "{'key': 'd306zoyjsyarp7ifhu67rjxn52tv0t20', 'role': 'guest', '_format': 'for_p3', 'listing_id': '28966635', '_limit': 3, '_offset': 0}\n"
     ]
    },
    {
     "name": "stderr",
     "output_type": "stream",
     "text": [
      "\n",
      "\n",
      "\n",
      "\n",
      "\n",
      "\n",
      "\n",
      "\n",
      "\n",
      "\n",
      "\n",
      "\n",
      "\n",
      "\n",
      "\n",
      "\n",
      "\n",
      "\n",
      "  1%|▌                                                                           | 114/14610 [03:09<6:42:22,  1.67s/it]\n",
      "\n",
      "\n",
      "\n",
      "\n",
      "\n",
      "\n",
      "\n",
      "\n",
      "\n",
      "\n",
      "\n",
      "\n",
      "\n",
      "\n",
      "\n",
      "\n",
      "\n",
      "  1%|▌                                                                           | 115/14610 [03:10<6:39:57,  1.66s/it]\n",
      "\n",
      "\n",
      "\n",
      "\n",
      "\n",
      "\n",
      "\n",
      "\n",
      "\n",
      "\n",
      "\n",
      "\n",
      "\n",
      "\n",
      "\n",
      "\n",
      "\n",
      "  1%|▌                                                                           | 116/14610 [03:10<6:37:34,  1.65s/it]\n",
      "\n",
      "\n",
      "\n",
      "\n",
      "\n",
      "\n",
      "\n",
      "\n",
      "\n",
      "\n",
      "\n",
      "\n",
      "\n",
      "\n",
      "\n",
      "\n",
      "\n",
      "  1%|▌                                                                           | 117/14610 [03:11<6:35:18,  1.64s/it]"
     ]
    },
    {
     "name": "stdout",
     "output_type": "stream",
     "text": [
      "{'key': 'd306zoyjsyarp7ifhu67rjxn52tv0t20', 'role': 'guest', '_format': 'for_p3', 'listing_id': '8731014', '_limit': 19, '_offset': 0}\n"
     ]
    },
    {
     "name": "stderr",
     "output_type": "stream",
     "text": [
      "\n",
      "\n",
      "\n",
      "\n",
      "\n",
      "\n",
      "\n",
      "\n",
      "\n",
      "\n",
      "\n",
      "\n",
      "\n",
      "\n",
      "\n",
      "\n",
      "\n",
      "\n",
      "  1%|▌                                                                           | 118/14610 [03:12<6:35:01,  1.64s/it]\n",
      "\n",
      "\n",
      "\n",
      "\n",
      "\n",
      "\n",
      "\n",
      "\n",
      "\n",
      "\n",
      "\n",
      "\n",
      "\n",
      "\n",
      "\n",
      "\n",
      "\n",
      "  1%|▌                                                                           | 119/14610 [03:13<6:32:47,  1.63s/it]"
     ]
    },
    {
     "name": "stdout",
     "output_type": "stream",
     "text": [
      "{'key': 'd306zoyjsyarp7ifhu67rjxn52tv0t20', 'role': 'guest', '_format': 'for_p3', 'listing_id': '28259109', '_limit': 5, '_offset': 0}\n"
     ]
    },
    {
     "name": "stderr",
     "output_type": "stream",
     "text": [
      "\n",
      "\n",
      "\n",
      "\n",
      "\n",
      "\n",
      "\n",
      "\n",
      "\n",
      "\n",
      "\n",
      "\n",
      "\n",
      "\n",
      "\n",
      "\n",
      "\n",
      "\n",
      "  1%|▌                                                                           | 120/14610 [03:14<6:32:16,  1.62s/it]\n",
      "\n",
      "\n",
      "\n",
      "\n",
      "\n",
      "\n",
      "\n",
      "\n",
      "\n",
      "\n",
      "\n",
      "\n",
      "\n",
      "\n",
      "\n",
      "\n",
      "\n",
      "  1%|▋                                                                           | 121/14610 [03:15<6:30:03,  1.62s/it]"
     ]
    },
    {
     "name": "stdout",
     "output_type": "stream",
     "text": [
      "{'key': 'd306zoyjsyarp7ifhu67rjxn52tv0t20', 'role': 'guest', '_format': 'for_p3', 'listing_id': '28238147', '_limit': 1, '_offset': 0}\n"
     ]
    },
    {
     "name": "stderr",
     "output_type": "stream",
     "text": [
      "\n",
      "\n",
      "\n",
      "\n",
      "\n",
      "\n",
      "\n",
      "\n",
      "\n",
      "\n",
      "\n",
      "\n",
      "\n",
      "\n",
      "\n",
      "\n",
      "\n",
      "\n",
      "  1%|▋                                                                           | 122/14610 [03:16<6:29:49,  1.61s/it]\n",
      "\n",
      "\n",
      "\n",
      "\n",
      "\n",
      "\n",
      "\n",
      "\n",
      "\n",
      "\n",
      "\n",
      "\n",
      "\n",
      "\n",
      "\n",
      "\n",
      "\n",
      "  1%|▋                                                                           | 123/14610 [03:17<6:27:43,  1.61s/it]"
     ]
    },
    {
     "name": "stdout",
     "output_type": "stream",
     "text": [
      "{'key': 'd306zoyjsyarp7ifhu67rjxn52tv0t20', 'role': 'guest', '_format': 'for_p3', 'listing_id': '28964273', '_limit': 1, '_offset': 0}\n"
     ]
    },
    {
     "name": "stderr",
     "output_type": "stream",
     "text": [
      "\n",
      "\n",
      "\n",
      "\n",
      "\n",
      "\n",
      "\n",
      "\n",
      "\n",
      "\n",
      "\n",
      "\n",
      "\n",
      "\n",
      "\n",
      "\n",
      "\n",
      "\n",
      "  1%|▋                                                                           | 124/14610 [03:19<6:27:32,  1.61s/it]"
     ]
    },
    {
     "name": "stdout",
     "output_type": "stream",
     "text": [
      "{'key': 'd306zoyjsyarp7ifhu67rjxn52tv0t20', 'role': 'guest', '_format': 'for_p3', 'listing_id': '27414865', '_limit': 3, '_offset': 0}\n"
     ]
    },
    {
     "name": "stderr",
     "output_type": "stream",
     "text": [
      "\n",
      "\n",
      "\n",
      "\n",
      "\n",
      "\n",
      "\n",
      "\n",
      "\n",
      "\n",
      "\n",
      "\n",
      "\n",
      "\n",
      "\n",
      "\n",
      "\n",
      "\n",
      "  1%|▋                                                                           | 125/14610 [03:20<6:26:44,  1.60s/it]\n",
      "\n",
      "\n",
      "\n",
      "\n",
      "\n",
      "\n",
      "\n",
      "\n",
      "\n",
      "\n",
      "\n",
      "\n",
      "\n",
      "\n",
      "\n",
      "\n",
      "\n",
      "  1%|▋                                                                           | 126/14610 [03:20<6:24:43,  1.59s/it]"
     ]
    },
    {
     "name": "stdout",
     "output_type": "stream",
     "text": [
      "{'key': 'd306zoyjsyarp7ifhu67rjxn52tv0t20', 'role': 'guest', '_format': 'for_p3', 'listing_id': '28839123', '_limit': 2, '_offset': 0}\n"
     ]
    },
    {
     "name": "stderr",
     "output_type": "stream",
     "text": [
      "\n",
      "\n",
      "\n",
      "\n",
      "\n",
      "\n",
      "\n",
      "\n",
      "\n",
      "\n",
      "\n",
      "\n",
      "\n",
      "\n",
      "\n",
      "\n",
      "\n",
      "\n",
      "  1%|▋                                                                           | 127/14610 [03:22<6:24:09,  1.59s/it]\n",
      "\n",
      "\n",
      "\n",
      "\n",
      "\n",
      "\n",
      "\n",
      "\n",
      "\n",
      "\n",
      "\n",
      "\n",
      "\n",
      "\n",
      "\n",
      "\n",
      "\n",
      "  1%|▋                                                                           | 128/14610 [03:22<6:22:10,  1.58s/it]"
     ]
    },
    {
     "name": "stdout",
     "output_type": "stream",
     "text": [
      "{'key': 'd306zoyjsyarp7ifhu67rjxn52tv0t20', 'role': 'guest', '_format': 'for_p3', 'listing_id': '28914886', '_limit': 1, '_offset': 0}\n"
     ]
    },
    {
     "name": "stderr",
     "output_type": "stream",
     "text": [
      "\n",
      "\n",
      "\n",
      "\n",
      "\n",
      "\n",
      "\n",
      "\n",
      "\n",
      "\n",
      "\n",
      "\n",
      "\n",
      "\n",
      "\n",
      "\n",
      "\n",
      "\n",
      "  1%|▋                                                                           | 129/14610 [03:23<6:21:35,  1.58s/it]\n",
      "\n",
      "\n",
      "\n",
      "\n",
      "\n",
      "\n",
      "\n",
      "\n",
      "\n",
      "\n",
      "\n",
      "\n",
      "\n",
      "\n",
      "\n",
      "\n",
      "\n",
      "  1%|▋                                                                           | 130/14610 [03:24<6:19:40,  1.57s/it]\n",
      "\n",
      "\n",
      "\n",
      "\n",
      "\n",
      "\n",
      "\n",
      "\n",
      "\n",
      "\n",
      "\n",
      "\n",
      "\n",
      "\n",
      "\n",
      "\n",
      "\n",
      "  1%|▋                                                                           | 131/14610 [03:25<6:17:52,  1.57s/it]\n",
      "\n",
      "\n",
      "\n",
      "\n",
      "\n",
      "\n",
      "\n",
      "\n",
      "\n",
      "\n",
      "\n",
      "\n",
      "\n",
      "\n",
      "\n",
      "\n",
      "\n",
      "  1%|▋                                                                           | 132/14610 [03:25<6:16:00,  1.56s/it]"
     ]
    },
    {
     "name": "stdout",
     "output_type": "stream",
     "text": [
      "{'key': 'd306zoyjsyarp7ifhu67rjxn52tv0t20', 'role': 'guest', '_format': 'for_p3', 'listing_id': '19790405', '_limit': 5, '_offset': 0}\n"
     ]
    },
    {
     "name": "stderr",
     "output_type": "stream",
     "text": [
      "\n",
      "\n",
      "\n",
      "\n",
      "\n",
      "\n",
      "\n",
      "\n",
      "\n",
      "\n",
      "\n",
      "\n",
      "\n",
      "\n",
      "\n",
      "\n",
      "\n",
      "\n",
      "  1%|▋                                                                           | 133/14610 [03:27<6:15:37,  1.56s/it]"
     ]
    },
    {
     "name": "stdout",
     "output_type": "stream",
     "text": [
      "{'key': 'd306zoyjsyarp7ifhu67rjxn52tv0t20', 'role': 'guest', '_format': 'for_p3', 'listing_id': '13872471', '_limit': 2, '_offset': 0}\n"
     ]
    },
    {
     "name": "stderr",
     "output_type": "stream",
     "text": [
      "\n",
      "\n",
      "\n",
      "\n",
      "\n",
      "\n",
      "\n",
      "\n",
      "\n",
      "\n",
      "\n",
      "\n",
      "\n",
      "\n",
      "\n",
      "\n",
      "\n",
      "\n",
      "  1%|▋                                                                           | 134/14610 [03:28<6:15:10,  1.56s/it]"
     ]
    },
    {
     "name": "stdout",
     "output_type": "stream",
     "text": [
      "{'key': 'd306zoyjsyarp7ifhu67rjxn52tv0t20', 'role': 'guest', '_format': 'for_p3', 'listing_id': '19364010', '_limit': 9, '_offset': 0}\n"
     ]
    },
    {
     "name": "stderr",
     "output_type": "stream",
     "text": [
      "\n",
      "\n",
      "\n",
      "\n",
      "\n",
      "\n",
      "\n",
      "\n",
      "\n",
      "\n",
      "\n",
      "\n",
      "\n",
      "\n",
      "\n",
      "\n",
      "\n",
      "\n",
      "  1%|▋                                                                           | 135/14610 [03:29<6:14:53,  1.55s/it]\n",
      "\n",
      "\n",
      "\n",
      "\n",
      "\n",
      "\n",
      "\n",
      "\n",
      "\n",
      "\n",
      "\n",
      "\n",
      "\n",
      "\n",
      "\n",
      "\n",
      "\n",
      "  1%|▋                                                                           | 136/14610 [03:30<6:13:07,  1.55s/it]"
     ]
    },
    {
     "name": "stdout",
     "output_type": "stream",
     "text": [
      "{'key': 'd306zoyjsyarp7ifhu67rjxn52tv0t20', 'role': 'guest', '_format': 'for_p3', 'listing_id': '20591561', '_limit': 3, '_offset': 0}\n"
     ]
    },
    {
     "name": "stderr",
     "output_type": "stream",
     "text": [
      "\n",
      "\n",
      "\n",
      "\n",
      "\n",
      "\n",
      "\n",
      "\n",
      "\n",
      "\n",
      "\n",
      "\n",
      "\n",
      "\n",
      "\n",
      "\n",
      "\n",
      "\n",
      "  1%|▋                                                                           | 137/14610 [03:31<6:12:34,  1.54s/it]"
     ]
    },
    {
     "name": "stdout",
     "output_type": "stream",
     "text": [
      "{'key': 'd306zoyjsyarp7ifhu67rjxn52tv0t20', 'role': 'guest', '_format': 'for_p3', 'listing_id': '24231883', '_limit': 4, '_offset': 0}\n"
     ]
    },
    {
     "name": "stderr",
     "output_type": "stream",
     "text": [
      "\n",
      "\n",
      "\n",
      "\n",
      "\n",
      "\n",
      "\n",
      "\n",
      "\n",
      "\n",
      "\n",
      "\n",
      "\n",
      "\n",
      "\n",
      "\n",
      "\n",
      "\n",
      "  1%|▋                                                                           | 138/14610 [03:32<6:12:08,  1.54s/it]"
     ]
    },
    {
     "name": "stdout",
     "output_type": "stream",
     "text": [
      "{'key': 'd306zoyjsyarp7ifhu67rjxn52tv0t20', 'role': 'guest', '_format': 'for_p3', 'listing_id': '8008264', '_limit': 20, '_offset': 0}\n"
     ]
    },
    {
     "name": "stderr",
     "output_type": "stream",
     "text": [
      "\n",
      "\n",
      "\n",
      "\n",
      "\n",
      "\n",
      "\n",
      "\n",
      "\n",
      "\n",
      "\n",
      "\n",
      "\n",
      "\n",
      "\n",
      "\n",
      "\n",
      "\n",
      "  1%|▋                                                                           | 139/14610 [03:35<6:13:29,  1.55s/it]"
     ]
    },
    {
     "name": "stdout",
     "output_type": "stream",
     "text": [
      "{'key': 'd306zoyjsyarp7ifhu67rjxn52tv0t20', 'role': 'guest', '_format': 'for_p3', 'listing_id': '29231850', '_limit': 3, '_offset': 0}\n"
     ]
    },
    {
     "name": "stderr",
     "output_type": "stream",
     "text": [
      "\n",
      "\n",
      "\n",
      "\n",
      "\n",
      "\n",
      "\n",
      "\n",
      "\n",
      "\n",
      "\n",
      "\n",
      "\n",
      "\n",
      "\n",
      "\n",
      "\n",
      "\n",
      "  1%|▋                                                                           | 140/14610 [03:36<6:12:56,  1.55s/it]"
     ]
    },
    {
     "name": "stdout",
     "output_type": "stream",
     "text": [
      "{'key': 'd306zoyjsyarp7ifhu67rjxn52tv0t20', 'role': 'guest', '_format': 'for_p3', 'listing_id': '6178580', '_limit': 24, '_offset': 0}\n"
     ]
    },
    {
     "name": "stderr",
     "output_type": "stream",
     "text": [
      "\n",
      "\n",
      "\n",
      "\n",
      "\n",
      "\n",
      "\n",
      "\n",
      "\n",
      "\n",
      "\n",
      "\n",
      "\n",
      "\n",
      "\n",
      "\n",
      "\n",
      "\n",
      "  1%|▋                                                                           | 141/14610 [03:38<6:13:55,  1.55s/it]\n",
      "\n",
      "\n",
      "\n",
      "\n",
      "\n",
      "\n",
      "\n",
      "\n",
      "\n",
      "\n",
      "\n",
      "\n",
      "\n",
      "\n",
      "\n",
      "\n",
      "\n",
      "  1%|▋                                                                           | 142/14610 [03:39<6:12:18,  1.54s/it]"
     ]
    },
    {
     "name": "stdout",
     "output_type": "stream",
     "text": [
      "{'key': 'd306zoyjsyarp7ifhu67rjxn52tv0t20', 'role': 'guest', '_format': 'for_p3', 'listing_id': '9436356', '_limit': 9, '_offset': 0}\n"
     ]
    },
    {
     "name": "stderr",
     "output_type": "stream",
     "text": [
      "\n",
      "\n",
      "\n",
      "\n",
      "\n",
      "\n",
      "\n",
      "\n",
      "\n",
      "\n",
      "\n",
      "\n",
      "\n",
      "\n",
      "\n",
      "\n",
      "\n",
      "\n",
      "  1%|▋                                                                           | 143/14610 [03:40<6:12:12,  1.54s/it]"
     ]
    },
    {
     "name": "stdout",
     "output_type": "stream",
     "text": [
      "{'key': 'd306zoyjsyarp7ifhu67rjxn52tv0t20', 'role': 'guest', '_format': 'for_p3', 'listing_id': '4445054', '_limit': 66, '_offset': 0}\n"
     ]
    },
    {
     "name": "stderr",
     "output_type": "stream",
     "text": [
      "\n",
      "\n",
      "\n",
      "\n",
      "\n",
      "\n",
      "\n",
      "\n",
      "\n",
      "\n",
      "\n",
      "\n",
      "\n",
      "\n",
      "\n",
      "\n",
      "\n",
      "\n",
      "  1%|▋                                                                           | 144/14610 [03:42<6:13:01,  1.55s/it]"
     ]
    },
    {
     "name": "stdout",
     "output_type": "stream",
     "text": [
      "{'key': 'd306zoyjsyarp7ifhu67rjxn52tv0t20', 'role': 'guest', '_format': 'for_p3', 'listing_id': '8122828', '_limit': 19, '_offset': 0}\n"
     ]
    },
    {
     "name": "stderr",
     "output_type": "stream",
     "text": [
      "\n",
      "\n",
      "\n",
      "\n",
      "\n",
      "\n",
      "\n",
      "\n",
      "\n",
      "\n",
      "\n",
      "\n",
      "\n",
      "\n",
      "\n",
      "\n",
      "\n",
      "\n",
      "  1%|▊                                                                           | 145/14610 [03:44<6:13:06,  1.55s/it]"
     ]
    },
    {
     "name": "stdout",
     "output_type": "stream",
     "text": [
      "{'key': 'd306zoyjsyarp7ifhu67rjxn52tv0t20', 'role': 'guest', '_format': 'for_p3', 'listing_id': '7963607', '_limit': 24, '_offset': 0}\n"
     ]
    },
    {
     "name": "stderr",
     "output_type": "stream",
     "text": [
      "\n",
      "\n",
      "\n",
      "\n",
      "\n",
      "\n",
      "\n",
      "\n",
      "\n",
      "\n",
      "\n",
      "\n",
      "\n",
      "\n",
      "\n",
      "\n",
      "\n",
      "\n",
      "  1%|▊                                                                           | 146/14610 [03:46<6:13:24,  1.55s/it]"
     ]
    },
    {
     "name": "stdout",
     "output_type": "stream",
     "text": [
      "{'key': 'd306zoyjsyarp7ifhu67rjxn52tv0t20', 'role': 'guest', '_format': 'for_p3', 'listing_id': '19533651', '_limit': 5, '_offset': 0}\n"
     ]
    },
    {
     "name": "stderr",
     "output_type": "stream",
     "text": [
      "\n",
      "\n",
      "\n",
      "\n",
      "\n",
      "\n",
      "\n",
      "\n",
      "\n",
      "\n",
      "\n",
      "\n",
      "\n",
      "\n",
      "\n",
      "\n",
      "\n",
      "\n",
      "  1%|▊                                                                           | 147/14610 [03:47<6:12:58,  1.55s/it]"
     ]
    },
    {
     "name": "stdout",
     "output_type": "stream",
     "text": [
      "{'key': 'd306zoyjsyarp7ifhu67rjxn52tv0t20', 'role': 'guest', '_format': 'for_p3', 'listing_id': '4458525', '_limit': 5, '_offset': 0}\n"
     ]
    },
    {
     "name": "stderr",
     "output_type": "stream",
     "text": [
      "\n",
      "\n",
      "\n",
      "\n",
      "\n",
      "\n",
      "\n",
      "\n",
      "\n",
      "\n",
      "\n",
      "\n",
      "\n",
      "\n",
      "\n",
      "\n",
      "\n",
      "\n",
      "  1%|▊                                                                           | 148/14610 [03:48<6:12:49,  1.55s/it]"
     ]
    },
    {
     "name": "stdout",
     "output_type": "stream",
     "text": [
      "{'key': 'd306zoyjsyarp7ifhu67rjxn52tv0t20', 'role': 'guest', '_format': 'for_p3', 'listing_id': '4713037', '_limit': 3, '_offset': 0}\n"
     ]
    },
    {
     "name": "stderr",
     "output_type": "stream",
     "text": [
      "\n",
      "\n",
      "\n",
      "\n",
      "\n",
      "\n",
      "\n",
      "\n",
      "\n",
      "\n",
      "\n",
      "\n",
      "\n",
      "\n",
      "\n",
      "\n",
      "\n",
      "\n",
      "  1%|▊                                                                           | 149/14610 [03:50<6:13:18,  1.55s/it]"
     ]
    },
    {
     "name": "stdout",
     "output_type": "stream",
     "text": [
      "{'key': 'd306zoyjsyarp7ifhu67rjxn52tv0t20', 'role': 'guest', '_format': 'for_p3', 'listing_id': '15403668', '_limit': 3, '_offset': 0}\n"
     ]
    },
    {
     "name": "stderr",
     "output_type": "stream",
     "text": [
      "\n",
      "\n",
      "\n",
      "\n",
      "\n",
      "\n",
      "\n",
      "\n",
      "\n",
      "\n",
      "\n",
      "\n",
      "\n",
      "\n",
      "\n",
      "\n",
      "\n",
      "\n",
      "  1%|▊                                                                           | 150/14610 [03:51<6:12:42,  1.55s/it]"
     ]
    },
    {
     "name": "stdout",
     "output_type": "stream",
     "text": [
      "{'key': 'd306zoyjsyarp7ifhu67rjxn52tv0t20', 'role': 'guest', '_format': 'for_p3', 'listing_id': '20802216', '_limit': 4, '_offset': 0}\n"
     ]
    },
    {
     "name": "stderr",
     "output_type": "stream",
     "text": [
      "\n",
      "\n",
      "\n",
      "\n",
      "\n",
      "\n",
      "\n",
      "\n",
      "\n",
      "\n",
      "\n",
      "\n",
      "\n",
      "\n",
      "\n",
      "\n",
      "\n",
      "\n",
      "  1%|▊                                                                           | 151/14610 [03:53<6:12:24,  1.55s/it]\n",
      "\n",
      "\n",
      "\n",
      "\n",
      "\n",
      "\n",
      "\n",
      "\n",
      "\n",
      "\n",
      "\n",
      "\n",
      "\n",
      "\n",
      "\n",
      "\n",
      "\n",
      "  1%|▊                                                                           | 152/14610 [03:53<6:10:48,  1.54s/it]"
     ]
    },
    {
     "name": "stdout",
     "output_type": "stream",
     "text": [
      "{'key': 'd306zoyjsyarp7ifhu67rjxn52tv0t20', 'role': 'guest', '_format': 'for_p3', 'listing_id': '12346687', '_limit': 13, '_offset': 0}\n"
     ]
    },
    {
     "name": "stderr",
     "output_type": "stream",
     "text": [
      "\n",
      "\n",
      "\n",
      "\n",
      "\n",
      "\n",
      "\n",
      "\n",
      "\n",
      "\n",
      "\n",
      "\n",
      "\n",
      "\n",
      "\n",
      "\n",
      "\n",
      "\n",
      "  1%|▊                                                                           | 153/14610 [03:55<6:10:48,  1.54s/it]\n",
      "\n",
      "\n",
      "\n",
      "\n",
      "\n",
      "\n",
      "\n",
      "\n",
      "\n",
      "\n",
      "\n",
      "\n",
      "\n",
      "\n",
      "\n",
      "\n",
      "\n",
      "  1%|▊                                                                           | 154/14610 [03:56<6:09:16,  1.53s/it]"
     ]
    },
    {
     "name": "stdout",
     "output_type": "stream",
     "text": [
      "{'key': 'd306zoyjsyarp7ifhu67rjxn52tv0t20', 'role': 'guest', '_format': 'for_p3', 'listing_id': '6466793', '_limit': 42, '_offset': 0}\n"
     ]
    },
    {
     "name": "stderr",
     "output_type": "stream",
     "text": [
      "\n",
      "\n",
      "\n",
      "\n",
      "\n",
      "\n",
      "\n",
      "\n",
      "\n",
      "\n",
      "\n",
      "\n",
      "\n",
      "\n",
      "\n",
      "\n",
      "\n",
      "\n",
      "  1%|▊                                                                           | 155/14610 [03:58<6:10:11,  1.54s/it]\n",
      "\n",
      "\n",
      "\n",
      "\n",
      "\n",
      "\n",
      "\n",
      "\n",
      "\n",
      "\n",
      "\n",
      "\n",
      "\n",
      "\n",
      "\n",
      "\n",
      "\n",
      "  1%|▊                                                                           | 156/14610 [03:58<6:08:39,  1.53s/it]\n",
      "\n",
      "\n",
      "\n",
      "\n",
      "\n",
      "\n",
      "\n",
      "\n",
      "\n",
      "\n",
      "\n",
      "\n",
      "\n",
      "\n",
      "\n",
      "\n",
      "\n",
      "  1%|▊                                                                           | 157/14610 [03:59<6:07:07,  1.52s/it]\n",
      "\n",
      "\n",
      "\n",
      "\n",
      "\n",
      "\n",
      "\n",
      "\n",
      "\n",
      "\n",
      "\n",
      "\n",
      "\n",
      "\n",
      "\n",
      "\n",
      "\n",
      "  1%|▊                                                                           | 158/14610 [03:59<6:05:29,  1.52s/it]\n",
      "\n",
      "\n",
      "\n",
      "\n",
      "\n",
      "\n",
      "\n",
      "\n",
      "\n",
      "\n",
      "\n",
      "\n",
      "\n",
      "\n",
      "\n",
      "\n",
      "\n",
      "  1%|▊                                                                           | 159/14610 [04:00<6:04:02,  1.51s/it]\n",
      "\n",
      "\n",
      "\n",
      "\n",
      "\n",
      "\n",
      "\n",
      "\n",
      "\n",
      "\n",
      "\n",
      "\n",
      "\n",
      "\n",
      "\n",
      "\n",
      "\n",
      "  1%|▊                                                                           | 160/14610 [04:00<6:02:35,  1.51s/it]"
     ]
    },
    {
     "name": "stdout",
     "output_type": "stream",
     "text": [
      "{'key': 'd306zoyjsyarp7ifhu67rjxn52tv0t20', 'role': 'guest', '_format': 'for_p3', 'listing_id': '15404826', '_limit': 6, '_offset': 0}\n"
     ]
    },
    {
     "name": "stderr",
     "output_type": "stream",
     "text": [
      "\n",
      "\n",
      "\n",
      "\n",
      "\n",
      "\n",
      "\n",
      "\n",
      "\n",
      "\n",
      "\n",
      "\n",
      "\n",
      "\n",
      "\n",
      "\n",
      "\n",
      "\n",
      "  1%|▊                                                                           | 161/14610 [04:02<6:02:24,  1.50s/it]"
     ]
    },
    {
     "name": "stdout",
     "output_type": "stream",
     "text": [
      "{'key': 'd306zoyjsyarp7ifhu67rjxn52tv0t20', 'role': 'guest', '_format': 'for_p3', 'listing_id': '29325575', '_limit': 1, '_offset': 0}\n"
     ]
    },
    {
     "name": "stderr",
     "output_type": "stream",
     "text": [
      "\n",
      "\n",
      "\n",
      "\n",
      "\n",
      "\n",
      "\n",
      "\n",
      "\n",
      "\n",
      "\n",
      "\n",
      "\n",
      "\n",
      "\n",
      "\n",
      "\n",
      "\n",
      "  1%|▊                                                                           | 162/14610 [04:03<6:01:53,  1.50s/it]"
     ]
    },
    {
     "name": "stdout",
     "output_type": "stream",
     "text": [
      "{'key': 'd306zoyjsyarp7ifhu67rjxn52tv0t20', 'role': 'guest', '_format': 'for_p3', 'listing_id': '4139314', '_limit': 50, '_offset': 0}\n"
     ]
    },
    {
     "name": "stderr",
     "output_type": "stream",
     "text": [
      "\n",
      "\n",
      "\n",
      "\n",
      "\n",
      "\n",
      "\n",
      "\n",
      "\n",
      "\n",
      "\n",
      "\n",
      "\n",
      "\n",
      "\n",
      "\n",
      "\n",
      "\n",
      "  1%|▊                                                                           | 163/14610 [04:05<6:02:53,  1.51s/it]\n",
      "\n",
      "\n",
      "\n",
      "\n",
      "\n",
      "\n",
      "\n",
      "\n",
      "\n",
      "\n",
      "\n",
      "\n",
      "\n",
      "\n",
      "\n",
      "\n",
      "\n",
      "  1%|▊                                                                           | 164/14610 [04:06<6:01:32,  1.50s/it]\n",
      "\n",
      "\n",
      "\n",
      "\n",
      "\n",
      "\n",
      "\n",
      "\n",
      "\n",
      "\n",
      "\n",
      "\n",
      "\n",
      "\n",
      "\n",
      "\n",
      "\n",
      "  1%|▊                                                                           | 165/14610 [04:07<6:00:26,  1.50s/it]"
     ]
    },
    {
     "name": "stdout",
     "output_type": "stream",
     "text": [
      "{'key': 'd306zoyjsyarp7ifhu67rjxn52tv0t20', 'role': 'guest', '_format': 'for_p3', 'listing_id': '19533610', '_limit': 4, '_offset': 0}\n"
     ]
    },
    {
     "name": "stderr",
     "output_type": "stream",
     "text": [
      "\n",
      "\n",
      "\n",
      "\n",
      "\n",
      "\n",
      "\n",
      "\n",
      "\n",
      "\n",
      "\n",
      "\n",
      "\n",
      "\n",
      "\n",
      "\n",
      "\n",
      "\n",
      "  1%|▊                                                                           | 166/14610 [04:08<6:00:28,  1.50s/it]"
     ]
    },
    {
     "name": "stdout",
     "output_type": "stream",
     "text": [
      "{'key': 'd306zoyjsyarp7ifhu67rjxn52tv0t20', 'role': 'guest', '_format': 'for_p3', 'listing_id': '18968551', '_limit': 5, '_offset': 0}\n"
     ]
    },
    {
     "name": "stderr",
     "output_type": "stream",
     "text": [
      "\n",
      "\n",
      "\n",
      "\n",
      "\n",
      "\n",
      "\n",
      "\n",
      "\n",
      "\n",
      "\n",
      "\n",
      "\n",
      "\n",
      "\n",
      "\n",
      "\n",
      "\n",
      "  1%|▊                                                                           | 167/14610 [04:10<6:00:23,  1.50s/it]"
     ]
    },
    {
     "name": "stdout",
     "output_type": "stream",
     "text": [
      "{'key': 'd306zoyjsyarp7ifhu67rjxn52tv0t20', 'role': 'guest', '_format': 'for_p3', 'listing_id': '19779854', '_limit': 16, '_offset': 0}\n"
     ]
    },
    {
     "name": "stderr",
     "output_type": "stream",
     "text": [
      "\n",
      "\n",
      "\n",
      "\n",
      "\n",
      "\n",
      "\n",
      "\n",
      "\n",
      "\n",
      "\n",
      "\n",
      "\n",
      "\n",
      "\n",
      "\n",
      "\n",
      "\n",
      "  1%|▊                                                                           | 168/14610 [04:11<6:00:46,  1.50s/it]"
     ]
    },
    {
     "name": "stdout",
     "output_type": "stream",
     "text": [
      "{'key': 'd306zoyjsyarp7ifhu67rjxn52tv0t20', 'role': 'guest', '_format': 'for_p3', 'listing_id': '21557981', '_limit': 29, '_offset': 0}\n"
     ]
    },
    {
     "name": "stderr",
     "output_type": "stream",
     "text": [
      "\n",
      "\n",
      "\n",
      "\n",
      "\n",
      "\n",
      "\n",
      "\n",
      "\n",
      "\n",
      "\n",
      "\n",
      "\n",
      "\n",
      "\n",
      "\n",
      "\n",
      "\n",
      "  1%|▉                                                                           | 169/14610 [04:13<6:01:01,  1.50s/it]"
     ]
    },
    {
     "name": "stdout",
     "output_type": "stream",
     "text": [
      "{'key': 'd306zoyjsyarp7ifhu67rjxn52tv0t20', 'role': 'guest', '_format': 'for_p3', 'listing_id': '21373451', '_limit': 33, '_offset': 0}\n"
     ]
    },
    {
     "name": "stderr",
     "output_type": "stream",
     "text": [
      "\n",
      "\n",
      "\n",
      "\n",
      "\n",
      "\n",
      "\n",
      "\n",
      "\n",
      "\n",
      "\n",
      "\n",
      "\n",
      "\n",
      "\n",
      "\n",
      "\n",
      "\n",
      "  1%|▉                                                                           | 170/14610 [04:15<6:01:08,  1.50s/it]"
     ]
    },
    {
     "name": "stdout",
     "output_type": "stream",
     "text": [
      "{'key': 'd306zoyjsyarp7ifhu67rjxn52tv0t20', 'role': 'guest', '_format': 'for_p3', 'listing_id': '24212698', '_limit': 8, '_offset': 0}\n"
     ]
    },
    {
     "name": "stderr",
     "output_type": "stream",
     "text": [
      "\n",
      "\n",
      "\n",
      "\n",
      "\n",
      "\n",
      "\n",
      "\n",
      "\n",
      "\n",
      "\n",
      "\n",
      "\n",
      "\n",
      "\n",
      "\n",
      "\n",
      "\n",
      "  1%|▉                                                                           | 171/14610 [04:16<6:00:57,  1.50s/it]"
     ]
    },
    {
     "name": "stdout",
     "output_type": "stream",
     "text": [
      "{'key': 'd306zoyjsyarp7ifhu67rjxn52tv0t20', 'role': 'guest', '_format': 'for_p3', 'listing_id': '21553773', '_limit': 23, '_offset': 0}\n"
     ]
    },
    {
     "name": "stderr",
     "output_type": "stream",
     "text": [
      "\n",
      "\n",
      "\n",
      "\n",
      "\n",
      "\n",
      "\n",
      "\n",
      "\n",
      "\n",
      "\n",
      "\n",
      "\n",
      "\n",
      "\n",
      "\n",
      "\n",
      "\n",
      "  1%|▉                                                                           | 172/14610 [04:18<6:01:03,  1.50s/it]"
     ]
    },
    {
     "name": "stdout",
     "output_type": "stream",
     "text": [
      "{'key': 'd306zoyjsyarp7ifhu67rjxn52tv0t20', 'role': 'guest', '_format': 'for_p3', 'listing_id': '24212459', '_limit': 6, '_offset': 0}\n"
     ]
    },
    {
     "name": "stderr",
     "output_type": "stream",
     "text": [
      "\n",
      "\n",
      "\n",
      "\n",
      "\n",
      "\n",
      "\n",
      "\n",
      "\n",
      "\n",
      "\n",
      "\n",
      "\n",
      "\n",
      "\n",
      "\n",
      "\n",
      "\n",
      "  1%|▉                                                                           | 173/14610 [04:19<6:00:48,  1.50s/it]"
     ]
    },
    {
     "name": "stdout",
     "output_type": "stream",
     "text": [
      "{'key': 'd306zoyjsyarp7ifhu67rjxn52tv0t20', 'role': 'guest', '_format': 'for_p3', 'listing_id': '24526176', '_limit': 11, '_offset': 0}\n"
     ]
    },
    {
     "name": "stderr",
     "output_type": "stream",
     "text": [
      "\n",
      "\n",
      "\n",
      "\n",
      "\n",
      "\n",
      "\n",
      "\n",
      "\n",
      "\n",
      "\n",
      "\n",
      "\n",
      "\n",
      "\n",
      "\n",
      "\n",
      "\n",
      "  1%|▉                                                                           | 174/14610 [04:20<6:00:27,  1.50s/it]"
     ]
    },
    {
     "name": "stdout",
     "output_type": "stream",
     "text": [
      "{'key': 'd306zoyjsyarp7ifhu67rjxn52tv0t20', 'role': 'guest', '_format': 'for_p3', 'listing_id': '27682159', '_limit': 9, '_offset': 0}\n"
     ]
    },
    {
     "name": "stderr",
     "output_type": "stream",
     "text": [
      "\n",
      "\n",
      "\n",
      "\n",
      "\n",
      "\n",
      "\n",
      "\n",
      "\n",
      "\n",
      "\n",
      "\n",
      "\n",
      "\n",
      "\n",
      "\n",
      "\n",
      "\n",
      "  1%|▉                                                                           | 175/14610 [04:22<6:00:21,  1.50s/it]"
     ]
    },
    {
     "name": "stdout",
     "output_type": "stream",
     "text": [
      "{'key': 'd306zoyjsyarp7ifhu67rjxn52tv0t20', 'role': 'guest', '_format': 'for_p3', 'listing_id': '18297872', '_limit': 12, '_offset': 0}\n"
     ]
    },
    {
     "name": "stderr",
     "output_type": "stream",
     "text": [
      "\n",
      "\n",
      "\n",
      "\n",
      "\n",
      "\n",
      "\n",
      "\n",
      "\n",
      "\n",
      "\n",
      "\n",
      "\n",
      "\n",
      "\n",
      "\n",
      "\n",
      "\n",
      "  1%|▉                                                                           | 176/14610 [04:23<6:00:18,  1.50s/it]"
     ]
    },
    {
     "name": "stdout",
     "output_type": "stream",
     "text": [
      "{'key': 'd306zoyjsyarp7ifhu67rjxn52tv0t20', 'role': 'guest', '_format': 'for_p3', 'listing_id': '18339000', '_limit': 63, '_offset': 0}\n"
     ]
    },
    {
     "name": "stderr",
     "output_type": "stream",
     "text": [
      "\n",
      "\n",
      "\n",
      "\n",
      "\n",
      "\n",
      "\n",
      "\n",
      "\n",
      "\n",
      "\n",
      "\n",
      "\n",
      "\n",
      "\n",
      "\n",
      "\n",
      "\n",
      "  1%|▉                                                                           | 177/14610 [04:25<6:01:07,  1.50s/it]"
     ]
    },
    {
     "name": "stdout",
     "output_type": "stream",
     "text": [
      "{'key': 'd306zoyjsyarp7ifhu67rjxn52tv0t20', 'role': 'guest', '_format': 'for_p3', 'listing_id': '11618416', '_limit': 50, '_offset': 0}\n"
     ]
    },
    {
     "name": "stderr",
     "output_type": "stream",
     "text": [
      "\n",
      "\n",
      "\n",
      "\n",
      "\n",
      "\n",
      "\n",
      "\n",
      "\n",
      "\n",
      "\n",
      "\n",
      "\n",
      "\n",
      "\n",
      "\n",
      "\n",
      "\n",
      "  1%|▉                                                                           | 178/14610 [04:27<6:01:52,  1.50s/it]"
     ]
    },
    {
     "name": "stdout",
     "output_type": "stream",
     "text": [
      "{'key': 'd306zoyjsyarp7ifhu67rjxn52tv0t20', 'role': 'guest', '_format': 'for_p3', 'listing_id': '17389112', '_limit': 21, '_offset': 0}\n"
     ]
    },
    {
     "name": "stderr",
     "output_type": "stream",
     "text": [
      "\n",
      "\n",
      "\n",
      "\n",
      "\n",
      "\n",
      "\n",
      "\n",
      "\n",
      "\n",
      "\n",
      "\n",
      "\n",
      "\n",
      "\n",
      "\n",
      "\n",
      "\n",
      "  1%|▉                                                                           | 179/14610 [04:29<6:02:10,  1.51s/it]"
     ]
    },
    {
     "name": "stdout",
     "output_type": "stream",
     "text": [
      "{'key': 'd306zoyjsyarp7ifhu67rjxn52tv0t20', 'role': 'guest', '_format': 'for_p3', 'listing_id': '28382161', '_limit': 1, '_offset': 0}\n"
     ]
    },
    {
     "name": "stderr",
     "output_type": "stream",
     "text": [
      "\n",
      "\n",
      "\n",
      "\n",
      "\n",
      "\n",
      "\n",
      "\n",
      "\n",
      "\n",
      "\n",
      "\n",
      "\n",
      "\n",
      "\n",
      "\n",
      "\n",
      "\n",
      "  1%|▉                                                                           | 180/14610 [04:30<6:01:48,  1.50s/it]"
     ]
    },
    {
     "name": "stdout",
     "output_type": "stream",
     "text": [
      "{'key': 'd306zoyjsyarp7ifhu67rjxn52tv0t20', 'role': 'guest', '_format': 'for_p3', 'listing_id': '18281385', '_limit': 30, '_offset': 0}\n"
     ]
    },
    {
     "name": "stderr",
     "output_type": "stream",
     "text": [
      "\n",
      "\n",
      "\n",
      "\n",
      "\n",
      "\n",
      "\n",
      "\n",
      "\n",
      "\n",
      "\n",
      "\n",
      "\n",
      "\n",
      "\n",
      "\n",
      "\n",
      "\n",
      "  1%|▉                                                                           | 181/14610 [04:32<6:01:55,  1.50s/it]"
     ]
    },
    {
     "name": "stdout",
     "output_type": "stream",
     "text": [
      "{'key': 'd306zoyjsyarp7ifhu67rjxn52tv0t20', 'role': 'guest', '_format': 'for_p3', 'listing_id': '20662649', '_limit': 50, '_offset': 0}\n"
     ]
    },
    {
     "name": "stderr",
     "output_type": "stream",
     "text": [
      "\n",
      "\n",
      "\n",
      "\n",
      "\n",
      "\n",
      "\n",
      "\n",
      "\n",
      "\n",
      "\n",
      "\n",
      "\n",
      "\n",
      "\n",
      "\n",
      "\n",
      "\n",
      "  1%|▉                                                                           | 182/14610 [04:34<6:02:28,  1.51s/it]"
     ]
    },
    {
     "name": "stdout",
     "output_type": "stream",
     "text": [
      "{'key': 'd306zoyjsyarp7ifhu67rjxn52tv0t20', 'role': 'guest', '_format': 'for_p3', 'listing_id': '18280954', '_limit': 56, '_offset': 0}\n"
     ]
    },
    {
     "name": "stderr",
     "output_type": "stream",
     "text": [
      "\n",
      "\n",
      "\n",
      "\n",
      "\n",
      "\n",
      "\n",
      "\n",
      "\n",
      "\n",
      "\n",
      "\n",
      "\n",
      "\n",
      "\n",
      "\n",
      "\n",
      "\n",
      "  1%|▉                                                                           | 183/14610 [04:36<6:03:30,  1.51s/it]"
     ]
    },
    {
     "name": "stdout",
     "output_type": "stream",
     "text": [
      "{'key': 'd306zoyjsyarp7ifhu67rjxn52tv0t20', 'role': 'guest', '_format': 'for_p3', 'listing_id': '17372566', '_limit': 20, '_offset': 0}\n"
     ]
    },
    {
     "name": "stderr",
     "output_type": "stream",
     "text": [
      "\n",
      "\n",
      "\n",
      "\n",
      "\n",
      "\n",
      "\n",
      "\n",
      "\n",
      "\n",
      "\n",
      "\n",
      "\n",
      "\n",
      "\n",
      "\n",
      "\n",
      "\n",
      "  1%|▉                                                                           | 184/14610 [04:38<6:03:39,  1.51s/it]"
     ]
    },
    {
     "name": "stdout",
     "output_type": "stream",
     "text": [
      "{'key': 'd306zoyjsyarp7ifhu67rjxn52tv0t20', 'role': 'guest', '_format': 'for_p3', 'listing_id': '8122890', '_limit': 57, '_offset': 0}\n"
     ]
    },
    {
     "name": "stderr",
     "output_type": "stream",
     "text": [
      "\n",
      "\n",
      "\n",
      "\n",
      "\n",
      "\n",
      "\n",
      "\n",
      "\n",
      "\n",
      "\n",
      "\n",
      "\n",
      "\n",
      "\n",
      "\n",
      "\n",
      "\n",
      "  1%|▉                                                                           | 185/14610 [04:40<6:04:27,  1.52s/it]"
     ]
    },
    {
     "name": "stdout",
     "output_type": "stream",
     "text": [
      "{'key': 'd306zoyjsyarp7ifhu67rjxn52tv0t20', 'role': 'guest', '_format': 'for_p3', 'listing_id': '20758853', '_limit': 38, '_offset': 0}\n"
     ]
    },
    {
     "name": "stderr",
     "output_type": "stream",
     "text": [
      "\n",
      "\n",
      "\n",
      "\n",
      "\n",
      "\n",
      "\n",
      "\n",
      "\n",
      "\n",
      "\n",
      "\n",
      "\n",
      "\n",
      "\n",
      "\n",
      "\n",
      "\n",
      "  1%|▉                                                                           | 186/14610 [04:42<6:04:40,  1.52s/it]"
     ]
    },
    {
     "name": "stdout",
     "output_type": "stream",
     "text": [
      "{'key': 'd306zoyjsyarp7ifhu67rjxn52tv0t20', 'role': 'guest', '_format': 'for_p3', 'listing_id': '18337574', '_limit': 34, '_offset': 0}\n"
     ]
    },
    {
     "name": "stderr",
     "output_type": "stream",
     "text": [
      "\n",
      "\n",
      "\n",
      "\n",
      "\n",
      "\n",
      "\n",
      "\n",
      "\n",
      "\n",
      "\n",
      "\n",
      "\n",
      "\n",
      "\n",
      "\n",
      "\n",
      "\n",
      "  1%|▉                                                                           | 187/14610 [04:43<6:04:44,  1.52s/it]"
     ]
    },
    {
     "name": "stdout",
     "output_type": "stream",
     "text": [
      "{'key': 'd306zoyjsyarp7ifhu67rjxn52tv0t20', 'role': 'guest', '_format': 'for_p3', 'listing_id': '18339114', '_limit': 50, '_offset': 0}\n"
     ]
    },
    {
     "name": "stderr",
     "output_type": "stream",
     "text": [
      "\n",
      "\n",
      "\n",
      "\n",
      "\n",
      "\n",
      "\n",
      "\n",
      "\n",
      "\n",
      "\n",
      "\n",
      "\n",
      "\n",
      "\n",
      "\n",
      "\n",
      "\n",
      "  1%|▉                                                                           | 188/14610 [04:45<6:05:04,  1.52s/it]"
     ]
    },
    {
     "name": "stdout",
     "output_type": "stream",
     "text": [
      "{'key': 'd306zoyjsyarp7ifhu67rjxn52tv0t20', 'role': 'guest', '_format': 'for_p3', 'listing_id': '26396631', '_limit': 15, '_offset': 0}\n"
     ]
    },
    {
     "name": "stderr",
     "output_type": "stream",
     "text": [
      "\n",
      "\n",
      "\n",
      "\n",
      "\n",
      "\n",
      "\n",
      "\n",
      "\n",
      "\n",
      "\n",
      "\n",
      "\n",
      "\n",
      "\n",
      "\n",
      "\n",
      "\n",
      "  1%|▉                                                                           | 189/14610 [04:46<6:04:47,  1.52s/it]"
     ]
    },
    {
     "name": "stdout",
     "output_type": "stream",
     "text": [
      "{'key': 'd306zoyjsyarp7ifhu67rjxn52tv0t20', 'role': 'guest', '_format': 'for_p3', 'listing_id': '2250833', '_limit': 12, '_offset': 0}\n"
     ]
    },
    {
     "name": "stderr",
     "output_type": "stream",
     "text": [
      "\n",
      "\n",
      "\n",
      "\n",
      "\n",
      "\n",
      "\n",
      "\n",
      "\n",
      "\n",
      "\n",
      "\n",
      "\n",
      "\n",
      "\n",
      "\n",
      "\n",
      "\n",
      "  1%|▉                                                                           | 190/14610 [04:48<6:04:46,  1.52s/it]"
     ]
    },
    {
     "name": "stdout",
     "output_type": "stream",
     "text": [
      "{'key': 'd306zoyjsyarp7ifhu67rjxn52tv0t20', 'role': 'guest', '_format': 'for_p3', 'listing_id': '28525842', '_limit': 7, '_offset': 0}\n"
     ]
    },
    {
     "name": "stderr",
     "output_type": "stream",
     "text": [
      "\n",
      "\n",
      "\n",
      "\n",
      "\n",
      "\n",
      "\n",
      "\n",
      "\n",
      "\n",
      "\n",
      "\n",
      "\n",
      "\n",
      "\n",
      "\n",
      "\n",
      "\n",
      "  1%|▉                                                                           | 191/14610 [04:49<6:04:33,  1.52s/it]\n",
      "\n",
      "\n",
      "\n",
      "\n",
      "\n",
      "\n",
      "\n",
      "\n",
      "\n",
      "\n",
      "\n",
      "\n",
      "\n",
      "\n",
      "\n",
      "\n",
      "\n",
      "  1%|▉                                                                           | 192/14610 [04:50<6:03:19,  1.51s/it]"
     ]
    },
    {
     "name": "stdout",
     "output_type": "stream",
     "text": [
      "{'key': 'd306zoyjsyarp7ifhu67rjxn52tv0t20', 'role': 'guest', '_format': 'for_p3', 'listing_id': '21913884', '_limit': 2, '_offset': 0}\n"
     ]
    },
    {
     "name": "stderr",
     "output_type": "stream",
     "text": [
      "\n",
      "\n",
      "\n",
      "\n",
      "\n",
      "\n",
      "\n",
      "\n",
      "\n",
      "\n",
      "\n",
      "\n",
      "\n",
      "\n",
      "\n",
      "\n",
      "\n",
      "\n",
      "  1%|█                                                                           | 193/14610 [04:51<6:03:05,  1.51s/it]"
     ]
    },
    {
     "name": "stdout",
     "output_type": "stream",
     "text": [
      "{'key': 'd306zoyjsyarp7ifhu67rjxn52tv0t20', 'role': 'guest', '_format': 'for_p3', 'listing_id': '18336722', '_limit': 65, '_offset': 0}\n"
     ]
    },
    {
     "name": "stderr",
     "output_type": "stream",
     "text": [
      "\n",
      "\n",
      "\n",
      "\n",
      "\n",
      "\n",
      "\n",
      "\n",
      "\n",
      "\n",
      "\n",
      "\n",
      "\n",
      "\n",
      "\n",
      "\n",
      "\n",
      "\n",
      "  1%|█                                                                           | 194/14610 [04:53<6:03:46,  1.51s/it]"
     ]
    },
    {
     "name": "stdout",
     "output_type": "stream",
     "text": [
      "{'key': 'd306zoyjsyarp7ifhu67rjxn52tv0t20', 'role': 'guest', '_format': 'for_p3', 'listing_id': '18338593', '_limit': 42, '_offset': 0}\n"
     ]
    },
    {
     "name": "stderr",
     "output_type": "stream",
     "text": [
      "\n",
      "\n",
      "\n",
      "\n",
      "\n",
      "\n",
      "\n",
      "\n",
      "\n",
      "\n",
      "\n",
      "\n",
      "\n",
      "\n",
      "\n",
      "\n",
      "\n",
      "\n",
      "  1%|█                                                                           | 195/14610 [04:55<6:04:08,  1.52s/it]"
     ]
    },
    {
     "name": "stdout",
     "output_type": "stream",
     "text": [
      "{'key': 'd306zoyjsyarp7ifhu67rjxn52tv0t20', 'role': 'guest', '_format': 'for_p3', 'listing_id': '18338344', '_limit': 41, '_offset': 0}\n"
     ]
    },
    {
     "name": "stderr",
     "output_type": "stream",
     "text": [
      "\n",
      "\n",
      "\n",
      "\n",
      "\n",
      "\n",
      "\n",
      "\n",
      "\n",
      "\n",
      "\n",
      "\n",
      "\n",
      "\n",
      "\n",
      "\n",
      "\n",
      "\n",
      "  1%|█                                                                           | 196/14610 [04:57<6:04:26,  1.52s/it]"
     ]
    },
    {
     "name": "stdout",
     "output_type": "stream",
     "text": [
      "{'key': 'd306zoyjsyarp7ifhu67rjxn52tv0t20', 'role': 'guest', '_format': 'for_p3', 'listing_id': '28969844', '_limit': 20, '_offset': 0}\n"
     ]
    },
    {
     "name": "stderr",
     "output_type": "stream",
     "text": [
      "\n",
      "\n",
      "\n",
      "\n",
      "\n",
      "\n",
      "\n",
      "\n",
      "\n",
      "\n",
      "\n",
      "\n",
      "\n",
      "\n",
      "\n",
      "\n",
      "\n",
      "\n",
      "  1%|█                                                                           | 197/14610 [04:58<6:04:34,  1.52s/it]"
     ]
    },
    {
     "name": "stdout",
     "output_type": "stream",
     "text": [
      "{'key': 'd306zoyjsyarp7ifhu67rjxn52tv0t20', 'role': 'guest', '_format': 'for_p3', 'listing_id': '28534072', '_limit': 6, '_offset': 0}\n"
     ]
    },
    {
     "name": "stderr",
     "output_type": "stream",
     "text": [
      "\n",
      "\n",
      "\n",
      "\n",
      "\n",
      "\n",
      "\n",
      "\n",
      "\n",
      "\n",
      "\n",
      "\n",
      "\n",
      "\n",
      "\n",
      "\n",
      "\n",
      "\n",
      "  1%|█                                                                           | 198/14610 [05:00<6:04:17,  1.52s/it]"
     ]
    },
    {
     "name": "stdout",
     "output_type": "stream",
     "text": [
      "{'key': 'd306zoyjsyarp7ifhu67rjxn52tv0t20', 'role': 'guest', '_format': 'for_p3', 'listing_id': '7236665', '_limit': 7, '_offset': 0}\n"
     ]
    },
    {
     "name": "stderr",
     "output_type": "stream",
     "text": [
      "\n",
      "\n",
      "\n",
      "\n",
      "\n",
      "\n",
      "\n",
      "\n",
      "\n",
      "\n",
      "\n",
      "\n",
      "\n",
      "\n",
      "\n",
      "\n",
      "\n",
      "\n",
      "  1%|█                                                                           | 199/14610 [05:01<6:04:02,  1.52s/it]"
     ]
    },
    {
     "name": "stdout",
     "output_type": "stream",
     "text": [
      "{'key': 'd306zoyjsyarp7ifhu67rjxn52tv0t20', 'role': 'guest', '_format': 'for_p3', 'listing_id': '22095523', '_limit': 2, '_offset': 0}\n"
     ]
    },
    {
     "name": "stderr",
     "output_type": "stream",
     "text": [
      "\n",
      "\n",
      "\n",
      "\n",
      "\n",
      "\n",
      "\n",
      "\n",
      "\n",
      "\n",
      "\n",
      "\n",
      "\n",
      "\n",
      "\n",
      "\n",
      "\n",
      "\n",
      "  1%|█                                                                           | 200/14610 [05:02<6:03:43,  1.51s/it]"
     ]
    },
    {
     "name": "stdout",
     "output_type": "stream",
     "text": [
      "{'key': 'd306zoyjsyarp7ifhu67rjxn52tv0t20', 'role': 'guest', '_format': 'for_p3', 'listing_id': '24996599', '_limit': 6, '_offset': 0}\n"
     ]
    },
    {
     "name": "stderr",
     "output_type": "stream",
     "text": [
      "\n",
      "\n",
      "\n",
      "\n",
      "\n",
      "\n",
      "\n",
      "\n",
      "\n",
      "\n",
      "\n",
      "\n",
      "\n",
      "\n",
      "\n",
      "\n",
      "\n",
      "\n",
      "  1%|█                                                                           | 201/14610 [05:04<6:03:22,  1.51s/it]\n",
      "\n",
      "\n",
      "\n",
      "\n",
      "\n",
      "\n",
      "\n",
      "\n",
      "\n",
      "\n",
      "\n",
      "\n",
      "\n",
      "\n",
      "\n",
      "\n",
      "\n",
      "  1%|█                                                                           | 202/14610 [05:04<6:02:11,  1.51s/it]"
     ]
    },
    {
     "name": "stdout",
     "output_type": "stream",
     "text": [
      "{'key': 'd306zoyjsyarp7ifhu67rjxn52tv0t20', 'role': 'guest', '_format': 'for_p3', 'listing_id': '18338819', '_limit': 27, '_offset': 0}\n"
     ]
    },
    {
     "name": "stderr",
     "output_type": "stream",
     "text": [
      "\n",
      "\n",
      "\n",
      "\n",
      "\n",
      "\n",
      "\n",
      "\n",
      "\n",
      "\n",
      "\n",
      "\n",
      "\n",
      "\n",
      "\n",
      "\n",
      "\n",
      "\n",
      "  1%|█                                                                           | 203/14610 [05:06<6:02:20,  1.51s/it]"
     ]
    },
    {
     "name": "stdout",
     "output_type": "stream",
     "text": [
      "{'key': 'd306zoyjsyarp7ifhu67rjxn52tv0t20', 'role': 'guest', '_format': 'for_p3', 'listing_id': '18338452', '_limit': 39, '_offset': 0}\n"
     ]
    },
    {
     "name": "stderr",
     "output_type": "stream",
     "text": [
      "\n",
      "\n",
      "\n",
      "\n",
      "\n",
      "\n",
      "\n",
      "\n",
      "\n",
      "\n",
      "\n",
      "\n",
      "\n",
      "\n",
      "\n",
      "\n",
      "\n",
      "\n",
      "  1%|█                                                                           | 204/14610 [05:08<6:03:01,  1.51s/it]"
     ]
    },
    {
     "name": "stdout",
     "output_type": "stream",
     "text": [
      "{'key': 'd306zoyjsyarp7ifhu67rjxn52tv0t20', 'role': 'guest', '_format': 'for_p3', 'listing_id': '18337651', '_limit': 31, '_offset': 0}\n"
     ]
    },
    {
     "name": "stderr",
     "output_type": "stream",
     "text": [
      "\n",
      "\n",
      "\n",
      "\n",
      "\n",
      "\n",
      "\n",
      "\n",
      "\n",
      "\n",
      "\n",
      "\n",
      "\n",
      "\n",
      "\n",
      "\n",
      "\n",
      "\n",
      "  1%|█                                                                           | 205/14610 [05:10<6:03:18,  1.51s/it]"
     ]
    },
    {
     "name": "stdout",
     "output_type": "stream",
     "text": [
      "{'key': 'd306zoyjsyarp7ifhu67rjxn52tv0t20', 'role': 'guest', '_format': 'for_p3', 'listing_id': '7888646', '_limit': 28, '_offset': 0}\n"
     ]
    },
    {
     "name": "stderr",
     "output_type": "stream",
     "text": [
      "\n",
      "\n",
      "\n",
      "\n",
      "\n",
      "\n",
      "\n",
      "\n",
      "\n",
      "\n",
      "\n",
      "\n",
      "\n",
      "\n",
      "\n",
      "\n",
      "\n",
      "\n",
      "  1%|█                                                                           | 206/14610 [05:11<6:03:29,  1.51s/it]"
     ]
    },
    {
     "name": "stdout",
     "output_type": "stream",
     "text": [
      "{'key': 'd306zoyjsyarp7ifhu67rjxn52tv0t20', 'role': 'guest', '_format': 'for_p3', 'listing_id': '27089421', '_limit': 2, '_offset': 0}\n"
     ]
    },
    {
     "name": "stderr",
     "output_type": "stream",
     "text": [
      "\n",
      "\n",
      "\n",
      "\n",
      "\n",
      "\n",
      "\n",
      "\n",
      "\n",
      "\n",
      "\n",
      "\n",
      "\n",
      "\n",
      "\n",
      "\n",
      "\n",
      "\n",
      "  1%|█                                                                           | 207/14610 [05:13<6:03:04,  1.51s/it]"
     ]
    },
    {
     "name": "stdout",
     "output_type": "stream",
     "text": [
      "{'key': 'd306zoyjsyarp7ifhu67rjxn52tv0t20', 'role': 'guest', '_format': 'for_p3', 'listing_id': '26999013', '_limit': 3, '_offset': 0}\n"
     ]
    },
    {
     "name": "stderr",
     "output_type": "stream",
     "text": [
      "\n",
      "\n",
      "\n",
      "\n",
      "\n",
      "\n",
      "\n",
      "\n",
      "\n",
      "\n",
      "\n",
      "\n",
      "\n",
      "\n",
      "\n",
      "\n",
      "\n",
      "\n",
      "  1%|█                                                                           | 208/14610 [05:14<6:03:24,  1.51s/it]\n",
      "\n",
      "\n",
      "\n",
      "\n",
      "\n",
      "\n",
      "\n",
      "\n",
      "\n",
      "\n",
      "\n",
      "\n",
      "\n",
      "\n",
      "\n",
      "\n",
      "\n",
      "  1%|█                                                                           | 209/14610 [05:15<6:02:33,  1.51s/it]"
     ]
    },
    {
     "name": "stdout",
     "output_type": "stream",
     "text": [
      "{'key': 'd306zoyjsyarp7ifhu67rjxn52tv0t20', 'role': 'guest', '_format': 'for_p3', 'listing_id': '16653631', '_limit': 14, '_offset': 0}\n"
     ]
    },
    {
     "name": "stderr",
     "output_type": "stream",
     "text": [
      "\n",
      "\n",
      "\n",
      "\n",
      "\n",
      "\n",
      "\n",
      "\n",
      "\n",
      "\n",
      "\n",
      "\n",
      "\n",
      "\n",
      "\n",
      "\n",
      "\n",
      "\n",
      "  1%|█                                                                           | 210/14610 [05:17<6:03:04,  1.51s/it]"
     ]
    },
    {
     "name": "stdout",
     "output_type": "stream",
     "text": [
      "{'key': 'd306zoyjsyarp7ifhu67rjxn52tv0t20', 'role': 'guest', '_format': 'for_p3', 'listing_id': '22233853', '_limit': 1, '_offset': 0}\n"
     ]
    },
    {
     "name": "stderr",
     "output_type": "stream",
     "text": [
      "\n",
      "\n",
      "\n",
      "\n",
      "\n",
      "\n",
      "\n",
      "\n",
      "\n",
      "\n",
      "\n",
      "\n",
      "\n",
      "\n",
      "\n",
      "\n",
      "\n",
      "\n",
      "  1%|█                                                                           | 211/14610 [05:19<6:02:57,  1.51s/it]\n",
      "\n",
      "\n",
      "\n",
      "\n",
      "\n",
      "\n",
      "\n",
      "\n",
      "\n",
      "\n",
      "\n",
      "\n",
      "\n",
      "\n",
      "\n",
      "\n",
      "\n",
      "  1%|█                                                                           | 212/14610 [05:19<6:01:57,  1.51s/it]"
     ]
    },
    {
     "name": "stdout",
     "output_type": "stream",
     "text": [
      "{'key': 'd306zoyjsyarp7ifhu67rjxn52tv0t20', 'role': 'guest', '_format': 'for_p3', 'listing_id': '19087710', '_limit': 2, '_offset': 0}\n"
     ]
    },
    {
     "name": "stderr",
     "output_type": "stream",
     "text": [
      "\n",
      "\n",
      "\n",
      "\n",
      "\n",
      "\n",
      "\n",
      "\n",
      "\n",
      "\n",
      "\n",
      "\n",
      "\n",
      "\n",
      "\n",
      "\n",
      "\n",
      "\n",
      "  1%|█                                                                           | 213/14610 [05:21<6:01:52,  1.51s/it]"
     ]
    },
    {
     "name": "stdout",
     "output_type": "stream",
     "text": [
      "{'key': 'd306zoyjsyarp7ifhu67rjxn52tv0t20', 'role': 'guest', '_format': 'for_p3', 'listing_id': '17758822', '_limit': 28, '_offset': 0}\n"
     ]
    },
    {
     "name": "stderr",
     "output_type": "stream",
     "text": [
      "\n",
      "\n",
      "\n",
      "\n",
      "\n",
      "\n",
      "\n",
      "\n",
      "\n",
      "\n",
      "\n",
      "\n",
      "\n",
      "\n",
      "\n",
      "\n",
      "\n",
      "\n",
      "  1%|█                                                                           | 214/14610 [05:22<6:02:07,  1.51s/it]"
     ]
    },
    {
     "name": "stdout",
     "output_type": "stream",
     "text": [
      "{'key': 'd306zoyjsyarp7ifhu67rjxn52tv0t20', 'role': 'guest', '_format': 'for_p3', 'listing_id': '24216448', '_limit': 5, '_offset': 0}\n"
     ]
    },
    {
     "name": "stderr",
     "output_type": "stream",
     "text": [
      "\n",
      "\n",
      "\n",
      "\n",
      "\n",
      "\n",
      "\n",
      "\n",
      "\n",
      "\n",
      "\n",
      "\n",
      "\n",
      "\n",
      "\n",
      "\n",
      "\n",
      "\n",
      "  1%|█                                                                           | 215/14610 [05:24<6:01:39,  1.51s/it]\n",
      "\n",
      "\n",
      "\n",
      "\n",
      "\n",
      "\n",
      "\n",
      "\n",
      "\n",
      "\n",
      "\n",
      "\n",
      "\n",
      "\n",
      "\n",
      "\n",
      "\n",
      "  1%|█                                                                           | 216/14610 [05:24<6:00:35,  1.50s/it]"
     ]
    },
    {
     "name": "stdout",
     "output_type": "stream",
     "text": [
      "{'key': 'd306zoyjsyarp7ifhu67rjxn52tv0t20', 'role': 'guest', '_format': 'for_p3', 'listing_id': '27190333', '_limit': 4, '_offset': 0}\n"
     ]
    },
    {
     "name": "stderr",
     "output_type": "stream",
     "text": [
      "\n",
      "\n",
      "\n",
      "\n",
      "\n",
      "\n",
      "\n",
      "\n",
      "\n",
      "\n",
      "\n",
      "\n",
      "\n",
      "\n",
      "\n",
      "\n",
      "\n",
      "\n",
      "  1%|█▏                                                                          | 217/14610 [05:25<6:00:21,  1.50s/it]"
     ]
    },
    {
     "name": "stdout",
     "output_type": "stream",
     "text": [
      "{'key': 'd306zoyjsyarp7ifhu67rjxn52tv0t20', 'role': 'guest', '_format': 'for_p3', 'listing_id': '26998733', '_limit': 4, '_offset': 0}\n"
     ]
    },
    {
     "name": "stderr",
     "output_type": "stream",
     "text": [
      "\n",
      "\n",
      "\n",
      "\n",
      "\n",
      "\n",
      "\n",
      "\n",
      "\n",
      "\n",
      "\n",
      "\n",
      "\n",
      "\n",
      "\n",
      "\n",
      "\n",
      "\n",
      "  1%|█▏                                                                          | 218/14610 [05:27<6:00:11,  1.50s/it]"
     ]
    },
    {
     "name": "stdout",
     "output_type": "stream",
     "text": [
      "{'key': 'd306zoyjsyarp7ifhu67rjxn52tv0t20', 'role': 'guest', '_format': 'for_p3', 'listing_id': '28209273', '_limit': 6, '_offset': 0}\n"
     ]
    },
    {
     "name": "stderr",
     "output_type": "stream",
     "text": [
      "\n",
      "\n",
      "\n",
      "\n",
      "\n",
      "\n",
      "\n",
      "\n",
      "\n",
      "\n",
      "\n",
      "\n",
      "\n",
      "\n",
      "\n",
      "\n",
      "\n",
      "\n",
      "  1%|█▏                                                                          | 219/14610 [05:28<5:59:55,  1.50s/it]\n",
      "\n",
      "\n",
      "\n",
      "\n",
      "\n",
      "\n",
      "\n",
      "\n",
      "\n",
      "\n",
      "\n",
      "\n",
      "\n",
      "\n",
      "\n",
      "\n",
      "\n",
      "  2%|█▏                                                                          | 220/14610 [05:29<5:58:54,  1.50s/it]"
     ]
    },
    {
     "name": "stdout",
     "output_type": "stream",
     "text": [
      "{'key': 'd306zoyjsyarp7ifhu67rjxn52tv0t20', 'role': 'guest', '_format': 'for_p3', 'listing_id': '26536351', '_limit': 1, '_offset': 0}\n"
     ]
    },
    {
     "name": "stderr",
     "output_type": "stream",
     "text": [
      "\n",
      "\n",
      "\n",
      "\n",
      "\n",
      "\n",
      "\n",
      "\n",
      "\n",
      "\n",
      "\n",
      "\n",
      "\n",
      "\n",
      "\n",
      "\n",
      "\n",
      "\n",
      "  2%|█▏                                                                          | 221/14610 [05:30<5:58:27,  1.49s/it]"
     ]
    },
    {
     "name": "stdout",
     "output_type": "stream",
     "text": [
      "{'key': 'd306zoyjsyarp7ifhu67rjxn52tv0t20', 'role': 'guest', '_format': 'for_p3', 'listing_id': '26998864', '_limit': 5, '_offset': 0}\n"
     ]
    },
    {
     "name": "stderr",
     "output_type": "stream",
     "text": [
      "\n",
      "\n",
      "\n",
      "\n",
      "\n",
      "\n",
      "\n",
      "\n",
      "\n",
      "\n",
      "\n",
      "\n",
      "\n",
      "\n",
      "\n",
      "\n",
      "\n",
      "\n",
      "  2%|█▏                                                                          | 222/14610 [05:31<5:58:25,  1.49s/it]"
     ]
    },
    {
     "name": "stdout",
     "output_type": "stream",
     "text": [
      "{'key': 'd306zoyjsyarp7ifhu67rjxn52tv0t20', 'role': 'guest', '_format': 'for_p3', 'listing_id': '27682151', '_limit': 3, '_offset': 0}\n"
     ]
    },
    {
     "name": "stderr",
     "output_type": "stream",
     "text": [
      "\n",
      "\n",
      "\n",
      "\n",
      "\n",
      "\n",
      "\n",
      "\n",
      "\n",
      "\n",
      "\n",
      "\n",
      "\n",
      "\n",
      "\n",
      "\n",
      "\n",
      "\n",
      "  2%|█▏                                                                          | 223/14610 [05:33<5:58:11,  1.49s/it]"
     ]
    },
    {
     "name": "stdout",
     "output_type": "stream",
     "text": [
      "{'key': 'd306zoyjsyarp7ifhu67rjxn52tv0t20', 'role': 'guest', '_format': 'for_p3', 'listing_id': '5863431', '_limit': 15, '_offset': 0}\n"
     ]
    },
    {
     "name": "stderr",
     "output_type": "stream",
     "text": [
      "\n",
      "\n",
      "\n",
      "\n",
      "\n",
      "\n",
      "\n",
      "\n",
      "\n",
      "\n",
      "\n",
      "\n",
      "\n",
      "\n",
      "\n",
      "\n",
      "\n",
      "\n",
      "  2%|█▏                                                                          | 224/14610 [05:35<5:58:58,  1.50s/it]"
     ]
    },
    {
     "name": "stdout",
     "output_type": "stream",
     "text": [
      "{'key': 'd306zoyjsyarp7ifhu67rjxn52tv0t20', 'role': 'guest', '_format': 'for_p3', 'listing_id': '28395219', '_limit': 10, '_offset': 0}\n"
     ]
    },
    {
     "name": "stderr",
     "output_type": "stream",
     "text": [
      "\n",
      "\n",
      "\n",
      "\n",
      "\n",
      "\n",
      "\n",
      "\n",
      "\n",
      "\n",
      "\n",
      "\n",
      "\n",
      "\n",
      "\n",
      "\n",
      "\n",
      "\n",
      "  2%|█▏                                                                          | 225/14610 [05:37<5:59:06,  1.50s/it]"
     ]
    },
    {
     "name": "stdout",
     "output_type": "stream",
     "text": [
      "{'key': 'd306zoyjsyarp7ifhu67rjxn52tv0t20', 'role': 'guest', '_format': 'for_p3', 'listing_id': '17486457', '_limit': 19, '_offset': 0}\n"
     ]
    },
    {
     "name": "stderr",
     "output_type": "stream",
     "text": [
      "\n",
      "\n",
      "\n",
      "\n",
      "\n",
      "\n",
      "\n",
      "\n",
      "\n",
      "\n",
      "\n",
      "\n",
      "\n",
      "\n",
      "\n",
      "\n",
      "\n",
      "\n",
      "  2%|█▏                                                                          | 226/14610 [05:38<5:59:30,  1.50s/it]"
     ]
    },
    {
     "name": "stdout",
     "output_type": "stream",
     "text": [
      "{'key': 'd306zoyjsyarp7ifhu67rjxn52tv0t20', 'role': 'guest', '_format': 'for_p3', 'listing_id': '27748694', '_limit': 6, '_offset': 0}\n"
     ]
    },
    {
     "name": "stderr",
     "output_type": "stream",
     "text": [
      "\n",
      "\n",
      "\n",
      "\n",
      "\n",
      "\n",
      "\n",
      "\n",
      "\n",
      "\n",
      "\n",
      "\n",
      "\n",
      "\n",
      "\n",
      "\n",
      "\n",
      "\n",
      "  2%|█▏                                                                          | 227/14610 [05:40<5:59:27,  1.50s/it]"
     ]
    },
    {
     "name": "stdout",
     "output_type": "stream",
     "text": [
      "{'key': 'd306zoyjsyarp7ifhu67rjxn52tv0t20', 'role': 'guest', '_format': 'for_p3', 'listing_id': '25983596', '_limit': 14, '_offset': 0}\n"
     ]
    },
    {
     "name": "stderr",
     "output_type": "stream",
     "text": [
      "\n",
      "\n",
      "\n",
      "\n",
      "\n",
      "\n",
      "\n",
      "\n",
      "\n",
      "\n",
      "\n",
      "\n",
      "\n",
      "\n",
      "\n",
      "\n",
      "\n",
      "\n",
      "  2%|█▏                                                                          | 228/14610 [05:42<5:59:46,  1.50s/it]\n",
      "\n",
      "\n",
      "\n",
      "\n",
      "\n",
      "\n",
      "\n",
      "\n",
      "\n",
      "\n",
      "\n",
      "\n",
      "\n",
      "\n",
      "\n",
      "\n",
      "\n",
      "  2%|█▏                                                                          | 229/14610 [05:42<5:58:46,  1.50s/it]"
     ]
    },
    {
     "name": "stdout",
     "output_type": "stream",
     "text": [
      "{'key': 'd306zoyjsyarp7ifhu67rjxn52tv0t20', 'role': 'guest', '_format': 'for_p3', 'listing_id': '27316735', '_limit': 6, '_offset': 0}\n"
     ]
    },
    {
     "name": "stderr",
     "output_type": "stream",
     "text": [
      "\n",
      "\n",
      "\n",
      "\n",
      "\n",
      "\n",
      "\n",
      "\n",
      "\n",
      "\n",
      "\n",
      "\n",
      "\n",
      "\n",
      "\n",
      "\n",
      "\n",
      "\n",
      "  2%|█▏                                                                          | 230/14610 [05:44<5:58:32,  1.50s/it]\n",
      "\n",
      "\n",
      "\n",
      "\n",
      "\n",
      "\n",
      "\n",
      "\n",
      "\n",
      "\n",
      "\n",
      "\n",
      "\n",
      "\n",
      "\n",
      "\n",
      "\n",
      "  2%|█▏                                                                          | 231/14610 [05:44<5:57:29,  1.49s/it]"
     ]
    },
    {
     "name": "stdout",
     "output_type": "stream",
     "text": [
      "{'key': 'd306zoyjsyarp7ifhu67rjxn52tv0t20', 'role': 'guest', '_format': 'for_p3', 'listing_id': '24660666', '_limit': 6, '_offset': 0}\n"
     ]
    },
    {
     "name": "stderr",
     "output_type": "stream",
     "text": [
      "\n",
      "\n",
      "\n",
      "\n",
      "\n",
      "\n",
      "\n",
      "\n",
      "\n",
      "\n",
      "\n",
      "\n",
      "\n",
      "\n",
      "\n",
      "\n",
      "\n",
      "\n",
      "  2%|█▏                                                                          | 232/14610 [05:45<5:57:15,  1.49s/it]"
     ]
    },
    {
     "name": "stdout",
     "output_type": "stream",
     "text": [
      "{'key': 'd306zoyjsyarp7ifhu67rjxn52tv0t20', 'role': 'guest', '_format': 'for_p3', 'listing_id': '26998529', '_limit': 6, '_offset': 0}\n"
     ]
    },
    {
     "name": "stderr",
     "output_type": "stream",
     "text": [
      "\n",
      "\n",
      "\n",
      "\n",
      "\n",
      "\n",
      "\n",
      "\n",
      "\n",
      "\n",
      "\n",
      "\n",
      "\n",
      "\n",
      "\n",
      "\n",
      "\n",
      "\n",
      "  2%|█▏                                                                          | 233/14610 [05:47<5:57:19,  1.49s/it]\n",
      "\n",
      "\n",
      "\n",
      "\n",
      "\n",
      "\n",
      "\n",
      "\n",
      "\n",
      "\n",
      "\n",
      "\n",
      "\n",
      "\n",
      "\n",
      "\n",
      "\n",
      "  2%|█▏                                                                          | 234/14610 [05:47<5:56:19,  1.49s/it]"
     ]
    },
    {
     "name": "stdout",
     "output_type": "stream",
     "text": [
      "{'key': 'd306zoyjsyarp7ifhu67rjxn52tv0t20', 'role': 'guest', '_format': 'for_p3', 'listing_id': '18216908', '_limit': 2, '_offset': 0}\n"
     ]
    },
    {
     "name": "stderr",
     "output_type": "stream",
     "text": [
      "\n",
      "\n",
      "\n",
      "\n",
      "\n",
      "\n",
      "\n",
      "\n",
      "\n",
      "\n",
      "\n",
      "\n",
      "\n",
      "\n",
      "\n",
      "\n",
      "\n",
      "\n",
      "  2%|█▏                                                                          | 235/14610 [05:49<5:56:00,  1.49s/it]"
     ]
    },
    {
     "name": "stdout",
     "output_type": "stream",
     "text": [
      "{'key': 'd306zoyjsyarp7ifhu67rjxn52tv0t20', 'role': 'guest', '_format': 'for_p3', 'listing_id': '26817547', '_limit': 2, '_offset': 0}\n"
     ]
    },
    {
     "name": "stderr",
     "output_type": "stream",
     "text": [
      "\n",
      "\n",
      "\n",
      "\n",
      "\n",
      "\n",
      "\n",
      "\n",
      "\n",
      "\n",
      "\n",
      "\n",
      "\n",
      "\n",
      "\n",
      "\n",
      "\n",
      "\n",
      "  2%|█▏                                                                          | 236/14610 [05:50<5:55:55,  1.49s/it]"
     ]
    },
    {
     "name": "stdout",
     "output_type": "stream",
     "text": [
      "{'key': 'd306zoyjsyarp7ifhu67rjxn52tv0t20', 'role': 'guest', '_format': 'for_p3', 'listing_id': '26998133', '_limit': 2, '_offset': 0}\n"
     ]
    },
    {
     "name": "stderr",
     "output_type": "stream",
     "text": [
      "\n",
      "\n",
      "\n",
      "\n",
      "\n",
      "\n",
      "\n",
      "\n",
      "\n",
      "\n",
      "\n",
      "\n",
      "\n",
      "\n",
      "\n",
      "\n",
      "\n",
      "\n",
      "  2%|█▏                                                                          | 237/14610 [05:51<5:55:36,  1.48s/it]\n",
      "\n",
      "\n",
      "\n",
      "\n",
      "\n",
      "\n",
      "\n",
      "\n",
      "\n",
      "\n",
      "\n",
      "\n",
      "\n",
      "\n",
      "\n",
      "\n",
      "\n",
      "  2%|█▏                                                                          | 238/14610 [05:52<5:54:37,  1.48s/it]"
     ]
    },
    {
     "name": "stdout",
     "output_type": "stream",
     "text": [
      "{'key': 'd306zoyjsyarp7ifhu67rjxn52tv0t20', 'role': 'guest', '_format': 'for_p3', 'listing_id': '18063184', '_limit': 8, '_offset': 0}\n"
     ]
    },
    {
     "name": "stderr",
     "output_type": "stream",
     "text": [
      "\n",
      "\n",
      "\n",
      "\n",
      "\n",
      "\n",
      "\n",
      "\n",
      "\n",
      "\n",
      "\n",
      "\n",
      "\n",
      "\n",
      "\n",
      "\n",
      "\n",
      "\n",
      "  2%|█▏                                                                          | 239/14610 [05:53<5:54:30,  1.48s/it]"
     ]
    },
    {
     "name": "stdout",
     "output_type": "stream",
     "text": [
      "{'key': 'd306zoyjsyarp7ifhu67rjxn52tv0t20', 'role': 'guest', '_format': 'for_p3', 'listing_id': '18968154', '_limit': 1, '_offset': 0}\n"
     ]
    },
    {
     "name": "stderr",
     "output_type": "stream",
     "text": [
      "\n",
      "\n",
      "\n",
      "\n",
      "\n",
      "\n",
      "\n",
      "\n",
      "\n",
      "\n",
      "\n",
      "\n",
      "\n",
      "\n",
      "\n",
      "\n",
      "\n",
      "\n",
      "  2%|█▏                                                                          | 240/14610 [05:55<5:54:25,  1.48s/it]"
     ]
    },
    {
     "name": "stdout",
     "output_type": "stream",
     "text": [
      "{'key': 'd306zoyjsyarp7ifhu67rjxn52tv0t20', 'role': 'guest', '_format': 'for_p3', 'listing_id': '28020507', '_limit': 8, '_offset': 0}\n"
     ]
    },
    {
     "name": "stderr",
     "output_type": "stream",
     "text": [
      "\n",
      "\n",
      "\n",
      "\n",
      "\n",
      "\n",
      "\n",
      "\n",
      "\n",
      "\n",
      "\n",
      "\n",
      "\n",
      "\n",
      "\n",
      "\n",
      "\n",
      "\n",
      "  2%|█▎                                                                          | 241/14610 [05:56<5:54:15,  1.48s/it]"
     ]
    },
    {
     "name": "stdout",
     "output_type": "stream",
     "text": [
      "{'key': 'd306zoyjsyarp7ifhu67rjxn52tv0t20', 'role': 'guest', '_format': 'for_p3', 'listing_id': '24792948', '_limit': 1, '_offset': 0}\n"
     ]
    },
    {
     "name": "stderr",
     "output_type": "stream",
     "text": [
      "\n",
      "\n",
      "\n",
      "\n",
      "\n",
      "\n",
      "\n",
      "\n",
      "\n",
      "\n",
      "\n",
      "\n",
      "\n",
      "\n",
      "\n",
      "\n",
      "\n",
      "\n",
      "  2%|█▎                                                                          | 242/14610 [05:57<5:53:59,  1.48s/it]"
     ]
    },
    {
     "name": "stdout",
     "output_type": "stream",
     "text": [
      "{'key': 'd306zoyjsyarp7ifhu67rjxn52tv0t20', 'role': 'guest', '_format': 'for_p3', 'listing_id': '25550940', '_limit': 3, '_offset': 0}\n"
     ]
    },
    {
     "name": "stderr",
     "output_type": "stream",
     "text": [
      "\n",
      "\n",
      "\n",
      "\n",
      "\n",
      "\n",
      "\n",
      "\n",
      "\n",
      "\n",
      "\n",
      "\n",
      "\n",
      "\n",
      "\n",
      "\n",
      "\n",
      "\n",
      "  2%|█▎                                                                          | 243/14610 [05:59<5:53:52,  1.48s/it]"
     ]
    },
    {
     "name": "stdout",
     "output_type": "stream",
     "text": [
      "{'key': 'd306zoyjsyarp7ifhu67rjxn52tv0t20', 'role': 'guest', '_format': 'for_p3', 'listing_id': '27317175', '_limit': 5, '_offset': 0}\n"
     ]
    },
    {
     "name": "stderr",
     "output_type": "stream",
     "text": [
      "\n",
      "\n",
      "\n",
      "\n",
      "\n",
      "\n",
      "\n",
      "\n",
      "\n",
      "\n",
      "\n",
      "\n",
      "\n",
      "\n",
      "\n",
      "\n",
      "\n",
      "\n",
      "  2%|█▎                                                                          | 244/14610 [06:00<5:53:48,  1.48s/it]"
     ]
    },
    {
     "name": "stdout",
     "output_type": "stream",
     "text": [
      "{'key': 'd306zoyjsyarp7ifhu67rjxn52tv0t20', 'role': 'guest', '_format': 'for_p3', 'listing_id': '22114021', '_limit': 5, '_offset': 0}\n"
     ]
    },
    {
     "name": "stderr",
     "output_type": "stream",
     "text": [
      "\n",
      "\n",
      "\n",
      "\n",
      "\n",
      "\n",
      "\n",
      "\n",
      "\n",
      "\n",
      "\n",
      "\n",
      "\n",
      "\n",
      "\n",
      "\n",
      "\n",
      "\n",
      "  2%|█▎                                                                          | 245/14610 [06:02<5:53:49,  1.48s/it]\n",
      "\n",
      "\n",
      "\n",
      "\n",
      "\n",
      "\n",
      "\n",
      "\n",
      "\n",
      "\n",
      "\n",
      "\n",
      "\n",
      "\n",
      "\n",
      "\n",
      "\n",
      "  2%|█▎                                                                          | 246/14610 [06:02<5:52:58,  1.47s/it]"
     ]
    },
    {
     "name": "stdout",
     "output_type": "stream",
     "text": [
      "{'key': 'd306zoyjsyarp7ifhu67rjxn52tv0t20', 'role': 'guest', '_format': 'for_p3', 'listing_id': '20999924', '_limit': 4, '_offset': 0}\n"
     ]
    },
    {
     "name": "stderr",
     "output_type": "stream",
     "text": [
      "\n",
      "\n",
      "\n",
      "\n",
      "\n",
      "\n",
      "\n",
      "\n",
      "\n",
      "\n",
      "\n",
      "\n",
      "\n",
      "\n",
      "\n",
      "\n",
      "\n",
      "\n",
      "  2%|█▎                                                                          | 247/14610 [06:04<5:52:54,  1.47s/it]"
     ]
    },
    {
     "name": "stdout",
     "output_type": "stream",
     "text": [
      "{'key': 'd306zoyjsyarp7ifhu67rjxn52tv0t20', 'role': 'guest', '_format': 'for_p3', 'listing_id': '21732003', '_limit': 1, '_offset': 0}\n"
     ]
    },
    {
     "name": "stderr",
     "output_type": "stream",
     "text": [
      "\n",
      "\n",
      "\n",
      "\n",
      "\n",
      "\n",
      "\n",
      "\n",
      "\n",
      "\n",
      "\n",
      "\n",
      "\n",
      "\n",
      "\n",
      "\n",
      "\n",
      "\n",
      "  2%|█▎                                                                          | 248/14610 [06:05<5:52:38,  1.47s/it]\n",
      "\n",
      "\n",
      "\n",
      "\n",
      "\n",
      "\n",
      "\n",
      "\n",
      "\n",
      "\n",
      "\n",
      "\n",
      "\n",
      "\n",
      "\n",
      "\n",
      "\n",
      "  2%|█▎                                                                          | 249/14610 [06:05<5:51:43,  1.47s/it]"
     ]
    },
    {
     "name": "stdout",
     "output_type": "stream",
     "text": [
      "{'key': 'd306zoyjsyarp7ifhu67rjxn52tv0t20', 'role': 'guest', '_format': 'for_p3', 'listing_id': '22113781', '_limit': 2, '_offset': 0}\n"
     ]
    },
    {
     "name": "stderr",
     "output_type": "stream",
     "text": [
      "\n",
      "\n",
      "\n",
      "\n",
      "\n",
      "\n",
      "\n",
      "\n",
      "\n",
      "\n",
      "\n",
      "\n",
      "\n",
      "\n",
      "\n",
      "\n",
      "\n",
      "\n",
      "  2%|█▎                                                                          | 250/14610 [06:07<5:51:31,  1.47s/it]"
     ]
    },
    {
     "name": "stdout",
     "output_type": "stream",
     "text": [
      "{'key': 'd306zoyjsyarp7ifhu67rjxn52tv0t20', 'role': 'guest', '_format': 'for_p3', 'listing_id': '27475962', '_limit': 3, '_offset': 0}\n"
     ]
    },
    {
     "name": "stderr",
     "output_type": "stream",
     "text": [
      "\n",
      "\n",
      "\n",
      "\n",
      "\n",
      "\n",
      "\n",
      "\n",
      "\n",
      "\n",
      "\n",
      "\n",
      "\n",
      "\n",
      "\n",
      "\n",
      "\n",
      "\n",
      "  2%|█▎                                                                          | 251/14610 [06:08<5:51:23,  1.47s/it]"
     ]
    },
    {
     "name": "stdout",
     "output_type": "stream",
     "text": [
      "{'key': 'd306zoyjsyarp7ifhu67rjxn52tv0t20', 'role': 'guest', '_format': 'for_p3', 'listing_id': '21731961', '_limit': 2, '_offset': 0}\n"
     ]
    },
    {
     "name": "stderr",
     "output_type": "stream",
     "text": [
      "\n",
      "\n",
      "\n",
      "\n",
      "\n",
      "\n",
      "\n",
      "\n",
      "\n",
      "\n",
      "\n",
      "\n",
      "\n",
      "\n",
      "\n",
      "\n",
      "\n",
      "\n",
      "  2%|█▎                                                                          | 252/14610 [06:10<5:51:43,  1.47s/it]"
     ]
    },
    {
     "name": "stdout",
     "output_type": "stream",
     "text": [
      "{'key': 'd306zoyjsyarp7ifhu67rjxn52tv0t20', 'role': 'guest', '_format': 'for_p3', 'listing_id': '15449566', '_limit': 4, '_offset': 0}\n"
     ]
    },
    {
     "name": "stderr",
     "output_type": "stream",
     "text": [
      "\n",
      "\n",
      "\n",
      "\n",
      "\n",
      "\n",
      "\n",
      "\n",
      "\n",
      "\n",
      "\n",
      "\n",
      "\n",
      "\n",
      "\n",
      "\n",
      "\n",
      "\n",
      "  2%|█▎                                                                          | 253/14610 [06:11<5:51:34,  1.47s/it]"
     ]
    },
    {
     "name": "stdout",
     "output_type": "stream",
     "text": [
      "{'key': 'd306zoyjsyarp7ifhu67rjxn52tv0t20', 'role': 'guest', '_format': 'for_p3', 'listing_id': '18968338', '_limit': 2, '_offset': 0}\n"
     ]
    },
    {
     "name": "stderr",
     "output_type": "stream",
     "text": [
      "\n",
      "\n",
      "\n",
      "\n",
      "\n",
      "\n",
      "\n",
      "\n",
      "\n",
      "\n",
      "\n",
      "\n",
      "\n",
      "\n",
      "\n",
      "\n",
      "\n",
      "\n",
      "  2%|█▎                                                                          | 254/14610 [06:13<5:51:44,  1.47s/it]"
     ]
    },
    {
     "name": "stdout",
     "output_type": "stream",
     "text": [
      "{'key': 'd306zoyjsyarp7ifhu67rjxn52tv0t20', 'role': 'guest', '_format': 'for_p3', 'listing_id': '23044032', '_limit': 1, '_offset': 0}\n"
     ]
    },
    {
     "name": "stderr",
     "output_type": "stream",
     "text": [
      "\n",
      "\n",
      "\n",
      "\n",
      "\n",
      "\n",
      "\n",
      "\n",
      "\n",
      "\n",
      "\n",
      "\n",
      "\n",
      "\n",
      "\n",
      "\n",
      "\n",
      "\n",
      "  2%|█▎                                                                          | 255/14610 [06:14<5:51:32,  1.47s/it]\n",
      "\n",
      "\n",
      "\n",
      "\n",
      "\n",
      "\n",
      "\n",
      "\n",
      "\n",
      "\n",
      "\n",
      "\n",
      "\n",
      "\n",
      "\n",
      "\n",
      "\n",
      "  2%|█▎                                                                          | 256/14610 [06:15<5:50:39,  1.47s/it]"
     ]
    },
    {
     "name": "stdout",
     "output_type": "stream",
     "text": [
      "{'key': 'd306zoyjsyarp7ifhu67rjxn52tv0t20', 'role': 'guest', '_format': 'for_p3', 'listing_id': '15449879', '_limit': 1, '_offset': 0}\n"
     ]
    },
    {
     "name": "stderr",
     "output_type": "stream",
     "text": [
      "\n",
      "\n",
      "\n",
      "\n",
      "\n",
      "\n",
      "\n",
      "\n",
      "\n",
      "\n",
      "\n",
      "\n",
      "\n",
      "\n",
      "\n",
      "\n",
      "\n",
      "\n",
      "  2%|█▎                                                                          | 257/14610 [06:17<5:51:04,  1.47s/it]"
     ]
    },
    {
     "name": "stdout",
     "output_type": "stream",
     "text": [
      "{'key': 'd306zoyjsyarp7ifhu67rjxn52tv0t20', 'role': 'guest', '_format': 'for_p3', 'listing_id': '25983608', '_limit': 6, '_offset': 0}\n"
     ]
    },
    {
     "name": "stderr",
     "output_type": "stream",
     "text": [
      "\n",
      "\n",
      "\n",
      "\n",
      "\n",
      "\n",
      "\n",
      "\n",
      "\n",
      "\n",
      "\n",
      "\n",
      "\n",
      "\n",
      "\n",
      "\n",
      "\n",
      "\n",
      "  2%|█▎                                                                          | 258/14610 [06:18<5:51:01,  1.47s/it]\n",
      "\n",
      "\n",
      "\n",
      "\n",
      "\n",
      "\n",
      "\n",
      "\n",
      "\n",
      "\n",
      "\n",
      "\n",
      "\n",
      "\n",
      "\n",
      "\n",
      "\n",
      "  2%|█▎                                                                          | 259/14610 [06:19<5:50:07,  1.46s/it]"
     ]
    },
    {
     "name": "stdout",
     "output_type": "stream",
     "text": [
      "{'key': 'd306zoyjsyarp7ifhu67rjxn52tv0t20', 'role': 'guest', '_format': 'for_p3', 'listing_id': '22231071', '_limit': 1, '_offset': 0}\n"
     ]
    },
    {
     "name": "stderr",
     "output_type": "stream",
     "text": [
      "\n",
      "\n",
      "\n",
      "\n",
      "\n",
      "\n",
      "\n",
      "\n",
      "\n",
      "\n",
      "\n",
      "\n",
      "\n",
      "\n",
      "\n",
      "\n",
      "\n",
      "\n",
      "  2%|█▎                                                                          | 260/14610 [06:21<5:50:43,  1.47s/it]"
     ]
    },
    {
     "name": "stdout",
     "output_type": "stream",
     "text": [
      "{'key': 'd306zoyjsyarp7ifhu67rjxn52tv0t20', 'role': 'guest', '_format': 'for_p3', 'listing_id': '27619209', '_limit': 2, '_offset': 0}\n"
     ]
    },
    {
     "name": "stderr",
     "output_type": "stream",
     "text": [
      "\n",
      "\n",
      "\n",
      "\n",
      "\n",
      "\n",
      "\n",
      "\n",
      "\n",
      "\n",
      "\n",
      "\n",
      "\n",
      "\n",
      "\n",
      "\n",
      "\n",
      "\n",
      "  2%|█▎                                                                          | 261/14610 [06:22<5:50:42,  1.47s/it]"
     ]
    },
    {
     "name": "stdout",
     "output_type": "stream",
     "text": [
      "{'key': 'd306zoyjsyarp7ifhu67rjxn52tv0t20', 'role': 'guest', '_format': 'for_p3', 'listing_id': '17758945', '_limit': 6, '_offset': 0}\n"
     ]
    },
    {
     "name": "stderr",
     "output_type": "stream",
     "text": [
      "\n",
      "\n",
      "\n",
      "\n",
      "\n",
      "\n",
      "\n",
      "\n",
      "\n",
      "\n",
      "\n",
      "\n",
      "\n",
      "\n",
      "\n",
      "\n",
      "\n",
      "\n",
      "  2%|█▎                                                                          | 262/14610 [06:24<5:50:41,  1.47s/it]"
     ]
    },
    {
     "name": "stdout",
     "output_type": "stream",
     "text": [
      "{'key': 'd306zoyjsyarp7ifhu67rjxn52tv0t20', 'role': 'guest', '_format': 'for_p3', 'listing_id': '27939058', '_limit': 6, '_offset': 0}\n"
     ]
    },
    {
     "name": "stderr",
     "output_type": "stream",
     "text": [
      "\n",
      "\n",
      "\n",
      "\n",
      "\n",
      "\n",
      "\n",
      "\n",
      "\n",
      "\n",
      "\n",
      "\n",
      "\n",
      "\n",
      "\n",
      "\n",
      "\n",
      "\n",
      "  2%|█▎                                                                          | 263/14610 [06:25<5:50:36,  1.47s/it]"
     ]
    },
    {
     "name": "stdout",
     "output_type": "stream",
     "text": [
      "{'key': 'd306zoyjsyarp7ifhu67rjxn52tv0t20', 'role': 'guest', '_format': 'for_p3', 'listing_id': '3061839', '_limit': 2, '_offset': 0}\n"
     ]
    },
    {
     "name": "stderr",
     "output_type": "stream",
     "text": [
      "\n",
      "\n",
      "\n",
      "\n",
      "\n",
      "\n",
      "\n",
      "\n",
      "\n",
      "\n",
      "\n",
      "\n",
      "\n",
      "\n",
      "\n",
      "\n",
      "\n",
      "\n",
      "  2%|█▎                                                                          | 264/14610 [06:26<5:50:24,  1.47s/it]"
     ]
    },
    {
     "name": "stdout",
     "output_type": "stream",
     "text": [
      "{'key': 'd306zoyjsyarp7ifhu67rjxn52tv0t20', 'role': 'guest', '_format': 'for_p3', 'listing_id': '26503783', '_limit': 1, '_offset': 0}\n"
     ]
    },
    {
     "name": "stderr",
     "output_type": "stream",
     "text": [
      "\n",
      "\n",
      "\n",
      "\n",
      "\n",
      "\n",
      "\n",
      "\n",
      "\n",
      "\n",
      "\n",
      "\n",
      "\n",
      "\n",
      "\n",
      "\n",
      "\n",
      "\n",
      "  2%|█▍                                                                          | 265/14610 [06:28<5:50:10,  1.46s/it]"
     ]
    },
    {
     "name": "stdout",
     "output_type": "stream",
     "text": [
      "{'key': 'd306zoyjsyarp7ifhu67rjxn52tv0t20', 'role': 'guest', '_format': 'for_p3', 'listing_id': '26503409', '_limit': 2, '_offset': 0}\n"
     ]
    },
    {
     "name": "stderr",
     "output_type": "stream",
     "text": [
      "\n",
      "\n",
      "\n",
      "\n",
      "\n",
      "\n",
      "\n",
      "\n",
      "\n",
      "\n",
      "\n",
      "\n",
      "\n",
      "\n",
      "\n",
      "\n",
      "\n",
      "\n",
      "  2%|█▍                                                                          | 266/14610 [06:29<5:49:55,  1.46s/it]"
     ]
    },
    {
     "name": "stdout",
     "output_type": "stream",
     "text": [
      "{'key': 'd306zoyjsyarp7ifhu67rjxn52tv0t20', 'role': 'guest', '_format': 'for_p3', 'listing_id': '27558945', '_limit': 2, '_offset': 0}\n"
     ]
    },
    {
     "name": "stderr",
     "output_type": "stream",
     "text": [
      "\n",
      "\n",
      "\n",
      "\n",
      "\n",
      "\n",
      "\n",
      "\n",
      "\n",
      "\n",
      "\n",
      "\n",
      "\n",
      "\n",
      "\n",
      "\n",
      "\n",
      "\n",
      "  2%|█▍                                                                          | 267/14610 [06:30<5:49:45,  1.46s/it]"
     ]
    },
    {
     "name": "stdout",
     "output_type": "stream",
     "text": [
      "{'key': 'd306zoyjsyarp7ifhu67rjxn52tv0t20', 'role': 'guest', '_format': 'for_p3', 'listing_id': '25983036', '_limit': 2, '_offset': 0}\n"
     ]
    },
    {
     "name": "stderr",
     "output_type": "stream",
     "text": [
      "\n",
      "\n",
      "\n",
      "\n",
      "\n",
      "\n",
      "\n",
      "\n",
      "\n",
      "\n",
      "\n",
      "\n",
      "\n",
      "\n",
      "\n",
      "\n",
      "\n",
      "\n",
      "  2%|█▍                                                                          | 268/14610 [06:31<5:49:33,  1.46s/it]\n",
      "\n",
      "\n",
      "\n",
      "\n",
      "\n",
      "\n",
      "\n",
      "\n",
      "\n",
      "\n",
      "\n",
      "\n",
      "\n",
      "\n",
      "\n",
      "\n",
      "\n",
      "  2%|█▍                                                                          | 269/14610 [06:32<5:48:44,  1.46s/it]"
     ]
    },
    {
     "name": "stdout",
     "output_type": "stream",
     "text": [
      "{'key': 'd306zoyjsyarp7ifhu67rjxn52tv0t20', 'role': 'guest', '_format': 'for_p3', 'listing_id': '4130099', '_limit': 13, '_offset': 0}\n"
     ]
    },
    {
     "name": "stderr",
     "output_type": "stream",
     "text": [
      "\n",
      "\n",
      "\n",
      "\n",
      "\n",
      "\n",
      "\n",
      "\n",
      "\n",
      "\n",
      "\n",
      "\n",
      "\n",
      "\n",
      "\n",
      "\n",
      "\n",
      "\n",
      "  2%|█▍                                                                          | 270/14610 [06:34<5:48:58,  1.46s/it]"
     ]
    },
    {
     "name": "stdout",
     "output_type": "stream",
     "text": [
      "{'key': 'd306zoyjsyarp7ifhu67rjxn52tv0t20', 'role': 'guest', '_format': 'for_p3', 'listing_id': '18337449', '_limit': 31, '_offset': 0}\n"
     ]
    },
    {
     "name": "stderr",
     "output_type": "stream",
     "text": [
      "\n",
      "\n",
      "\n",
      "\n",
      "\n",
      "\n",
      "\n",
      "\n",
      "\n",
      "\n",
      "\n",
      "\n",
      "\n",
      "\n",
      "\n",
      "\n",
      "\n",
      "\n",
      "  2%|█▍                                                                          | 271/14610 [06:35<5:49:12,  1.46s/it]"
     ]
    },
    {
     "name": "stdout",
     "output_type": "stream",
     "text": [
      "{'key': 'd306zoyjsyarp7ifhu67rjxn52tv0t20', 'role': 'guest', '_format': 'for_p3', 'listing_id': '4638997', '_limit': 8, '_offset': 0}\n"
     ]
    },
    {
     "name": "stderr",
     "output_type": "stream",
     "text": [
      "\n",
      "\n",
      "\n",
      "\n",
      "\n",
      "\n",
      "\n",
      "\n",
      "\n",
      "\n",
      "\n",
      "\n",
      "\n",
      "\n",
      "\n",
      "\n",
      "\n",
      "\n",
      "  2%|█▍                                                                          | 272/14610 [06:37<5:49:15,  1.46s/it]"
     ]
    },
    {
     "name": "stdout",
     "output_type": "stream",
     "text": [
      "{'key': 'd306zoyjsyarp7ifhu67rjxn52tv0t20', 'role': 'guest', '_format': 'for_p3', 'listing_id': '26503506', '_limit': 1, '_offset': 0}\n"
     ]
    },
    {
     "name": "stderr",
     "output_type": "stream",
     "text": [
      "\n",
      "\n",
      "\n",
      "\n",
      "\n",
      "\n",
      "\n",
      "\n",
      "\n",
      "\n",
      "\n",
      "\n",
      "\n",
      "\n",
      "\n",
      "\n",
      "\n",
      "\n",
      "  2%|█▍                                                                          | 273/14610 [06:38<5:49:09,  1.46s/it]"
     ]
    },
    {
     "name": "stdout",
     "output_type": "stream",
     "text": [
      "{'key': 'd306zoyjsyarp7ifhu67rjxn52tv0t20', 'role': 'guest', '_format': 'for_p3', 'listing_id': '24667000', '_limit': 2, '_offset': 0}\n"
     ]
    },
    {
     "name": "stderr",
     "output_type": "stream",
     "text": [
      "\n",
      "\n",
      "\n",
      "\n",
      "\n",
      "\n",
      "\n",
      "\n",
      "\n",
      "\n",
      "\n",
      "\n",
      "\n",
      "\n",
      "\n",
      "\n",
      "\n",
      "\n",
      "  2%|█▍                                                                          | 274/14610 [06:40<5:49:05,  1.46s/it]\n",
      "\n",
      "\n",
      "\n",
      "\n",
      "\n",
      "\n",
      "\n",
      "\n",
      "\n",
      "\n",
      "\n",
      "\n",
      "\n",
      "\n",
      "\n",
      "\n",
      "\n",
      "  2%|█▍                                                                          | 275/14610 [06:40<5:48:16,  1.46s/it]\n",
      "\n",
      "\n",
      "\n",
      "\n",
      "\n",
      "\n",
      "\n",
      "\n",
      "\n",
      "\n",
      "\n",
      "\n",
      "\n",
      "\n",
      "\n",
      "\n",
      "\n",
      "  2%|█▍                                                                          | 276/14610 [06:41<5:47:28,  1.45s/it]"
     ]
    },
    {
     "name": "stdout",
     "output_type": "stream",
     "text": [
      "{'key': 'd306zoyjsyarp7ifhu67rjxn52tv0t20', 'role': 'guest', '_format': 'for_p3', 'listing_id': '4639042', '_limit': 1, '_offset': 0}\n"
     ]
    },
    {
     "name": "stderr",
     "output_type": "stream",
     "text": [
      "\n",
      "\n",
      "\n",
      "\n",
      "\n",
      "\n",
      "\n",
      "\n",
      "\n",
      "\n",
      "\n",
      "\n",
      "\n",
      "\n",
      "\n",
      "\n",
      "\n",
      "\n",
      "  2%|█▍                                                                          | 277/14610 [06:42<5:47:20,  1.45s/it]"
     ]
    },
    {
     "name": "stdout",
     "output_type": "stream",
     "text": [
      "{'key': 'd306zoyjsyarp7ifhu67rjxn52tv0t20', 'role': 'guest', '_format': 'for_p3', 'listing_id': '25056537', '_limit': 1, '_offset': 0}\n"
     ]
    },
    {
     "name": "stderr",
     "output_type": "stream",
     "text": [
      "\n",
      "\n",
      "\n",
      "\n",
      "\n",
      "\n",
      "\n",
      "\n",
      "\n",
      "\n",
      "\n",
      "\n",
      "\n",
      "\n",
      "\n",
      "\n",
      "\n",
      "\n",
      "  2%|█▍                                                                          | 278/14610 [06:44<5:47:09,  1.45s/it]"
     ]
    },
    {
     "name": "stdout",
     "output_type": "stream",
     "text": [
      "{'key': 'd306zoyjsyarp7ifhu67rjxn52tv0t20', 'role': 'guest', '_format': 'for_p3', 'listing_id': '28898287', '_limit': 2, '_offset': 0}\n"
     ]
    },
    {
     "name": "stderr",
     "output_type": "stream",
     "text": [
      "\n",
      "\n",
      "\n",
      "\n",
      "\n",
      "\n",
      "\n",
      "\n",
      "\n",
      "\n",
      "\n",
      "\n",
      "\n",
      "\n",
      "\n",
      "\n",
      "\n",
      "\n",
      "  2%|█▍                                                                          | 279/14610 [06:45<5:46:59,  1.45s/it]"
     ]
    },
    {
     "name": "stdout",
     "output_type": "stream",
     "text": [
      "{'key': 'd306zoyjsyarp7ifhu67rjxn52tv0t20', 'role': 'guest', '_format': 'for_p3', 'listing_id': '19318445', '_limit': 2, '_offset': 0}\n"
     ]
    },
    {
     "name": "stderr",
     "output_type": "stream",
     "text": [
      "\n",
      "\n",
      "\n",
      "\n",
      "\n",
      "\n",
      "\n",
      "\n",
      "\n",
      "\n",
      "\n",
      "\n",
      "\n",
      "\n",
      "\n",
      "\n",
      "\n",
      "\n",
      "  2%|█▍                                                                          | 280/14610 [06:46<5:46:49,  1.45s/it]"
     ]
    },
    {
     "name": "stdout",
     "output_type": "stream",
     "text": [
      "{'key': 'd306zoyjsyarp7ifhu67rjxn52tv0t20', 'role': 'guest', '_format': 'for_p3', 'listing_id': '18812195', '_limit': 1, '_offset': 0}\n"
     ]
    },
    {
     "name": "stderr",
     "output_type": "stream",
     "text": [
      "\n",
      "\n",
      "\n",
      "\n",
      "\n",
      "\n",
      "\n",
      "\n",
      "\n",
      "\n",
      "\n",
      "\n",
      "\n",
      "\n",
      "\n",
      "\n",
      "\n",
      "\n",
      "  2%|█▍                                                                          | 281/14610 [06:47<5:46:42,  1.45s/it]"
     ]
    },
    {
     "name": "stdout",
     "output_type": "stream",
     "text": [
      "{'key': 'd306zoyjsyarp7ifhu67rjxn52tv0t20', 'role': 'guest', '_format': 'for_p3', 'listing_id': '20597259', '_limit': 9, '_offset': 0}\n"
     ]
    },
    {
     "name": "stderr",
     "output_type": "stream",
     "text": [
      "\n",
      "\n",
      "\n",
      "\n",
      "\n",
      "\n",
      "\n",
      "\n",
      "\n",
      "\n",
      "\n",
      "\n",
      "\n",
      "\n",
      "\n",
      "\n",
      "\n",
      "\n",
      "  2%|█▍                                                                          | 282/14610 [06:49<5:46:47,  1.45s/it]"
     ]
    },
    {
     "name": "stdout",
     "output_type": "stream",
     "text": [
      "{'key': 'd306zoyjsyarp7ifhu67rjxn52tv0t20', 'role': 'guest', '_format': 'for_p3', 'listing_id': '20789969', '_limit': 3, '_offset': 0}\n"
     ]
    },
    {
     "name": "stderr",
     "output_type": "stream",
     "text": [
      "\n",
      "\n",
      "\n",
      "\n",
      "\n",
      "\n",
      "\n",
      "\n",
      "\n",
      "\n",
      "\n",
      "\n",
      "\n",
      "\n",
      "\n",
      "\n",
      "\n",
      "\n",
      "  2%|█▍                                                                          | 283/14610 [06:50<5:46:39,  1.45s/it]"
     ]
    },
    {
     "name": "stdout",
     "output_type": "stream",
     "text": [
      "{'key': 'd306zoyjsyarp7ifhu67rjxn52tv0t20', 'role': 'guest', '_format': 'for_p3', 'listing_id': '18811998', '_limit': 2, '_offset': 0}\n"
     ]
    },
    {
     "name": "stderr",
     "output_type": "stream",
     "text": [
      "\n",
      "\n",
      "\n",
      "\n",
      "\n",
      "\n",
      "\n",
      "\n",
      "\n",
      "\n",
      "\n",
      "\n",
      "\n",
      "\n",
      "\n",
      "\n",
      "\n",
      "\n",
      "  2%|█▍                                                                          | 284/14610 [06:52<5:46:32,  1.45s/it]\n",
      "\n",
      "\n",
      "\n",
      "\n",
      "\n",
      "\n",
      "\n",
      "\n",
      "\n",
      "\n",
      "\n",
      "\n",
      "\n",
      "\n",
      "\n",
      "\n",
      "\n",
      "  2%|█▍                                                                          | 285/14610 [06:52<5:45:45,  1.45s/it]"
     ]
    },
    {
     "name": "stdout",
     "output_type": "stream",
     "text": [
      "{'key': 'd306zoyjsyarp7ifhu67rjxn52tv0t20', 'role': 'guest', '_format': 'for_p3', 'listing_id': '7236494', '_limit': 7, '_offset': 0}\n"
     ]
    },
    {
     "name": "stderr",
     "output_type": "stream",
     "text": [
      "\n",
      "\n",
      "\n",
      "\n",
      "\n",
      "\n",
      "\n",
      "\n",
      "\n",
      "\n",
      "\n",
      "\n",
      "\n",
      "\n",
      "\n",
      "\n",
      "\n",
      "\n",
      "  2%|█▍                                                                          | 286/14610 [06:54<5:45:55,  1.45s/it]"
     ]
    },
    {
     "name": "stdout",
     "output_type": "stream",
     "text": [
      "{'key': 'd306zoyjsyarp7ifhu67rjxn52tv0t20', 'role': 'guest', '_format': 'for_p3', 'listing_id': '2936899', '_limit': 1, '_offset': 0}\n"
     ]
    },
    {
     "name": "stderr",
     "output_type": "stream",
     "text": [
      "\n",
      "\n",
      "\n",
      "\n",
      "\n",
      "\n",
      "\n",
      "\n",
      "\n",
      "\n",
      "\n",
      "\n",
      "\n",
      "\n",
      "\n",
      "\n",
      "\n",
      "\n",
      "  2%|█▍                                                                          | 287/14610 [06:55<5:45:47,  1.45s/it]"
     ]
    },
    {
     "name": "stdout",
     "output_type": "stream",
     "text": [
      "{'key': 'd306zoyjsyarp7ifhu67rjxn52tv0t20', 'role': 'guest', '_format': 'for_p3', 'listing_id': '18968468', '_limit': 2, '_offset': 0}\n"
     ]
    },
    {
     "name": "stderr",
     "output_type": "stream",
     "text": [
      "\n",
      "\n",
      "\n",
      "\n",
      "\n",
      "\n",
      "\n",
      "\n",
      "\n",
      "\n",
      "\n",
      "\n",
      "\n",
      "\n",
      "\n",
      "\n",
      "\n",
      "\n",
      "  2%|█▍                                                                          | 288/14610 [06:57<5:45:39,  1.45s/it]"
     ]
    },
    {
     "name": "stdout",
     "output_type": "stream",
     "text": [
      "{'key': 'd306zoyjsyarp7ifhu67rjxn52tv0t20', 'role': 'guest', '_format': 'for_p3', 'listing_id': '16341679', '_limit': 4, '_offset': 0}\n"
     ]
    },
    {
     "name": "stderr",
     "output_type": "stream",
     "text": [
      "\n",
      "\n",
      "\n",
      "\n",
      "\n",
      "\n",
      "\n",
      "\n",
      "\n",
      "\n",
      "\n",
      "\n",
      "\n",
      "\n",
      "\n",
      "\n",
      "\n",
      "\n",
      "  2%|█▌                                                                          | 289/14610 [06:58<5:45:40,  1.45s/it]\n",
      "\n",
      "\n",
      "\n",
      "\n",
      "\n",
      "\n",
      "\n",
      "\n",
      "\n",
      "\n",
      "\n",
      "\n",
      "\n",
      "\n",
      "\n",
      "\n",
      "\n",
      "  2%|█▌                                                                          | 290/14610 [06:59<5:45:00,  1.45s/it]"
     ]
    },
    {
     "name": "stdout",
     "output_type": "stream",
     "text": [
      "{'key': 'd306zoyjsyarp7ifhu67rjxn52tv0t20', 'role': 'guest', '_format': 'for_p3', 'listing_id': '15121860', '_limit': 23, '_offset': 0}\n"
     ]
    },
    {
     "name": "stderr",
     "output_type": "stream",
     "text": [
      "\n",
      "\n",
      "\n",
      "\n",
      "\n",
      "\n",
      "\n",
      "\n",
      "\n",
      "\n",
      "\n",
      "\n",
      "\n",
      "\n",
      "\n",
      "\n",
      "\n",
      "\n",
      "  2%|█▌                                                                          | 291/14610 [07:00<5:45:09,  1.45s/it]"
     ]
    },
    {
     "name": "stdout",
     "output_type": "stream",
     "text": [
      "{'key': 'd306zoyjsyarp7ifhu67rjxn52tv0t20', 'role': 'guest', '_format': 'for_p3', 'listing_id': '1299037', '_limit': 72, '_offset': 0}\n"
     ]
    },
    {
     "name": "stderr",
     "output_type": "stream",
     "text": [
      "\n",
      "\n",
      "\n",
      "\n",
      "\n",
      "\n",
      "\n",
      "\n",
      "\n",
      "\n",
      "\n",
      "\n",
      "\n",
      "\n",
      "\n",
      "\n",
      "\n",
      "\n",
      "  2%|█▌                                                                          | 292/14610 [07:03<5:46:10,  1.45s/it]"
     ]
    },
    {
     "name": "stdout",
     "output_type": "stream",
     "text": [
      "{'key': 'd306zoyjsyarp7ifhu67rjxn52tv0t20', 'role': 'guest', '_format': 'for_p3', 'listing_id': '4008197', '_limit': 3, '_offset': 0}\n"
     ]
    },
    {
     "name": "stderr",
     "output_type": "stream",
     "text": [
      "\n",
      "\n",
      "\n",
      "\n",
      "\n",
      "\n",
      "\n",
      "\n",
      "\n",
      "\n",
      "\n",
      "\n",
      "\n",
      "\n",
      "\n",
      "\n",
      "\n",
      "\n",
      "  2%|█▌                                                                          | 293/14610 [07:05<5:46:14,  1.45s/it]"
     ]
    },
    {
     "name": "stdout",
     "output_type": "stream",
     "text": [
      "{'key': 'd306zoyjsyarp7ifhu67rjxn52tv0t20', 'role': 'guest', '_format': 'for_p3', 'listing_id': '19847273', '_limit': 5, '_offset': 0}\n"
     ]
    },
    {
     "name": "stderr",
     "output_type": "stream",
     "text": [
      "\n",
      "\n",
      "\n",
      "\n",
      "\n",
      "\n",
      "\n",
      "\n",
      "\n",
      "\n",
      "\n",
      "\n",
      "\n",
      "\n",
      "\n",
      "\n",
      "\n",
      "\n",
      "  2%|█▌                                                                          | 294/14610 [07:06<5:46:15,  1.45s/it]"
     ]
    },
    {
     "name": "stdout",
     "output_type": "stream",
     "text": [
      "{'key': 'd306zoyjsyarp7ifhu67rjxn52tv0t20', 'role': 'guest', '_format': 'for_p3', 'listing_id': '28057815', '_limit': 11, '_offset': 0}\n"
     ]
    },
    {
     "name": "stderr",
     "output_type": "stream",
     "text": [
      "\n",
      "\n",
      "\n",
      "\n",
      "\n",
      "\n",
      "\n",
      "\n",
      "\n",
      "\n",
      "\n",
      "\n",
      "\n",
      "\n",
      "\n",
      "\n",
      "\n",
      "\n",
      "  2%|█▌                                                                          | 295/14610 [07:08<5:46:13,  1.45s/it]\n",
      "\n",
      "\n",
      "\n",
      "\n",
      "\n",
      "\n",
      "\n",
      "\n",
      "\n",
      "\n",
      "\n",
      "\n",
      "\n",
      "\n",
      "\n",
      "\n",
      "\n",
      "  2%|█▌                                                                          | 296/14610 [07:08<5:45:28,  1.45s/it]"
     ]
    },
    {
     "name": "stdout",
     "output_type": "stream",
     "text": [
      "{'key': 'd306zoyjsyarp7ifhu67rjxn52tv0t20', 'role': 'guest', '_format': 'for_p3', 'listing_id': '24148301', '_limit': 12, '_offset': 0}\n"
     ]
    },
    {
     "name": "stderr",
     "output_type": "stream",
     "text": [
      "\n",
      "\n",
      "\n",
      "\n",
      "\n",
      "\n",
      "\n",
      "\n",
      "\n",
      "\n",
      "\n",
      "\n",
      "\n",
      "\n",
      "\n",
      "\n",
      "\n",
      "\n",
      "  2%|█▌                                                                          | 297/14610 [07:10<5:45:29,  1.45s/it]"
     ]
    },
    {
     "name": "stdout",
     "output_type": "stream",
     "text": [
      "{'key': 'd306zoyjsyarp7ifhu67rjxn52tv0t20', 'role': 'guest', '_format': 'for_p3', 'listing_id': '14310710', '_limit': 84, '_offset': 0}\n"
     ]
    },
    {
     "name": "stderr",
     "output_type": "stream",
     "text": [
      "\n",
      "\n",
      "\n",
      "\n",
      "\n",
      "\n",
      "\n",
      "\n",
      "\n",
      "\n",
      "\n",
      "\n",
      "\n",
      "\n",
      "\n",
      "\n",
      "\n",
      "\n",
      "  2%|█▌                                                                          | 298/14610 [07:12<5:46:14,  1.45s/it]"
     ]
    },
    {
     "name": "stdout",
     "output_type": "stream",
     "text": [
      "{'key': 'd306zoyjsyarp7ifhu67rjxn52tv0t20', 'role': 'guest', '_format': 'for_p3', 'listing_id': '14310550', '_limit': 59, '_offset': 0}\n"
     ]
    },
    {
     "name": "stderr",
     "output_type": "stream",
     "text": [
      "\n",
      "\n",
      "\n",
      "\n",
      "\n",
      "\n",
      "\n",
      "\n",
      "\n",
      "\n",
      "\n",
      "\n",
      "\n",
      "\n",
      "\n",
      "\n",
      "\n",
      "\n",
      "  2%|█▌                                                                          | 299/14610 [07:14<5:46:40,  1.45s/it]"
     ]
    },
    {
     "name": "stdout",
     "output_type": "stream",
     "text": [
      "{'key': 'd306zoyjsyarp7ifhu67rjxn52tv0t20', 'role': 'guest', '_format': 'for_p3', 'listing_id': '2250805', '_limit': 28, '_offset': 0}\n"
     ]
    },
    {
     "name": "stderr",
     "output_type": "stream",
     "text": [
      "\n",
      "\n",
      "\n",
      "\n",
      "\n",
      "\n",
      "\n",
      "\n",
      "\n",
      "\n",
      "\n",
      "\n",
      "\n",
      "\n",
      "\n",
      "\n",
      "\n",
      "\n",
      "  2%|█▌                                                                          | 300/14610 [07:16<5:46:53,  1.45s/it]"
     ]
    },
    {
     "name": "stdout",
     "output_type": "stream",
     "text": [
      "{'key': 'd306zoyjsyarp7ifhu67rjxn52tv0t20', 'role': 'guest', '_format': 'for_p3', 'listing_id': '4760891', '_limit': 6, '_offset': 0}\n"
     ]
    },
    {
     "name": "stderr",
     "output_type": "stream",
     "text": [
      "\n",
      "\n",
      "\n",
      "\n",
      "\n",
      "\n",
      "\n",
      "\n",
      "\n",
      "\n",
      "\n",
      "\n",
      "\n",
      "\n",
      "\n",
      "\n",
      "\n",
      "\n",
      "  2%|█▌                                                                          | 301/14610 [07:17<5:46:48,  1.45s/it]"
     ]
    },
    {
     "name": "stdout",
     "output_type": "stream",
     "text": [
      "{'key': 'd306zoyjsyarp7ifhu67rjxn52tv0t20', 'role': 'guest', '_format': 'for_p3', 'listing_id': '16874749', '_limit': 67, '_offset': 0}\n"
     ]
    },
    {
     "name": "stderr",
     "output_type": "stream",
     "text": [
      "\n",
      "\n",
      "\n",
      "\n",
      "\n",
      "\n",
      "\n",
      "\n",
      "\n",
      "\n",
      "\n",
      "\n",
      "\n",
      "\n",
      "\n",
      "\n",
      "\n",
      "\n",
      "  2%|█▌                                                                          | 302/14610 [07:20<5:47:40,  1.46s/it]"
     ]
    },
    {
     "name": "stdout",
     "output_type": "stream",
     "text": [
      "{'key': 'd306zoyjsyarp7ifhu67rjxn52tv0t20', 'role': 'guest', '_format': 'for_p3', 'listing_id': '14310670', '_limit': 73, '_offset': 0}\n"
     ]
    },
    {
     "name": "stderr",
     "output_type": "stream",
     "text": [
      "\n",
      "\n",
      "\n",
      "\n",
      "\n",
      "\n",
      "\n",
      "\n",
      "\n",
      "\n",
      "\n",
      "\n",
      "\n",
      "\n",
      "\n",
      "\n",
      "\n",
      "\n",
      "  2%|█▌                                                                          | 303/14610 [07:22<5:48:12,  1.46s/it]"
     ]
    },
    {
     "name": "stdout",
     "output_type": "stream",
     "text": [
      "{'key': 'd306zoyjsyarp7ifhu67rjxn52tv0t20', 'role': 'guest', '_format': 'for_p3', 'listing_id': '10846064', '_limit': 38, '_offset': 0}\n"
     ]
    },
    {
     "name": "stderr",
     "output_type": "stream",
     "text": [
      "\n",
      "\n",
      "\n",
      "\n",
      "\n",
      "\n",
      "\n",
      "\n",
      "\n",
      "\n",
      "\n",
      "\n",
      "\n",
      "\n",
      "\n",
      "\n",
      "\n",
      "\n",
      "  2%|█▌                                                                          | 304/14610 [07:24<5:48:28,  1.46s/it]"
     ]
    },
    {
     "name": "stdout",
     "output_type": "stream",
     "text": [
      "{'key': 'd306zoyjsyarp7ifhu67rjxn52tv0t20', 'role': 'guest', '_format': 'for_p3', 'listing_id': '15337227', '_limit': 41, '_offset': 0}\n"
     ]
    },
    {
     "name": "stderr",
     "output_type": "stream",
     "text": [
      "\n",
      "\n",
      "\n",
      "\n",
      "\n",
      "\n",
      "\n",
      "\n",
      "\n",
      "\n",
      "\n",
      "\n",
      "\n",
      "\n",
      "\n",
      "\n",
      "\n",
      "\n",
      "  2%|█▌                                                                          | 305/14610 [07:26<5:49:03,  1.46s/it]"
     ]
    },
    {
     "name": "stdout",
     "output_type": "stream",
     "text": [
      "{'key': 'd306zoyjsyarp7ifhu67rjxn52tv0t20', 'role': 'guest', '_format': 'for_p3', 'listing_id': '17276496', '_limit': 70, '_offset': 0}\n"
     ]
    },
    {
     "name": "stderr",
     "output_type": "stream",
     "text": [
      "\n",
      "\n",
      "\n",
      "\n",
      "\n",
      "\n",
      "\n",
      "\n",
      "\n",
      "\n",
      "\n",
      "\n",
      "\n",
      "\n",
      "\n",
      "\n",
      "\n",
      "\n",
      "  2%|█▌                                                                          | 306/14610 [07:29<5:49:56,  1.47s/it]"
     ]
    },
    {
     "name": "stdout",
     "output_type": "stream",
     "text": [
      "{'key': 'd306zoyjsyarp7ifhu67rjxn52tv0t20', 'role': 'guest', '_format': 'for_p3', 'listing_id': '10285208', '_limit': 25, '_offset': 0}\n"
     ]
    },
    {
     "name": "stderr",
     "output_type": "stream",
     "text": [
      "\n",
      "\n",
      "\n",
      "\n",
      "\n",
      "\n",
      "\n",
      "\n",
      "\n",
      "\n",
      "\n",
      "\n",
      "\n",
      "\n",
      "\n",
      "\n",
      "\n",
      "\n",
      "  2%|█▌                                                                          | 307/14610 [07:30<5:50:09,  1.47s/it]"
     ]
    },
    {
     "name": "stdout",
     "output_type": "stream",
     "text": [
      "{'key': 'd306zoyjsyarp7ifhu67rjxn52tv0t20', 'role': 'guest', '_format': 'for_p3', 'listing_id': '10290135', '_limit': 40, '_offset': 0}\n"
     ]
    },
    {
     "name": "stderr",
     "output_type": "stream",
     "text": [
      "\n",
      "\n",
      "\n",
      "\n",
      "\n",
      "\n",
      "\n",
      "\n",
      "\n",
      "\n",
      "\n",
      "\n",
      "\n",
      "\n",
      "\n",
      "\n",
      "\n",
      "\n",
      "  2%|█▌                                                                          | 308/14610 [07:32<5:50:30,  1.47s/it]"
     ]
    },
    {
     "name": "stdout",
     "output_type": "stream",
     "text": [
      "{'key': 'd306zoyjsyarp7ifhu67rjxn52tv0t20', 'role': 'guest', '_format': 'for_p3', 'listing_id': '17372933', '_limit': 16, '_offset': 0}\n"
     ]
    },
    {
     "name": "stderr",
     "output_type": "stream",
     "text": [
      "\n",
      "\n",
      "\n",
      "\n",
      "\n",
      "\n",
      "\n",
      "\n",
      "\n",
      "\n",
      "\n",
      "\n",
      "\n",
      "\n",
      "\n",
      "\n",
      "\n",
      "\n",
      "  2%|█▌                                                                          | 309/14610 [07:34<5:50:33,  1.47s/it]"
     ]
    },
    {
     "name": "stdout",
     "output_type": "stream",
     "text": [
      "{'key': 'd306zoyjsyarp7ifhu67rjxn52tv0t20', 'role': 'guest', '_format': 'for_p3', 'listing_id': '14310594', '_limit': 68, '_offset': 0}\n"
     ]
    },
    {
     "name": "stderr",
     "output_type": "stream",
     "text": [
      "\n",
      "\n",
      "\n",
      "\n",
      "\n",
      "\n",
      "\n",
      "\n",
      "\n",
      "\n",
      "\n",
      "\n",
      "\n",
      "\n",
      "\n",
      "\n",
      "\n",
      "\n",
      "  2%|█▌                                                                          | 310/14610 [07:36<5:51:11,  1.47s/it]"
     ]
    },
    {
     "name": "stdout",
     "output_type": "stream",
     "text": [
      "{'key': 'd306zoyjsyarp7ifhu67rjxn52tv0t20', 'role': 'guest', '_format': 'for_p3', 'listing_id': '14819280', '_limit': 22, '_offset': 0}\n"
     ]
    },
    {
     "name": "stderr",
     "output_type": "stream",
     "text": [
      "\n",
      "\n",
      "\n",
      "\n",
      "\n",
      "\n",
      "\n",
      "\n",
      "\n",
      "\n",
      "\n",
      "\n",
      "\n",
      "\n",
      "\n",
      "\n",
      "\n",
      "\n",
      "  2%|█▌                                                                          | 311/14610 [07:38<5:51:15,  1.47s/it]"
     ]
    },
    {
     "name": "stdout",
     "output_type": "stream",
     "text": [
      "{'key': 'd306zoyjsyarp7ifhu67rjxn52tv0t20', 'role': 'guest', '_format': 'for_p3', 'listing_id': '8080023', '_limit': 31, '_offset': 0}\n"
     ]
    },
    {
     "name": "stderr",
     "output_type": "stream",
     "text": [
      "\n",
      "\n",
      "\n",
      "\n",
      "\n",
      "\n",
      "\n",
      "\n",
      "\n",
      "\n",
      "\n",
      "\n",
      "\n",
      "\n",
      "\n",
      "\n",
      "\n",
      "\n",
      "  2%|█▌                                                                          | 312/14610 [07:40<5:51:27,  1.47s/it]"
     ]
    },
    {
     "name": "stdout",
     "output_type": "stream",
     "text": [
      "{'key': 'd306zoyjsyarp7ifhu67rjxn52tv0t20', 'role': 'guest', '_format': 'for_p3', 'listing_id': '15502871', '_limit': 11, '_offset': 0}\n"
     ]
    },
    {
     "name": "stderr",
     "output_type": "stream",
     "text": [
      "\n",
      "\n",
      "\n",
      "\n",
      "\n",
      "\n",
      "\n",
      "\n",
      "\n",
      "\n",
      "\n",
      "\n",
      "\n",
      "\n",
      "\n",
      "\n",
      "\n",
      "\n",
      "  2%|█▋                                                                          | 313/14610 [07:41<5:51:33,  1.48s/it]"
     ]
    },
    {
     "name": "stdout",
     "output_type": "stream",
     "text": [
      "{'key': 'd306zoyjsyarp7ifhu67rjxn52tv0t20', 'role': 'guest', '_format': 'for_p3', 'listing_id': '26711154', '_limit': 10, '_offset': 0}\n"
     ]
    },
    {
     "name": "stderr",
     "output_type": "stream",
     "text": [
      "\n",
      "\n",
      "\n",
      "\n",
      "\n",
      "\n",
      "\n",
      "\n",
      "\n",
      "\n",
      "\n",
      "\n",
      "\n",
      "\n",
      "\n",
      "\n",
      "\n",
      "\n",
      "  2%|█▋                                                                          | 314/14610 [07:43<5:51:35,  1.48s/it]"
     ]
    },
    {
     "name": "stdout",
     "output_type": "stream",
     "text": [
      "{'key': 'd306zoyjsyarp7ifhu67rjxn52tv0t20', 'role': 'guest', '_format': 'for_p3', 'listing_id': '20157151', '_limit': 4, '_offset': 0}\n"
     ]
    },
    {
     "name": "stderr",
     "output_type": "stream",
     "text": [
      "\n",
      "\n",
      "\n",
      "\n",
      "\n",
      "\n",
      "\n",
      "\n",
      "\n",
      "\n",
      "\n",
      "\n",
      "\n",
      "\n",
      "\n",
      "\n",
      "\n",
      "\n",
      "  2%|█▋                                                                          | 315/14610 [07:44<5:51:34,  1.48s/it]"
     ]
    },
    {
     "name": "stdout",
     "output_type": "stream",
     "text": [
      "{'key': 'd306zoyjsyarp7ifhu67rjxn52tv0t20', 'role': 'guest', '_format': 'for_p3', 'listing_id': '25222784', '_limit': 3, '_offset': 0}\n"
     ]
    },
    {
     "name": "stderr",
     "output_type": "stream",
     "text": [
      "\n",
      "\n",
      "\n",
      "\n",
      "\n",
      "\n",
      "\n",
      "\n",
      "\n",
      "\n",
      "\n",
      "\n",
      "\n",
      "\n",
      "\n",
      "\n",
      "\n",
      "\n",
      "  2%|█▋                                                                          | 316/14610 [07:46<5:51:26,  1.48s/it]"
     ]
    },
    {
     "name": "stdout",
     "output_type": "stream",
     "text": [
      "{'key': 'd306zoyjsyarp7ifhu67rjxn52tv0t20', 'role': 'guest', '_format': 'for_p3', 'listing_id': '17591809', '_limit': 11, '_offset': 0}\n"
     ]
    },
    {
     "name": "stderr",
     "output_type": "stream",
     "text": [
      "\n",
      "\n",
      "\n",
      "\n",
      "\n",
      "\n",
      "\n",
      "\n",
      "\n",
      "\n",
      "\n",
      "\n",
      "\n",
      "\n",
      "\n",
      "\n",
      "\n",
      "\n",
      "  2%|█▋                                                                          | 317/14610 [07:47<5:51:23,  1.48s/it]"
     ]
    },
    {
     "name": "stdout",
     "output_type": "stream",
     "text": [
      "{'key': 'd306zoyjsyarp7ifhu67rjxn52tv0t20', 'role': 'guest', '_format': 'for_p3', 'listing_id': '27315279', '_limit': 8, '_offset': 0}\n"
     ]
    },
    {
     "name": "stderr",
     "output_type": "stream",
     "text": [
      "\n",
      "\n",
      "\n",
      "\n",
      "\n",
      "\n",
      "\n",
      "\n",
      "\n",
      "\n",
      "\n",
      "\n",
      "\n",
      "\n",
      "\n",
      "\n",
      "\n",
      "\n",
      "  2%|█▋                                                                          | 318/14610 [07:48<5:51:13,  1.47s/it]"
     ]
    },
    {
     "name": "stdout",
     "output_type": "stream",
     "text": [
      "{'key': 'd306zoyjsyarp7ifhu67rjxn52tv0t20', 'role': 'guest', '_format': 'for_p3', 'listing_id': '20849467', '_limit': 11, '_offset': 0}\n"
     ]
    },
    {
     "name": "stderr",
     "output_type": "stream",
     "text": [
      "\n",
      "\n",
      "\n",
      "\n",
      "\n",
      "\n",
      "\n",
      "\n",
      "\n",
      "\n",
      "\n",
      "\n",
      "\n",
      "\n",
      "\n",
      "\n",
      "\n",
      "\n",
      "  2%|█▋                                                                          | 319/14610 [07:50<5:51:06,  1.47s/it]"
     ]
    },
    {
     "name": "stdout",
     "output_type": "stream",
     "text": [
      "{'key': 'd306zoyjsyarp7ifhu67rjxn52tv0t20', 'role': 'guest', '_format': 'for_p3', 'listing_id': '4760611', '_limit': 2, '_offset': 0}\n"
     ]
    },
    {
     "name": "stderr",
     "output_type": "stream",
     "text": [
      "\n",
      "\n",
      "\n",
      "\n",
      "\n",
      "\n",
      "\n",
      "\n",
      "\n",
      "\n",
      "\n",
      "\n",
      "\n",
      "\n",
      "\n",
      "\n",
      "\n",
      "\n",
      "  2%|█▋                                                                          | 320/14610 [07:51<5:50:53,  1.47s/it]"
     ]
    },
    {
     "name": "stdout",
     "output_type": "stream",
     "text": [
      "{'key': 'd306zoyjsyarp7ifhu67rjxn52tv0t20', 'role': 'guest', '_format': 'for_p3', 'listing_id': '24657917', '_limit': 2, '_offset': 0}\n"
     ]
    },
    {
     "name": "stderr",
     "output_type": "stream",
     "text": [
      "\n",
      "\n",
      "\n",
      "\n",
      "\n",
      "\n",
      "\n",
      "\n",
      "\n",
      "\n",
      "\n",
      "\n",
      "\n",
      "\n",
      "\n",
      "\n",
      "\n",
      "\n",
      "  2%|█▋                                                                          | 321/14610 [07:52<5:50:46,  1.47s/it]"
     ]
    },
    {
     "name": "stdout",
     "output_type": "stream",
     "text": [
      "{'key': 'd306zoyjsyarp7ifhu67rjxn52tv0t20', 'role': 'guest', '_format': 'for_p3', 'listing_id': '4009594', '_limit': 3, '_offset': 0}\n"
     ]
    },
    {
     "name": "stderr",
     "output_type": "stream",
     "text": [
      "\n",
      "\n",
      "\n",
      "\n",
      "\n",
      "\n",
      "\n",
      "\n",
      "\n",
      "\n",
      "\n",
      "\n",
      "\n",
      "\n",
      "\n",
      "\n",
      "\n",
      "\n",
      "  2%|█▋                                                                          | 322/14610 [07:54<5:50:41,  1.47s/it]"
     ]
    },
    {
     "name": "stdout",
     "output_type": "stream",
     "text": [
      "{'key': 'd306zoyjsyarp7ifhu67rjxn52tv0t20', 'role': 'guest', '_format': 'for_p3', 'listing_id': '19508665', '_limit': 9, '_offset': 0}\n"
     ]
    },
    {
     "name": "stderr",
     "output_type": "stream",
     "text": [
      "\n",
      "\n",
      "\n",
      "\n",
      "\n",
      "\n",
      "\n",
      "\n",
      "\n",
      "\n",
      "\n",
      "\n",
      "\n",
      "\n",
      "\n",
      "\n",
      "\n",
      "\n",
      "  2%|█▋                                                                          | 323/14610 [07:55<5:50:45,  1.47s/it]"
     ]
    },
    {
     "name": "stdout",
     "output_type": "stream",
     "text": [
      "{'key': 'd306zoyjsyarp7ifhu67rjxn52tv0t20', 'role': 'guest', '_format': 'for_p3', 'listing_id': '27316506', '_limit': 7, '_offset': 0}\n"
     ]
    },
    {
     "name": "stderr",
     "output_type": "stream",
     "text": [
      "\n",
      "\n",
      "\n",
      "\n",
      "\n",
      "\n",
      "\n",
      "\n",
      "\n",
      "\n",
      "\n",
      "\n",
      "\n",
      "\n",
      "\n",
      "\n",
      "\n",
      "\n",
      "  2%|█▋                                                                          | 324/14610 [07:57<5:50:41,  1.47s/it]\n",
      "\n",
      "\n",
      "\n",
      "\n",
      "\n",
      "\n",
      "\n",
      "\n",
      "\n",
      "\n",
      "\n",
      "\n",
      "\n",
      "\n",
      "\n",
      "\n",
      "\n",
      "  2%|█▋                                                                          | 325/14610 [07:57<5:49:59,  1.47s/it]\n",
      "\n",
      "\n",
      "\n",
      "\n",
      "\n",
      "\n",
      "\n",
      "\n",
      "\n",
      "\n",
      "\n",
      "\n",
      "\n",
      "\n",
      "\n",
      "\n",
      "\n",
      "  2%|█▋                                                                          | 326/14610 [07:58<5:49:22,  1.47s/it]"
     ]
    },
    {
     "name": "stdout",
     "output_type": "stream",
     "text": [
      "{'key': 'd306zoyjsyarp7ifhu67rjxn52tv0t20', 'role': 'guest', '_format': 'for_p3', 'listing_id': '4485266', '_limit': 76, '_offset': 0}\n"
     ]
    },
    {
     "name": "stderr",
     "output_type": "stream",
     "text": [
      "\n",
      "\n",
      "\n",
      "\n",
      "\n",
      "\n",
      "\n",
      "\n",
      "\n",
      "\n",
      "\n",
      "\n",
      "\n",
      "\n",
      "\n",
      "\n",
      "\n",
      "\n",
      "  2%|█▋                                                                          | 327/14610 [08:00<5:50:07,  1.47s/it]"
     ]
    },
    {
     "name": "stdout",
     "output_type": "stream",
     "text": [
      "{'key': 'd306zoyjsyarp7ifhu67rjxn52tv0t20', 'role': 'guest', '_format': 'for_p3', 'listing_id': '24051812', '_limit': 2, '_offset': 0}\n"
     ]
    },
    {
     "name": "stderr",
     "output_type": "stream",
     "text": [
      "\n",
      "\n",
      "\n",
      "\n",
      "\n",
      "\n",
      "\n",
      "\n",
      "\n",
      "\n",
      "\n",
      "\n",
      "\n",
      "\n",
      "\n",
      "\n",
      "\n",
      "\n",
      "  2%|█▋                                                                          | 328/14610 [08:02<5:50:01,  1.47s/it]"
     ]
    },
    {
     "name": "stdout",
     "output_type": "stream",
     "text": [
      "{'key': 'd306zoyjsyarp7ifhu67rjxn52tv0t20', 'role': 'guest', '_format': 'for_p3', 'listing_id': '29455317', '_limit': 3, '_offset': 0}\n"
     ]
    },
    {
     "name": "stderr",
     "output_type": "stream",
     "text": [
      "\n",
      "\n",
      "\n",
      "\n",
      "\n",
      "\n",
      "\n",
      "\n",
      "\n",
      "\n",
      "\n",
      "\n",
      "\n",
      "\n",
      "\n",
      "\n",
      "\n",
      "\n",
      "  2%|█▋                                                                          | 329/14610 [08:04<5:50:11,  1.47s/it]\n",
      "\n",
      "\n",
      "\n",
      "\n",
      "\n",
      "\n",
      "\n",
      "\n",
      "\n",
      "\n",
      "\n",
      "\n",
      "\n",
      "\n",
      "\n",
      "\n",
      "\n",
      "  2%|█▋                                                                          | 330/14610 [08:04<5:49:31,  1.47s/it]"
     ]
    },
    {
     "name": "stdout",
     "output_type": "stream",
     "text": [
      "{'key': 'd306zoyjsyarp7ifhu67rjxn52tv0t20', 'role': 'guest', '_format': 'for_p3', 'listing_id': '8198616', '_limit': 20, '_offset': 0}\n"
     ]
    },
    {
     "name": "stderr",
     "output_type": "stream",
     "text": [
      "\n",
      "\n",
      "\n",
      "\n",
      "\n",
      "\n",
      "\n",
      "\n",
      "\n",
      "\n",
      "\n",
      "\n",
      "\n",
      "\n",
      "\n",
      "\n",
      "\n",
      "\n",
      "  2%|█▋                                                                          | 331/14610 [08:06<5:49:28,  1.47s/it]"
     ]
    },
    {
     "name": "stdout",
     "output_type": "stream",
     "text": [
      "{'key': 'd306zoyjsyarp7ifhu67rjxn52tv0t20', 'role': 'guest', '_format': 'for_p3', 'listing_id': '17218626', '_limit': 15, '_offset': 0}\n"
     ]
    },
    {
     "name": "stderr",
     "output_type": "stream",
     "text": [
      "\n",
      "\n",
      "\n",
      "\n",
      "\n",
      "\n",
      "\n",
      "\n",
      "\n",
      "\n",
      "\n",
      "\n",
      "\n",
      "\n",
      "\n",
      "\n",
      "\n",
      "\n",
      "  2%|█▋                                                                          | 332/14610 [08:07<5:49:34,  1.47s/it]"
     ]
    },
    {
     "name": "stdout",
     "output_type": "stream",
     "text": [
      "{'key': 'd306zoyjsyarp7ifhu67rjxn52tv0t20', 'role': 'guest', '_format': 'for_p3', 'listing_id': '7430664', '_limit': 9, '_offset': 0}\n"
     ]
    },
    {
     "name": "stderr",
     "output_type": "stream",
     "text": [
      "\n",
      "\n",
      "\n",
      "\n",
      "\n",
      "\n",
      "\n",
      "\n",
      "\n",
      "\n",
      "\n",
      "\n",
      "\n",
      "\n",
      "\n",
      "\n",
      "\n",
      "\n",
      "  2%|█▋                                                                          | 333/14610 [08:09<5:49:28,  1.47s/it]"
     ]
    },
    {
     "name": "stdout",
     "output_type": "stream",
     "text": [
      "{'key': 'd306zoyjsyarp7ifhu67rjxn52tv0t20', 'role': 'guest', '_format': 'for_p3', 'listing_id': '8177951', '_limit': 54, '_offset': 0}\n"
     ]
    },
    {
     "name": "stderr",
     "output_type": "stream",
     "text": [
      "\n",
      "\n",
      "\n",
      "\n",
      "\n",
      "\n",
      "\n",
      "\n",
      "\n",
      "\n",
      "\n",
      "\n",
      "\n",
      "\n",
      "\n",
      "\n",
      "\n",
      "\n",
      "  2%|█▋                                                                          | 334/14610 [08:11<5:49:52,  1.47s/it]"
     ]
    },
    {
     "name": "stdout",
     "output_type": "stream",
     "text": [
      "{'key': 'd306zoyjsyarp7ifhu67rjxn52tv0t20', 'role': 'guest', '_format': 'for_p3', 'listing_id': '15484036', '_limit': 4, '_offset': 0}\n"
     ]
    },
    {
     "name": "stderr",
     "output_type": "stream",
     "text": [
      "\n",
      "\n",
      "\n",
      "\n",
      "\n",
      "\n",
      "\n",
      "\n",
      "\n",
      "\n",
      "\n",
      "\n",
      "\n",
      "\n",
      "\n",
      "\n",
      "\n",
      "\n",
      "  2%|█▋                                                                          | 335/14610 [08:12<5:49:43,  1.47s/it]"
     ]
    },
    {
     "name": "stdout",
     "output_type": "stream",
     "text": [
      "{'key': 'd306zoyjsyarp7ifhu67rjxn52tv0t20', 'role': 'guest', '_format': 'for_p3', 'listing_id': '27317387', '_limit': 5, '_offset': 0}\n"
     ]
    },
    {
     "name": "stderr",
     "output_type": "stream",
     "text": [
      "\n",
      "\n",
      "\n",
      "\n",
      "\n",
      "\n",
      "\n",
      "\n",
      "\n",
      "\n",
      "\n",
      "\n",
      "\n",
      "\n",
      "\n",
      "\n",
      "\n",
      "\n",
      "  2%|█▋                                                                          | 336/14610 [08:13<5:49:33,  1.47s/it]\n",
      "\n",
      "\n",
      "\n",
      "\n",
      "\n",
      "\n",
      "\n",
      "\n",
      "\n",
      "\n",
      "\n",
      "\n",
      "\n",
      "\n",
      "\n",
      "\n",
      "\n",
      "  2%|█▊                                                                          | 337/14610 [08:14<5:49:05,  1.47s/it]\n",
      "\n",
      "\n",
      "\n",
      "\n",
      "\n",
      "\n",
      "\n",
      "\n",
      "\n",
      "\n",
      "\n",
      "\n",
      "\n",
      "\n",
      "\n",
      "\n",
      "\n",
      "  2%|█▊                                                                          | 338/14610 [08:15<5:48:24,  1.46s/it]"
     ]
    },
    {
     "name": "stdout",
     "output_type": "stream",
     "text": [
      "{'key': 'd306zoyjsyarp7ifhu67rjxn52tv0t20', 'role': 'guest', '_format': 'for_p3', 'listing_id': '6201394', '_limit': 6, '_offset': 0}\n"
     ]
    },
    {
     "name": "stderr",
     "output_type": "stream",
     "text": [
      "\n",
      "\n",
      "\n",
      "\n",
      "\n",
      "\n",
      "\n",
      "\n",
      "\n",
      "\n",
      "\n",
      "\n",
      "\n",
      "\n",
      "\n",
      "\n",
      "\n",
      "\n",
      "  2%|█▊                                                                          | 339/14610 [08:16<5:48:27,  1.47s/it]"
     ]
    },
    {
     "name": "stdout",
     "output_type": "stream",
     "text": [
      "{'key': 'd306zoyjsyarp7ifhu67rjxn52tv0t20', 'role': 'guest', '_format': 'for_p3', 'listing_id': '824258', '_limit': 12, '_offset': 0}\n"
     ]
    },
    {
     "name": "stderr",
     "output_type": "stream",
     "text": [
      "\n",
      "\n",
      "\n",
      "\n",
      "\n",
      "\n",
      "\n",
      "\n",
      "\n",
      "\n",
      "\n",
      "\n",
      "\n",
      "\n",
      "\n",
      "\n",
      "\n",
      "\n",
      "  2%|█▊                                                                          | 340/14610 [08:18<5:48:29,  1.47s/it]"
     ]
    },
    {
     "name": "stdout",
     "output_type": "stream",
     "text": [
      "{'key': 'd306zoyjsyarp7ifhu67rjxn52tv0t20', 'role': 'guest', '_format': 'for_p3', 'listing_id': '26997369', '_limit': 4, '_offset': 0}\n"
     ]
    },
    {
     "name": "stderr",
     "output_type": "stream",
     "text": [
      "\n",
      "\n",
      "\n",
      "\n",
      "\n",
      "\n",
      "\n",
      "\n",
      "\n",
      "\n",
      "\n",
      "\n",
      "\n",
      "\n",
      "\n",
      "\n",
      "\n",
      "\n",
      "  2%|█▊                                                                          | 341/14610 [08:19<5:48:34,  1.47s/it]"
     ]
    },
    {
     "name": "stdout",
     "output_type": "stream",
     "text": [
      "{'key': 'd306zoyjsyarp7ifhu67rjxn52tv0t20', 'role': 'guest', '_format': 'for_p3', 'listing_id': '28966164', '_limit': 2, '_offset': 0}\n"
     ]
    },
    {
     "name": "stderr",
     "output_type": "stream",
     "text": [
      "\n",
      "\n",
      "\n",
      "\n",
      "\n",
      "\n",
      "\n",
      "\n",
      "\n",
      "\n",
      "\n",
      "\n",
      "\n",
      "\n",
      "\n",
      "\n",
      "\n",
      "\n",
      "  2%|█▊                                                                          | 342/14610 [08:21<5:48:22,  1.46s/it]"
     ]
    },
    {
     "name": "stdout",
     "output_type": "stream",
     "text": [
      "{'key': 'd306zoyjsyarp7ifhu67rjxn52tv0t20', 'role': 'guest', '_format': 'for_p3', 'listing_id': '27556793', '_limit': 9, '_offset': 0}\n"
     ]
    },
    {
     "name": "stderr",
     "output_type": "stream",
     "text": [
      "\n",
      "\n",
      "\n",
      "\n",
      "\n",
      "\n",
      "\n",
      "\n",
      "\n",
      "\n",
      "\n",
      "\n",
      "\n",
      "\n",
      "\n",
      "\n",
      "\n",
      "\n",
      "  2%|█▊                                                                          | 343/14610 [08:22<5:48:17,  1.46s/it]"
     ]
    },
    {
     "name": "stdout",
     "output_type": "stream",
     "text": [
      "{'key': 'd306zoyjsyarp7ifhu67rjxn52tv0t20', 'role': 'guest', '_format': 'for_p3', 'listing_id': '21938056', '_limit': 1, '_offset': 0}\n"
     ]
    },
    {
     "name": "stderr",
     "output_type": "stream",
     "text": [
      "\n",
      "\n",
      "\n",
      "\n",
      "\n",
      "\n",
      "\n",
      "\n",
      "\n",
      "\n",
      "\n",
      "\n",
      "\n",
      "\n",
      "\n",
      "\n",
      "\n",
      "\n",
      "  2%|█▊                                                                          | 344/14610 [08:23<5:48:11,  1.46s/it]"
     ]
    },
    {
     "name": "stdout",
     "output_type": "stream",
     "text": [
      "{'key': 'd306zoyjsyarp7ifhu67rjxn52tv0t20', 'role': 'guest', '_format': 'for_p3', 'listing_id': '26314142', '_limit': 2, '_offset': 0}\n"
     ]
    },
    {
     "name": "stderr",
     "output_type": "stream",
     "text": [
      "\n",
      "\n",
      "\n",
      "\n",
      "\n",
      "\n",
      "\n",
      "\n",
      "\n",
      "\n",
      "\n",
      "\n",
      "\n",
      "\n",
      "\n",
      "\n",
      "\n",
      "\n",
      "  2%|█▊                                                                          | 345/14610 [08:25<5:48:38,  1.47s/it]"
     ]
    },
    {
     "name": "stdout",
     "output_type": "stream",
     "text": [
      "{'key': 'd306zoyjsyarp7ifhu67rjxn52tv0t20', 'role': 'guest', '_format': 'for_p3', 'listing_id': '16653801', '_limit': 1, '_offset': 0}\n"
     ]
    },
    {
     "name": "stderr",
     "output_type": "stream",
     "text": [
      "\n",
      "\n",
      "\n",
      "\n",
      "\n",
      "\n",
      "\n",
      "\n",
      "\n",
      "\n",
      "\n",
      "\n",
      "\n",
      "\n",
      "\n",
      "\n",
      "\n",
      "\n",
      "  2%|█▊                                                                          | 346/14610 [08:27<5:48:31,  1.47s/it]\n",
      "\n",
      "\n",
      "\n",
      "\n",
      "\n",
      "\n",
      "\n",
      "\n",
      "\n",
      "\n",
      "\n",
      "\n",
      "\n",
      "\n",
      "\n",
      "\n",
      "\n",
      "  2%|█▊                                                                          | 347/14610 [08:27<5:47:52,  1.46s/it]\n",
      "\n",
      "\n",
      "\n",
      "\n",
      "\n",
      "\n",
      "\n",
      "\n",
      "\n",
      "\n",
      "\n",
      "\n",
      "\n",
      "\n",
      "\n",
      "\n",
      "\n",
      "  2%|█▊                                                                          | 348/14610 [08:28<5:47:14,  1.46s/it]\n",
      "\n",
      "\n",
      "\n",
      "\n",
      "\n",
      "\n",
      "\n",
      "\n",
      "\n",
      "\n",
      "\n",
      "\n",
      "\n",
      "\n",
      "\n",
      "\n",
      "\n",
      "  2%|█▊                                                                          | 349/14610 [08:28<5:46:35,  1.46s/it]\n",
      "\n",
      "\n",
      "\n",
      "\n",
      "\n",
      "\n",
      "\n",
      "\n",
      "\n",
      "\n",
      "\n",
      "\n",
      "\n",
      "\n",
      "\n",
      "\n",
      "\n",
      "  2%|█▊                                                                          | 350/14610 [08:29<5:45:58,  1.46s/it]"
     ]
    },
    {
     "name": "stdout",
     "output_type": "stream",
     "text": [
      "{'key': 'd306zoyjsyarp7ifhu67rjxn52tv0t20', 'role': 'guest', '_format': 'for_p3', 'listing_id': '26985710', '_limit': 4, '_offset': 0}\n"
     ]
    },
    {
     "name": "stderr",
     "output_type": "stream",
     "text": [
      "\n",
      "\n",
      "\n",
      "\n",
      "\n",
      "\n",
      "\n",
      "\n",
      "\n",
      "\n",
      "\n",
      "\n",
      "\n",
      "\n",
      "\n",
      "\n",
      "\n",
      "\n",
      "  2%|█▊                                                                          | 351/14610 [08:30<5:45:50,  1.46s/it]"
     ]
    },
    {
     "name": "stdout",
     "output_type": "stream",
     "text": [
      "{'key': 'd306zoyjsyarp7ifhu67rjxn52tv0t20', 'role': 'guest', '_format': 'for_p3', 'listing_id': '14827096', '_limit': 11, '_offset': 0}\n"
     ]
    },
    {
     "name": "stderr",
     "output_type": "stream",
     "text": [
      "\n",
      "\n",
      "\n",
      "\n",
      "\n",
      "\n",
      "\n",
      "\n",
      "\n",
      "\n",
      "\n",
      "\n",
      "\n",
      "\n",
      "\n",
      "\n",
      "\n",
      "\n",
      "  2%|█▊                                                                          | 352/14610 [08:32<5:46:02,  1.46s/it]"
     ]
    },
    {
     "name": "stdout",
     "output_type": "stream",
     "text": [
      "{'key': 'd306zoyjsyarp7ifhu67rjxn52tv0t20', 'role': 'guest', '_format': 'for_p3', 'listing_id': '27793758', '_limit': 4, '_offset': 0}\n"
     ]
    },
    {
     "name": "stderr",
     "output_type": "stream",
     "text": [
      "\n",
      "\n",
      "\n",
      "\n",
      "\n",
      "\n",
      "\n",
      "\n",
      "\n",
      "\n",
      "\n",
      "\n",
      "\n",
      "\n",
      "\n",
      "\n",
      "\n",
      "\n",
      "  2%|█▊                                                                          | 353/14610 [08:33<5:45:59,  1.46s/it]"
     ]
    },
    {
     "name": "stdout",
     "output_type": "stream",
     "text": [
      "{'key': 'd306zoyjsyarp7ifhu67rjxn52tv0t20', 'role': 'guest', '_format': 'for_p3', 'listing_id': '28653732', '_limit': 4, '_offset': 0}\n"
     ]
    },
    {
     "name": "stderr",
     "output_type": "stream",
     "text": [
      "\n",
      "\n",
      "\n",
      "\n",
      "\n",
      "\n",
      "\n",
      "\n",
      "\n",
      "\n",
      "\n",
      "\n",
      "\n",
      "\n",
      "\n",
      "\n",
      "\n",
      "\n",
      "  2%|█▊                                                                          | 354/14610 [08:35<5:46:10,  1.46s/it]\n",
      "\n",
      "\n",
      "\n",
      "\n",
      "\n",
      "\n",
      "\n",
      "\n",
      "\n",
      "\n",
      "\n",
      "\n",
      "\n",
      "\n",
      "\n",
      "\n",
      "\n",
      "  2%|█▊                                                                          | 355/14610 [08:36<5:45:37,  1.45s/it]"
     ]
    },
    {
     "name": "stdout",
     "output_type": "stream",
     "text": [
      "{'key': 'd306zoyjsyarp7ifhu67rjxn52tv0t20', 'role': 'guest', '_format': 'for_p3', 'listing_id': '26313039', '_limit': 3, '_offset': 0}\n"
     ]
    },
    {
     "name": "stderr",
     "output_type": "stream",
     "text": [
      "\n",
      "\n",
      "\n",
      "\n",
      "\n",
      "\n",
      "\n",
      "\n",
      "\n",
      "\n",
      "\n",
      "\n",
      "\n",
      "\n",
      "\n",
      "\n",
      "\n",
      "\n",
      "  2%|█▊                                                                          | 356/14610 [08:37<5:45:36,  1.45s/it]"
     ]
    },
    {
     "name": "stdout",
     "output_type": "stream",
     "text": [
      "{'key': 'd306zoyjsyarp7ifhu67rjxn52tv0t20', 'role': 'guest', '_format': 'for_p3', 'listing_id': '29369714', '_limit': 1, '_offset': 0}\n"
     ]
    },
    {
     "name": "stderr",
     "output_type": "stream",
     "text": [
      "\n",
      "\n",
      "\n",
      "\n",
      "\n",
      "\n",
      "\n",
      "\n",
      "\n",
      "\n",
      "\n",
      "\n",
      "\n",
      "\n",
      "\n",
      "\n",
      "\n",
      "\n",
      "  2%|█▊                                                                          | 357/14610 [08:39<5:45:51,  1.46s/it]"
     ]
    },
    {
     "name": "stdout",
     "output_type": "stream",
     "text": [
      "{'key': 'd306zoyjsyarp7ifhu67rjxn52tv0t20', 'role': 'guest', '_format': 'for_p3', 'listing_id': '26313893', '_limit': 5, '_offset': 0}\n"
     ]
    },
    {
     "name": "stderr",
     "output_type": "stream",
     "text": [
      "\n",
      "\n",
      "\n",
      "\n",
      "\n",
      "\n",
      "\n",
      "\n",
      "\n",
      "\n",
      "\n",
      "\n",
      "\n",
      "\n",
      "\n",
      "\n",
      "\n",
      "\n",
      "  2%|█▊                                                                          | 358/14610 [08:41<5:45:52,  1.46s/it]\n",
      "\n",
      "\n",
      "\n",
      "\n",
      "\n",
      "\n",
      "\n",
      "\n",
      "\n",
      "\n",
      "\n",
      "\n",
      "\n",
      "\n",
      "\n",
      "\n",
      "\n",
      "  2%|█▊                                                                          | 359/14610 [08:41<5:45:15,  1.45s/it]"
     ]
    },
    {
     "name": "stdout",
     "output_type": "stream",
     "text": [
      "{'key': 'd306zoyjsyarp7ifhu67rjxn52tv0t20', 'role': 'guest', '_format': 'for_p3', 'listing_id': '23709374', '_limit': 4, '_offset': 0}\n"
     ]
    },
    {
     "name": "stderr",
     "output_type": "stream",
     "text": [
      "\n",
      "\n",
      "\n",
      "\n",
      "\n",
      "\n",
      "\n",
      "\n",
      "\n",
      "\n",
      "\n",
      "\n",
      "\n",
      "\n",
      "\n",
      "\n",
      "\n",
      "\n",
      "  2%|█▊                                                                          | 360/14610 [08:43<5:45:03,  1.45s/it]\n",
      "\n",
      "\n",
      "\n",
      "\n",
      "\n",
      "\n",
      "\n",
      "\n",
      "\n",
      "\n",
      "\n",
      "\n",
      "\n",
      "\n",
      "\n",
      "\n",
      "\n",
      "  2%|█▉                                                                          | 361/14610 [08:43<5:44:28,  1.45s/it]\n",
      "\n",
      "\n",
      "\n",
      "\n",
      "\n",
      "\n",
      "\n",
      "\n",
      "\n",
      "\n",
      "\n",
      "\n",
      "\n",
      "\n",
      "\n",
      "\n",
      "\n",
      "  2%|█▉                                                                          | 362/14610 [08:44<5:43:50,  1.45s/it]"
     ]
    },
    {
     "name": "stdout",
     "output_type": "stream",
     "text": [
      "{'key': 'd306zoyjsyarp7ifhu67rjxn52tv0t20', 'role': 'guest', '_format': 'for_p3', 'listing_id': '28920286', '_limit': 1, '_offset': 0}\n"
     ]
    },
    {
     "name": "stderr",
     "output_type": "stream",
     "text": [
      "\n",
      "\n",
      "\n",
      "\n",
      "\n",
      "\n",
      "\n",
      "\n",
      "\n",
      "\n",
      "\n",
      "\n",
      "\n",
      "\n",
      "\n",
      "\n",
      "\n",
      "\n",
      "  2%|█▉                                                                          | 363/14610 [08:45<5:43:42,  1.45s/it]\n",
      "\n",
      "\n",
      "\n",
      "\n",
      "\n",
      "\n",
      "\n",
      "\n",
      "\n",
      "\n",
      "\n",
      "\n",
      "\n",
      "\n",
      "\n",
      "\n",
      "\n",
      "  2%|█▉                                                                          | 364/14610 [08:45<5:43:06,  1.45s/it]"
     ]
    },
    {
     "name": "stdout",
     "output_type": "stream",
     "text": [
      "{'key': 'd306zoyjsyarp7ifhu67rjxn52tv0t20', 'role': 'guest', '_format': 'for_p3', 'listing_id': '18529480', '_limit': 1, '_offset': 0}\n"
     ]
    },
    {
     "name": "stderr",
     "output_type": "stream",
     "text": [
      "\n",
      "\n",
      "\n",
      "\n",
      "\n",
      "\n",
      "\n",
      "\n",
      "\n",
      "\n",
      "\n",
      "\n",
      "\n",
      "\n",
      "\n",
      "\n",
      "\n",
      "\n",
      "  2%|█▉                                                                          | 365/14610 [08:47<5:42:55,  1.44s/it]\n",
      "\n",
      "\n",
      "\n",
      "\n",
      "\n",
      "\n",
      "\n",
      "\n",
      "\n",
      "\n",
      "\n",
      "\n",
      "\n",
      "\n",
      "\n",
      "\n",
      "\n",
      "  3%|█▉                                                                          | 366/14610 [08:47<5:42:19,  1.44s/it]"
     ]
    },
    {
     "name": "stdout",
     "output_type": "stream",
     "text": [
      "{'key': 'd306zoyjsyarp7ifhu67rjxn52tv0t20', 'role': 'guest', '_format': 'for_p3', 'listing_id': '27939169', '_limit': 1, '_offset': 0}\n"
     ]
    },
    {
     "name": "stderr",
     "output_type": "stream",
     "text": [
      "\n",
      "\n",
      "\n",
      "\n",
      "\n",
      "\n",
      "\n",
      "\n",
      "\n",
      "\n",
      "\n",
      "\n",
      "\n",
      "\n",
      "\n",
      "\n",
      "\n",
      "\n",
      "  3%|█▉                                                                          | 367/14610 [08:49<5:42:10,  1.44s/it]"
     ]
    },
    {
     "name": "stdout",
     "output_type": "stream",
     "text": [
      "{'key': 'd306zoyjsyarp7ifhu67rjxn52tv0t20', 'role': 'guest', '_format': 'for_p3', 'listing_id': '12785441', '_limit': 35, '_offset': 0}\n"
     ]
    },
    {
     "name": "stderr",
     "output_type": "stream",
     "text": [
      "\n",
      "\n",
      "\n",
      "\n",
      "\n",
      "\n",
      "\n",
      "\n",
      "\n",
      "\n",
      "\n",
      "\n",
      "\n",
      "\n",
      "\n",
      "\n",
      "\n",
      "\n",
      "  3%|█▉                                                                          | 368/14610 [08:51<5:42:41,  1.44s/it]"
     ]
    },
    {
     "name": "stdout",
     "output_type": "stream",
     "text": [
      "{'key': 'd306zoyjsyarp7ifhu67rjxn52tv0t20', 'role': 'guest', '_format': 'for_p3', 'listing_id': '27619393', '_limit': 2, '_offset': 0}\n"
     ]
    },
    {
     "name": "stderr",
     "output_type": "stream",
     "text": [
      "\n",
      "\n",
      "\n",
      "\n",
      "\n",
      "\n",
      "\n",
      "\n",
      "\n",
      "\n",
      "\n",
      "\n",
      "\n",
      "\n",
      "\n",
      "\n",
      "\n",
      "\n",
      "  3%|█▉                                                                          | 369/14610 [08:52<5:42:31,  1.44s/it]"
     ]
    },
    {
     "name": "stdout",
     "output_type": "stream",
     "text": [
      "{'key': 'd306zoyjsyarp7ifhu67rjxn52tv0t20', 'role': 'guest', '_format': 'for_p3', 'listing_id': '25983854', '_limit': 2, '_offset': 0}\n"
     ]
    },
    {
     "name": "stderr",
     "output_type": "stream",
     "text": [
      "\n",
      "\n",
      "\n",
      "\n",
      "\n",
      "\n",
      "\n",
      "\n",
      "\n",
      "\n",
      "\n",
      "\n",
      "\n",
      "\n",
      "\n",
      "\n",
      "\n",
      "\n",
      "  3%|█▉                                                                          | 370/14610 [08:53<5:42:20,  1.44s/it]\n",
      "\n",
      "\n",
      "\n",
      "\n",
      "\n",
      "\n",
      "\n",
      "\n",
      "\n",
      "\n",
      "\n",
      "\n",
      "\n",
      "\n",
      "\n",
      "\n",
      "\n",
      "  3%|█▉                                                                          | 371/14610 [08:54<5:41:44,  1.44s/it]"
     ]
    },
    {
     "name": "stdout",
     "output_type": "stream",
     "text": [
      "{'key': 'd306zoyjsyarp7ifhu67rjxn52tv0t20', 'role': 'guest', '_format': 'for_p3', 'listing_id': '14843302', '_limit': 2, '_offset': 0}\n"
     ]
    },
    {
     "name": "stderr",
     "output_type": "stream",
     "text": [
      "\n",
      "\n",
      "\n",
      "\n",
      "\n",
      "\n",
      "\n",
      "\n",
      "\n",
      "\n",
      "\n",
      "\n",
      "\n",
      "\n",
      "\n",
      "\n",
      "\n",
      "\n",
      "  3%|█▉                                                                          | 372/14610 [08:55<5:41:39,  1.44s/it]"
     ]
    },
    {
     "name": "stdout",
     "output_type": "stream",
     "text": [
      "{'key': 'd306zoyjsyarp7ifhu67rjxn52tv0t20', 'role': 'guest', '_format': 'for_p3', 'listing_id': '24657681', '_limit': 1, '_offset': 0}\n"
     ]
    },
    {
     "name": "stderr",
     "output_type": "stream",
     "text": [
      "\n",
      "\n",
      "\n",
      "\n",
      "\n",
      "\n",
      "\n",
      "\n",
      "\n",
      "\n",
      "\n",
      "\n",
      "\n",
      "\n",
      "\n",
      "\n",
      "\n",
      "\n",
      "  3%|█▉                                                                          | 373/14610 [08:56<5:41:34,  1.44s/it]\n",
      "\n",
      "\n",
      "\n",
      "\n",
      "\n",
      "\n",
      "\n",
      "\n",
      "\n",
      "\n",
      "\n",
      "\n",
      "\n",
      "\n",
      "\n",
      "\n",
      "\n",
      "  3%|█▉                                                                          | 374/14610 [08:57<5:41:02,  1.44s/it]"
     ]
    },
    {
     "name": "stdout",
     "output_type": "stream",
     "text": [
      "{'key': 'd306zoyjsyarp7ifhu67rjxn52tv0t20', 'role': 'guest', '_format': 'for_p3', 'listing_id': '14343822', '_limit': 5, '_offset': 0}\n"
     ]
    },
    {
     "name": "stderr",
     "output_type": "stream",
     "text": [
      "\n",
      "\n",
      "\n",
      "\n",
      "\n",
      "\n",
      "\n",
      "\n",
      "\n",
      "\n",
      "\n",
      "\n",
      "\n",
      "\n",
      "\n",
      "\n",
      "\n",
      "\n",
      "  3%|█▉                                                                          | 375/14610 [08:59<5:41:04,  1.44s/it]"
     ]
    },
    {
     "name": "stdout",
     "output_type": "stream",
     "text": [
      "{'key': 'd306zoyjsyarp7ifhu67rjxn52tv0t20', 'role': 'guest', '_format': 'for_p3', 'listing_id': '26109139', '_limit': 1, '_offset': 0}\n"
     ]
    },
    {
     "name": "stderr",
     "output_type": "stream",
     "text": [
      "\n",
      "\n",
      "\n",
      "\n",
      "\n",
      "\n",
      "\n",
      "\n",
      "\n",
      "\n",
      "\n",
      "\n",
      "\n",
      "\n",
      "\n",
      "\n",
      "\n",
      "\n",
      "  3%|█▉                                                                          | 376/14610 [09:00<5:40:55,  1.44s/it]"
     ]
    },
    {
     "name": "stdout",
     "output_type": "stream",
     "text": [
      "{'key': 'd306zoyjsyarp7ifhu67rjxn52tv0t20', 'role': 'guest', '_format': 'for_p3', 'listing_id': '5137869', '_limit': 10, '_offset': 0}\n"
     ]
    },
    {
     "name": "stderr",
     "output_type": "stream",
     "text": [
      "\n",
      "\n",
      "\n",
      "\n",
      "\n",
      "\n",
      "\n",
      "\n",
      "\n",
      "\n",
      "\n",
      "\n",
      "\n",
      "\n",
      "\n",
      "\n",
      "\n",
      "\n",
      "  3%|█▉                                                                          | 377/14610 [09:01<5:40:53,  1.44s/it]"
     ]
    },
    {
     "name": "stdout",
     "output_type": "stream",
     "text": [
      "{'key': 'd306zoyjsyarp7ifhu67rjxn52tv0t20', 'role': 'guest', '_format': 'for_p3', 'listing_id': '22629230', '_limit': 15, '_offset': 0}\n"
     ]
    },
    {
     "name": "stderr",
     "output_type": "stream",
     "text": [
      "\n",
      "\n",
      "\n",
      "\n",
      "\n",
      "\n",
      "\n",
      "\n",
      "\n",
      "\n",
      "\n",
      "\n",
      "\n",
      "\n",
      "\n",
      "\n",
      "\n",
      "\n",
      "  3%|█▉                                                                          | 378/14610 [09:03<5:41:06,  1.44s/it]"
     ]
    },
    {
     "name": "stdout",
     "output_type": "stream",
     "text": [
      "{'key': 'd306zoyjsyarp7ifhu67rjxn52tv0t20', 'role': 'guest', '_format': 'for_p3', 'listing_id': '25873980', '_limit': 1, '_offset': 0}\n"
     ]
    },
    {
     "name": "stderr",
     "output_type": "stream",
     "text": [
      "\n",
      "\n",
      "\n",
      "\n",
      "\n",
      "\n",
      "\n",
      "\n",
      "\n",
      "\n",
      "\n",
      "\n",
      "\n",
      "\n",
      "\n",
      "\n",
      "\n",
      "\n",
      "  3%|█▉                                                                          | 379/14610 [09:04<5:41:02,  1.44s/it]"
     ]
    },
    {
     "name": "stdout",
     "output_type": "stream",
     "text": [
      "{'key': 'd306zoyjsyarp7ifhu67rjxn52tv0t20', 'role': 'guest', '_format': 'for_p3', 'listing_id': '8122781', '_limit': 6, '_offset': 0}\n"
     ]
    },
    {
     "name": "stderr",
     "output_type": "stream",
     "text": [
      "\n",
      "\n",
      "\n",
      "\n",
      "\n",
      "\n",
      "\n",
      "\n",
      "\n",
      "\n",
      "\n",
      "\n",
      "\n",
      "\n",
      "\n",
      "\n",
      "\n",
      "\n",
      "  3%|█▉                                                                          | 380/14610 [09:06<5:41:02,  1.44s/it]\n",
      "\n",
      "\n",
      "\n",
      "\n",
      "\n",
      "\n",
      "\n",
      "\n",
      "\n",
      "\n",
      "\n",
      "\n",
      "\n",
      "\n",
      "\n",
      "\n",
      "\n",
      "  3%|█▉                                                                          | 381/14610 [09:07<5:40:29,  1.44s/it]\n",
      "\n",
      "\n",
      "\n",
      "\n",
      "\n",
      "\n",
      "\n",
      "\n",
      "\n",
      "\n",
      "\n",
      "\n",
      "\n",
      "\n",
      "\n",
      "\n",
      "\n",
      "  3%|█▉                                                                          | 382/14610 [09:07<5:39:54,  1.43s/it]\n",
      "\n",
      "\n",
      "\n",
      "\n",
      "\n",
      "\n",
      "\n",
      "\n",
      "\n",
      "\n",
      "\n",
      "\n",
      "\n",
      "\n",
      "\n",
      "\n",
      "\n",
      "  3%|█▉                                                                          | 383/14610 [09:08<5:39:21,  1.43s/it]\n",
      "\n",
      "\n",
      "\n",
      "\n",
      "\n",
      "\n",
      "\n",
      "\n",
      "\n",
      "\n",
      "\n",
      "\n",
      "\n",
      "\n",
      "\n",
      "\n",
      "\n",
      "  3%|█▉                                                                          | 384/14610 [09:08<5:38:48,  1.43s/it]"
     ]
    },
    {
     "name": "stdout",
     "output_type": "stream",
     "text": [
      "{'key': 'd306zoyjsyarp7ifhu67rjxn52tv0t20', 'role': 'guest', '_format': 'for_p3', 'listing_id': '17918436', '_limit': 5, '_offset': 0}\n"
     ]
    },
    {
     "name": "stderr",
     "output_type": "stream",
     "text": [
      "\n",
      "\n",
      "\n",
      "\n",
      "\n",
      "\n",
      "\n",
      "\n",
      "\n",
      "\n",
      "\n",
      "\n",
      "\n",
      "\n",
      "\n",
      "\n",
      "\n",
      "\n",
      "  3%|██                                                                          | 385/14610 [09:09<5:38:36,  1.43s/it]\n",
      "\n",
      "\n",
      "\n",
      "\n",
      "\n",
      "\n",
      "\n",
      "\n",
      "\n",
      "\n",
      "\n",
      "\n",
      "\n",
      "\n",
      "\n",
      "\n",
      "\n",
      "  3%|██                                                                          | 386/14610 [09:10<5:38:03,  1.43s/it]\n",
      "\n",
      "\n",
      "\n",
      "\n",
      "\n",
      "\n",
      "\n",
      "\n",
      "\n",
      "\n",
      "\n",
      "\n",
      "\n",
      "\n",
      "\n",
      "\n",
      "\n",
      "  3%|██                                                                          | 387/14610 [09:11<5:37:30,  1.42s/it]"
     ]
    },
    {
     "name": "stdout",
     "output_type": "stream",
     "text": [
      "{'key': 'd306zoyjsyarp7ifhu67rjxn52tv0t20', 'role': 'guest', '_format': 'for_p3', 'listing_id': '5146601', '_limit': 6, '_offset': 0}\n"
     ]
    },
    {
     "name": "stderr",
     "output_type": "stream",
     "text": [
      "\n",
      "\n",
      "\n",
      "\n",
      "\n",
      "\n",
      "\n",
      "\n",
      "\n",
      "\n",
      "\n",
      "\n",
      "\n",
      "\n",
      "\n",
      "\n",
      "\n",
      "\n",
      "  3%|██                                                                          | 388/14610 [09:12<5:37:26,  1.42s/it]"
     ]
    },
    {
     "name": "stdout",
     "output_type": "stream",
     "text": [
      "{'key': 'd306zoyjsyarp7ifhu67rjxn52tv0t20', 'role': 'guest', '_format': 'for_p3', 'listing_id': '26669555', '_limit': 1, '_offset': 0}\n"
     ]
    },
    {
     "name": "stderr",
     "output_type": "stream",
     "text": [
      "\n",
      "\n",
      "\n",
      "\n",
      "\n",
      "\n",
      "\n",
      "\n",
      "\n",
      "\n",
      "\n",
      "\n",
      "\n",
      "\n",
      "\n",
      "\n",
      "\n",
      "\n",
      "  3%|██                                                                          | 389/14610 [09:13<5:37:20,  1.42s/it]"
     ]
    },
    {
     "name": "stdout",
     "output_type": "stream",
     "text": [
      "{'key': 'd306zoyjsyarp7ifhu67rjxn52tv0t20', 'role': 'guest', '_format': 'for_p3', 'listing_id': '20642367', '_limit': 1, '_offset': 0}\n"
     ]
    },
    {
     "name": "stderr",
     "output_type": "stream",
     "text": [
      "\n",
      "\n",
      "\n",
      "\n",
      "\n",
      "\n",
      "\n",
      "\n",
      "\n",
      "\n",
      "\n",
      "\n",
      "\n",
      "\n",
      "\n",
      "\n",
      "\n",
      "\n",
      "  3%|██                                                                          | 390/14610 [09:14<5:37:06,  1.42s/it]\n",
      "\n",
      "\n",
      "\n",
      "\n",
      "\n",
      "\n",
      "\n",
      "\n",
      "\n",
      "\n",
      "\n",
      "\n",
      "\n",
      "\n",
      "\n",
      "\n",
      "\n",
      "  3%|██                                                                          | 391/14610 [09:15<5:36:35,  1.42s/it]\n",
      "\n",
      "\n",
      "\n",
      "\n",
      "\n",
      "\n",
      "\n",
      "\n",
      "\n",
      "\n",
      "\n",
      "\n",
      "\n",
      "\n",
      "\n",
      "\n",
      "\n",
      "  3%|██                                                                          | 392/14610 [09:15<5:36:03,  1.42s/it]"
     ]
    },
    {
     "name": "stdout",
     "output_type": "stream",
     "text": [
      "{'key': 'd306zoyjsyarp7ifhu67rjxn52tv0t20', 'role': 'guest', '_format': 'for_p3', 'listing_id': '17523976', '_limit': 1, '_offset': 0}\n"
     ]
    },
    {
     "name": "stderr",
     "output_type": "stream",
     "text": [
      "\n",
      "\n",
      "\n",
      "\n",
      "\n",
      "\n",
      "\n",
      "\n",
      "\n",
      "\n",
      "\n",
      "\n",
      "\n",
      "\n",
      "\n",
      "\n",
      "\n",
      "\n",
      "  3%|██                                                                          | 393/14610 [09:17<5:35:55,  1.42s/it]"
     ]
    },
    {
     "name": "stdout",
     "output_type": "stream",
     "text": [
      "{'key': 'd306zoyjsyarp7ifhu67rjxn52tv0t20', 'role': 'guest', '_format': 'for_p3', 'listing_id': '15458456', '_limit': 9, '_offset': 0}\n"
     ]
    },
    {
     "name": "stderr",
     "output_type": "stream",
     "text": [
      "\n",
      "\n",
      "\n",
      "\n",
      "\n",
      "\n",
      "\n",
      "\n",
      "\n",
      "\n",
      "\n",
      "\n",
      "\n",
      "\n",
      "\n",
      "\n",
      "\n",
      "\n",
      "  3%|██                                                                          | 394/14610 [09:18<5:35:59,  1.42s/it]\n",
      "\n",
      "\n",
      "\n",
      "\n",
      "\n",
      "\n",
      "\n",
      "\n",
      "\n",
      "\n",
      "\n",
      "\n",
      "\n",
      "\n",
      "\n",
      "\n",
      "\n",
      "  3%|██                                                                          | 395/14610 [09:19<5:35:28,  1.42s/it]\n",
      "\n",
      "\n",
      "\n",
      "\n",
      "\n",
      "\n",
      "\n",
      "\n",
      "\n",
      "\n",
      "\n",
      "\n",
      "\n",
      "\n",
      "\n",
      "\n",
      "\n",
      "  3%|██                                                                          | 396/14610 [09:20<5:35:01,  1.41s/it]\n",
      "\n",
      "\n",
      "\n",
      "\n",
      "\n",
      "\n",
      "\n",
      "\n",
      "\n",
      "\n",
      "\n",
      "\n",
      "\n",
      "\n",
      "\n",
      "\n",
      "\n",
      "  3%|██                                                                          | 397/14610 [09:20<5:34:28,  1.41s/it]"
     ]
    },
    {
     "name": "stdout",
     "output_type": "stream",
     "text": [
      "{'key': 'd306zoyjsyarp7ifhu67rjxn52tv0t20', 'role': 'guest', '_format': 'for_p3', 'listing_id': '6294709', '_limit': 5, '_offset': 0}\n"
     ]
    },
    {
     "name": "stderr",
     "output_type": "stream",
     "text": [
      "\n",
      "\n",
      "\n",
      "\n",
      "\n",
      "\n",
      "\n",
      "\n",
      "\n",
      "\n",
      "\n",
      "\n",
      "\n",
      "\n",
      "\n",
      "\n",
      "\n",
      "\n",
      "  3%|██                                                                          | 398/14610 [09:21<5:34:22,  1.41s/it]"
     ]
    },
    {
     "name": "stdout",
     "output_type": "stream",
     "text": [
      "{'key': 'd306zoyjsyarp7ifhu67rjxn52tv0t20', 'role': 'guest', '_format': 'for_p3', 'listing_id': '8415535', '_limit': 16, '_offset': 0}\n"
     ]
    },
    {
     "name": "stderr",
     "output_type": "stream",
     "text": [
      "\n",
      "\n",
      "\n",
      "\n",
      "\n",
      "\n",
      "\n",
      "\n",
      "\n",
      "\n",
      "\n",
      "\n",
      "\n",
      "\n",
      "\n",
      "\n",
      "\n",
      "\n",
      "  3%|██                                                                          | 399/14610 [09:23<5:34:29,  1.41s/it]\n",
      "\n",
      "\n",
      "\n",
      "\n",
      "\n",
      "\n",
      "\n",
      "\n",
      "\n",
      "\n",
      "\n",
      "\n",
      "\n",
      "\n",
      "\n",
      "\n",
      "\n",
      "  3%|██                                                                          | 400/14610 [09:24<5:33:57,  1.41s/it]"
     ]
    },
    {
     "name": "stdout",
     "output_type": "stream",
     "text": [
      "{'key': 'd306zoyjsyarp7ifhu67rjxn52tv0t20', 'role': 'guest', '_format': 'for_p3', 'listing_id': '7082399', '_limit': 1, '_offset': 0}\n"
     ]
    },
    {
     "name": "stderr",
     "output_type": "stream",
     "text": [
      "\n",
      "\n",
      "\n",
      "\n",
      "\n",
      "\n",
      "\n",
      "\n",
      "\n",
      "\n",
      "\n",
      "\n",
      "\n",
      "\n",
      "\n",
      "\n",
      "\n",
      "\n",
      "  3%|██                                                                          | 401/14610 [09:25<5:33:52,  1.41s/it]"
     ]
    },
    {
     "name": "stdout",
     "output_type": "stream",
     "text": [
      "{'key': 'd306zoyjsyarp7ifhu67rjxn52tv0t20', 'role': 'guest', '_format': 'for_p3', 'listing_id': '5232357', '_limit': 2, '_offset': 0}\n"
     ]
    },
    {
     "name": "stderr",
     "output_type": "stream",
     "text": [
      "\n",
      "\n",
      "\n",
      "\n",
      "\n",
      "\n",
      "\n",
      "\n",
      "\n",
      "\n",
      "\n",
      "\n",
      "\n",
      "\n",
      "\n",
      "\n",
      "\n",
      "\n",
      "  3%|██                                                                          | 402/14610 [09:26<5:33:49,  1.41s/it]"
     ]
    },
    {
     "name": "stdout",
     "output_type": "stream",
     "text": [
      "{'key': 'd306zoyjsyarp7ifhu67rjxn52tv0t20', 'role': 'guest', '_format': 'for_p3', 'listing_id': '21246107', '_limit': 25, '_offset': 0}\n"
     ]
    },
    {
     "name": "stderr",
     "output_type": "stream",
     "text": [
      "\n",
      "\n",
      "\n",
      "\n",
      "\n",
      "\n",
      "\n",
      "\n",
      "\n",
      "\n",
      "\n",
      "\n",
      "\n",
      "\n",
      "\n",
      "\n",
      "\n",
      "\n",
      "  3%|██                                                                          | 403/14610 [09:28<5:34:07,  1.41s/it]"
     ]
    },
    {
     "name": "stdout",
     "output_type": "stream",
     "text": [
      "{'key': 'd306zoyjsyarp7ifhu67rjxn52tv0t20', 'role': 'guest', '_format': 'for_p3', 'listing_id': '27806891', '_limit': 15, '_offset': 0}\n"
     ]
    },
    {
     "name": "stderr",
     "output_type": "stream",
     "text": [
      "\n",
      "\n",
      "\n",
      "\n",
      "\n",
      "\n",
      "\n",
      "\n",
      "\n",
      "\n",
      "\n",
      "\n",
      "\n",
      "\n",
      "\n",
      "\n",
      "\n",
      "\n",
      "  3%|██                                                                          | 404/14610 [09:30<5:34:09,  1.41s/it]"
     ]
    },
    {
     "name": "stdout",
     "output_type": "stream",
     "text": [
      "{'key': 'd306zoyjsyarp7ifhu67rjxn52tv0t20', 'role': 'guest', '_format': 'for_p3', 'listing_id': '6295455', '_limit': 80, '_offset': 0}\n"
     ]
    },
    {
     "name": "stderr",
     "output_type": "stream",
     "text": [
      "\n",
      "\n",
      "\n",
      "\n",
      "\n",
      "\n",
      "\n",
      "\n",
      "\n",
      "\n",
      "\n",
      "\n",
      "\n",
      "\n",
      "\n",
      "\n",
      "\n",
      "\n",
      "  3%|██                                                                          | 405/14610 [09:32<5:34:38,  1.41s/it]"
     ]
    },
    {
     "name": "stdout",
     "output_type": "stream",
     "text": [
      "{'key': 'd306zoyjsyarp7ifhu67rjxn52tv0t20', 'role': 'guest', '_format': 'for_p3', 'listing_id': '7878128', '_limit': 100, '_offset': 0}\n",
      "{'key': 'd306zoyjsyarp7ifhu67rjxn52tv0t20', 'role': 'guest', '_format': 'for_p3', 'listing_id': '7878128', '_limit': 19, '_offset': 100}\n"
     ]
    },
    {
     "name": "stderr",
     "output_type": "stream",
     "text": [
      "\n",
      "\n",
      "\n",
      "\n",
      "\n",
      "\n",
      "\n",
      "\n",
      "\n",
      "\n",
      "\n",
      "\n",
      "\n",
      "\n",
      "\n",
      "\n",
      "\n",
      "\n",
      "  3%|██                                                                          | 406/14610 [09:36<5:36:03,  1.42s/it]"
     ]
    },
    {
     "name": "stdout",
     "output_type": "stream",
     "text": [
      "{'key': 'd306zoyjsyarp7ifhu67rjxn52tv0t20', 'role': 'guest', '_format': 'for_p3', 'listing_id': '21454721', '_limit': 40, '_offset': 0}\n"
     ]
    },
    {
     "name": "stderr",
     "output_type": "stream",
     "text": [
      "\n",
      "\n",
      "\n",
      "\n",
      "\n",
      "\n",
      "\n",
      "\n",
      "\n",
      "\n",
      "\n",
      "\n",
      "\n",
      "\n",
      "\n",
      "\n",
      "\n",
      "\n",
      "  3%|██                                                                          | 407/14610 [09:38<5:36:23,  1.42s/it]"
     ]
    },
    {
     "name": "stdout",
     "output_type": "stream",
     "text": [
      "{'key': 'd306zoyjsyarp7ifhu67rjxn52tv0t20', 'role': 'guest', '_format': 'for_p3', 'listing_id': '6336681', '_limit': 90, '_offset': 0}\n"
     ]
    },
    {
     "name": "stderr",
     "output_type": "stream",
     "text": [
      "\n",
      "\n",
      "\n",
      "\n",
      "\n",
      "\n",
      "\n",
      "\n",
      "\n",
      "\n",
      "\n",
      "\n",
      "\n",
      "\n",
      "\n",
      "\n",
      "\n",
      "\n",
      "  3%|██                                                                          | 408/14610 [09:41<5:37:07,  1.42s/it]"
     ]
    },
    {
     "name": "stdout",
     "output_type": "stream",
     "text": [
      "{'key': 'd306zoyjsyarp7ifhu67rjxn52tv0t20', 'role': 'guest', '_format': 'for_p3', 'listing_id': '24212352', '_limit': 5, '_offset': 0}\n"
     ]
    },
    {
     "name": "stderr",
     "output_type": "stream",
     "text": [
      "\n",
      "\n",
      "\n",
      "\n",
      "\n",
      "\n",
      "\n",
      "\n",
      "\n",
      "\n",
      "\n",
      "\n",
      "\n",
      "\n",
      "\n",
      "\n",
      "\n",
      "\n",
      "  3%|██▏                                                                         | 409/14610 [09:42<5:37:10,  1.42s/it]"
     ]
    },
    {
     "name": "stdout",
     "output_type": "stream",
     "text": [
      "{'key': 'd306zoyjsyarp7ifhu67rjxn52tv0t20', 'role': 'guest', '_format': 'for_p3', 'listing_id': '27938015', '_limit': 25, '_offset': 0}\n"
     ]
    },
    {
     "name": "stderr",
     "output_type": "stream",
     "text": [
      "\n",
      "\n",
      "\n",
      "\n",
      "\n",
      "\n",
      "\n",
      "\n",
      "\n",
      "\n",
      "\n",
      "\n",
      "\n",
      "\n",
      "\n",
      "\n",
      "\n",
      "\n",
      "  3%|██▏                                                                         | 410/14610 [09:44<5:37:33,  1.43s/it]"
     ]
    },
    {
     "name": "stdout",
     "output_type": "stream",
     "text": [
      "{'key': 'd306zoyjsyarp7ifhu67rjxn52tv0t20', 'role': 'guest', '_format': 'for_p3', 'listing_id': '29094758', '_limit': 6, '_offset': 0}\n"
     ]
    },
    {
     "name": "stderr",
     "output_type": "stream",
     "text": [
      "\n",
      "\n",
      "\n",
      "\n",
      "\n",
      "\n",
      "\n",
      "\n",
      "\n",
      "\n",
      "\n",
      "\n",
      "\n",
      "\n",
      "\n",
      "\n",
      "\n",
      "\n",
      "  3%|██▏                                                                         | 411/14610 [09:46<5:37:40,  1.43s/it]"
     ]
    },
    {
     "name": "stdout",
     "output_type": "stream",
     "text": [
      "{'key': 'd306zoyjsyarp7ifhu67rjxn52tv0t20', 'role': 'guest', '_format': 'for_p3', 'listing_id': '29218465', '_limit': 3, '_offset': 0}\n"
     ]
    },
    {
     "name": "stderr",
     "output_type": "stream",
     "text": [
      "\n",
      "\n",
      "\n",
      "\n",
      "\n",
      "\n",
      "\n",
      "\n",
      "\n",
      "\n",
      "\n",
      "\n",
      "\n",
      "\n",
      "\n",
      "\n",
      "\n",
      "\n",
      "  3%|██▏                                                                         | 412/14610 [09:47<5:37:32,  1.43s/it]\n",
      "\n",
      "\n",
      "\n",
      "\n",
      "\n",
      "\n",
      "\n",
      "\n",
      "\n",
      "\n",
      "\n",
      "\n",
      "\n",
      "\n",
      "\n",
      "\n",
      "\n",
      "  3%|██▏                                                                         | 413/14610 [09:48<5:37:01,  1.42s/it]"
     ]
    },
    {
     "name": "stdout",
     "output_type": "stream",
     "text": [
      "{'key': 'd306zoyjsyarp7ifhu67rjxn52tv0t20', 'role': 'guest', '_format': 'for_p3', 'listing_id': '25987643', '_limit': 18, '_offset': 0}\n"
     ]
    },
    {
     "name": "stderr",
     "output_type": "stream",
     "text": [
      "\n",
      "\n",
      "\n",
      "\n",
      "\n",
      "\n",
      "\n",
      "\n",
      "\n",
      "\n",
      "\n",
      "\n",
      "\n",
      "\n",
      "\n",
      "\n",
      "\n",
      "\n",
      "  3%|██▏                                                                         | 414/14610 [09:49<5:37:05,  1.42s/it]"
     ]
    },
    {
     "name": "stdout",
     "output_type": "stream",
     "text": [
      "{'key': 'd306zoyjsyarp7ifhu67rjxn52tv0t20', 'role': 'guest', '_format': 'for_p3', 'listing_id': '4009745', '_limit': 8, '_offset': 0}\n"
     ]
    },
    {
     "name": "stderr",
     "output_type": "stream",
     "text": [
      "\n",
      "\n",
      "\n",
      "\n",
      "\n",
      "\n",
      "\n",
      "\n",
      "\n",
      "\n",
      "\n",
      "\n",
      "\n",
      "\n",
      "\n",
      "\n",
      "\n",
      "\n",
      "  3%|██▏                                                                         | 415/14610 [09:51<5:37:14,  1.43s/it]"
     ]
    },
    {
     "name": "stdout",
     "output_type": "stream",
     "text": [
      "{'key': 'd306zoyjsyarp7ifhu67rjxn52tv0t20', 'role': 'guest', '_format': 'for_p3', 'listing_id': '3096779', '_limit': 100, '_offset': 0}\n",
      "{'key': 'd306zoyjsyarp7ifhu67rjxn52tv0t20', 'role': 'guest', '_format': 'for_p3', 'listing_id': '3096779', '_limit': 22, '_offset': 100}\n"
     ]
    },
    {
     "name": "stderr",
     "output_type": "stream",
     "text": [
      "\n",
      "\n",
      "\n",
      "\n",
      "\n",
      "\n",
      "\n",
      "\n",
      "\n",
      "\n",
      "\n",
      "\n",
      "\n",
      "\n",
      "\n",
      "\n",
      "\n",
      "\n",
      "  3%|██▏                                                                         | 416/14610 [09:55<5:38:28,  1.43s/it]"
     ]
    },
    {
     "name": "stdout",
     "output_type": "stream",
     "text": [
      "{'key': 'd306zoyjsyarp7ifhu67rjxn52tv0t20', 'role': 'guest', '_format': 'for_p3', 'listing_id': '14095178', '_limit': 64, '_offset': 0}\n"
     ]
    },
    {
     "name": "stderr",
     "output_type": "stream",
     "text": [
      "\n",
      "\n",
      "\n",
      "\n",
      "\n",
      "\n",
      "\n",
      "\n",
      "\n",
      "\n",
      "\n",
      "\n",
      "\n",
      "\n",
      "\n",
      "\n",
      "\n",
      "\n",
      "  3%|██▏                                                                         | 417/14610 [09:57<5:38:57,  1.43s/it]"
     ]
    },
    {
     "name": "stdout",
     "output_type": "stream",
     "text": [
      "{'key': 'd306zoyjsyarp7ifhu67rjxn52tv0t20', 'role': 'guest', '_format': 'for_p3', 'listing_id': '1413026', '_limit': 91, '_offset': 0}\n"
     ]
    },
    {
     "name": "stderr",
     "output_type": "stream",
     "text": [
      "\n",
      "\n",
      "\n",
      "\n",
      "\n",
      "\n",
      "\n",
      "\n",
      "\n",
      "\n",
      "\n",
      "\n",
      "\n",
      "\n",
      "\n",
      "\n",
      "\n",
      "\n",
      "  3%|██▏                                                                         | 418/14610 [10:00<5:39:38,  1.44s/it]"
     ]
    },
    {
     "name": "stdout",
     "output_type": "stream",
     "text": [
      "{'key': 'd306zoyjsyarp7ifhu67rjxn52tv0t20', 'role': 'guest', '_format': 'for_p3', 'listing_id': '28558966', '_limit': 4, '_offset': 0}\n"
     ]
    },
    {
     "name": "stderr",
     "output_type": "stream",
     "text": [
      "\n",
      "\n",
      "\n",
      "\n",
      "\n",
      "\n",
      "\n",
      "\n",
      "\n",
      "\n",
      "\n",
      "\n",
      "\n",
      "\n",
      "\n",
      "\n",
      "\n",
      "\n",
      "  3%|██▏                                                                         | 419/14610 [10:01<5:39:35,  1.44s/it]"
     ]
    },
    {
     "name": "stdout",
     "output_type": "stream",
     "text": [
      "{'key': 'd306zoyjsyarp7ifhu67rjxn52tv0t20', 'role': 'guest', '_format': 'for_p3', 'listing_id': '19364500', '_limit': 61, '_offset': 0}\n"
     ]
    },
    {
     "name": "stderr",
     "output_type": "stream",
     "text": [
      "\n",
      "\n",
      "\n",
      "\n",
      "\n",
      "\n",
      "\n",
      "\n",
      "\n",
      "\n",
      "\n",
      "\n",
      "\n",
      "\n",
      "\n",
      "\n",
      "\n",
      "\n",
      "  3%|██▏                                                                         | 420/14610 [10:04<5:40:12,  1.44s/it]"
     ]
    },
    {
     "name": "stdout",
     "output_type": "stream",
     "text": [
      "{'key': 'd306zoyjsyarp7ifhu67rjxn52tv0t20', 'role': 'guest', '_format': 'for_p3', 'listing_id': '19937966', '_limit': 70, '_offset': 0}\n"
     ]
    },
    {
     "name": "stderr",
     "output_type": "stream",
     "text": [
      "\n",
      "\n",
      "\n",
      "\n",
      "\n",
      "\n",
      "\n",
      "\n",
      "\n",
      "\n",
      "\n",
      "\n",
      "\n",
      "\n",
      "\n",
      "\n",
      "\n",
      "\n",
      "  3%|██▏                                                                         | 421/14610 [10:06<5:40:32,  1.44s/it]"
     ]
    },
    {
     "name": "stdout",
     "output_type": "stream",
     "text": [
      "{'key': 'd306zoyjsyarp7ifhu67rjxn52tv0t20', 'role': 'guest', '_format': 'for_p3', 'listing_id': '5347448', '_limit': 97, '_offset': 0}\n"
     ]
    },
    {
     "name": "stderr",
     "output_type": "stream",
     "text": [
      "\n",
      "\n",
      "\n",
      "\n",
      "\n",
      "\n",
      "\n",
      "\n",
      "\n",
      "\n",
      "\n",
      "\n",
      "\n",
      "\n",
      "\n",
      "\n",
      "\n",
      "\n",
      "  3%|██▏                                                                         | 422/14610 [10:08<5:41:04,  1.44s/it]"
     ]
    },
    {
     "name": "stdout",
     "output_type": "stream",
     "text": [
      "{'key': 'd306zoyjsyarp7ifhu67rjxn52tv0t20', 'role': 'guest', '_format': 'for_p3', 'listing_id': '2984262', '_limit': 100, '_offset': 0}\n",
      "{'key': 'd306zoyjsyarp7ifhu67rjxn52tv0t20', 'role': 'guest', '_format': 'for_p3', 'listing_id': '2984262', '_limit': 21, '_offset': 100}\n"
     ]
    },
    {
     "name": "stderr",
     "output_type": "stream",
     "text": [
      "\n",
      "\n",
      "\n",
      "\n",
      "\n",
      "\n",
      "\n",
      "\n",
      "\n",
      "\n",
      "\n",
      "\n",
      "\n",
      "\n",
      "\n",
      "\n",
      "\n",
      "\n",
      "  3%|██▏                                                                         | 423/14610 [10:11<5:42:02,  1.45s/it]"
     ]
    },
    {
     "name": "stdout",
     "output_type": "stream",
     "text": [
      "{'key': 'd306zoyjsyarp7ifhu67rjxn52tv0t20', 'role': 'guest', '_format': 'for_p3', 'listing_id': '8769905', '_limit': 59, '_offset': 0}\n"
     ]
    },
    {
     "name": "stderr",
     "output_type": "stream",
     "text": [
      "\n",
      "\n",
      "\n",
      "\n",
      "\n",
      "\n",
      "\n",
      "\n",
      "\n",
      "\n",
      "\n",
      "\n",
      "\n",
      "\n",
      "\n",
      "\n",
      "\n",
      "\n",
      "  3%|██▏                                                                         | 424/14610 [10:14<5:42:26,  1.45s/it]\n",
      "\n",
      "\n",
      "\n",
      "\n",
      "\n",
      "\n",
      "\n",
      "\n",
      "\n",
      "\n",
      "\n",
      "\n",
      "\n",
      "\n",
      "\n",
      "\n",
      "\n",
      "  3%|██▏                                                                         | 425/14610 [10:14<5:41:56,  1.45s/it]"
     ]
    },
    {
     "name": "stdout",
     "output_type": "stream",
     "text": [
      "{'key': 'd306zoyjsyarp7ifhu67rjxn52tv0t20', 'role': 'guest', '_format': 'for_p3', 'listing_id': '6392064', '_limit': 38, '_offset': 0}\n"
     ]
    },
    {
     "name": "stderr",
     "output_type": "stream",
     "text": [
      "\n",
      "\n",
      "\n",
      "\n",
      "\n",
      "\n",
      "\n",
      "\n",
      "\n",
      "\n",
      "\n",
      "\n",
      "\n",
      "\n",
      "\n",
      "\n",
      "\n",
      "\n",
      "  3%|██▏                                                                         | 426/14610 [10:16<5:42:15,  1.45s/it]"
     ]
    },
    {
     "name": "stdout",
     "output_type": "stream",
     "text": [
      "{'key': 'd306zoyjsyarp7ifhu67rjxn52tv0t20', 'role': 'guest', '_format': 'for_p3', 'listing_id': '13083112', '_limit': 42, '_offset': 0}\n"
     ]
    },
    {
     "name": "stderr",
     "output_type": "stream",
     "text": [
      "\n",
      "\n",
      "\n",
      "\n",
      "\n",
      "\n",
      "\n",
      "\n",
      "\n",
      "\n",
      "\n",
      "\n",
      "\n",
      "\n",
      "\n",
      "\n",
      "\n",
      "\n",
      "  3%|██▏                                                                         | 427/14610 [10:18<5:42:28,  1.45s/it]"
     ]
    },
    {
     "name": "stdout",
     "output_type": "stream",
     "text": [
      "{'key': 'd306zoyjsyarp7ifhu67rjxn52tv0t20', 'role': 'guest', '_format': 'for_p3', 'listing_id': '28536685', '_limit': 9, '_offset': 0}\n"
     ]
    },
    {
     "name": "stderr",
     "output_type": "stream",
     "text": [
      "\n",
      "\n",
      "\n",
      "\n",
      "\n",
      "\n",
      "\n",
      "\n",
      "\n",
      "\n",
      "\n",
      "\n",
      "\n",
      "\n",
      "\n",
      "\n",
      "\n",
      "\n",
      "  3%|██▏                                                                         | 428/14610 [10:20<5:42:29,  1.45s/it]"
     ]
    },
    {
     "name": "stdout",
     "output_type": "stream",
     "text": [
      "{'key': 'd306zoyjsyarp7ifhu67rjxn52tv0t20', 'role': 'guest', '_format': 'for_p3', 'listing_id': '3087714', '_limit': 68, '_offset': 0}\n"
     ]
    },
    {
     "name": "stderr",
     "output_type": "stream",
     "text": [
      "\n",
      "\n",
      "\n",
      "\n",
      "\n",
      "\n",
      "\n",
      "\n",
      "\n",
      "\n",
      "\n",
      "\n",
      "\n",
      "\n",
      "\n",
      "\n",
      "\n",
      "\n",
      "  3%|██▏                                                                         | 429/14610 [10:22<5:42:46,  1.45s/it]"
     ]
    },
    {
     "name": "stdout",
     "output_type": "stream",
     "text": [
      "{'key': 'd306zoyjsyarp7ifhu67rjxn52tv0t20', 'role': 'guest', '_format': 'for_p3', 'listing_id': '24189407', '_limit': 4, '_offset': 0}\n"
     ]
    },
    {
     "name": "stderr",
     "output_type": "stream",
     "text": [
      "\n",
      "\n",
      "\n",
      "\n",
      "\n",
      "\n",
      "\n",
      "\n",
      "\n",
      "\n",
      "\n",
      "\n",
      "\n",
      "\n",
      "\n",
      "\n",
      "\n",
      "\n",
      "  3%|██▏                                                                         | 430/14610 [10:23<5:42:40,  1.45s/it]"
     ]
    },
    {
     "name": "stdout",
     "output_type": "stream",
     "text": [
      "{'key': 'd306zoyjsyarp7ifhu67rjxn52tv0t20', 'role': 'guest', '_format': 'for_p3', 'listing_id': '23689035', '_limit': 4, '_offset': 0}\n"
     ]
    },
    {
     "name": "stderr",
     "output_type": "stream",
     "text": [
      "\n",
      "\n",
      "\n",
      "\n",
      "\n",
      "\n",
      "\n",
      "\n",
      "\n",
      "\n",
      "\n",
      "\n",
      "\n",
      "\n",
      "\n",
      "\n",
      "\n",
      "\n",
      "  3%|██▏                                                                         | 431/14610 [10:24<5:42:36,  1.45s/it]"
     ]
    },
    {
     "name": "stdout",
     "output_type": "stream",
     "text": [
      "{'key': 'd306zoyjsyarp7ifhu67rjxn52tv0t20', 'role': 'guest', '_format': 'for_p3', 'listing_id': '8769807', '_limit': 38, '_offset': 0}\n"
     ]
    },
    {
     "name": "stderr",
     "output_type": "stream",
     "text": [
      "\n",
      "\n",
      "\n",
      "\n",
      "\n",
      "\n",
      "\n",
      "\n",
      "\n",
      "\n",
      "\n",
      "\n",
      "\n",
      "\n",
      "\n",
      "\n",
      "\n",
      "\n",
      "  3%|██▏                                                                         | 432/14610 [10:26<5:42:50,  1.45s/it]"
     ]
    },
    {
     "name": "stdout",
     "output_type": "stream",
     "text": [
      "{'key': 'd306zoyjsyarp7ifhu67rjxn52tv0t20', 'role': 'guest', '_format': 'for_p3', 'listing_id': '24586550', '_limit': 11, '_offset': 0}\n"
     ]
    },
    {
     "name": "stderr",
     "output_type": "stream",
     "text": [
      "\n",
      "\n",
      "\n",
      "\n",
      "\n",
      "\n",
      "\n",
      "\n",
      "\n",
      "\n",
      "\n",
      "\n",
      "\n",
      "\n",
      "\n",
      "\n",
      "\n",
      "\n",
      "  3%|██▎                                                                         | 433/14610 [10:28<5:42:50,  1.45s/it]"
     ]
    },
    {
     "name": "stdout",
     "output_type": "stream",
     "text": [
      "{'key': 'd306zoyjsyarp7ifhu67rjxn52tv0t20', 'role': 'guest', '_format': 'for_p3', 'listing_id': '3096652', '_limit': 62, '_offset': 0}\n"
     ]
    },
    {
     "name": "stderr",
     "output_type": "stream",
     "text": [
      "\n",
      "\n",
      "\n",
      "\n",
      "\n",
      "\n",
      "\n",
      "\n",
      "\n",
      "\n",
      "\n",
      "\n",
      "\n",
      "\n",
      "\n",
      "\n",
      "\n",
      "\n",
      "  3%|██▎                                                                         | 434/14610 [10:30<5:43:08,  1.45s/it]"
     ]
    },
    {
     "name": "stdout",
     "output_type": "stream",
     "text": [
      "{'key': 'd306zoyjsyarp7ifhu67rjxn52tv0t20', 'role': 'guest', '_format': 'for_p3', 'listing_id': '22818904', '_limit': 7, '_offset': 0}\n"
     ]
    },
    {
     "name": "stderr",
     "output_type": "stream",
     "text": [
      "\n",
      "\n",
      "\n",
      "\n",
      "\n",
      "\n",
      "\n",
      "\n",
      "\n",
      "\n",
      "\n",
      "\n",
      "\n",
      "\n",
      "\n",
      "\n",
      "\n",
      "\n",
      "  3%|██▎                                                                         | 435/14610 [10:31<5:43:05,  1.45s/it]"
     ]
    },
    {
     "name": "stdout",
     "output_type": "stream",
     "text": [
      "{'key': 'd306zoyjsyarp7ifhu67rjxn52tv0t20', 'role': 'guest', '_format': 'for_p3', 'listing_id': '25116087', '_limit': 6, '_offset': 0}\n"
     ]
    },
    {
     "name": "stderr",
     "output_type": "stream",
     "text": [
      "\n",
      "\n",
      "\n",
      "\n",
      "\n",
      "\n",
      "\n",
      "\n",
      "\n",
      "\n",
      "\n",
      "\n",
      "\n",
      "\n",
      "\n",
      "\n",
      "\n",
      "\n",
      "  3%|██▎                                                                         | 436/14610 [10:33<5:42:59,  1.45s/it]"
     ]
    },
    {
     "name": "stdout",
     "output_type": "stream",
     "text": [
      "{'key': 'd306zoyjsyarp7ifhu67rjxn52tv0t20', 'role': 'guest', '_format': 'for_p3', 'listing_id': '835651', '_limit': 6, '_offset': 0}\n"
     ]
    },
    {
     "name": "stderr",
     "output_type": "stream",
     "text": [
      "\n",
      "\n",
      "\n",
      "\n",
      "\n",
      "\n",
      "\n",
      "\n",
      "\n",
      "\n",
      "\n",
      "\n",
      "\n",
      "\n",
      "\n",
      "\n",
      "\n",
      "\n",
      "  3%|██▎                                                                         | 437/14610 [10:34<5:42:54,  1.45s/it]"
     ]
    },
    {
     "name": "stdout",
     "output_type": "stream",
     "text": [
      "{'key': 'd306zoyjsyarp7ifhu67rjxn52tv0t20', 'role': 'guest', '_format': 'for_p3', 'listing_id': '29094438', '_limit': 4, '_offset': 0}\n"
     ]
    },
    {
     "name": "stderr",
     "output_type": "stream",
     "text": [
      "\n",
      "\n",
      "\n",
      "\n",
      "\n",
      "\n",
      "\n",
      "\n",
      "\n",
      "\n",
      "\n",
      "\n",
      "\n",
      "\n",
      "\n",
      "\n",
      "\n",
      "\n",
      "  3%|██▎                                                                         | 438/14610 [10:35<5:42:50,  1.45s/it]\n",
      "\n",
      "\n",
      "\n",
      "\n",
      "\n",
      "\n",
      "\n",
      "\n",
      "\n",
      "\n",
      "\n",
      "\n",
      "\n",
      "\n",
      "\n",
      "\n",
      "\n",
      "  3%|██▎                                                                         | 439/14610 [10:36<5:42:19,  1.45s/it]"
     ]
    },
    {
     "name": "stdout",
     "output_type": "stream",
     "text": [
      "{'key': 'd306zoyjsyarp7ifhu67rjxn52tv0t20', 'role': 'guest', '_format': 'for_p3', 'listing_id': '26711306', '_limit': 10, '_offset': 0}\n"
     ]
    },
    {
     "name": "stderr",
     "output_type": "stream",
     "text": [
      "\n",
      "\n",
      "\n",
      "\n",
      "\n",
      "\n",
      "\n",
      "\n",
      "\n",
      "\n",
      "\n",
      "\n",
      "\n",
      "\n",
      "\n",
      "\n",
      "\n",
      "\n",
      "  3%|██▎                                                                         | 440/14610 [10:37<5:42:22,  1.45s/it]"
     ]
    },
    {
     "name": "stdout",
     "output_type": "stream",
     "text": [
      "{'key': 'd306zoyjsyarp7ifhu67rjxn52tv0t20', 'role': 'guest', '_format': 'for_p3', 'listing_id': '26064662', '_limit': 6, '_offset': 0}\n"
     ]
    },
    {
     "name": "stderr",
     "output_type": "stream",
     "text": [
      "\n",
      "\n",
      "\n",
      "\n",
      "\n",
      "\n",
      "\n",
      "\n",
      "\n",
      "\n",
      "\n",
      "\n",
      "\n",
      "\n",
      "\n",
      "\n",
      "\n",
      "\n",
      "  3%|██▎                                                                         | 441/14610 [10:39<5:42:18,  1.45s/it]"
     ]
    },
    {
     "name": "stdout",
     "output_type": "stream",
     "text": [
      "{'key': 'd306zoyjsyarp7ifhu67rjxn52tv0t20', 'role': 'guest', '_format': 'for_p3', 'listing_id': '15072500', '_limit': 16, '_offset': 0}\n"
     ]
    },
    {
     "name": "stderr",
     "output_type": "stream",
     "text": [
      "\n",
      "\n",
      "\n",
      "\n",
      "\n",
      "\n",
      "\n",
      "\n",
      "\n",
      "\n",
      "\n",
      "\n",
      "\n",
      "\n",
      "\n",
      "\n",
      "\n",
      "\n",
      "  3%|██▎                                                                         | 442/14610 [10:40<5:42:20,  1.45s/it]"
     ]
    },
    {
     "name": "stdout",
     "output_type": "stream",
     "text": [
      "{'key': 'd306zoyjsyarp7ifhu67rjxn52tv0t20', 'role': 'guest', '_format': 'for_p3', 'listing_id': '14453236', '_limit': 26, '_offset': 0}\n"
     ]
    },
    {
     "name": "stderr",
     "output_type": "stream",
     "text": [
      "\n",
      "\n",
      "\n",
      "\n",
      "\n",
      "\n",
      "\n",
      "\n",
      "\n",
      "\n",
      "\n",
      "\n",
      "\n",
      "\n",
      "\n",
      "\n",
      "\n",
      "\n",
      "  3%|██▎                                                                         | 443/14610 [10:42<5:42:38,  1.45s/it]"
     ]
    },
    {
     "name": "stdout",
     "output_type": "stream",
     "text": [
      "{'key': 'd306zoyjsyarp7ifhu67rjxn52tv0t20', 'role': 'guest', '_format': 'for_p3', 'listing_id': '26505807', '_limit': 3, '_offset': 0}\n"
     ]
    },
    {
     "name": "stderr",
     "output_type": "stream",
     "text": [
      "\n",
      "\n",
      "\n",
      "\n",
      "\n",
      "\n",
      "\n",
      "\n",
      "\n",
      "\n",
      "\n",
      "\n",
      "\n",
      "\n",
      "\n",
      "\n",
      "\n",
      "\n",
      "  3%|██▎                                                                         | 444/14610 [10:44<5:42:33,  1.45s/it]"
     ]
    },
    {
     "name": "stdout",
     "output_type": "stream",
     "text": [
      "{'key': 'd306zoyjsyarp7ifhu67rjxn52tv0t20', 'role': 'guest', '_format': 'for_p3', 'listing_id': '12096184', '_limit': 20, '_offset': 0}\n"
     ]
    },
    {
     "name": "stderr",
     "output_type": "stream",
     "text": [
      "\n",
      "\n",
      "\n",
      "\n",
      "\n",
      "\n",
      "\n",
      "\n",
      "\n",
      "\n",
      "\n",
      "\n",
      "\n",
      "\n",
      "\n",
      "\n",
      "\n",
      "\n",
      "  3%|██▎                                                                         | 445/14610 [10:46<5:42:47,  1.45s/it]\n",
      "\n",
      "\n",
      "\n",
      "\n",
      "\n",
      "\n",
      "\n",
      "\n",
      "\n",
      "\n",
      "\n",
      "\n",
      "\n",
      "\n",
      "\n",
      "\n",
      "\n",
      "  3%|██▎                                                                         | 446/14610 [10:46<5:42:18,  1.45s/it]\n",
      "\n",
      "\n",
      "\n",
      "\n",
      "\n",
      "\n",
      "\n",
      "\n",
      "\n",
      "\n",
      "\n",
      "\n",
      "\n",
      "\n",
      "\n",
      "\n",
      "\n",
      "  3%|██▎                                                                         | 447/14610 [10:47<5:41:47,  1.45s/it]"
     ]
    },
    {
     "name": "stdout",
     "output_type": "stream",
     "text": [
      "{'key': 'd306zoyjsyarp7ifhu67rjxn52tv0t20', 'role': 'guest', '_format': 'for_p3', 'listing_id': '25134611', '_limit': 5, '_offset': 0}\n"
     ]
    },
    {
     "name": "stderr",
     "output_type": "stream",
     "text": [
      "\n",
      "\n",
      "\n",
      "\n",
      "\n",
      "\n",
      "\n",
      "\n",
      "\n",
      "\n",
      "\n",
      "\n",
      "\n",
      "\n",
      "\n",
      "\n",
      "\n",
      "\n",
      "  3%|██▎                                                                         | 448/14610 [10:48<5:41:42,  1.45s/it]"
     ]
    },
    {
     "name": "stdout",
     "output_type": "stream",
     "text": [
      "{'key': 'd306zoyjsyarp7ifhu67rjxn52tv0t20', 'role': 'guest', '_format': 'for_p3', 'listing_id': '23029070', '_limit': 10, '_offset': 0}\n"
     ]
    },
    {
     "name": "stderr",
     "output_type": "stream",
     "text": [
      "\n",
      "\n",
      "\n",
      "\n",
      "\n",
      "\n",
      "\n",
      "\n",
      "\n",
      "\n",
      "\n",
      "\n",
      "\n",
      "\n",
      "\n",
      "\n",
      "\n",
      "\n",
      "  3%|██▎                                                                         | 449/14610 [10:51<5:42:13,  1.45s/it]"
     ]
    },
    {
     "name": "stdout",
     "output_type": "stream",
     "text": [
      "{'key': 'd306zoyjsyarp7ifhu67rjxn52tv0t20', 'role': 'guest', '_format': 'for_p3', 'listing_id': '23569612', '_limit': 19, '_offset': 0}\n"
     ]
    },
    {
     "name": "stderr",
     "output_type": "stream",
     "text": [
      "\n",
      "\n",
      "\n",
      "\n",
      "\n",
      "\n",
      "\n",
      "\n",
      "\n",
      "\n",
      "\n",
      "\n",
      "\n",
      "\n",
      "\n",
      "\n",
      "\n",
      "\n",
      "  3%|██▎                                                                         | 450/14610 [10:53<5:42:28,  1.45s/it]"
     ]
    },
    {
     "name": "stdout",
     "output_type": "stream",
     "text": [
      "{'key': 'd306zoyjsyarp7ifhu67rjxn52tv0t20', 'role': 'guest', '_format': 'for_p3', 'listing_id': '24664645', '_limit': 8, '_offset': 0}\n"
     ]
    },
    {
     "name": "stderr",
     "output_type": "stream",
     "text": [
      "\n",
      "\n",
      "\n",
      "\n",
      "\n",
      "\n",
      "\n",
      "\n",
      "\n",
      "\n",
      "\n",
      "\n",
      "\n",
      "\n",
      "\n",
      "\n",
      "\n",
      "\n",
      "  3%|██▎                                                                         | 451/14610 [10:54<5:42:27,  1.45s/it]"
     ]
    },
    {
     "name": "stdout",
     "output_type": "stream",
     "text": [
      "{'key': 'd306zoyjsyarp7ifhu67rjxn52tv0t20', 'role': 'guest', '_format': 'for_p3', 'listing_id': '29801415', '_limit': 1, '_offset': 0}\n"
     ]
    },
    {
     "name": "stderr",
     "output_type": "stream",
     "text": [
      "\n",
      "\n",
      "\n",
      "\n",
      "\n",
      "\n",
      "\n",
      "\n",
      "\n",
      "\n",
      "\n",
      "\n",
      "\n",
      "\n",
      "\n",
      "\n",
      "\n",
      "\n",
      "  3%|██▎                                                                         | 452/14610 [10:55<5:42:16,  1.45s/it]"
     ]
    },
    {
     "name": "stdout",
     "output_type": "stream",
     "text": [
      "{'key': 'd306zoyjsyarp7ifhu67rjxn52tv0t20', 'role': 'guest', '_format': 'for_p3', 'listing_id': '19956104', '_limit': 25, '_offset': 0}\n"
     ]
    },
    {
     "name": "stderr",
     "output_type": "stream",
     "text": [
      "\n",
      "\n",
      "\n",
      "\n",
      "\n",
      "\n",
      "\n",
      "\n",
      "\n",
      "\n",
      "\n",
      "\n",
      "\n",
      "\n",
      "\n",
      "\n",
      "\n",
      "\n",
      "  3%|██▎                                                                         | 453/14610 [10:57<5:42:25,  1.45s/it]"
     ]
    },
    {
     "name": "stdout",
     "output_type": "stream",
     "text": [
      "{'key': 'd306zoyjsyarp7ifhu67rjxn52tv0t20', 'role': 'guest', '_format': 'for_p3', 'listing_id': '24130478', '_limit': 8, '_offset': 0}\n"
     ]
    },
    {
     "name": "stderr",
     "output_type": "stream",
     "text": [
      "\n",
      "\n",
      "\n",
      "\n",
      "\n",
      "\n",
      "\n",
      "\n",
      "\n",
      "\n",
      "\n",
      "\n",
      "\n",
      "\n",
      "\n",
      "\n",
      "\n",
      "\n",
      "  3%|██▎                                                                         | 454/14610 [10:58<5:42:22,  1.45s/it]"
     ]
    },
    {
     "name": "stdout",
     "output_type": "stream",
     "text": [
      "{'key': 'd306zoyjsyarp7ifhu67rjxn52tv0t20', 'role': 'guest', '_format': 'for_p3', 'listing_id': '25814240', '_limit': 3, '_offset': 0}\n"
     ]
    },
    {
     "name": "stderr",
     "output_type": "stream",
     "text": [
      "\n",
      "\n",
      "\n",
      "\n",
      "\n",
      "\n",
      "\n",
      "\n",
      "\n",
      "\n",
      "\n",
      "\n",
      "\n",
      "\n",
      "\n",
      "\n",
      "\n",
      "\n",
      "  3%|██▎                                                                         | 455/14610 [11:00<5:42:16,  1.45s/it]"
     ]
    },
    {
     "name": "stdout",
     "output_type": "stream",
     "text": [
      "{'key': 'd306zoyjsyarp7ifhu67rjxn52tv0t20', 'role': 'guest', '_format': 'for_p3', 'listing_id': '29690099', '_limit': 1, '_offset': 0}\n"
     ]
    },
    {
     "name": "stderr",
     "output_type": "stream",
     "text": [
      "\n",
      "\n",
      "\n",
      "\n",
      "\n",
      "\n",
      "\n",
      "\n",
      "\n",
      "\n",
      "\n",
      "\n",
      "\n",
      "\n",
      "\n",
      "\n",
      "\n",
      "\n",
      "  3%|██▎                                                                         | 456/14610 [11:01<5:42:09,  1.45s/it]"
     ]
    },
    {
     "name": "stdout",
     "output_type": "stream",
     "text": [
      "{'key': 'd306zoyjsyarp7ifhu67rjxn52tv0t20', 'role': 'guest', '_format': 'for_p3', 'listing_id': '27178972', '_limit': 6, '_offset': 0}\n"
     ]
    },
    {
     "name": "stderr",
     "output_type": "stream",
     "text": [
      "\n",
      "\n",
      "\n",
      "\n",
      "\n",
      "\n",
      "\n",
      "\n",
      "\n",
      "\n",
      "\n",
      "\n",
      "\n",
      "\n",
      "\n",
      "\n",
      "\n",
      "\n",
      "  3%|██▍                                                                         | 457/14610 [11:02<5:42:03,  1.45s/it]"
     ]
    },
    {
     "name": "stdout",
     "output_type": "stream",
     "text": [
      "{'key': 'd306zoyjsyarp7ifhu67rjxn52tv0t20', 'role': 'guest', '_format': 'for_p3', 'listing_id': '22819174', '_limit': 1, '_offset': 0}\n"
     ]
    },
    {
     "name": "stderr",
     "output_type": "stream",
     "text": [
      "\n",
      "\n",
      "\n",
      "\n",
      "\n",
      "\n",
      "\n",
      "\n",
      "\n",
      "\n",
      "\n",
      "\n",
      "\n",
      "\n",
      "\n",
      "\n",
      "\n",
      "\n",
      "  3%|██▍                                                                         | 458/14610 [11:03<5:41:56,  1.45s/it]"
     ]
    },
    {
     "name": "stdout",
     "output_type": "stream",
     "text": [
      "{'key': 'd306zoyjsyarp7ifhu67rjxn52tv0t20', 'role': 'guest', '_format': 'for_p3', 'listing_id': '26335241', '_limit': 2, '_offset': 0}\n"
     ]
    },
    {
     "name": "stderr",
     "output_type": "stream",
     "text": [
      "\n",
      "\n",
      "\n",
      "\n",
      "\n",
      "\n",
      "\n",
      "\n",
      "\n",
      "\n",
      "\n",
      "\n",
      "\n",
      "\n",
      "\n",
      "\n",
      "\n",
      "\n",
      "  3%|██▍                                                                         | 459/14610 [11:05<5:41:51,  1.45s/it]"
     ]
    },
    {
     "name": "stdout",
     "output_type": "stream",
     "text": [
      "{'key': 'd306zoyjsyarp7ifhu67rjxn52tv0t20', 'role': 'guest', '_format': 'for_p3', 'listing_id': '22516311', '_limit': 6, '_offset': 0}\n"
     ]
    },
    {
     "name": "stderr",
     "output_type": "stream",
     "text": [
      "\n",
      "\n",
      "\n",
      "\n",
      "\n",
      "\n",
      "\n",
      "\n",
      "\n",
      "\n",
      "\n",
      "\n",
      "\n",
      "\n",
      "\n",
      "\n",
      "\n",
      "\n",
      "  3%|██▍                                                                         | 460/14610 [11:06<5:41:49,  1.45s/it]"
     ]
    },
    {
     "name": "stdout",
     "output_type": "stream",
     "text": [
      "{'key': 'd306zoyjsyarp7ifhu67rjxn52tv0t20', 'role': 'guest', '_format': 'for_p3', 'listing_id': '21816537', '_limit': 5, '_offset': 0}\n"
     ]
    },
    {
     "name": "stderr",
     "output_type": "stream",
     "text": [
      "\n",
      "\n",
      "\n",
      "\n",
      "\n",
      "\n",
      "\n",
      "\n",
      "\n",
      "\n",
      "\n",
      "\n",
      "\n",
      "\n",
      "\n",
      "\n",
      "\n",
      "\n",
      "  3%|██▍                                                                         | 461/14610 [11:08<5:41:55,  1.45s/it]\n",
      "\n",
      "\n",
      "\n",
      "\n",
      "\n",
      "\n",
      "\n",
      "\n",
      "\n",
      "\n",
      "\n",
      "\n",
      "\n",
      "\n",
      "\n",
      "\n",
      "\n",
      "  3%|██▍                                                                         | 462/14610 [11:08<5:41:27,  1.45s/it]"
     ]
    },
    {
     "name": "stdout",
     "output_type": "stream",
     "text": [
      "{'key': 'd306zoyjsyarp7ifhu67rjxn52tv0t20', 'role': 'guest', '_format': 'for_p3', 'listing_id': '16656229', '_limit': 15, '_offset': 0}\n"
     ]
    },
    {
     "name": "stderr",
     "output_type": "stream",
     "text": [
      "\n",
      "\n",
      "\n",
      "\n",
      "\n",
      "\n",
      "\n",
      "\n",
      "\n",
      "\n",
      "\n",
      "\n",
      "\n",
      "\n",
      "\n",
      "\n",
      "\n",
      "\n",
      "  3%|██▍                                                                         | 463/14610 [11:10<5:41:34,  1.45s/it]"
     ]
    },
    {
     "name": "stdout",
     "output_type": "stream",
     "text": [
      "{'key': 'd306zoyjsyarp7ifhu67rjxn52tv0t20', 'role': 'guest', '_format': 'for_p3', 'listing_id': '24441108', '_limit': 4, '_offset': 0}\n"
     ]
    },
    {
     "name": "stderr",
     "output_type": "stream",
     "text": [
      "\n",
      "\n",
      "\n",
      "\n",
      "\n",
      "\n",
      "\n",
      "\n",
      "\n",
      "\n",
      "\n",
      "\n",
      "\n",
      "\n",
      "\n",
      "\n",
      "\n",
      "\n",
      "  3%|██▍                                                                         | 464/14610 [11:12<5:41:28,  1.45s/it]"
     ]
    },
    {
     "name": "stdout",
     "output_type": "stream",
     "text": [
      "{'key': 'd306zoyjsyarp7ifhu67rjxn52tv0t20', 'role': 'guest', '_format': 'for_p3', 'listing_id': '28350135', '_limit': 3, '_offset': 0}\n"
     ]
    },
    {
     "name": "stderr",
     "output_type": "stream",
     "text": [
      "\n",
      "\n",
      "\n",
      "\n",
      "\n",
      "\n",
      "\n",
      "\n",
      "\n",
      "\n",
      "\n",
      "\n",
      "\n",
      "\n",
      "\n",
      "\n",
      "\n",
      "\n",
      "  3%|██▍                                                                         | 465/14610 [11:13<5:41:19,  1.45s/it]"
     ]
    },
    {
     "name": "stdout",
     "output_type": "stream",
     "text": [
      "{'key': 'd306zoyjsyarp7ifhu67rjxn52tv0t20', 'role': 'guest', '_format': 'for_p3', 'listing_id': '25134106', '_limit': 4, '_offset': 0}\n"
     ]
    },
    {
     "name": "stderr",
     "output_type": "stream",
     "text": [
      "\n",
      "\n",
      "\n",
      "\n",
      "\n",
      "\n",
      "\n",
      "\n",
      "\n",
      "\n",
      "\n",
      "\n",
      "\n",
      "\n",
      "\n",
      "\n",
      "\n",
      "\n",
      "  3%|██▍                                                                         | 466/14610 [11:14<5:41:19,  1.45s/it]"
     ]
    },
    {
     "name": "stdout",
     "output_type": "stream",
     "text": [
      "{'key': 'd306zoyjsyarp7ifhu67rjxn52tv0t20', 'role': 'guest', '_format': 'for_p3', 'listing_id': '25983028', '_limit': 6, '_offset': 0}\n"
     ]
    },
    {
     "name": "stderr",
     "output_type": "stream",
     "text": [
      "\n",
      "\n",
      "\n",
      "\n",
      "\n",
      "\n",
      "\n",
      "\n",
      "\n",
      "\n",
      "\n",
      "\n",
      "\n",
      "\n",
      "\n",
      "\n",
      "\n",
      "\n",
      "  3%|██▍                                                                         | 467/14610 [11:16<5:41:27,  1.45s/it]"
     ]
    },
    {
     "name": "stdout",
     "output_type": "stream",
     "text": [
      "{'key': 'd306zoyjsyarp7ifhu67rjxn52tv0t20', 'role': 'guest', '_format': 'for_p3', 'listing_id': '16660875', '_limit': 6, '_offset': 0}\n"
     ]
    },
    {
     "name": "stderr",
     "output_type": "stream",
     "text": [
      "\n",
      "\n",
      "\n",
      "\n",
      "\n",
      "\n",
      "\n",
      "\n",
      "\n",
      "\n",
      "\n",
      "\n",
      "\n",
      "\n",
      "\n",
      "\n",
      "\n",
      "\n",
      "  3%|██▍                                                                         | 468/14610 [11:17<5:41:24,  1.45s/it]"
     ]
    },
    {
     "name": "stdout",
     "output_type": "stream",
     "text": [
      "{'key': 'd306zoyjsyarp7ifhu67rjxn52tv0t20', 'role': 'guest', '_format': 'for_p3', 'listing_id': '22510466', '_limit': 2, '_offset': 0}\n"
     ]
    },
    {
     "name": "stderr",
     "output_type": "stream",
     "text": [
      "\n",
      "\n",
      "\n",
      "\n",
      "\n",
      "\n",
      "\n",
      "\n",
      "\n",
      "\n",
      "\n",
      "\n",
      "\n",
      "\n",
      "\n",
      "\n",
      "\n",
      "\n",
      "  3%|██▍                                                                         | 469/14610 [11:19<5:41:19,  1.45s/it]"
     ]
    },
    {
     "name": "stdout",
     "output_type": "stream",
     "text": [
      "{'key': 'd306zoyjsyarp7ifhu67rjxn52tv0t20', 'role': 'guest', '_format': 'for_p3', 'listing_id': '22852443', '_limit': 2, '_offset': 0}\n"
     ]
    },
    {
     "name": "stderr",
     "output_type": "stream",
     "text": [
      "\n",
      "\n",
      "\n",
      "\n",
      "\n",
      "\n",
      "\n",
      "\n",
      "\n",
      "\n",
      "\n",
      "\n",
      "\n",
      "\n",
      "\n",
      "\n",
      "\n",
      "\n",
      "  3%|██▍                                                                         | 470/14610 [11:20<5:41:12,  1.45s/it]"
     ]
    },
    {
     "name": "stdout",
     "output_type": "stream",
     "text": [
      "{'key': 'd306zoyjsyarp7ifhu67rjxn52tv0t20', 'role': 'guest', '_format': 'for_p3', 'listing_id': '25222151', '_limit': 1, '_offset': 0}\n"
     ]
    },
    {
     "name": "stderr",
     "output_type": "stream",
     "text": [
      "\n",
      "\n",
      "\n",
      "\n",
      "\n",
      "\n",
      "\n",
      "\n",
      "\n",
      "\n",
      "\n",
      "\n",
      "\n",
      "\n",
      "\n",
      "\n",
      "\n",
      "\n",
      "  3%|██▍                                                                         | 471/14610 [11:21<5:41:07,  1.45s/it]"
     ]
    },
    {
     "name": "stdout",
     "output_type": "stream",
     "text": [
      "{'key': 'd306zoyjsyarp7ifhu67rjxn52tv0t20', 'role': 'guest', '_format': 'for_p3', 'listing_id': '27123079', '_limit': 5, '_offset': 0}\n"
     ]
    },
    {
     "name": "stderr",
     "output_type": "stream",
     "text": [
      "\n",
      "\n",
      "\n",
      "\n",
      "\n",
      "\n",
      "\n",
      "\n",
      "\n",
      "\n",
      "\n",
      "\n",
      "\n",
      "\n",
      "\n",
      "\n",
      "\n",
      "\n",
      "  3%|██▍                                                                         | 472/14610 [11:23<5:41:05,  1.45s/it]\n",
      "\n",
      "\n",
      "\n",
      "\n",
      "\n",
      "\n",
      "\n",
      "\n",
      "\n",
      "\n",
      "\n",
      "\n",
      "\n",
      "\n",
      "\n",
      "\n",
      "\n",
      "  3%|██▍                                                                         | 473/14610 [11:23<5:40:38,  1.45s/it]"
     ]
    },
    {
     "name": "stdout",
     "output_type": "stream",
     "text": [
      "{'key': 'd306zoyjsyarp7ifhu67rjxn52tv0t20', 'role': 'guest', '_format': 'for_p3', 'listing_id': '26111443', '_limit': 2, '_offset': 0}\n"
     ]
    },
    {
     "name": "stderr",
     "output_type": "stream",
     "text": [
      "\n",
      "\n",
      "\n",
      "\n",
      "\n",
      "\n",
      "\n",
      "\n",
      "\n",
      "\n",
      "\n",
      "\n",
      "\n",
      "\n",
      "\n",
      "\n",
      "\n",
      "\n",
      "  3%|██▍                                                                         | 474/14610 [11:25<5:40:30,  1.45s/it]"
     ]
    },
    {
     "name": "stdout",
     "output_type": "stream",
     "text": [
      "{'key': 'd306zoyjsyarp7ifhu67rjxn52tv0t20', 'role': 'guest', '_format': 'for_p3', 'listing_id': '28238352', '_limit': 4, '_offset': 0}\n"
     ]
    },
    {
     "name": "stderr",
     "output_type": "stream",
     "text": [
      "\n",
      "\n",
      "\n",
      "\n",
      "\n",
      "\n",
      "\n",
      "\n",
      "\n",
      "\n",
      "\n",
      "\n",
      "\n",
      "\n",
      "\n",
      "\n",
      "\n",
      "\n",
      "  3%|██▍                                                                         | 475/14610 [11:26<5:40:23,  1.44s/it]"
     ]
    },
    {
     "name": "stdout",
     "output_type": "stream",
     "text": [
      "{'key': 'd306zoyjsyarp7ifhu67rjxn52tv0t20', 'role': 'guest', '_format': 'for_p3', 'listing_id': '27315884', '_limit': 10, '_offset': 0}\n"
     ]
    },
    {
     "name": "stderr",
     "output_type": "stream",
     "text": [
      "\n",
      "\n",
      "\n",
      "\n",
      "\n",
      "\n",
      "\n",
      "\n",
      "\n",
      "\n",
      "\n",
      "\n",
      "\n",
      "\n",
      "\n",
      "\n",
      "\n",
      "\n",
      "  3%|██▍                                                                         | 476/14610 [11:27<5:40:23,  1.45s/it]"
     ]
    },
    {
     "name": "stdout",
     "output_type": "stream",
     "text": [
      "{'key': 'd306zoyjsyarp7ifhu67rjxn52tv0t20', 'role': 'guest', '_format': 'for_p3', 'listing_id': '25175996', '_limit': 6, '_offset': 0}\n"
     ]
    },
    {
     "name": "stderr",
     "output_type": "stream",
     "text": [
      "\n",
      "\n",
      "\n",
      "\n",
      "\n",
      "\n",
      "\n",
      "\n",
      "\n",
      "\n",
      "\n",
      "\n",
      "\n",
      "\n",
      "\n",
      "\n",
      "\n",
      "\n",
      "  3%|██▍                                                                         | 477/14610 [11:29<5:40:20,  1.44s/it]\n",
      "\n",
      "\n",
      "\n",
      "\n",
      "\n",
      "\n",
      "\n",
      "\n",
      "\n",
      "\n",
      "\n",
      "\n",
      "\n",
      "\n",
      "\n",
      "\n",
      "\n",
      "  3%|██▍                                                                         | 478/14610 [11:29<5:39:54,  1.44s/it]"
     ]
    },
    {
     "name": "stdout",
     "output_type": "stream",
     "text": [
      "{'key': 'd306zoyjsyarp7ifhu67rjxn52tv0t20', 'role': 'guest', '_format': 'for_p3', 'listing_id': '16542804', '_limit': 11, '_offset': 0}\n"
     ]
    },
    {
     "name": "stderr",
     "output_type": "stream",
     "text": [
      "\n",
      "\n",
      "\n",
      "\n",
      "\n",
      "\n",
      "\n",
      "\n",
      "\n",
      "\n",
      "\n",
      "\n",
      "\n",
      "\n",
      "\n",
      "\n",
      "\n",
      "\n",
      "  3%|██▍                                                                         | 479/14610 [11:31<5:40:00,  1.44s/it]"
     ]
    },
    {
     "name": "stdout",
     "output_type": "stream",
     "text": [
      "{'key': 'd306zoyjsyarp7ifhu67rjxn52tv0t20', 'role': 'guest', '_format': 'for_p3', 'listing_id': '19088653', '_limit': 13, '_offset': 0}\n"
     ]
    },
    {
     "name": "stderr",
     "output_type": "stream",
     "text": [
      "\n",
      "\n",
      "\n",
      "\n",
      "\n",
      "\n",
      "\n",
      "\n",
      "\n",
      "\n",
      "\n",
      "\n",
      "\n",
      "\n",
      "\n",
      "\n",
      "\n",
      "\n",
      "  3%|██▍                                                                         | 480/14610 [11:32<5:39:58,  1.44s/it]"
     ]
    },
    {
     "name": "stdout",
     "output_type": "stream",
     "text": [
      "{'key': 'd306zoyjsyarp7ifhu67rjxn52tv0t20', 'role': 'guest', '_format': 'for_p3', 'listing_id': '23436292', '_limit': 4, '_offset': 0}\n"
     ]
    },
    {
     "name": "stderr",
     "output_type": "stream",
     "text": [
      "\n",
      "\n",
      "\n",
      "\n",
      "\n",
      "\n",
      "\n",
      "\n",
      "\n",
      "\n",
      "\n",
      "\n",
      "\n",
      "\n",
      "\n",
      "\n",
      "\n",
      "\n",
      "  3%|██▌                                                                         | 481/14610 [11:34<5:39:53,  1.44s/it]"
     ]
    },
    {
     "name": "stdout",
     "output_type": "stream",
     "text": [
      "{'key': 'd306zoyjsyarp7ifhu67rjxn52tv0t20', 'role': 'guest', '_format': 'for_p3', 'listing_id': '20021550', '_limit': 1, '_offset': 0}\n"
     ]
    },
    {
     "name": "stderr",
     "output_type": "stream",
     "text": [
      "\n",
      "\n",
      "\n",
      "\n",
      "\n",
      "\n",
      "\n",
      "\n",
      "\n",
      "\n",
      "\n",
      "\n",
      "\n",
      "\n",
      "\n",
      "\n",
      "\n",
      "\n",
      "  3%|██▌                                                                         | 482/14610 [11:35<5:39:52,  1.44s/it]"
     ]
    },
    {
     "name": "stdout",
     "output_type": "stream",
     "text": [
      "{'key': 'd306zoyjsyarp7ifhu67rjxn52tv0t20', 'role': 'guest', '_format': 'for_p3', 'listing_id': '23330450', '_limit': 1, '_offset': 0}\n"
     ]
    },
    {
     "name": "stderr",
     "output_type": "stream",
     "text": [
      "\n",
      "\n",
      "\n",
      "\n",
      "\n",
      "\n",
      "\n",
      "\n",
      "\n",
      "\n",
      "\n",
      "\n",
      "\n",
      "\n",
      "\n",
      "\n",
      "\n",
      "\n",
      "  3%|██▌                                                                         | 483/14610 [11:37<5:39:46,  1.44s/it]"
     ]
    },
    {
     "name": "stdout",
     "output_type": "stream",
     "text": [
      "{'key': 'd306zoyjsyarp7ifhu67rjxn52tv0t20', 'role': 'guest', '_format': 'for_p3', 'listing_id': '22818851', '_limit': 1, '_offset': 0}\n"
     ]
    },
    {
     "name": "stderr",
     "output_type": "stream",
     "text": [
      "\n",
      "\n",
      "\n",
      "\n",
      "\n",
      "\n",
      "\n",
      "\n",
      "\n",
      "\n",
      "\n",
      "\n",
      "\n",
      "\n",
      "\n",
      "\n",
      "\n",
      "\n",
      "  3%|██▌                                                                         | 484/14610 [11:38<5:39:43,  1.44s/it]\n",
      "\n",
      "\n",
      "\n",
      "\n",
      "\n",
      "\n",
      "\n",
      "\n",
      "\n",
      "\n",
      "\n",
      "\n",
      "\n",
      "\n",
      "\n",
      "\n",
      "\n",
      "  3%|██▌                                                                         | 485/14610 [11:39<5:39:17,  1.44s/it]\n",
      "\n",
      "\n",
      "\n",
      "\n",
      "\n",
      "\n",
      "\n",
      "\n",
      "\n",
      "\n",
      "\n",
      "\n",
      "\n",
      "\n",
      "\n",
      "\n",
      "\n",
      "  3%|██▌                                                                         | 486/14610 [11:39<5:38:50,  1.44s/it]\n",
      "\n",
      "\n",
      "\n",
      "\n",
      "\n",
      "\n",
      "\n",
      "\n",
      "\n",
      "\n",
      "\n",
      "\n",
      "\n",
      "\n",
      "\n",
      "\n",
      "\n",
      "  3%|██▌                                                                         | 487/14610 [11:40<5:38:23,  1.44s/it]\n",
      "\n",
      "\n",
      "\n",
      "\n",
      "\n",
      "\n",
      "\n",
      "\n",
      "\n",
      "\n",
      "\n",
      "\n",
      "\n",
      "\n",
      "\n",
      "\n",
      "\n",
      "  3%|██▌                                                                         | 488/14610 [11:40<5:37:56,  1.44s/it]"
     ]
    },
    {
     "name": "stdout",
     "output_type": "stream",
     "text": [
      "{'key': 'd306zoyjsyarp7ifhu67rjxn52tv0t20', 'role': 'guest', '_format': 'for_p3', 'listing_id': '22167546', '_limit': 13, '_offset': 0}\n"
     ]
    },
    {
     "name": "stderr",
     "output_type": "stream",
     "text": [
      "\n",
      "\n",
      "\n",
      "\n",
      "\n",
      "\n",
      "\n",
      "\n",
      "\n",
      "\n",
      "\n",
      "\n",
      "\n",
      "\n",
      "\n",
      "\n",
      "\n",
      "\n",
      "  3%|██▌                                                                         | 489/14610 [11:42<5:37:56,  1.44s/it]"
     ]
    },
    {
     "name": "stdout",
     "output_type": "stream",
     "text": [
      "{'key': 'd306zoyjsyarp7ifhu67rjxn52tv0t20', 'role': 'guest', '_format': 'for_p3', 'listing_id': '29193152', '_limit': 1, '_offset': 0}\n"
     ]
    },
    {
     "name": "stderr",
     "output_type": "stream",
     "text": [
      "\n",
      "\n",
      "\n",
      "\n",
      "\n",
      "\n",
      "\n",
      "\n",
      "\n",
      "\n",
      "\n",
      "\n",
      "\n",
      "\n",
      "\n",
      "\n",
      "\n",
      "\n",
      "  3%|██▌                                                                         | 490/14610 [11:43<5:37:50,  1.44s/it]"
     ]
    },
    {
     "name": "stdout",
     "output_type": "stream",
     "text": [
      "{'key': 'd306zoyjsyarp7ifhu67rjxn52tv0t20', 'role': 'guest', '_format': 'for_p3', 'listing_id': '15001233', '_limit': 5, '_offset': 0}\n"
     ]
    },
    {
     "name": "stderr",
     "output_type": "stream",
     "text": [
      "\n",
      "\n",
      "\n",
      "\n",
      "\n",
      "\n",
      "\n",
      "\n",
      "\n",
      "\n",
      "\n",
      "\n",
      "\n",
      "\n",
      "\n",
      "\n",
      "\n",
      "\n",
      "  3%|██▌                                                                         | 491/14610 [11:45<5:37:53,  1.44s/it]"
     ]
    },
    {
     "name": "stdout",
     "output_type": "stream",
     "text": [
      "{'key': 'd306zoyjsyarp7ifhu67rjxn52tv0t20', 'role': 'guest', '_format': 'for_p3', 'listing_id': '17493175', '_limit': 6, '_offset': 0}\n"
     ]
    },
    {
     "name": "stderr",
     "output_type": "stream",
     "text": [
      "\n",
      "\n",
      "\n",
      "\n",
      "\n",
      "\n",
      "\n",
      "\n",
      "\n",
      "\n",
      "\n",
      "\n",
      "\n",
      "\n",
      "\n",
      "\n",
      "\n",
      "\n",
      "  3%|██▌                                                                         | 492/14610 [11:46<5:38:01,  1.44s/it]"
     ]
    },
    {
     "name": "stdout",
     "output_type": "stream",
     "text": [
      "{'key': 'd306zoyjsyarp7ifhu67rjxn52tv0t20', 'role': 'guest', '_format': 'for_p3', 'listing_id': '27122921', '_limit': 7, '_offset': 0}\n"
     ]
    },
    {
     "name": "stderr",
     "output_type": "stream",
     "text": [
      "\n",
      "\n",
      "\n",
      "\n",
      "\n",
      "\n",
      "\n",
      "\n",
      "\n",
      "\n",
      "\n",
      "\n",
      "\n",
      "\n",
      "\n",
      "\n",
      "\n",
      "\n",
      "  3%|██▌                                                                         | 493/14610 [11:48<5:38:01,  1.44s/it]\n",
      "\n",
      "\n",
      "\n",
      "\n",
      "\n",
      "\n",
      "\n",
      "\n",
      "\n",
      "\n",
      "\n",
      "\n",
      "\n",
      "\n",
      "\n",
      "\n",
      "\n",
      "  3%|██▌                                                                         | 494/14610 [11:48<5:37:38,  1.44s/it]"
     ]
    },
    {
     "name": "stdout",
     "output_type": "stream",
     "text": [
      "{'key': 'd306zoyjsyarp7ifhu67rjxn52tv0t20', 'role': 'guest', '_format': 'for_p3', 'listing_id': '21649537', '_limit': 1, '_offset': 0}\n"
     ]
    },
    {
     "name": "stderr",
     "output_type": "stream",
     "text": [
      "\n",
      "\n",
      "\n",
      "\n",
      "\n",
      "\n",
      "\n",
      "\n",
      "\n",
      "\n",
      "\n",
      "\n",
      "\n",
      "\n",
      "\n",
      "\n",
      "\n",
      "\n",
      "  3%|██▌                                                                         | 495/14610 [11:50<5:37:35,  1.44s/it]\n",
      "\n",
      "\n",
      "\n",
      "\n",
      "\n",
      "\n",
      "\n",
      "\n",
      "\n",
      "\n",
      "\n",
      "\n",
      "\n",
      "\n",
      "\n",
      "\n",
      "\n",
      "  3%|██▌                                                                         | 496/14610 [11:50<5:37:10,  1.43s/it]"
     ]
    },
    {
     "name": "stdout",
     "output_type": "stream",
     "text": [
      "{'key': 'd306zoyjsyarp7ifhu67rjxn52tv0t20', 'role': 'guest', '_format': 'for_p3', 'listing_id': '25828438', '_limit': 6, '_offset': 0}\n"
     ]
    },
    {
     "name": "stderr",
     "output_type": "stream",
     "text": [
      "\n",
      "\n",
      "\n",
      "\n",
      "\n",
      "\n",
      "\n",
      "\n",
      "\n",
      "\n",
      "\n",
      "\n",
      "\n",
      "\n",
      "\n",
      "\n",
      "\n",
      "\n",
      "  3%|██▌                                                                         | 497/14610 [11:52<5:37:20,  1.43s/it]"
     ]
    },
    {
     "ename": "KeyboardInterrupt",
     "evalue": "",
     "output_type": "error",
     "traceback": [
      "\u001b[1;31m---------------------------------------------------------------------------\u001b[0m",
      "\u001b[1;31mTypeError\u001b[0m                                 Traceback (most recent call last)",
      "\u001b[1;32m~\\Anaconda3\\lib\\site-packages\\urllib3\\connectionpool.py\u001b[0m in \u001b[0;36m_make_request\u001b[1;34m(self, conn, method, url, timeout, chunked, **httplib_request_kw)\u001b[0m\n\u001b[0;32m    379\u001b[0m             \u001b[1;32mtry\u001b[0m\u001b[1;33m:\u001b[0m  \u001b[1;31m# Python 2.7, use buffering of HTTP responses\u001b[0m\u001b[1;33m\u001b[0m\u001b[0m\n\u001b[1;32m--> 380\u001b[1;33m                 \u001b[0mhttplib_response\u001b[0m \u001b[1;33m=\u001b[0m \u001b[0mconn\u001b[0m\u001b[1;33m.\u001b[0m\u001b[0mgetresponse\u001b[0m\u001b[1;33m(\u001b[0m\u001b[0mbuffering\u001b[0m\u001b[1;33m=\u001b[0m\u001b[1;32mTrue\u001b[0m\u001b[1;33m)\u001b[0m\u001b[1;33m\u001b[0m\u001b[0m\n\u001b[0m\u001b[0;32m    381\u001b[0m             \u001b[1;32mexcept\u001b[0m \u001b[0mTypeError\u001b[0m\u001b[1;33m:\u001b[0m  \u001b[1;31m# Python 2.6 and older, Python 3\u001b[0m\u001b[1;33m\u001b[0m\u001b[0m\n",
      "\u001b[1;31mTypeError\u001b[0m: getresponse() got an unexpected keyword argument 'buffering'",
      "\nDuring handling of the above exception, another exception occurred:\n",
      "\u001b[1;31mKeyboardInterrupt\u001b[0m                         Traceback (most recent call last)",
      "\u001b[1;32m<ipython-input-207-179c08981201>\u001b[0m in \u001b[0;36m<module>\u001b[1;34m()\u001b[0m\n\u001b[0;32m      9\u001b[0m         \u001b[1;32mwhile\u001b[0m \u001b[0mretry\u001b[0m \u001b[1;33m>\u001b[0m\u001b[1;36m0\u001b[0m\u001b[1;33m:\u001b[0m\u001b[1;33m\u001b[0m\u001b[0m\n\u001b[0;32m     10\u001b[0m             \u001b[1;32mtry\u001b[0m\u001b[1;33m:\u001b[0m\u001b[1;33m\u001b[0m\u001b[0m\n\u001b[1;32m---> 11\u001b[1;33m                 \u001b[0mreview_count\u001b[0m \u001b[1;33m=\u001b[0m \u001b[0mget_review_count\u001b[0m\u001b[1;33m(\u001b[0m\u001b[0mlisting_id\u001b[0m\u001b[1;33m)\u001b[0m\u001b[1;33m\u001b[0m\u001b[0m\n\u001b[0m\u001b[0;32m     12\u001b[0m                 \u001b[0mget_reviews\u001b[0m\u001b[1;33m(\u001b[0m\u001b[0mlisting_id\u001b[0m\u001b[1;33m,\u001b[0m\u001b[0mreview_count\u001b[0m\u001b[1;33m)\u001b[0m\u001b[1;33m\u001b[0m\u001b[0m\n\u001b[0;32m     13\u001b[0m                 \u001b[1;32mbreak\u001b[0m\u001b[1;33m\u001b[0m\u001b[0m\n",
      "\u001b[1;32m<ipython-input-204-32a1ad7d305d>\u001b[0m in \u001b[0;36mget_review_count\u001b[1;34m(listing_id, params, url, headers)\u001b[0m\n\u001b[0;32m      3\u001b[0m     \u001b[0mreview_jsn\u001b[0m\u001b[1;33m[\u001b[0m\u001b[0mlisting_id\u001b[0m\u001b[1;33m]\u001b[0m \u001b[1;33m=\u001b[0m \u001b[1;33m[\u001b[0m\u001b[1;33m]\u001b[0m \u001b[1;31m# listing_id 키로 갖는 리뷰리스트 쌓자\u001b[0m\u001b[1;33m\u001b[0m\u001b[0m\n\u001b[0;32m      4\u001b[0m     \u001b[0mparams_local\u001b[0m\u001b[1;33m[\u001b[0m\u001b[1;34m'listing_id'\u001b[0m\u001b[1;33m]\u001b[0m \u001b[1;33m=\u001b[0m \u001b[0mlisting_id\u001b[0m \u001b[1;31m# 리스팅 id를 해당 listing_id로 설정\u001b[0m\u001b[1;33m\u001b[0m\u001b[0m\n\u001b[1;32m----> 5\u001b[1;33m     \u001b[0mlisting_id_res\u001b[0m \u001b[1;33m=\u001b[0m \u001b[0mrequests\u001b[0m\u001b[1;33m.\u001b[0m\u001b[0mget\u001b[0m\u001b[1;33m(\u001b[0m\u001b[0murl\u001b[0m\u001b[1;33m,\u001b[0m \u001b[0mparams\u001b[0m\u001b[1;33m=\u001b[0m\u001b[0mparams_local\u001b[0m\u001b[1;33m,\u001b[0m \u001b[0mheaders\u001b[0m\u001b[1;33m=\u001b[0m\u001b[0mheaders\u001b[0m\u001b[1;33m)\u001b[0m\u001b[1;33m.\u001b[0m\u001b[0mjson\u001b[0m\u001b[1;33m(\u001b[0m\u001b[1;33m)\u001b[0m \u001b[1;31m# 메타데이터 따기위한 request\u001b[0m\u001b[1;33m\u001b[0m\u001b[0m\n\u001b[0m\u001b[0;32m      6\u001b[0m \u001b[1;33m\u001b[0m\u001b[0m\n\u001b[0;32m      7\u001b[0m     \u001b[0mreview_count\u001b[0m\u001b[1;33m=\u001b[0m \u001b[0mlisting_id_res\u001b[0m\u001b[1;33m[\u001b[0m\u001b[1;34m'metadata'\u001b[0m\u001b[1;33m]\u001b[0m\u001b[1;33m[\u001b[0m\u001b[1;34m'reviews_count'\u001b[0m\u001b[1;33m]\u001b[0m \u001b[1;31m# response하는 리뷰개수가 제한적(100개)이므로 리뷰수 따라 조정필요\u001b[0m\u001b[1;33m\u001b[0m\u001b[0m\n",
      "\u001b[1;32m~\\Anaconda3\\lib\\site-packages\\requests\\api.py\u001b[0m in \u001b[0;36mget\u001b[1;34m(url, params, **kwargs)\u001b[0m\n\u001b[0;32m     70\u001b[0m \u001b[1;33m\u001b[0m\u001b[0m\n\u001b[0;32m     71\u001b[0m     \u001b[0mkwargs\u001b[0m\u001b[1;33m.\u001b[0m\u001b[0msetdefault\u001b[0m\u001b[1;33m(\u001b[0m\u001b[1;34m'allow_redirects'\u001b[0m\u001b[1;33m,\u001b[0m \u001b[1;32mTrue\u001b[0m\u001b[1;33m)\u001b[0m\u001b[1;33m\u001b[0m\u001b[0m\n\u001b[1;32m---> 72\u001b[1;33m     \u001b[1;32mreturn\u001b[0m \u001b[0mrequest\u001b[0m\u001b[1;33m(\u001b[0m\u001b[1;34m'get'\u001b[0m\u001b[1;33m,\u001b[0m \u001b[0murl\u001b[0m\u001b[1;33m,\u001b[0m \u001b[0mparams\u001b[0m\u001b[1;33m=\u001b[0m\u001b[0mparams\u001b[0m\u001b[1;33m,\u001b[0m \u001b[1;33m**\u001b[0m\u001b[0mkwargs\u001b[0m\u001b[1;33m)\u001b[0m\u001b[1;33m\u001b[0m\u001b[0m\n\u001b[0m\u001b[0;32m     73\u001b[0m \u001b[1;33m\u001b[0m\u001b[0m\n\u001b[0;32m     74\u001b[0m \u001b[1;33m\u001b[0m\u001b[0m\n",
      "\u001b[1;32m~\\Anaconda3\\lib\\site-packages\\requests\\api.py\u001b[0m in \u001b[0;36mrequest\u001b[1;34m(method, url, **kwargs)\u001b[0m\n\u001b[0;32m     56\u001b[0m     \u001b[1;31m# cases, and look like a memory leak in others.\u001b[0m\u001b[1;33m\u001b[0m\u001b[1;33m\u001b[0m\u001b[0m\n\u001b[0;32m     57\u001b[0m     \u001b[1;32mwith\u001b[0m \u001b[0msessions\u001b[0m\u001b[1;33m.\u001b[0m\u001b[0mSession\u001b[0m\u001b[1;33m(\u001b[0m\u001b[1;33m)\u001b[0m \u001b[1;32mas\u001b[0m \u001b[0msession\u001b[0m\u001b[1;33m:\u001b[0m\u001b[1;33m\u001b[0m\u001b[0m\n\u001b[1;32m---> 58\u001b[1;33m         \u001b[1;32mreturn\u001b[0m \u001b[0msession\u001b[0m\u001b[1;33m.\u001b[0m\u001b[0mrequest\u001b[0m\u001b[1;33m(\u001b[0m\u001b[0mmethod\u001b[0m\u001b[1;33m=\u001b[0m\u001b[0mmethod\u001b[0m\u001b[1;33m,\u001b[0m \u001b[0murl\u001b[0m\u001b[1;33m=\u001b[0m\u001b[0murl\u001b[0m\u001b[1;33m,\u001b[0m \u001b[1;33m**\u001b[0m\u001b[0mkwargs\u001b[0m\u001b[1;33m)\u001b[0m\u001b[1;33m\u001b[0m\u001b[0m\n\u001b[0m\u001b[0;32m     59\u001b[0m \u001b[1;33m\u001b[0m\u001b[0m\n\u001b[0;32m     60\u001b[0m \u001b[1;33m\u001b[0m\u001b[0m\n",
      "\u001b[1;32m~\\Anaconda3\\lib\\site-packages\\requests\\sessions.py\u001b[0m in \u001b[0;36mrequest\u001b[1;34m(self, method, url, params, data, headers, cookies, files, auth, timeout, allow_redirects, proxies, hooks, stream, verify, cert, json)\u001b[0m\n\u001b[0;32m    506\u001b[0m         }\n\u001b[0;32m    507\u001b[0m         \u001b[0msend_kwargs\u001b[0m\u001b[1;33m.\u001b[0m\u001b[0mupdate\u001b[0m\u001b[1;33m(\u001b[0m\u001b[0msettings\u001b[0m\u001b[1;33m)\u001b[0m\u001b[1;33m\u001b[0m\u001b[0m\n\u001b[1;32m--> 508\u001b[1;33m         \u001b[0mresp\u001b[0m \u001b[1;33m=\u001b[0m \u001b[0mself\u001b[0m\u001b[1;33m.\u001b[0m\u001b[0msend\u001b[0m\u001b[1;33m(\u001b[0m\u001b[0mprep\u001b[0m\u001b[1;33m,\u001b[0m \u001b[1;33m**\u001b[0m\u001b[0msend_kwargs\u001b[0m\u001b[1;33m)\u001b[0m\u001b[1;33m\u001b[0m\u001b[0m\n\u001b[0m\u001b[0;32m    509\u001b[0m \u001b[1;33m\u001b[0m\u001b[0m\n\u001b[0;32m    510\u001b[0m         \u001b[1;32mreturn\u001b[0m \u001b[0mresp\u001b[0m\u001b[1;33m\u001b[0m\u001b[0m\n",
      "\u001b[1;32m~\\Anaconda3\\lib\\site-packages\\requests\\sessions.py\u001b[0m in \u001b[0;36msend\u001b[1;34m(self, request, **kwargs)\u001b[0m\n\u001b[0;32m    616\u001b[0m \u001b[1;33m\u001b[0m\u001b[0m\n\u001b[0;32m    617\u001b[0m         \u001b[1;31m# Send the request\u001b[0m\u001b[1;33m\u001b[0m\u001b[1;33m\u001b[0m\u001b[0m\n\u001b[1;32m--> 618\u001b[1;33m         \u001b[0mr\u001b[0m \u001b[1;33m=\u001b[0m \u001b[0madapter\u001b[0m\u001b[1;33m.\u001b[0m\u001b[0msend\u001b[0m\u001b[1;33m(\u001b[0m\u001b[0mrequest\u001b[0m\u001b[1;33m,\u001b[0m \u001b[1;33m**\u001b[0m\u001b[0mkwargs\u001b[0m\u001b[1;33m)\u001b[0m\u001b[1;33m\u001b[0m\u001b[0m\n\u001b[0m\u001b[0;32m    619\u001b[0m \u001b[1;33m\u001b[0m\u001b[0m\n\u001b[0;32m    620\u001b[0m         \u001b[1;31m# Total elapsed time of the request (approximately)\u001b[0m\u001b[1;33m\u001b[0m\u001b[1;33m\u001b[0m\u001b[0m\n",
      "\u001b[1;32m~\\Anaconda3\\lib\\site-packages\\requests\\adapters.py\u001b[0m in \u001b[0;36msend\u001b[1;34m(self, request, stream, timeout, verify, cert, proxies)\u001b[0m\n\u001b[0;32m    438\u001b[0m                     \u001b[0mdecode_content\u001b[0m\u001b[1;33m=\u001b[0m\u001b[1;32mFalse\u001b[0m\u001b[1;33m,\u001b[0m\u001b[1;33m\u001b[0m\u001b[0m\n\u001b[0;32m    439\u001b[0m                     \u001b[0mretries\u001b[0m\u001b[1;33m=\u001b[0m\u001b[0mself\u001b[0m\u001b[1;33m.\u001b[0m\u001b[0mmax_retries\u001b[0m\u001b[1;33m,\u001b[0m\u001b[1;33m\u001b[0m\u001b[0m\n\u001b[1;32m--> 440\u001b[1;33m                     \u001b[0mtimeout\u001b[0m\u001b[1;33m=\u001b[0m\u001b[0mtimeout\u001b[0m\u001b[1;33m\u001b[0m\u001b[0m\n\u001b[0m\u001b[0;32m    441\u001b[0m                 )\n\u001b[0;32m    442\u001b[0m \u001b[1;33m\u001b[0m\u001b[0m\n",
      "\u001b[1;32m~\\Anaconda3\\lib\\site-packages\\urllib3\\connectionpool.py\u001b[0m in \u001b[0;36murlopen\u001b[1;34m(self, method, url, body, headers, retries, redirect, assert_same_host, timeout, pool_timeout, release_conn, chunked, body_pos, **response_kw)\u001b[0m\n\u001b[0;32m    599\u001b[0m                                                   \u001b[0mtimeout\u001b[0m\u001b[1;33m=\u001b[0m\u001b[0mtimeout_obj\u001b[0m\u001b[1;33m,\u001b[0m\u001b[1;33m\u001b[0m\u001b[0m\n\u001b[0;32m    600\u001b[0m                                                   \u001b[0mbody\u001b[0m\u001b[1;33m=\u001b[0m\u001b[0mbody\u001b[0m\u001b[1;33m,\u001b[0m \u001b[0mheaders\u001b[0m\u001b[1;33m=\u001b[0m\u001b[0mheaders\u001b[0m\u001b[1;33m,\u001b[0m\u001b[1;33m\u001b[0m\u001b[0m\n\u001b[1;32m--> 601\u001b[1;33m                                                   chunked=chunked)\n\u001b[0m\u001b[0;32m    602\u001b[0m \u001b[1;33m\u001b[0m\u001b[0m\n\u001b[0;32m    603\u001b[0m             \u001b[1;31m# If we're going to release the connection in ``finally:``, then\u001b[0m\u001b[1;33m\u001b[0m\u001b[1;33m\u001b[0m\u001b[0m\n",
      "\u001b[1;32m~\\Anaconda3\\lib\\site-packages\\urllib3\\connectionpool.py\u001b[0m in \u001b[0;36m_make_request\u001b[1;34m(self, conn, method, url, timeout, chunked, **httplib_request_kw)\u001b[0m\n\u001b[0;32m    381\u001b[0m             \u001b[1;32mexcept\u001b[0m \u001b[0mTypeError\u001b[0m\u001b[1;33m:\u001b[0m  \u001b[1;31m# Python 2.6 and older, Python 3\u001b[0m\u001b[1;33m\u001b[0m\u001b[0m\n\u001b[0;32m    382\u001b[0m                 \u001b[1;32mtry\u001b[0m\u001b[1;33m:\u001b[0m\u001b[1;33m\u001b[0m\u001b[0m\n\u001b[1;32m--> 383\u001b[1;33m                     \u001b[0mhttplib_response\u001b[0m \u001b[1;33m=\u001b[0m \u001b[0mconn\u001b[0m\u001b[1;33m.\u001b[0m\u001b[0mgetresponse\u001b[0m\u001b[1;33m(\u001b[0m\u001b[1;33m)\u001b[0m\u001b[1;33m\u001b[0m\u001b[0m\n\u001b[0m\u001b[0;32m    384\u001b[0m                 \u001b[1;32mexcept\u001b[0m \u001b[0mException\u001b[0m \u001b[1;32mas\u001b[0m \u001b[0me\u001b[0m\u001b[1;33m:\u001b[0m\u001b[1;33m\u001b[0m\u001b[0m\n\u001b[0;32m    385\u001b[0m                     \u001b[1;31m# Remove the TypeError from the exception chain in Python 3;\u001b[0m\u001b[1;33m\u001b[0m\u001b[1;33m\u001b[0m\u001b[0m\n",
      "\u001b[1;32m~\\Anaconda3\\lib\\http\\client.py\u001b[0m in \u001b[0;36mgetresponse\u001b[1;34m(self)\u001b[0m\n\u001b[0;32m   1329\u001b[0m         \u001b[1;32mtry\u001b[0m\u001b[1;33m:\u001b[0m\u001b[1;33m\u001b[0m\u001b[0m\n\u001b[0;32m   1330\u001b[0m             \u001b[1;32mtry\u001b[0m\u001b[1;33m:\u001b[0m\u001b[1;33m\u001b[0m\u001b[0m\n\u001b[1;32m-> 1331\u001b[1;33m                 \u001b[0mresponse\u001b[0m\u001b[1;33m.\u001b[0m\u001b[0mbegin\u001b[0m\u001b[1;33m(\u001b[0m\u001b[1;33m)\u001b[0m\u001b[1;33m\u001b[0m\u001b[0m\n\u001b[0m\u001b[0;32m   1332\u001b[0m             \u001b[1;32mexcept\u001b[0m \u001b[0mConnectionError\u001b[0m\u001b[1;33m:\u001b[0m\u001b[1;33m\u001b[0m\u001b[0m\n\u001b[0;32m   1333\u001b[0m                 \u001b[0mself\u001b[0m\u001b[1;33m.\u001b[0m\u001b[0mclose\u001b[0m\u001b[1;33m(\u001b[0m\u001b[1;33m)\u001b[0m\u001b[1;33m\u001b[0m\u001b[0m\n",
      "\u001b[1;32m~\\Anaconda3\\lib\\http\\client.py\u001b[0m in \u001b[0;36mbegin\u001b[1;34m(self)\u001b[0m\n\u001b[0;32m    295\u001b[0m         \u001b[1;31m# read until we get a non-100 response\u001b[0m\u001b[1;33m\u001b[0m\u001b[1;33m\u001b[0m\u001b[0m\n\u001b[0;32m    296\u001b[0m         \u001b[1;32mwhile\u001b[0m \u001b[1;32mTrue\u001b[0m\u001b[1;33m:\u001b[0m\u001b[1;33m\u001b[0m\u001b[0m\n\u001b[1;32m--> 297\u001b[1;33m             \u001b[0mversion\u001b[0m\u001b[1;33m,\u001b[0m \u001b[0mstatus\u001b[0m\u001b[1;33m,\u001b[0m \u001b[0mreason\u001b[0m \u001b[1;33m=\u001b[0m \u001b[0mself\u001b[0m\u001b[1;33m.\u001b[0m\u001b[0m_read_status\u001b[0m\u001b[1;33m(\u001b[0m\u001b[1;33m)\u001b[0m\u001b[1;33m\u001b[0m\u001b[0m\n\u001b[0m\u001b[0;32m    298\u001b[0m             \u001b[1;32mif\u001b[0m \u001b[0mstatus\u001b[0m \u001b[1;33m!=\u001b[0m \u001b[0mCONTINUE\u001b[0m\u001b[1;33m:\u001b[0m\u001b[1;33m\u001b[0m\u001b[0m\n\u001b[0;32m    299\u001b[0m                 \u001b[1;32mbreak\u001b[0m\u001b[1;33m\u001b[0m\u001b[0m\n",
      "\u001b[1;32m~\\Anaconda3\\lib\\http\\client.py\u001b[0m in \u001b[0;36m_read_status\u001b[1;34m(self)\u001b[0m\n\u001b[0;32m    256\u001b[0m \u001b[1;33m\u001b[0m\u001b[0m\n\u001b[0;32m    257\u001b[0m     \u001b[1;32mdef\u001b[0m \u001b[0m_read_status\u001b[0m\u001b[1;33m(\u001b[0m\u001b[0mself\u001b[0m\u001b[1;33m)\u001b[0m\u001b[1;33m:\u001b[0m\u001b[1;33m\u001b[0m\u001b[0m\n\u001b[1;32m--> 258\u001b[1;33m         \u001b[0mline\u001b[0m \u001b[1;33m=\u001b[0m \u001b[0mstr\u001b[0m\u001b[1;33m(\u001b[0m\u001b[0mself\u001b[0m\u001b[1;33m.\u001b[0m\u001b[0mfp\u001b[0m\u001b[1;33m.\u001b[0m\u001b[0mreadline\u001b[0m\u001b[1;33m(\u001b[0m\u001b[0m_MAXLINE\u001b[0m \u001b[1;33m+\u001b[0m \u001b[1;36m1\u001b[0m\u001b[1;33m)\u001b[0m\u001b[1;33m,\u001b[0m \u001b[1;34m\"iso-8859-1\"\u001b[0m\u001b[1;33m)\u001b[0m\u001b[1;33m\u001b[0m\u001b[0m\n\u001b[0m\u001b[0;32m    259\u001b[0m         \u001b[1;32mif\u001b[0m \u001b[0mlen\u001b[0m\u001b[1;33m(\u001b[0m\u001b[0mline\u001b[0m\u001b[1;33m)\u001b[0m \u001b[1;33m>\u001b[0m \u001b[0m_MAXLINE\u001b[0m\u001b[1;33m:\u001b[0m\u001b[1;33m\u001b[0m\u001b[0m\n\u001b[0;32m    260\u001b[0m             \u001b[1;32mraise\u001b[0m \u001b[0mLineTooLong\u001b[0m\u001b[1;33m(\u001b[0m\u001b[1;34m\"status line\"\u001b[0m\u001b[1;33m)\u001b[0m\u001b[1;33m\u001b[0m\u001b[0m\n",
      "\u001b[1;32m~\\Anaconda3\\lib\\socket.py\u001b[0m in \u001b[0;36mreadinto\u001b[1;34m(self, b)\u001b[0m\n\u001b[0;32m    584\u001b[0m         \u001b[1;32mwhile\u001b[0m \u001b[1;32mTrue\u001b[0m\u001b[1;33m:\u001b[0m\u001b[1;33m\u001b[0m\u001b[0m\n\u001b[0;32m    585\u001b[0m             \u001b[1;32mtry\u001b[0m\u001b[1;33m:\u001b[0m\u001b[1;33m\u001b[0m\u001b[0m\n\u001b[1;32m--> 586\u001b[1;33m                 \u001b[1;32mreturn\u001b[0m \u001b[0mself\u001b[0m\u001b[1;33m.\u001b[0m\u001b[0m_sock\u001b[0m\u001b[1;33m.\u001b[0m\u001b[0mrecv_into\u001b[0m\u001b[1;33m(\u001b[0m\u001b[0mb\u001b[0m\u001b[1;33m)\u001b[0m\u001b[1;33m\u001b[0m\u001b[0m\n\u001b[0m\u001b[0;32m    587\u001b[0m             \u001b[1;32mexcept\u001b[0m \u001b[0mtimeout\u001b[0m\u001b[1;33m:\u001b[0m\u001b[1;33m\u001b[0m\u001b[0m\n\u001b[0;32m    588\u001b[0m                 \u001b[0mself\u001b[0m\u001b[1;33m.\u001b[0m\u001b[0m_timeout_occurred\u001b[0m \u001b[1;33m=\u001b[0m \u001b[1;32mTrue\u001b[0m\u001b[1;33m\u001b[0m\u001b[0m\n",
      "\u001b[1;32m~\\Anaconda3\\lib\\site-packages\\urllib3\\contrib\\pyopenssl.py\u001b[0m in \u001b[0;36mrecv_into\u001b[1;34m(self, *args, **kwargs)\u001b[0m\n\u001b[0;32m    278\u001b[0m     \u001b[1;32mdef\u001b[0m \u001b[0mrecv_into\u001b[0m\u001b[1;33m(\u001b[0m\u001b[0mself\u001b[0m\u001b[1;33m,\u001b[0m \u001b[1;33m*\u001b[0m\u001b[0margs\u001b[0m\u001b[1;33m,\u001b[0m \u001b[1;33m**\u001b[0m\u001b[0mkwargs\u001b[0m\u001b[1;33m)\u001b[0m\u001b[1;33m:\u001b[0m\u001b[1;33m\u001b[0m\u001b[0m\n\u001b[0;32m    279\u001b[0m         \u001b[1;32mtry\u001b[0m\u001b[1;33m:\u001b[0m\u001b[1;33m\u001b[0m\u001b[0m\n\u001b[1;32m--> 280\u001b[1;33m             \u001b[1;32mreturn\u001b[0m \u001b[0mself\u001b[0m\u001b[1;33m.\u001b[0m\u001b[0mconnection\u001b[0m\u001b[1;33m.\u001b[0m\u001b[0mrecv_into\u001b[0m\u001b[1;33m(\u001b[0m\u001b[1;33m*\u001b[0m\u001b[0margs\u001b[0m\u001b[1;33m,\u001b[0m \u001b[1;33m**\u001b[0m\u001b[0mkwargs\u001b[0m\u001b[1;33m)\u001b[0m\u001b[1;33m\u001b[0m\u001b[0m\n\u001b[0m\u001b[0;32m    281\u001b[0m         \u001b[1;32mexcept\u001b[0m \u001b[0mOpenSSL\u001b[0m\u001b[1;33m.\u001b[0m\u001b[0mSSL\u001b[0m\u001b[1;33m.\u001b[0m\u001b[0mSysCallError\u001b[0m \u001b[1;32mas\u001b[0m \u001b[0me\u001b[0m\u001b[1;33m:\u001b[0m\u001b[1;33m\u001b[0m\u001b[0m\n\u001b[0;32m    282\u001b[0m             \u001b[1;32mif\u001b[0m \u001b[0mself\u001b[0m\u001b[1;33m.\u001b[0m\u001b[0msuppress_ragged_eofs\u001b[0m \u001b[1;32mand\u001b[0m \u001b[0me\u001b[0m\u001b[1;33m.\u001b[0m\u001b[0margs\u001b[0m \u001b[1;33m==\u001b[0m \u001b[1;33m(\u001b[0m\u001b[1;33m-\u001b[0m\u001b[1;36m1\u001b[0m\u001b[1;33m,\u001b[0m \u001b[1;34m'Unexpected EOF'\u001b[0m\u001b[1;33m)\u001b[0m\u001b[1;33m:\u001b[0m\u001b[1;33m\u001b[0m\u001b[0m\n",
      "\u001b[1;32m~\\Anaconda3\\lib\\site-packages\\OpenSSL\\SSL.py\u001b[0m in \u001b[0;36mrecv_into\u001b[1;34m(self, buffer, nbytes, flags)\u001b[0m\n\u001b[0;32m   1712\u001b[0m             \u001b[0mresult\u001b[0m \u001b[1;33m=\u001b[0m \u001b[0m_lib\u001b[0m\u001b[1;33m.\u001b[0m\u001b[0mSSL_peek\u001b[0m\u001b[1;33m(\u001b[0m\u001b[0mself\u001b[0m\u001b[1;33m.\u001b[0m\u001b[0m_ssl\u001b[0m\u001b[1;33m,\u001b[0m \u001b[0mbuf\u001b[0m\u001b[1;33m,\u001b[0m \u001b[0mnbytes\u001b[0m\u001b[1;33m)\u001b[0m\u001b[1;33m\u001b[0m\u001b[0m\n\u001b[0;32m   1713\u001b[0m         \u001b[1;32melse\u001b[0m\u001b[1;33m:\u001b[0m\u001b[1;33m\u001b[0m\u001b[0m\n\u001b[1;32m-> 1714\u001b[1;33m             \u001b[0mresult\u001b[0m \u001b[1;33m=\u001b[0m \u001b[0m_lib\u001b[0m\u001b[1;33m.\u001b[0m\u001b[0mSSL_read\u001b[0m\u001b[1;33m(\u001b[0m\u001b[0mself\u001b[0m\u001b[1;33m.\u001b[0m\u001b[0m_ssl\u001b[0m\u001b[1;33m,\u001b[0m \u001b[0mbuf\u001b[0m\u001b[1;33m,\u001b[0m \u001b[0mnbytes\u001b[0m\u001b[1;33m)\u001b[0m\u001b[1;33m\u001b[0m\u001b[0m\n\u001b[0m\u001b[0;32m   1715\u001b[0m         \u001b[0mself\u001b[0m\u001b[1;33m.\u001b[0m\u001b[0m_raise_ssl_error\u001b[0m\u001b[1;33m(\u001b[0m\u001b[0mself\u001b[0m\u001b[1;33m.\u001b[0m\u001b[0m_ssl\u001b[0m\u001b[1;33m,\u001b[0m \u001b[0mresult\u001b[0m\u001b[1;33m)\u001b[0m\u001b[1;33m\u001b[0m\u001b[0m\n\u001b[0;32m   1716\u001b[0m \u001b[1;33m\u001b[0m\u001b[0m\n",
      "\u001b[1;31mKeyboardInterrupt\u001b[0m: "
     ]
    }
   ],
   "source": [
    "if __name__=='__main__':\n",
    "    # 전역변수 초기화\n",
    "    review_jsn ={} \n",
    "    review_cnt_total = 0\n",
    "    except_cnt = 0\n",
    "    \n",
    "    # 반복시작\n",
    "    for listing_id in tqdm(listing_ids):\n",
    "        retry = 2\n",
    "        while retry >0:\n",
    "            try:\n",
    "                review_count = get_review_count(listing_id)\n",
    "                get_reviews(listing_id,review_count)\n",
    "                break\n",
    "            except Exception as e:\n",
    "                except_cnt += 1\n",
    "                print(e.args,e.with_traceback)\n",
    "                retry -= 1\n",
    "                if listing_id in review_jsn.keys():\n",
    "                    del review_jsn[listing_id]\n",
    "                if retry == 0:\n",
    "                    print(\"lising_id {} not stored\".format(listing_id))\n",
    "                    break\n",
    "                continue\n",
    "                \n",
    "        \n",
    "#         print('For this iter');print('# of review:', review_count);print('# of review stored:',len(review_jsn[listing_id]))"
   ]
  },
  {
   "cell_type": "code",
   "execution_count": null,
   "metadata": {},
   "outputs": [],
   "source": []
  },
  {
   "cell_type": "code",
   "execution_count": 215,
   "metadata": {},
   "outputs": [
    {
     "data": {
      "text/plain": [
       "498"
      ]
     },
     "execution_count": 215,
     "metadata": {},
     "output_type": "execute_result"
    }
   ],
   "source": [
    "len(review_jsn.keys())"
   ]
  },
  {
   "cell_type": "code",
   "execution_count": 214,
   "metadata": {},
   "outputs": [
    {
     "data": {
      "text/plain": [
       "7611"
      ]
     },
     "execution_count": 214,
     "metadata": {},
     "output_type": "execute_result"
    }
   ],
   "source": [
    "review_cnt_total"
   ]
  },
  {
   "cell_type": "code",
   "execution_count": 209,
   "metadata": {},
   "outputs": [
    {
     "name": "stdout",
     "output_type": "stream",
     "text": [
      "18551259 69\n",
      "69\n",
      "21841919 28\n",
      "28\n",
      "18518487 25\n",
      "25\n",
      "20835996 45\n",
      "45\n",
      "26311383 20\n",
      "20\n",
      "24399870 6\n",
      "6\n",
      "26165629 19\n",
      "19\n",
      "26260479 15\n",
      "15\n",
      "24535421 10\n",
      "10\n",
      "28422744 11\n",
      "11\n",
      "19914834 64\n",
      "64\n",
      "20679600 57\n",
      "57\n",
      "29509115 5\n",
      "5\n",
      "23439260 9\n",
      "9\n",
      "25064428 12\n",
      "12\n",
      "26038284 24\n",
      "24\n",
      "29502644 2\n",
      "2\n",
      "25065353 14\n",
      "14\n",
      "24159676 16\n",
      "16\n",
      "24901478 9\n",
      "9\n",
      "14715698 64\n",
      "64\n",
      "25064858 2\n",
      "2\n",
      "25291145 4\n",
      "4\n",
      "24901028 11\n",
      "11\n",
      "23751460 23\n",
      "23\n",
      "677424 191\n",
      "191\n",
      "13082759 66\n",
      "66\n",
      "25983022 4\n",
      "4\n",
      "10644346 49\n",
      "49\n",
      "13902596 46\n",
      "46\n",
      "21794339 32\n",
      "32\n",
      "20552862 67\n",
      "67\n",
      "26710519 18\n",
      "18\n",
      "15076829 78\n",
      "78\n",
      "14310194 53\n",
      "53\n",
      "1254326 77\n",
      "77\n",
      "10577796 60\n",
      "60\n",
      "20836209 47\n",
      "47\n",
      "19738793 84\n",
      "84\n",
      "1093295 117\n",
      "117\n",
      "26710859 25\n",
      "25\n",
      "20584786 59\n",
      "59\n",
      "15077442 51\n",
      "51\n",
      "14310332 28\n",
      "28\n",
      "26705129 29\n",
      "29\n",
      "14310466 41\n",
      "41\n",
      "23403825 28\n",
      "28\n",
      "8008577 0\n",
      "0\n",
      "20877202 41\n",
      "41\n",
      "19914927 55\n",
      "55\n",
      "14310134 48\n",
      "48\n",
      "15077441 38\n",
      "38\n",
      "26710028 23\n",
      "23\n",
      "14310098 47\n",
      "47\n",
      "19738905 67\n",
      "67\n",
      "1375433 48\n",
      "48\n",
      "14743122 27\n",
      "27\n",
      "24213426 12\n",
      "12\n",
      "9303687 26\n",
      "26\n",
      "19914733 49\n",
      "49\n",
      "19914890 59\n",
      "59\n",
      "19735702 52\n",
      "52\n",
      "19735808 61\n",
      "61\n",
      "23404634 19\n",
      "19\n",
      "26709697 22\n",
      "22\n",
      "21493428 23\n",
      "23\n",
      "25064108 4\n",
      "4\n",
      "24901655 8\n",
      "8\n",
      "23844556 15\n",
      "15\n",
      "1375385 14\n",
      "14\n",
      "12574481 34\n",
      "34\n",
      "24399994 4\n",
      "4\n",
      "4760766 8\n",
      "8\n",
      "28237886 2\n",
      "2\n",
      "24290988 9\n",
      "9\n",
      "22932908 8\n",
      "8\n",
      "26709213 14\n",
      "14\n",
      "23216250 18\n",
      "18\n",
      "25065521 1\n",
      "1\n",
      "24900932 16\n",
      "16\n",
      "23842256 20\n",
      "20\n",
      "25064502 11\n",
      "11\n",
      "1285404 20\n",
      "20\n",
      "26272786 22\n",
      "22\n",
      "10790686 11\n",
      "11\n",
      "4015302 18\n",
      "18\n",
      "24899048 2\n",
      "2\n",
      "25064649 17\n",
      "17\n",
      "25273052 4\n",
      "4\n",
      "25064722 10\n",
      "10\n",
      "25064308 2\n",
      "2\n",
      "19508727 5\n",
      "5\n",
      "28238648 6\n",
      "6\n",
      "4730903 1\n",
      "1\n",
      "26569919 3\n",
      "3\n",
      "28260463 7\n",
      "7\n",
      "27062133 7\n",
      "7\n",
      "25266092 2\n",
      "2\n",
      "27882914 1\n",
      "1\n",
      "29806648 0\n",
      "0\n",
      "3836358 28\n",
      "28\n",
      "29401333 0\n",
      "0\n",
      "9959342 26\n",
      "26\n",
      "27343800 6\n",
      "6\n",
      "22403212 1\n",
      "1\n",
      "29371238 0\n",
      "0\n",
      "26753982 7\n",
      "7\n",
      "24896749 4\n",
      "4\n",
      "28237129 4\n",
      "4\n",
      "8691951 0\n",
      "0\n",
      "29546043 3\n",
      "3\n",
      "29805562 0\n",
      "0\n",
      "29656582 0\n",
      "0\n",
      "28966635 3\n",
      "3\n",
      "29411364 0\n",
      "0\n",
      "29411180 0\n",
      "0\n",
      "24739320 0\n",
      "0\n",
      "8731014 19\n",
      "19\n",
      "29742658 0\n",
      "0\n",
      "28259109 5\n",
      "5\n",
      "29676123 0\n",
      "0\n",
      "28238147 1\n",
      "1\n",
      "29411271 0\n",
      "0\n",
      "28964273 1\n",
      "1\n",
      "27414865 3\n",
      "3\n",
      "28999685 0\n",
      "0\n",
      "28839123 2\n",
      "2\n",
      "29411034 0\n",
      "0\n",
      "28914886 1\n",
      "1\n",
      "29600944 0\n",
      "0\n",
      "23208239 0\n",
      "0\n",
      "24668562 0\n",
      "0\n",
      "19790405 5\n",
      "5\n",
      "13872471 2\n",
      "2\n",
      "19364010 9\n",
      "9\n",
      "28541382 0\n",
      "0\n",
      "20591561 3\n",
      "3\n",
      "24231883 4\n",
      "4\n",
      "8008264 20\n",
      "20\n",
      "29231850 3\n",
      "3\n",
      "6178580 24\n",
      "24\n",
      "29743423 0\n",
      "0\n",
      "9436356 9\n",
      "9\n",
      "4445054 66\n",
      "66\n",
      "8122828 19\n",
      "19\n",
      "7963607 24\n",
      "24\n",
      "19533651 5\n",
      "5\n",
      "4458525 5\n",
      "5\n",
      "4713037 3\n",
      "3\n",
      "15403668 3\n",
      "3\n",
      "20802216 4\n",
      "4\n",
      "4434933 0\n",
      "0\n",
      "12346687 13\n",
      "13\n",
      "26704246 0\n",
      "0\n",
      "6466793 42\n",
      "42\n",
      "29358081 0\n",
      "0\n",
      "28569311 0\n",
      "0\n",
      "28989746 0\n",
      "0\n",
      "13555942 0\n",
      "0\n",
      "29500796 0\n",
      "0\n",
      "15404826 6\n",
      "6\n",
      "29325575 1\n",
      "1\n",
      "4139314 50\n",
      "50\n",
      "19533580 0\n",
      "0\n",
      "27867848 0\n",
      "0\n",
      "19533610 4\n",
      "4\n",
      "18968551 5\n",
      "5\n",
      "19779854 16\n",
      "16\n",
      "21557981 29\n",
      "29\n",
      "21373451 33\n",
      "33\n",
      "24212698 8\n",
      "8\n",
      "21553773 23\n",
      "23\n",
      "24212459 6\n",
      "6\n",
      "24526176 11\n",
      "11\n",
      "27682159 9\n",
      "9\n",
      "18297872 12\n",
      "12\n",
      "18339000 63\n",
      "63\n",
      "11618416 50\n",
      "50\n",
      "17389112 21\n",
      "21\n",
      "28382161 1\n",
      "1\n",
      "18281385 30\n",
      "30\n",
      "20662649 50\n",
      "50\n",
      "18280954 56\n",
      "56\n",
      "17372566 20\n",
      "20\n",
      "8122890 57\n",
      "57\n",
      "20758853 38\n",
      "38\n",
      "18337574 34\n",
      "34\n",
      "18339114 50\n",
      "50\n",
      "26396631 15\n",
      "15\n",
      "2250833 12\n",
      "12\n",
      "28525842 7\n",
      "7\n",
      "27763873 0\n",
      "0\n",
      "21913884 2\n",
      "2\n",
      "18336722 65\n",
      "65\n",
      "18338593 42\n",
      "42\n",
      "18338344 41\n",
      "41\n",
      "28969844 20\n",
      "20\n",
      "28534072 6\n",
      "6\n",
      "7236665 7\n",
      "7\n",
      "22095523 2\n",
      "2\n",
      "24996599 6\n",
      "6\n",
      "29166913 0\n",
      "0\n",
      "18338819 27\n",
      "27\n",
      "18338452 39\n",
      "39\n",
      "18337651 31\n",
      "31\n",
      "7888646 28\n",
      "28\n",
      "27089421 2\n",
      "2\n",
      "26999013 3\n",
      "3\n",
      "22231293 0\n",
      "0\n",
      "16653631 14\n",
      "14\n",
      "22233853 1\n",
      "1\n",
      "29815423 0\n",
      "0\n",
      "19087710 2\n",
      "2\n",
      "17758822 28\n",
      "28\n",
      "24216448 5\n",
      "5\n",
      "18812337 0\n",
      "0\n",
      "27190333 4\n",
      "4\n",
      "26998733 4\n",
      "4\n",
      "28209273 6\n",
      "6\n",
      "26825136 0\n",
      "0\n",
      "26536351 1\n",
      "1\n",
      "26998864 5\n",
      "5\n",
      "27682151 3\n",
      "3\n",
      "5863431 15\n",
      "15\n",
      "28395219 10\n",
      "10\n",
      "17486457 19\n",
      "19\n",
      "27748694 6\n",
      "6\n",
      "25983596 14\n",
      "14\n",
      "21732024 0\n",
      "0\n",
      "27316735 6\n",
      "6\n",
      "29182355 0\n",
      "0\n",
      "24660666 6\n",
      "6\n",
      "26998529 6\n",
      "6\n",
      "21731650 0\n",
      "0\n",
      "18216908 2\n",
      "2\n",
      "26817547 2\n",
      "2\n",
      "26998133 2\n",
      "2\n",
      "29642457 0\n",
      "0\n",
      "18063184 8\n",
      "8\n",
      "18968154 1\n",
      "1\n",
      "28020507 8\n",
      "8\n",
      "24792948 1\n",
      "1\n",
      "25550940 3\n",
      "3\n",
      "27317175 5\n",
      "5\n",
      "22114021 5\n",
      "5\n",
      "27759359 0\n",
      "0\n",
      "20999924 4\n",
      "4\n",
      "21732003 1\n",
      "1\n",
      "15449720 0\n",
      "0\n",
      "22113781 2\n",
      "2\n",
      "27475962 3\n",
      "3\n",
      "21731961 2\n",
      "2\n",
      "15449566 4\n",
      "4\n",
      "18968338 2\n",
      "2\n",
      "23044032 1\n",
      "1\n",
      "23198754 0\n",
      "0\n",
      "15449879 1\n",
      "1\n",
      "25983608 6\n",
      "6\n",
      "29724087 0\n",
      "0\n",
      "22231071 1\n",
      "1\n",
      "27619209 2\n",
      "2\n",
      "17758945 6\n",
      "6\n",
      "27939058 6\n",
      "6\n",
      "3061839 2\n",
      "2\n",
      "26503783 1\n",
      "1\n",
      "26503409 2\n",
      "2\n",
      "27558945 2\n",
      "2\n",
      "25983036 2\n",
      "2\n",
      "22930754 0\n",
      "0\n",
      "4130099 13\n",
      "13\n",
      "18337449 31\n",
      "31\n",
      "4638997 8\n",
      "8\n",
      "26503506 1\n",
      "1\n",
      "24667000 2\n",
      "2\n",
      "27591392 0\n",
      "0\n",
      "25056818 0\n",
      "0\n",
      "4639042 1\n",
      "1\n",
      "25056537 1\n",
      "1\n",
      "28898287 2\n",
      "2\n",
      "19318445 2\n",
      "2\n",
      "18812195 1\n",
      "1\n",
      "20597259 9\n",
      "9\n",
      "20789969 3\n",
      "3\n",
      "18811998 2\n",
      "2\n",
      "18812444 0\n",
      "0\n",
      "7236494 7\n",
      "7\n",
      "2936899 1\n",
      "1\n",
      "18968468 2\n",
      "2\n",
      "16341679 4\n",
      "4\n",
      "19683297 0\n",
      "0\n",
      "15121860 23\n",
      "23\n",
      "1299037 72\n",
      "72\n",
      "4008197 3\n",
      "3\n",
      "19847273 5\n",
      "5\n",
      "28057815 11\n",
      "11\n",
      "24994724 0\n",
      "0\n",
      "24148301 12\n",
      "12\n",
      "14310710 84\n",
      "84\n",
      "14310550 59\n",
      "59\n",
      "2250805 28\n",
      "28\n",
      "4760891 6\n",
      "6\n",
      "16874749 67\n",
      "67\n",
      "14310670 73\n",
      "73\n",
      "10846064 38\n",
      "38\n",
      "15337227 41\n",
      "41\n",
      "17276496 70\n",
      "70\n",
      "10285208 25\n",
      "25\n",
      "10290135 40\n",
      "40\n",
      "17372933 16\n",
      "16\n",
      "14310594 68\n",
      "68\n",
      "14819280 22\n",
      "22\n",
      "8080023 31\n",
      "31\n",
      "15502871 11\n",
      "11\n",
      "26711154 10\n",
      "10\n",
      "20157151 4\n",
      "4\n",
      "25222784 3\n",
      "3\n",
      "17591809 11\n",
      "11\n",
      "27315279 8\n",
      "8\n",
      "20849467 11\n",
      "11\n",
      "4760611 2\n",
      "2\n",
      "24657917 2\n",
      "2\n",
      "4009594 3\n",
      "3\n",
      "19508665 9\n",
      "9\n",
      "27316506 7\n",
      "7\n",
      "26998027 0\n",
      "0\n",
      "21968492 0\n",
      "0\n",
      "4485266 76\n",
      "76\n",
      "24051812 2\n",
      "2\n",
      "29455317 3\n",
      "3\n",
      "29229414 0\n",
      "0\n",
      "8198616 20\n",
      "20\n",
      "17218626 15\n",
      "15\n",
      "7430664 9\n",
      "9\n",
      "8177951 54\n",
      "54\n",
      "15484036 4\n",
      "4\n",
      "27317387 5\n",
      "5\n",
      "27857658 0\n",
      "0\n",
      "29814266 0\n",
      "0\n",
      "6201394 6\n",
      "6\n",
      "824258 12\n",
      "12\n",
      "26997369 4\n",
      "4\n",
      "28966164 2\n",
      "2\n",
      "27556793 9\n",
      "9\n",
      "21938056 1\n",
      "1\n",
      "26314142 2\n",
      "2\n",
      "16653801 1\n",
      "1\n",
      "26829153 0\n",
      "0\n",
      "26694423 0\n",
      "0\n",
      "25827926 0\n",
      "0\n",
      "25875347 0\n",
      "0\n",
      "26985710 4\n",
      "4\n",
      "14827096 11\n",
      "11\n",
      "27793758 4\n",
      "4\n",
      "28653732 4\n",
      "4\n",
      "28679667 0\n",
      "0\n",
      "26313039 3\n",
      "3\n",
      "29369714 1\n",
      "1\n",
      "26313893 5\n",
      "5\n",
      "28998792 0\n",
      "0\n",
      "23709374 4\n",
      "4\n",
      "29163209 0\n",
      "0\n",
      "29002100 0\n",
      "0\n",
      "28920286 1\n",
      "1\n",
      "26310484 0\n",
      "0\n",
      "18529480 1\n",
      "1\n",
      "29013842 0\n",
      "0\n",
      "27939169 1\n",
      "1\n",
      "12785441 35\n",
      "35\n",
      "27619393 2\n",
      "2\n",
      "25983854 2\n",
      "2\n",
      "24232875 0\n",
      "0\n",
      "14843302 2\n",
      "2\n",
      "24657681 1\n",
      "1\n",
      "14898848 0\n",
      "0\n",
      "14343822 5\n",
      "5\n",
      "26109139 1\n",
      "1\n",
      "5137869 10\n",
      "10\n",
      "22629230 15\n",
      "15\n",
      "25873980 1\n",
      "1\n",
      "8122781 6\n",
      "6\n",
      "29595905 0\n",
      "0\n",
      "24239841 0\n",
      "0\n",
      "26786398 0\n",
      "0\n",
      "16653713 0\n",
      "0\n",
      "17918436 5\n",
      "5\n",
      "26786720 0\n",
      "0\n",
      "26786631 0\n",
      "0\n",
      "5146601 6\n",
      "6\n",
      "26669555 1\n",
      "1\n",
      "20642367 1\n",
      "1\n",
      "19144755 0\n",
      "0\n",
      "23570296 0\n",
      "0\n",
      "17523976 1\n",
      "1\n",
      "15458456 9\n",
      "9\n",
      "27813487 0\n",
      "0\n",
      "28370575 0\n",
      "0\n",
      "23672934 0\n",
      "0\n",
      "6294709 5\n",
      "5\n",
      "8415535 16\n",
      "16\n",
      "25772955 0\n",
      "0\n",
      "7082399 1\n",
      "1\n",
      "5232357 2\n",
      "2\n",
      "21246107 25\n",
      "25\n",
      "27806891 15\n",
      "15\n",
      "6295455 80\n",
      "80\n",
      "7878128 119\n",
      "119\n",
      "21454721 40\n",
      "40\n",
      "6336681 90\n",
      "90\n",
      "24212352 5\n",
      "5\n",
      "27938015 25\n",
      "25\n",
      "29094758 6\n",
      "6\n",
      "29218465 3\n",
      "3\n",
      "29742730 0\n",
      "0\n",
      "25987643 18\n",
      "18\n",
      "4009745 8\n",
      "8\n",
      "3096779 122\n",
      "122\n",
      "14095178 64\n",
      "64\n",
      "1413026 91\n",
      "91\n",
      "28558966 4\n",
      "4\n",
      "19364500 61\n",
      "61\n",
      "19937966 70\n",
      "70\n",
      "5347448 97\n",
      "97\n",
      "2984262 121\n",
      "121\n",
      "8769905 59\n",
      "59\n",
      "23689031 0\n",
      "0\n",
      "6392064 38\n",
      "38\n",
      "13083112 42\n",
      "42\n",
      "28536685 9\n",
      "9\n",
      "3087714 68\n",
      "68\n",
      "24189407 4\n",
      "4\n",
      "23689035 4\n",
      "4\n",
      "8769807 38\n",
      "38\n",
      "24586550 11\n",
      "11\n",
      "3096652 62\n",
      "62\n",
      "22818904 7\n",
      "7\n",
      "25116087 6\n",
      "6\n",
      "835651 6\n",
      "6\n",
      "29094438 4\n",
      "4\n",
      "29629214 0\n",
      "0\n",
      "26711306 10\n",
      "10\n",
      "26064662 6\n",
      "6\n",
      "15072500 16\n",
      "16\n",
      "14453236 26\n",
      "26\n",
      "26505807 3\n",
      "3\n",
      "12096184 20\n",
      "20\n",
      "29593132 0\n",
      "0\n",
      "29013761 0\n",
      "0\n",
      "25134611 5\n",
      "5\n",
      "23029070 10\n",
      "10\n",
      "23569612 19\n",
      "19\n",
      "24664645 8\n",
      "8\n",
      "29801415 1\n",
      "1\n",
      "19956104 25\n",
      "25\n",
      "24130478 8\n",
      "8\n",
      "25814240 3\n",
      "3\n",
      "29690099 1\n",
      "1\n",
      "27178972 6\n",
      "6\n",
      "22819174 1\n",
      "1\n",
      "26335241 2\n",
      "2\n",
      "22516311 6\n",
      "6\n",
      "21816537 5\n",
      "5\n",
      "12073642 0\n",
      "0\n",
      "16656229 15\n",
      "15\n",
      "24441108 4\n",
      "4\n",
      "28350135 3\n",
      "3\n",
      "25134106 4\n",
      "4\n",
      "25983028 6\n",
      "6\n",
      "16660875 6\n",
      "6\n",
      "22510466 2\n",
      "2\n",
      "22852443 2\n",
      "2\n",
      "25222151 1\n",
      "1\n",
      "27123079 5\n",
      "5\n",
      "29576136 0\n",
      "0\n",
      "26111443 2\n",
      "2\n",
      "28238352 4\n",
      "4\n",
      "27315884 10\n",
      "10\n",
      "25175996 6\n",
      "6\n",
      "29815069 0\n",
      "0\n",
      "16542804 11\n",
      "11\n",
      "19088653 13\n",
      "13\n",
      "23436292 4\n",
      "4\n",
      "20021550 1\n",
      "1\n",
      "23330450 1\n",
      "1\n",
      "22818851 1\n",
      "1\n",
      "24720342 0\n",
      "0\n",
      "28138708 0\n",
      "0\n",
      "29604771 0\n",
      "0\n",
      "12096173 0\n",
      "0\n",
      "22167546 13\n",
      "13\n",
      "29193152 1\n",
      "1\n",
      "15001233 5\n",
      "5\n",
      "17493175 6\n",
      "6\n",
      "27122921 7\n",
      "7\n",
      "29206029 0\n",
      "0\n",
      "21649537 1\n",
      "1\n",
      "29597534 0\n",
      "0\n",
      "25828438 6\n",
      "6\n",
      "23591684 0\n",
      "0\n"
     ]
    }
   ],
   "source": [
    "for k,v, in review_jsn.items():\n",
    "    print(k, len(v))\n",
    "    print(len(set([el['id'] for el in v])))"
   ]
  },
  {
   "cell_type": "code",
   "execution_count": null,
   "metadata": {},
   "outputs": [],
   "source": []
  },
  {
   "cell_type": "code",
   "execution_count": null,
   "metadata": {},
   "outputs": [],
   "source": []
  },
  {
   "cell_type": "code",
   "execution_count": 66,
   "metadata": {},
   "outputs": [
    {
     "name": "stderr",
     "output_type": "stream",
     "text": [
      "\n",
      "\n",
      "\n",
      "\n",
      "\n",
      "\n",
      "  0%|                                                                                            | 0/3 [00:00<?, ?it/s]"
     ]
    },
    {
     "name": "stdout",
     "output_type": "stream",
     "text": [
      "204\n",
      "2 4 * =  204\n",
      "iter: 0\n",
      "{'key': 'd306zoyjsyarp7ifhu67rjxn52tv0t20', 'currency': 'KRW', 'locale': 'ko', 'role': 'guest', '_format': 'for_p3', '_limit': '100', '_order': 'recent', 'listing_id': '4186309', '_offset': 0}\n",
      "iter: 1\n",
      "{'key': 'd306zoyjsyarp7ifhu67rjxn52tv0t20', 'currency': 'KRW', 'locale': 'ko', 'role': 'guest', '_format': 'for_p3', '_limit': '100', '_order': 'recent', 'listing_id': '4186309', '_offset': 100}\n",
      "{'key': 'd306zoyjsyarp7ifhu67rjxn52tv0t20', 'currency': 'KRW', 'locale': 'ko', 'role': 'guest', '_format': 'for_p3', '_limit': 4, '_order': 'recent', 'listing_id': '4186309', '_offset': 200}\n"
     ]
    },
    {
     "name": "stderr",
     "output_type": "stream",
     "text": [
      "\n",
      "\n",
      "\n",
      "\n",
      "\n",
      "\n",
      " 33%|████████████████████████████                                                        | 1/3 [00:06<00:12,  6.37s/it]"
     ]
    },
    {
     "name": "stdout",
     "output_type": "stream",
     "text": [
      "200\n",
      "2 0 * =  200\n",
      "iter: 0\n",
      "{'key': 'd306zoyjsyarp7ifhu67rjxn52tv0t20', 'currency': 'KRW', 'locale': 'ko', 'role': 'guest', '_format': 'for_p3', '_limit': 4, '_order': 'recent', 'listing_id': '8008311', '_offset': 0}\n",
      "iter: 1\n",
      "{'key': 'd306zoyjsyarp7ifhu67rjxn52tv0t20', 'currency': 'KRW', 'locale': 'ko', 'role': 'guest', '_format': 'for_p3', '_limit': 4, '_order': 'recent', 'listing_id': '8008311', '_offset': 100}\n",
      "{'key': 'd306zoyjsyarp7ifhu67rjxn52tv0t20', 'currency': 'KRW', 'locale': 'ko', 'role': 'guest', '_format': 'for_p3', '_limit': 0, '_order': 'recent', 'listing_id': '8008311', '_offset': 200}\n"
     ]
    },
    {
     "name": "stderr",
     "output_type": "stream",
     "text": [
      "\n",
      "\n",
      "\n",
      "\n",
      "\n",
      "\n",
      " 67%|████████████████████████████████████████████████████████                            | 2/3 [00:09<00:04,  4.51s/it]"
     ]
    },
    {
     "name": "stdout",
     "output_type": "stream",
     "text": [
      "223\n",
      "2 23 * =  223\n",
      "iter: 0\n",
      "{'key': 'd306zoyjsyarp7ifhu67rjxn52tv0t20', 'currency': 'KRW', 'locale': 'ko', 'role': 'guest', '_format': 'for_p3', '_limit': 0, '_order': 'recent', 'listing_id': '1043588', '_offset': 0}\n",
      "iter: 1\n",
      "{'key': 'd306zoyjsyarp7ifhu67rjxn52tv0t20', 'currency': 'KRW', 'locale': 'ko', 'role': 'guest', '_format': 'for_p3', '_limit': 0, '_order': 'recent', 'listing_id': '1043588', '_offset': 100}\n",
      "{'key': 'd306zoyjsyarp7ifhu67rjxn52tv0t20', 'currency': 'KRW', 'locale': 'ko', 'role': 'guest', '_format': 'for_p3', '_limit': 23, '_order': 'recent', 'listing_id': '1043588', '_offset': 200}\n"
     ]
    },
    {
     "name": "stderr",
     "output_type": "stream",
     "text": [
      "\n",
      "\n",
      "\n",
      "\n",
      "\n",
      "\n",
      "100%|████████████████████████████████████████████████████████████████████████████████████| 3/3 [00:16<00:00,  5.34s/it]\n",
      "\n",
      "\n",
      "\n",
      "\n",
      "\n"
     ]
    }
   ],
   "source": [
    "\n",
    "\n",
    "\n",
    "for listing_id in tqdm(listing_ids): # 숙소id listing_id 대해\n",
    "    review_jsn[listing_id] = [] # listing_id 키로 갖는 리뷰리스트 쌓자\n",
    "    \n",
    "    params['listing_id'] = listing_id # 리스팅 id를 해당 listing_id로 설정\n",
    "    \n",
    "#     retry_cnt = 2 # 최대 2번동안 listing_id에 해당하는 response 요청하겠다 \n",
    "#     while retry_cnt !=0:\n",
    "#         try:\n",
    "    listing_id_res = requests.get(url, params=params, headers=headers).json() # 메타데이터 따기위한 request\n",
    "#             break\n",
    "#         except Exception as e: # response 못받은 경우 retry\n",
    "#             print('retry in listing_id!!',e)\n",
    "#             retry_cnt -= 1\n",
    "#             time.sleep(1)\n",
    "#             continue\n",
    "            \n",
    "    review_count= listing_id_res['metadata']['reviews_count'] # response하는 리뷰개수가 제한적(100개)이므로 리뷰수 따라 조정필요\n",
    "    review_cnt_total += review_count\n",
    "    \n",
    "    print(review_count)\n",
    "    review_count_iter = review_count//100 # 100개단위로 리뷰개수 끊어줌\n",
    "    review_count_rest = review_count%100 # 100개 미만 나머지 리뷰의 수\n",
    "    \n",
    "    print(review_count_iter,review_count_rest,'* = ',(review_count_iter)*100 + review_count_rest)\n",
    "    \n",
    "    for i in range(review_count_iter): # 리뷰개수 100개 단위로 반복\n",
    "        print('iter:',i)\n",
    "        params['_offset'] = 100*i\n",
    "#         retry_cnt = 2\n",
    "        \n",
    "#         while retry_cnt !=0: # 최대 2번 동안 request\n",
    "#             try:\n",
    "        print(params)\n",
    "        res_100_reviews = requests.get(url, params=params, headers=headers).json()\n",
    "        review_jsn[listing_id].extend(res_100_reviews['reviews']) # listing_id 를 key로 100개의 리뷰데이터를 쌓음\n",
    "#                 break\n",
    "#             except Exception as e: # response 못받은 경우 retry\n",
    "#                 print('retry in review!!',e)\n",
    "#                 retry_cnt -= 1\n",
    "#                 time.sleep(1)\n",
    "#                 continue\n",
    "        \n",
    "     \n",
    "        \n",
    "        \n",
    "            \n",
    "    params['_limit'] = review_count_rest # 100개 미만 나머지 리뷰에 대해\n",
    "    params['_offset'] = 100*review_count_iter\n",
    "#     while retry_cnt !=0: # 최대 2번 동안 request\n",
    "#             try:\n",
    "    \n",
    "    print(params)\n",
    "    \n",
    "    res_rest_reviews = requests.get(url, params=params, headers=headers).json()\n",
    "    review_jsn[listing_id].extend(res_rest_reviews['reviews'])\n",
    "#                 break\n",
    "#             except Exception as e: # response 못받은 경우 retry\n",
    "#                 print('retry in review!!',e)\n",
    "#                 retry_cnt -= 1\n",
    "#                 time.sleep(1)\n",
    "#                 continue"
   ]
  },
  {
   "cell_type": "code",
   "execution_count": null,
   "metadata": {},
   "outputs": [],
   "source": []
  },
  {
   "cell_type": "code",
   "execution_count": null,
   "metadata": {},
   "outputs": [],
   "source": []
  },
  {
   "cell_type": "markdown",
   "metadata": {},
   "source": [
    "결과를 json 파일로 저장하자"
   ]
  },
  {
   "cell_type": "code",
   "execution_count": 10,
   "metadata": {},
   "outputs": [],
   "source": [
    "with open('review_seoul.json','w') as fp:\n",
    "    json.dump(review_jsn,fp,ensure_ascii=False)"
   ]
  },
  {
   "cell_type": "markdown",
   "metadata": {},
   "source": [
    "불러오자\n",
    "\n",
    "- review_dict: {listing_id: [review_lst]} 형태이다"
   ]
  },
  {
   "cell_type": "code",
   "execution_count": 11,
   "metadata": {},
   "outputs": [],
   "source": [
    "with open('review_seoul.json','r') as fp:\n",
    "    review_dict = json.load(fp)"
   ]
  },
  {
   "cell_type": "code",
   "execution_count": 13,
   "metadata": {},
   "outputs": [
    {
     "data": {
      "text/plain": [
       "{'collection_tag': None,\n",
       " 'comments': '새벽이 도착했음에도 편안히 잘 쉴수 있었던 공간이었습니다. 반갑게 맞아준 헨리도 기억에 남네요. 너무 늦게 들어가서 놀아줄 시간이 없어 아쉬웠어요^^',\n",
       " 'created_at': '2018-10-06T06:15:10Z',\n",
       " 'id': 332696014,\n",
       " 'language': 'ko',\n",
       " 'localized_date': '2018년 10월',\n",
       " 'rating': 5,\n",
       " 'response': '',\n",
       " 'reviewee': {'deleted': False,\n",
       "  'first_name': 'David',\n",
       "  'host_name': 'David',\n",
       "  'id': 76010772,\n",
       "  'is_superhost': False,\n",
       "  'picture_url': 'https://a0.muscache.com/im/pictures/user/09c053d6-07a4-4c0e-a864-7fce8458baf6.jpg?aki_policy=profile_x_medium',\n",
       "  'profile_path': '/users/show/76010772'},\n",
       " 'reviewer': {'deleted': False,\n",
       "  'first_name': 'Junghee',\n",
       "  'host_name': 'Junghee',\n",
       "  'id': 111507566,\n",
       "  'is_superhost': False,\n",
       "  'picture_url': 'https://a0.muscache.com/im/pictures/c1936b91-a6f7-4702-9db6-48df6ce827f9.jpg?aki_policy=profile_x_medium',\n",
       "  'profile_path': '/users/show/111507566'}}"
      ]
     },
     "execution_count": 13,
     "metadata": {},
     "output_type": "execute_result"
    }
   ],
   "source": [
    "review_dict['18551259'][0]"
   ]
  },
  {
   "cell_type": "code",
   "execution_count": null,
   "metadata": {},
   "outputs": [],
   "source": []
  }
 ],
 "metadata": {
  "kernelspec": {
   "display_name": "Python 3",
   "language": "python",
   "name": "python3"
  },
  "language_info": {
   "codemirror_mode": {
    "name": "ipython",
    "version": 3
   },
   "file_extension": ".py",
   "mimetype": "text/x-python",
   "name": "python",
   "nbconvert_exporter": "python",
   "pygments_lexer": "ipython3",
   "version": "3.6.4"
  }
 },
 "nbformat": 4,
 "nbformat_minor": 2
}
