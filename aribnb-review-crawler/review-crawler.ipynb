{
 "cells": [
  {
   "cell_type": "code",
   "execution_count": 1,
   "metadata": {},
   "outputs": [],
   "source": [
    "import requests\n",
    "import json\n",
    "from tqdm import tqdm"
   ]
  },
  {
   "cell_type": "code",
   "execution_count": 2,
   "metadata": {},
   "outputs": [],
   "source": [
    "url = \"https://www.airbnb.co.kr/api/v2/reviews\"\n",
    "params = {\n",
    "    'key':'d306zoyjsyarp7ifhu67rjxn52tv0t20',\n",
    "    'currency':'KRW',\n",
    "    'locale':'ko',\n",
    "    'listing_id':'6261834',\n",
    "    'role':'guest',\n",
    "    '_format':'for_p3',\n",
    "    '_limit':'100', # 몇개의 게시물을 보여줄 것인가(100개 이하로 설정가능)\n",
    "    '_offset':'0',# 몇번째 게시물부터 시작할 것인가 0부터 시작\n",
    "    '_order':'language_country'}"
   ]
  },
  {
   "cell_type": "markdown",
   "metadata": {},
   "source": [
    "##### https://www.airbnb.co.kr/api/v2/reviews?key=d306zoyjsyarp7ifhu67rjxn52tv0t20&currency=KRW&locale=ko&listing_id=6261834&role=guest&_format=for_p3&_limit=7&_offset=7&_order=language_country"
   ]
  },
  {
   "cell_type": "code",
   "execution_count": 3,
   "metadata": {},
   "outputs": [],
   "source": [
    "response = requests.get(url,params=params).text"
   ]
  },
  {
   "cell_type": "code",
   "execution_count": 4,
   "metadata": {
    "scrolled": true
   },
   "outputs": [],
   "source": [
    "result = json.loads(response)"
   ]
  },
  {
   "cell_type": "markdown",
   "metadata": {},
   "source": [
    "- result:{'reviews', 'metadata'}\n",
    "    -  reviews:[100 items]: {'collection_tag', __'comments'__, 'created_at', __'id'__, 'language', 'localized_date', 'rating', 'response', 'reviewee', __'reviewer'__}\n",
    "    - metadata:{'reviews_count', 'should_show_review_translations'}"
   ]
  },
  {
   "cell_type": "code",
   "execution_count": 5,
   "metadata": {},
   "outputs": [
    {
     "name": "stdout",
     "output_type": "stream",
     "text": [
      "||                 collection_tag || : None\n",
      "||                       comments || : 너무 깨끗하고 좋았습니다.\n",
      "||                     created_at || : 2018-10-29T07:04:45Z\n",
      "||                             id || : 342585456\n",
      "||                       language || : ko\n",
      "||                 localized_date || : 2018년 10월\n",
      "||                         rating || : 5\n",
      "||                       response || : \n",
      "||                       reviewee || : {'deleted': False, 'first_name': '현아', 'host_name': '현아', 'id': 24468677, 'is_superhost': False, 'picture_url': 'https://a0.muscache.com/im/pictures/5af5aaac-5719-4708-8056-b32d76f23b44.jpg?aki_policy=profile_x_medium', 'profile_path': '/users/show/24468677'}\n",
      "||                       reviewer || : {'deleted': False, 'first_name': 'Doohoon', 'host_name': 'Doohoon', 'id': 81515153, 'is_superhost': False, 'picture_url': 'https://a0.muscache.com/im/pictures/user/c9774fbd-6469-4db7-81a1-f374743fcad8.jpg?aki_policy=profile_x_medium', 'profile_path': '/users/show/81515153'}\n"
     ]
    }
   ],
   "source": [
    "for k,v in result['reviews'][0].items():\n",
    "     print(\"|| %30s || : %s\" % (k,v)) # (|| key || : value) 형태로 출력"
   ]
  },
  {
   "cell_type": "code",
   "execution_count": null,
   "metadata": {},
   "outputs": [],
   "source": []
  },
  {
   "cell_type": "markdown",
   "metadata": {},
   "source": [
    "### remarketing_id를 이용한 리뷰데이터 크롤링"
   ]
  },
  {
   "cell_type": "code",
   "execution_count": 6,
   "metadata": {},
   "outputs": [],
   "source": [
    "# 306개 숙소 정보담은 home_jsn_306,json 파일 불러오자\n",
    "with open('home_jsn_306.json','r') as fp: \n",
    "    home_jsn = json.load(fp)"
   ]
  },
  {
   "cell_type": "code",
   "execution_count": 7,
   "metadata": {},
   "outputs": [
    {
     "data": {
      "text/plain": [
       "306"
      ]
     },
     "execution_count": 7,
     "metadata": {},
     "output_type": "execute_result"
    }
   ],
   "source": [
    "# remarketing_ids 라는 key로 숙소 id 리스트가 저장되어있다\n",
    "remarketing_ids = home_jsn['explore_tabs'][0]['home_tab_metadata']['remarketing_ids']\n",
    "len(remarketing_ids)"
   ]
  },
  {
   "cell_type": "markdown",
   "metadata": {},
   "source": [
    "306개 숙소의 모든 리뷰를 긁어오자"
   ]
  },
  {
   "cell_type": "code",
   "execution_count": 8,
   "metadata": {},
   "outputs": [
    {
     "name": "stderr",
     "output_type": "stream",
     "text": [
      "100%|██████████| 306/306 [19:10<00:00,  3.24s/it]\n"
     ]
    }
   ],
   "source": [
    "url = \"https://www.airbnb.co.kr/api/v2/reviews\"\n",
    "headers = {'User-Agent':'Mozilla/5.0 (X11; Linux x86_64) AppleWebKit/537.36 (KHTML, like Gecko) Chrome/70.0.3538.77 Safari/537.36'}\n",
    "# header에 User Agent를 붙여서 bot이 아님을 보여줌\n",
    "\n",
    "params = {\n",
    "        'key':'d306zoyjsyarp7ifhu67rjxn52tv0t20',\n",
    "        'currency':'KRW',\n",
    "        'locale':'ko',\n",
    "#         'listing_id':\n",
    "        'role':'guest',\n",
    "        '_format':'for_p3',\n",
    "        '_limit':'100', # 몇개의 게시물을 보여줄 것인가(100개 이하로 설정가능)\n",
    "#         '_offset':'0',# 몇번째 게시물부터 시작할 것인가 0부터 시작\n",
    "        '_order':'language_country'\n",
    "            }\n",
    "\n",
    "review_jsn ={} # 리뷰데이터를 json으로 저장하기위해 우선 dict 생성\n",
    "\n",
    "for home_id in tqdm(remarketing_ids): # 숙소id home_id에 대해\n",
    "    review_jsn[home_id] = [] # home_id를 키로 갖는 리뷰리스트 쌓자\n",
    "    \n",
    "    params['listing_id'] = home_id # 리스팅 id를 해당 home_id로 설정\n",
    "    \n",
    "    retry_cnt = 2 # 최대 2번동안 home_id에 해당하는 response 요청하겠다 \n",
    "    while retry_cnt !=0:\n",
    "        try:\n",
    "            home_id_res = requests.get(url, params=params, headers=headers).json()\n",
    "            break\n",
    "        except Exception as e: # response 못받은 경우 retry\n",
    "            print('retry in home_id!!',e)\n",
    "            retry_cnt -= 1\n",
    "            time.sleep(2)\n",
    "            continue\n",
    "            \n",
    "    review_count= home_id_res['metadata']['reviews_count']\n",
    "    review_count_iter = review_count//100 # 100개단위로 리뷰개수 끊어줌\n",
    "    review_count_rest = review_count%100 # 100개 미만 나머지 리뷰의 수\n",
    "    \n",
    "    for i in range(review_count_iter): # 리뷰개수 100개 단위로 반복\n",
    "        params['_offset'] = 100*i\n",
    "        retry_cnt = 2\n",
    "        \n",
    "        while retry_cnt !=0: # 최대 2번 동안 request\n",
    "            try:\n",
    "                res_100_reviews = requests.get(url, params=params, headers=headers).json()\n",
    "                break\n",
    "            except Exception as e: # response 못받은 경우 retry\n",
    "                print('retry in review!!',e)\n",
    "                retry_cnt -= 1\n",
    "                time.sleep(2)\n",
    "                continue\n",
    "        \n",
    "     \n",
    "        review_jsn[home_id].extend(res_100_reviews['reviews']) # home_id 를 key로 100개의 리뷰데이터를 쌓음\n",
    "        \n",
    "            \n",
    "    params['limit'] = review_count_rest # 100개 미만 나머지 리뷰에 대해\n",
    "    while retry_cnt !=0: # 최대 2번 동안 request\n",
    "            try:\n",
    "                res_rest_reviews = requests.get(url, params=params, headers=headers).json()\n",
    "                break\n",
    "            except Exception as e: # response 못받은 경우 retry\n",
    "                print('retry in review!!',e)\n",
    "                retry_cnt -= 1\n",
    "                time.sleep(2)\n",
    "                continue\n",
    "                \n",
    "    review_jsn[home_id].extend(res_rest_reviews['reviews'])"
   ]
  },
  {
   "cell_type": "markdown",
   "metadata": {},
   "source": [
    "결과를 json 파일로 저장하자"
   ]
  },
  {
   "cell_type": "code",
   "execution_count": 9,
   "metadata": {},
   "outputs": [],
   "source": [
    "with open('review_jsn_306.json','w') as fp:\n",
    "    json.dump(review_jsn,fp,ensure_ascii=False)"
   ]
  },
  {
   "cell_type": "markdown",
   "metadata": {},
   "source": [
    "불러오자\n",
    "\n",
    "- review_dict: {home_id: [review_lst]} 형태이다"
   ]
  },
  {
   "cell_type": "code",
   "execution_count": 10,
   "metadata": {},
   "outputs": [],
   "source": [
    "with open('review_jsn_306.json','r') as fp:\n",
    "    review_dict = json.load(fp)"
   ]
  },
  {
   "cell_type": "code",
   "execution_count": 11,
   "metadata": {},
   "outputs": [
    {
     "data": {
      "text/plain": [
       "{'collection_tag': None,\n",
       " 'comments': '한국에서 비앤비를 이용해본건 처음이었는데 기대이상으로 너무 좋았어요 :D \\n방은 사진이랑 거의 같았고 크리스마스 분위기에 맞게 설치된 조명과 인원에 맞게 준비해주신 룸슬리퍼, 마스크팩, 직접 손으로 쓴 카드까지!! 감동의 서비스였어요♡.♡\\n여행객들뿐만 아니라 모임이나 파티할 장소가 필요하신 분들에게도 좋은 선택이 될 것 같아요. 서울역 바로앞이라 위치도 정말 좋고 아쉬운 점이 하나도 없는 숙소였네요 :)',\n",
       " 'created_at': '2015-12-25T13:36:37Z',\n",
       " 'id': 57403381,\n",
       " 'language': 'ko',\n",
       " 'localized_date': '2015년 12월',\n",
       " 'rating': 5,\n",
       " 'response': '',\n",
       " 'reviewee': {'deleted': False,\n",
       "  'first_name': 'Kenny & Kelly',\n",
       "  'host_name': 'Kenny & Kelly',\n",
       "  'id': 37875586,\n",
       "  'is_superhost': False,\n",
       "  'picture_url': 'https://a0.muscache.com/im/pictures/user/20a67e57-e49e-493a-965b-8c361e33984d.jpg?aki_policy=profile_x_medium',\n",
       "  'profile_path': '/users/show/37875586'},\n",
       " 'reviewer': {'deleted': False,\n",
       "  'first_name': 'Mijin',\n",
       "  'host_name': 'Mijin',\n",
       "  'id': 21864948,\n",
       "  'is_superhost': False,\n",
       "  'picture_url': 'https://a0.muscache.com/im/users/21864948/profile_pic/1411899978/original.jpg?aki_policy=profile_x_medium',\n",
       "  'profile_path': '/users/show/21864948'}}"
      ]
     },
     "execution_count": 11,
     "metadata": {},
     "output_type": "execute_result"
    }
   ],
   "source": [
    "review_dict['8213750'][0]"
   ]
  },
  {
   "cell_type": "code",
   "execution_count": null,
   "metadata": {},
   "outputs": [],
   "source": []
  }
 ],
 "metadata": {
  "kernelspec": {
   "display_name": "Python 3",
   "language": "python",
   "name": "python3"
  },
  "language_info": {
   "codemirror_mode": {
    "name": "ipython",
    "version": 3
   },
   "file_extension": ".py",
   "mimetype": "text/x-python",
   "name": "python",
   "nbconvert_exporter": "python",
   "pygments_lexer": "ipython3",
   "version": "3.7.0"
  }
 },
 "nbformat": 4,
 "nbformat_minor": 2
}
