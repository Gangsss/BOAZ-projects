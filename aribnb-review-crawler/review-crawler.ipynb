{
 "cells": [
  {
   "cell_type": "code",
   "execution_count": 1,
   "metadata": {},
   "outputs": [],
   "source": [
    "import requests\n",
    "import json\n",
    "from tqdm import tqdm\n",
    "import time"
   ]
  },
  {
   "cell_type": "markdown",
   "metadata": {},
   "source": [
    "예시코드 listing_id = '6261834'"
   ]
  },
  {
   "cell_type": "code",
   "execution_count": 2,
   "metadata": {},
   "outputs": [],
   "source": [
    "url = \"https://www.airbnb.co.kr/api/v2/reviews\"\n",
    "params = {\n",
    "    'key':'d306zoyjsyarp7ifhu67rjxn52tv0t20',\n",
    "    'currency':'KRW',\n",
    "    'locale':'ko',\n",
    "    'listing_id':'6261834',\n",
    "    'role':'guest',\n",
    "    '_format':'for_p3',\n",
    "    '_limit':'100', # 몇개의 게시물을 보여줄 것인가(100개 이하로 설정가능)\n",
    "    '_offset':'0',# 몇번째 게시물부터 시작할 것인가 0부터 시작\n",
    "    '_order':'language_country'}"
   ]
  },
  {
   "cell_type": "markdown",
   "metadata": {},
   "source": [
    "##### https://www.airbnb.co.kr/api/v2/reviews?key=d306zoyjsyarp7ifhu67rjxn52tv0t20&currency=KRW&locale=ko&listing_id=6261834&role=guest&_format=for_p3&_limit=7&_offset=7&_order=language_country"
   ]
  },
  {
   "cell_type": "code",
   "execution_count": 3,
   "metadata": {},
   "outputs": [],
   "source": [
    "response = requests.get(url,params=params).text"
   ]
  },
  {
   "cell_type": "code",
   "execution_count": 4,
   "metadata": {
    "scrolled": true
   },
   "outputs": [],
   "source": [
    "result = json.loads(response)"
   ]
  },
  {
   "cell_type": "markdown",
   "metadata": {},
   "source": [
    "- result:{'reviews', 'metadata'}\n",
    "    -  reviews:[100 items]: {'collection_tag', __'comments'__, 'created_at', __'id'__, 'language', 'localized_date', 'rating', 'response', 'reviewee', __'reviewer'__}\n",
    "    - metadata:{'reviews_count', 'should_show_review_translations'}"
   ]
  },
  {
   "cell_type": "code",
   "execution_count": 5,
   "metadata": {},
   "outputs": [
    {
     "name": "stdout",
     "output_type": "stream",
     "text": [
      "||                 collection_tag || : None\n",
      "||                       comments || : 너무 깨끗하고 좋았습니다.\n",
      "||                     created_at || : 2018-10-29T07:04:45Z\n",
      "||                             id || : 342585456\n",
      "||                       language || : ko\n",
      "||                 localized_date || : 2018년 10월\n",
      "||                         rating || : 5\n",
      "||                       response || : \n",
      "||                       reviewee || : {'deleted': False, 'first_name': '현아', 'host_name': '현아', 'id': 24468677, 'is_superhost': False, 'picture_url': 'https://a0.muscache.com/im/pictures/5af5aaac-5719-4708-8056-b32d76f23b44.jpg?aki_policy=profile_x_medium', 'profile_path': '/users/show/24468677'}\n",
      "||                       reviewer || : {'deleted': False, 'first_name': 'Doohoon', 'host_name': 'Doohoon', 'id': 81515153, 'is_superhost': False, 'picture_url': 'https://a0.muscache.com/im/pictures/user/c9774fbd-6469-4db7-81a1-f374743fcad8.jpg?aki_policy=profile_x_medium', 'profile_path': '/users/show/81515153'}\n"
     ]
    }
   ],
   "source": [
    "for k,v in result['reviews'][0].items():\n",
    "     print(\"|| %30s || : %s\" % (k,v)) # (|| key || : value) 형태로 출력"
   ]
  },
  {
   "cell_type": "code",
   "execution_count": null,
   "metadata": {},
   "outputs": [],
   "source": []
  },
  {
   "cell_type": "markdown",
   "metadata": {},
   "source": [
    "### listing_id 이용한 리뷰데이터 크롤링(서울)"
   ]
  },
  {
   "cell_type": "code",
   "execution_count": 1,
   "metadata": {},
   "outputs": [],
   "source": [
    "import requests\n",
    "import json\n",
    "from tqdm import tqdm\n",
    "import time\n",
    "import os\n",
    "import glob"
   ]
  },
  {
   "cell_type": "code",
   "execution_count": 2,
   "metadata": {},
   "outputs": [
    {
     "data": {
      "text/plain": [
       "'C:\\\\Users\\\\Chankoo\\\\Desktop\\\\GitHub\\\\BOAZ-projects\\\\aribnb-review-crawler'"
      ]
     },
     "execution_count": 2,
     "metadata": {},
     "output_type": "execute_result"
    }
   ],
   "source": [
    "os.getcwd()"
   ]
  },
  {
   "cell_type": "code",
   "execution_count": 3,
   "metadata": {},
   "outputs": [],
   "source": [
    "os.chdir('./../airbnb-data/') # airbnb-data 폴더로 가자"
   ]
  },
  {
   "cell_type": "code",
   "execution_count": 4,
   "metadata": {},
   "outputs": [
    {
     "data": {
      "text/plain": [
       "'C:\\\\Users\\\\Chankoo\\\\Desktop\\\\GitHub\\\\BOAZ-projects\\\\airbnb-data'"
      ]
     },
     "execution_count": 4,
     "metadata": {},
     "output_type": "execute_result"
    }
   ],
   "source": [
    "cwd = os.getcwd()\n",
    "cwd"
   ]
  },
  {
   "cell_type": "code",
   "execution_count": 5,
   "metadata": {},
   "outputs": [],
   "source": [
    "# 14610개 숙소 정보담은 home_jsn_14610.json 파일 불러오자\n",
    "with open(os.path.join(cwd,'home_jsn_14610.json'),'r') as fp: \n",
    "    home_jsn = json.load(fp)"
   ]
  },
  {
   "cell_type": "markdown",
   "metadata": {},
   "source": [
    "14610개 숙소의 모든 리뷰를 긁어오자"
   ]
  },
  {
   "cell_type": "code",
   "execution_count": 6,
   "metadata": {},
   "outputs": [],
   "source": [
    "listing_ids = sorted(list(home_jsn.keys())) # 우선 home_jsn에서 숙소id가져온다"
   ]
  },
  {
   "cell_type": "code",
   "execution_count": 7,
   "metadata": {},
   "outputs": [
    {
     "data": {
      "text/plain": [
       "['10003340',\n",
       " '10010172',\n",
       " '10010532',\n",
       " '1001751',\n",
       " '1001777',\n",
       " '1001811',\n",
       " '1001830',\n",
       " '1001984',\n",
       " '10022309',\n",
       " '10022842']"
      ]
     },
     "execution_count": 7,
     "metadata": {},
     "output_type": "execute_result"
    }
   ],
   "source": [
    "listing_ids[:10] # str 순으로 정렬된 listing_ids"
   ]
  },
  {
   "cell_type": "code",
   "execution_count": null,
   "metadata": {},
   "outputs": [],
   "source": []
  },
  {
   "cell_type": "markdown",
   "metadata": {},
   "source": [
    "전역변수"
   ]
  },
  {
   "cell_type": "code",
   "execution_count": 8,
   "metadata": {},
   "outputs": [],
   "source": [
    "url = \"https://www.airbnb.co.kr/api/v2/reviews\"\n",
    "headers = {'User-Agent':'Mozilla/5.0 (X11; Linux x86_64) AppleWebKit/537.36 (KHTML, like Gecko) Chrome/70.0.3538.77 Safari/537.36'}\n",
    "\n",
    "params = {\n",
    "        'key':'d306zoyjsyarp7ifhu67rjxn52tv0t20',\n",
    "        'role':'guest',\n",
    "        '_format':'for_p3',\n",
    "#         'currency':'KRW',\n",
    "#         'locale':'ko',\n",
    "#         'listing_id':\n",
    "#         '_limit':'100', # 몇개의 게시물을 보여줄 것인가(100개 이하로 설정가능)\n",
    "#         '_offset':'0',# 몇번째 게시물부터 시작할 것인가 0부터 시작\n",
    "#         '_order':'recent'\n",
    "            }\n",
    "\n",
    "review_jsn ={} # 리뷰데이터를 json으로 저장하기위해 우선 dict 생성\n",
    "review_cnt_total = 0"
   ]
  },
  {
   "cell_type": "markdown",
   "metadata": {},
   "source": [
    "listing_id 이용해 숙소의 메타데이터 중 리뷰 수를 가져오는 함수 get_review_count"
   ]
  },
  {
   "cell_type": "code",
   "execution_count": 9,
   "metadata": {},
   "outputs": [],
   "source": [
    "def get_review_count(listing_id,params=params,url=url,headers=headers)->int:\n",
    "    params_local = params.copy()\n",
    "    params_local['listing_id'] = listing_id # 리스팅 id를 해당 listing_id로 설정\n",
    "    listing_id_res = requests.get(url, params=params_local, headers=headers).json() # 메타데이터 따기위한 request\n",
    "    \n",
    "    review_count= listing_id_res['metadata']['reviews_count'] # response하는 리뷰개수가 제한적(100개)이므로 리뷰수 따라 조정필요\n",
    "    \n",
    "    global review_cnt_total \n",
    "    review_cnt_total += review_count # 전역변수 review_cnt_total에 합산\n",
    "    \n",
    "    del params_local\n",
    "    return review_count\n",
    "    "
   ]
  },
  {
   "cell_type": "markdown",
   "metadata": {},
   "source": [
    "listing_id와 review_count 이용해 리뷰를 review_jsn에 저장하는 함수 get_reviews"
   ]
  },
  {
   "cell_type": "code",
   "execution_count": 10,
   "metadata": {},
   "outputs": [],
   "source": [
    "def get_reviews(listing_id,review_count,params=params,url=url,headers=headers):\n",
    "    params_local = params.copy()\n",
    "    params_local['listing_id'] = listing_id\n",
    "    params_local['_limit'] = 100 # 최대 100개 리뷰 보겠다\n",
    "    review_count_iter = review_count//100 # 100개단위로 리뷰개수 끊어줌 -> loop 돌아갈 횟수\n",
    "    review_count_rest = review_count%100 # 100개 미만 나머지 리뷰의 수 -> loop 이후 가져올 나머지 리뷰 \n",
    "    \n",
    "    review_jsn[listing_id] = [] # listing_id 키로 갖는 리뷰리스트 쌓자\n",
    "    \n",
    "    # loop 시작\n",
    "    for i in range(review_count_iter): # 리뷰개수 100개 단위로 반복\n",
    "        params_local['_offset'] = 100*i\n",
    "\n",
    "        res_100_reviews = requests.get(url, params=params_local, headers=headers).json()\n",
    "        review_jsn[listing_id].extend(res_100_reviews['reviews']) # listing_id 를 key로 100개의 리뷰데이터를 쌓음\n",
    "    \n",
    "    # loop 끝 -> 나머지 리뷰 가져오기\n",
    "    if review_count_rest >0:\n",
    "        params_local['_limit'] = review_count_rest # 100개 미만 나머지 리뷰에 대해\n",
    "        params_local['_offset'] = 100*review_count_iter\n",
    "\n",
    "        res_rest_reviews = requests.get(url, params=params_local, headers=headers).json()\n",
    "        review_jsn[listing_id].extend(res_rest_reviews['reviews'])\n",
    "        del params_local"
   ]
  },
  {
   "cell_type": "markdown",
   "metadata": {},
   "source": [
    "메인\n"
   ]
  },
  {
   "cell_type": "code",
   "execution_count": 11,
   "metadata": {},
   "outputs": [
    {
     "data": {
      "text/plain": [
       "{'_format': 'for_p3',\n",
       " 'key': 'd306zoyjsyarp7ifhu67rjxn52tv0t20',\n",
       " 'role': 'guest'}"
      ]
     },
     "execution_count": 11,
     "metadata": {},
     "output_type": "execute_result"
    }
   ],
   "source": [
    "params"
   ]
  },
  {
   "cell_type": "code",
   "execution_count": 15,
   "metadata": {},
   "outputs": [],
   "source": [
    "# 전역변수 초기화\n",
    "review_jsn ={} \n",
    "review_cnt_total = 0\n",
    "except_cnt = 0"
   ]
  },
  {
   "cell_type": "code",
   "execution_count": 24,
   "metadata": {},
   "outputs": [],
   "source": [
    "if __name__=='__main__':\n",
    "    # try_idx 찾기\n",
    "    try_idx = 0\n",
    "    print(os.getcwd()) # './aibnb-data' 임을 확인하자\n",
    "    flist = glob.glob('*_seoul.json') # seoul.json으로 끝나는 파일만 리스트로 가져옴\n",
    "    if flist != []:\n",
    "        try_idx = len(flist)*100\n",
    "    now_try_idx = try_idx # 반복상태 체크위한 now_try_idx 변수\n",
    "    \n",
    "    # 반복시작\n",
    "    listing_ids_loop = listing_ids[try_idx:]\n",
    "    for listing_id in tqdm(listing_ids_loop):\n",
    "        if (now_try_idx % 100) == 99: # now_try_idx 100개 단위로 끊어 저장\n",
    "            with open(os.path.join(os.getcwd(),'review_'+str(try_idx)+'_to_'+str(now_try_idx)+'_seoul.json'),'w',encoding='utf-8') as fp:\n",
    "                try:\n",
    "                    json.dump(review_jsn,fp,ensure_ascii=False) # flush\n",
    "                    \n",
    "                except UnicodeEncodeError as e:\n",
    "                    print(now_try_idx, e)\n",
    "                    json.dump(review_jsn,fp,ensure_ascii=True) # retry\n",
    "                finally:\n",
    "                    review_jsn = {} # 초기화\n",
    "                    try_idx = now_try_idx+1\n",
    "            \n",
    "        retry = 2\n",
    "        while retry >0:\n",
    "            try:\n",
    "                review_count = get_review_count(listing_id)\n",
    "                get_reviews(listing_id,review_count)\n",
    "                break\n",
    "            except Exception as e:\n",
    "                except_cnt += 1\n",
    "                print(e.args,e.with_traceback)\n",
    "                retry -= 1\n",
    "                if listing_id in review_jsn.keys():\n",
    "                    del review_jsn[listing_id]\n",
    "                if retry == 0:\n",
    "                    print(\"lising_id {} not stored\".format(listing_id))\n",
    "                    break\n",
    "                continue\n",
    "            finally:\n",
    "                now_try_idx += 1\n",
    "    \n",
    "    # 마지막 저장 dic flush\n",
    "    with open(os.path.join(os.getcwd(),'review_'+str(try_idx)+'_to_'+str(now_try_idx)+'_seoul.json'),'w',encoding='utf-8') as fp:\n",
    "                json.dump(review_jsn,fp,ensure_ascii=False) # flush\n",
    "                review_jsn = {} # 초기화"
   ]
  },
  {
   "cell_type": "code",
   "execution_count": 20,
   "metadata": {},
   "outputs": [],
   "source": [
    "lst_seoul = glob.glob('*_seoul.json') # 저장된 서울 json파일 리스트로 불러오기"
   ]
  },
  {
   "cell_type": "code",
   "execution_count": 22,
   "metadata": {},
   "outputs": [],
   "source": [
    "reviews = {} # 데이터 모두 합치기\n",
    "for el_seoul in lst_seoul:\n",
    "    with open(el_seoul,'r',encoding='utf-8') as fp:\n",
    "        tmp_dic = json.load(fp)\n",
    "    reviews.update(tmp_dic)"
   ]
  },
  {
   "cell_type": "code",
   "execution_count": 23,
   "metadata": {},
   "outputs": [
    {
     "data": {
      "text/plain": [
       "297"
      ]
     },
     "execution_count": 23,
     "metadata": {},
     "output_type": "execute_result"
    }
   ],
   "source": [
    "len(reviews) # 14610 이면 완료"
   ]
  },
  {
   "cell_type": "code",
   "execution_count": 18,
   "metadata": {},
   "outputs": [
    {
     "data": {
      "text/plain": [
       "11444"
      ]
     },
     "execution_count": 18,
     "metadata": {},
     "output_type": "execute_result"
    }
   ],
   "source": [
    "review_cnt_total"
   ]
  },
  {
   "cell_type": "code",
   "execution_count": 17,
   "metadata": {},
   "outputs": [
    {
     "data": {
      "text/plain": [
       "3"
      ]
     },
     "execution_count": 17,
     "metadata": {},
     "output_type": "execute_result"
    }
   ],
   "source": [
    "except_cnt"
   ]
  },
  {
   "cell_type": "markdown",
   "metadata": {},
   "source": [
    "전체 데이터 저장"
   ]
  },
  {
   "cell_type": "code",
   "execution_count": null,
   "metadata": {},
   "outputs": [],
   "source": [
    "with open('review_seoul_final.json','w') as fp:\n",
    "    json.dump(reviews,fp,ensure_ascii=False)"
   ]
  },
  {
   "cell_type": "code",
   "execution_count": null,
   "metadata": {},
   "outputs": [],
   "source": []
  },
  {
   "cell_type": "code",
   "execution_count": null,
   "metadata": {},
   "outputs": [],
   "source": []
  },
  {
   "cell_type": "markdown",
   "metadata": {},
   "source": [
    "-------------------------------------------------\n",
    "백업"
   ]
  },
  {
   "cell_type": "code",
   "execution_count": 66,
   "metadata": {},
   "outputs": [
    {
     "name": "stderr",
     "output_type": "stream",
     "text": [
      "\n",
      "\n",
      "\n",
      "\n",
      "\n",
      "\n",
      "  0%|                                                                                            | 0/3 [00:00<?, ?it/s]"
     ]
    },
    {
     "name": "stdout",
     "output_type": "stream",
     "text": [
      "204\n",
      "2 4 * =  204\n",
      "iter: 0\n",
      "{'key': 'd306zoyjsyarp7ifhu67rjxn52tv0t20', 'currency': 'KRW', 'locale': 'ko', 'role': 'guest', '_format': 'for_p3', '_limit': '100', '_order': 'recent', 'listing_id': '4186309', '_offset': 0}\n",
      "iter: 1\n",
      "{'key': 'd306zoyjsyarp7ifhu67rjxn52tv0t20', 'currency': 'KRW', 'locale': 'ko', 'role': 'guest', '_format': 'for_p3', '_limit': '100', '_order': 'recent', 'listing_id': '4186309', '_offset': 100}\n",
      "{'key': 'd306zoyjsyarp7ifhu67rjxn52tv0t20', 'currency': 'KRW', 'locale': 'ko', 'role': 'guest', '_format': 'for_p3', '_limit': 4, '_order': 'recent', 'listing_id': '4186309', '_offset': 200}\n"
     ]
    },
    {
     "name": "stderr",
     "output_type": "stream",
     "text": [
      "\n",
      "\n",
      "\n",
      "\n",
      "\n",
      "\n",
      " 33%|████████████████████████████                                                        | 1/3 [00:06<00:12,  6.37s/it]"
     ]
    },
    {
     "name": "stdout",
     "output_type": "stream",
     "text": [
      "200\n",
      "2 0 * =  200\n",
      "iter: 0\n",
      "{'key': 'd306zoyjsyarp7ifhu67rjxn52tv0t20', 'currency': 'KRW', 'locale': 'ko', 'role': 'guest', '_format': 'for_p3', '_limit': 4, '_order': 'recent', 'listing_id': '8008311', '_offset': 0}\n",
      "iter: 1\n",
      "{'key': 'd306zoyjsyarp7ifhu67rjxn52tv0t20', 'currency': 'KRW', 'locale': 'ko', 'role': 'guest', '_format': 'for_p3', '_limit': 4, '_order': 'recent', 'listing_id': '8008311', '_offset': 100}\n",
      "{'key': 'd306zoyjsyarp7ifhu67rjxn52tv0t20', 'currency': 'KRW', 'locale': 'ko', 'role': 'guest', '_format': 'for_p3', '_limit': 0, '_order': 'recent', 'listing_id': '8008311', '_offset': 200}\n"
     ]
    },
    {
     "name": "stderr",
     "output_type": "stream",
     "text": [
      "\n",
      "\n",
      "\n",
      "\n",
      "\n",
      "\n",
      " 67%|████████████████████████████████████████████████████████                            | 2/3 [00:09<00:04,  4.51s/it]"
     ]
    },
    {
     "name": "stdout",
     "output_type": "stream",
     "text": [
      "223\n",
      "2 23 * =  223\n",
      "iter: 0\n",
      "{'key': 'd306zoyjsyarp7ifhu67rjxn52tv0t20', 'currency': 'KRW', 'locale': 'ko', 'role': 'guest', '_format': 'for_p3', '_limit': 0, '_order': 'recent', 'listing_id': '1043588', '_offset': 0}\n",
      "iter: 1\n",
      "{'key': 'd306zoyjsyarp7ifhu67rjxn52tv0t20', 'currency': 'KRW', 'locale': 'ko', 'role': 'guest', '_format': 'for_p3', '_limit': 0, '_order': 'recent', 'listing_id': '1043588', '_offset': 100}\n",
      "{'key': 'd306zoyjsyarp7ifhu67rjxn52tv0t20', 'currency': 'KRW', 'locale': 'ko', 'role': 'guest', '_format': 'for_p3', '_limit': 23, '_order': 'recent', 'listing_id': '1043588', '_offset': 200}\n"
     ]
    },
    {
     "name": "stderr",
     "output_type": "stream",
     "text": [
      "\n",
      "\n",
      "\n",
      "\n",
      "\n",
      "\n",
      "100%|████████████████████████████████████████████████████████████████████████████████████| 3/3 [00:16<00:00,  5.34s/it]\n",
      "\n",
      "\n",
      "\n",
      "\n",
      "\n"
     ]
    }
   ],
   "source": [
    "\n",
    "\n",
    "\n",
    "for listing_id in tqdm(listing_ids): # 숙소id listing_id 대해\n",
    "    review_jsn[listing_id] = [] # listing_id 키로 갖는 리뷰리스트 쌓자\n",
    "    \n",
    "    params['listing_id'] = listing_id # 리스팅 id를 해당 listing_id로 설정\n",
    "    \n",
    "#     retry_cnt = 2 # 최대 2번동안 listing_id에 해당하는 response 요청하겠다 \n",
    "#     while retry_cnt !=0:\n",
    "#         try:\n",
    "    listing_id_res = requests.get(url, params=params, headers=headers).json() # 메타데이터 따기위한 request\n",
    "#             break\n",
    "#         except Exception as e: # response 못받은 경우 retry\n",
    "#             print('retry in listing_id!!',e)\n",
    "#             retry_cnt -= 1\n",
    "#             time.sleep(1)\n",
    "#             continue\n",
    "            \n",
    "    review_count= listing_id_res['metadata']['reviews_count'] # response하는 리뷰개수가 제한적(100개)이므로 리뷰수 따라 조정필요\n",
    "    review_cnt_total += review_count\n",
    "    \n",
    "    print(review_count)\n",
    "    review_count_iter = review_count//100 # 100개단위로 리뷰개수 끊어줌\n",
    "    review_count_rest = review_count%100 # 100개 미만 나머지 리뷰의 수\n",
    "    \n",
    "    print(review_count_iter,review_count_rest,'* = ',(review_count_iter)*100 + review_count_rest)\n",
    "    \n",
    "    for i in range(review_count_iter): # 리뷰개수 100개 단위로 반복\n",
    "        print('iter:',i)\n",
    "        params['_offset'] = 100*i\n",
    "#         retry_cnt = 2\n",
    "        \n",
    "#         while retry_cnt !=0: # 최대 2번 동안 request\n",
    "#             try:\n",
    "        print(params)\n",
    "        res_100_reviews = requests.get(url, params=params, headers=headers).json()\n",
    "        review_jsn[listing_id].extend(res_100_reviews['reviews']) # listing_id 를 key로 100개의 리뷰데이터를 쌓음\n",
    "#                 break\n",
    "#             except Exception as e: # response 못받은 경우 retry\n",
    "#                 print('retry in review!!',e)\n",
    "#                 retry_cnt -= 1\n",
    "#                 time.sleep(1)\n",
    "#                 continue\n",
    "        \n",
    "     \n",
    "        \n",
    "        \n",
    "            \n",
    "    params['_limit'] = review_count_rest # 100개 미만 나머지 리뷰에 대해\n",
    "    params['_offset'] = 100*review_count_iter\n",
    "#     while retry_cnt !=0: # 최대 2번 동안 request\n",
    "#             try:\n",
    "    \n",
    "    print(params)\n",
    "    \n",
    "    res_rest_reviews = requests.get(url, params=params, headers=headers).json()\n",
    "    review_jsn[listing_id].extend(res_rest_reviews['reviews'])\n",
    "#                 break\n",
    "#             except Exception as e: # response 못받은 경우 retry\n",
    "#                 print('retry in review!!',e)\n",
    "#                 retry_cnt -= 1\n",
    "#                 time.sleep(1)\n",
    "#                 continue"
   ]
  },
  {
   "cell_type": "code",
   "execution_count": null,
   "metadata": {},
   "outputs": [],
   "source": []
  },
  {
   "cell_type": "code",
   "execution_count": null,
   "metadata": {},
   "outputs": [],
   "source": []
  }
 ],
 "metadata": {
  "kernelspec": {
   "display_name": "Python 3",
   "language": "python",
   "name": "python3"
  },
  "language_info": {
   "codemirror_mode": {
    "name": "ipython",
    "version": 3
   },
   "file_extension": ".py",
   "mimetype": "text/x-python",
   "name": "python",
   "nbconvert_exporter": "python",
   "pygments_lexer": "ipython3",
   "version": "3.6.4"
  }
 },
 "nbformat": 4,
 "nbformat_minor": 2
}
