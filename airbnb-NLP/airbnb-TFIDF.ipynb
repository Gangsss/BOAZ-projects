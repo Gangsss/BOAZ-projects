{
 "cells": [
  {
   "cell_type": "code",
   "execution_count": 46,
   "metadata": {},
   "outputs": [],
   "source": [
    "import os\n",
    "import json\n",
    "import tqdm\n",
    "from multiprocessing import Pool\n",
    "import pickle\n",
    "from math import log2"
   ]
  },
  {
   "cell_type": "code",
   "execution_count": 3,
   "metadata": {},
   "outputs": [
    {
     "data": {
      "text/plain": [
       "'C:\\\\Users\\\\Chankoo\\\\Desktop\\\\GitHub\\\\BOAZ-projects\\\\airbnb-NLP'"
      ]
     },
     "execution_count": 3,
     "metadata": {},
     "output_type": "execute_result"
    }
   ],
   "source": [
    "os.getcwd()"
   ]
  },
  {
   "cell_type": "code",
   "execution_count": 6,
   "metadata": {},
   "outputs": [],
   "source": [
    "os.chdir('./../airbnb-data')"
   ]
  },
  {
   "cell_type": "code",
   "execution_count": 9,
   "metadata": {},
   "outputs": [],
   "source": [
    "with open('pos_review.json') as fp:\n",
    "    review = json.load(fp)"
   ]
  },
  {
   "cell_type": "code",
   "execution_count": 11,
   "metadata": {},
   "outputs": [],
   "source": [
    "with open('voca_freq_dic.json') as fp:\n",
    "    voca_freq_dic = json.load(fp)"
   ]
  },
  {
   "cell_type": "code",
   "execution_count": 15,
   "metadata": {},
   "outputs": [],
   "source": [
    "voca_freq_dic2 = {}\n",
    "for k,v in voca_freq_dic.items():\n",
    "    if v>9:\n",
    "        voca_freq_dic2[k] = v"
   ]
  },
  {
   "cell_type": "code",
   "execution_count": 16,
   "metadata": {},
   "outputs": [],
   "source": [
    "unq_tokens = list(voca_freq_dic2.keys())"
   ]
  },
  {
   "cell_type": "code",
   "execution_count": 17,
   "metadata": {},
   "outputs": [
    {
     "data": {
      "text/plain": [
       "22384"
      ]
     },
     "execution_count": 17,
     "metadata": {},
     "output_type": "execute_result"
    }
   ],
   "source": [
    "len(unq_tokens)"
   ]
  },
  {
   "cell_type": "code",
   "execution_count": 31,
   "metadata": {},
   "outputs": [],
   "source": [
    "reviews_tokens = {} # key를 'listingID_reviewIDX'로 갖는 word-freq 딕셔너리\n",
    "maxCount = {}\n",
    "for k,rev_lst in review.items():\n",
    "        for i,rev in enumerate(rev_lst):\n",
    "            rev_tokens = {}\n",
    "            maxCount[k+'_'+str(i)] = 0\n",
    "            for sent in rev[1]:\n",
    "                for w in sent:\n",
    "                    if w in rev_tokens:\n",
    "                        rev_tokens[w] += 1\n",
    "                    else:\n",
    "                        rev_tokens[w] = 1\n",
    "                        \n",
    "                    if maxCount[k+'_'+str(i)] < rev_tokens[w]:\n",
    "                        maxCount[k+'_'+str(i)] = rev_tokens[w]\n",
    "            \n",
    "            reviews_tokens[k+'_'+str(i)] = rev_tokens"
   ]
  },
  {
   "cell_type": "code",
   "execution_count": 32,
   "metadata": {},
   "outputs": [
    {
     "data": {
      "text/plain": [
       "('10030136_1',\n",
       " {'bedroom_N': 1,\n",
       "  'caught_J': 1,\n",
       "  'doubledecked_J': 1,\n",
       "  'fortunately_R': 1,\n",
       "  'go_V': 1,\n",
       "  'good_J': 1,\n",
       "  'modern_J': 1,\n",
       "  'occupy_V': 1,\n",
       "  'pretty_R': 1,\n",
       "  'room_N': 3,\n",
       "  'see_V': 1,\n",
       "  'spacious_J': 2,\n",
       "  'technologicaloverall_N': 1,\n",
       "  'typhoon_N': 1,\n",
       "  'windowsthe_N': 1,\n",
       "  'windowwhen_V': 1})"
      ]
     },
     "execution_count": 32,
     "metadata": {},
     "output_type": "execute_result"
    }
   ],
   "source": [
    "list(reviews_tokens.items())[1]"
   ]
  },
  {
   "cell_type": "code",
   "execution_count": 33,
   "metadata": {},
   "outputs": [
    {
     "data": {
      "text/plain": [
       "3"
      ]
     },
     "execution_count": 33,
     "metadata": {},
     "output_type": "execute_result"
    }
   ],
   "source": [
    "maxCount['10030136_1']"
   ]
  },
  {
   "cell_type": "code",
   "execution_count": 38,
   "metadata": {},
   "outputs": [
    {
     "name": "stderr",
     "output_type": "stream",
     "text": [
      "100%|████████████████████████████████████████████████████████████████████████████| 22384/22384 [42:55<00:00,  8.69it/s]\n"
     ]
    }
   ],
   "source": [
    "# # token을 k로 token이 등장한 doc의 리스트를 val로 갖는 invertedIdx 만들자\n",
    "# 시간이 좀 걸린다\n",
    "\n",
    "invertedIdx = {}\n",
    "for token in tqdm.tqdm(unq_tokens):\n",
    "    invertedIdx[token] = []\n",
    "    for k,v in reviews_tokens.items():\n",
    "        if token in v:\n",
    "            invertedIdx[token].append(k)"
   ]
  },
  {
   "cell_type": "code",
   "execution_count": 41,
   "metadata": {},
   "outputs": [],
   "source": [
    "with open('invertedIdx.dic','wb') as file: \n",
    "    pickle.dump(invertedIdx,file)"
   ]
  },
  {
   "cell_type": "code",
   "execution_count": 42,
   "metadata": {},
   "outputs": [],
   "source": [
    "with open('invertedIdx.dic','rb') as file: \n",
    "    invertedIdx = pickle.load(file)"
   ]
  },
  {
   "cell_type": "code",
   "execution_count": 48,
   "metadata": {},
   "outputs": [],
   "source": [
    "K = 0.5 # K + (1-K)*(f(t,d)/maxf(t,d)) 최솟값 0.5, 최댓값 1 \n",
    "TF = {}\n",
    "for k,v in reviews_tokens.items():\n",
    "    tfList = {}\n",
    "    \n",
    "    for w in v:\n",
    "        if w not in voca_freq_dic2:\n",
    "            continue\n",
    "        tfList[w] =  K + (1-K)*(v[w]/maxCount[k])\n",
    "#         print('{0} | {1} + {2} *({3}/{4})  =  {5}'.format(\n",
    "#             w, K, (1-K), v[w], maxCount[k], tfList[w]\n",
    "#         ))\n",
    "        \n",
    "    TF[k] = tfList"
   ]
  },
  {
   "cell_type": "code",
   "execution_count": 49,
   "metadata": {},
   "outputs": [],
   "source": [
    "docSize = len(reviews_tokens)\n",
    "TFIDF = {}\n",
    "\"\"\"\n",
    "TF = doc1|{단어1:0.54, 단어2:056 ...} \n",
    "\"\"\"\n",
    "for (k,v) in TF.items():\n",
    "    idfList = {}\n",
    "    for t in v:\n",
    "        idf = log2(docSize/len(invertedIdx[t]))\n",
    "        idfList[t] = v[t] * idf\n",
    "#         print('{0} | {1} * log({2} / {3}) = {4}'.format(\n",
    "#             t, v[t], docSize, len(invertedIdx[t]), idfList[t]\n",
    "#         ))\n",
    "    \n",
    "    TFIDF[k] = idfList"
   ]
  },
  {
   "cell_type": "code",
   "execution_count": 57,
   "metadata": {},
   "outputs": [
    {
     "data": {
      "text/plain": [
       "('10030136_1',\n",
       " {'bedroom_N': 4.493337722366502,\n",
       "  'caught_J': 8.562412128595014,\n",
       "  'doubledecked_J': 8.970365160809298,\n",
       "  'fortunately_R': 7.005007441890266,\n",
       "  'go_V': 1.9353974236098639,\n",
       "  'good_J': 1.222203961561637,\n",
       "  'modern_J': 4.589506784926579,\n",
       "  'occupy_V': 7.810575097129433,\n",
       "  'pretty_R': 3.2796436724419538,\n",
       "  'room_N': 2.346739763742937,\n",
       "  'see_V': 3.156772180231429,\n",
       "  'spacious_J': 4.031257166144196,\n",
       "  'typhoon_N': 6.641254049674895,\n",
       "  'windowsthe_N': 10.574360067259857})"
      ]
     },
     "execution_count": 57,
     "metadata": {},
     "output_type": "execute_result"
    }
   ],
   "source": [
    "list(TFIDF.items())[1]"
   ]
  },
  {
   "cell_type": "code",
   "execution_count": 55,
   "metadata": {},
   "outputs": [],
   "source": [
    "with open('TFIDF_22384.dic','wb') as file: #TFIDF 결과를 저장\n",
    "    pickle.dump(TFIDF, file)"
   ]
  },
  {
   "cell_type": "code",
   "execution_count": null,
   "metadata": {},
   "outputs": [],
   "source": []
  },
  {
   "cell_type": "code",
   "execution_count": null,
   "metadata": {},
   "outputs": [],
   "source": []
  },
  {
   "cell_type": "code",
   "execution_count": null,
   "metadata": {},
   "outputs": [],
   "source": []
  },
  {
   "cell_type": "code",
   "execution_count": null,
   "metadata": {},
   "outputs": [],
   "source": []
  }
 ],
 "metadata": {
  "kernelspec": {
   "display_name": "Python 3",
   "language": "python",
   "name": "python3"
  },
  "language_info": {
   "codemirror_mode": {
    "name": "ipython",
    "version": 3
   },
   "file_extension": ".py",
   "mimetype": "text/x-python",
   "name": "python",
   "nbconvert_exporter": "python",
   "pygments_lexer": "ipython3",
   "version": "3.6.4"
  }
 },
 "nbformat": 4,
 "nbformat_minor": 2
}
