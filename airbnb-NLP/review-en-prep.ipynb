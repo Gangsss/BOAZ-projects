{
 "cells": [
  {
   "cell_type": "code",
   "execution_count": 1,
   "metadata": {},
   "outputs": [],
   "source": [
    "import os\n",
    "import glob\n",
    "import json\n",
    "import nltk\n",
    "from nltk import sent_tokenize\n",
    "from nltk.stem import WordNetLemmatizer\n",
    "\n",
    "import tqdm"
   ]
  },
  {
   "cell_type": "code",
   "execution_count": 22,
   "metadata": {},
   "outputs": [],
   "source": [
    "# nltk.download('punkt')\n",
    "# nltk.download('wordnet')\n",
    "# nltk.download('tagsets')\n",
    "# nltk.download('stopword')\n",
    "# nltk.download('maxent_treebank_pos_tagger')\n",
    "# nltk.download('averaged_perceptron_tagger')"
   ]
  },
  {
   "cell_type": "code",
   "execution_count": 3,
   "metadata": {},
   "outputs": [
    {
     "data": {
      "text/plain": [
       "'C:\\\\Users\\\\Chankoo\\\\Desktop\\\\GitHub\\\\BOAZ-projects\\\\airbnb-NLP'"
      ]
     },
     "execution_count": 3,
     "metadata": {},
     "output_type": "execute_result"
    }
   ],
   "source": [
    "os.getcwd()"
   ]
  },
  {
   "cell_type": "code",
   "execution_count": 4,
   "metadata": {},
   "outputs": [],
   "source": [
    "os.chdir('./../airbnb-data')"
   ]
  },
  {
   "cell_type": "code",
   "execution_count": 8,
   "metadata": {},
   "outputs": [
    {
     "data": {
      "text/plain": [
       "['review_busan_70028.json',\n",
       " 'review_daegu_33689.json',\n",
       " 'review_jeju_143957.json',\n",
       " 'review_jeonju_13647.json',\n",
       " 'review_seogwipo_51728.json',\n",
       " 'review_seoul_326990.json']"
      ]
     },
     "execution_count": 8,
     "metadata": {},
     "output_type": "execute_result"
    }
   ],
   "source": [
    "file_lst = glob.glob('review_*_*.json')\n",
    "file_lst"
   ]
  },
  {
   "cell_type": "code",
   "execution_count": 9,
   "metadata": {},
   "outputs": [],
   "source": [
    "review = {}\n",
    "for file in file_lst:\n",
    "    with open(file,'r',encoding='utf-8') as fp:\n",
    "        review.update(json.load(fp))"
   ]
  },
  {
   "cell_type": "code",
   "execution_count": 10,
   "metadata": {},
   "outputs": [
    {
     "data": {
      "text/plain": [
       "28853"
      ]
     },
     "execution_count": 10,
     "metadata": {},
     "output_type": "execute_result"
    }
   ],
   "source": [
    "len(review)"
   ]
  },
  {
   "cell_type": "code",
   "execution_count": 16,
   "metadata": {},
   "outputs": [],
   "source": [
    "review_en = {}\n",
    "for home_id,rev_lst in review.items():\n",
    "    review_en[home_id] = []\n",
    "    for rev in rev_lst:\n",
    "        if rev['language']=='en':\n",
    "            review_en[home_id].append([rev['rating'],rev['comments']])\n",
    "        else:\n",
    "            continue"
   ]
  },
  {
   "cell_type": "code",
   "execution_count": 17,
   "metadata": {},
   "outputs": [
    {
     "data": {
      "text/plain": [
       "[[4,\n",
       "  \"It's a great experience staying at Hanuel's house. It's clean, kitchen is equipped with basic needs. Finding this place isn't hard as well, and it's really a good point that it's close to the airport.\\r\\n\\r\\nThere's some really good restaurant around the house. We had a good bbq duck meal and it's awesome!\\r\\n\\r\\nWould recommend this to anyone who like to visit Jeju!\"]]"
      ]
     },
     "execution_count": 17,
     "metadata": {},
     "output_type": "execute_result"
    }
   ],
   "source": [
    "review_en['10008511']"
   ]
  },
  {
   "cell_type": "code",
   "execution_count": 18,
   "metadata": {},
   "outputs": [
    {
     "data": {
      "text/plain": [
       "[\"It's a great experience staying at Hanuel's house.\",\n",
       " \"It's clean, kitchen is equipped with basic needs.\",\n",
       " \"Finding this place isn't hard as well, and it's really a good point that it's close to the airport.\",\n",
       " \"There's some really good restaurant around the house.\",\n",
       " \"We had a good bbq duck meal and it's awesome!\",\n",
       " 'Would recommend this to anyone who like to visit Jeju!']"
      ]
     },
     "execution_count": 18,
     "metadata": {},
     "output_type": "execute_result"
    }
   ],
   "source": [
    "sent_tokenize(review_en['10008511'][0][1])"
   ]
  },
  {
   "cell_type": "code",
   "execution_count": 19,
   "metadata": {},
   "outputs": [
    {
     "name": "stdout",
     "output_type": "stream",
     "text": [
      "Wall time: 31.6 s\n"
     ]
    }
   ],
   "source": [
    "%%time\n",
    "# 리뷰별 문장단위 tokenizing\n",
    "for home_id,rev_lst in review_en.items():\n",
    "    for rev in rev_lst:\n",
    "        rev[1] = sent_tokenize(rev[1])"
   ]
  },
  {
   "cell_type": "code",
   "execution_count": 27,
   "metadata": {},
   "outputs": [],
   "source": [
    "%%time \n",
    "# 문장별 단어단위 tokenizing\n",
    "for home_id,rev_lst in review_en.items(): \n",
    "    for rev in rev_lst:\n",
    "        tmp_lst = []\n",
    "        for sent in rev[1]:\n",
    "            word_lst = nltk.word_tokenize(sent)\n",
    "            tmp_lst.append(word_lst)\n",
    "        rev[1] = tmp_lst"
   ]
  },
  {
   "cell_type": "code",
   "execution_count": 26,
   "metadata": {},
   "outputs": [
    {
     "data": {
      "text/plain": [
       "[('It', 'PRP'),\n",
       " (\"'s\", 'VBZ'),\n",
       " ('a', 'DT'),\n",
       " ('great', 'JJ'),\n",
       " ('experience', 'NN'),\n",
       " ('staying', 'VBG'),\n",
       " ('at', 'IN'),\n",
       " ('Hanuel', 'NNP'),\n",
       " (\"'s\", 'POS'),\n",
       " ('house', 'NN'),\n",
       " ('.', '.')]"
      ]
     },
     "execution_count": 26,
     "metadata": {},
     "output_type": "execute_result"
    }
   ],
   "source": [
    "nltk.pos_tag(review_en['10008511'][0][1][0])"
   ]
  },
  {
   "cell_type": "code",
   "execution_count": null,
   "metadata": {},
   "outputs": [],
   "source": []
  },
  {
   "cell_type": "code",
   "execution_count": 29,
   "metadata": {},
   "outputs": [
    {
     "name": "stderr",
     "output_type": "stream",
     "text": [
      "100%|████████████████████████████████████████████████████████████████████████████| 28853/28853 [27:01<00:00, 17.80it/s]\n"
     ]
    }
   ],
   "source": [
    "for home_id,rev_lst in tqdm.tqdm(review_en.items()):\n",
    "    for rev in rev_lst:\n",
    "        tmp_lst = []\n",
    "        for sent_bow in rev[1]:\n",
    "            sent_pos = nltk.pos_tag(sent_bow)\n",
    "            tmp_lst.append(sent_pos)\n",
    "        rev[1] = tmp_lst"
   ]
  },
  {
   "cell_type": "markdown",
   "metadata": {},
   "source": [
    "### 데이터 구조를 보자\n",
    "\n",
    "- review_en == {home_id: [rev0, rev1, ...]}\n",
    "    - rev0 == [rating, [sent0, sent1, ...]]\n",
    "        - sent0 == [(word0,POS0),(word1,POS1), ...]\n",
    "    "
   ]
  },
  {
   "cell_type": "code",
   "execution_count": 30,
   "metadata": {},
   "outputs": [
    {
     "data": {
      "text/plain": [
       "[4,\n",
       " [[('Kyungsoon', 'NNP'),\n",
       "   ('’', 'NNP'),\n",
       "   ('s', 'JJ'),\n",
       "   ('place', 'NN'),\n",
       "   ('is', 'VBZ'),\n",
       "   ('located', 'VBN'),\n",
       "   ('at', 'IN'),\n",
       "   ('a', 'DT'),\n",
       "   ('quiet', 'JJ'),\n",
       "   ('and', 'CC'),\n",
       "   ('peaceful', 'JJ'),\n",
       "   ('neighborhood', 'NN'),\n",
       "   ('not', 'RB'),\n",
       "   ('far', 'RB'),\n",
       "   ('from', 'IN'),\n",
       "   ('the', 'DT'),\n",
       "   ('city', 'NN'),\n",
       "   ('.', '.')],\n",
       "  [('Recommended', 'VBN'),\n",
       "   ('to', 'TO'),\n",
       "   ('those', 'DT'),\n",
       "   ('who', 'WP'),\n",
       "   ('have', 'VBP'),\n",
       "   ('rent', 'VBN'),\n",
       "   ('a', 'DT'),\n",
       "   ('car', 'NN'),\n",
       "   (',', ','),\n",
       "   ('the', 'DT'),\n",
       "   ('parking', 'VBG'),\n",
       "   ('area', 'NN'),\n",
       "   ('is', 'VBZ'),\n",
       "   ('spacious', 'JJ'),\n",
       "   ('.', '.')],\n",
       "  [('The', 'DT'),\n",
       "   ('house', 'NN'),\n",
       "   ('is', 'VBZ'),\n",
       "   ('clean', 'JJ'),\n",
       "   ('and', 'CC'),\n",
       "   ('comfortable', 'JJ'),\n",
       "   ('.', '.')],\n",
       "  [('We', 'PRP'),\n",
       "   ('are', 'VBP'),\n",
       "   ('a', 'DT'),\n",
       "   ('group', 'NN'),\n",
       "   ('of', 'IN'),\n",
       "   ('4', 'CD'),\n",
       "   (',', ','),\n",
       "   ('the', 'DT'),\n",
       "   ('house', 'NN'),\n",
       "   ('is', 'VBZ'),\n",
       "   ('just', 'RB'),\n",
       "   ('nice', 'JJ'),\n",
       "   ('for', 'IN'),\n",
       "   ('us', 'PRP'),\n",
       "   ('.', '.')],\n",
       "  [('The', 'DT'),\n",
       "   ('outside', 'JJ'),\n",
       "   ('view', 'NN'),\n",
       "   ('is', 'VBZ'),\n",
       "   ('beautiful', 'JJ'),\n",
       "   ('.', '.')]]]"
      ]
     },
     "execution_count": 30,
     "metadata": {},
     "output_type": "execute_result"
    }
   ],
   "source": [
    "review_en['10022410'][0] # rev0의 예시"
   ]
  },
  {
   "cell_type": "markdown",
   "metadata": {},
   "source": [
    "unpacking과 zip 함수 이용해 rating과 review를 각각을 뽑아 리스트로 만들 수도 있다"
   ]
  },
  {
   "cell_type": "code",
   "execution_count": 81,
   "metadata": {},
   "outputs": [],
   "source": [
    "rating_lst, rev_lst = zip(*review_en['10022410'])"
   ]
  },
  {
   "cell_type": "code",
   "execution_count": 89,
   "metadata": {},
   "outputs": [
    {
     "data": {
      "text/plain": [
       "(4, 5, 5, 5, 5)"
      ]
     },
     "execution_count": 89,
     "metadata": {},
     "output_type": "execute_result"
    }
   ],
   "source": [
    "rating_lst[:5]"
   ]
  },
  {
   "cell_type": "code",
   "execution_count": 85,
   "metadata": {},
   "outputs": [
    {
     "data": {
      "text/plain": [
       "[[('Kyungsoon', 'NNP'),\n",
       "  ('’', 'NNP'),\n",
       "  ('s', 'JJ'),\n",
       "  ('place', 'NN'),\n",
       "  ('is', 'VBZ'),\n",
       "  ('located', 'VBN'),\n",
       "  ('at', 'IN'),\n",
       "  ('a', 'DT'),\n",
       "  ('quiet', 'JJ'),\n",
       "  ('and', 'CC'),\n",
       "  ('peaceful', 'JJ'),\n",
       "  ('neighborhood', 'NN'),\n",
       "  ('not', 'RB'),\n",
       "  ('far', 'RB'),\n",
       "  ('from', 'IN'),\n",
       "  ('the', 'DT'),\n",
       "  ('city', 'NN'),\n",
       "  ('.', '.')],\n",
       " [('Recommended', 'VBN'),\n",
       "  ('to', 'TO'),\n",
       "  ('those', 'DT'),\n",
       "  ('who', 'WP'),\n",
       "  ('have', 'VBP'),\n",
       "  ('rent', 'VBN'),\n",
       "  ('a', 'DT'),\n",
       "  ('car', 'NN'),\n",
       "  (',', ','),\n",
       "  ('the', 'DT'),\n",
       "  ('parking', 'VBG'),\n",
       "  ('area', 'NN'),\n",
       "  ('is', 'VBZ'),\n",
       "  ('spacious', 'JJ'),\n",
       "  ('.', '.')],\n",
       " [('The', 'DT'),\n",
       "  ('house', 'NN'),\n",
       "  ('is', 'VBZ'),\n",
       "  ('clean', 'JJ'),\n",
       "  ('and', 'CC'),\n",
       "  ('comfortable', 'JJ'),\n",
       "  ('.', '.')],\n",
       " [('We', 'PRP'),\n",
       "  ('are', 'VBP'),\n",
       "  ('a', 'DT'),\n",
       "  ('group', 'NN'),\n",
       "  ('of', 'IN'),\n",
       "  ('4', 'CD'),\n",
       "  (',', ','),\n",
       "  ('the', 'DT'),\n",
       "  ('house', 'NN'),\n",
       "  ('is', 'VBZ'),\n",
       "  ('just', 'RB'),\n",
       "  ('nice', 'JJ'),\n",
       "  ('for', 'IN'),\n",
       "  ('us', 'PRP'),\n",
       "  ('.', '.')],\n",
       " [('The', 'DT'),\n",
       "  ('outside', 'JJ'),\n",
       "  ('view', 'NN'),\n",
       "  ('is', 'VBZ'),\n",
       "  ('beautiful', 'JJ'),\n",
       "  ('.', '.')]]"
      ]
     },
     "execution_count": 85,
     "metadata": {},
     "output_type": "execute_result"
    }
   ],
   "source": [
    "rev_lst[0]"
   ]
  },
  {
   "cell_type": "code",
   "execution_count": 65,
   "metadata": {},
   "outputs": [],
   "source": [
    "# nltk.help.upenn_tagset()"
   ]
  },
  {
   "cell_type": "markdown",
   "metadata": {},
   "source": [
    "명사, 형용사, 동사, 부사를 뽑아 lemmantization 시켜주자\n",
    "\n",
    "함수 njvr_lemmantizer를 정의한다\n"
   ]
  },
  {
   "cell_type": "code",
   "execution_count": 67,
   "metadata": {},
   "outputs": [],
   "source": [
    "lemm = WordNetLemmatizer()\n",
    "def njvr_lemmantizer(sent):\n",
    "    global lemm\n",
    "    \n",
    "    lemm_sent = []\n",
    "    for word_pos in sent:\n",
    "        word,pos=word_pos\n",
    "        if pos[0] == 'N':\n",
    "            lemm_sent.append(lemm.lemmatize(word,pos='n')+'_N')\n",
    "        elif pos[0] == 'J':\n",
    "            lemm_sent.append(lemm.lemmatize(word,pos='a')+'_J')\n",
    "        elif pos[0] == 'V':\n",
    "            lemm_sent.append(lemm.lemmatize(word,pos='v')+'_V')\n",
    "        elif pos[0] == 'R':\n",
    "            lemm_sent.append(lemm.lemmatize(word,pos='r')+'_R')\n",
    "        else:pass\n",
    "    return lemm_sent"
   ]
  },
  {
   "cell_type": "markdown",
   "metadata": {},
   "source": [
    "샘플 sentence"
   ]
  },
  {
   "cell_type": "code",
   "execution_count": 63,
   "metadata": {},
   "outputs": [
    {
     "data": {
      "text/plain": [
       "[('We', 'PRP'),\n",
       " ('had', 'VBD'),\n",
       " ('a', 'DT'),\n",
       " ('wonderful', 'JJ'),\n",
       " ('stay', 'NN'),\n",
       " ('at', 'IN'),\n",
       " ('Kyungsoon', 'NNP'),\n",
       " ('’', 'NNP'),\n",
       " ('s', 'JJ'),\n",
       " ('place', 'NN'),\n",
       " (',', ','),\n",
       " ('although', 'IN'),\n",
       " ('he', 'PRP'),\n",
       " ('can', 'MD'),\n",
       " ('only', 'RB'),\n",
       " ('speak', 'VB'),\n",
       " ('a', 'DT'),\n",
       " ('little', 'JJ'),\n",
       " ('of', 'IN'),\n",
       " ('English', 'JJ'),\n",
       " ('but', 'CC'),\n",
       " ('he', 'PRP'),\n",
       " (\"'s\", 'VBZ'),\n",
       " ('always', 'RB'),\n",
       " ('trying', 'VBG'),\n",
       " ('to', 'TO'),\n",
       " ('help', 'VB'),\n",
       " ('whatever', 'VB'),\n",
       " ('he', 'PRP'),\n",
       " ('can', 'MD'),\n",
       " ('.', '.')]"
      ]
     },
     "execution_count": 63,
     "metadata": {},
     "output_type": "execute_result"
    }
   ],
   "source": [
    "review_en['10022410'][1][1][0]"
   ]
  },
  {
   "cell_type": "markdown",
   "metadata": {},
   "source": [
    "lemmantization 적용후"
   ]
  },
  {
   "cell_type": "code",
   "execution_count": 68,
   "metadata": {},
   "outputs": [
    {
     "data": {
      "text/plain": [
       "['have_V',\n",
       " 'wonderful_J',\n",
       " 'stay_N',\n",
       " 'Kyungsoon_N',\n",
       " '’_N',\n",
       " 's_J',\n",
       " 'place_N',\n",
       " 'only_R',\n",
       " 'speak_V',\n",
       " 'little_J',\n",
       " 'English_J',\n",
       " \"'s_V\",\n",
       " 'always_R',\n",
       " 'try_V',\n",
       " 'help_V',\n",
       " 'whatever_V']"
      ]
     },
     "execution_count": 68,
     "metadata": {},
     "output_type": "execute_result"
    }
   ],
   "source": [
    "njvr_lemmantizer(review_en['10022410'][1][1][0])"
   ]
  },
  {
   "cell_type": "markdown",
   "metadata": {},
   "source": [
    "전체 리뷰에 적용하자"
   ]
  },
  {
   "cell_type": "code",
   "execution_count": 88,
   "metadata": {},
   "outputs": [],
   "source": [
    "for listing_id, rev_lst in tqdm.tqdm(review_en.items()):\n",
    "    for rev in rev_lst:\n",
    "        rev_tmp = []\n",
    "        for sent in rev[1]:\n",
    "            rev_tmp.append(njvr_lemmantizer(sent))\n",
    "        rev[1] = rev_tmp"
   ]
  },
  {
   "cell_type": "code",
   "execution_count": 91,
   "metadata": {},
   "outputs": [
    {
     "data": {
      "text/plain": [
       "[5,\n",
       " [['be_V', 'great_J', 'experience_N', 'stay_V', 'Jin_N', 'home_N'],\n",
       "  ['Jin_N', 'mother_N', 'brother_N', 'be_V', 'so_R', 'good_J', 'friendly_J'],\n",
       "  ['be_V', 'feel_V', 'be_V', 'stay_V', 'family_N'],\n",
       "  ['Jin_N',\n",
       "   'mother_N',\n",
       "   'have_V',\n",
       "   'wide_J',\n",
       "   'variety_N',\n",
       "   'cook_V',\n",
       "   'utensil_N',\n",
       "   'beautiful_J',\n",
       "   'kitchen_N'],\n",
       "  ['Sometimes_R', 'offer_V', 'tasty_J', 'Korean_J', 'food_N'],\n",
       "  ['Location_N',\n",
       "   'home_N',\n",
       "   'be_V',\n",
       "   'situate_V',\n",
       "   'minute_N',\n",
       "   'walk_V',\n",
       "   'distance_N',\n",
       "   'Pusan_N',\n",
       "   'national_J',\n",
       "   'university_N'],\n",
       "  ['be_V', 'so_R', 'many_J', 'mart_N', 'nearby_R', 'apartment_N'],\n",
       "  ['Last_J', 'not_R', 'least_J', 'miss_V', 'Jin_N', 'family_N', 'home_N']]]"
      ]
     },
     "execution_count": 91,
     "metadata": {},
     "output_type": "execute_result"
    }
   ],
   "source": [
    "list(review_en.items())[1][1][1]"
   ]
  },
  {
   "cell_type": "code",
   "execution_count": 92,
   "metadata": {},
   "outputs": [],
   "source": [
    "with open('review_en.json','w') as fp:\n",
    "    json.dump(review_en,fp)"
   ]
  },
  {
   "cell_type": "code",
   "execution_count": null,
   "metadata": {},
   "outputs": [],
   "source": []
  }
 ],
 "metadata": {
  "kernelspec": {
   "display_name": "Python 3",
   "language": "python",
   "name": "python3"
  },
  "language_info": {
   "codemirror_mode": {
    "name": "ipython",
    "version": 3
   },
   "file_extension": ".py",
   "mimetype": "text/x-python",
   "name": "python",
   "nbconvert_exporter": "python",
   "pygments_lexer": "ipython3",
   "version": "3.6.4"
  }
 },
 "nbformat": 4,
 "nbformat_minor": 2
}
