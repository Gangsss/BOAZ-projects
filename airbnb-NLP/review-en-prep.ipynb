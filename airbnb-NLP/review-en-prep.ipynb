{
 "cells": [
  {
   "cell_type": "code",
   "execution_count": 123,
   "metadata": {},
   "outputs": [],
   "source": [
    "import os, glob\n",
    "import json, pickle\n",
    "import nltk\n",
    "import re\n",
    "from nltk import sent_tokenize\n",
    "from nltk.stem import WordNetLemmatizer\n",
    "\n",
    "from collections import Counter\n",
    "import tqdm"
   ]
  },
  {
   "cell_type": "code",
   "execution_count": 2,
   "metadata": {},
   "outputs": [],
   "source": [
    "# nltk.download('punkt')\n",
    "# nltk.download('wordnet')\n",
    "# nltk.download('tagsets')\n",
    "# nltk.download('stopword')\n",
    "# nltk.download('maxent_treebank_pos_tagger')\n",
    "# nltk.download('averaged_perceptron_tagger')"
   ]
  },
  {
   "cell_type": "code",
   "execution_count": 3,
   "metadata": {},
   "outputs": [
    {
     "data": {
      "text/plain": [
       "'C:\\\\Users\\\\Chankoo\\\\Desktop\\\\GitHub\\\\BOAZ-projects\\\\airbnb-NLP'"
      ]
     },
     "execution_count": 3,
     "metadata": {},
     "output_type": "execute_result"
    }
   ],
   "source": [
    "os.getcwd()"
   ]
  },
  {
   "cell_type": "code",
   "execution_count": 4,
   "metadata": {},
   "outputs": [],
   "source": [
    "os.chdir('./../airbnb-data')"
   ]
  },
  {
   "cell_type": "code",
   "execution_count": 6,
   "metadata": {},
   "outputs": [
    {
     "data": {
      "text/plain": [
       "['translated_busan.json',\n",
       " 'translated_daegu.json',\n",
       " 'translated_daejeon.json',\n",
       " 'translated_gangneung.json',\n",
       " 'translated_gwangju.json',\n",
       " 'translated_jeju.json',\n",
       " 'translated_jeonju.json',\n",
       " 'translated_seogwipo.json',\n",
       " 'translated_seoul.json',\n",
       " 'translated_seoul1.json',\n",
       " 'translated_seoul2.json',\n",
       " 'translated_seoul3.json',\n",
       " 'translated_yeosu.json']"
      ]
     },
     "execution_count": 6,
     "metadata": {},
     "output_type": "execute_result"
    }
   ],
   "source": [
    "file_lst = glob.glob('translated_*.json')\n",
    "file_lst"
   ]
  },
  {
   "cell_type": "code",
   "execution_count": 7,
   "metadata": {},
   "outputs": [],
   "source": [
    "review = {}\n",
    "for file in file_lst:\n",
    "    with open(file,'r',encoding='utf-8') as fp:\n",
    "        review.update(json.load(fp))"
   ]
  },
  {
   "cell_type": "code",
   "execution_count": 8,
   "metadata": {},
   "outputs": [
    {
     "data": {
      "text/plain": [
       "32957"
      ]
     },
     "execution_count": 8,
     "metadata": {},
     "output_type": "execute_result"
    }
   ],
   "source": [
    "len(review)"
   ]
  },
  {
   "cell_type": "code",
   "execution_count": 53,
   "metadata": {},
   "outputs": [
    {
     "data": {
      "text/plain": [
       "{'collection_tag': None,\n",
       " 'comments': '친구들이랑 6명이 갔는데\\n숙소 위치도 너무 좋고 방도 깨끗해서\\n다들 맘에 들어했어요!!\\n에어비엔비를  처음 이용해봤는데\\n너무 좋아서 다음번에도 이용할것같아요\\n해운대해변이랑도 걸어갈수 있고\\n연락도 너무 잘됐어요',\n",
       " 'created_at': '2016-10-08T23:57:42Z',\n",
       " 'id': 106917581,\n",
       " 'language': 'ko_en',\n",
       " 'localized_date': '2016년 10월',\n",
       " 'rating': 5,\n",
       " 'response': '',\n",
       " 'reviewee': {'deleted': False,\n",
       "  'first_name': 'Jaewook',\n",
       "  'host_name': 'Jaewook',\n",
       "  'id': 38530724,\n",
       "  'is_superhost': False,\n",
       "  'picture_url': 'https://a0.muscache.com/im/users/38530724/profile_pic/1436955527/original.jpg?aki_policy=profile_x_medium',\n",
       "  'profile_path': '/users/show/38530724'},\n",
       " 'reviewer': {'deleted': False,\n",
       "  'first_name': 'Joohee',\n",
       "  'host_name': 'Joohee',\n",
       "  'id': 96535213,\n",
       "  'is_superhost': False,\n",
       "  'picture_url': 'https://a0.muscache.com/im/pictures/32cbca58-85f2-47e5-b09c-a5ead7662304.jpg?aki_policy=profile_x_medium',\n",
       "  'profile_path': '/users/show/96535213'},\n",
       " 't_comments': 'I went to the dormitory with my friends. They liked the room because it was so nice and clean!This is my first time using Air Bienby. I love it, so I think I will use it next time.I can walk to Haeundae beach and the contact was great.'}"
      ]
     },
     "execution_count": 53,
     "metadata": {},
     "output_type": "execute_result"
    }
   ],
   "source": [
    "review['10030136'][0]"
   ]
  },
  {
   "cell_type": "code",
   "execution_count": 54,
   "metadata": {},
   "outputs": [],
   "source": [
    "review_en = {}\n",
    "for home_id,rev_lst in review.items():\n",
    "    review_en[home_id] = []\n",
    "    for rev in rev_lst:\n",
    "        if  rev['language'] is not None and rev['language'][-3:]=='_en':\n",
    "            review_en[home_id].append([rev['rating'],rev['t_comments']])\n",
    "        else:\n",
    "            continue"
   ]
  },
  {
   "cell_type": "code",
   "execution_count": 55,
   "metadata": {},
   "outputs": [
    {
     "data": {
      "text/plain": [
       "[[5,\n",
       "  'I went to the dormitory with my friends. They liked the room because it was so nice and clean!This is my first time using Air Bienby. I love it, so I think I will use it next time.I can walk to Haeundae beach and the contact was great.'],\n",
       " [5,\n",
       "  \"The room was spacious and spacious, and the two bedrooms could be seen from the window.When we went there, we caught the typhoon and fortunately the room was occupied with double-decked windows.The room is modern and technological.Overall, it's pretty good.\"],\n",
       " [5,\n",
       "  \"When I arrived, my family praised me for my clean and spacious accommodation! The front was a construction site, so the view wasn't 100 percent cool, but it was enough to last.Ha\"],\n",
       " [5,\n",
       "  \"The room is prettier and more sunny than the one you see in the picture. Especially, Haeundae Beach looks so peaceful, with two harmonics in the living room brightening the atmosphere of the interior.Thanks to the host's consideration, I could take a comfortable trip to Busan.Thank you.\"],\n",
       " [4,\n",
       "  'It was a great location for the cleanness and rescue of the accommodation.All of us were satisfied and would like to use it again next time.'],\n",
       " [5,\n",
       "  \"The accommodation was exactly the same as the photo and it was really clean like the picture. Usually, the dishes and spoons at the lodging area were not clean, so I didn't have to. The kitchen was as clean as new, and the bed cover and bathroom were excellent. I stayed with six people, and they said the heating was good and everyone liked their accommodation. Right after the building, there was a white sand beach in Haeundae, so it was great to take a walk in the evening and there was convenience facilities around. It was nice to have good accommodation at a good price.\"],\n",
       " [5,\n",
       "  \"It's too nice a place to go on a family trip.The view was so nice and neat. Thanks to my family, it was a pleasant trip.\"],\n",
       " [5,\n",
       "  \"It was very nice because it is located right in front of Haeundae.I loved the view of the sea.I went there with my family, but I felt at home.I'll come back to the wall again.^^\"]]"
      ]
     },
     "execution_count": 55,
     "metadata": {},
     "output_type": "execute_result"
    }
   ],
   "source": [
    "review_en['10030136']"
   ]
  },
  {
   "cell_type": "code",
   "execution_count": null,
   "metadata": {},
   "outputs": [],
   "source": [
    "## spacing 필요하지않을까??"
   ]
  },
  {
   "cell_type": "code",
   "execution_count": null,
   "metadata": {},
   "outputs": [],
   "source": []
  },
  {
   "cell_type": "code",
   "execution_count": 56,
   "metadata": {},
   "outputs": [
    {
     "data": {
      "text/plain": [
       "'asdlk. fj!          asdf asd  23!!as'"
      ]
     },
     "execution_count": 56,
     "metadata": {},
     "output_type": "execute_result"
    }
   ],
   "source": [
    "re.sub('[^a-z|A-Z|0-9|.!?,|\\s]','','asdlk. fj!          asdfㅁㄴ 아asd  23ㅁㄴㅇ!!@as')"
   ]
  },
  {
   "cell_type": "code",
   "execution_count": 57,
   "metadata": {},
   "outputs": [],
   "source": [
    "for k,rev_lst in review_en.items():\n",
    "    for i,rev in enumerate(rev_lst):\n",
    "        rev_lst[i][1] = re.sub('[^a-z|A-Z|0-9|.!?,|\\s]','',rev[1].strip())"
   ]
  },
  {
   "cell_type": "code",
   "execution_count": 63,
   "metadata": {},
   "outputs": [],
   "source": [
    "# breakpoint = 0\n",
    "# for k,rev_lst in review_en.items():\n",
    "#     for rev in rev_lst:\n",
    "#         if breakpoint == 1000:\n",
    "#             break\n",
    "#         print(rev[1],end='\\n\\n')\n",
    "#         breakpoint+=1"
   ]
  },
  {
   "cell_type": "code",
   "execution_count": 62,
   "metadata": {},
   "outputs": [
    {
     "data": {
      "text/plain": [
       "['The room was spacious and spacious, and the two bedrooms could be seen from the window.When we went there, we caught the typhoon and fortunately the room was occupied with doubledecked windows.The room is modern and technological.Overall, its pretty good.']"
      ]
     },
     "execution_count": 62,
     "metadata": {},
     "output_type": "execute_result"
    }
   ],
   "source": [
    "sent_tokenize(review_en['10030136'][1][1]) # sent_tokenize 안되는 리뷰 꽤 있음"
   ]
  },
  {
   "cell_type": "code",
   "execution_count": 64,
   "metadata": {},
   "outputs": [
    {
     "name": "stdout",
     "output_type": "stream",
     "text": [
      "Wall time: 31 s\n"
     ]
    }
   ],
   "source": [
    "%%time\n",
    "# 리뷰별 문장단위 tokenizing\n",
    "for home_id,rev_lst in review_en.items():\n",
    "    for rev in rev_lst:\n",
    "        rev[1] = sent_tokenize(rev[1])"
   ]
  },
  {
   "cell_type": "code",
   "execution_count": 65,
   "metadata": {},
   "outputs": [
    {
     "name": "stdout",
     "output_type": "stream",
     "text": [
      "Wall time: 2min 13s\n"
     ]
    }
   ],
   "source": [
    "%%time \n",
    "# 문장별 단어단위 tokenizing\n",
    "for home_id,rev_lst in review_en.items(): \n",
    "    for rev in rev_lst:\n",
    "        tmp_lst = []\n",
    "        for sent in rev[1]:\n",
    "            word_lst = nltk.word_tokenize(sent)\n",
    "            tmp_lst.append(word_lst)\n",
    "        rev[1] = tmp_lst"
   ]
  },
  {
   "cell_type": "code",
   "execution_count": 66,
   "metadata": {},
   "outputs": [
    {
     "data": {
      "text/plain": [
       "[('The', 'DT'),\n",
       " ('room', 'NN'),\n",
       " ('was', 'VBD'),\n",
       " ('spacious', 'JJ'),\n",
       " ('and', 'CC'),\n",
       " ('spacious', 'JJ'),\n",
       " (',', ','),\n",
       " ('and', 'CC'),\n",
       " ('the', 'DT'),\n",
       " ('two', 'CD'),\n",
       " ('bedrooms', 'NNS'),\n",
       " ('could', 'MD'),\n",
       " ('be', 'VB'),\n",
       " ('seen', 'VBN'),\n",
       " ('from', 'IN'),\n",
       " ('the', 'DT'),\n",
       " ('window.When', 'NN'),\n",
       " ('we', 'PRP'),\n",
       " ('went', 'VBD'),\n",
       " ('there', 'RB'),\n",
       " (',', ','),\n",
       " ('we', 'PRP'),\n",
       " ('caught', 'VBD'),\n",
       " ('the', 'DT'),\n",
       " ('typhoon', 'NN'),\n",
       " ('and', 'CC'),\n",
       " ('fortunately', 'RB'),\n",
       " ('the', 'DT'),\n",
       " ('room', 'NN'),\n",
       " ('was', 'VBD'),\n",
       " ('occupied', 'VBN'),\n",
       " ('with', 'IN'),\n",
       " ('doubledecked', 'JJ'),\n",
       " ('windows.The', 'NN'),\n",
       " ('room', 'NN'),\n",
       " ('is', 'VBZ'),\n",
       " ('modern', 'JJ'),\n",
       " ('and', 'CC'),\n",
       " ('technological.Overall', 'NN'),\n",
       " (',', ','),\n",
       " ('its', 'PRP$'),\n",
       " ('pretty', 'RB'),\n",
       " ('good', 'JJ'),\n",
       " ('.', '.')]"
      ]
     },
     "execution_count": 66,
     "metadata": {},
     "output_type": "execute_result"
    }
   ],
   "source": [
    "nltk.pos_tag(review_en['10030136'][1][1][0])"
   ]
  },
  {
   "cell_type": "code",
   "execution_count": null,
   "metadata": {},
   "outputs": [],
   "source": []
  },
  {
   "cell_type": "code",
   "execution_count": 67,
   "metadata": {},
   "outputs": [
    {
     "name": "stderr",
     "output_type": "stream",
     "text": [
      "100%|████████████████████████████████████████████████████████████████████████████| 32957/32957 [24:44<00:00, 22.21it/s]\n"
     ]
    }
   ],
   "source": [
    "for home_id,rev_lst in tqdm.tqdm(review_en.items()):\n",
    "    for rev in rev_lst:\n",
    "        tmp_lst = []\n",
    "        for sent_bow in rev[1]:\n",
    "            sent_pos = nltk.pos_tag(sent_bow)\n",
    "            tmp_lst.append(sent_pos)\n",
    "        rev[1] = tmp_lst"
   ]
  },
  {
   "cell_type": "markdown",
   "metadata": {},
   "source": [
    "### 데이터 구조를 보자\n",
    "\n",
    "- review_en == {home_id: [rev0, rev1, ...]}\n",
    "    - rev0 == [rating, [sent0, sent1, ...]]\n",
    "        - sent0 == [(word0,POS0),(word1,POS1), ...]\n",
    "    "
   ]
  },
  {
   "cell_type": "code",
   "execution_count": null,
   "metadata": {},
   "outputs": [],
   "source": []
  },
  {
   "cell_type": "code",
   "execution_count": 105,
   "metadata": {},
   "outputs": [],
   "source": [
    "k_to_drop = []\n",
    "for k,rev_lst in review_en.items():\n",
    "    if review_en[k] == []:\n",
    "        k_to_drop.append(k)"
   ]
  },
  {
   "cell_type": "code",
   "execution_count": 106,
   "metadata": {},
   "outputs": [],
   "source": [
    "for k in k_to_drop:\n",
    "    del review_en[k]"
   ]
  },
  {
   "cell_type": "code",
   "execution_count": 107,
   "metadata": {},
   "outputs": [
    {
     "data": {
      "text/plain": [
       "22886"
      ]
     },
     "execution_count": 107,
     "metadata": {},
     "output_type": "execute_result"
    }
   ],
   "source": [
    "len(review_en) # 리뷰없는 방 제거 후 "
   ]
  },
  {
   "cell_type": "code",
   "execution_count": 108,
   "metadata": {},
   "outputs": [],
   "source": [
    "# with open('review_en_pos_0113.dic','wb') as fp:\n",
    "#     pickle.dump(review_en,fp)"
   ]
  },
  {
   "cell_type": "code",
   "execution_count": 68,
   "metadata": {},
   "outputs": [
    {
     "data": {
      "text/plain": [
       "[5,\n",
       " [[('Very', 'RB'), ('good', 'JJ'), ('.', '.')],\n",
       "  [('The', 'DT'),\n",
       "   ('landlord', 'NN'),\n",
       "   ('is', 'VBZ'),\n",
       "   ('very', 'RB'),\n",
       "   ('enthusiastic', 'JJ'),\n",
       "   ('.', '.')],\n",
       "  [('Its', 'PRP$'),\n",
       "   ('a', 'DT'),\n",
       "   ('little', 'JJ'),\n",
       "   ('bug', 'NN'),\n",
       "   ('in', 'IN'),\n",
       "   ('the', 'DT'),\n",
       "   ('house', 'NN'),\n",
       "   ('.', '.')]]]"
      ]
     },
     "execution_count": 68,
     "metadata": {},
     "output_type": "execute_result"
    }
   ],
   "source": [
    "review_en['10022410'][0] # rev0의 예시"
   ]
  },
  {
   "cell_type": "markdown",
   "metadata": {},
   "source": [
    "unpacking과 zip 함수 이용해 rating과 review를 각각을 뽑아 리스트로 만들 수도 있다"
   ]
  },
  {
   "cell_type": "code",
   "execution_count": 80,
   "metadata": {},
   "outputs": [],
   "source": [
    "rating_lst, rev_lst = zip(*review_en['10022410'])"
   ]
  },
  {
   "cell_type": "code",
   "execution_count": 82,
   "metadata": {},
   "outputs": [
    {
     "data": {
      "text/plain": [
       "(5, 5, 5, 5, 3, 5, 2, 5, 5, 2, 5, 5, 5, 4, 5, 5, 3, 4, 5, 5, 4, 4, 5)"
      ]
     },
     "execution_count": 82,
     "metadata": {},
     "output_type": "execute_result"
    }
   ],
   "source": [
    "rating_lst"
   ]
  },
  {
   "cell_type": "code",
   "execution_count": 71,
   "metadata": {},
   "outputs": [
    {
     "data": {
      "text/plain": [
       "[[('Very', 'RB'), ('good', 'JJ'), ('.', '.')],\n",
       " [('The', 'DT'),\n",
       "  ('landlord', 'NN'),\n",
       "  ('is', 'VBZ'),\n",
       "  ('very', 'RB'),\n",
       "  ('enthusiastic', 'JJ'),\n",
       "  ('.', '.')],\n",
       " [('Its', 'PRP$'),\n",
       "  ('a', 'DT'),\n",
       "  ('little', 'JJ'),\n",
       "  ('bug', 'NN'),\n",
       "  ('in', 'IN'),\n",
       "  ('the', 'DT'),\n",
       "  ('house', 'NN'),\n",
       "  ('.', '.')]]"
      ]
     },
     "execution_count": 71,
     "metadata": {},
     "output_type": "execute_result"
    }
   ],
   "source": [
    "rev_lst[0]"
   ]
  },
  {
   "cell_type": "code",
   "execution_count": 109,
   "metadata": {},
   "outputs": [],
   "source": [
    "ratings = []\n",
    "review_wo_ratings = []\n",
    "for k,rev_lst in review_en.items():\n",
    "    tmp_rating, tmp_rev = zip(*review_en[k])\n",
    "    ratings += tmp_rating\n",
    "    review_wo_ratings += tmp_rev"
   ]
  },
  {
   "cell_type": "code",
   "execution_count": 110,
   "metadata": {},
   "outputs": [
    {
     "data": {
      "text/plain": [
       "383823"
      ]
     },
     "execution_count": 110,
     "metadata": {},
     "output_type": "execute_result"
    }
   ],
   "source": [
    "len(ratings)"
   ]
  },
  {
   "cell_type": "code",
   "execution_count": 111,
   "metadata": {},
   "outputs": [
    {
     "data": {
      "text/plain": [
       "383823"
      ]
     },
     "execution_count": 111,
     "metadata": {},
     "output_type": "execute_result"
    }
   ],
   "source": [
    "len(review_wo_ratings)"
   ]
  },
  {
   "cell_type": "code",
   "execution_count": 115,
   "metadata": {},
   "outputs": [],
   "source": [
    "# with open('ratings_0113.lst','wb') as fp:\n",
    "#     pickle.dump(ratings,fp)"
   ]
  },
  {
   "cell_type": "code",
   "execution_count": 116,
   "metadata": {},
   "outputs": [],
   "source": [
    "# with open('review_wo_ratings_0113.lst','wb') as fp:\n",
    "#     pickle.dump(review_wo_ratings,fp)"
   ]
  },
  {
   "cell_type": "code",
   "execution_count": 18,
   "metadata": {},
   "outputs": [],
   "source": [
    "# with open('pos_lst_review.json','w') as fp:\n",
    "#     json.dump(review_en,fp)"
   ]
  },
  {
   "cell_type": "code",
   "execution_count": 117,
   "metadata": {},
   "outputs": [],
   "source": [
    "with open('review_en_pos_0113.dic','rb') as fp:\n",
    "    review_en = pickle.load(fp)"
   ]
  },
  {
   "cell_type": "code",
   "execution_count": 118,
   "metadata": {},
   "outputs": [
    {
     "data": {
      "text/plain": [
       "('10076276',\n",
       " [[5,\n",
       "   [[('It', 'PRP'),\n",
       "     ('was', 'VBD'),\n",
       "     ('so', 'RB'),\n",
       "     ('comfortable', 'JJ'),\n",
       "     ('and', 'CC'),\n",
       "     ('nice.Haha', 'JJ')]]],\n",
       "  [3,\n",
       "   [[('In', 'IN'),\n",
       "     ('addition', 'NN'),\n",
       "     ('to', 'TO'),\n",
       "     ('a', 'DT'),\n",
       "     ('month', 'NN'),\n",
       "     (',', ','),\n",
       "     ('I', 'PRP'),\n",
       "     ('stayed', 'VBD'),\n",
       "     ('there', 'EX'),\n",
       "     ('with', 'IN'),\n",
       "     ('my', 'PRP$'),\n",
       "     ('wife', 'NN'),\n",
       "     ('who', 'WP'),\n",
       "     ('joined', 'VBD'),\n",
       "     ('us', 'PRP'),\n",
       "     ('in', 'IN'),\n",
       "     ('the', 'DT'),\n",
       "     ('middle', 'NN'),\n",
       "     ('of', 'IN'),\n",
       "     ('2', 'CD'),\n",
       "     ('weeks.The', 'JJ'),\n",
       "     ('location', 'NN'),\n",
       "     ('is', 'VBZ'),\n",
       "     ('12', 'CD'),\n",
       "     ('minutes', 'NNS'),\n",
       "     ('walk', 'VBP'),\n",
       "     ('from', 'IN'),\n",
       "     ('Nagaaki', 'NNP'),\n",
       "     ('station.The', 'NN'),\n",
       "     ('building', 'NN'),\n",
       "     ('is', 'VBZ'),\n",
       "     ('located', 'VBN'),\n",
       "     ('on', 'IN'),\n",
       "     ('the', 'DT'),\n",
       "     ('17th', 'JJ'),\n",
       "     ('floor', 'NN'),\n",
       "     ('with', 'IN'),\n",
       "     ('a', 'DT'),\n",
       "     ('large', 'JJ'),\n",
       "     ('living', 'NN'),\n",
       "     ('room', 'NN'),\n",
       "     ('.', '.')]]],\n",
       "  [5,\n",
       "   [[('The', 'DT'),\n",
       "     ('house', 'NN'),\n",
       "     ('is', 'VBZ'),\n",
       "     ('neat', 'JJ'),\n",
       "     ('and', 'CC'),\n",
       "     ('the', 'DT'),\n",
       "     ('host', 'NN'),\n",
       "     ('is', 'VBZ'),\n",
       "     ('very', 'RB'),\n",
       "     ('kind', 'NN'),\n",
       "     ('.', '.')]]],\n",
       "  [4,\n",
       "   [[('Your', 'PRP$'),\n",
       "     ('hosts', 'NNS'),\n",
       "     ('family', 'NN'),\n",
       "     ('is', 'VBZ'),\n",
       "     ('a', 'DT'),\n",
       "     ('clean', 'JJ'),\n",
       "     ('and', 'CC'),\n",
       "     ('comfortable', 'JJ'),\n",
       "     ('30', 'CD'),\n",
       "     ('pyeong', 'JJ'),\n",
       "     ('apartment', 'NN'),\n",
       "     ('that', 'IN'),\n",
       "     ('you', 'PRP'),\n",
       "     ('live', 'VBP'),\n",
       "     ('in', 'IN'),\n",
       "     ('.', '.')],\n",
       "    [('I', 'PRP'),\n",
       "     ('feel', 'VBP'),\n",
       "     ('like', 'IN'),\n",
       "     ('Im', 'NNP'),\n",
       "     ('at', 'IN'),\n",
       "     ('a', 'DT'),\n",
       "     ('relatives', 'NNS'),\n",
       "     ('house', 'NN'),\n",
       "     ('.', '.')]]],\n",
       "  [4,\n",
       "   [[('I', 'PRP'),\n",
       "     ('was', 'VBD'),\n",
       "     ('grateful', 'JJ'),\n",
       "     ('for', 'IN'),\n",
       "     ('your', 'PRP$'),\n",
       "     ('quick', 'NN'),\n",
       "     ('and', 'CC'),\n",
       "     ('smooth', 'JJ'),\n",
       "     ('communication', 'NN'),\n",
       "     ('and', 'CC'),\n",
       "     ('careful', 'JJ'),\n",
       "     ('consideration', 'NN'),\n",
       "     ('.', '.')],\n",
       "    [('The', 'DT'),\n",
       "     ('accommodation', 'NN'),\n",
       "     ('was', 'VBD'),\n",
       "     ('quiet', 'JJ'),\n",
       "     ('and', 'CC'),\n",
       "     ('comfortable', 'JJ'),\n",
       "     ('as', 'IN'),\n",
       "     ('expected', 'VBN'),\n",
       "     ('.', '.')],\n",
       "    [('It', 'PRP'),\n",
       "     ('was', 'VBD'),\n",
       "     ('good', 'JJ'),\n",
       "     ('to', 'TO'),\n",
       "     ('have', 'VB'),\n",
       "     ('a', 'DT'),\n",
       "     ('comfortable', 'JJ'),\n",
       "     ('rest', 'NN'),\n",
       "     ('in', 'IN'),\n",
       "     ('a', 'DT'),\n",
       "     ('familiar', 'JJ'),\n",
       "     ('environment', 'NN'),\n",
       "     ('like', 'IN'),\n",
       "     ('my', 'PRP$'),\n",
       "     ('home', 'NN'),\n",
       "     ('.', '.')]]],\n",
       "  [5,\n",
       "   [[('It', 'PRP'),\n",
       "     ('felt', 'VBD'),\n",
       "     ('like', 'IN'),\n",
       "     ('a', 'DT'),\n",
       "     ('real', 'JJ'),\n",
       "     ('home', 'NN'),\n",
       "     ('.', '.')]]],\n",
       "  [4,\n",
       "   [[('It', 'PRP'),\n",
       "     ('was', 'VBD'),\n",
       "     ('a', 'DT'),\n",
       "     ('very', 'JJ'),\n",
       "     ('clean', 'JJ'),\n",
       "     ('and', 'CC'),\n",
       "     ('pleasant', 'JJ'),\n",
       "     ('accommodation', 'NN'),\n",
       "     ('.', '.')],\n",
       "    [('It', 'PRP'),\n",
       "     ('was', 'VBD'),\n",
       "     ('a', 'DT'),\n",
       "     ('little', 'JJ'),\n",
       "     ('hot', 'JJ'),\n",
       "     ('because', 'IN'),\n",
       "     ('there', 'EX'),\n",
       "     ('was', 'VBD'),\n",
       "     ('no', 'DT'),\n",
       "     ('air', 'NN'),\n",
       "     ('conditioner', 'NN'),\n",
       "     ('on', 'IN'),\n",
       "     (',', ','),\n",
       "     ('but', 'CC'),\n",
       "     ('thank', 'NN'),\n",
       "     ('you', 'PRP'),\n",
       "     ('for', 'IN'),\n",
       "     ('being', 'VBG'),\n",
       "     ('nice', 'JJ'),\n",
       "     ('to', 'TO'),\n",
       "     ('meet', 'VB'),\n",
       "     ('me', 'PRP'),\n",
       "     ('late', 'RB'),\n",
       "     ('.', '.')]]],\n",
       "  [4,\n",
       "   [[('Kind', 'NNP'),\n",
       "     ('guidance', 'NN'),\n",
       "     ('is', 'VBZ'),\n",
       "     ('good', 'JJ'),\n",
       "     ('.', '.')],\n",
       "    [('Ive', 'NNP'),\n",
       "     ('been', 'VBN'),\n",
       "     ('called', 'VBN'),\n",
       "     ('before', 'IN'),\n",
       "     ('my', 'PRP$'),\n",
       "     ('visit', 'NN'),\n",
       "     ('.', '.')],\n",
       "    [('It', 'PRP'),\n",
       "     ('was', 'VBD'),\n",
       "     ('convenient', 'NN'),\n",
       "     ('to', 'TO'),\n",
       "     ('use', 'VB'),\n",
       "     ('the', 'DT'),\n",
       "     ('bathroom', 'NN'),\n",
       "     ('separately', 'RB'),\n",
       "     ('.', '.')]]],\n",
       "  [5,\n",
       "   [[('It', 'PRP'),\n",
       "     ('was', 'VBD'),\n",
       "     ('clean', 'JJ'),\n",
       "     ('and', 'CC'),\n",
       "     ('nice', 'JJ'),\n",
       "     ('.', '.')],\n",
       "    [('It', 'PRP'),\n",
       "     ('was', 'VBD'),\n",
       "     ('also', 'RB'),\n",
       "     ('a', 'DT'),\n",
       "     ('convenient', 'NN'),\n",
       "     ('station', 'NN'),\n",
       "     ('for', 'IN'),\n",
       "     ('transportation', 'NN'),\n",
       "     (',', ','),\n",
       "     ('so', 'IN'),\n",
       "     ('I', 'PRP'),\n",
       "     ('arrived', 'VBD'),\n",
       "     ('there', 'RB'),\n",
       "     ('in', 'IN'),\n",
       "     ('five', 'CD'),\n",
       "     ('minutes', 'NNS'),\n",
       "     ('on', 'IN'),\n",
       "     ('foot', 'NN'),\n",
       "     ('.', '.')],\n",
       "    [('My', 'PRP$'),\n",
       "     ('master', 'NN'),\n",
       "     ('was', 'VBD'),\n",
       "     ('very', 'RB'),\n",
       "     ('kind', 'NN'),\n",
       "     ('and', 'CC'),\n",
       "     ('well', 'RB'),\n",
       "     ('taken', 'VBN'),\n",
       "     ('care', 'NN'),\n",
       "     ('of', 'IN'),\n",
       "     ('.', '.')]]],\n",
       "  [5,\n",
       "   [[('It', 'PRP'),\n",
       "     ('was', 'VBD'),\n",
       "     ('over', 'IN'),\n",
       "     ('the', 'DT'),\n",
       "     ('top.There', 'NN'),\n",
       "     ('was', 'VBD'),\n",
       "     ('a', 'DT'),\n",
       "     ('bus', 'NN'),\n",
       "     ('stop', 'NN'),\n",
       "     ('right', 'NN'),\n",
       "     ('in', 'IN'),\n",
       "     ('front', 'NN'),\n",
       "     ('of', 'IN'),\n",
       "     ('the', 'DT'),\n",
       "     ('apartment', 'NN'),\n",
       "     (',', ','),\n",
       "     ('so', 'IN'),\n",
       "     ('I', 'PRP'),\n",
       "     ('found', 'VBD'),\n",
       "     ('a', 'DT'),\n",
       "     ('collect', 'JJ'),\n",
       "     ('room', 'NN'),\n",
       "     ('.', '.')],\n",
       "    [('Busan', 'NNP'),\n",
       "     ('University', 'NNP'),\n",
       "     ('was', 'VBD'),\n",
       "     ('right', 'JJ'),\n",
       "     ('next', 'JJ'),\n",
       "     ('to', 'TO'),\n",
       "     ('it', 'PRP'),\n",
       "     ('.', '.')],\n",
       "    [('Its', 'PRP$'),\n",
       "     ('been', 'VBN'),\n",
       "     ('a', 'DT'),\n",
       "     ('while', 'NN'),\n",
       "     ('since', 'IN'),\n",
       "     ('I', 'PRP'),\n",
       "     ('opened', 'VBD'),\n",
       "     ('a', 'DT'),\n",
       "     ('gym', 'NN'),\n",
       "     ('.', '.')],\n",
       "    [('The', 'DT'),\n",
       "     ('house', 'NN'),\n",
       "     ('was', 'VBD'),\n",
       "     ('quiet', 'JJ'),\n",
       "     ('because', 'IN'),\n",
       "     ('of', 'IN'),\n",
       "     ('your', 'PRP$'),\n",
       "     ('concern.I', 'NN'),\n",
       "     ('will', 'MD'),\n",
       "     ('stay', 'VB'),\n",
       "     ('again', 'RB'),\n",
       "     ('next', 'JJ'),\n",
       "     ('time', 'NN'),\n",
       "     ('.', '.')],\n",
       "    [('I', 'PRP'),\n",
       "     ('hope', 'VBP'),\n",
       "     ('you', 'PRP'),\n",
       "     ('come', 'VBP'),\n",
       "     ('at', 'IN'),\n",
       "     ('a', 'DT'),\n",
       "     ('good', 'JJ'),\n",
       "     ('price', 'NN'),\n",
       "     ('!', '.')]]]])"
      ]
     },
     "execution_count": 118,
     "metadata": {},
     "output_type": "execute_result"
    }
   ],
   "source": [
    "list(review_en.items())[1]"
   ]
  },
  {
   "cell_type": "markdown",
   "metadata": {},
   "source": [
    "고유명사 제외한다"
   ]
  },
  {
   "cell_type": "code",
   "execution_count": 119,
   "metadata": {},
   "outputs": [],
   "source": [
    "NNP_lst = []\n",
    "for k,rev_lst in review_en.items():\n",
    "    for rev in rev_lst:\n",
    "        for sent in rev[1]:\n",
    "            for w in sent:\n",
    "                if w[1] == 'NNP' or w[1] == 'NNPS':\n",
    "                    NNP_lst.append(w)"
   ]
  },
  {
   "cell_type": "code",
   "execution_count": 120,
   "metadata": {},
   "outputs": [
    {
     "data": {
      "text/plain": [
       "457992"
      ]
     },
     "execution_count": 120,
     "metadata": {},
     "output_type": "execute_result"
    }
   ],
   "source": [
    "len(NNP_lst)"
   ]
  },
  {
   "cell_type": "code",
   "execution_count": 129,
   "metadata": {},
   "outputs": [
    {
     "data": {
      "text/plain": [
       "[(('Thank', 'NNP'), 29523),\n",
       " (('Jeju', 'NNP'), 20771),\n",
       " (('Im', 'NNP'), 20529),\n",
       " (('Station', 'NNP'), 13274),\n",
       " (('Ive', 'NNP'), 11047),\n",
       " (('Seoul', 'NNP'), 10793),\n",
       " (('Busan', 'NNP'), 10548),\n",
       " (('Island', 'NNP'), 9227),\n",
       " (('Ill', 'NNP'), 9143),\n",
       " (('Id', 'NNP'), 6572),\n",
       " (('First', 'NNP'), 6547),\n",
       " (('Haeundae', 'NNP'), 6479),\n",
       " (('Airbnb', 'NNP'), 5910),\n",
       " (('Hanok', 'NNP'), 4167),\n",
       " (('Village', 'NNP'), 4039),\n",
       " (('Korea', 'NNP'), 3801),\n",
       " (('Beach', 'NNP'), 3627),\n",
       " (('Daegu', 'NNP'), 2953),\n",
       " (('Please', 'NNP'), 2857),\n",
       " (('Lotte', 'NNP'), 2785),\n",
       " (('Gangnam', 'NNP'), 2531),\n",
       " (('Jeonju', 'NNP'), 2521),\n",
       " (('University', 'NNP'), 2408),\n",
       " (('Hongdae', 'NNP'), 2365),\n",
       " (('Gangneung', 'NNP'), 2142),\n",
       " (('Seongsan', 'NNP'), 2079),\n",
       " (('Yeosu', 'NNP'), 2070),\n",
       " (('Nice', 'NNP'), 1959),\n",
       " (('Gwangalli', 'NNP'), 1875),\n",
       " (('Itaewon', 'NNP'), 1848)]"
      ]
     },
     "execution_count": 129,
     "metadata": {},
     "output_type": "execute_result"
    }
   ],
   "source": [
    "sorted(Counter(NNP_lst).items(),key=lambda kv:kv[1],reverse=True)[:30]"
   ]
  },
  {
   "cell_type": "code",
   "execution_count": null,
   "metadata": {},
   "outputs": [],
   "source": [
    "#NNP 제거??"
   ]
  },
  {
   "cell_type": "code",
   "execution_count": null,
   "metadata": {},
   "outputs": [],
   "source": []
  },
  {
   "cell_type": "code",
   "execution_count": null,
   "metadata": {},
   "outputs": [],
   "source": []
  },
  {
   "cell_type": "markdown",
   "metadata": {},
   "source": [
    "TF-IDF 적용해 중요한 단어만 남긴다"
   ]
  },
  {
   "cell_type": "code",
   "execution_count": 56,
   "metadata": {},
   "outputs": [],
   "source": [
    "# words = []\n",
    "# for w, rev_lst in review_en.items():\n",
    "#     for rev in rev_lst:\n",
    "#         for sent in rev[1]:\n",
    "#             for w in sent:\n",
    "#                 if w[1] == 'NNP' or w[1] == 'NNPS':\n",
    "#                     continue\n",
    "#                 else:\n",
    "#                     words.append(w)"
   ]
  },
  {
   "cell_type": "code",
   "execution_count": 59,
   "metadata": {},
   "outputs": [],
   "source": [
    "# ws,tags = zip(*words)"
   ]
  },
  {
   "cell_type": "code",
   "execution_count": 60,
   "metadata": {},
   "outputs": [],
   "source": [
    "# unq_words = set(ws)"
   ]
  },
  {
   "cell_type": "code",
   "execution_count": 61,
   "metadata": {},
   "outputs": [
    {
     "data": {
      "text/plain": [
       "175632"
      ]
     },
     "execution_count": 61,
     "metadata": {},
     "output_type": "execute_result"
    }
   ],
   "source": [
    "# len(unq_words)"
   ]
  },
  {
   "cell_type": "code",
   "execution_count": 62,
   "metadata": {},
   "outputs": [],
   "source": [
    "doc_tokens = {}\n",
    "maxCount = {}\n",
    "\n",
    "for i,lst in enumerate(unq_words):\n",
    "    maxCount[i] = 0\n",
    "    tmp_tokens = {}\n",
    "    \n",
    "    for w in lst:\n",
    "        if w in tmp_tokens.keys():\n",
    "            tmp_tokens[w] += 1\n",
    "        else:\n",
    "            tmp_tokens[w] = 1\n",
    "\n",
    "        if maxCount[i] < tmp_tokens[w]:\n",
    "            maxCount[i] = tmp_tokens[w]\n",
    "                    \n",
    "    doc_tokens[i] = tmp_tokens\n"
   ]
  },
  {
   "cell_type": "code",
   "execution_count": null,
   "metadata": {},
   "outputs": [],
   "source": []
  },
  {
   "cell_type": "markdown",
   "metadata": {},
   "source": [
    "명사, 형용사, 동사, 부사를 뽑아 lemmantization 시켜주자\n",
    "\n",
    "함수 njvr_lemmantizer를 정의한다\n"
   ]
  },
  {
   "cell_type": "code",
   "execution_count": 67,
   "metadata": {},
   "outputs": [],
   "source": [
    "lemm = WordNetLemmatizer()\n",
    "def njvr_lemmantizer(sent):\n",
    "    global lemm\n",
    "    \n",
    "    lemm_sent = []\n",
    "    for word_pos in sent:\n",
    "        word,pos=word_pos\n",
    "        if pos[0] == 'N':\n",
    "            lemm_sent.append(lemm.lemmatize(word,pos='n')+'_N')\n",
    "        elif pos[0] == 'J':\n",
    "            lemm_sent.append(lemm.lemmatize(word,pos='a')+'_J')\n",
    "        elif pos[0] == 'V':\n",
    "            lemm_sent.append(lemm.lemmatize(word,pos='v')+'_V')\n",
    "        elif pos[0] == 'R':\n",
    "            lemm_sent.append(lemm.lemmatize(word,pos='r')+'_R')\n",
    "        else:pass\n",
    "    return lemm_sent"
   ]
  },
  {
   "cell_type": "markdown",
   "metadata": {},
   "source": [
    "샘플 sentence"
   ]
  },
  {
   "cell_type": "code",
   "execution_count": 63,
   "metadata": {},
   "outputs": [
    {
     "data": {
      "text/plain": [
       "[('We', 'PRP'),\n",
       " ('had', 'VBD'),\n",
       " ('a', 'DT'),\n",
       " ('wonderful', 'JJ'),\n",
       " ('stay', 'NN'),\n",
       " ('at', 'IN'),\n",
       " ('Kyungsoon', 'NNP'),\n",
       " ('’', 'NNP'),\n",
       " ('s', 'JJ'),\n",
       " ('place', 'NN'),\n",
       " (',', ','),\n",
       " ('although', 'IN'),\n",
       " ('he', 'PRP'),\n",
       " ('can', 'MD'),\n",
       " ('only', 'RB'),\n",
       " ('speak', 'VB'),\n",
       " ('a', 'DT'),\n",
       " ('little', 'JJ'),\n",
       " ('of', 'IN'),\n",
       " ('English', 'JJ'),\n",
       " ('but', 'CC'),\n",
       " ('he', 'PRP'),\n",
       " (\"'s\", 'VBZ'),\n",
       " ('always', 'RB'),\n",
       " ('trying', 'VBG'),\n",
       " ('to', 'TO'),\n",
       " ('help', 'VB'),\n",
       " ('whatever', 'VB'),\n",
       " ('he', 'PRP'),\n",
       " ('can', 'MD'),\n",
       " ('.', '.')]"
      ]
     },
     "execution_count": 63,
     "metadata": {},
     "output_type": "execute_result"
    }
   ],
   "source": [
    "review_en['10022410'][1][1][0]"
   ]
  },
  {
   "cell_type": "markdown",
   "metadata": {},
   "source": [
    "lemmantization 적용후"
   ]
  },
  {
   "cell_type": "code",
   "execution_count": 68,
   "metadata": {},
   "outputs": [
    {
     "data": {
      "text/plain": [
       "['have_V',\n",
       " 'wonderful_J',\n",
       " 'stay_N',\n",
       " 'Kyungsoon_N',\n",
       " '’_N',\n",
       " 's_J',\n",
       " 'place_N',\n",
       " 'only_R',\n",
       " 'speak_V',\n",
       " 'little_J',\n",
       " 'English_J',\n",
       " \"'s_V\",\n",
       " 'always_R',\n",
       " 'try_V',\n",
       " 'help_V',\n",
       " 'whatever_V']"
      ]
     },
     "execution_count": 68,
     "metadata": {},
     "output_type": "execute_result"
    }
   ],
   "source": [
    "njvr_lemmantizer(review_en['10022410'][1][1][0])"
   ]
  },
  {
   "cell_type": "markdown",
   "metadata": {},
   "source": [
    "전체 리뷰에 적용하자"
   ]
  },
  {
   "cell_type": "code",
   "execution_count": 88,
   "metadata": {},
   "outputs": [],
   "source": [
    "for listing_id, rev_lst in tqdm.tqdm(review_en.items()):\n",
    "    for rev in rev_lst:\n",
    "        rev_tmp = []\n",
    "        for sent in rev[1]:\n",
    "            rev_tmp.append(njvr_lemmantizer(sent))\n",
    "        rev[1] = rev_tmp"
   ]
  },
  {
   "cell_type": "code",
   "execution_count": 91,
   "metadata": {},
   "outputs": [
    {
     "data": {
      "text/plain": [
       "[5,\n",
       " [['be_V', 'great_J', 'experience_N', 'stay_V', 'Jin_N', 'home_N'],\n",
       "  ['Jin_N', 'mother_N', 'brother_N', 'be_V', 'so_R', 'good_J', 'friendly_J'],\n",
       "  ['be_V', 'feel_V', 'be_V', 'stay_V', 'family_N'],\n",
       "  ['Jin_N',\n",
       "   'mother_N',\n",
       "   'have_V',\n",
       "   'wide_J',\n",
       "   'variety_N',\n",
       "   'cook_V',\n",
       "   'utensil_N',\n",
       "   'beautiful_J',\n",
       "   'kitchen_N'],\n",
       "  ['Sometimes_R', 'offer_V', 'tasty_J', 'Korean_J', 'food_N'],\n",
       "  ['Location_N',\n",
       "   'home_N',\n",
       "   'be_V',\n",
       "   'situate_V',\n",
       "   'minute_N',\n",
       "   'walk_V',\n",
       "   'distance_N',\n",
       "   'Pusan_N',\n",
       "   'national_J',\n",
       "   'university_N'],\n",
       "  ['be_V', 'so_R', 'many_J', 'mart_N', 'nearby_R', 'apartment_N'],\n",
       "  ['Last_J', 'not_R', 'least_J', 'miss_V', 'Jin_N', 'family_N', 'home_N']]]"
      ]
     },
     "execution_count": 91,
     "metadata": {},
     "output_type": "execute_result"
    }
   ],
   "source": [
    "list(review_en.items())[1][1][1]"
   ]
  },
  {
   "cell_type": "code",
   "execution_count": 92,
   "metadata": {},
   "outputs": [],
   "source": [
    "with open('review_en.json','w') as fp:\n",
    "    json.dump(review_en,fp)"
   ]
  },
  {
   "cell_type": "code",
   "execution_count": null,
   "metadata": {},
   "outputs": [],
   "source": []
  },
  {
   "cell_type": "markdown",
   "metadata": {},
   "source": [
    "데이터수집 완료 후 전처리"
   ]
  },
  {
   "cell_type": "code",
   "execution_count": 4,
   "metadata": {},
   "outputs": [],
   "source": [
    "with open('pos_review.json') as fp:\n",
    "    review = json.load(fp)"
   ]
  },
  {
   "cell_type": "code",
   "execution_count": 5,
   "metadata": {},
   "outputs": [
    {
     "data": {
      "text/plain": [
       "30569"
      ]
     },
     "execution_count": 5,
     "metadata": {},
     "output_type": "execute_result"
    }
   ],
   "source": [
    "len(review)"
   ]
  },
  {
   "cell_type": "code",
   "execution_count": 7,
   "metadata": {},
   "outputs": [],
   "source": [
    "voca_freq_dic = {}\n",
    "for rev_lst in review.values():\n",
    "    for rev in rev_lst:\n",
    "        for sent in rev[1]:\n",
    "            for word in sent:\n",
    "                if word in voca_freq_dic:\n",
    "                    voca_freq_dic[word] += 1\n",
    "                else:\n",
    "                    voca_freq_dic[word] = 1"
   ]
  },
  {
   "cell_type": "code",
   "execution_count": 8,
   "metadata": {},
   "outputs": [
    {
     "data": {
      "text/plain": [
       "147119"
      ]
     },
     "execution_count": 8,
     "metadata": {},
     "output_type": "execute_result"
    }
   ],
   "source": [
    "len(voca_freq_dic)"
   ]
  },
  {
   "cell_type": "code",
   "execution_count": 10,
   "metadata": {},
   "outputs": [
    {
     "data": {
      "text/plain": [
       "[('be_V', 1652787),\n",
       " ('very_R', 346535),\n",
       " ('have_V', 231030),\n",
       " ('place_N', 229608),\n",
       " ('good_J', 228951),\n",
       " ('clean_J', 181324),\n",
       " ('so_R', 163087),\n",
       " ('nice_J', 155968),\n",
       " ('room_N', 155617),\n",
       " ('host_N', 146170)]"
      ]
     },
     "execution_count": 10,
     "metadata": {},
     "output_type": "execute_result"
    }
   ],
   "source": [
    "sorted(voca_freq_dic.items(),key=lambda kv:kv[1],reverse=True)[:10]"
   ]
  },
  {
   "cell_type": "code",
   "execution_count": 12,
   "metadata": {},
   "outputs": [],
   "source": [
    "with open('voca_freq_dic.json','w') as fp:\n",
    "    json.dump(voca_freq_dic,fp)"
   ]
  },
  {
   "cell_type": "code",
   "execution_count": null,
   "metadata": {},
   "outputs": [],
   "source": []
  }
 ],
 "metadata": {
  "kernelspec": {
   "display_name": "Python 3",
   "language": "python",
   "name": "python3"
  },
  "language_info": {
   "codemirror_mode": {
    "name": "ipython",
    "version": 3
   },
   "file_extension": ".py",
   "mimetype": "text/x-python",
   "name": "python",
   "nbconvert_exporter": "python",
   "pygments_lexer": "ipython3",
   "version": "3.6.4"
  }
 },
 "nbformat": 4,
 "nbformat_minor": 2
}
