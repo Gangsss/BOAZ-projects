{
 "cells": [
  {
   "cell_type": "code",
   "execution_count": 2,
   "metadata": {},
   "outputs": [],
   "source": [
    "import os, glob\n",
    "import json, pickle\n",
    "import nltk\n",
    "import re\n",
    "from nltk import sent_tokenize\n",
    "from nltk.stem import WordNetLemmatizer\n",
    "\n",
    "from collections import Counter\n",
    "import tqdm"
   ]
  },
  {
   "cell_type": "code",
   "execution_count": 2,
   "metadata": {},
   "outputs": [],
   "source": [
    "# nltk.download('punkt')\n",
    "# nltk.download('wordnet')\n",
    "# nltk.download('tagsets')\n",
    "# nltk.download('stopword')\n",
    "# nltk.download('maxent_treebank_pos_tagger')\n",
    "# nltk.download('averaged_perceptron_tagger')"
   ]
  },
  {
   "cell_type": "code",
   "execution_count": 3,
   "metadata": {},
   "outputs": [
    {
     "data": {
      "text/plain": [
       "'C:\\\\Users\\\\Chankoo\\\\Desktop\\\\GitHub\\\\BOAZ-projects\\\\airbnb-NLP'"
      ]
     },
     "execution_count": 3,
     "metadata": {},
     "output_type": "execute_result"
    }
   ],
   "source": [
    "os.getcwd()"
   ]
  },
  {
   "cell_type": "code",
   "execution_count": 5,
   "metadata": {},
   "outputs": [],
   "source": [
    "os.chdir('./../airbnb-data')"
   ]
  },
  {
   "cell_type": "code",
   "execution_count": 6,
   "metadata": {},
   "outputs": [
    {
     "data": {
      "text/plain": [
       "['translated_busan.json',\n",
       " 'translated_daegu.json',\n",
       " 'translated_daejeon.json',\n",
       " 'translated_gangneung.json',\n",
       " 'translated_gwangju.json',\n",
       " 'translated_jeju.json',\n",
       " 'translated_jeonju.json',\n",
       " 'translated_seogwipo.json',\n",
       " 'translated_seoul.json',\n",
       " 'translated_seoul1.json',\n",
       " 'translated_seoul2.json',\n",
       " 'translated_seoul3.json',\n",
       " 'translated_yeosu.json']"
      ]
     },
     "execution_count": 6,
     "metadata": {},
     "output_type": "execute_result"
    }
   ],
   "source": [
    "file_lst = glob.glob('translated_*.json')\n",
    "file_lst"
   ]
  },
  {
   "cell_type": "code",
   "execution_count": 109,
   "metadata": {},
   "outputs": [],
   "source": [
    "review = {}\n",
    "for file in file_lst:\n",
    "    with open(file,'r',encoding='utf-8') as fp:\n",
    "        review.update(json.load(fp))"
   ]
  },
  {
   "cell_type": "code",
   "execution_count": 110,
   "metadata": {},
   "outputs": [
    {
     "data": {
      "text/plain": [
       "32957"
      ]
     },
     "execution_count": 110,
     "metadata": {},
     "output_type": "execute_result"
    }
   ],
   "source": [
    "len(review)"
   ]
  },
  {
   "cell_type": "code",
   "execution_count": 111,
   "metadata": {},
   "outputs": [
    {
     "data": {
      "text/plain": [
       "{'collection_tag': None,\n",
       " 'comments': '친구들이랑 6명이 갔는데\\n숙소 위치도 너무 좋고 방도 깨끗해서\\n다들 맘에 들어했어요!!\\n에어비엔비를  처음 이용해봤는데\\n너무 좋아서 다음번에도 이용할것같아요\\n해운대해변이랑도 걸어갈수 있고\\n연락도 너무 잘됐어요',\n",
       " 'created_at': '2016-10-08T23:57:42Z',\n",
       " 'id': 106917581,\n",
       " 'language': 'ko_en',\n",
       " 'localized_date': '2016년 10월',\n",
       " 'rating': 5,\n",
       " 'response': '',\n",
       " 'reviewee': {'deleted': False,\n",
       "  'first_name': 'Jaewook',\n",
       "  'host_name': 'Jaewook',\n",
       "  'id': 38530724,\n",
       "  'is_superhost': False,\n",
       "  'picture_url': 'https://a0.muscache.com/im/users/38530724/profile_pic/1436955527/original.jpg?aki_policy=profile_x_medium',\n",
       "  'profile_path': '/users/show/38530724'},\n",
       " 'reviewer': {'deleted': False,\n",
       "  'first_name': 'Joohee',\n",
       "  'host_name': 'Joohee',\n",
       "  'id': 96535213,\n",
       "  'is_superhost': False,\n",
       "  'picture_url': 'https://a0.muscache.com/im/pictures/32cbca58-85f2-47e5-b09c-a5ead7662304.jpg?aki_policy=profile_x_medium',\n",
       "  'profile_path': '/users/show/96535213'},\n",
       " 't_comments': 'I went to the dormitory with my friends. They liked the room because it was so nice and clean!This is my first time using Air Bienby. I love it, so I think I will use it next time.I can walk to Haeundae beach and the contact was great.'}"
      ]
     },
     "execution_count": 111,
     "metadata": {},
     "output_type": "execute_result"
    }
   ],
   "source": [
    "review['10030136'][0]"
   ]
  },
  {
   "cell_type": "code",
   "execution_count": 112,
   "metadata": {},
   "outputs": [],
   "source": [
    "review_en = {}\n",
    "for home_id,rev_lst in review.items():\n",
    "    review_en[home_id] = []\n",
    "    for rev in rev_lst:\n",
    "        if  rev['language'] is not None and rev['language'][-3:]=='_en':\n",
    "            review_en[home_id].append([rev['rating'],rev['t_comments']])\n",
    "        else:\n",
    "            continue"
   ]
  },
  {
   "cell_type": "code",
   "execution_count": 130,
   "metadata": {},
   "outputs": [
    {
     "data": {
      "text/plain": [
       "[[5,\n",
       "  'I went to the dormitory with my friends. They liked the room because it was so nice and clean!This is my first time using Air Bienby. I love it, so I think I will use it next time.I can walk to Haeundae beach and the contact was great.'],\n",
       " [5,\n",
       "  \"The room was spacious and spacious, and the two bedrooms could be seen from the window.When we went there, we caught the typhoon and fortunately the room was occupied with double-decked windows.The room is modern and technological.Overall, it's pretty good.\"],\n",
       " [5,\n",
       "  \"When I arrived, my family praised me for my clean and spacious accommodation! The front was a construction site, so the view wasn't 100 percent cool, but it was enough to last.Ha\"],\n",
       " [5,\n",
       "  \"The room is prettier and more sunny than the one you see in the picture. Especially, Haeundae Beach looks so peaceful, with two harmonics in the living room brightening the atmosphere of the interior.Thanks to the host's consideration, I could take a comfortable trip to Busan.Thank you.\"],\n",
       " [4,\n",
       "  'It was a great location for the cleanness and rescue of the accommodation.All of us were satisfied and would like to use it again next time.'],\n",
       " [5,\n",
       "  \"The accommodation was exactly the same as the photo and it was really clean like the picture. Usually, the dishes and spoons at the lodging area were not clean, so I didn't have to. The kitchen was as clean as new, and the bed cover and bathroom were excellent. I stayed with six people, and they said the heating was good and everyone liked their accommodation. Right after the building, there was a white sand beach in Haeundae, so it was great to take a walk in the evening and there was convenience facilities around. It was nice to have good accommodation at a good price.\"],\n",
       " [5,\n",
       "  \"It's too nice a place to go on a family trip.The view was so nice and neat. Thanks to my family, it was a pleasant trip.\"],\n",
       " [5,\n",
       "  \"It was very nice because it is located right in front of Haeundae.I loved the view of the sea.I went there with my family, but I felt at home.I'll come back to the wall again.^^\"]]"
      ]
     },
     "execution_count": 130,
     "metadata": {},
     "output_type": "execute_result"
    }
   ],
   "source": [
    "review_en['10030136']"
   ]
  },
  {
   "cell_type": "code",
   "execution_count": 96,
   "metadata": {},
   "outputs": [],
   "source": [
    "## spacing 필요하지않을까?? 문장 마침표 후 띄어쓰기 안된 경우 보정하자 "
   ]
  },
  {
   "cell_type": "code",
   "execution_count": 127,
   "metadata": {},
   "outputs": [],
   "source": [
    "tmp_sent = 'I went to the dormitory with my friends.They liked the room because it was so nice and clean!This is my first time using Air Bienby.I love it, so I think I will use it next time.I can walk to Haeundae beach and the contact was great.'"
   ]
  },
  {
   "cell_type": "code",
   "execution_count": 128,
   "metadata": {},
   "outputs": [],
   "source": [
    "txt = tmp_sent\n",
    "txt = re.sub('[^a-z|A-Z|0-9|.!?,\\')(|\\s]','',txt.strip())\n",
    "txt = re.sub( r'([a-zA-Z])([.!?])([a-zA-Z])', r'\\1\\2 \\3', txt)"
   ]
  },
  {
   "cell_type": "code",
   "execution_count": 129,
   "metadata": {},
   "outputs": [
    {
     "data": {
      "text/plain": [
       "'I went to the dormitory with my friends. They liked the room because it was so nice and clean! This is my first time using Air Bienby. I love it, so I think I will use it next time. I can walk to Haeundae beach and the contact was great.'"
      ]
     },
     "execution_count": 129,
     "metadata": {},
     "output_type": "execute_result"
    }
   ],
   "source": [
    "txt"
   ]
  },
  {
   "cell_type": "code",
   "execution_count": 97,
   "metadata": {},
   "outputs": [
    {
     "data": {
      "text/plain": [
       "\"asdlk. fj!          a(sd)f 'asd  23!!as\""
      ]
     },
     "execution_count": 97,
     "metadata": {},
     "output_type": "execute_result"
    }
   ],
   "source": [
    "re.sub('[^a-z|A-Z|0-9|.!?,\\')(|\\s]','','asdlk. fj!          a(sd)fㅁㄴ 아\\'as\\\"d  23ㅁㄴㅇ!!@as')"
   ]
  },
  {
   "cell_type": "code",
   "execution_count": 131,
   "metadata": {},
   "outputs": [],
   "source": [
    "for k,rev_lst in review_en.items():\n",
    "    for i,rev in enumerate(rev_lst):\n",
    "        txt = rev[1]\n",
    "        txt = re.sub('[^a-z|A-Z|0-9|.!?,\\')(|\\s]','',txt.strip())\n",
    "        txt = re.sub( r'([a-zA-Z])([.!?])([a-zA-Z])', r'\\1\\2 \\3', txt)\n",
    "        rev_lst[i][1] = txt"
   ]
  },
  {
   "cell_type": "code",
   "execution_count": 99,
   "metadata": {},
   "outputs": [],
   "source": [
    "# breakpoint = 0\n",
    "# for k,rev_lst in review_en.items():\n",
    "#     for rev in rev_lst:\n",
    "#         if breakpoint == 1000:\n",
    "#             break\n",
    "#         print(rev[1],end='\\n\\n')\n",
    "#         breakpoint+=1"
   ]
  },
  {
   "cell_type": "code",
   "execution_count": 132,
   "metadata": {},
   "outputs": [
    {
     "data": {
      "text/plain": [
       "['The room was spacious and spacious, and the two bedrooms could be seen from the window.',\n",
       " 'When we went there, we caught the typhoon and fortunately the room was occupied with doubledecked windows.',\n",
       " 'The room is modern and technological.',\n",
       " \"Overall, it's pretty good.\"]"
      ]
     },
     "execution_count": 132,
     "metadata": {},
     "output_type": "execute_result"
    }
   ],
   "source": [
    "sent_tokenize(review_en['10030136'][1][1]) # sent_tokenize 안되는 리뷰 꽤 있음 -> 해결"
   ]
  },
  {
   "cell_type": "code",
   "execution_count": 133,
   "metadata": {},
   "outputs": [
    {
     "name": "stdout",
     "output_type": "stream",
     "text": [
      "Wall time: 1min 20s\n"
     ]
    }
   ],
   "source": [
    "%%time\n",
    "# 리뷰별 문장단위 tokenizing\n",
    "for home_id,rev_lst in review_en.items():\n",
    "    for rev in rev_lst:\n",
    "        rev[1] = sent_tokenize(rev[1])"
   ]
  },
  {
   "cell_type": "code",
   "execution_count": null,
   "metadata": {},
   "outputs": [],
   "source": [
    "# 이후 부적절한 길이의 문장 제거"
   ]
  },
  {
   "cell_type": "code",
   "execution_count": 147,
   "metadata": {},
   "outputs": [],
   "source": [
    "for home_id,rev_lst in review_en.items():\n",
    "    for i,rev in enumerate(rev_lst):\n",
    "        tmp_rev = []\n",
    "        for sent in rev[1]:\n",
    "            if len(sent) < 5:\n",
    "                continue\n",
    "            else:\n",
    "                tmp_rev.append(sent)\n",
    "        rev_lst[i][1] = tmp_rev"
   ]
  },
  {
   "cell_type": "code",
   "execution_count": null,
   "metadata": {},
   "outputs": [],
   "source": []
  },
  {
   "cell_type": "code",
   "execution_count": 148,
   "metadata": {},
   "outputs": [
    {
     "name": "stdout",
     "output_type": "stream",
     "text": [
      "Wall time: 5min 32s\n"
     ]
    }
   ],
   "source": [
    "%%time \n",
    "# 문장별 단어단위 tokenizing\n",
    "for home_id,rev_lst in review_en.items(): \n",
    "    for rev in rev_lst:\n",
    "        tmp_lst = []\n",
    "        for sent in rev[1]:\n",
    "            word_lst = nltk.word_tokenize(sent)\n",
    "            tmp_lst.append(word_lst)\n",
    "        rev[1] = tmp_lst"
   ]
  },
  {
   "cell_type": "code",
   "execution_count": 149,
   "metadata": {
    "scrolled": true
   },
   "outputs": [
    {
     "data": {
      "text/plain": [
       "[('The', 'DT'),\n",
       " ('room', 'NN'),\n",
       " ('was', 'VBD'),\n",
       " ('spacious', 'JJ'),\n",
       " ('and', 'CC'),\n",
       " ('spacious', 'JJ'),\n",
       " (',', ','),\n",
       " ('and', 'CC'),\n",
       " ('the', 'DT'),\n",
       " ('two', 'CD'),\n",
       " ('bedrooms', 'NNS'),\n",
       " ('could', 'MD'),\n",
       " ('be', 'VB'),\n",
       " ('seen', 'VBN'),\n",
       " ('from', 'IN'),\n",
       " ('the', 'DT'),\n",
       " ('window', 'NN'),\n",
       " ('.', '.')]"
      ]
     },
     "execution_count": 149,
     "metadata": {},
     "output_type": "execute_result"
    }
   ],
   "source": [
    "nltk.pos_tag(review_en['10030136'][1][1][0])"
   ]
  },
  {
   "cell_type": "code",
   "execution_count": null,
   "metadata": {},
   "outputs": [],
   "source": []
  },
  {
   "cell_type": "code",
   "execution_count": 150,
   "metadata": {},
   "outputs": [],
   "source": [
    "k_to_drop = []\n",
    "for k,rev_lst in review_en.items():\n",
    "    if review_en[k] == []:\n",
    "        k_to_drop.append(k)"
   ]
  },
  {
   "cell_type": "code",
   "execution_count": 151,
   "metadata": {},
   "outputs": [],
   "source": [
    "for k in k_to_drop:\n",
    "    del review_en[k]"
   ]
  },
  {
   "cell_type": "code",
   "execution_count": 152,
   "metadata": {},
   "outputs": [
    {
     "data": {
      "text/plain": [
       "22886"
      ]
     },
     "execution_count": 152,
     "metadata": {},
     "output_type": "execute_result"
    }
   ],
   "source": [
    "len(review_en) # 리뷰없는 방 제거 후 "
   ]
  },
  {
   "cell_type": "code",
   "execution_count": 183,
   "metadata": {},
   "outputs": [],
   "source": [
    "for home_id,rev_lst in tqdm.tqdm(review_en.items()):\n",
    "    for rev in rev_lst:\n",
    "        tmp_lst = []\n",
    "        for sent_bow in rev[1]:\n",
    "            sent_pos = nltk.pos_tag(sent_bow)\n",
    "            tmp_lst.append(sent_pos)\n",
    "        rev[1] = tmp_lst"
   ]
  },
  {
   "cell_type": "markdown",
   "metadata": {},
   "source": [
    "### 데이터 구조를 보자\n",
    "\n",
    "- review_en == {home_id: [rev0, rev1, ...]}\n",
    "    - rev0 == [rating, [sent0, sent1, ...]]\n",
    "        - sent0 == [(word0,POS0),(word1,POS1), ...]\n",
    "    "
   ]
  },
  {
   "cell_type": "code",
   "execution_count": null,
   "metadata": {},
   "outputs": [],
   "source": []
  },
  {
   "cell_type": "code",
   "execution_count": 154,
   "metadata": {},
   "outputs": [],
   "source": [
    "# with open('review_en_pos_0113_2.dic','wb') as fp:\n",
    "#     pickle.dump(review_en,fp)"
   ]
  },
  {
   "cell_type": "code",
   "execution_count": 155,
   "metadata": {},
   "outputs": [
    {
     "data": {
      "text/plain": [
       "[5,\n",
       " [[('Very', 'RB'), ('good', 'JJ'), ('.', '.')],\n",
       "  [('The', 'DT'),\n",
       "   ('landlord', 'NN'),\n",
       "   ('is', 'VBZ'),\n",
       "   ('very', 'RB'),\n",
       "   ('enthusiastic', 'JJ'),\n",
       "   ('.', '.')],\n",
       "  [('It', 'PRP'),\n",
       "   (\"'s\", 'VBZ'),\n",
       "   ('a', 'DT'),\n",
       "   ('little', 'JJ'),\n",
       "   ('bug', 'NN'),\n",
       "   ('in', 'IN'),\n",
       "   ('the', 'DT'),\n",
       "   ('house', 'NN'),\n",
       "   ('.', '.')]]]"
      ]
     },
     "execution_count": 155,
     "metadata": {},
     "output_type": "execute_result"
    }
   ],
   "source": [
    "review_en['10022410'][0] # rev0의 예시"
   ]
  },
  {
   "cell_type": "markdown",
   "metadata": {},
   "source": [
    "unpacking과 zip 함수 이용해 rating과 review를 각각을 뽑아 리스트로 만들 수도 있다"
   ]
  },
  {
   "cell_type": "code",
   "execution_count": 156,
   "metadata": {},
   "outputs": [],
   "source": [
    "rating_lst, rev_lst = zip(*review_en['10022410'])"
   ]
  },
  {
   "cell_type": "code",
   "execution_count": 157,
   "metadata": {},
   "outputs": [
    {
     "data": {
      "text/plain": [
       "(5, 5, 5, 5, 3, 5, 2, 5, 5, 2, 5, 5, 5, 4, 5, 5, 3, 4, 5, 5, 4, 4, 5)"
      ]
     },
     "execution_count": 157,
     "metadata": {},
     "output_type": "execute_result"
    }
   ],
   "source": [
    "rating_lst"
   ]
  },
  {
   "cell_type": "code",
   "execution_count": 158,
   "metadata": {},
   "outputs": [
    {
     "data": {
      "text/plain": [
       "[[('Very', 'RB'), ('good', 'JJ'), ('.', '.')],\n",
       " [('The', 'DT'),\n",
       "  ('landlord', 'NN'),\n",
       "  ('is', 'VBZ'),\n",
       "  ('very', 'RB'),\n",
       "  ('enthusiastic', 'JJ'),\n",
       "  ('.', '.')],\n",
       " [('It', 'PRP'),\n",
       "  (\"'s\", 'VBZ'),\n",
       "  ('a', 'DT'),\n",
       "  ('little', 'JJ'),\n",
       "  ('bug', 'NN'),\n",
       "  ('in', 'IN'),\n",
       "  ('the', 'DT'),\n",
       "  ('house', 'NN'),\n",
       "  ('.', '.')]]"
      ]
     },
     "execution_count": 158,
     "metadata": {},
     "output_type": "execute_result"
    }
   ],
   "source": [
    "rev_lst[0]"
   ]
  },
  {
   "cell_type": "code",
   "execution_count": 159,
   "metadata": {},
   "outputs": [],
   "source": [
    "ratings = []\n",
    "review_wo_ratings = []\n",
    "for k,rev_lst in review_en.items():\n",
    "    tmp_rating, tmp_rev = zip(*review_en[k])\n",
    "    ratings += tmp_rating\n",
    "    review_wo_ratings += tmp_rev"
   ]
  },
  {
   "cell_type": "code",
   "execution_count": 160,
   "metadata": {},
   "outputs": [
    {
     "data": {
      "text/plain": [
       "383823"
      ]
     },
     "execution_count": 160,
     "metadata": {},
     "output_type": "execute_result"
    }
   ],
   "source": [
    "len(ratings)"
   ]
  },
  {
   "cell_type": "code",
   "execution_count": 161,
   "metadata": {},
   "outputs": [
    {
     "data": {
      "text/plain": [
       "383823"
      ]
     },
     "execution_count": 161,
     "metadata": {},
     "output_type": "execute_result"
    }
   ],
   "source": [
    "len(review_wo_ratings)"
   ]
  },
  {
   "cell_type": "code",
   "execution_count": 162,
   "metadata": {},
   "outputs": [],
   "source": [
    "# with open('ratings_0113.lst','wb') as fp:\n",
    "#     pickle.dump(ratings,fp)"
   ]
  },
  {
   "cell_type": "code",
   "execution_count": 18,
   "metadata": {},
   "outputs": [],
   "source": [
    "# with open('pos_lst_review.json','w') as fp:\n",
    "#     json.dump(review_en,fp)"
   ]
  },
  {
   "cell_type": "code",
   "execution_count": 179,
   "metadata": {},
   "outputs": [],
   "source": [
    "with open('review_en_pos_0113_2.dic','rb') as fp:\n",
    "    review_en = pickle.load(fp)"
   ]
  },
  {
   "cell_type": "markdown",
   "metadata": {},
   "source": [
    "고유명사 제외한다"
   ]
  },
  {
   "cell_type": "code",
   "execution_count": 163,
   "metadata": {},
   "outputs": [],
   "source": [
    "NNP_lst = []\n",
    "for k,rev_lst in review_en.items():\n",
    "    for rev in rev_lst:\n",
    "        for sent in rev[1]:\n",
    "            for w in sent:\n",
    "                if w[1] == 'NNP' or w[1] == 'NNPS':\n",
    "                    NNP_lst.append(w)"
   ]
  },
  {
   "cell_type": "code",
   "execution_count": 164,
   "metadata": {},
   "outputs": [
    {
     "data": {
      "text/plain": [
       "426427"
      ]
     },
     "execution_count": 164,
     "metadata": {},
     "output_type": "execute_result"
    }
   ],
   "source": [
    "len(NNP_lst)"
   ]
  },
  {
   "cell_type": "code",
   "execution_count": 166,
   "metadata": {},
   "outputs": [
    {
     "data": {
      "text/plain": [
       "[(('Thank', 'NNP'), 38231),\n",
       " (('Jeju', 'NNP'), 21443),\n",
       " (('Station', 'NNP'), 14392),\n",
       " (('Seoul', 'NNP'), 11541),\n",
       " (('Busan', 'NNP'), 10927),\n",
       " (('Island', 'NNP'), 9921),\n",
       " (('First', 'NNP'), 7133),\n",
       " (('Haeundae', 'NNP'), 6802),\n",
       " (('Airbnb', 'NNP'), 6347),\n",
       " (('Village', 'NNP'), 4290),\n",
       " (('Korea', 'NNP'), 4251),\n",
       " (('Hanok', 'NNP'), 4243),\n",
       " (('Beach', 'NNP'), 3895),\n",
       " (('Please', 'NNP'), 3468),\n",
       " (('Daegu', 'NNP'), 3062),\n",
       " (('Lotte', 'NNP'), 2856),\n",
       " (('Jeonju', 'NNP'), 2619),\n",
       " (('Gangnam', 'NNP'), 2588),\n",
       " (('University', 'NNP'), 2547),\n",
       " (('Hongdae', 'NNP'), 2464),\n",
       " (('Gangneung', 'NNP'), 2211),\n",
       " (('Yeosu', 'NNP'), 2185),\n",
       " (('Seongsan', 'NNP'), 2141),\n",
       " (('Nice', 'NNP'), 2108),\n",
       " (('Myeongdong', 'NNP'), 2021),\n",
       " (('Host', 'NNP'), 2019),\n",
       " (('Itaewon', 'NNP'), 1926),\n",
       " (('Gwangalli', 'NNP'), 1920),\n",
       " (('Park', 'NNP'), 1913),\n",
       " (('Clean', 'NNP'), 1901)]"
      ]
     },
     "execution_count": 166,
     "metadata": {},
     "output_type": "execute_result"
    }
   ],
   "source": [
    "sorted(Counter(NNP_lst).items(),key=lambda kv:kv[1],reverse=True)[:30]"
   ]
  },
  {
   "cell_type": "code",
   "execution_count": null,
   "metadata": {},
   "outputs": [],
   "source": [
    "#NNP 제거?? LDA 할때 제거"
   ]
  },
  {
   "cell_type": "code",
   "execution_count": 167,
   "metadata": {},
   "outputs": [],
   "source": [
    "NNP_to_leave = ['Thank','Station','Island','Hanok','Village','University','Beach','Please','Nice','Bridge','City','Market','WiFi','Host','Breakfast','Mart','English','Bedding','House','River','World','View','Airport','Recommend','Tower','Korean'\n",
    "                ,'Line','Stay','Korean','Store','Lake','Okay','Port','Bluetooth','Kind'\n",
    "                ,'Exit','Peak','Ocean','Hotel','Chinese','Sea','Hot','Hidden','Christmas','Internet','Starbucks','Water','Cafe','Home','Bus','Take','Center','Room'\n",
    "                ,'Good','Hall','Great','Amenity','Subway','Museum','International','Rest','Clean']"
   ]
  },
  {
   "cell_type": "code",
   "execution_count": 168,
   "metadata": {},
   "outputs": [],
   "source": [
    "for k,rev_lst in review_en.items():\n",
    "    for rev in rev_lst:\n",
    "        for i,sent in enumerate(rev[1]):\n",
    "            tmp_sent = []\n",
    "            for word in sent:\n",
    "                if word[1] == 'NNP' and word[0] not in NNP_to_leave:\n",
    "                    continue # drop this\n",
    "                else:\n",
    "                    tmp_sent.append(word)\n",
    "            rev[1][i] = tmp_sent\n",
    "                    \n",
    "                    "
   ]
  },
  {
   "cell_type": "code",
   "execution_count": null,
   "metadata": {},
   "outputs": [],
   "source": []
  },
  {
   "cell_type": "code",
   "execution_count": null,
   "metadata": {},
   "outputs": [],
   "source": []
  },
  {
   "cell_type": "code",
   "execution_count": null,
   "metadata": {},
   "outputs": [],
   "source": []
  },
  {
   "cell_type": "markdown",
   "metadata": {},
   "source": [
    "TF-IDF 적용해 중요한 단어만 남긴다"
   ]
  },
  {
   "cell_type": "code",
   "execution_count": 56,
   "metadata": {},
   "outputs": [],
   "source": [
    "# words = []\n",
    "# for w, rev_lst in review_en.items():\n",
    "#     for rev in rev_lst:\n",
    "#         for sent in rev[1]:\n",
    "#             for w in sent:\n",
    "#                 if w[1] == 'NNP' or w[1] == 'NNPS':\n",
    "#                     continue\n",
    "#                 else:\n",
    "#                     words.append(w)"
   ]
  },
  {
   "cell_type": "code",
   "execution_count": 59,
   "metadata": {},
   "outputs": [],
   "source": [
    "# ws,tags = zip(*words)"
   ]
  },
  {
   "cell_type": "code",
   "execution_count": 60,
   "metadata": {},
   "outputs": [],
   "source": [
    "# unq_words = set(ws)"
   ]
  },
  {
   "cell_type": "code",
   "execution_count": 61,
   "metadata": {},
   "outputs": [
    {
     "data": {
      "text/plain": [
       "175632"
      ]
     },
     "execution_count": 61,
     "metadata": {},
     "output_type": "execute_result"
    }
   ],
   "source": [
    "# len(unq_words)"
   ]
  },
  {
   "cell_type": "code",
   "execution_count": 62,
   "metadata": {},
   "outputs": [],
   "source": [
    "# doc_tokens = {}\n",
    "# maxCount = {}\n",
    "\n",
    "# for i,lst in enumerate(unq_words):\n",
    "#     maxCount[i] = 0\n",
    "#     tmp_tokens = {}\n",
    "    \n",
    "#     for w in lst:\n",
    "#         if w in tmp_tokens.keys():\n",
    "#             tmp_tokens[w] += 1\n",
    "#         else:\n",
    "#             tmp_tokens[w] = 1\n",
    "\n",
    "#         if maxCount[i] < tmp_tokens[w]:\n",
    "#             maxCount[i] = tmp_tokens[w]\n",
    "                    \n",
    "#     doc_tokens[i] = tmp_tokens\n"
   ]
  },
  {
   "cell_type": "code",
   "execution_count": null,
   "metadata": {},
   "outputs": [],
   "source": []
  },
  {
   "cell_type": "code",
   "execution_count": null,
   "metadata": {},
   "outputs": [],
   "source": []
  },
  {
   "cell_type": "markdown",
   "metadata": {},
   "source": [
    "명사, 형용사, 동사, 부사를 뽑아 lemmantization 시켜주자\n",
    "\n",
    "함수 njvr_lemmantizer를 정의한다\n"
   ]
  },
  {
   "cell_type": "code",
   "execution_count": 169,
   "metadata": {},
   "outputs": [],
   "source": [
    "lemm = WordNetLemmatizer()\n",
    "def njvr_lemmantizer(sent):\n",
    "    global lemm\n",
    "    \n",
    "    lemm_sent = []\n",
    "    for word_pos in sent:\n",
    "        word,pos=word_pos\n",
    "        if pos[0] == 'N':\n",
    "            lemm_sent.append(lemm.lemmatize(word,pos='n'))\n",
    "        elif pos[0] == 'J':\n",
    "            lemm_sent.append(lemm.lemmatize(word,pos='a'))\n",
    "        elif pos[0] == 'V':\n",
    "            lemm_sent.append(lemm.lemmatize(word,pos='v'))\n",
    "        elif pos[0] == 'R':\n",
    "            lemm_sent.append(lemm.lemmatize(word,pos='r'))\n",
    "        else:pass\n",
    "    return lemm_sent"
   ]
  },
  {
   "cell_type": "markdown",
   "metadata": {},
   "source": [
    "샘플 sentence"
   ]
  },
  {
   "cell_type": "code",
   "execution_count": 170,
   "metadata": {},
   "outputs": [
    {
     "data": {
      "text/plain": [
       "[('The', 'DT'),\n",
       " ('space', 'NN'),\n",
       " ('was', 'VBD'),\n",
       " ('very', 'RB'),\n",
       " ('clean', 'JJ'),\n",
       " ('and', 'CC'),\n",
       " ('the', 'DT'),\n",
       " ('view', 'NN'),\n",
       " ('of', 'IN'),\n",
       " ('the', 'DT'),\n",
       " ('sea', 'NN'),\n",
       " ('was', 'VBD'),\n",
       " ('very', 'RB'),\n",
       " ('good', 'JJ'),\n",
       " ('.', '.')]"
      ]
     },
     "execution_count": 170,
     "metadata": {},
     "output_type": "execute_result"
    }
   ],
   "source": [
    "review_en['10022410'][1][1][0]"
   ]
  },
  {
   "cell_type": "markdown",
   "metadata": {},
   "source": [
    "lemmantization 적용후"
   ]
  },
  {
   "cell_type": "code",
   "execution_count": 171,
   "metadata": {},
   "outputs": [
    {
     "data": {
      "text/plain": [
       "['space', 'be', 'very', 'clean', 'view', 'sea', 'be', 'very', 'good']"
      ]
     },
     "execution_count": 171,
     "metadata": {},
     "output_type": "execute_result"
    }
   ],
   "source": [
    "njvr_lemmantizer(review_en['10022410'][1][1][0])"
   ]
  },
  {
   "cell_type": "markdown",
   "metadata": {},
   "source": [
    "전체 리뷰에 적용하자"
   ]
  },
  {
   "cell_type": "code",
   "execution_count": 184,
   "metadata": {},
   "outputs": [],
   "source": [
    "for listing_id, rev_lst in tqdm.tqdm(review_en.items()):\n",
    "    for rev in rev_lst:\n",
    "        rev_tmp = []\n",
    "        for sent in rev[1]:\n",
    "            rev_tmp.append(njvr_lemmantizer(sent))\n",
    "        rev[1] = rev_tmp"
   ]
  },
  {
   "cell_type": "code",
   "execution_count": 173,
   "metadata": {},
   "outputs": [
    {
     "data": {
      "text/plain": [
       "[5,\n",
       " [['be', 'second', 'stay', 'hearty', 'breakfast', 'be', 'definitely', 'great'],\n",
       "  ['Other',\n",
       "   'like',\n",
       "   'visit',\n",
       "   'store',\n",
       "   'visit',\n",
       "   'doctor',\n",
       "   'Chinese',\n",
       "   'medicine',\n",
       "   'again']]]"
      ]
     },
     "execution_count": 173,
     "metadata": {},
     "output_type": "execute_result"
    }
   ],
   "source": [
    "list(review_en.items())[9][1][1]"
   ]
  },
  {
   "cell_type": "code",
   "execution_count": 74,
   "metadata": {},
   "outputs": [],
   "source": []
  },
  {
   "cell_type": "markdown",
   "metadata": {},
   "source": [
    "to_lower"
   ]
  },
  {
   "cell_type": "code",
   "execution_count": 185,
   "metadata": {},
   "outputs": [],
   "source": [
    "for listing_id, rev_lst in tqdm.tqdm(review_en.items()):\n",
    "    for rev in rev_lst:\n",
    "        for i,sent in enumerate(rev[1]):\n",
    "            rev[1][i] = list(map(str.lower,sent))"
   ]
  },
  {
   "cell_type": "code",
   "execution_count": 182,
   "metadata": {},
   "outputs": [],
   "source": [
    "with open('review_NJVR_with_NNP_0113.json','w') as fp:\n",
    "    json.dump(review_en,fp)"
   ]
  },
  {
   "cell_type": "code",
   "execution_count": null,
   "metadata": {},
   "outputs": [],
   "source": []
  }
 ],
 "metadata": {
  "kernelspec": {
   "display_name": "Python 3",
   "language": "python",
   "name": "python3"
  },
  "language_info": {
   "codemirror_mode": {
    "name": "ipython",
    "version": 3
   },
   "file_extension": ".py",
   "mimetype": "text/x-python",
   "name": "python",
   "nbconvert_exporter": "python",
   "pygments_lexer": "ipython3",
   "version": "3.6.4"
  }
 },
 "nbformat": 4,
 "nbformat_minor": 2
}
