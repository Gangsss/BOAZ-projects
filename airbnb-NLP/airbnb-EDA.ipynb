{
 "cells": [
  {
   "cell_type": "code",
   "execution_count": 81,
   "metadata": {},
   "outputs": [],
   "source": [
    "import json\n",
    "import os\n",
    "from collections import Counter\n",
    "import pandas as pd\n",
    "import numpy as np\n",
    "import glob\n",
    "import matplotlib.pyplot as plt\n",
    "%matplotlib inline\n",
    "import seaborn as sns\n"
   ]
  },
  {
   "cell_type": "code",
   "execution_count": 2,
   "metadata": {},
   "outputs": [
    {
     "data": {
      "text/plain": [
       "'C:\\\\Users\\\\Chankoo\\\\Desktop\\\\GitHub\\\\BOAZ-projects\\\\airbnb-NLP'"
      ]
     },
     "execution_count": 2,
     "metadata": {},
     "output_type": "execute_result"
    }
   ],
   "source": [
    "os.getcwd()"
   ]
  },
  {
   "cell_type": "code",
   "execution_count": 3,
   "metadata": {},
   "outputs": [],
   "source": [
    "os.chdir('./../airbnb-data')"
   ]
  },
  {
   "cell_type": "code",
   "execution_count": 24,
   "metadata": {},
   "outputs": [
    {
     "data": {
      "text/plain": [
       "['review_final_busan_70028.json',\n",
       " 'review_final_daegu_33689.json',\n",
       " 'review_final_jeju_143957.json',\n",
       " 'review_final_jeonju_13647.json',\n",
       " 'review_final_seogwipo_42976.json',\n",
       " 'review_final_seoul_326990.json']"
      ]
     },
     "execution_count": 24,
     "metadata": {},
     "output_type": "execute_result"
    }
   ],
   "source": [
    "review_lst = glob.glob('review_final_*.json')\n",
    "review_lst"
   ]
  },
  {
   "cell_type": "code",
   "execution_count": 25,
   "metadata": {},
   "outputs": [],
   "source": [
    "review = {}\n",
    "for file in review_lst:\n",
    "    with open(file,'r',encoding='utf-8') as fp:\n",
    "        review.update(json.load(fp))"
   ]
  },
  {
   "cell_type": "code",
   "execution_count": 36,
   "metadata": {},
   "outputs": [],
   "source": [
    "# merge한 데이터 json으로 저장한다\n",
    "# with open('review_raw.json','w',encoding='utf-8') as fp:\n",
    "#     json.dump(review,fp,ensure_ascii=False)"
   ]
  },
  {
   "cell_type": "code",
   "execution_count": 26,
   "metadata": {},
   "outputs": [
    {
     "data": {
      "text/plain": [
       "28837"
      ]
     },
     "execution_count": 26,
     "metadata": {},
     "output_type": "execute_result"
    }
   ],
   "source": [
    "len(review.keys())  # 숙소id 개수"
   ]
  },
  {
   "cell_type": "code",
   "execution_count": 39,
   "metadata": {},
   "outputs": [
    {
     "data": {
      "text/plain": [
       "{'collection_tag': None,\n",
       " 'comments': '친구들이랑 6명이 갔는데\\n숙소 위치도 너무 좋고 방도 깨끗해서\\n다들 맘에 들어했어요!!\\n에어비엔비를  처음 이용해봤는데\\n너무 좋아서 다음번에도 이용할것같아요\\n해운대해변이랑도 걸어갈수 있고\\n연락도 너무 잘됐어요',\n",
       " 'created_at': '2016-10-08T23:57:42Z',\n",
       " 'id': 106917581,\n",
       " 'language': 'ko',\n",
       " 'localized_date': '2016년 10월',\n",
       " 'rating': 5,\n",
       " 'response': '',\n",
       " 'reviewee': {'deleted': False,\n",
       "  'first_name': 'Jaewook',\n",
       "  'host_name': 'Jaewook',\n",
       "  'id': 38530724,\n",
       "  'is_superhost': False,\n",
       "  'picture_url': 'https://a0.muscache.com/im/users/38530724/profile_pic/1436955527/original.jpg?aki_policy=profile_x_medium',\n",
       "  'profile_path': '/users/show/38530724'},\n",
       " 'reviewer': {'deleted': False,\n",
       "  'first_name': 'Joohee',\n",
       "  'host_name': 'Joohee',\n",
       "  'id': 96535213,\n",
       "  'is_superhost': False,\n",
       "  'picture_url': 'https://a0.muscache.com/im/pictures/32cbca58-85f2-47e5-b09c-a5ead7662304.jpg?aki_policy=profile_x_medium',\n",
       "  'profile_path': '/users/show/96535213'}}"
      ]
     },
     "execution_count": 39,
     "metadata": {},
     "output_type": "execute_result"
    }
   ],
   "source": [
    "list(review.values())[0][0] # 데이터 구조를 보자. 숙소id를 key로, 리뷰들의 리스트를 value로 갖는다"
   ]
  },
  {
   "cell_type": "markdown",
   "metadata": {},
   "source": [
    "다행스럽게도 리뷰별로 rating이 있다"
   ]
  },
  {
   "cell_type": "code",
   "execution_count": 27,
   "metadata": {},
   "outputs": [],
   "source": [
    "ratings = {}\n",
    "for k,vals in review.items():\n",
    "    ratings[k] = []\n",
    "    for val in vals:\n",
    "        ratings[k].append(val['rating'])"
   ]
  },
  {
   "cell_type": "code",
   "execution_count": 28,
   "metadata": {},
   "outputs": [],
   "source": [
    "rating_all = []\n",
    "for vals in ratings.values():\n",
    "    rating_all.extend(vals)"
   ]
  },
  {
   "cell_type": "code",
   "execution_count": 29,
   "metadata": {},
   "outputs": [],
   "source": [
    "rating_count = Counter(rating_all)"
   ]
  },
  {
   "cell_type": "code",
   "execution_count": 30,
   "metadata": {},
   "outputs": [
    {
     "data": {
      "text/plain": [
       "Counter({0: 4447, 1: 1884, 2: 3147, 3: 16776, 4: 104873, 5: 450276})"
      ]
     },
     "execution_count": 30,
     "metadata": {},
     "output_type": "execute_result"
    }
   ],
   "source": [
    "rating_count # 대부분이 5점"
   ]
  },
  {
   "cell_type": "code",
   "execution_count": 31,
   "metadata": {},
   "outputs": [
    {
     "data": {
      "text/plain": [
       "581403"
      ]
     },
     "execution_count": 31,
     "metadata": {},
     "output_type": "execute_result"
    }
   ],
   "source": [
    "sum(rating_count.values()) # 전체 rating 개수 == 전체 리뷰 개수"
   ]
  },
  {
   "cell_type": "markdown",
   "metadata": {},
   "source": [
    "평균구해보자"
   ]
  },
  {
   "cell_type": "code",
   "execution_count": 32,
   "metadata": {},
   "outputs": [],
   "source": [
    "rate_all=0\n",
    "for rate,cnt in rating_count.items():\n",
    "    rate_all += rate*cnt\n",
    "    "
   ]
  },
  {
   "cell_type": "code",
   "execution_count": 33,
   "metadata": {},
   "outputs": [
    {
     "data": {
      "text/plain": [
       "4.694468380796109"
      ]
     },
     "execution_count": 33,
     "metadata": {},
     "output_type": "execute_result"
    }
   ],
   "source": [
    "rate_all/sum(rating_count.values()) # 매우높은편 "
   ]
  },
  {
   "cell_type": "markdown",
   "metadata": {},
   "source": [
    "언어분포를 보자"
   ]
  },
  {
   "cell_type": "code",
   "execution_count": 34,
   "metadata": {},
   "outputs": [],
   "source": [
    "lang = []\n",
    "for k,rev_lst in review.items():\n",
    "    for rev in rev_lst:\n",
    "        lang.append(rev['language'])"
   ]
  },
  {
   "cell_type": "markdown",
   "metadata": {},
   "source": [
    "한국어와 영어가 대부분이다\n",
    "\n",
    "NLP를 위해 하나의 언어로 번역필요하다. 영어로 진행할 예정"
   ]
  },
  {
   "cell_type": "code",
   "execution_count": 35,
   "metadata": {},
   "outputs": [
    {
     "data": {
      "text/plain": [
       "[('ko', 276818),\n",
       " ('en', 238291),\n",
       " ('zh', 18581),\n",
       " ('zh-TW', 17942),\n",
       " ('zh-CN', 16188),\n",
       " ('ja', 6027),\n",
       " ('fr', 2359),\n",
       " ('ru', 1176),\n",
       " ('und', 917),\n",
       " ('es', 878),\n",
       " ('de', 789),\n",
       " ('th', 631),\n",
       " ('nl', 140),\n",
       " ('it', 108),\n",
       " ('id', 90),\n",
       " ('pt', 83),\n",
       " ('sv', 75),\n",
       " ('no', 48),\n",
       " ('da', 45),\n",
       " ('pl', 37),\n",
       " ('fi', 37),\n",
       " ('vi', 25),\n",
       " ('ms', 22),\n",
       " ('tr', 17),\n",
       " ('cs', 14),\n",
       " ('ca', 13),\n",
       " (None, 8),\n",
       " ('ar', 6),\n",
       " ('bg', 6),\n",
       " ('hu', 6),\n",
       " ('ro', 5),\n",
       " ('sl', 3),\n",
       " ('cy', 3),\n",
       " ('sq', 2),\n",
       " ('tl', 2),\n",
       " ('ht', 2),\n",
       " ('jw', 1),\n",
       " ('gl', 1),\n",
       " ('hi', 1),\n",
       " ('ceb', 1),\n",
       " ('mi', 1),\n",
       " ('af', 1),\n",
       " ('so', 1),\n",
       " ('la', 1),\n",
       " ('ky', 1)]"
      ]
     },
     "execution_count": 35,
     "metadata": {},
     "output_type": "execute_result"
    }
   ],
   "source": [
    "lang_cnt = Counter(lang)\n",
    "sorted(lang_cnt.items(),key=lambda kv:kv[1],reverse=True)"
   ]
  },
  {
   "cell_type": "markdown",
   "metadata": {},
   "source": [
    "리뷰수를 숙소별로 세보자"
   ]
  },
  {
   "cell_type": "code",
   "execution_count": 37,
   "metadata": {},
   "outputs": [],
   "source": [
    "review_cnt = {}\n",
    "for k,v in review.items():\n",
    "    review_cnt[k] = len(v)"
   ]
  },
  {
   "cell_type": "code",
   "execution_count": 48,
   "metadata": {},
   "outputs": [],
   "source": [
    "revcnt_cnt = Counter([cnt for cnt in review_cnt.values()])"
   ]
  },
  {
   "cell_type": "code",
   "execution_count": 111,
   "metadata": {},
   "outputs": [
    {
     "data": {
      "text/plain": [
       "[(0, 6530),\n",
       " (1, 2772),\n",
       " (2, 1738),\n",
       " (3, 1205),\n",
       " (4, 1004),\n",
       " (5, 865),\n",
       " (6, 776),\n",
       " (7, 643),\n",
       " (8, 562),\n",
       " (9, 520),\n",
       " (10, 466),\n",
       " (11, 462),\n",
       " (12, 372),\n",
       " (13, 397),\n",
       " (14, 351),\n",
       " (15, 363),\n",
       " (16, 324),\n",
       " (17, 294),\n",
       " (18, 280),\n",
       " (19, 286),\n",
       " (20, 257),\n",
       " (21, 262),\n",
       " (22, 270),\n",
       " (23, 204),\n",
       " (24, 204),\n",
       " (25, 216),\n",
       " (26, 218),\n",
       " (27, 187),\n",
       " (28, 172),\n",
       " (29, 175)]"
      ]
     },
     "execution_count": 111,
     "metadata": {},
     "output_type": "execute_result"
    }
   ],
   "source": [
    "sorted(revcnt_cnt.items(),)[:30]"
   ]
  },
  {
   "cell_type": "code",
   "execution_count": 85,
   "metadata": {},
   "outputs": [],
   "source": [
    "labels,counts = zip(*sorted(revcnt_cnt.items(),key=lambda kv:kv[0]))"
   ]
  },
  {
   "cell_type": "code",
   "execution_count": 87,
   "metadata": {},
   "outputs": [],
   "source": [
    "labels = np.array(labels) # labels: 리뷰 수\n",
    "counts = np.array(counts) # counts: 해당 리뷰수만큼 리뷰달린 숙소 수"
   ]
  },
  {
   "cell_type": "code",
   "execution_count": 97,
   "metadata": {},
   "outputs": [
    {
     "data": {
      "text/plain": [
       "Text(0.5,1,'Review Counts')"
      ]
     },
     "execution_count": 97,
     "metadata": {},
     "output_type": "execute_result"
    },
    {
     "data": {
      "image/png": "[encoded data removed]",
      "text/plain": [
       "<matplotlib.figure.Figure at 0x24bea9e14a8>"
      ]
     },
     "metadata": {},
     "output_type": "display_data"
    }
   ],
   "source": [
    "plt.figure(figsize=(15,5))\n",
    "plt.plot(labels,counts)\n",
    "plt.xlabel('# of reviews')\n",
    "plt.ylabel('count of rooms')\n",
    "plt.title('Review Counts')"
   ]
  },
  {
   "cell_type": "code",
   "execution_count": null,
   "metadata": {},
   "outputs": [],
   "source": []
  },
  {
   "cell_type": "markdown",
   "metadata": {},
   "source": [
    "추천시스템 구현을 위해서 유저-리뷰 정보가 필요하다"
   ]
  },
  {
   "cell_type": "code",
   "execution_count": 99,
   "metadata": {},
   "outputs": [
    {
     "data": {
      "text/plain": [
       "96535213"
      ]
     },
     "execution_count": 99,
     "metadata": {},
     "output_type": "execute_result"
    }
   ],
   "source": [
    "review['10030136'][0]['reviewer']['id'] # user_id이다. 숙소에 달린 리뷰들은 user_id 정보를 담고있다 "
   ]
  },
  {
   "cell_type": "markdown",
   "metadata": {},
   "source": [
    "유저를 key, 유저가 쓴 리뷰들의 리스트를 value로 하는 user_rev 딕셔너리를 통해 유저와 리뷰를 매칭하자"
   ]
  },
  {
   "cell_type": "code",
   "execution_count": 100,
   "metadata": {},
   "outputs": [],
   "source": [
    "user_rev = {}\n",
    "for listing_id in review.keys():\n",
    "    for rev in review[listing_id]:\n",
    "        user_id = str(rev['reviewer']['id'])\n",
    "        if user_id not in user_rev:\n",
    "            user_rev[user_id] = []\n",
    "            user_rev[user_id] += [rev]\n",
    "        else:\n",
    "            user_rev[user_id] += [rev]"
   ]
  },
  {
   "cell_type": "code",
   "execution_count": 101,
   "metadata": {},
   "outputs": [
    {
     "data": {
      "text/plain": [
       "459238"
      ]
     },
     "execution_count": 101,
     "metadata": {},
     "output_type": "execute_result"
    }
   ],
   "source": [
    "len(user_rev.keys()) # 리뷰를 쓴 유저의 수"
   ]
  },
  {
   "cell_type": "code",
   "execution_count": 102,
   "metadata": {},
   "outputs": [
    {
     "data": {
      "text/plain": [
       "1"
      ]
     },
     "execution_count": 102,
     "metadata": {},
     "output_type": "execute_result"
    }
   ],
   "source": [
    "len(user_rev['111507566']) # 111507566 유저가 남긴 리뷰의 수 "
   ]
  },
  {
   "cell_type": "code",
   "execution_count": 103,
   "metadata": {},
   "outputs": [],
   "source": [
    "# 유저당 남긴 리뷰의 개수를 세보자\n",
    "rev_user_cnt = Counter([len(rev_lst) for rev_lst in user_rev.values()])"
   ]
  },
  {
   "cell_type": "code",
   "execution_count": 104,
   "metadata": {},
   "outputs": [
    {
     "data": {
      "text/plain": [
       "Counter({1: 378466,\n",
       "         2: 57434,\n",
       "         3: 14714,\n",
       "         4: 4789,\n",
       "         5: 1857,\n",
       "         6: 878,\n",
       "         7: 415,\n",
       "         8: 231,\n",
       "         9: 143,\n",
       "         10: 80,\n",
       "         11: 50,\n",
       "         12: 48,\n",
       "         13: 31,\n",
       "         14: 23,\n",
       "         15: 21,\n",
       "         16: 17,\n",
       "         17: 7,\n",
       "         18: 4,\n",
       "         19: 6,\n",
       "         20: 4,\n",
       "         21: 2,\n",
       "         22: 1,\n",
       "         23: 2,\n",
       "         24: 1,\n",
       "         25: 1,\n",
       "         26: 3,\n",
       "         27: 3,\n",
       "         28: 1,\n",
       "         29: 1,\n",
       "         31: 2,\n",
       "         32: 1,\n",
       "         33: 1,\n",
       "         53: 1})"
      ]
     },
     "execution_count": 104,
     "metadata": {},
     "output_type": "execute_result"
    }
   ],
   "source": [
    "rev_user_cnt"
   ]
  },
  {
   "cell_type": "code",
   "execution_count": 105,
   "metadata": {},
   "outputs": [],
   "source": [
    "labels,counts = zip(*sorted(rev_user_cnt.items(),key=lambda kv:kv[0]))"
   ]
  },
  {
   "cell_type": "code",
   "execution_count": 106,
   "metadata": {},
   "outputs": [],
   "source": [
    "labels = np.array(labels) # labels: 리뷰수\n",
    "counts = np.array(counts) # counts: 해당 리뷰수만큼 리뷰 남긴 유저 카운트"
   ]
  },
  {
   "cell_type": "code",
   "execution_count": 107,
   "metadata": {},
   "outputs": [
    {
     "data": {
      "text/plain": [
       "Text(0.5,1,'Review Counts')"
      ]
     },
     "execution_count": 107,
     "metadata": {},
     "output_type": "execute_result"
    },
    {
     "data": {
      "image/png": "[encoded data removed]",
      "text/plain": [
       "<matplotlib.figure.Figure at 0x24bf2e7cc50>"
      ]
     },
     "metadata": {},
     "output_type": "display_data"
    }
   ],
   "source": [
    "plt.figure(figsize=(15,5))\n",
    "plt.plot(labels,counts)\n",
    "plt.xlabel('# of reviews')\n",
    "plt.ylabel('count of users')\n",
    "plt.title('Review Counts')"
   ]
  },
  {
   "cell_type": "code",
   "execution_count": null,
   "metadata": {},
   "outputs": [],
   "source": []
  },
  {
   "cell_type": "code",
   "execution_count": null,
   "metadata": {},
   "outputs": [],
   "source": []
  },
  {
   "cell_type": "code",
   "execution_count": null,
   "metadata": {},
   "outputs": [],
   "source": []
  }
 ],
 "metadata": {
  "kernelspec": {
   "display_name": "Python 3",
   "language": "python",
   "name": "python3"
  },
  "language_info": {
   "codemirror_mode": {
    "name": "ipython",
    "version": 3
   },
   "file_extension": ".py",
   "mimetype": "text/x-python",
   "name": "python",
   "nbconvert_exporter": "python",
   "pygments_lexer": "ipython3",
   "version": "3.6.4"
  }
 },
 "nbformat": 4,
 "nbformat_minor": 2
}
