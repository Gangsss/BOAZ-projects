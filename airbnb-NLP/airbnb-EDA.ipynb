{
 "cells": [
  {
   "cell_type": "code",
   "execution_count": 2,
   "metadata": {},
   "outputs": [],
   "source": [
    "import json\n",
    "import os\n",
    "from collections import Counter\n",
    "import pandas as pd"
   ]
  },
  {
   "cell_type": "code",
   "execution_count": 3,
   "metadata": {},
   "outputs": [
    {
     "data": {
      "text/plain": [
       "'C:\\\\Users\\\\woowahan\\\\Desktop\\\\ghub\\\\BOAZ-projects\\\\airbnb-NLP'"
      ]
     },
     "execution_count": 3,
     "metadata": {},
     "output_type": "execute_result"
    }
   ],
   "source": [
    "os.getcwd()"
   ]
  },
  {
   "cell_type": "code",
   "execution_count": 4,
   "metadata": {},
   "outputs": [],
   "source": [
    "os.chdir('./../airbnb-data')"
   ]
  },
  {
   "cell_type": "code",
   "execution_count": 6,
   "metadata": {},
   "outputs": [],
   "source": [
    "with open('review_seoul_326990.json','r',encoding='utf-8') as fp:\n",
    "    review_seoul = json.load(fp)"
   ]
  },
  {
   "cell_type": "code",
   "execution_count": 7,
   "metadata": {},
   "outputs": [],
   "source": [
    "with open('review_busan_70028.json','r',encoding='utf-8') as fp:\n",
    "    review_busan = json.load(fp)"
   ]
  },
  {
   "cell_type": "code",
   "execution_count": 8,
   "metadata": {},
   "outputs": [],
   "source": [
    "with open('review_jeju_143957.json','r',encoding='utf-8') as fp:\n",
    "    review_jeju = json.load(fp)"
   ]
  },
  {
   "cell_type": "code",
   "execution_count": 9,
   "metadata": {},
   "outputs": [],
   "source": [
    "review = {}"
   ]
  },
  {
   "cell_type": "code",
   "execution_count": 12,
   "metadata": {},
   "outputs": [],
   "source": [
    "review.update(review_seoul)\n",
    "review.update(review_busan)\n",
    "review.update(review_jeju)"
   ]
  },
  {
   "cell_type": "code",
   "execution_count": null,
   "metadata": {},
   "outputs": [],
   "source": []
  },
  {
   "cell_type": "code",
   "execution_count": 13,
   "metadata": {},
   "outputs": [
    {
     "data": {
      "text/plain": [
       "26551"
      ]
     },
     "execution_count": 13,
     "metadata": {},
     "output_type": "execute_result"
    }
   ],
   "source": [
    "len(review)"
   ]
  },
  {
   "cell_type": "code",
   "execution_count": 14,
   "metadata": {},
   "outputs": [],
   "source": [
    "ratings = {}\n",
    "for k,vals in review.items():\n",
    "    ratings[k] = []\n",
    "    for val in vals:\n",
    "        ratings[k].append(val['rating'])"
   ]
  },
  {
   "cell_type": "code",
   "execution_count": 16,
   "metadata": {},
   "outputs": [],
   "source": [
    "rating_all = []\n",
    "for vals in ratings.values():\n",
    "    rating_all.extend(vals)"
   ]
  },
  {
   "cell_type": "code",
   "execution_count": 17,
   "metadata": {},
   "outputs": [],
   "source": [
    "rating_count = Counter(rating_all)"
   ]
  },
  {
   "cell_type": "code",
   "execution_count": 18,
   "metadata": {},
   "outputs": [
    {
     "data": {
      "text/plain": [
       "Counter({5: 417930, 3: 15813, 4: 97121, 0: 4084, 2: 2962, 1: 1770})"
      ]
     },
     "execution_count": 18,
     "metadata": {},
     "output_type": "execute_result"
    }
   ],
   "source": [
    "rating_count"
   ]
  },
  {
   "cell_type": "code",
   "execution_count": 19,
   "metadata": {},
   "outputs": [
    {
     "data": {
      "text/plain": [
       "539680"
      ]
     },
     "execution_count": 19,
     "metadata": {},
     "output_type": "execute_result"
    }
   ],
   "source": [
    "sum(rating_count.values())"
   ]
  },
  {
   "cell_type": "code",
   "execution_count": null,
   "metadata": {},
   "outputs": [],
   "source": []
  },
  {
   "cell_type": "code",
   "execution_count": 20,
   "metadata": {},
   "outputs": [],
   "source": [
    "rate_all=0\n",
    "for rate,cnt in rating_count.items():\n",
    "    rate_all += rate*cnt\n",
    "    "
   ]
  },
  {
   "cell_type": "code",
   "execution_count": 21,
   "metadata": {},
   "outputs": [
    {
     "data": {
      "text/plain": [
       "4.6940168247850576"
      ]
     },
     "execution_count": 21,
     "metadata": {},
     "output_type": "execute_result"
    }
   ],
   "source": [
    "rate_all/sum(rating_count.values())"
   ]
  },
  {
   "cell_type": "code",
   "execution_count": null,
   "metadata": {},
   "outputs": [],
   "source": []
  },
  {
   "cell_type": "code",
   "execution_count": 22,
   "metadata": {},
   "outputs": [],
   "source": [
    "lang = []\n",
    "for k,rev_lst in review.items():\n",
    "    for rev in rev_lst:\n",
    "        lang.append(rev['language'])"
   ]
  },
  {
   "cell_type": "code",
   "execution_count": 23,
   "metadata": {},
   "outputs": [
    {
     "data": {
      "text/plain": [
       "[('ko', 243557),\n",
       " ('en', 231608),\n",
       " ('zh', 18340),\n",
       " ('zh-TW', 17192),\n",
       " ('zh-CN', 16009),\n",
       " ('ja', 5821),\n",
       " ('fr', 2165),\n",
       " ('ru', 1161),\n",
       " ('es', 849),\n",
       " ('und', 837),\n",
       " ('de', 749),\n",
       " ('th', 623),\n",
       " ('nl', 133),\n",
       " ('it', 104),\n",
       " ('id', 86),\n",
       " ('pt', 81),\n",
       " ('sv', 74),\n",
       " ('no', 46),\n",
       " ('da', 40),\n",
       " ('pl', 37),\n",
       " ('fi', 36),\n",
       " ('vi', 25),\n",
       " ('ms', 22),\n",
       " ('tr', 17),\n",
       " ('cs', 12),\n",
       " ('ca', 10),\n",
       " (None, 7),\n",
       " ('hu', 6),\n",
       " ('bg', 6),\n",
       " ('ar', 6),\n",
       " ('ro', 5),\n",
       " ('sl', 2),\n",
       " ('ht', 2),\n",
       " ('sq', 2),\n",
       " ('cy', 2),\n",
       " ('mi', 1),\n",
       " ('tl', 1),\n",
       " ('af', 1),\n",
       " ('so', 1),\n",
       " ('la', 1),\n",
       " ('ky', 1),\n",
       " ('jw', 1),\n",
       " ('ceb', 1)]"
      ]
     },
     "execution_count": 23,
     "metadata": {},
     "output_type": "execute_result"
    }
   ],
   "source": [
    "lang_cnt = Counter(lang)\n",
    "sorted(lang_cnt.items(),key=lambda kv:kv[1],reverse=True)"
   ]
  },
  {
   "cell_type": "code",
   "execution_count": 13,
   "metadata": {},
   "outputs": [
    {
     "data": {
      "text/plain": [
       "[{'collection_tag': None,\n",
       "  'comments': '9月19日,陪同留学的儿子一同去韩国｡在走之前我们从网上看照片  预定了这家二层别墅的民宿｡他家就在国民大学的后门 离公交站地铁站都很近 在国民大学门口坐7211到4号线吉音站길음역 就能到达东大门明洞等韩国景点\\n 我们抵达时已是半夜12点了,真的没有想到,男主人和女主人都在等待着我们的到来,让我非常感动!好客的主人把我们一直迎接到二楼,干净.宁静,整洁,雅致｡比我在网上看到的还要好\\n床盖洁净舒服,犹如回到了自己的家｡第二天一觉醒来天已大亮,没有大都市的吵杂,宛如田园一样幽静自然｡好美的风景,对面别墅,绿草,小山环抱,真是太美了!\\n由于我们语言不通,热情的男主人用韩语,英语耐心的与我们交流｡带我们去吃早饭｡为了方便把他家的钥匙给我我们,如此的信任,让我不胜惊讶 !三天的交往让我们如同家人一般!帮我们找房子,给我们送水果,茶叶让我说不出的感激!下次我要带我的家人再次光顾这里｡感谢热情好客的主人!我们还会来的!你们给我留下了太深的印象!谢谢!',\n",
       "  'created_at': '2016-09-22T02:37:07Z',\n",
       "  'id': 103326345,\n",
       "  'language': 'zh',\n",
       "  'localized_date': '2016년 9월',\n",
       "  'rating': 5,\n",
       "  'response': '',\n",
       "  'reviewee': {'deleted': False,\n",
       "   'first_name': '경옥',\n",
       "   'host_name': '경옥',\n",
       "   'id': 47670854,\n",
       "   'is_superhost': False,\n",
       "   'picture_url': 'https://a0.muscache.com/im/pictures/3f00e243-8970-4c98-8780-b2b81a5d7428.jpg?aki_policy=profile_x_medium',\n",
       "   'profile_path': '/users/show/47670854'},\n",
       "  'reviewer': {'deleted': False,\n",
       "   'first_name': '鸣轩',\n",
       "   'host_name': '鸣轩',\n",
       "   'id': 95528848,\n",
       "   'is_superhost': False,\n",
       "   'picture_url': 'https://a0.muscache.com/im/pictures/01b0d871-cb27-413e-9983-5140abd1dad8.jpg?aki_policy=profile_x_medium',\n",
       "   'profile_path': '/users/show/95528848'}},\n",
       " {'collection_tag': None,\n",
       "  'comments': 'The host and her families are really friendly and helpful to me. They recommended some nice places for food nearby like the university canteen and the traditional market to me and tell me the directions for not only once to make sure I can find the way. The host even bring me along to the restaurant when I arrived on the first night because she afraid it is too dangerous for a girl to walk around in the late night which is really caring and sweet for me. The room is clean and cozy, with everything I need included. I can also enjoy my own private time because the hosts are living on the first floor and the whole second floor is for the guests.\\nI enjoy my time staying here and will recommend this place to you all.',\n",
       "  'created_at': '2016-09-01T23:53:19Z',\n",
       "  'id': 98756666,\n",
       "  'language': 'en',\n",
       "  'localized_date': '2016년 9월',\n",
       "  'rating': 5,\n",
       "  'response': '',\n",
       "  'reviewee': {'deleted': False,\n",
       "   'first_name': '경옥',\n",
       "   'host_name': '경옥',\n",
       "   'id': 47670854,\n",
       "   'is_superhost': False,\n",
       "   'picture_url': 'https://a0.muscache.com/im/pictures/3f00e243-8970-4c98-8780-b2b81a5d7428.jpg?aki_policy=profile_x_medium',\n",
       "   'profile_path': '/users/show/47670854'},\n",
       "  'reviewer': {'deleted': False,\n",
       "   'first_name': 'Iris',\n",
       "   'host_name': 'Iris',\n",
       "   'id': 11988319,\n",
       "   'is_superhost': False,\n",
       "   'picture_url': 'https://a0.muscache.com/im/pictures/cade1bf7-c10c-4a9a-8e9b-8e9b40b84992.jpg?aki_policy=profile_x_medium',\n",
       "   'profile_path': '/users/show/11988319'}},\n",
       " {'collection_tag': None,\n",
       "  'comments': \"Lee's home was a cute quaint older home. It was tidy and well taken care of. Lee, her daughter, and her assistant (CJ) were quite friendly and helpful! CJ walked us to the bus stop and gave us directions to the market. Unfortunately, we had to leave earlier than intended due to personal matters. However, CJ was understanding and even drove us to the subway station. Thank you Lee and CJ!\",\n",
       "  'created_at': '2016-07-15T02:04:11Z',\n",
       "  'id': 86064851,\n",
       "  'language': 'en',\n",
       "  'localized_date': '2016년 7월',\n",
       "  'rating': 3,\n",
       "  'response': '',\n",
       "  'reviewee': {'deleted': False,\n",
       "   'first_name': '경옥',\n",
       "   'host_name': '경옥',\n",
       "   'id': 47670854,\n",
       "   'is_superhost': False,\n",
       "   'picture_url': 'https://a0.muscache.com/im/pictures/3f00e243-8970-4c98-8780-b2b81a5d7428.jpg?aki_policy=profile_x_medium',\n",
       "   'profile_path': '/users/show/47670854'},\n",
       "  'reviewer': {'deleted': False,\n",
       "   'first_name': 'Erica',\n",
       "   'host_name': 'Erica',\n",
       "   'id': 69440698,\n",
       "   'is_superhost': False,\n",
       "   'picture_url': 'https://a0.muscache.com/im/pictures/fdd83d64-9086-40fc-ace6-3dc86e323145.jpg?aki_policy=profile_x_medium',\n",
       "   'profile_path': '/users/show/69440698'}},\n",
       " {'collection_tag': None,\n",
       "  'comments': \"Super on as fait que deux nuit mais l'hôte était super sympa nous donnée des super conseils\",\n",
       "  'created_at': '2016-05-26T02:20:46Z',\n",
       "  'id': 76215185,\n",
       "  'language': 'fr',\n",
       "  'localized_date': '2016년 5월',\n",
       "  'rating': 5,\n",
       "  'response': '',\n",
       "  'reviewee': {'deleted': False,\n",
       "   'first_name': '경옥',\n",
       "   'host_name': '경옥',\n",
       "   'id': 47670854,\n",
       "   'is_superhost': False,\n",
       "   'picture_url': 'https://a0.muscache.com/im/pictures/3f00e243-8970-4c98-8780-b2b81a5d7428.jpg?aki_policy=profile_x_medium',\n",
       "   'profile_path': '/users/show/47670854'},\n",
       "  'reviewer': {'deleted': False,\n",
       "   'first_name': 'Nils',\n",
       "   'host_name': 'Nils',\n",
       "   'id': 63933851,\n",
       "   'is_superhost': False,\n",
       "   'picture_url': 'https://a0.muscache.com/im/pictures/45623c70-03a0-4359-9054-067311696f3c.jpg?aki_policy=profile_x_medium',\n",
       "   'profile_path': '/users/show/63933851'}},\n",
       " {'collection_tag': None,\n",
       "  'comments': 'It\\'s really a wonderful trip that i enjoyed my birthday time with my friends here. you are really very nice and warm. i will miss you guys  and the delicious 미역국. if there have a chance to go seoul again, i will come to your big house. that\\'s the best \"HOME\".',\n",
       "  'created_at': '2016-04-17T16:09:45Z',\n",
       "  'id': 70246450,\n",
       "  'language': 'en',\n",
       "  'localized_date': '2016년 4월',\n",
       "  'rating': 5,\n",
       "  'response': '잘도착했어요?\\r\\n见到您很高兴｡ \\r\\n你真是可爱了 \\r\\n又来了…… \\r\\n那酒杯... \\r\\n爸爸喜欢吗?   ^^',\n",
       "  'reviewee': {'deleted': False,\n",
       "   'first_name': '경옥',\n",
       "   'host_name': '경옥',\n",
       "   'id': 47670854,\n",
       "   'is_superhost': False,\n",
       "   'picture_url': 'https://a0.muscache.com/im/pictures/3f00e243-8970-4c98-8780-b2b81a5d7428.jpg?aki_policy=profile_x_medium',\n",
       "   'profile_path': '/users/show/47670854'},\n",
       "  'reviewer': {'deleted': False,\n",
       "   'first_name': 'Summer',\n",
       "   'host_name': 'Summer',\n",
       "   'id': 48286752,\n",
       "   'is_superhost': False,\n",
       "   'picture_url': 'https://a0.muscache.com/im/pictures/c34baea4-8f11-42f2-9b5e-c6b8a6a92275.jpg?aki_policy=profile_x_medium',\n",
       "   'profile_path': '/users/show/48286752'}},\n",
       " {'collection_tag': None,\n",
       "  'comments': \"是非常好的一家民宿,房东阿姨细心､善良,所有事项都会极其详细地讲给你,生怕会有差错;回家晚时会象妈妈一样担心,不停地出出进进地看;会在有空的时候给大家做晚餐……大叔和女儿也很热情｡想体验韩国真挚､善良的民风,景玉妈妈家里是最好的选择 (Website hidden by Airbnb) 房屋是韩国典型的院落结构,共2层,一层主人房,二层专用guest house,非常方便､清洁｡\\n  it's the best guesthouse l've lived in Korea till now.next time l should come back.\\n\",\n",
       "  'created_at': '2016-03-26T18:38:43Z',\n",
       "  'id': 67029278,\n",
       "  'language': 'zh',\n",
       "  'localized_date': '2016년 3월',\n",
       "  'rating': 5,\n",
       "  'response': '음...세령씨\\r\\n고마워요\\r\\n난 당신의 시원 시원한 성격이 정말 사이다처럼  내게 청량제가 되었어요\\r\\n당신이 한국말을 잘하니  이렇게 한국어로 써도 당신이볼수있겠지요?\\r\\n한국은 지금 벚꽃이 한창입니다\\r\\n벚꽃이 피니 벚꽃처럼 눈부신  당신이 또 그리워집니다\\r\\n가는날 보지못해서  아쉬웠어요\\r\\n건강하시고요\\r\\n 행복가득한 시간보내시기를 바랍니다^^\\r\\n',\n",
       "  'reviewee': {'deleted': False,\n",
       "   'first_name': '경옥',\n",
       "   'host_name': '경옥',\n",
       "   'id': 47670854,\n",
       "   'is_superhost': False,\n",
       "   'picture_url': 'https://a0.muscache.com/im/pictures/3f00e243-8970-4c98-8780-b2b81a5d7428.jpg?aki_policy=profile_x_medium',\n",
       "   'profile_path': '/users/show/47670854'},\n",
       "  'reviewer': {'deleted': False,\n",
       "   'first_name': 'Yu',\n",
       "   'host_name': 'Yu',\n",
       "   'id': 23354136,\n",
       "   'is_superhost': False,\n",
       "   'picture_url': 'https://a0.muscache.com/im/pictures/1dbf8a88-4d22-474b-a69c-128b14edc3f1.jpg?aki_policy=profile_x_medium',\n",
       "   'profile_path': '/users/show/23354136'}},\n",
       " {'collection_tag': None,\n",
       "  'comments': '房东阿姨非常热情,非常和蔼,我们到了自己开车去接我们,想尽办法帮助我们,他们一家人叔叔能说英文,阿姨会韩文,姐姐会一点中文,沟通没有大的问题,房东阿姨每晚会和我们聊聊天,为我们解决新的问题,真的太好了!像住在家里一样,下次来还会住的!   The house and the family is so nice,i will come again in next korea time',\n",
       "  'created_at': '2016-03-09T01:39:08Z',\n",
       "  'id': 64875899,\n",
       "  'language': 'zh',\n",
       "  'localized_date': '2016년 3월',\n",
       "  'rating': 5,\n",
       "  'response': '',\n",
       "  'reviewee': {'deleted': False,\n",
       "   'first_name': '경옥',\n",
       "   'host_name': '경옥',\n",
       "   'id': 47670854,\n",
       "   'is_superhost': False,\n",
       "   'picture_url': 'https://a0.muscache.com/im/pictures/3f00e243-8970-4c98-8780-b2b81a5d7428.jpg?aki_policy=profile_x_medium',\n",
       "   'profile_path': '/users/show/47670854'},\n",
       "  'reviewer': {'deleted': False,\n",
       "   'first_name': 'Suri',\n",
       "   'host_name': 'Suri',\n",
       "   'id': 42016744,\n",
       "   'is_superhost': False,\n",
       "   'picture_url': 'https://a0.muscache.com/im/pictures/67c4da31-7506-405a-8b9e-a9e5be66bb0f.jpg?aki_policy=profile_x_medium',\n",
       "   'profile_path': '/users/show/42016744'}},\n",
       " {'collection_tag': None,\n",
       "  'comments': ' 아무래도 가정집에서 직접 게스트하우스를 운영하셔서 그런지 보통의 상업적인 게스트하우스에 비해 체계적으로 운영된다던가 꼼꼼히 관리되는 느낌이 부족한게 살짝 아쉬웠는데,\\r\\n 보통 게스트하우스에 있을법한 커피믹스,빗,면봉이 없다던가, 세탁기 연결이 안되어 있다던가, 이불은 따듯했지만 이불커버가 없어서 세탁이 용이해 보이지는 않는 등.. 몇가지 눈에 띄는것들이 있더라는..\\r\\n\\r\\n 그러나 다음에 또 방문할 의사가 있냐고 묻는다면.. 네 ㅋ\\r\\n\\r\\n 여름이나 가을철 날씨가 포근할때, 일주일정도 푹~묵으면서 천천히 서울 구경도하고, 피곤하면 집에서 뒹굴거리며 느긋하게 여행을 즐기기에 이만큼 편한곳을 찾기는 쉽지 않을것 같다는 생각.\\r\\n\\r\\n 일단 가정집이라서 방과 거실,화장실이 가까워 이용이 편하고, 2층 전체를 게스트하우스로 사용중이라 1층 주인집과 분리된 사적인 공간처럼 느껴져서 상당히 편했다는.. (사실 처음 예약할땐 방하나를 빌려주는줄 알았는데, 오히려 2층이 2인룸, 도미토리로 전체가 게스트하우스라 더 편했던)\\r\\n 뭐 여행객이 더 많으면 좀 북적대긴 할것같지만, 거실 분위기가 완전 가정집이라 오손도손 모여서 이야기 나누기는 좋을것 같더라는..\\r\\n\\r\\n 다른 게스트하우스에 비하면 위치가 좀 외진편이긴 한데, 오히려 주택가라서 한적하고 조용히 쉴수있어서 좋고, 조금만 걸어 내려가면 있는 정릉시장을 잘 이용하면 편의점보다 저렴한 가격에 다양한 식재료를 조달 할수있어서 좋다는걸 마지막날 알게된..\\r\\n(제가 한국인이긴 하지만 이동네는 처음이니 이런부분은 미리 알려주셨으면 좋을것 같다는 ㅎ)\\r\\n\\r\\n 관광하기에는 주변에 북한산도 있고 종로,동대문,남산,이태원,대학로 등이 가깝고 (정릉능은 의외로 볼게 없더라는..), 서울의 교통편이 워낙 좋다보니 여의도,홍대,서울역,강남 까지도 둘러보는데도 크게 불편함은 없었고, 개인적으로 지하철 보다는 버스를 이용하는편이 더 좋더라는.. 저녁에 여행을 마치고 돌아올때 가로등 비취는 주택가 골목을 걷고있으면 마치 집에 돌아가는 느낌이랄까.. -0-\\r\\n\\r\\n 40년된 집이라는데 문이라던가 곳곳에 세월의 흔적이 있는편이지만 전체적으로 깔끔하게 관리된 편이라 크게 불편한점은 없었는데, \\r\\n 다만 싱크대 공간이 좁다거나, 화장실 발판이 높아서 응가할때 자세가 약간 엉성하게 수구려진다거나하는 미세하게 불편한 부분들이 있던데.. 아마 주인분이 2층에서 생활을 안하셔서 그런것 같기도하고, 가끔은 2층에서 직접생활하면서 불편한 부분들을 찾아내시는것도 좋을것 같다는 생각이 살짝.. :)\\r\\n\\r\\n 아무튼 결론은 위치때문에 살짝 고민을 좀 했는데 별로 불편한건 없었고, 가격도 괜찮고, 주인 내외분도 인상좋고 친절하시고, 집이나 동네 분위기가 편해서 장기간 머물기에 좋은곳 같다로 마무리~',\n",
       "  'created_at': '2016-03-02T17:51:12Z',\n",
       "  'id': 64344102,\n",
       "  'language': 'ko',\n",
       "  'localized_date': '2016년 3월',\n",
       "  'rating': 4,\n",
       "  'response': '여러가지로 꼼꼼히 보셨군요^^\\r\\n사실은 이층에서 저희가 살았었어도  오래 살다보니 잊어버리고 살았답니다\\r\\n여러가지로 지적을해주시니  저희가개선을  할수가 있겠군요\\r\\n제가 못느꼈던것  감사하게  생각하고 고쳐나갈게요~\\r\\n\\r\\n',\n",
       "  'reviewee': {'deleted': False,\n",
       "   'first_name': '경옥',\n",
       "   'host_name': '경옥',\n",
       "   'id': 47670854,\n",
       "   'is_superhost': False,\n",
       "   'picture_url': 'https://a0.muscache.com/im/pictures/3f00e243-8970-4c98-8780-b2b81a5d7428.jpg?aki_policy=profile_x_medium',\n",
       "   'profile_path': '/users/show/47670854'},\n",
       "  'reviewer': {'deleted': False,\n",
       "   'first_name': 'Badaro',\n",
       "   'host_name': 'Badaro',\n",
       "   'id': 24315525,\n",
       "   'is_superhost': False,\n",
       "   'picture_url': 'https://a0.muscache.com/im/pictures/2b5f329b-06c6-4336-905d-e60cc86d4383.jpg?aki_policy=profile_x_medium',\n",
       "   'profile_path': '/users/show/24315525'}},\n",
       " {'collection_tag': None,\n",
       "  'comments': '숙소설명을 친절하고 자세하게 해주셔서 쉽게 찾아갈 수 있었고, 가족처럼 따뜻하게 맞이해주셔서 편안하게 여행하고 왔습니다~',\n",
       "  'created_at': '2016-02-29T21:32:18Z',\n",
       "  'id': 64126259,\n",
       "  'language': 'ko',\n",
       "  'localized_date': '2016년 2월',\n",
       "  'rating': 5,\n",
       "  'response': '',\n",
       "  'reviewee': {'deleted': False,\n",
       "   'first_name': '경옥',\n",
       "   'host_name': '경옥',\n",
       "   'id': 47670854,\n",
       "   'is_superhost': False,\n",
       "   'picture_url': 'https://a0.muscache.com/im/pictures/3f00e243-8970-4c98-8780-b2b81a5d7428.jpg?aki_policy=profile_x_medium',\n",
       "   'profile_path': '/users/show/47670854'},\n",
       "  'reviewer': {'deleted': False,\n",
       "   'first_name': '진환',\n",
       "   'host_name': '진환',\n",
       "   'id': 48025692,\n",
       "   'is_superhost': False,\n",
       "   'picture_url': 'https://a0.muscache.com/im/pictures/9d287d93-3034-4177-9ee8-f3c6286ab303.jpg?aki_policy=profile_x_medium',\n",
       "   'profile_path': '/users/show/48025692'}},\n",
       " {'collection_tag': None,\n",
       "  'comments': 'It was a very pleasant stay with Kyoung-ok and her family. She was very generous with information and always caring. I was with 2 friends who were first timers in Winter Season. She catered to our requests and was very patient with us. Very helpful in booking some of the places we need to visit. We were able to meet her daughter, husband and their cute dog. We look forward to meeting them again and perhaps when they come visit the Philippines, we will sure to tour them in return if we can :)',\n",
       "  'created_at': '2016-02-20T15:04:46Z',\n",
       "  'id': 63089331,\n",
       "  'language': 'en',\n",
       "  'localized_date': '2016년 2월',\n",
       "  'rating': 5,\n",
       "  'response': \"Yeah, well, I'm very glad I came.\\r\\nWe'll miss your smile.\\r\\nI hope you will be happy.\\r\\n I am now dreaming corun Island.^^\\r\\n\\r\\n\",\n",
       "  'reviewee': {'deleted': False,\n",
       "   'first_name': '경옥',\n",
       "   'host_name': '경옥',\n",
       "   'id': 47670854,\n",
       "   'is_superhost': False,\n",
       "   'picture_url': 'https://a0.muscache.com/im/pictures/3f00e243-8970-4c98-8780-b2b81a5d7428.jpg?aki_policy=profile_x_medium',\n",
       "   'profile_path': '/users/show/47670854'},\n",
       "  'reviewer': {'deleted': False,\n",
       "   'first_name': 'Michelle',\n",
       "   'host_name': 'Michelle',\n",
       "   'id': 22684586,\n",
       "   'is_superhost': False,\n",
       "   'picture_url': 'https://a0.muscache.com/im/pictures/user/bb03c856-4332-441c-8272-0a36b606defa.jpg?aki_policy=profile_x_medium',\n",
       "   'profile_path': '/users/show/22684586'}},\n",
       " {'collection_tag': None,\n",
       "  'comments': '韩国民宿,非常不错的体验｡房间干净,交通便利,韩式早餐⋯老板一家人非常好,热心周到,无微不至,非常感谢!',\n",
       "  'created_at': '2016-02-11T12:50:59Z',\n",
       "  'id': 62077602,\n",
       "  'language': 'zh',\n",
       "  'localized_date': '2016년 2월',\n",
       "  'rating': 5,\n",
       "  'response': '你的家人一起,好的 .\\r\\n总是记得你 .\\r\\n你停留期间幸福 .\\r\\n奶奶,爷爷  望您健康长寿.~',\n",
       "  'reviewee': {'deleted': False,\n",
       "   'first_name': '경옥',\n",
       "   'host_name': '경옥',\n",
       "   'id': 47670854,\n",
       "   'is_superhost': False,\n",
       "   'picture_url': 'https://a0.muscache.com/im/pictures/3f00e243-8970-4c98-8780-b2b81a5d7428.jpg?aki_policy=profile_x_medium',\n",
       "   'profile_path': '/users/show/47670854'},\n",
       "  'reviewer': {'deleted': False,\n",
       "   'first_name': '媛莹',\n",
       "   'host_name': '媛莹',\n",
       "   'id': 53230121,\n",
       "   'is_superhost': False,\n",
       "   'picture_url': 'https://a0.muscache.com/im/pictures/c09a6329-8de5-4eb2-887b-d7896d10acfe.jpg?aki_policy=profile_x_medium',\n",
       "   'profile_path': '/users/show/53230121'}},\n",
       " {'collection_tag': None,\n",
       "  'comments': 'Had a very pleasant winter stay here ',\n",
       "  'created_at': '2016-01-01T17:29:27Z',\n",
       "  'id': 58217719,\n",
       "  'language': 'en',\n",
       "  'localized_date': '2016년 1월',\n",
       "  'rating': 5,\n",
       "  'response': \"Hi, how's it going? I saw the your message about the review. \\r\\nSo I've called Airbnb today and they said there is no way to edit the review once it uploded. But never mind. It's okay! \\r\\nThank you for giving us pleasant memory and enjoyable conversations! \\r\\nOur family had very happy time for you, too.\",\n",
       "  'reviewee': {'deleted': False,\n",
       "   'first_name': '경옥',\n",
       "   'host_name': '경옥',\n",
       "   'id': 47670854,\n",
       "   'is_superhost': False,\n",
       "   'picture_url': 'https://a0.muscache.com/im/pictures/3f00e243-8970-4c98-8780-b2b81a5d7428.jpg?aki_policy=profile_x_medium',\n",
       "   'profile_path': '/users/show/47670854'},\n",
       "  'reviewer': {'deleted': False,\n",
       "   'first_name': 'Rani Elizabeth',\n",
       "   'host_name': 'Rani Elizabeth',\n",
       "   'id': 51853137,\n",
       "   'is_superhost': False,\n",
       "   'picture_url': 'https://a0.muscache.com/im/pictures/97352246-03bb-4cbf-a033-189a6b9b7436.jpg?aki_policy=profile_x_medium',\n",
       "   'profile_path': '/users/show/51853137'}}]"
      ]
     },
     "execution_count": 13,
     "metadata": {},
     "output_type": "execute_result"
    }
   ],
   "source": [
    "list(review.values())[0]"
   ]
  },
  {
   "cell_type": "code",
   "execution_count": null,
   "metadata": {},
   "outputs": [],
   "source": []
  }
 ],
 "metadata": {
  "kernelspec": {
   "display_name": "Python 3",
   "language": "python",
   "name": "python3"
  },
  "language_info": {
   "codemirror_mode": {
    "name": "ipython",
    "version": 3
   },
   "file_extension": ".py",
   "mimetype": "text/x-python",
   "name": "python",
   "nbconvert_exporter": "python",
   "pygments_lexer": "ipython3",
   "version": "3.6.5"
  }
 },
 "nbformat": 4,
 "nbformat_minor": 2
}
