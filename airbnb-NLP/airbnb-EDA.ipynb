{
 "cells": [
  {
   "cell_type": "code",
   "execution_count": 1,
   "metadata": {},
   "outputs": [],
   "source": [
    "import json\n",
    "import os\n",
    "from collections import Counter\n",
    "import pandas as pd\n",
    "import numpy as np\n",
    "import glob\n",
    "import matplotlib.pyplot as plt\n",
    "%matplotlib inline\n",
    "import seaborn as sns\n"
   ]
  },
  {
   "cell_type": "code",
   "execution_count": 2,
   "metadata": {},
   "outputs": [
    {
     "data": {
      "text/plain": [
       "'/home/chankoo/GitHub/BOAZ-projects/airbnb-NLP'"
      ]
     },
     "execution_count": 2,
     "metadata": {},
     "output_type": "execute_result"
    }
   ],
   "source": [
    "os.getcwd()"
   ]
  },
  {
   "cell_type": "code",
   "execution_count": 3,
   "metadata": {},
   "outputs": [],
   "source": [
    "os.chdir('./../airbnb-data')"
   ]
  },
  {
   "cell_type": "code",
   "execution_count": 6,
   "metadata": {},
   "outputs": [
    {
     "data": {
      "text/plain": [
       "['review_jeju_143957.json',\n",
       " 'review_jeonju_13647.json',\n",
       " 'review_seoul_326990.json',\n",
       " 'review_seogwipo_51728.json',\n",
       " 'review_busan_70028.json',\n",
       " 'review_daegu_33689.json']"
      ]
     },
     "execution_count": 6,
     "metadata": {},
     "output_type": "execute_result"
    }
   ],
   "source": [
    "review_lst = glob.glob('review_*_*.json')\n",
    "review_lst"
   ]
  },
  {
   "cell_type": "code",
   "execution_count": 7,
   "metadata": {},
   "outputs": [],
   "source": [
    "review = {}\n",
    "for file in review_lst:\n",
    "    with open(file,'r',encoding='utf-8') as fp:\n",
    "        review.update(json.load(fp))"
   ]
  },
  {
   "cell_type": "code",
   "execution_count": 8,
   "metadata": {},
   "outputs": [],
   "source": [
    "# merge한 데이터 json으로 저장한다\n",
    "# with open('review_raw.json','w',encoding='utf-8') as fp:\n",
    "#     json.dump(review,fp,ensure_ascii=False)"
   ]
  },
  {
   "cell_type": "code",
   "execution_count": 9,
   "metadata": {},
   "outputs": [
    {
     "data": {
      "text/plain": [
       "28853"
      ]
     },
     "execution_count": 9,
     "metadata": {},
     "output_type": "execute_result"
    }
   ],
   "source": [
    "len(review.keys())  # 숙소id 개수"
   ]
  },
  {
   "cell_type": "code",
   "execution_count": 10,
   "metadata": {},
   "outputs": [
    {
     "data": {
      "text/plain": [
       "{'collection_tag': None,\n",
       " 'comments': '사진으로 보고 기대했던 것과 많이 달라서 실망했습니다. 소파와 티비, 가구등 시설이 노후했고 청결도도 눈에 보이는 곳 외에는 만족스럽지 않았습니다. 첫날 에어컨에서 냄새가 나고 차가운 바람이 나오지 않아서 더위에 고생했고, 가스레인지 1구 스위치가 고장나서 요리할때 가스가 샐까 불안했습니다. 전자도어락도 고장이 나서 겨우 잠그고 겨우 열고다녔습니다. 좋았던 점은 호스트분의 후속조치가 빨랐던 것과 숙소의 위치입니다. 숙소 위치의 장점 이외에는 이 가격으로 머물기에는 많이 실망스러웠습니다.',\n",
       " 'created_at': '2018-07-07T05:16:02Z',\n",
       " 'id': 286704207,\n",
       " 'language': 'ko',\n",
       " 'localized_date': '2018년 7월',\n",
       " 'rating': 3,\n",
       " 'response': '',\n",
       " 'reviewee': {'deleted': False,\n",
       "  'first_name': 'Haneul',\n",
       "  'host_name': 'Haneul',\n",
       "  'id': 9588907,\n",
       "  'is_superhost': False,\n",
       "  'picture_url': 'https://a0.muscache.com/im/pictures/e4a0a232-0135-4447-9a3c-e5e67a2eddbb.jpg?aki_policy=profile_x_medium',\n",
       "  'profile_path': '/users/show/9588907'},\n",
       " 'reviewer': {'deleted': False,\n",
       "  'first_name': 'Yongseok',\n",
       "  'host_name': 'Yongseok',\n",
       "  'id': 198380133,\n",
       "  'is_superhost': False,\n",
       "  'picture_url': 'https://a0.muscache.com/im/pictures/user/0bfb71fb-9c94-4a50-8537-19e3d9af1d12.jpg?aki_policy=profile_x_medium',\n",
       "  'profile_path': '/users/show/198380133'}}"
      ]
     },
     "execution_count": 10,
     "metadata": {},
     "output_type": "execute_result"
    }
   ],
   "source": [
    "list(review.values())[0][0] # 데이터 구조를 보자. 숙소id를 key로, 리뷰들의 리스트를 value로 갖는다"
   ]
  },
  {
   "cell_type": "markdown",
   "metadata": {},
   "source": [
    "다행스럽게도 리뷰별로 rating이 있다"
   ]
  },
  {
   "cell_type": "code",
   "execution_count": 11,
   "metadata": {},
   "outputs": [],
   "source": [
    "ratings = {}\n",
    "for k,vals in review.items():\n",
    "    ratings[k] = []\n",
    "    for val in vals:\n",
    "        ratings[k].append(val['rating'])"
   ]
  },
  {
   "cell_type": "code",
   "execution_count": 12,
   "metadata": {},
   "outputs": [],
   "source": [
    "rating_all = []\n",
    "for vals in ratings.values():\n",
    "    rating_all.extend(vals)"
   ]
  },
  {
   "cell_type": "code",
   "execution_count": 13,
   "metadata": {},
   "outputs": [],
   "source": [
    "rating_count = Counter(rating_all)"
   ]
  },
  {
   "cell_type": "code",
   "execution_count": 14,
   "metadata": {},
   "outputs": [
    {
     "data": {
      "text/plain": [
       "Counter({3: 16779, 4: 104909, 5: 450345, 2: 3149, 1: 1886, 0: 4447})"
      ]
     },
     "execution_count": 14,
     "metadata": {},
     "output_type": "execute_result"
    }
   ],
   "source": [
    "rating_count # 대부분이 5점"
   ]
  },
  {
   "cell_type": "code",
   "execution_count": 15,
   "metadata": {},
   "outputs": [
    {
     "data": {
      "text/plain": [
       "581515"
      ]
     },
     "execution_count": 15,
     "metadata": {},
     "output_type": "execute_result"
    }
   ],
   "source": [
    "sum(rating_count.values()) # 전체 rating 개수 == 전체 리뷰 개수"
   ]
  },
  {
   "cell_type": "markdown",
   "metadata": {},
   "source": [
    "평균구해보자"
   ]
  },
  {
   "cell_type": "code",
   "execution_count": 16,
   "metadata": {},
   "outputs": [],
   "source": [
    "rate_all=0\n",
    "for rate,cnt in rating_count.items():\n",
    "    rate_all += rate*cnt\n",
    "    "
   ]
  },
  {
   "cell_type": "code",
   "execution_count": 17,
   "metadata": {},
   "outputs": [
    {
     "data": {
      "text/plain": [
       "4.694430926115405"
      ]
     },
     "execution_count": 17,
     "metadata": {},
     "output_type": "execute_result"
    }
   ],
   "source": [
    "rate_all/sum(rating_count.values()) # 매우높은편 "
   ]
  },
  {
   "cell_type": "markdown",
   "metadata": {},
   "source": [
    "언어분포를 보자"
   ]
  },
  {
   "cell_type": "code",
   "execution_count": 18,
   "metadata": {},
   "outputs": [],
   "source": [
    "lang = []\n",
    "for k,rev_lst in review.items():\n",
    "    for rev in rev_lst:\n",
    "        lang.append(rev['language'])"
   ]
  },
  {
   "cell_type": "markdown",
   "metadata": {},
   "source": [
    "한국어와 영어가 대부분이다\n",
    "\n",
    "NLP를 위해 하나의 언어로 번역필요하다. 영어로 진행할 예정"
   ]
  },
  {
   "cell_type": "code",
   "execution_count": 19,
   "metadata": {},
   "outputs": [
    {
     "data": {
      "text/plain": [
       "[('ko', 276892),\n",
       " ('en', 238310),\n",
       " ('zh', 18580),\n",
       " ('zh-TW', 17945),\n",
       " ('zh-CN', 16200),\n",
       " ('ja', 6027),\n",
       " ('fr', 2362),\n",
       " ('ru', 1177),\n",
       " ('und', 917),\n",
       " ('es', 879),\n",
       " ('de', 789),\n",
       " ('th', 631),\n",
       " ('nl', 140),\n",
       " ('it', 108),\n",
       " ('id', 90),\n",
       " ('pt', 83),\n",
       " ('sv', 75),\n",
       " ('no', 48),\n",
       " ('da', 45),\n",
       " ('pl', 37),\n",
       " ('fi', 37),\n",
       " ('vi', 25),\n",
       " ('ms', 22),\n",
       " ('tr', 17),\n",
       " ('cs', 14),\n",
       " ('ca', 13),\n",
       " (None, 8),\n",
       " ('ar', 6),\n",
       " ('bg', 6),\n",
       " ('hu', 6),\n",
       " ('ro', 5),\n",
       " ('cy', 3),\n",
       " ('sl', 3),\n",
       " ('sq', 2),\n",
       " ('tl', 2),\n",
       " ('ht', 2),\n",
       " ('ceb', 1),\n",
       " ('mi', 1),\n",
       " ('af', 1),\n",
       " ('so', 1),\n",
       " ('la', 1),\n",
       " ('ky', 1),\n",
       " ('jw', 1),\n",
       " ('gl', 1),\n",
       " ('hi', 1)]"
      ]
     },
     "execution_count": 19,
     "metadata": {},
     "output_type": "execute_result"
    }
   ],
   "source": [
    "lang_cnt = Counter(lang)\n",
    "sorted(lang_cnt.items(),key=lambda kv:kv[1],reverse=True)"
   ]
  },
  {
   "cell_type": "markdown",
   "metadata": {},
   "source": [
    "리뷰수를 숙소별로 세보자"
   ]
  },
  {
   "cell_type": "code",
   "execution_count": 20,
   "metadata": {},
   "outputs": [],
   "source": [
    "review_cnt = {}\n",
    "for k,v in review.items():\n",
    "    review_cnt[k] = len(v)"
   ]
  },
  {
   "cell_type": "code",
   "execution_count": 21,
   "metadata": {},
   "outputs": [],
   "source": [
    "revcnt_cnt = Counter([cnt for cnt in review_cnt.values()])"
   ]
  },
  {
   "cell_type": "code",
   "execution_count": 22,
   "metadata": {},
   "outputs": [
    {
     "data": {
      "text/plain": [
       "[(0, 6548),\n",
       " (1, 2775),\n",
       " (2, 1737),\n",
       " (3, 1207),\n",
       " (4, 1000),\n",
       " (5, 862),\n",
       " (6, 774),\n",
       " (7, 644),\n",
       " (8, 563),\n",
       " (9, 519),\n",
       " (10, 468),\n",
       " (11, 463),\n",
       " (12, 367),\n",
       " (13, 398),\n",
       " (14, 353),\n",
       " (15, 362),\n",
       " (16, 326),\n",
       " (17, 294),\n",
       " (18, 281),\n",
       " (19, 283),\n",
       " (20, 256),\n",
       " (21, 262),\n",
       " (22, 268),\n",
       " (23, 208),\n",
       " (24, 201),\n",
       " (25, 218),\n",
       " (26, 217),\n",
       " (27, 191),\n",
       " (28, 168),\n",
       " (29, 176)]"
      ]
     },
     "execution_count": 22,
     "metadata": {},
     "output_type": "execute_result"
    }
   ],
   "source": [
    "sorted(revcnt_cnt.items(),)[:30]"
   ]
  },
  {
   "cell_type": "code",
   "execution_count": 23,
   "metadata": {},
   "outputs": [],
   "source": [
    "labels,counts = zip(*sorted(revcnt_cnt.items(),key=lambda kv:kv[0]))"
   ]
  },
  {
   "cell_type": "code",
   "execution_count": 24,
   "metadata": {},
   "outputs": [],
   "source": [
    "labels = np.array(labels) # labels: 리뷰 수\n",
    "counts = np.array(counts) # counts: 해당 리뷰수만큼 리뷰달린 숙소 수"
   ]
  },
  {
   "cell_type": "code",
   "execution_count": 25,
   "metadata": {},
   "outputs": [
    {
     "data": {
      "text/plain": [
       "Text(0.5,1,'Review Counts')"
      ]
     },
     "execution_count": 25,
     "metadata": {},
     "output_type": "execute_result"
    },
    {
     "data": {
      "image/png": "[encoded data removed]",
      "text/plain": [
       "<Figure size 1080x360 with 1 Axes>"
      ]
     },
     "metadata": {
      "needs_background": "light"
     },
     "output_type": "display_data"
    }
   ],
   "source": [
    "plt.figure(figsize=(15,5))\n",
    "plt.plot(labels,counts)\n",
    "plt.xlabel('# of reviews')\n",
    "plt.ylabel('count of rooms')\n",
    "plt.title('Review Counts')"
   ]
  },
  {
   "cell_type": "code",
   "execution_count": null,
   "metadata": {},
   "outputs": [],
   "source": []
  },
  {
   "cell_type": "markdown",
   "metadata": {},
   "source": [
    "추천시스템 구현을 위해서 유저-리뷰 정보가 필요하다"
   ]
  },
  {
   "cell_type": "code",
   "execution_count": 26,
   "metadata": {},
   "outputs": [
    {
     "data": {
      "text/plain": [
       "96535213"
      ]
     },
     "execution_count": 26,
     "metadata": {},
     "output_type": "execute_result"
    }
   ],
   "source": [
    "review['10030136'][0]['reviewer']['id'] # user_id이다. 숙소에 달린 리뷰들은 user_id 정보를 담고있다 "
   ]
  },
  {
   "cell_type": "markdown",
   "metadata": {},
   "source": [
    "유저를 key, 유저가 쓴 리뷰들의 리스트를 value로 하는 user_rev 딕셔너리를 통해 유저와 리뷰를 매칭하자"
   ]
  },
  {
   "cell_type": "code",
   "execution_count": 27,
   "metadata": {},
   "outputs": [],
   "source": [
    "user_rev = {}\n",
    "for listing_id in review.keys():\n",
    "    for rev in review[listing_id]:\n",
    "        user_id = str(rev['reviewer']['id'])\n",
    "        if user_id not in user_rev:\n",
    "            user_rev[user_id] = []\n",
    "            user_rev[user_id] += [rev]\n",
    "        else:\n",
    "            user_rev[user_id] += [rev]"
   ]
  },
  {
   "cell_type": "code",
   "execution_count": 28,
   "metadata": {},
   "outputs": [
    {
     "data": {
      "text/plain": [
       "459338"
      ]
     },
     "execution_count": 28,
     "metadata": {},
     "output_type": "execute_result"
    }
   ],
   "source": [
    "len(user_rev.keys()) # 리뷰를 쓴 유저의 수"
   ]
  },
  {
   "cell_type": "code",
   "execution_count": 29,
   "metadata": {},
   "outputs": [
    {
     "data": {
      "text/plain": [
       "1"
      ]
     },
     "execution_count": 29,
     "metadata": {},
     "output_type": "execute_result"
    }
   ],
   "source": [
    "len(user_rev['111507566']) # 111507566 유저가 남긴 리뷰의 수 "
   ]
  },
  {
   "cell_type": "code",
   "execution_count": 30,
   "metadata": {},
   "outputs": [],
   "source": [
    "# 유저당 남긴 리뷰의 개수를 세보자\n",
    "rev_user_cnt = Counter([len(rev_lst) for rev_lst in user_rev.values()])"
   ]
  },
  {
   "cell_type": "code",
   "execution_count": 31,
   "metadata": {},
   "outputs": [
    {
     "data": {
      "text/plain": [
       "Counter({1: 378560,\n",
       "         2: 57434,\n",
       "         3: 14721,\n",
       "         5: 1855,\n",
       "         8: 230,\n",
       "         4: 4789,\n",
       "         7: 415,\n",
       "         6: 879,\n",
       "         9: 144,\n",
       "         15: 21,\n",
       "         12: 48,\n",
       "         10: 80,\n",
       "         14: 23,\n",
       "         17: 7,\n",
       "         16: 17,\n",
       "         11: 50,\n",
       "         13: 31,\n",
       "         23: 2,\n",
       "         21: 2,\n",
       "         31: 2,\n",
       "         33: 1,\n",
       "         20: 4,\n",
       "         27: 3,\n",
       "         53: 1,\n",
       "         18: 4,\n",
       "         19: 6,\n",
       "         28: 1,\n",
       "         24: 1,\n",
       "         25: 1,\n",
       "         26: 3,\n",
       "         22: 1,\n",
       "         29: 1,\n",
       "         32: 1})"
      ]
     },
     "execution_count": 31,
     "metadata": {},
     "output_type": "execute_result"
    }
   ],
   "source": [
    "rev_user_cnt"
   ]
  },
  {
   "cell_type": "code",
   "execution_count": 32,
   "metadata": {},
   "outputs": [],
   "source": [
    "labels,counts = zip(*sorted(rev_user_cnt.items(),key=lambda kv:kv[0]))"
   ]
  },
  {
   "cell_type": "code",
   "execution_count": 33,
   "metadata": {},
   "outputs": [],
   "source": [
    "labels = np.array(labels) # labels: 리뷰수\n",
    "counts = np.array(counts) # counts: 해당 리뷰수만큼 리뷰 남긴 유저 카운트"
   ]
  },
  {
   "cell_type": "code",
   "execution_count": 34,
   "metadata": {},
   "outputs": [
    {
     "data": {
      "text/plain": [
       "Text(0.5,1,'Review Counts')"
      ]
     },
     "execution_count": 34,
     "metadata": {},
     "output_type": "execute_result"
    },
    {
     "data": {
      "image/png": "[encoded data removed]",
      "text/plain": [
       "<Figure size 1080x360 with 1 Axes>"
      ]
     },
     "metadata": {
      "needs_background": "light"
     },
     "output_type": "display_data"
    }
   ],
   "source": [
    "plt.figure(figsize=(15,5))\n",
    "plt.plot(labels,counts)\n",
    "plt.xlabel('# of reviews')\n",
    "plt.ylabel('count of users')\n",
    "plt.title('Review Counts')"
   ]
  },
  {
   "cell_type": "code",
   "execution_count": null,
   "metadata": {},
   "outputs": [],
   "source": []
  },
  {
   "cell_type": "code",
   "execution_count": null,
   "metadata": {},
   "outputs": [],
   "source": []
  },
  {
   "cell_type": "code",
   "execution_count": null,
   "metadata": {},
   "outputs": [],
   "source": []
  }
 ],
 "metadata": {
  "kernelspec": {
   "display_name": "Python 3",
   "language": "python",
   "name": "python3"
  },
  "language_info": {
   "codemirror_mode": {
    "name": "ipython",
    "version": 3
   },
   "file_extension": ".py",
   "mimetype": "text/x-python",
   "name": "python",
   "nbconvert_exporter": "python",
   "pygments_lexer": "ipython3",
   "version": "3.7.0"
  }
 },
 "nbformat": 4,
 "nbformat_minor": 2
}
