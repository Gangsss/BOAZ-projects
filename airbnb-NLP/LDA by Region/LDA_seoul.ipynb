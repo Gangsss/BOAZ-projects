{
 "cells": [
  {
   "cell_type": "markdown",
   "metadata": {},
   "source": [
    "### 서울 Airbnb reviews"
   ]
  },
  {
   "cell_type": "code",
   "execution_count": 1,
   "metadata": {},
   "outputs": [],
   "source": [
    "import json\n",
    "import re"
   ]
  },
  {
   "cell_type": "code",
   "execution_count": 2,
   "metadata": {},
   "outputs": [],
   "source": [
    "review = {}\n",
    "with open('translated_seoul.json','r',encoding='utf-8') as fp:\n",
    "    review.update(json.load(fp))"
   ]
  },
  {
   "cell_type": "code",
   "execution_count": 3,
   "metadata": {},
   "outputs": [],
   "source": [
    "review_en={}\n",
    "\n",
    "for home_id,rev_lsts in review.items():\n",
    "    review_en[home_id] = []\n",
    "    for rev_lst in rev_lsts:\n",
    "        try:\n",
    "            if str(rev_lst['language'][-2:]) == 'en':\n",
    "                review_en[home_id].append([rev_lst['rating'],rev_lst['t_comments']])\n",
    "        except:\n",
    "            pass"
   ]
  },
  {
   "cell_type": "code",
   "execution_count": 5,
   "metadata": {},
   "outputs": [
    {
     "data": {
      "text/plain": [
       "14608"
      ]
     },
     "execution_count": 5,
     "metadata": {},
     "output_type": "execute_result"
    }
   ],
   "source": [
    "len(review_en)"
   ]
  },
  {
   "cell_type": "markdown",
   "metadata": {},
   "source": [
    "### Data Preprocessing Step\n",
    "##### 1. Tokenization\n",
    "##### 2. Stop word elimination\n",
    "##### 3. Stemming : 단어를 기본형으로 바꾸어준다. 복수형은 단수형으로, 과거형은 현재형으로 바꾸는 과정\n",
    "##### 4. Representation"
   ]
  },
  {
   "cell_type": "code",
   "execution_count": 4,
   "metadata": {},
   "outputs": [],
   "source": [
    "import nltk\n",
    "from nltk import sent_tokenize\n",
    "from nltk.stem import WordNetLemmatizer\n",
    "import tqdm"
   ]
  },
  {
   "cell_type": "markdown",
   "metadata": {},
   "source": [
    "### Tokenization"
   ]
  },
  {
   "cell_type": "code",
   "execution_count": 5,
   "metadata": {},
   "outputs": [
    {
     "name": "stderr",
     "output_type": "stream",
     "text": [
      "100%|███████████████████████████████████████████████████████████████████████████| 14608/14608 [00:34<00:00, 419.88it/s]\n"
     ]
    }
   ],
   "source": [
    "# 리뷰별 문장단위 tokenizing\n",
    "for home_id,rev_lst in tqdm.tqdm(review_en.items()) :\n",
    "    for rev in rev_lst:\n",
    "        rev[1] = sent_tokenize(rev[1])"
   ]
  },
  {
   "cell_type": "code",
   "execution_count": 6,
   "metadata": {},
   "outputs": [
    {
     "name": "stderr",
     "output_type": "stream",
     "text": [
      "100%|█████████████████████████████████████████████████████████████████████████| 14608/14608 [00:00<00:00, 26987.24it/s]\n"
     ]
    }
   ],
   "source": [
    "# 길이가 2보다 작은 문장 없애기\n",
    "for home_id,rev_lst in tqdm.tqdm(review_en.items()) :\n",
    "    for rev in rev_lst:\n",
    "        r = []\n",
    "        for s in rev[1] : \n",
    "            if len(s) > 2 :\n",
    "                r.append(s)\n",
    "        rev[1] = r        "
   ]
  },
  {
   "cell_type": "markdown",
   "metadata": {},
   "source": [
    "###  Stop words elimination"
   ]
  },
  {
   "cell_type": "code",
   "execution_count": 7,
   "metadata": {},
   "outputs": [],
   "source": [
    "# 소문자와 대문자가 아닌 것은 공백으로 대체\n",
    "for home_id,rev_lst in review_en.items(): \n",
    "    for rev in rev_lst:\n",
    "        for sentence in rev[1]:\n",
    "            sentence = re.sub('[^a-zA-Z\\s]', '', sentence)"
   ]
  },
  {
   "cell_type": "code",
   "execution_count": 8,
   "metadata": {
    "scrolled": true
   },
   "outputs": [
    {
     "name": "stdout",
     "output_type": "stream",
     "text": [
      "['i', 'me', 'my', 'myself', 'we', 'our', 'ours', 'ourselves', 'you', \"you're\", \"you've\", \"you'll\", \"you'd\", 'your', 'yours', 'yourself', 'yourselves', 'he', 'him', 'his', 'himself', 'she', \"she's\", 'her', 'hers', 'herself', 'it', \"it's\", 'its', 'itself', 'they', 'them', 'their', 'theirs', 'themselves', 'what', 'which', 'who', 'whom', 'this', 'that', \"that'll\", 'these', 'those', 'am', 'is', 'are', 'was', 'were', 'be', 'been', 'being', 'have', 'has', 'had', 'having', 'do', 'does', 'did', 'doing', 'a', 'an', 'the', 'and', 'but', 'if', 'or', 'because', 'as', 'until', 'while', 'of', 'at', 'by', 'for', 'with', 'about', 'against', 'between', 'into', 'through', 'during', 'before', 'after', 'above', 'below', 'to', 'from', 'up', 'down', 'in', 'out', 'on', 'off', 'over', 'under', 'again', 'further', 'then', 'once', 'here', 'there', 'when', 'where', 'why', 'how', 'all', 'any', 'both', 'each', 'few', 'more', 'most', 'other', 'some', 'such', 'no', 'nor', 'not', 'only', 'own', 'same', 'so', 'than', 'too', 'very', 's', 't', 'can', 'will', 'just', 'don', \"don't\", 'should', \"should've\", 'now', 'd', 'll', 'm', 'o', 're', 've', 'y', 'ain', 'aren', \"aren't\", 'couldn', \"couldn't\", 'didn', \"didn't\", 'doesn', \"doesn't\", 'hadn', \"hadn't\", 'hasn', \"hasn't\", 'haven', \"haven't\", 'isn', \"isn't\", 'ma', 'mightn', \"mightn't\", 'mustn', \"mustn't\", 'needn', \"needn't\", 'shan', \"shan't\", 'shouldn', \"shouldn't\", 'wasn', \"wasn't\", 'weren', \"weren't\", 'won', \"won't\", 'wouldn', \"wouldn't\"]\n"
     ]
    }
   ],
   "source": [
    "from nltk.corpus import stopwords\n",
    "stopWords =list(stopwords.words('english'))\n",
    "print(stopWords)"
   ]
  },
  {
   "cell_type": "code",
   "execution_count": 9,
   "metadata": {},
   "outputs": [],
   "source": [
    "add_stopwords = ['airbnb','im','youre','hongdae', 'seoul', 'daegu', 'jeju' ,'busan', 'korea','gangneung',\n",
    "                 'itaewon','myeongdong','john','gangnam','also','even','dont','namsan','incheon','good','great','little','well','nice']\n",
    "# additional_stopwords = []\n",
    "stopWords = set(stopWords + add_stopwords)"
   ]
  },
  {
   "cell_type": "code",
   "execution_count": 10,
   "metadata": {},
   "outputs": [
    {
     "name": "stderr",
     "output_type": "stream",
     "text": [
      "100%|██████████████████████████████████████████████████████████████████████████| 14608/14608 [2:10:56<00:00,  1.86it/s]\n"
     ]
    }
   ],
   "source": [
    "# 문장별 단어단위 tokenizing 후 pos_tag\n",
    "for home_id,rev_lst in tqdm.tqdm(review_en.items()):\n",
    "    for rev in rev_lst:\n",
    "        tmp_lst = []\n",
    "        for sentence in rev[1]:\n",
    "            token = nltk.regexp_tokenize(sentence.lower() ,\"[\\w']+\")\n",
    "            no_stopword_token = [w for w in token if not w in stopWords]\n",
    "            sent_pos = nltk.pos_tag(no_stopword_token)\n",
    "            tmp_lst.append(sent_pos)\n",
    "        rev[1] = tmp_lst"
   ]
  },
  {
   "cell_type": "markdown",
   "metadata": {},
   "source": [
    "### 명사, 형용사, 동사, 부사 lemmatization"
   ]
  },
  {
   "cell_type": "code",
   "execution_count": 11,
   "metadata": {},
   "outputs": [],
   "source": [
    "lemm = WordNetLemmatizer()\n",
    "\n",
    "def njvr_lemmantizer(sent):\n",
    "    global lemm\n",
    "    \n",
    "    lemm_sent = []\n",
    "    for word_pos in sent:\n",
    "        word, pos = word_pos\n",
    "        if pos[0] == 'N':\n",
    "            lemm_sent.append(lemm.lemmatize(word,pos='n').lower() +'_N')\n",
    "        elif pos[0] == 'J':\n",
    "            lemm_sent.append(lemm.lemmatize(word,pos='a').lower() +'_J')\n",
    "        elif pos[0] == 'V':\n",
    "            lemm_sent.append(lemm.lemmatize(word,pos='v').lower() +'_V')\n",
    "        elif pos[0] == 'R':\n",
    "            lemm_sent.append(lemm.lemmatize(word,pos='r').lower() +'_R')\n",
    "        else:pass\n",
    "    return lemm_sent"
   ]
  },
  {
   "cell_type": "code",
   "execution_count": 12,
   "metadata": {},
   "outputs": [
    {
     "name": "stderr",
     "output_type": "stream",
     "text": [
      "100%|███████████████████████████████████████████████████████████████████████████| 14608/14608 [00:29<00:00, 502.09it/s]\n"
     ]
    }
   ],
   "source": [
    "for listing_id, rev_lst in tqdm.tqdm(review_en.items()):\n",
    "    for rev in rev_lst:\n",
    "        rev_tmp = []\n",
    "        for sent in rev[1]:\n",
    "            rev_tmp.append(njvr_lemmantizer(sent))\n",
    "        rev[1] = rev_tmp"
   ]
  },
  {
   "cell_type": "code",
   "execution_count": 13,
   "metadata": {},
   "outputs": [],
   "source": [
    "with open('review_postag_seoul2.json','w',encoding='utf-8') as fp:\n",
    "        json.dump(review_en,fp)"
   ]
  },
  {
   "cell_type": "code",
   "execution_count": null,
   "metadata": {},
   "outputs": [],
   "source": []
  },
  {
   "cell_type": "markdown",
   "metadata": {},
   "source": [
    "### LDA "
   ]
  },
  {
   "cell_type": "code",
   "execution_count": 14,
   "metadata": {
    "colab": {},
    "colab_type": "code",
    "id": "RTnZXoa1u8K-"
   },
   "outputs": [],
   "source": [
    "import pandas as pd\n",
    "import numpy as np\n",
    "import time"
   ]
  },
  {
   "cell_type": "code",
   "execution_count": 15,
   "metadata": {
    "colab": {},
    "colab_type": "code",
    "id": "HsOQPD7qu8LH",
    "outputId": "0920d6b8-cb3e-40ef-9b76-2dcd4c3e4b67"
   },
   "outputs": [
    {
     "name": "stderr",
     "output_type": "stream",
     "text": [
      "C:\\Users\\asd00\\Anaconda3\\lib\\site-packages\\gensim\\utils.py:1212: UserWarning: detected Windows; aliasing chunkize to chunkize_serial\n",
      "  warnings.warn(\"detected Windows; aliasing chunkize to chunkize_serial\")\n"
     ]
    }
   ],
   "source": [
    "import gensim\n",
    "from gensim import corpora, models\n",
    "from gensim.models import CoherenceModel"
   ]
  },
  {
   "cell_type": "code",
   "execution_count": 16,
   "metadata": {
    "colab": {},
    "colab_type": "code",
    "id": "wfcRerIwu8LS"
   },
   "outputs": [],
   "source": [
    "review = review_en"
   ]
  },
  {
   "cell_type": "code",
   "execution_count": 17,
   "metadata": {
    "colab": {},
    "colab_type": "code",
    "id": "UdNMVG4Eu8Lh"
   },
   "outputs": [],
   "source": [
    "texts = []\n",
    "for home_id,rev_lst in review.items():\n",
    "    for rev in rev_lst:\n",
    "        for sentence in rev[1] :\n",
    "            texts.append(sentence)"
   ]
  },
  {
   "cell_type": "code",
   "execution_count": 18,
   "metadata": {
    "colab": {},
    "colab_type": "code",
    "id": "2A1N-I5Zu8Lm",
    "outputId": "1eae6ec2-56aa-4ad4-cfd3-fdc19c038a1c"
   },
   "outputs": [
    {
     "data": {
      "text/plain": [
       "[['september_V',\n",
       "  'accompany_V',\n",
       "  'son_N',\n",
       "  'south_J',\n",
       "  'go_V',\n",
       "  'son_N',\n",
       "  'watch_V',\n",
       "  'photo_J',\n",
       "  'reservation_N',\n",
       "  'second_J',\n",
       "  'house_N',\n",
       "  'leave_V',\n",
       "  'gate_J',\n",
       "  'national_J',\n",
       "  'university_N',\n",
       "  \"people's_N\",\n",
       "  'republic_J',\n",
       "  'china_V',\n",
       "  'national_J',\n",
       "  'university_N',\n",
       "  \"people's_N\",\n",
       "  'republic_J',\n",
       "  'china_N',\n",
       "  'midnight_N',\n",
       "  'midnight_N',\n",
       "  'midnight_N',\n",
       "  'arrive_V',\n",
       "  'midnight_R',\n",
       "  'think_N',\n",
       "  'hostess_N',\n",
       "  'hostess_N',\n",
       "  'wait_V',\n",
       "  'hospitable_J',\n",
       "  'host_N',\n",
       "  'keep_V',\n",
       "  'second_J',\n",
       "  'floor_N',\n",
       "  'clean_J',\n",
       "  'quiet_J',\n",
       "  'neat_N',\n",
       "  'elegant_J',\n",
       "  'good_J',\n",
       "  'bed_N',\n",
       "  'see_V',\n",
       "  'internet_J',\n",
       "  'next_J',\n",
       "  'day_N',\n",
       "  'bright_J',\n",
       "  'noise_N',\n",
       "  'city_N',\n",
       "  'quiet_J',\n",
       "  'pastoral_J',\n",
       "  'nature_N',\n",
       "  'countryside_N',\n",
       "  'beautiful_J',\n",
       "  'view_N',\n",
       "  'villa_N',\n",
       "  'green_J',\n",
       "  'grass_N',\n",
       "  'small_J',\n",
       "  'hill_N',\n",
       "  'surround_V',\n",
       "  'hill_N',\n",
       "  'speak_J',\n",
       "  'english_J',\n",
       "  'fluently_R',\n",
       "  'ardent_J',\n",
       "  'host_N',\n",
       "  'speak_V',\n",
       "  'korean_J',\n",
       "  'english_J',\n",
       "  'take_V',\n",
       "  'breakfast_V',\n",
       "  'amazed_J',\n",
       "  'much_J',\n",
       "  'confidence_N',\n",
       "  'give_V',\n",
       "  'house_N',\n",
       "  'day_N',\n",
       "  'intercourse_N',\n",
       "  'make_V',\n",
       "  'feel_V',\n",
       "  'family_N',\n",
       "  'help_V',\n",
       "  'find_V',\n",
       "  'house_N',\n",
       "  'give_V',\n",
       "  'fruit_V',\n",
       "  'tea_N'],\n",
       " ['thank_N',\n",
       "  'enough_J',\n",
       "  'tea_N',\n",
       "  'next_J',\n",
       "  'time_N',\n",
       "  \"i'm_J\",\n",
       "  'gon_N',\n",
       "  'bring_V',\n",
       "  'family_N',\n",
       "  'back_R',\n",
       "  'thank_R',\n",
       "  'much_J',\n",
       "  'hospitality_N',\n",
       "  \"we're_N\",\n",
       "  'gon_N',\n",
       "  'left_J',\n",
       "  'deep_J',\n",
       "  'impression_N',\n",
       "  'thank_N']]"
      ]
     },
     "execution_count": 18,
     "metadata": {},
     "output_type": "execute_result"
    }
   ],
   "source": [
    "texts[:2]"
   ]
  },
  {
   "cell_type": "code",
   "execution_count": 19,
   "metadata": {
    "colab": {},
    "colab_type": "code",
    "id": "-jS3XD2Du8Lr"
   },
   "outputs": [],
   "source": [
    "dic = corpora.Dictionary(texts)"
   ]
  },
  {
   "cell_type": "code",
   "execution_count": 20,
   "metadata": {
    "colab": {},
    "colab_type": "code",
    "id": "QH--lD0Qu8L4"
   },
   "outputs": [],
   "source": [
    "corpus = [dic.doc2bow(text) for text in texts]"
   ]
  },
  {
   "cell_type": "code",
   "execution_count": 21,
   "metadata": {
    "colab": {},
    "colab_type": "code",
    "id": "2buE4y-cu8MA",
    "outputId": "9b6500d5-1de2-4f0f-deeb-6a26d7f61573"
   },
   "outputs": [
    {
     "data": {
      "text/plain": [
       "1124076"
      ]
     },
     "execution_count": 21,
     "metadata": {},
     "output_type": "execute_result"
    }
   ],
   "source": [
    "len(corpus)"
   ]
  },
  {
   "cell_type": "code",
   "execution_count": 22,
   "metadata": {
    "colab": {},
    "colab_type": "code",
    "id": "XDIyQleCu8MK"
   },
   "outputs": [
    {
     "name": "stderr",
     "output_type": "stream",
     "text": [
      "C:\\Users\\asd00\\Anaconda3\\lib\\site-packages\\gensim\\models\\ldamodel.py:1023: RuntimeWarning: divide by zero encountered in log\n",
      "  diff = np.log(self.expElogbeta)\n"
     ]
    }
   ],
   "source": [
    "# corpus: the corpus used to train the topic model.\n",
    "# id2word: a dictionary that maps word numerical identifiers to word strings \n",
    "# alpha: the topic distribution. If we set it to 'auto', then we tell the algorithm to determine the topic proportions automatically.\n",
    "# num_topics: how many topics the algorithm should find.\n",
    "# passes: how many times the algorithm should go through the corpus. If you are using a large corpus , then this can be set to 1\n",
    "# model.num_topics: the number of topics.\n",
    "# model.show_topic(topic_number, topn) returns the probability distribution over words in one topic. for instance [(0.06, 'food'), (0.04, 'cook'), (0.03, 'fry'), ...]\n",
    "# model.alpha[topic_number]: the prominence of a topic.\n",
    "\n",
    "#%%time\n",
    "ldamodel = gensim.models.ldamodel.LdaModel(corpus, num_topics = 6, id2word = dic, passes=30 ,iterations = 3000,alpha='symmetric', eta='auto') #LDA model 생성"
   ]
  },
  {
   "cell_type": "code",
   "execution_count": 23,
   "metadata": {},
   "outputs": [],
   "source": [
    "ldamodel.save('lda_seoul.lda')"
   ]
  },
  {
   "cell_type": "markdown",
   "metadata": {
    "colab_type": "text",
    "id": "q00ecmihu8MS"
   },
   "source": [
    "#### Airnb category : 정확성 / 의사소통 / 청결도 / 위치 / 체크인 / 가치"
   ]
  },
  {
   "cell_type": "code",
   "execution_count": 24,
   "metadata": {
    "colab": {},
    "colab_type": "code",
    "id": "lKYrvf-wu8MT",
    "outputId": "a298021e-8c73-4688-8696-ba04163b99dd"
   },
   "outputs": [
    {
     "data": {
      "text/plain": [
       "[(0,\n",
       "  '0.061*\"clean_J\" + 0.052*\"room_N\" + 0.048*\"location_N\" + 0.041*\"comfortable_J\" + 0.037*\"place_N\" + 0.036*\"apartment_N\" + 0.028*\"house_N\" + 0.023*\"clean_N\" + 0.018*\"quiet_J\" + 0.015*\"really_R\"'),\n",
       " (1,\n",
       "  '0.039*\"everything_N\" + 0.030*\"room_N\" + 0.023*\"provide_V\" + 0.023*\"need_V\" + 0.016*\"thanks_N\" + 0.016*\"big_J\" + 0.016*\"bed_N\" + 0.015*\"question_N\" + 0.014*\"give_V\" + 0.014*\"always_R\"'),\n",
       " (2,\n",
       "  '0.039*\"recommend_V\" + 0.032*\"place_N\" + 0.026*\"home_N\" + 0.022*\"highly_R\" + 0.018*\"house_N\" + 0.017*\"stay_V\" + 0.015*\"experience_N\" + 0.014*\"korean_J\" + 0.013*\"make_V\" + 0.013*\"family_N\"'),\n",
       " (3,\n",
       "  '0.056*\"time_N\" + 0.034*\"stay_V\" + 0.033*\"go_V\" + 0.029*\"come_V\" + 0.026*\"next_J\" + 0.023*\"back_R\" + 0.021*\"day_N\" + 0.021*\"thank_N\" + 0.020*\"night_N\" + 0.019*\"definitely_R\"'),\n",
       " (4,\n",
       "  '0.067*\"station_N\" + 0.027*\"location_N\" + 0.025*\"restaurant_N\" + 0.025*\"easy_J\" + 0.025*\"convenient_N\" + 0.023*\"walk_V\" + 0.023*\"subway_N\" + 0.021*\"minute_N\" + 0.017*\"area_N\" + 0.017*\"store_N\"'),\n",
       " (5,\n",
       "  '0.084*\"host_N\" + 0.072*\"stay_N\" + 0.043*\"place_N\" + 0.032*\"really_R\" + 0.028*\"kind_N\" + 0.017*\"best_J\" + 0.016*\"helpful_J\" + 0.014*\"stay_V\" + 0.013*\"apartment_N\" + 0.013*\"overall_J\"')]"
      ]
     },
     "execution_count": 24,
     "metadata": {},
     "output_type": "execute_result"
    }
   ],
   "source": [
    "ldamodel.show_topics(num_words=10) #토픽을 구성하는 주요단어들"
   ]
  },
  {
   "cell_type": "code",
   "execution_count": 3,
   "metadata": {},
   "outputs": [],
   "source": [
    "ldamodel = gensim.models.ldamodel.LdaModel.load('lda_seoul.lda')"
   ]
  },
  {
   "cell_type": "code",
   "execution_count": 25,
   "metadata": {
    "colab": {},
    "colab_type": "code",
    "id": "eCU8dtZku8MX",
    "outputId": "838f2098-2eaa-4241-dae2-54ab4bfe012e"
   },
   "outputs": [],
   "source": [
    "import pyLDAvis\n",
    "import pyLDAvis.gensim \n",
    "import matplotlib.pyplot as plt"
   ]
  },
  {
   "cell_type": "code",
   "execution_count": 26,
   "metadata": {
    "colab": {},
    "colab_type": "code",
    "id": "wgKpDXoZu8Mf",
    "outputId": "d6aade83-caeb-42a1-978b-2fb5d86d56e7"
   },
   "outputs": [
    {
     "name": "stderr",
     "output_type": "stream",
     "text": [
      "C:\\Users\\asd00\\Anaconda3\\lib\\site-packages\\pyLDAvis\\_prepare.py:257: FutureWarning: Sorting because non-concatenation axis is not aligned. A future version\n",
      "of pandas will change to not sort by default.\n",
      "\n",
      "To accept the future behavior, pass 'sort=False'.\n",
      "\n",
      "To retain the current behavior and silence the warning, pass 'sort=True'.\n",
      "\n",
      "  return pd.concat([default_term_info] + list(topic_dfs))\n"
     ]
    }
   ],
   "source": [
    "# Visualize the topics\n",
    "pyLDAvis.enable_notebook()\n",
    "vis = pyLDAvis.gensim.prepare(ldamodel, corpus, dic)"
   ]
  },
  {
   "cell_type": "code",
   "execution_count": 28,
   "metadata": {},
   "outputs": [
    {
     "data": {
      "text/html": [
       "\n",
       "<link rel=\"stylesheet\" type=\"text/css\" href=\"https://cdn.rawgit.com/bmabey/pyLDAvis/files/ldavis.v1.0.0.css\">\n",
       "\n",
       "\n",
       "<div id=\"ldavis_el326424860164954328140553261\"></div>\n",
       "<script type=\"text/javascript\">\n",
       "\n",
       "var ldavis_el326424860164954328140553261_data = {\"mdsDat\": {\"x\": [-0.239525517380392, -0.10781802148173131, -0.2260583463963134, 0.2213251833487629, 0.15665247182392628, 0.1954242300857475], \"y\": [0.16790693629034728, -0.4048401899709945, 0.10490906948749364, -0.05389468209154643, 0.10627071954754254, 0.07964814673715769], \"topics\": [1, 2, 3, 4, 5, 6], \"cluster\": [1, 1, 1, 1, 1, 1], \"Freq\": [20.05706787109375, 16.87082290649414, 16.797931671142578, 16.066091537475586, 15.768917083740234, 14.439165115356445]}, \"tinfo\": {\"Category\": [\"Default\", \"Default\", \"Default\", \"Default\", \"Default\", \"Default\", \"Default\", \"Default\", \"Default\", \"Default\", \"Default\", \"Default\", \"Default\", \"Default\", \"Default\", \"Default\", \"Default\", \"Default\", \"Default\", \"Default\", \"Default\", \"Default\", \"Default\", \"Default\", \"Default\", \"Default\", \"Default\", \"Default\", \"Default\", \"Default\", \"Topic1\", \"Topic1\", \"Topic1\", \"Topic1\", \"Topic1\", \"Topic1\", \"Topic1\", \"Topic1\", \"Topic1\", \"Topic1\", \"Topic1\", \"Topic1\", \"Topic1\", \"Topic1\", \"Topic1\", \"Topic1\", \"Topic1\", \"Topic1\", \"Topic1\", \"Topic1\", \"Topic1\", \"Topic1\", \"Topic1\", \"Topic1\", \"Topic1\", \"Topic1\", \"Topic1\", \"Topic1\", \"Topic1\", \"Topic1\", \"Topic1\", \"Topic1\", \"Topic1\", \"Topic1\", \"Topic1\", \"Topic1\", \"Topic1\", \"Topic1\", \"Topic1\", \"Topic1\", \"Topic1\", \"Topic1\", \"Topic1\", \"Topic2\", \"Topic2\", \"Topic2\", \"Topic2\", \"Topic2\", \"Topic2\", \"Topic2\", \"Topic2\", \"Topic2\", \"Topic2\", \"Topic2\", \"Topic2\", \"Topic2\", \"Topic2\", \"Topic2\", \"Topic2\", \"Topic2\", \"Topic2\", \"Topic2\", \"Topic2\", \"Topic2\", \"Topic2\", \"Topic2\", \"Topic2\", \"Topic2\", \"Topic2\", \"Topic2\", \"Topic2\", \"Topic2\", \"Topic2\", \"Topic2\", \"Topic2\", \"Topic2\", \"Topic2\", \"Topic2\", \"Topic2\", \"Topic2\", \"Topic2\", \"Topic2\", \"Topic2\", \"Topic2\", \"Topic3\", \"Topic3\", \"Topic3\", \"Topic3\", \"Topic3\", \"Topic3\", \"Topic3\", \"Topic3\", \"Topic3\", \"Topic3\", \"Topic3\", \"Topic3\", \"Topic3\", \"Topic3\", \"Topic3\", \"Topic3\", \"Topic3\", \"Topic3\", \"Topic3\", \"Topic3\", \"Topic3\", \"Topic3\", \"Topic3\", \"Topic3\", \"Topic3\", \"Topic3\", \"Topic3\", \"Topic3\", \"Topic3\", \"Topic3\", \"Topic3\", \"Topic3\", \"Topic3\", \"Topic3\", \"Topic3\", \"Topic3\", \"Topic3\", \"Topic3\", \"Topic3\", \"Topic3\", \"Topic3\", \"Topic3\", \"Topic4\", \"Topic4\", \"Topic4\", \"Topic4\", \"Topic4\", \"Topic4\", \"Topic4\", \"Topic4\", \"Topic4\", \"Topic4\", \"Topic4\", \"Topic4\", \"Topic4\", \"Topic4\", \"Topic4\", \"Topic4\", \"Topic4\", \"Topic4\", \"Topic4\", \"Topic4\", \"Topic4\", \"Topic4\", \"Topic4\", \"Topic4\", \"Topic4\", \"Topic4\", \"Topic4\", \"Topic4\", \"Topic4\", \"Topic4\", \"Topic4\", \"Topic4\", \"Topic4\", \"Topic4\", \"Topic4\", \"Topic4\", \"Topic4\", \"Topic4\", \"Topic4\", \"Topic4\", \"Topic4\", \"Topic4\", \"Topic4\", \"Topic4\", \"Topic4\", \"Topic4\", \"Topic4\", \"Topic4\", \"Topic5\", \"Topic5\", \"Topic5\", \"Topic5\", \"Topic5\", \"Topic5\", \"Topic5\", \"Topic5\", \"Topic5\", \"Topic5\", \"Topic5\", \"Topic5\", \"Topic5\", \"Topic5\", \"Topic5\", \"Topic5\", \"Topic5\", \"Topic5\", \"Topic5\", \"Topic5\", \"Topic5\", \"Topic5\", \"Topic5\", \"Topic5\", \"Topic5\", \"Topic5\", \"Topic5\", \"Topic5\", \"Topic5\", \"Topic5\", \"Topic5\", \"Topic5\", \"Topic5\", \"Topic5\", \"Topic5\", \"Topic5\", \"Topic5\", \"Topic5\", \"Topic5\", \"Topic5\", \"Topic5\", \"Topic5\", \"Topic6\", \"Topic6\", \"Topic6\", \"Topic6\", \"Topic6\", \"Topic6\", \"Topic6\", \"Topic6\", \"Topic6\", \"Topic6\", \"Topic6\", \"Topic6\", \"Topic6\", \"Topic6\", \"Topic6\", \"Topic6\", \"Topic6\", \"Topic6\", \"Topic6\", \"Topic6\", \"Topic6\", \"Topic6\", \"Topic6\", \"Topic6\", \"Topic6\", \"Topic6\", \"Topic6\", \"Topic6\", \"Topic6\", \"Topic6\", \"Topic6\", \"Topic6\", \"Topic6\", \"Topic6\", \"Topic6\", \"Topic6\", \"Topic6\", \"Topic6\", \"Topic6\", \"Topic6\", \"Topic6\", \"Topic6\", \"Topic6\", \"Topic6\", \"Topic6\", \"Topic6\"], \"Freq\": [86847.0, 87808.0, 73759.0, 67306.0, 58917.0, 91023.0, 87953.0, 44812.0, 42666.0, 37057.0, 43392.0, 66221.0, 30176.0, 68351.0, 29274.0, 33386.0, 32576.0, 30766.0, 26994.0, 24854.0, 29761.0, 41476.0, 25258.0, 151817.0, 25188.0, 24393.0, 24712.0, 27312.0, 68365.0, 22180.0, 87807.984375, 33386.046875, 30766.6640625, 32576.462890625, 29761.7734375, 27312.857421875, 22127.36328125, 21854.833984375, 21209.517578125, 19807.59765625, 19817.818359375, 18575.625, 16850.3515625, 16336.0234375, 13680.1826171875, 12110.12890625, 11873.880859375, 11505.59375, 10869.609375, 10359.8369140625, 9847.494140625, 9284.0263671875, 8555.5693359375, 8400.2763671875, 7697.0068359375, 7542.4853515625, 7482.40966796875, 7433.28125, 6992.626953125, 6882.48828125, 32240.978515625, 21264.900390625, 19595.171875, 22880.48828125, 19031.76171875, 10710.490234375, 35649.82421875, 12830.6484375, 13927.08203125, 21225.5546875, 12101.6533203125, 15371.37890625, 13355.06640625, 42666.14453125, 25188.609375, 25258.025390625, 17492.16796875, 17147.353515625, 17181.517578125, 16917.763671875, 15294.2734375, 15200.494140625, 14247.7158203125, 13757.29296875, 10550.01171875, 9867.677734375, 9760.845703125, 9065.171875, 8953.521484375, 8796.494140625, 8421.337890625, 8402.6162109375, 7693.91943359375, 7211.91162109375, 7208.28076171875, 7084.70849609375, 7059.16943359375, 6885.1123046875, 6404.2568359375, 6183.75048828125, 5816.86474609375, 5644.23486328125, 5414.310546875, 5435.51904296875, 15755.322265625, 33454.86328125, 8381.5361328125, 9860.5048828125, 10910.8935546875, 9103.064453125, 9948.1181640625, 10070.857421875, 8279.6943359375, 9467.4521484375, 67305.8828125, 44812.1796875, 24712.3515625, 19660.58203125, 14154.474609375, 13595.7734375, 12864.89453125, 12627.0634765625, 12032.625, 10584.8115234375, 9910.1826171875, 9282.5068359375, 9140.4521484375, 8030.18115234375, 7597.4892578125, 7420.44873046875, 7292.603515625, 6836.953125, 6672.13720703125, 6481.68017578125, 5858.935546875, 5702.1923828125, 5604.38916015625, 5381.97705078125, 5240.18994140625, 5155.51416015625, 4793.22265625, 4460.09130859375, 4304.87158203125, 4268.56689453125, 57568.55859375, 52303.17578125, 39244.83203125, 13679.1953125, 30894.7578125, 40242.05078125, 10436.0908203125, 7801.58056640625, 15925.8017578125, 10566.609375, 8967.4248046875, 9235.5751953125, 58917.15234375, 30176.201171875, 26994.216796875, 24393.705078125, 22179.94921875, 16043.5380859375, 12345.6572265625, 8645.4580078125, 8268.423828125, 6643.5576171875, 6025.92529296875, 5528.95849609375, 5457.95458984375, 5413.220703125, 5294.53857421875, 5111.1484375, 4987.18310546875, 4121.51953125, 4030.782958984375, 3623.01611328125, 3552.363037109375, 3509.146728515625, 3327.408203125, 3312.49658203125, 3266.1923828125, 3231.4365234375, 3189.303466796875, 3049.007568359375, 3027.042724609375, 3009.668212890625, 34493.91796875, 22424.220703125, 20332.09375, 20696.986328125, 9731.9130859375, 35294.9921875, 12051.58203125, 7200.12255859375, 11227.583984375, 6244.0732421875, 6140.20263671875, 12273.0927734375, 6999.16748046875, 12750.6044921875, 15334.951171875, 7046.59033203125, 5895.12548828125, 6086.8701171875, 86847.046875, 73758.859375, 29274.240234375, 17901.365234375, 13252.1796875, 12872.0322265625, 12536.779296875, 12280.474609375, 11923.966796875, 11241.544921875, 10630.720703125, 9963.16015625, 8413.943359375, 7468.658203125, 7160.5498046875, 7133.296875, 6661.83935546875, 6345.46826171875, 6106.798828125, 6093.4970703125, 5566.36328125, 5470.1513671875, 5192.15283203125, 5049.76904296875, 4975.92578125, 4850.87060546875, 4742.041015625, 4632.8681640625, 4502.3984375, 4450.021484375, 16629.890625, 32749.791015625, 44778.43359375, 7859.5078125, 6307.51220703125, 14603.4697265625, 13735.294921875, 10285.3935546875, 8323.0654296875, 7011.314453125, 8504.296875, 6208.52734375, 37056.9296875, 24854.193359375, 20826.2421875, 13279.1513671875, 11605.75390625, 10954.1123046875, 10647.6005859375, 9542.36328125, 8883.9013671875, 8661.7451171875, 7679.6572265625, 7431.638671875, 7100.953125, 6949.56591796875, 6499.04443359375, 5309.80810546875, 5279.40234375, 5216.34228515625, 5049.06298828125, 4937.4091796875, 4871.27587890625, 4634.236328125, 4525.69482421875, 4155.30126953125, 4014.599365234375, 3961.79931640625, 3731.553466796875, 3710.462158203125, 3566.802490234375, 3468.0, 11836.951171875, 14227.017578125, 8617.9609375, 10693.3896484375, 9269.0263671875, 11399.546875, 30232.6796875, 12168.5927734375, 16322.412109375, 16737.732421875, 9860.4345703125, 11744.724609375, 7681.66162109375, 5685.62451171875, 5728.60888671875, 5802.9404296875], \"Term\": [\"host_N\", \"station_N\", \"stay_N\", \"clean_J\", \"time_N\", \"room_N\", \"location_N\", \"comfortable_J\", \"everything_N\", \"recommend_V\", \"go_V\", \"stay_V\", \"come_V\", \"apartment_N\", \"kind_N\", \"restaurant_N\", \"easy_J\", \"walk_V\", \"next_J\", \"home_N\", \"subway_N\", \"convenient_N\", \"provide_V\", \"place_N\", \"need_V\", \"back_R\", \"clean_N\", \"minute_N\", \"really_R\", \"thank_N\", \"station_N\", \"restaurant_N\", \"walk_V\", \"easy_J\", \"subway_N\", \"minute_N\", \"store_N\", \"close_J\", \"bus_N\", \"close_R\", \"away_R\", \"walk_N\", \"airport_N\", \"convenience_N\", \"subway_J\", \"shop_N\", \"street_N\", \"min_N\", \"distance_N\", \"subway_R\", \"line_N\", \"train_N\", \"nearby_J\", \"right_J\", \"shop_V\", \"easily_R\", \"access_N\", \"right_R\", \"exit_N\", \"transportation_N\", \"convenient_N\", \"locate_V\", \"many_J\", \"area_N\", \"lot_N\", \"convenient_J\", \"location_N\", \"food_N\", \"take_V\", \"place_N\", \"find_V\", \"apartment_N\", \"get_V\", \"everything_N\", \"need_V\", \"provide_V\", \"thanks_N\", \"bed_N\", \"big_J\", \"question_N\", \"always_R\", \"bathroom_N\", \"need_N\", \"help_N\", \"problem_N\", \"quickly_R\", \"wifi_N\", \"kitchen_N\", \"machine_N\", \"luggage_N\", \"towel_N\", \"quick_J\", \"air_N\", \"wash_V\", \"bed_V\", \"available_J\", \"respond_V\", \"information_N\", \"ask_V\", \"accommodate_V\", \"egg_N\", \"work_V\", \"tv_N\", \"message_N\", \"give_V\", \"room_N\", \"water_N\", \"thing_N\", \"help_V\", \"floor_N\", \"small_J\", \"lot_N\", \"use_V\", \"get_V\", \"clean_J\", \"comfortable_J\", \"clean_N\", \"quiet_J\", \"view_N\", \"accommodation_N\", \"perfect_J\", \"cozy_N\", \"spacious_J\", \"facility_N\", \"nearby_R\", \"neighborhood_N\", \"amaze_V\", \"fantastic_J\", \"beautiful_J\", \"tidy_N\", \"studio_N\", \"safe_J\", \"excellent_J\", \"recommended_J\", \"neat_N\", \"central_J\", \"eat_V\", \"accessible_J\", \"bar_N\", \"response_N\", \"modern_J\", \"group_N\", \"mart_N\", \"find_N\", \"room_N\", \"location_N\", \"apartment_N\", \"people_N\", \"house_N\", \"place_N\", \"small_J\", \"space_N\", \"really_R\", \"night_N\", \"area_N\", \"convenient_N\", \"time_N\", \"come_V\", \"next_J\", \"back_R\", \"thank_N\", \"visit_N\", \"first_J\", \"perfect_N\", \"stop_N\", \"i'm_N\", \"stop_V\", \"chance_N\", \"second_J\", \"door_N\", \"conveniently_R\", \"book_N\", \"center_N\", \"high_J\", \"attraction_N\", \"soon_R\", \"young_J\", \"open_J\", \"tell_V\", \"there's_J\", \"entrance_N\", \"send_V\", \"i'll_N\", \"choose_V\", \"spend_V\", \"map_N\", \"go_V\", \"day_N\", \"definitely_R\", \"night_N\", \"landlord_N\", \"stay_V\", \"trip_N\", \"stay_J\", \"want_V\", \"first_R\", \"like_V\", \"get_V\", \"use_N\", \"house_N\", \"place_N\", \"much_J\", \"way_N\", \"friend_N\", \"host_N\", \"stay_N\", \"kind_N\", \"best_J\", \"overall_J\", \"enjoy_V\", \"friendly_R\", \"picture_N\", \"friendly_J\", \"check_N\", \"helpful_N\", \"arrive_V\", \"exactly_R\", \"clean_V\", \"meet_V\", \"ever_R\", \"show_V\", \"responsive_J\", \"welcome_V\", \"pleasant_J\", \"week_N\", \"expect_V\", \"photo_N\", \"early_J\", \"english_J\", \"host_V\", \"i've_N\", \"reservation_N\", \"arrival_N\", \"bad_J\", \"helpful_J\", \"really_R\", \"place_N\", \"check_V\", \"communication_N\", \"stay_V\", \"apartment_N\", \"make_V\", \"day_N\", \"experience_N\", \"house_N\", \"look_V\", \"recommend_V\", \"home_N\", \"highly_R\", \"korean_J\", \"price_N\", \"wonderful_J\", \"warm_J\", \"breakfast_N\", \"feel_N\", \"recommend_J\", \"feel_V\", \"felt_V\", \"anyone_N\", \"hot_J\", \"visit_V\", \"recommend_N\", \"rest_N\", \"care_N\", \"staff_N\", \"hospitality_N\", \"traditional_J\", \"delicious_J\", \"value_N\", \"size_N\", \"money_N\", \"everyone_N\", \"cold_J\", \"fun_N\", \"sleep_V\", \"eat_N\", \"family_N\", \"experience_N\", \"think_V\", \"friend_N\", \"much_J\", \"take_V\", \"place_N\", \"make_V\", \"stay_V\", \"house_N\", \"definitely_R\", \"really_R\", \"people_N\", \"travel_V\", \"live_V\", \"guest_N\"], \"Total\": [86847.0, 87808.0, 73759.0, 67306.0, 58917.0, 91023.0, 87953.0, 44812.0, 42666.0, 37057.0, 43392.0, 66221.0, 30176.0, 68351.0, 29274.0, 33386.0, 32576.0, 30766.0, 26994.0, 24854.0, 29761.0, 41476.0, 25258.0, 151817.0, 25188.0, 24393.0, 24712.0, 27312.0, 68365.0, 22180.0, 87808.109375, 33386.1796875, 30766.79296875, 32576.59375, 29761.90234375, 27312.986328125, 22127.4921875, 21854.962890625, 21209.646484375, 19807.7265625, 19817.947265625, 18575.75390625, 16850.478515625, 16336.1533203125, 13680.3095703125, 12110.255859375, 11874.0078125, 11505.720703125, 10869.736328125, 10359.9638671875, 9847.62109375, 9284.15234375, 8555.6962890625, 8400.4033203125, 7697.13330078125, 7542.61181640625, 7482.5361328125, 7433.40771484375, 6992.75341796875, 6882.61474609375, 41476.83203125, 26908.63671875, 24979.498046875, 31848.18359375, 29102.890625, 12774.0478515625, 87953.296875, 17428.255859375, 25326.8984375, 151817.78125, 21010.216796875, 68351.9921875, 38257.296875, 42666.27734375, 25188.73828125, 25258.154296875, 17492.294921875, 17147.48046875, 17181.64453125, 16917.890625, 15294.400390625, 15200.623046875, 14247.8427734375, 13757.419921875, 10550.138671875, 9867.8046875, 9760.9716796875, 9065.298828125, 8953.6474609375, 8796.62109375, 8421.46484375, 8402.7431640625, 7694.04541015625, 7212.037109375, 7208.4072265625, 7084.83447265625, 7059.294921875, 6885.23779296875, 6404.3828125, 6183.8759765625, 5816.98876953125, 5644.35888671875, 5414.4345703125, 5435.64453125, 18815.77734375, 91023.71875, 10856.6630859375, 14706.1884765625, 19514.583984375, 14950.7802734375, 20384.474609375, 29102.890625, 13703.1015625, 38257.296875, 67306.015625, 44812.3125, 24712.482421875, 19660.712890625, 14154.6025390625, 13595.90234375, 12865.021484375, 12627.1904296875, 12032.751953125, 10584.9384765625, 9910.3095703125, 9282.6337890625, 9140.5791015625, 8030.306640625, 7597.61572265625, 7420.57470703125, 7292.72900390625, 6837.07861328125, 6672.26318359375, 6481.8056640625, 5859.06201171875, 5702.31689453125, 5604.51318359375, 5382.1015625, 5240.314453125, 5155.64013671875, 4793.34619140625, 4460.21533203125, 4304.99560546875, 4268.69091796875, 91023.71875, 87953.296875, 68351.9921875, 21361.119140625, 78817.15625, 151817.78125, 20384.474609375, 12135.40234375, 68365.7421875, 31263.869140625, 31848.18359375, 41476.83203125, 58917.28125, 30176.33203125, 26994.34765625, 24393.8359375, 22180.080078125, 16043.6669921875, 12345.78515625, 8645.5849609375, 8268.548828125, 6643.68408203125, 6026.05029296875, 5529.083984375, 5458.080078125, 5413.34619140625, 5294.6640625, 5111.27392578125, 4987.30712890625, 4121.6435546875, 4030.906982421875, 3623.140869140625, 3552.48681640625, 3509.270751953125, 3327.531982421875, 3312.6201171875, 3266.31591796875, 3231.56005859375, 3189.427490234375, 3049.130859375, 3027.166015625, 3009.79150390625, 43392.609375, 30747.564453125, 30192.796875, 31263.869140625, 12938.80859375, 66221.3515625, 17530.109375, 9124.396484375, 16406.53125, 8497.3681640625, 8317.8310546875, 38257.296875, 13427.232421875, 78817.15625, 151817.78125, 16315.876953125, 10569.734375, 16780.51953125, 86847.1875, 73759.0, 29274.373046875, 17901.49609375, 13252.30859375, 12872.1611328125, 12536.908203125, 12280.6044921875, 11924.0947265625, 11241.673828125, 10630.8486328125, 9963.2880859375, 8414.0712890625, 7468.78564453125, 7160.6767578125, 7133.423828125, 6661.96630859375, 6345.59521484375, 6106.92529296875, 6093.6240234375, 5566.4892578125, 5470.2783203125, 5192.27978515625, 5049.8955078125, 4976.05224609375, 4850.99658203125, 4742.16650390625, 4632.99462890625, 4502.52392578125, 4450.14697265625, 21500.11328125, 68365.7421875, 151817.78125, 11491.0009765625, 8076.5205078125, 66221.3515625, 68351.9921875, 34687.13671875, 30747.564453125, 21238.59765625, 78817.15625, 12391.9365234375, 37057.05859375, 24854.322265625, 20826.369140625, 13279.27734375, 11605.880859375, 10954.23828125, 10647.7265625, 9542.4892578125, 8884.02734375, 8661.8701171875, 7679.7822265625, 7431.763671875, 7101.0771484375, 6949.69091796875, 6499.1689453125, 5309.9326171875, 5279.52685546875, 5216.466796875, 5049.18603515625, 4937.533203125, 4871.39892578125, 4634.3603515625, 4525.818359375, 4155.423828125, 4014.72216796875, 3961.92236328125, 3731.67626953125, 3710.585205078125, 3566.92578125, 3468.122802734375, 16008.423828125, 21238.59765625, 11324.3955078125, 16780.51953125, 16315.876953125, 25326.8984375, 151817.78125, 34687.13671875, 66221.3515625, 78817.15625, 30192.796875, 68365.7421875, 21361.119140625, 7840.62060546875, 8458.330078125, 11582.1552734375], \"loglift\": [30.0, 29.0, 28.0, 27.0, 26.0, 25.0, 24.0, 23.0, 22.0, 21.0, 20.0, 19.0, 18.0, 17.0, 16.0, 15.0, 14.0, 13.0, 12.0, 11.0, 10.0, 9.0, 8.0, 7.0, 6.0, 5.0, 4.0, 3.0, 2.0, 1.0, 1.606600046157837, 1.606600046157837, 1.606600046157837, 1.606600046157837, 1.606600046157837, 1.606600046157837, 1.606600046157837, 1.606600046157837, 1.606600046157837, 1.606600046157837, 1.606600046157837, 1.606600046157837, 1.606600046157837, 1.606600046157837, 1.606600046157837, 1.606600046157837, 1.606600046157837, 1.606600046157837, 1.606600046157837, 1.606600046157837, 1.606600046157837, 1.606600046157837, 1.606600046157837, 1.606600046157837, 1.606600046157837, 1.606600046157837, 1.606600046157837, 1.606600046157837, 1.606600046157837, 1.606600046157837, 1.354699969291687, 1.3711999654769897, 1.363800048828125, 1.2759000062942505, 1.1819000244140625, 1.430400013923645, 0.703499972820282, 1.3003000020980835, 1.0085999965667725, -0.36090001463890076, 1.054900050163269, 0.1143999993801117, 0.554099977016449, 1.7796000242233276, 1.7796000242233276, 1.7796000242233276, 1.7796000242233276, 1.7796000242233276, 1.7796000242233276, 1.7796000242233276, 1.7796000242233276, 1.7796000242233276, 1.7796000242233276, 1.7796000242233276, 1.7796000242233276, 1.7796000242233276, 1.7796000242233276, 1.7796000242233276, 1.7796000242233276, 1.7796000242233276, 1.7796000242233276, 1.7796000242233276, 1.7796000242233276, 1.7796000242233276, 1.7796000242233276, 1.7796000242233276, 1.7796000242233276, 1.7796000242233276, 1.7796000242233276, 1.7796000242233276, 1.7796000242233276, 1.7796000242233276, 1.7796000242233276, 1.7796000242233276, 1.6021000146865845, 0.7786999940872192, 1.520799994468689, 1.3798999786376953, 1.198199987411499, 1.283400058746338, 1.0621999502182007, 0.7184000015258789, 1.2757999897003174, 0.3831000030040741, 1.7839000225067139, 1.7839000225067139, 1.7839000225067139, 1.7839000225067139, 1.7839000225067139, 1.7839000225067139, 1.7839000225067139, 1.7839000225067139, 1.7839000225067139, 1.7839000225067139, 1.7839000225067139, 1.7839000225067139, 1.7839000225067139, 1.7839000225067139, 1.7839000225067139, 1.7839000225067139, 1.7839000225067139, 1.7839000225067139, 1.7839000225067139, 1.7839000225067139, 1.7839000225067139, 1.7839000225067139, 1.7839000225067139, 1.7839000225067139, 1.7839000225067139, 1.7839000225067139, 1.7839000225067139, 1.7839000225067139, 1.7839000225067139, 1.7839000225067139, 1.3257999420166016, 1.26419997215271, 1.229099988937378, 1.3381999731063843, 0.8474000096321106, 0.4560999870300293, 1.114400029182434, 1.3421000242233276, 0.3269999921321869, 0.6991999745368958, 0.5164999961853027, 0.2818000018596649, 1.8285000324249268, 1.8285000324249268, 1.8285000324249268, 1.8285000324249268, 1.8285000324249268, 1.8285000324249268, 1.8284000158309937, 1.8284000158309937, 1.8284000158309937, 1.8284000158309937, 1.8284000158309937, 1.8284000158309937, 1.8284000158309937, 1.8284000158309937, 1.8284000158309937, 1.8284000158309937, 1.8284000158309937, 1.8284000158309937, 1.8284000158309937, 1.8284000158309937, 1.8284000158309937, 1.8284000158309937, 1.8284000158309937, 1.8284000158309937, 1.8284000158309937, 1.8284000158309937, 1.8284000158309937, 1.8284000158309937, 1.8284000158309937, 1.8284000158309937, 1.5989999771118164, 1.5127999782562256, 1.4330999851226807, 1.4160000085830688, 1.5435999631881714, 1.1992000341415405, 1.4536999464035034, 1.591599941253662, 1.4492000341415405, 1.520300030708313, 1.524899959564209, 0.6915000081062317, 1.1770000457763672, 0.006899999920278788, -0.4641000032424927, 0.9889000058174133, 1.2446000576019287, 0.8144000172615051, 1.847100019454956, 1.847100019454956, 1.847100019454956, 1.847100019454956, 1.847100019454956, 1.847100019454956, 1.847100019454956, 1.847100019454956, 1.847100019454956, 1.847100019454956, 1.847100019454956, 1.847100019454956, 1.847100019454956, 1.847100019454956, 1.847100019454956, 1.847100019454956, 1.847100019454956, 1.847100019454956, 1.847100019454956, 1.847100019454956, 1.847100019454956, 1.847100019454956, 1.847100019454956, 1.847100019454956, 1.847100019454956, 1.847100019454956, 1.847100019454956, 1.847100019454956, 1.847100019454956, 1.847100019454956, 1.5902999639511108, 1.111199975013733, 0.6262000203132629, 1.4673000574111938, 1.5999000072479248, 0.3353999853134155, 0.24240000545978546, 0.6315000057220459, 0.5403000116348267, 0.7387999892234802, -0.37940001487731934, 1.156000018119812, 1.9351999759674072, 1.9351999759674072, 1.9351999759674072, 1.9351999759674072, 1.9351999759674072, 1.9351999759674072, 1.9351999759674072, 1.9351999759674072, 1.9351999759674072, 1.9351999759674072, 1.9351999759674072, 1.9351999759674072, 1.9351999759674072, 1.9351999759674072, 1.9351999759674072, 1.9351999759674072, 1.9351999759674072, 1.9351999759674072, 1.9351999759674072, 1.9351999759674072, 1.9351999759674072, 1.9351999759674072, 1.9351999759674072, 1.9351999759674072, 1.9351999759674072, 1.9351999759674072, 1.9351999759674072, 1.9351999759674072, 1.9351999759674072, 1.9351999759674072, 1.6332999467849731, 1.534500002861023, 1.6620999574661255, 1.4845999479293823, 1.3697999715805054, 1.1368999481201172, 0.3215000033378601, 0.8877000212669373, 0.5347999930381775, 0.38580000400543213, 0.8162000179290771, 0.1738000065088272, 0.9125000238418579, 1.613800048828125, 1.5455000400543213, 1.2440999746322632], \"logprob\": [30.0, 29.0, 28.0, 27.0, 26.0, 25.0, 24.0, 23.0, 22.0, 21.0, 20.0, 19.0, 18.0, 17.0, 16.0, 15.0, 14.0, 13.0, 12.0, 11.0, 10.0, 9.0, 8.0, 7.0, 6.0, 5.0, 4.0, 3.0, 2.0, 1.0, -2.7032999992370605, -3.670300006866455, -3.752000093460083, -3.6947999000549316, -3.7852001190185547, -3.8710999488830566, -4.081600189208984, -4.093999862670898, -4.124000072479248, -4.192299842834473, -4.191800117492676, -4.2565999031066895, -4.354000091552734, -4.385000228881836, -4.5625, -4.6844000816345215, -4.704100131988525, -4.735599994659424, -4.792399883270264, -4.8404998779296875, -4.891200065612793, -4.950099945068359, -5.031799793243408, -5.050099849700928, -5.137599945068359, -5.157899856567383, -5.165900230407715, -5.172399997711182, -5.23360013961792, -5.2494001388549805, -3.705199956893921, -4.121399879455566, -4.203100204467773, -4.048099994659424, -4.2322998046875, -4.807199954986572, -3.6047000885009766, -4.6265997886657715, -4.544600009918213, -4.123199939727783, -4.685100078582764, -4.445899963378906, -4.58650016784668, -3.252000093460083, -3.7790000438690186, -3.7762999534606934, -4.143700122833252, -4.163599967956543, -4.161600112915039, -4.17710018157959, -4.277900218963623, -4.28410005569458, -4.348800182342529, -4.383800029754639, -4.6493000984191895, -4.71619987487793, -4.7270002365112305, -4.801000118255615, -4.813399791717529, -4.831099987030029, -4.874599933624268, -4.8769001960754395, -4.965000152587891, -5.029699802398682, -5.030200004577637, -5.047500133514404, -5.05109977722168, -5.076099872589111, -5.148499965667725, -5.183499813079834, -5.244699954986572, -5.274799823760986, -5.316400051116943, -5.3125, -4.248199939727783, -3.4951999187469482, -4.87939977645874, -4.716899871826172, -4.615699768066406, -4.796800136566162, -4.708000183105469, -4.695799827575684, -4.891600131988525, -4.757599830627441, -2.791800022125244, -3.1986000537872314, -3.793800115585327, -4.022500038146973, -4.351099967956543, -4.391300201416016, -4.446599960327148, -4.465199947357178, -4.513500213623047, -4.64169979095459, -4.707499980926514, -4.7729997634887695, -4.788400173187256, -4.917900085449219, -4.973299980163574, -4.996799945831299, -5.014200210571289, -5.078700065612793, -5.103099822998047, -5.1321001052856445, -5.233099937438965, -5.260200023651123, -5.277500152587891, -5.317999839782715, -5.344699859619141, -5.361000061035156, -5.433899879455566, -5.505899906158447, -5.541299819946289, -5.549799919128418, -2.9481000900268555, -3.0439999103546143, -3.3313000202178955, -4.385200023651123, -3.570499897003174, -3.3062000274658203, -4.655799865722656, -4.946800231933594, -4.233099937438965, -4.643400192260742, -4.807499885559082, -4.7779998779296875, -2.8803999423980713, -3.549499988555908, -3.660900115966797, -3.762200117111206, -3.8573999404907227, -4.18120002746582, -4.44320011138916, -4.799499988555908, -4.844099998474121, -5.062900066375732, -5.1605000495910645, -5.246500015258789, -5.259500026702881, -5.2677001953125, -5.289899826049805, -5.325099945068359, -5.349699974060059, -5.540299892425537, -5.562600135803223, -5.6691999435424805, -5.688899993896484, -5.701200008392334, -5.754300117492676, -5.758800029754639, -5.772900104522705, -5.783599853515625, -5.7967000007629395, -5.841700077056885, -5.848999977111816, -5.854700088500977, -3.415800094604492, -3.846400022506714, -3.9442999362945557, -3.9265999794006348, -4.681099891662598, -3.3928000926971436, -4.467299938201904, -4.982399940490723, -4.5381999015808105, -5.124899864196777, -5.14169979095459, -4.449100017547607, -5.010799884796143, -4.410999774932861, -4.226399898529053, -5.004000186920166, -5.182400226593018, -5.150400161743164, -2.4737000465393066, -2.6370999813079834, -3.561199903488159, -4.052999973297119, -4.353700160980225, -4.382800102233887, -4.409200191497803, -4.429900169372559, -4.4593000411987305, -4.5183000564575195, -4.574100017547607, -4.638999938964844, -4.808000087738037, -4.927199840545654, -4.969299793243408, -4.973100185394287, -5.041500091552734, -5.090099811553955, -5.128499984741211, -5.1305999755859375, -5.221099853515625, -5.23859977722168, -5.2906999588012695, -5.31850004196167, -5.3333001136779785, -5.358699798583984, -5.381400108337402, -5.404699802398682, -5.433300018310547, -5.445000171661377, -4.126699924468994, -3.4489998817443848, -3.1361000537872314, -4.876100063323975, -5.096099853515625, -4.2565999031066895, -4.31790018081665, -4.607100009918213, -4.81879997253418, -4.990300178527832, -4.797299861907959, -5.1118998527526855, -3.237299919128418, -3.636699914932251, -3.8136000633239746, -4.263599872589111, -4.3983001708984375, -4.456099987030029, -4.484399795532227, -4.593999862670898, -4.665500164031982, -4.690899848937988, -4.811200141906738, -4.843999862670898, -4.889500141143799, -4.911099910736084, -4.978099822998047, -5.180200099945068, -5.185999870300293, -5.197999954223633, -5.230599880218506, -5.252900123596191, -5.26639986038208, -5.316299915313721, -5.340000152587891, -5.4253997802734375, -5.459799766540527, -5.473100185394287, -5.532899856567383, -5.538599967956543, -5.578100204467773, -5.606200218200684, -4.378499984741211, -4.1946001052856445, -4.695899963378906, -4.480100154876709, -4.6230998039245605, -4.416200160980225, -3.4409000873565674, -4.350900173187256, -4.057199954986572, -4.032100200653076, -4.561200141906738, -4.38640022277832, -4.8109002113342285, -5.111800193786621, -5.104300022125244, -5.091400146484375]}, \"token.table\": {\"Topic\": [1, 3, 2, 3, 2, 1, 2, 3, 6, 1, 3, 5, 1, 3, 5, 5, 2, 4, 2, 1, 4, 5, 3, 2, 3, 2, 2, 5, 2, 4, 6, 1, 6, 4, 3, 4, 5, 2, 5, 4, 3, 3, 5, 1, 1, 6, 4, 3, 2, 5, 1, 1, 3, 1, 3, 4, 3, 4, 5, 4, 6, 6, 1, 4, 5, 1, 1, 6, 3, 2, 5, 5, 4, 5, 6, 2, 5, 3, 1, 5, 5, 6, 3, 5, 6, 3, 6, 6, 6, 3, 1, 2, 4, 4, 4, 5, 1, 2, 4, 6, 1, 6, 4, 6, 5, 5, 6, 1, 2, 4, 6, 2, 6, 1, 4, 3, 2, 5, 6, 2, 2, 4, 5, 2, 5, 5, 4, 6, 6, 6, 5, 5, 6, 1, 2, 3, 4, 5, 6, 4, 4, 5, 2, 5, 2, 6, 2, 4, 4, 6, 1, 3, 6, 1, 3, 1, 3, 4, 5, 6, 1, 2, 2, 2, 1, 2, 3, 4, 5, 6, 1, 3, 4, 3, 5, 2, 1, 1, 3, 6, 4, 6, 1, 3, 3, 2, 2, 3, 4, 3, 4, 4, 5, 3, 6, 3, 4, 5, 5, 1, 2, 3, 4, 5, 6, 5, 6, 2, 2, 2, 2, 2, 3, 1, 2, 3, 4, 5, 6, 6, 6, 6, 3, 5, 2, 3, 5, 6, 1, 1, 1, 2, 3, 3, 4, 4, 1, 1, 5, 6, 6, 2, 3, 4, 2, 3, 3, 4, 6, 1, 4, 6, 5, 4, 5, 6, 4, 4, 1, 1, 3, 1, 1, 1, 1, 6, 4, 4, 2, 4, 2, 3, 5, 2, 6, 3, 4, 2, 6, 1, 1, 1, 6, 4, 5, 2, 2, 4, 2, 4, 6, 3, 4, 6, 1, 1, 4, 6, 6, 2, 2, 6, 1, 4, 5, 5, 5, 2, 6, 2, 4], \"Freq\": [0.99992835521698, 0.9999811053276062, 1.0000200271606445, 1.000007152557373, 0.9999940991401672, 0.9999716281890869, 0.9999738335609436, 0.9999366402626038, 0.9999891519546509, 0.22488005459308624, 0.5741602778434753, 0.20094512403011322, 0.7184083461761475, 0.28155452013015747, 0.9998836517333984, 0.9999710917472839, 0.9999402165412903, 1.0000231266021729, 1.000023365020752, 1.0000026226043701, 1.0000066757202148, 0.9999669790267944, 0.9999399781227112, 0.9999589920043945, 0.9999189376831055, 0.9999719858169556, 0.9999434947967529, 0.9999722838401794, 1.0000207424163818, 0.9999464154243469, 0.9999487400054932, 1.000016689300537, 0.9999105334281921, 0.999938428401947, 0.9999444484710693, 0.9999848008155823, 1.0000289678573608, 0.31598639488220215, 0.6840135455131531, 0.9999570846557617, 0.9999997615814209, 0.9999804496765137, 1.0000287294387817, 1.0000016689300537, 1.000013828277588, 1.000086784362793, 0.9999889731407166, 0.9999930262565613, 0.21902996301651, 0.7810294032096863, 0.9999906420707703, 0.8384186625480652, 0.16149932146072388, 0.7773255109786987, 0.2226785272359848, 1.000063419342041, 0.9999849200248718, 0.7292935252189636, 0.27068811655044556, 0.673405647277832, 0.32656794786453247, 0.9999222159385681, 1.0000241994857788, 0.999936044216156, 1.0000207424163818, 0.9999188780784607, 0.9999817609786987, 0.9999645948410034, 0.999908447265625, 1.0000019073486328, 0.9999895095825195, 0.9999874830245972, 0.9999032616615295, 0.9999405741691589, 1.0000195503234863, 0.9999935030937195, 0.9999915361404419, 0.9999605417251587, 1.000035285949707, 0.9999490976333618, 0.3301065266132355, 0.6698653101921082, 1.000005841255188, 0.260550320148468, 0.7394232153892517, 0.999961793422699, 0.9999969005584717, 1.000028371810913, 1.00003182888031, 1.0000723600387573, 0.5760054588317871, 0.1729634702205658, 0.25102072954177856, 1.0000174045562744, 0.734815776348114, 0.26514092087745667, 0.09865705668926239, 0.6088645458221436, 0.1696232557296753, 0.12280295789241791, 0.736218273639679, 0.2637670636177063, 0.36274203658103943, 0.6372269988059998, 0.9999920725822449, 1.0000072717666626, 0.9998422861099243, 0.34908372163772583, 0.24745605885982513, 0.3208015561103821, 0.08262476325035095, 0.8373292088508606, 0.16262947022914886, 0.20505796372890472, 0.7949280142784119, 0.9999517202377319, 0.22638273239135742, 0.2725744843482971, 0.501029372215271, 0.999969482421875, 0.5591202974319458, 0.2668260931968689, 0.1740749329328537, 0.2265104353427887, 0.7734842896461487, 1.0000141859054565, 1.0000864267349243, 0.9999822974205017, 0.999987006187439, 0.999891996383667, 0.9999978542327881, 1.0000007152557373, 1.0000444650650024, 0.12589898705482483, 8.881315443431959e-05, 0.39198318123817444, 0.1617794930934906, 0.10789529234170914, 0.21236492693424225, 0.9998659491539001, 1.0000475645065308, 0.9999648928642273, 0.999965488910675, 0.9999872446060181, 0.9999670386314392, 0.9999791383743286, 0.24785898625850677, 0.7521557807922363, 0.7381731867790222, 0.26172688603401184, 0.9999369382858276, 0.3226405084133148, 0.6773204803466797, 0.7902666926383972, 0.20970961451530457, 0.40532875061035156, 0.5946678519248962, 0.1770506203174591, 0.5010516047477722, 0.321902871131897, 0.6539556384086609, 0.3460480868816376, 0.9999293684959412, 1.0000393390655518, 0.09758660942316055, 0.11603724956512451, 2.8829130314989015e-05, 0.1390428990125656, 0.2965075969696045, 0.35082170367240906, 0.7844433188438416, 0.21553675830364227, 1.000069260597229, 1.000001072883606, 1.0000451803207397, 1.0000654458999634, 1.0000243186950684, 1.0000004768371582, 0.9999277591705322, 1.000069260597229, 0.43191057443618774, 0.568096935749054, 1.0000355243682861, 0.9999687671661377, 0.99998939037323, 1.0000110864639282, 1.000010371208191, 1.0000394582748413, 0.9999871253967285, 0.3379939794540405, 0.6620101928710938, 0.9999228715896606, 0.9999766945838928, 0.6403690576553345, 0.35962533950805664, 0.9999983310699463, 0.9999323487281799, 0.999946117401123, 0.9999507665634155, 0.13981235027313232, 2.6347375751356594e-05, 0.2650677561759949, 0.10100924968719482, 0.29494568705558777, 0.1991400420665741, 0.9998975992202759, 1.0000102519989014, 0.9999868273735046, 0.9999939203262329, 1.0000064373016357, 1.000030517578125, 1.0000197887420654, 1.0000146627426147, 0.11619854718446732, 1.4627208656747825e-05, 0.23295293748378754, 1.4627208656747825e-05, 0.47904109954833984, 0.17179657518863678, 1.0000150203704834, 1.0000126361846924, 0.9999983906745911, 1.0000300407409668, 1.0000011920928955, 0.9999582171440125, 1.0000698566436768, 0.9999061822891235, 0.999900221824646, 0.9999946355819702, 0.999951958656311, 0.9999451637268066, 0.3675415515899658, 0.6324615478515625, 0.9999884963035583, 0.9999853372573853, 0.9998266696929932, 0.9999788999557495, 0.9999826550483704, 1.0000050067901611, 0.9998980164527893, 1.0000208616256714, 0.4880184531211853, 0.5119582414627075, 0.9999611377716064, 0.35713690519332886, 0.6429123282432556, 1.0000206232070923, 0.9999451637268066, 0.9999631643295288, 0.9999987483024597, 0.7890932559967041, 0.21086326241493225, 1.0, 0.5329852104187012, 0.22051799297332764, 0.24647639691829681, 0.9999336004257202, 0.9999916553497314, 0.9999777674674988, 0.9999993443489075, 1.0000371932983398, 0.9999773502349854, 1.0000033378601074, 1.000003457069397, 0.5498896837234497, 0.45011433959007263, 0.9998401403427124, 0.9999963641166687, 0.9999831318855286, 0.9998127818107605, 0.6705340147018433, 0.14014507830142975, 0.1893080621957779, 0.23895315825939178, 0.7610118985176086, 0.9999225735664368, 0.999995231628418, 0.999944806098938, 0.9999181032180786, 0.9999836087226868, 0.9999106526374817, 0.2748506963253021, 0.7251976728439331, 0.6875028610229492, 0.31249091029167175, 0.9999197125434875, 0.47872859239578247, 0.5212541222572327, 0.604242742061615, 0.3957498073577881, 1.0000401735305786, 0.9999574422836304, 1.0000207424163818, 0.9999740123748779, 1.0000132322311401, 1.0000066757202148, 0.6843615770339966, 0.31566697359085083, 1.0000256299972534, 0.9999948740005493, 0.7720604538917542, 0.22797060012817383, 0.26329895853996277, 0.5577245354652405, 0.17890705168247223, 0.9999120831489563, 1.0000122785568237, 1.0000028610229492, 0.999978244304657, 0.9999364018440247, 0.9998629689216614], \"Term\": [\"access_N\", \"accessible_J\", \"accommodate_V\", \"accommodation_N\", \"air_N\", \"airport_N\", \"always_R\", \"amaze_V\", \"anyone_N\", \"apartment_N\", \"apartment_N\", \"apartment_N\", \"area_N\", \"area_N\", \"arrival_N\", \"arrive_V\", \"ask_V\", \"attraction_N\", \"available_J\", \"away_R\", \"back_R\", \"bad_J\", \"bar_N\", \"bathroom_N\", \"beautiful_J\", \"bed_N\", \"bed_V\", \"best_J\", \"big_J\", \"book_N\", \"breakfast_N\", \"bus_N\", \"care_N\", \"center_N\", \"central_J\", \"chance_N\", \"check_N\", \"check_V\", \"check_V\", \"choose_V\", \"clean_J\", \"clean_N\", \"clean_V\", \"close_J\", \"close_R\", \"cold_J\", \"come_V\", \"comfortable_J\", \"communication_N\", \"communication_N\", \"convenience_N\", \"convenient_J\", \"convenient_J\", \"convenient_N\", \"convenient_N\", \"conveniently_R\", \"cozy_N\", \"day_N\", \"day_N\", \"definitely_R\", \"definitely_R\", \"delicious_J\", \"distance_N\", \"door_N\", \"early_J\", \"easily_R\", \"easy_J\", \"eat_N\", \"eat_V\", \"egg_N\", \"english_J\", \"enjoy_V\", \"entrance_N\", \"ever_R\", \"everyone_N\", \"everything_N\", \"exactly_R\", \"excellent_J\", \"exit_N\", \"expect_V\", \"experience_N\", \"experience_N\", \"facility_N\", \"family_N\", \"family_N\", \"fantastic_J\", \"feel_N\", \"feel_V\", \"felt_V\", \"find_N\", \"find_V\", \"find_V\", \"find_V\", \"first_J\", \"first_R\", \"first_R\", \"floor_N\", \"floor_N\", \"floor_N\", \"floor_N\", \"food_N\", \"food_N\", \"friend_N\", \"friend_N\", \"friendly_J\", \"friendly_R\", \"fun_N\", \"get_V\", \"get_V\", \"get_V\", \"get_V\", \"give_V\", \"give_V\", \"go_V\", \"go_V\", \"group_N\", \"guest_N\", \"guest_N\", \"guest_N\", \"help_N\", \"help_V\", \"help_V\", \"help_V\", \"helpful_J\", \"helpful_J\", \"helpful_N\", \"high_J\", \"highly_R\", \"home_N\", \"hospitality_N\", \"host_N\", \"host_V\", \"hot_J\", \"house_N\", \"house_N\", \"house_N\", \"house_N\", \"house_N\", \"house_N\", \"i'll_N\", \"i'm_N\", \"i've_N\", \"information_N\", \"kind_N\", \"kitchen_N\", \"korean_J\", \"landlord_N\", \"landlord_N\", \"like_V\", \"like_V\", \"line_N\", \"live_V\", \"live_V\", \"locate_V\", \"locate_V\", \"location_N\", \"location_N\", \"look_V\", \"look_V\", \"look_V\", \"lot_N\", \"lot_N\", \"luggage_N\", \"machine_N\", \"make_V\", \"make_V\", \"make_V\", \"make_V\", \"make_V\", \"make_V\", \"many_J\", \"many_J\", \"map_N\", \"mart_N\", \"meet_V\", \"message_N\", \"min_N\", \"minute_N\", \"modern_J\", \"money_N\", \"much_J\", \"much_J\", \"nearby_J\", \"nearby_R\", \"neat_N\", \"need_N\", \"need_V\", \"neighborhood_N\", \"next_J\", \"night_N\", \"night_N\", \"open_J\", \"overall_J\", \"people_N\", \"people_N\", \"perfect_J\", \"perfect_N\", \"photo_N\", \"picture_N\", \"place_N\", \"place_N\", \"place_N\", \"place_N\", \"place_N\", \"place_N\", \"pleasant_J\", \"price_N\", \"problem_N\", \"provide_V\", \"question_N\", \"quick_J\", \"quickly_R\", \"quiet_J\", \"really_R\", \"really_R\", \"really_R\", \"really_R\", \"really_R\", \"really_R\", \"recommend_J\", \"recommend_N\", \"recommend_V\", \"recommended_J\", \"reservation_N\", \"respond_V\", \"response_N\", \"responsive_J\", \"rest_N\", \"restaurant_N\", \"right_J\", \"right_R\", \"room_N\", \"room_N\", \"safe_J\", \"second_J\", \"send_V\", \"shop_N\", \"shop_V\", \"show_V\", \"size_N\", \"sleep_V\", \"small_J\", \"small_J\", \"soon_R\", \"space_N\", \"space_N\", \"spacious_J\", \"spend_V\", \"staff_N\", \"station_N\", \"stay_J\", \"stay_J\", \"stay_N\", \"stay_V\", \"stay_V\", \"stay_V\", \"stop_N\", \"stop_V\", \"store_N\", \"street_N\", \"studio_N\", \"subway_J\", \"subway_N\", \"subway_R\", \"take_V\", \"take_V\", \"tell_V\", \"thank_N\", \"thanks_N\", \"there's_J\", \"thing_N\", \"thing_N\", \"thing_N\", \"think_V\", \"think_V\", \"tidy_N\", \"time_N\", \"towel_N\", \"traditional_J\", \"train_N\", \"transportation_N\", \"travel_V\", \"travel_V\", \"trip_N\", \"trip_N\", \"tv_N\", \"use_N\", \"use_N\", \"use_V\", \"use_V\", \"value_N\", \"view_N\", \"visit_N\", \"visit_V\", \"walk_N\", \"walk_V\", \"want_V\", \"want_V\", \"warm_J\", \"wash_V\", \"water_N\", \"water_N\", \"way_N\", \"way_N\", \"way_N\", \"week_N\", \"welcome_V\", \"wifi_N\", \"wonderful_J\", \"work_V\", \"young_J\"]}, \"R\": 30, \"lambda.step\": 0.01, \"plot.opts\": {\"xlab\": \"PC1\", \"ylab\": \"PC2\"}, \"topic.order\": [5, 2, 1, 4, 6, 3]};\n",
       "\n",
       "function LDAvis_load_lib(url, callback){\n",
       "  var s = document.createElement('script');\n",
       "  s.src = url;\n",
       "  s.async = true;\n",
       "  s.onreadystatechange = s.onload = callback;\n",
       "  s.onerror = function(){console.warn(\"failed to load library \" + url);};\n",
       "  document.getElementsByTagName(\"head\")[0].appendChild(s);\n",
       "}\n",
       "\n",
       "if(typeof(LDAvis) !== \"undefined\"){\n",
       "   // already loaded: just create the visualization\n",
       "   !function(LDAvis){\n",
       "       new LDAvis(\"#\" + \"ldavis_el326424860164954328140553261\", ldavis_el326424860164954328140553261_data);\n",
       "   }(LDAvis);\n",
       "}else if(typeof define === \"function\" && define.amd){\n",
       "   // require.js is available: use it to load d3/LDAvis\n",
       "   require.config({paths: {d3: \"https://cdnjs.cloudflare.com/ajax/libs/d3/3.5.5/d3.min\"}});\n",
       "   require([\"d3\"], function(d3){\n",
       "      window.d3 = d3;\n",
       "      LDAvis_load_lib(\"https://cdn.rawgit.com/bmabey/pyLDAvis/files/ldavis.v1.0.0.js\", function(){\n",
       "        new LDAvis(\"#\" + \"ldavis_el326424860164954328140553261\", ldavis_el326424860164954328140553261_data);\n",
       "      });\n",
       "    });\n",
       "}else{\n",
       "    // require.js not available: dynamically load d3 & LDAvis\n",
       "    LDAvis_load_lib(\"https://cdnjs.cloudflare.com/ajax/libs/d3/3.5.5/d3.min.js\", function(){\n",
       "         LDAvis_load_lib(\"https://cdn.rawgit.com/bmabey/pyLDAvis/files/ldavis.v1.0.0.js\", function(){\n",
       "                 new LDAvis(\"#\" + \"ldavis_el326424860164954328140553261\", ldavis_el326424860164954328140553261_data);\n",
       "            })\n",
       "         });\n",
       "}\n",
       "</script>"
      ],
      "text/plain": [
       "PreparedData(topic_coordinates=              x         y  topics  cluster       Freq\n",
       "topic                                                \n",
       "4     -0.239526  0.167907       1        1  20.057068\n",
       "1     -0.107818 -0.404840       2        1  16.870823\n",
       "0     -0.226058  0.104909       3        1  16.797932\n",
       "3      0.221325 -0.053895       4        1  16.066092\n",
       "5      0.156652  0.106271       5        1  15.768917\n",
       "2      0.195424  0.079648       6        1  14.439165, topic_info=     Category           Freq           Term          Total  loglift  logprob\n",
       "term                                                                        \n",
       "32    Default   86847.000000         host_N   86847.000000  30.0000  30.0000\n",
       "147   Default   87808.000000      station_N   87808.000000  29.0000  29.0000\n",
       "184   Default   73759.000000         stay_N   73759.000000  28.0000  28.0000\n",
       "11    Default   67306.000000        clean_J   67306.000000  27.0000  27.0000\n",
       "83    Default   58917.000000         time_N   58917.000000  26.0000  26.0000\n",
       "115   Default   91023.000000         room_N   91023.000000  25.0000  25.0000\n",
       "292   Default   87953.000000     location_N   87953.000000  24.0000  24.0000\n",
       "221   Default   44812.000000  comfortable_J   44812.000000  23.0000  23.0000\n",
       "112   Default   42666.000000   everything_N   42666.000000  22.0000  22.0000\n",
       "439   Default   37057.000000    recommend_V   37057.000000  21.0000  21.0000\n",
       "25    Default   43392.000000           go_V   43392.000000  20.0000  20.0000\n",
       "123   Default   66221.000000         stay_V   66221.000000  19.0000  19.0000\n",
       "165   Default   30176.000000         come_V   30176.000000  18.0000  18.0000\n",
       "235   Default   68351.000000    apartment_N   68351.000000  17.0000  17.0000\n",
       "223   Default   29274.000000         kind_N   29274.000000  16.0000  16.0000\n",
       "108   Default   33386.000000   restaurant_N   33386.000000  15.0000  15.0000\n",
       "328   Default   32576.000000         easy_J   32576.000000  14.0000  14.0000\n",
       "110   Default   30766.000000         walk_V   30766.000000  13.0000  13.0000\n",
       "47    Default   26994.000000         next_J   26994.000000  12.0000  12.0000\n",
       "125   Default   24854.000000         home_N   24854.000000  11.0000  11.0000\n",
       "330   Default   29761.000000       subway_N   29761.000000  10.0000  10.0000\n",
       "218   Default   41476.000000   convenient_N   41476.000000   9.0000   9.0000\n",
       "234   Default   25258.000000      provide_V   25258.000000   8.0000   8.0000\n",
       "93    Default  151817.000000        place_N  151817.000000   7.0000   7.0000\n",
       "205   Default   25188.000000         need_V   25188.000000   6.0000   6.0000\n",
       "72    Default   24393.000000         back_R   24393.000000   5.0000   5.0000\n",
       "466   Default   24712.000000        clean_N   24712.000000   4.0000   4.0000\n",
       "304   Default   27312.000000       minute_N   27312.000000   3.0000   3.0000\n",
       "87    Default   68365.000000       really_R   68365.000000   2.0000   2.0000\n",
       "81    Default   22180.000000        thank_N   22180.000000   1.0000   1.0000\n",
       "...       ...            ...            ...            ...      ...      ...\n",
       "619    Topic6    5279.402344         rest_N    5279.526855   1.9352  -5.1860\n",
       "129    Topic6    5216.342285         care_N    5216.466797   1.9352  -5.1980\n",
       "1717   Topic6    5049.062988        staff_N    5049.186035   1.9352  -5.2306\n",
       "77     Topic6    4937.409180  hospitality_N    4937.533203   1.9352  -5.2529\n",
       "97     Topic6    4871.275879  traditional_J    4871.398926   1.9352  -5.2664\n",
       "159    Topic6    4634.236328    delicious_J    4634.360352   1.9352  -5.3163\n",
       "563    Topic6    4525.694824        value_N    4525.818359   1.9352  -5.3400\n",
       "894    Topic6    4155.301270         size_N    4155.423828   1.9352  -5.4254\n",
       "577    Topic6    4014.599365        money_N    4014.722168   1.9352  -5.4598\n",
       "357    Topic6    3961.799316     everyone_N    3961.922363   1.9352  -5.4731\n",
       "510    Topic6    3731.553467         cold_J    3731.676270   1.9352  -5.5329\n",
       "854    Topic6    3710.462158          fun_N    3710.585205   1.9352  -5.5386\n",
       "445    Topic6    3566.802490        sleep_V    3566.925781   1.9352  -5.5781\n",
       "775    Topic6    3468.000000          eat_N    3468.122803   1.9352  -5.6062\n",
       "17     Topic6   11836.951172       family_N   16008.423828   1.6333  -4.3785\n",
       "226    Topic6   14227.017578   experience_N   21238.597656   1.5345  -4.1946\n",
       "324    Topic6    8617.960938        think_V   11324.395508   1.6621  -4.6959\n",
       "155    Topic6   10693.389648       friend_N   16780.519531   1.4846  -4.4801\n",
       "43     Topic6    9269.026367         much_J   16315.876953   1.3698  -4.6231\n",
       "64     Topic6   11399.546875         take_V   25326.898438   1.1369  -4.4162\n",
       "93     Topic6   30232.679688        place_N  151817.781250   0.3215  -3.4409\n",
       "40     Topic6   12168.592773         make_V   34687.136719   0.8877  -4.3509\n",
       "123    Topic6   16322.412109         stay_V   66221.351562   0.5348  -4.0572\n",
       "34     Topic6   16737.732422        house_N   78817.156250   0.3858  -4.0321\n",
       "236    Topic6    9860.434570   definitely_R   30192.796875   0.8162  -4.5612\n",
       "87     Topic6   11744.724609       really_R   68365.742188   0.1738  -4.3864\n",
       "229    Topic6    7681.661621       people_N   21361.119141   0.9125  -4.8109\n",
       "188    Topic6    5685.624512       travel_V    7840.620605   1.6138  -5.1118\n",
       "118    Topic6    5728.608887         live_V    8458.330078   1.5455  -5.1043\n",
       "117    Topic6    5802.940430        guest_N   11582.155273   1.2441  -5.0914\n",
       "\n",
       "[292 rows x 6 columns], token_table=      Topic      Freq             Term\n",
       "term                                  \n",
       "325       1  0.999928         access_N\n",
       "795       3  0.999981     accessible_J\n",
       "470       2  1.000020    accommodate_V\n",
       "442       3  1.000007  accommodation_N\n",
       "240       2  0.999994            air_N\n",
       "601       1  0.999972        airport_N\n",
       "194       2  0.999974         always_R\n",
       "334       3  0.999937          amaze_V\n",
       "555       6  0.999989         anyone_N\n",
       "235       1  0.224880      apartment_N\n",
       "235       3  0.574160      apartment_N\n",
       "235       5  0.200945      apartment_N\n",
       "336       1  0.718408           area_N\n",
       "336       3  0.281555           area_N\n",
       "1062      5  0.999884        arrival_N\n",
       "3         5  0.999971         arrive_V\n",
       "407       2  0.999940            ask_V\n",
       "2781      4  1.000023     attraction_N\n",
       "269       2  1.000023      available_J\n",
       "301       1  1.000003           away_R\n",
       "72        4  1.000007           back_R\n",
       "835       5  0.999967            bad_J\n",
       "447       3  0.999940            bar_N\n",
       "353       2  0.999959       bathroom_N\n",
       "4         3  0.999919      beautiful_J\n",
       "5         2  0.999972            bed_N\n",
       "1422      2  0.999943            bed_V\n",
       "166       5  0.999972           best_J\n",
       "163       2  1.000021            big_J\n",
       "564       4  0.999946           book_N\n",
       "...     ...       ...              ...\n",
       "188       1  0.274851         travel_V\n",
       "188       6  0.725198         travel_V\n",
       "156       4  0.687503           trip_N\n",
       "156       5  0.312491           trip_N\n",
       "646       2  0.999920             tv_N\n",
       "356       2  0.478729            use_N\n",
       "356       4  0.521254            use_N\n",
       "737       2  0.604243            use_V\n",
       "737       4  0.395750            use_V\n",
       "563       6  1.000040          value_N\n",
       "68        3  0.999957           view_N\n",
       "206       4  1.000021          visit_N\n",
       "189       6  0.999974          visit_V\n",
       "375       1  1.000013           walk_N\n",
       "110       1  1.000007           walk_V\n",
       "535       4  0.684362           want_V\n",
       "535       6  0.315667           want_V\n",
       "158       6  1.000026           warm_J\n",
       "314       2  0.999995           wash_V\n",
       "488       2  0.772060          water_N\n",
       "488       6  0.227971          water_N\n",
       "98        1  0.263299            way_N\n",
       "98        4  0.557725            way_N\n",
       "98        5  0.178907            way_N\n",
       "307       5  0.999912           week_N\n",
       "190       5  1.000012        welcome_V\n",
       "515       2  1.000003           wifi_N\n",
       "157       6  0.999978      wonderful_J\n",
       "839       2  0.999936           work_V\n",
       "388       4  0.999863          young_J\n",
       "\n",
       "[311 rows x 3 columns], R=30, lambda_step=0.01, plot_opts={'xlab': 'PC1', 'ylab': 'PC2'}, topic_order=[5, 2, 1, 4, 6, 3])"
      ]
     },
     "execution_count": 28,
     "metadata": {},
     "output_type": "execute_result"
    }
   ],
   "source": [
    "vis"
   ]
  },
  {
   "cell_type": "code",
   "execution_count": 27,
   "metadata": {},
   "outputs": [],
   "source": [
    "pyLDAvis.save_html(vis,'LDA_seoul.html')"
   ]
  },
  {
   "cell_type": "code",
   "execution_count": null,
   "metadata": {},
   "outputs": [],
   "source": []
  },
  {
   "cell_type": "code",
   "execution_count": null,
   "metadata": {},
   "outputs": [],
   "source": []
  }
 ],
 "metadata": {
  "kernelspec": {
   "display_name": "Python 3",
   "language": "python",
   "name": "python3"
  },
  "language_info": {
   "codemirror_mode": {
    "name": "ipython",
    "version": 3
   },
   "file_extension": ".py",
   "mimetype": "text/x-python",
   "name": "python",
   "nbconvert_exporter": "python",
   "pygments_lexer": "ipython3",
   "version": "3.7.0"
  }
 },
 "nbformat": 4,
 "nbformat_minor": 2
}
