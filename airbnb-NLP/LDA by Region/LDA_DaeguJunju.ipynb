{
 "cells": [
  {
   "cell_type": "markdown",
   "metadata": {},
   "source": [
    "### 대구 전주 Airbnb reviews"
   ]
  },
  {
   "cell_type": "code",
   "execution_count": 1,
   "metadata": {},
   "outputs": [],
   "source": [
    "import json\n",
    "import re"
   ]
  },
  {
   "cell_type": "code",
   "execution_count": 2,
   "metadata": {},
   "outputs": [],
   "source": [
    "file_lst = ['translated_daegu.json','translated_jeonju.json']"
   ]
  },
  {
   "cell_type": "code",
   "execution_count": 3,
   "metadata": {},
   "outputs": [],
   "source": [
    "review = {}\n",
    "for file in file_lst:\n",
    "    with open(file,'r',encoding='utf-8') as fp:\n",
    "        review.update(json.load(fp))"
   ]
  },
  {
   "cell_type": "code",
   "execution_count": 4,
   "metadata": {},
   "outputs": [],
   "source": [
    "review_en={}\n",
    "\n",
    "for home_id,rev_lsts in review.items():\n",
    "    review_en[home_id] = []\n",
    "    for rev_lst in rev_lsts:\n",
    "        try:\n",
    "            if str(rev_lst['language'][-2:]) == 'en':\n",
    "                review_en[home_id].append([rev_lst['rating'],rev_lst['t_comments']])\n",
    "        except:\n",
    "            pass"
   ]
  },
  {
   "cell_type": "markdown",
   "metadata": {},
   "source": [
    "### Data Preprocessing Step\n",
    "##### 1. Tokenization\n",
    "##### 2. Stop word elimination\n",
    "##### 3. Stemming : 단어를 기본형으로 바꾸어준다. 복수형은 단수형으로, 과거형은 현재형으로 바꾸는 과정\n",
    "##### 4. Representation"
   ]
  },
  {
   "cell_type": "code",
   "execution_count": 5,
   "metadata": {},
   "outputs": [],
   "source": [
    "import nltk\n",
    "from nltk import sent_tokenize\n",
    "from nltk.stem import WordNetLemmatizer\n",
    "import tqdm"
   ]
  },
  {
   "cell_type": "markdown",
   "metadata": {},
   "source": [
    "### Tokenization"
   ]
  },
  {
   "cell_type": "code",
   "execution_count": 6,
   "metadata": {},
   "outputs": [
    {
     "name": "stderr",
     "output_type": "stream",
     "text": [
      "100%|█████████████████████████████████████████████████████████████████████████████| 2626/2626 [00:04<00:00, 585.12it/s]\n"
     ]
    }
   ],
   "source": [
    "# 리뷰별 문장단위 tokenizing\n",
    "for home_id,rev_lst in tqdm.tqdm(review_en.items()) :\n",
    "    for rev in rev_lst:\n",
    "        rev[1] = sent_tokenize(rev[1])"
   ]
  },
  {
   "cell_type": "code",
   "execution_count": 7,
   "metadata": {},
   "outputs": [
    {
     "name": "stderr",
     "output_type": "stream",
     "text": [
      "100%|███████████████████████████████████████████████████████████████████████████| 2626/2626 [00:00<00:00, 38640.09it/s]\n"
     ]
    }
   ],
   "source": [
    "# 길이가 2보다 작은 문장 없애기\n",
    "for home_id,rev_lst in tqdm.tqdm(review_en.items()) :\n",
    "    for rev in rev_lst:\n",
    "        r = []\n",
    "        for s in rev[1] : \n",
    "            if len(s) > 2 :\n",
    "                r.append(s)\n",
    "        rev[1] = r        "
   ]
  },
  {
   "cell_type": "markdown",
   "metadata": {},
   "source": [
    "###  Stop words elimination"
   ]
  },
  {
   "cell_type": "code",
   "execution_count": 8,
   "metadata": {},
   "outputs": [],
   "source": [
    "# 소문자와 대문자가 아닌 것은 공백으로 대체\n",
    "for home_id,rev_lst in review_en.items(): \n",
    "    for rev in rev_lst:\n",
    "        for sentence in rev[1]:\n",
    "            sentence = re.sub('[^a-zA-Z\\s]', '', sentence)"
   ]
  },
  {
   "cell_type": "code",
   "execution_count": 9,
   "metadata": {
    "scrolled": true
   },
   "outputs": [
    {
     "name": "stdout",
     "output_type": "stream",
     "text": [
      "['i', 'me', 'my', 'myself', 'we', 'our', 'ours', 'ourselves', 'you', \"you're\", \"you've\", \"you'll\", \"you'd\", 'your', 'yours', 'yourself', 'yourselves', 'he', 'him', 'his', 'himself', 'she', \"she's\", 'her', 'hers', 'herself', 'it', \"it's\", 'its', 'itself', 'they', 'them', 'their', 'theirs', 'themselves', 'what', 'which', 'who', 'whom', 'this', 'that', \"that'll\", 'these', 'those', 'am', 'is', 'are', 'was', 'were', 'be', 'been', 'being', 'have', 'has', 'had', 'having', 'do', 'does', 'did', 'doing', 'a', 'an', 'the', 'and', 'but', 'if', 'or', 'because', 'as', 'until', 'while', 'of', 'at', 'by', 'for', 'with', 'about', 'against', 'between', 'into', 'through', 'during', 'before', 'after', 'above', 'below', 'to', 'from', 'up', 'down', 'in', 'out', 'on', 'off', 'over', 'under', 'again', 'further', 'then', 'once', 'here', 'there', 'when', 'where', 'why', 'how', 'all', 'any', 'both', 'each', 'few', 'more', 'most', 'other', 'some', 'such', 'no', 'nor', 'not', 'only', 'own', 'same', 'so', 'than', 'too', 'very', 's', 't', 'can', 'will', 'just', 'don', \"don't\", 'should', \"should've\", 'now', 'd', 'll', 'm', 'o', 're', 've', 'y', 'ain', 'aren', \"aren't\", 'couldn', \"couldn't\", 'didn', \"didn't\", 'doesn', \"doesn't\", 'hadn', \"hadn't\", 'hasn', \"hasn't\", 'haven', \"haven't\", 'isn', \"isn't\", 'ma', 'mightn', \"mightn't\", 'mustn', \"mustn't\", 'needn', \"needn't\", 'shan', \"shan't\", 'shouldn', \"shouldn't\", 'wasn', \"wasn't\", 'weren', \"weren't\", 'won', \"won't\", 'wouldn', \"wouldn't\"]\n"
     ]
    }
   ],
   "source": [
    "from nltk.corpus import stopwords\n",
    "stopWords =list(stopwords.words('english'))\n",
    "print(stopWords)"
   ]
  },
  {
   "cell_type": "code",
   "execution_count": 10,
   "metadata": {},
   "outputs": [],
   "source": [
    "add_stopwords = ['airbnb','im','youre','hongdae', 'seoul', 'daegu', 'jeju' ,'busan', 'korea','gangneung','itaewon','myeongdong','john','gangnam','also','even','dont','namsan','incheon','good','great']\n",
    "# additional_stopwords = []\n",
    "stopWords = set(stopWords + add_stopwords)"
   ]
  },
  {
   "cell_type": "code",
   "execution_count": 11,
   "metadata": {},
   "outputs": [
    {
     "name": "stderr",
     "output_type": "stream",
     "text": [
      "100%|██████████████████████████████████████████████████████████████████████████████| 2626/2626 [15:45<00:00,  2.78it/s]\n"
     ]
    }
   ],
   "source": [
    "# 문장별 단어단위 tokenizing 후 pos_tag\n",
    "for home_id,rev_lst in tqdm.tqdm(review_en.items()):\n",
    "    for rev in rev_lst:\n",
    "        tmp_lst = []\n",
    "        for sentence in rev[1]:\n",
    "            token = nltk.regexp_tokenize(sentence.lower() ,\"[\\w']+\")\n",
    "            no_stopword_token = [w for w in token if not w in stopWords]\n",
    "            sent_pos = nltk.pos_tag(no_stopword_token)\n",
    "            tmp_lst.append(sent_pos)\n",
    "        rev[1] = tmp_lst"
   ]
  },
  {
   "cell_type": "markdown",
   "metadata": {},
   "source": [
    "### 명사, 형용사, 동사, 부사 lemmatization"
   ]
  },
  {
   "cell_type": "code",
   "execution_count": 12,
   "metadata": {},
   "outputs": [],
   "source": [
    "lemm = WordNetLemmatizer()\n",
    "\n",
    "def njvr_lemmantizer(sent):\n",
    "    global lemm\n",
    "    \n",
    "    lemm_sent = []\n",
    "    for word_pos in sent:\n",
    "        word, pos = word_pos\n",
    "        if pos[0] == 'N':\n",
    "            lemm_sent.append(lemm.lemmatize(word,pos='n').lower() +'_N')\n",
    "        elif pos[0] == 'J':\n",
    "            lemm_sent.append(lemm.lemmatize(word,pos='a').lower() +'_J')\n",
    "        elif pos[0] == 'V':\n",
    "            lemm_sent.append(lemm.lemmatize(word,pos='v').lower() +'_V')\n",
    "        elif pos[0] == 'R':\n",
    "            lemm_sent.append(lemm.lemmatize(word,pos='r').lower() +'_R')\n",
    "        else:pass\n",
    "    return lemm_sent"
   ]
  },
  {
   "cell_type": "code",
   "execution_count": 13,
   "metadata": {},
   "outputs": [
    {
     "name": "stderr",
     "output_type": "stream",
     "text": [
      "100%|█████████████████████████████████████████████████████████████████████████████| 2626/2626 [00:05<00:00, 497.69it/s]\n"
     ]
    }
   ],
   "source": [
    "for listing_id, rev_lst in tqdm.tqdm(review_en.items()):\n",
    "    for rev in rev_lst:\n",
    "        rev_tmp = []\n",
    "        for sent in rev[1]:\n",
    "            rev_tmp.append(njvr_lemmantizer(sent))\n",
    "        rev[1] = rev_tmp"
   ]
  },
  {
   "cell_type": "code",
   "execution_count": 14,
   "metadata": {},
   "outputs": [],
   "source": [
    "with open('review_postag_daegujeonju.json','w',encoding='utf-8') as fp:\n",
    "        json.dump(review_en,fp)"
   ]
  },
  {
   "cell_type": "markdown",
   "metadata": {},
   "source": [
    "### LDA "
   ]
  },
  {
   "cell_type": "code",
   "execution_count": 15,
   "metadata": {
    "colab": {},
    "colab_type": "code",
    "id": "RTnZXoa1u8K-"
   },
   "outputs": [],
   "source": [
    "import pandas as pd\n",
    "import numpy as np\n",
    "import time"
   ]
  },
  {
   "cell_type": "code",
   "execution_count": 16,
   "metadata": {
    "colab": {},
    "colab_type": "code",
    "id": "HsOQPD7qu8LH",
    "outputId": "0920d6b8-cb3e-40ef-9b76-2dcd4c3e4b67"
   },
   "outputs": [
    {
     "name": "stderr",
     "output_type": "stream",
     "text": [
      "C:\\Users\\asd00\\Anaconda3\\lib\\site-packages\\gensim\\utils.py:1212: UserWarning: detected Windows; aliasing chunkize to chunkize_serial\n",
      "  warnings.warn(\"detected Windows; aliasing chunkize to chunkize_serial\")\n"
     ]
    }
   ],
   "source": [
    "import gensim\n",
    "from gensim import corpora, models\n",
    "from gensim.models import CoherenceModel"
   ]
  },
  {
   "cell_type": "code",
   "execution_count": 17,
   "metadata": {
    "colab": {},
    "colab_type": "code",
    "id": "wfcRerIwu8LS"
   },
   "outputs": [],
   "source": [
    "review = review_en"
   ]
  },
  {
   "cell_type": "code",
   "execution_count": 18,
   "metadata": {
    "colab": {},
    "colab_type": "code",
    "id": "UdNMVG4Eu8Lh"
   },
   "outputs": [],
   "source": [
    "texts = []\n",
    "for home_id,rev_lst in review.items():\n",
    "    for rev in rev_lst:\n",
    "        for sentence in rev[1] :\n",
    "            texts.append(sentence)"
   ]
  },
  {
   "cell_type": "code",
   "execution_count": 19,
   "metadata": {
    "colab": {},
    "colab_type": "code",
    "id": "2A1N-I5Zu8Lm",
    "outputId": "1eae6ec2-56aa-4ad4-cfd3-fdc19c038a1c"
   },
   "outputs": [
    {
     "data": {
      "text/plain": [
       "[['host_N', 'guide_V', 'well_R', 'check_V', 'check_V', 'problem_N'],\n",
       " ['accommodation_N', 'see_V', 'screen_N']]"
      ]
     },
     "execution_count": 19,
     "metadata": {},
     "output_type": "execute_result"
    }
   ],
   "source": [
    "texts[:2]"
   ]
  },
  {
   "cell_type": "code",
   "execution_count": 20,
   "metadata": {
    "colab": {},
    "colab_type": "code",
    "id": "-jS3XD2Du8Lr"
   },
   "outputs": [],
   "source": [
    "dic = corpora.Dictionary(texts)"
   ]
  },
  {
   "cell_type": "code",
   "execution_count": 21,
   "metadata": {
    "colab": {},
    "colab_type": "code",
    "id": "QH--lD0Qu8L4"
   },
   "outputs": [],
   "source": [
    "corpus = [dic.doc2bow(text) for text in texts]"
   ]
  },
  {
   "cell_type": "code",
   "execution_count": 22,
   "metadata": {
    "colab": {},
    "colab_type": "code",
    "id": "2buE4y-cu8MA",
    "outputId": "9b6500d5-1de2-4f0f-deeb-6a26d7f61573"
   },
   "outputs": [
    {
     "data": {
      "text/plain": [
       "135134"
      ]
     },
     "execution_count": 22,
     "metadata": {},
     "output_type": "execute_result"
    }
   ],
   "source": [
    "len(corpus)"
   ]
  },
  {
   "cell_type": "code",
   "execution_count": 23,
   "metadata": {
    "colab": {},
    "colab_type": "code",
    "id": "XDIyQleCu8MK"
   },
   "outputs": [
    {
     "name": "stderr",
     "output_type": "stream",
     "text": [
      "C:\\Users\\asd00\\Anaconda3\\lib\\site-packages\\gensim\\models\\ldamodel.py:1023: RuntimeWarning: divide by zero encountered in log\n",
      "  diff = np.log(self.expElogbeta)\n"
     ]
    }
   ],
   "source": [
    "# corpus: the corpus used to train the topic model.\n",
    "# id2word: a dictionary that maps word numerical identifiers to word strings \n",
    "# alpha: the topic distribution. If we set it to 'auto', then we tell the algorithm to determine the topic proportions automatically.\n",
    "# num_topics: how many topics the algorithm should find.\n",
    "# passes: how many times the algorithm should go through the corpus. If you are using a large corpus , then this can be set to 1\n",
    "# model.num_topics: the number of topics.\n",
    "# model.show_topic(topic_number, topn) returns the probability distribution over words in one topic. for instance [(0.06, 'food'), (0.04, 'cook'), (0.03, 'fry'), ...]\n",
    "# model.alpha[topic_number]: the prominence of a topic.\n",
    "\n",
    "#%%time\n",
    "ldamodel = gensim.models.ldamodel.LdaModel(corpus, num_topics = 6, id2word = dic, passes=30 ,iterations = 3000,alpha='symmetric', eta='auto') #LDA model 생성"
   ]
  },
  {
   "cell_type": "code",
   "execution_count": 24,
   "metadata": {},
   "outputs": [],
   "source": [
    "ldamodel.save('lda_DaeguJunju.lda')"
   ]
  },
  {
   "cell_type": "markdown",
   "metadata": {
    "colab_type": "text",
    "id": "q00ecmihu8MS"
   },
   "source": [
    "#### Airnb category : 정확성 / 의사소통 / 청결도 / 위치 / 체크인 / 가치"
   ]
  },
  {
   "cell_type": "code",
   "execution_count": 25,
   "metadata": {
    "colab": {},
    "colab_type": "code",
    "id": "lKYrvf-wu8MT",
    "outputId": "a298021e-8c73-4688-8696-ba04163b99dd"
   },
   "outputs": [
    {
     "data": {
      "text/plain": [
       "[(0,\n",
       "  '0.084*\"host_N\" + 0.078*\"kind_N\" + 0.033*\"take_V\" + 0.021*\"make_V\" + 0.020*\"rest_N\" + 0.019*\"day_N\" + 0.017*\"nice_J\" + 0.017*\"give_V\" + 0.017*\"thanks_N\" + 0.012*\"check_V\"'),\n",
       " (1,\n",
       "  '0.097*\"room_N\" + 0.062*\"clean_J\" + 0.038*\"nice_J\" + 0.029*\"well_R\" + 0.022*\"comfortable_J\" + 0.022*\"bathroom_N\" + 0.020*\"clean_N\" + 0.017*\"small_J\" + 0.017*\"really_R\" + 0.016*\"warm_J\"'),\n",
       " (2,\n",
       "  '0.043*\"quiet_J\" + 0.038*\"house_N\" + 0.030*\"night_N\" + 0.028*\"little_J\" + 0.020*\"floor_N\" + 0.017*\"beautiful_J\" + 0.014*\"place_N\" + 0.013*\"hanok_N\" + 0.013*\"lot_N\" + 0.012*\"morning_N\"'),\n",
       " (3,\n",
       "  '0.063*\"accommodation_N\" + 0.048*\"location_N\" + 0.044*\"thank_N\" + 0.028*\"much_J\" + 0.021*\"price_N\" + 0.021*\"well_R\" + 0.019*\"like_V\" + 0.018*\"enjoy_V\" + 0.017*\"best_J\" + 0.015*\"satisfy_V\"'),\n",
       " (4,\n",
       "  '0.102*\"village_N\" + 0.055*\"hanok_J\" + 0.050*\"hanok_N\" + 0.028*\"locate_V\" + 0.025*\"location_N\" + 0.020*\"close_R\" + 0.019*\"convenient_N\" + 0.017*\"walk_V\" + 0.016*\"restaurant_N\" + 0.015*\"walk_N\"'),\n",
       " (5,\n",
       "  '0.061*\"go_V\" + 0.059*\"time_N\" + 0.044*\"jeonju_N\" + 0.042*\"stay_N\" + 0.041*\"place_N\" + 0.040*\"next_J\" + 0.039*\"come_V\" + 0.029*\"stay_V\" + 0.025*\"trip_N\" + 0.025*\"want_V\"')]"
      ]
     },
     "execution_count": 25,
     "metadata": {},
     "output_type": "execute_result"
    }
   ],
   "source": [
    "ldamodel.show_topics(num_words=10) #토픽을 구성하는 주요단어들"
   ]
  },
  {
   "cell_type": "code",
   "execution_count": 3,
   "metadata": {},
   "outputs": [],
   "source": [
    "ldamodel = gensim.models.ldamodel.LdaModel.load('lda_jeju.lda')"
   ]
  },
  {
   "cell_type": "code",
   "execution_count": 26,
   "metadata": {
    "colab": {},
    "colab_type": "code",
    "id": "eCU8dtZku8MX",
    "outputId": "838f2098-2eaa-4241-dae2-54ab4bfe012e"
   },
   "outputs": [],
   "source": [
    "import pyLDAvis\n",
    "import pyLDAvis.gensim \n",
    "import matplotlib.pyplot as plt"
   ]
  },
  {
   "cell_type": "code",
   "execution_count": 27,
   "metadata": {
    "colab": {},
    "colab_type": "code",
    "id": "wgKpDXoZu8Mf",
    "outputId": "d6aade83-caeb-42a1-978b-2fb5d86d56e7"
   },
   "outputs": [
    {
     "name": "stderr",
     "output_type": "stream",
     "text": [
      "C:\\Users\\asd00\\Anaconda3\\lib\\site-packages\\pyLDAvis\\_prepare.py:257: FutureWarning: Sorting because non-concatenation axis is not aligned. A future version\n",
      "of pandas will change to not sort by default.\n",
      "\n",
      "To accept the future behavior, pass 'sort=False'.\n",
      "\n",
      "To retain the current behavior and silence the warning, pass 'sort=True'.\n",
      "\n",
      "  return pd.concat([default_term_info] + list(topic_dfs))\n"
     ]
    }
   ],
   "source": [
    "# Visualize the topics\n",
    "pyLDAvis.enable_notebook()\n",
    "vis = pyLDAvis.gensim.prepare(ldamodel, corpus, dic)"
   ]
  },
  {
   "cell_type": "code",
   "execution_count": 30,
   "metadata": {},
   "outputs": [
    {
     "data": {
      "text/html": [
       "\n",
       "<link rel=\"stylesheet\" type=\"text/css\" href=\"https://cdn.rawgit.com/bmabey/pyLDAvis/files/ldavis.v1.0.0.css\">\n",
       "\n",
       "\n",
       "<div id=\"ldavis_el1211623047388279847152367381\"></div>\n",
       "<script type=\"text/javascript\">\n",
       "\n",
       "var ldavis_el1211623047388279847152367381_data = {\"mdsDat\": {\"x\": [-0.22611986290178115, -0.02253166288202552, 0.09279539034762276, 0.20453847545607295, 0.21538740008634144, -0.26406974010623097], \"y\": [-0.13288223834512486, -0.09116137710856055, -0.06256914885881014, 0.32130714483933914, -0.2110232666642439, 0.17632888613740072], \"topics\": [1, 2, 3, 4, 5, 6], \"cluster\": [1, 1, 1, 1, 1, 1], \"Freq\": [21.417205810546875, 17.5474853515625, 16.878061294555664, 15.975181579589844, 14.935983657836914, 13.246088981628418]}, \"tinfo\": {\"Category\": [\"Default\", \"Default\", \"Default\", \"Default\", \"Default\", \"Default\", \"Default\", \"Default\", \"Default\", \"Default\", \"Default\", \"Default\", \"Default\", \"Default\", \"Default\", \"Default\", \"Default\", \"Default\", \"Default\", \"Default\", \"Default\", \"Default\", \"Default\", \"Default\", \"Default\", \"Default\", \"Default\", \"Default\", \"Default\", \"Default\", \"Topic1\", \"Topic1\", \"Topic1\", \"Topic1\", \"Topic1\", \"Topic1\", \"Topic1\", \"Topic1\", \"Topic1\", \"Topic1\", \"Topic1\", \"Topic1\", \"Topic1\", \"Topic1\", \"Topic1\", \"Topic1\", \"Topic1\", \"Topic1\", \"Topic1\", \"Topic1\", \"Topic1\", \"Topic1\", \"Topic1\", \"Topic1\", \"Topic1\", \"Topic1\", \"Topic1\", \"Topic1\", \"Topic1\", \"Topic1\", \"Topic1\", \"Topic1\", \"Topic1\", \"Topic1\", \"Topic1\", \"Topic1\", \"Topic1\", \"Topic1\", \"Topic1\", \"Topic1\", \"Topic1\", \"Topic1\", \"Topic1\", \"Topic2\", \"Topic2\", \"Topic2\", \"Topic2\", \"Topic2\", \"Topic2\", \"Topic2\", \"Topic2\", \"Topic2\", \"Topic2\", \"Topic2\", \"Topic2\", \"Topic2\", \"Topic2\", \"Topic2\", \"Topic2\", \"Topic2\", \"Topic2\", \"Topic2\", \"Topic2\", \"Topic2\", \"Topic2\", \"Topic2\", \"Topic2\", \"Topic2\", \"Topic2\", \"Topic2\", \"Topic2\", \"Topic2\", \"Topic2\", \"Topic2\", \"Topic2\", \"Topic2\", \"Topic2\", \"Topic2\", \"Topic2\", \"Topic2\", \"Topic2\", \"Topic2\", \"Topic2\", \"Topic2\", \"Topic2\", \"Topic2\", \"Topic3\", \"Topic3\", \"Topic3\", \"Topic3\", \"Topic3\", \"Topic3\", \"Topic3\", \"Topic3\", \"Topic3\", \"Topic3\", \"Topic3\", \"Topic3\", \"Topic3\", \"Topic3\", \"Topic3\", \"Topic3\", \"Topic3\", \"Topic3\", \"Topic3\", \"Topic3\", \"Topic3\", \"Topic3\", \"Topic3\", \"Topic3\", \"Topic3\", \"Topic3\", \"Topic3\", \"Topic3\", \"Topic3\", \"Topic3\", \"Topic3\", \"Topic3\", \"Topic3\", \"Topic3\", \"Topic3\", \"Topic3\", \"Topic3\", \"Topic3\", \"Topic3\", \"Topic3\", \"Topic3\", \"Topic3\", \"Topic3\", \"Topic3\", \"Topic3\", \"Topic3\", \"Topic3\", \"Topic3\", \"Topic4\", \"Topic4\", \"Topic4\", \"Topic4\", \"Topic4\", \"Topic4\", \"Topic4\", \"Topic4\", \"Topic4\", \"Topic4\", \"Topic4\", \"Topic4\", \"Topic4\", \"Topic4\", \"Topic4\", \"Topic4\", \"Topic4\", \"Topic4\", \"Topic4\", \"Topic4\", \"Topic4\", \"Topic4\", \"Topic4\", \"Topic4\", \"Topic4\", \"Topic4\", \"Topic4\", \"Topic4\", \"Topic4\", \"Topic4\", \"Topic4\", \"Topic4\", \"Topic4\", \"Topic4\", \"Topic4\", \"Topic4\", \"Topic4\", \"Topic4\", \"Topic4\", \"Topic4\", \"Topic5\", \"Topic5\", \"Topic5\", \"Topic5\", \"Topic5\", \"Topic5\", \"Topic5\", \"Topic5\", \"Topic5\", \"Topic5\", \"Topic5\", \"Topic5\", \"Topic5\", \"Topic5\", \"Topic5\", \"Topic5\", \"Topic5\", \"Topic5\", \"Topic5\", \"Topic5\", \"Topic5\", \"Topic5\", \"Topic5\", \"Topic5\", \"Topic5\", \"Topic5\", \"Topic5\", \"Topic5\", \"Topic5\", \"Topic5\", \"Topic5\", \"Topic5\", \"Topic5\", \"Topic5\", \"Topic5\", \"Topic5\", \"Topic5\", \"Topic5\", \"Topic5\", \"Topic5\", \"Topic5\", \"Topic5\", \"Topic5\", \"Topic6\", \"Topic6\", \"Topic6\", \"Topic6\", \"Topic6\", \"Topic6\", \"Topic6\", \"Topic6\", \"Topic6\", \"Topic6\", \"Topic6\", \"Topic6\", \"Topic6\", \"Topic6\", \"Topic6\", \"Topic6\", \"Topic6\", \"Topic6\", \"Topic6\", \"Topic6\", \"Topic6\", \"Topic6\", \"Topic6\", \"Topic6\", \"Topic6\", \"Topic6\", \"Topic6\", \"Topic6\", \"Topic6\", \"Topic6\", \"Topic6\", \"Topic6\", \"Topic6\", \"Topic6\", \"Topic6\", \"Topic6\", \"Topic6\", \"Topic6\", \"Topic6\"], \"Freq\": [16435.0, 12964.0, 9947.0, 9206.0, 10577.0, 7955.0, 6604.0, 9124.0, 7003.0, 8262.0, 8175.0, 5966.0, 5594.0, 5364.0, 7502.0, 4631.0, 5259.0, 7831.0, 7125.0, 4184.0, 5483.0, 3876.0, 3615.0, 5033.0, 2958.0, 3317.0, 3296.0, 10928.0, 3669.0, 4458.0, 16434.8828125, 10577.1142578125, 3668.811279296875, 3420.1142578125, 2715.020751953125, 2126.46533203125, 1993.1171875, 1959.7236328125, 1739.5042724609375, 1721.7655029296875, 1709.8443603515625, 1626.71875, 1583.151611328125, 1447.9246826171875, 1363.93212890625, 1342.5762939453125, 1054.3404541015625, 877.7418823242188, 883.1363525390625, 841.1146240234375, 735.7847900390625, 717.6207885742188, 690.1796264648438, 662.11181640625, 620.2109375, 608.4933471679688, 600.82421875, 579.27734375, 532.2908325195312, 535.4453125, 2960.415283203125, 3674.847900390625, 2138.15673828125, 4931.46337890625, 1477.063232421875, 6424.02490234375, 1753.44091796875, 1521.7052001953125, 1545.499267578125, 2822.139404296875, 2557.17919921875, 1887.5355224609375, 1159.8037109375, 5966.3681640625, 4183.88134765625, 3876.1298828125, 2783.947265625, 2376.26611328125, 1517.0350341796875, 1420.6302490234375, 1353.2947998046875, 1300.0665283203125, 1283.8880615234375, 1130.0972900390625, 1065.4150390625, 1028.9508056640625, 949.6617431640625, 939.6281127929688, 965.1954956054688, 900.221923828125, 855.9977416992188, 823.2875366210938, 749.38037109375, 663.5177612304688, 671.5471801757812, 664.775390625, 638.0925903320312, 619.7738647460938, 608.432861328125, 593.7268676757812, 579.6515502929688, 571.8199462890625, 535.9823608398438, 5273.2822265625, 1684.8323974609375, 1769.8443603515625, 1144.3995361328125, 725.697265625, 1852.307373046875, 1886.38037109375, 1602.566162109375, 744.5953369140625, 1035.98486328125, 895.533935546875, 1004.1610717773438, 769.6632690429688, 7955.05615234375, 5594.24267578125, 5364.14404296875, 5259.58447265625, 3316.792236328125, 3296.317138671875, 2457.289306640625, 2174.2880859375, 1777.9471435546875, 1180.637939453125, 1082.4600830078125, 880.650146484375, 803.6791381835938, 827.7041625976562, 767.895263671875, 672.9528198242188, 610.171142578125, 600.5180053710938, 599.0748291015625, 523.8390502929688, 515.621826171875, 509.52685546875, 468.34124755859375, 468.3604736328125, 451.11541748046875, 443.57952880859375, 411.44268798828125, 394.2065124511719, 388.2383728027344, 375.1288146972656, 8119.85205078125, 5906.248046875, 3872.980224609375, 1992.0281982421875, 3418.141357421875, 2165.326904296875, 5534.58447265625, 724.6668090820312, 1070.760986328125, 1158.676025390625, 781.6891479492188, 1472.5625, 854.508544921875, 1161.6829833984375, 1552.2716064453125, 1119.4451904296875, 1094.4281005859375, 854.8737182617188, 12963.9892578125, 7002.8466796875, 3614.927490234375, 2595.707275390625, 2403.044921875, 2202.48388671875, 2030.037109375, 1952.37841796875, 1932.8173828125, 1559.3990478515625, 1438.293701171875, 1409.16552734375, 1310.367919921875, 1137.761474609375, 1101.2237548828125, 1054.1258544921875, 1050.2470703125, 978.6925659179688, 946.6155395507812, 957.0587158203125, 847.3270874023438, 833.52978515625, 781.7261352539062, 757.8510131835938, 656.542236328125, 618.2882690429688, 567.2901611328125, 521.5919799804688, 538.9979248046875, 502.0361328125, 6322.4873046875, 1664.454833984375, 3234.47900390625, 1284.3795166015625, 915.45263671875, 1073.105224609375, 1582.805908203125, 1595.7254638671875, 1603.29541015625, 1029.954833984375, 9947.626953125, 9206.7373046875, 2424.177001953125, 2014.0777587890625, 1999.39501953125, 1459.4423828125, 1379.5908203125, 1292.0316162109375, 1179.60791015625, 1063.2781982421875, 1039.7470703125, 1007.90185546875, 958.741455078125, 917.8685302734375, 927.8772583007812, 899.8131713867188, 763.746337890625, 647.716552734375, 630.6849365234375, 612.4930419921875, 603.1195068359375, 591.4802856445312, 550.169677734375, 543.7086181640625, 539.415283203125, 456.4172058105469, 418.0757751464844, 385.48175048828125, 359.7591552734375, 373.3918762207031, 3900.581787109375, 2474.781982421875, 1078.28173828125, 1220.0926513671875, 907.4063110351562, 2202.114013671875, 899.03955078125, 896.6873779296875, 958.229248046875, 1432.1058349609375, 2014.565673828125, 1039.5281982421875, 857.4490356445312, 6604.23974609375, 4631.08447265625, 2958.770751953125, 2211.524169921875, 1880.7061767578125, 1539.09765625, 1160.343505859375, 1108.029541015625, 992.238525390625, 928.561279296875, 867.2789916992188, 831.4300537109375, 807.19970703125, 751.6113891601562, 728.5953369140625, 714.4744873046875, 690.339111328125, 660.386474609375, 625.7485961914062, 609.204345703125, 606.9622192382812, 602.7078857421875, 571.1625366210938, 560.18408203125, 536.4441528320312, 522.4369506835938, 512.4613647460938, 507.2917175292969, 483.453369140625, 476.7925720214844, 1817.3743896484375, 5027.3369140625, 2000.709716796875, 2193.1982421875, 698.94921875, 837.4779663085938, 1239.574462890625, 756.2592163085938, 773.8992919921875], \"Term\": [\"room_N\", \"village_N\", \"host_N\", \"kind_N\", \"clean_J\", \"time_N\", \"accommodation_N\", \"go_V\", \"hanok_J\", \"location_N\", \"hanok_N\", \"quiet_J\", \"stay_N\", \"next_J\", \"jeonju_N\", \"thank_N\", \"come_V\", \"house_N\", \"well_R\", \"night_N\", \"take_V\", \"little_J\", \"locate_V\", \"stay_V\", \"much_J\", \"want_V\", \"visit_N\", \"place_N\", \"bathroom_N\", \"trip_N\", \"room_N\", \"clean_J\", \"bathroom_N\", \"clean_N\", \"warm_J\", \"water_N\", \"nice_N\", \"neat_N\", \"warm_N\", \"hot_J\", \"cozy_N\", \"towel_N\", \"bed_V\", \"bed_N\", \"neat_J\", \"air_N\", \"pretty_N\", \"enough_R\", \"spacious_J\", \"conditioner_N\", \"wide_J\", \"toilet_N\", \"new_J\", \"blanket_N\", \"pretty_J\", \"haha_N\", \"heat_V\", \"perfect_N\", \"size_N\", \"living_N\", \"small_J\", \"comfortable_J\", \"picture_N\", \"well_R\", \"big_J\", \"nice_J\", \"pretty_R\", \"everything_N\", \"people_N\", \"really_R\", \"house_N\", \"place_N\", \"stay_V\", \"quiet_J\", \"night_N\", \"little_J\", \"floor_N\", \"beautiful_J\", \"traditional_J\", \"korean_J\", \"park_V\", \"garden_N\", \"coffee_N\", \"store_N\", \"convenience_N\", \"parking_N\", \"bit_N\", \"uncomfortable_J\", \"view_N\", \"guest_J\", \"there's_N\", \"door_N\", \"park_N\", \"southern_J\", \"cat_N\", \"front_N\", \"lovely_R\", \"beautiful_N\", \"see_N\", \"noise_N\", \"sleep_N\", \"wonderful_J\", \"early_J\", \"house_N\", \"morning_N\", \"lot_N\", \"experience_N\", \"however_R\", \"hanok_N\", \"place_N\", \"nice_J\", \"lodging_N\", \"breakfast_N\", \"many_J\", \"go_V\", \"space_N\", \"time_N\", \"stay_N\", \"next_J\", \"come_V\", \"want_V\", \"visit_N\", \"back_R\", \"use_N\", \"friend_N\", \"want_J\", \"hard_J\", \"definitely_R\", \"fruit_N\", \"i'll_N\", \"i'd_N\", \"want_N\", \"stay_J\", \"find_N\", \"fun_N\", \"parent_N\", \"year_N\", \"chance_N\", \"cold_N\", \"later_R\", \"long_J\", \"anything_N\", \"recommendation_N\", \"come_N\", \"everyone_N\", \"soundproof_V\", \"go_V\", \"jeonju_N\", \"stay_V\", \"family_N\", \"trip_N\", \"recommend_V\", \"place_N\", \"travel_V\", \"happy_J\", \"first_J\", \"visit_V\", \"day_N\", \"jeonju_J\", \"think_V\", \"really_R\", \"like_V\", \"make_V\", \"i'm_N\", \"village_N\", \"hanok_J\", \"locate_V\", \"close_R\", \"convenient_N\", \"walk_V\", \"restaurant_N\", \"walk_N\", \"minute_N\", \"street_N\", \"close_J\", \"away_R\", \"market_N\", \"right_R\", \"far_R\", \"main_J\", \"tourist_N\", \"attraction_N\", \"taxi_N\", \"station_N\", \"distance_N\", \"convenient_J\", \"bus_N\", \"center_N\", \"nice_R\", \"arrival_N\", \"front_J\", \"entrance_N\", \"city_N\", \"post_V\", \"hanok_N\", \"easy_J\", \"location_N\", \"many_J\", \"area_N\", \"find_V\", \"take_V\", \"jeonju_N\", \"place_N\", \"nice_J\", \"host_N\", \"kind_N\", \"rest_N\", \"give_V\", \"thanks_N\", \"check_V\", \"check_N\", \"owner_N\", \"care_N\", \"highly_R\", \"recommend_N\", \"friendly_J\", \"friendly_R\", \"bos_N\", \"kindly_R\", \"help_V\", \"helpful_J\", \"quickly_R\", \"question_N\", \"call_V\", \"tell_V\", \"ask_V\", \"tea_N\", \"help_N\", \"explain_V\", \"recommend_J\", \"please_V\", \"free_J\", \"aunt_N\", \"message_N\", \"take_V\", \"make_V\", \"arrive_V\", \"reservation_N\", \"leave_V\", \"day_N\", \"late_J\", \"able_J\", \"delicious_J\", \"breakfast_N\", \"nice_J\", \"trip_N\", \"really_R\", \"accommodation_N\", \"thank_N\", \"much_J\", \"price_N\", \"enjoy_V\", \"satisfy_V\", \"perfect_J\", \"expect_V\", \"welcome_V\", \"kindness_N\", \"i've_N\", \"much_R\", \"consideration_N\", \"thought_N\", \"tv_N\", \"careful_J\", \"relax_V\", \"thank_R\", \"full_J\", \"show_V\", \"cleanliness_N\", \"satisfied_J\", \"host_V\", \"person_N\", \"master_N\", \"week_N\", \"yard_N\", \"last_J\", \"president_N\", \"care_V\", \"best_J\", \"location_N\", \"like_V\", \"well_R\", \"provide_V\", \"facility_N\", \"really_R\", \"love_V\", \"breakfast_N\"], \"Total\": [16435.0, 12964.0, 9947.0, 9206.0, 10577.0, 7955.0, 6604.0, 9124.0, 7003.0, 8262.0, 8175.0, 5966.0, 5594.0, 5364.0, 7502.0, 4631.0, 5259.0, 7831.0, 7125.0, 4184.0, 5483.0, 3876.0, 3615.0, 5033.0, 2958.0, 3317.0, 3296.0, 10928.0, 3669.0, 4458.0, 16435.115234375, 10577.349609375, 3669.030029296875, 3420.3359375, 2715.236572265625, 2126.681884765625, 1993.3333740234375, 1959.9404296875, 1739.7156982421875, 1721.978759765625, 1710.057373046875, 1626.93505859375, 1583.3665771484375, 1448.138916015625, 1364.1461181640625, 1342.788818359375, 1054.5491943359375, 877.950439453125, 883.3474731445312, 841.3217163085938, 735.9943237304688, 717.82568359375, 690.3905029296875, 662.3169555664062, 620.4154663085938, 608.6990966796875, 601.0281982421875, 579.4837036132812, 532.492919921875, 535.6510620117188, 3648.59765625, 4715.40234375, 2648.065673828125, 7125.212890625, 1795.72998046875, 11081.5244140625, 2316.281005859375, 2083.66748046875, 2553.060302734375, 7656.470703125, 7831.04150390625, 10928.990234375, 5033.3076171875, 5966.58984375, 4184.1025390625, 3876.349853515625, 2784.162841796875, 2376.47998046875, 1517.243408203125, 1420.839599609375, 1353.50537109375, 1300.271240234375, 1284.0960693359375, 1130.3125, 1065.628662109375, 1029.15771484375, 949.868896484375, 939.8349609375, 965.4100952148438, 900.4251708984375, 856.2048950195312, 823.49267578125, 749.5866088867188, 663.7069702148438, 671.7412109375, 664.9816284179688, 638.2958374023438, 619.9771728515625, 608.6364135742188, 593.9288330078125, 579.8538208007812, 572.025634765625, 536.1848754882812, 7831.04150390625, 2429.76318359375, 2691.7578125, 1634.8924560546875, 891.4522705078125, 8175.29541015625, 10928.990234375, 11081.5244140625, 980.8612670898438, 3242.8779296875, 2180.410888671875, 9124.5576171875, 1642.514404296875, 7955.283203125, 5594.46533203125, 5364.36669921875, 5259.806640625, 3317.0107421875, 3296.534912109375, 2457.5029296875, 2174.5048828125, 1778.1600341796875, 1180.8463134765625, 1082.6656494140625, 880.8568115234375, 803.8779296875, 827.909423828125, 768.0996704101562, 673.1578979492188, 610.3737182617188, 600.71923828125, 599.2759399414062, 524.0396728515625, 515.822021484375, 509.7310485839844, 468.5401611328125, 468.5613098144531, 451.31671142578125, 443.7799987792969, 411.6400146484375, 394.4068603515625, 388.4380187988281, 375.3222961425781, 9124.5576171875, 7502.42919921875, 5033.3076171875, 2404.5087890625, 4458.17236328125, 2809.90380859375, 10928.990234375, 848.1268310546875, 1533.524169921875, 1916.9549560546875, 1035.4063720703125, 4304.904296875, 1349.1463623046875, 2984.748291015625, 7656.470703125, 3120.63720703125, 3569.71142578125, 1686.712158203125, 12964.2099609375, 7003.06103515625, 3615.1474609375, 2595.9267578125, 2403.265869140625, 2202.701416015625, 2030.2542724609375, 1952.59423828125, 1933.03515625, 1559.6119384765625, 1438.509765625, 1409.3795166015625, 1310.576416015625, 1137.9736328125, 1101.4345703125, 1054.333251953125, 1050.4560546875, 978.9000854492188, 946.8236083984375, 957.2780151367188, 847.5347290039062, 833.739501953125, 781.9388427734375, 758.0577392578125, 656.7493896484375, 618.4923095703125, 567.4966430664062, 521.7938842773438, 539.2091064453125, 502.23858642578125, 8175.29541015625, 1929.7545166015625, 8262.3740234375, 2180.410888671875, 1437.9127197265625, 2058.182373046875, 5483.9287109375, 7502.42919921875, 10928.990234375, 11081.5244140625, 9947.85546875, 9206.962890625, 2424.392333984375, 2014.2890625, 1999.6083984375, 1459.652099609375, 1379.8001708984375, 1292.238525390625, 1179.8167724609375, 1063.486572265625, 1039.955322265625, 1008.1070556640625, 958.94677734375, 918.0703735351562, 928.08203125, 900.017822265625, 763.9505615234375, 647.9232177734375, 630.8897094726562, 612.6934204101562, 603.3198852539062, 591.68408203125, 550.3692626953125, 543.9099731445312, 539.615234375, 456.6181945800781, 418.2751159667969, 385.6805725097656, 359.9510192871094, 373.5915222167969, 5483.9287109375, 3569.71142578125, 1354.480224609375, 1658.6300048828125, 1183.7598876953125, 4304.904296875, 1188.52001953125, 1204.666259765625, 1413.2894287109375, 3242.8779296875, 11081.5244140625, 4458.17236328125, 7656.470703125, 6604.46044921875, 4631.30029296875, 2958.982421875, 2211.7333984375, 1880.91259765625, 1539.303466796875, 1160.5478515625, 1108.232177734375, 992.4369506835938, 928.76171875, 867.4815673828125, 831.6314697265625, 807.4031982421875, 751.811279296875, 728.7950439453125, 714.6766357421875, 690.5376586914062, 660.5840454101562, 625.94677734375, 609.4013061523438, 607.1622924804688, 602.9075927734375, 571.3587646484375, 560.3812866210938, 536.6375122070312, 522.6310424804688, 512.65478515625, 507.4866943359375, 483.643798828125, 476.98919677734375, 2328.781982421875, 8262.3740234375, 3120.63720703125, 7125.212890625, 1013.9449462890625, 1673.7293701171875, 7656.470703125, 1709.592529296875, 3242.8779296875], \"loglift\": [30.0, 29.0, 28.0, 27.0, 26.0, 25.0, 24.0, 23.0, 22.0, 21.0, 20.0, 19.0, 18.0, 17.0, 16.0, 15.0, 14.0, 13.0, 12.0, 11.0, 10.0, 9.0, 8.0, 7.0, 6.0, 5.0, 4.0, 3.0, 2.0, 1.0, 1.5410000085830688, 1.5410000085830688, 1.5408999919891357, 1.5408999919891357, 1.5408999919891357, 1.5408999919891357, 1.5408999919891357, 1.5408999919891357, 1.5408999919891357, 1.5408999919891357, 1.5408999919891357, 1.5407999753952026, 1.5407999753952026, 1.5407999753952026, 1.5407999753952026, 1.5407999753952026, 1.5407999753952026, 1.5406999588012695, 1.5406999588012695, 1.5406999588012695, 1.5406999588012695, 1.5406999588012695, 1.5406999588012695, 1.5406999588012695, 1.5405999422073364, 1.5405999422073364, 1.5405999422073364, 1.5405999422073364, 1.5405999422073364, 1.5405999422073364, 1.3320000171661377, 1.291700005531311, 1.3271000385284424, 1.1729999780654907, 1.3456000089645386, 0.9957000017166138, 1.2625999450683594, 1.226699948310852, 1.0390000343322754, 0.542900025844574, 0.42179998755455017, -0.2152000069618225, 0.0731000006198883, 1.7402000427246094, 1.7402000427246094, 1.7402000427246094, 1.7402000427246094, 1.7402000427246094, 1.7401000261306763, 1.7401000261306763, 1.7401000261306763, 1.7401000261306763, 1.7401000261306763, 1.7401000261306763, 1.7401000261306763, 1.7401000261306763, 1.7400000095367432, 1.7400000095367432, 1.7400000095367432, 1.7400000095367432, 1.7400000095367432, 1.7400000095367432, 1.7400000095367432, 1.7400000095367432, 1.7400000095367432, 1.73989999294281, 1.73989999294281, 1.73989999294281, 1.73989999294281, 1.73989999294281, 1.73989999294281, 1.73989999294281, 1.73989999294281, 1.3447999954223633, 1.3740999698638916, 1.3209999799728394, 1.3835999965667725, 1.534500002861023, 0.2556000053882599, -0.016499999910593033, -0.19339999556541443, 1.4646999835968018, 0.5992000102996826, 0.8503999710083008, -0.4666000008583069, 0.982200026512146, 1.779099941253662, 1.779099941253662, 1.779099941253662, 1.779099941253662, 1.779099941253662, 1.779099941253662, 1.779099941253662, 1.779099941253662, 1.7790000438690186, 1.7790000438690186, 1.7790000438690186, 1.7789000272750854, 1.7789000272750854, 1.7789000272750854, 1.7789000272750854, 1.7789000272750854, 1.7788000106811523, 1.7788000106811523, 1.7788000106811523, 1.7788000106811523, 1.7788000106811523, 1.7788000106811523, 1.7786999940872192, 1.7786999940872192, 1.7786999940872192, 1.7786999940872192, 1.7786999940872192, 1.7785999774932861, 1.7785999774932861, 1.7785999774932861, 1.662500023841858, 1.5398999452590942, 1.5170999765396118, 1.590999960899353, 1.5134999752044678, 1.5185999870300293, 1.0987999439239502, 1.6217999458312988, 1.4199999570846558, 1.2756999731063843, 1.4981000423431396, 0.7063999772071838, 1.3224999904632568, 0.8355000019073486, 0.18330000340938568, 0.7540000081062317, 0.5968999862670898, 1.0995999574661255, 1.8341000080108643, 1.8341000080108643, 1.8341000080108643, 1.8339999914169312, 1.8339999914169312, 1.8339999914169312, 1.8339999914169312, 1.8339999914169312, 1.8339999914169312, 1.8339999914169312, 1.8339999914169312, 1.8339999914169312, 1.8339999914169312, 1.833899974822998, 1.833899974822998, 1.833899974822998, 1.833899974822998, 1.833899974822998, 1.833899974822998, 1.833899974822998, 1.833899974822998, 1.833899974822998, 1.833899974822998, 1.833899974822998, 1.833799958229065, 1.833799958229065, 1.833799958229065, 1.8336999416351318, 1.8336999416351318, 1.8336999416351318, 1.5771000385284424, 1.6862000226974487, 0.8963000178337097, 1.304900050163269, 1.382599949836731, 1.1828999519348145, 0.5914999842643738, 0.28619998693466187, -0.0851999968290329, -0.5415999889373779, 1.9013999700546265, 1.9013999700546265, 1.9012999534606934, 1.9012999534606934, 1.9012999534606934, 1.9012999534606934, 1.9012000560760498, 1.9012000560760498, 1.9012000560760498, 1.9012000560760498, 1.9012000560760498, 1.9012000560760498, 1.9012000560760498, 1.9012000560760498, 1.9012000560760498, 1.9012000560760498, 1.9011000394821167, 1.9011000394821167, 1.9011000394821167, 1.9011000394821167, 1.9011000394821167, 1.9011000394821167, 1.9010000228881836, 1.9010000228881836, 1.9010000228881836, 1.9010000228881836, 1.9009000062942505, 1.9009000062942505, 1.9009000062942505, 1.9009000062942505, 1.5607000589370728, 1.535099983215332, 1.67330002784729, 1.5943000316619873, 1.6354999542236328, 1.2310999631881714, 1.6223000288009644, 1.6060999631881714, 1.5127999782562256, 1.0841000080108643, 0.1965000033378601, 0.4453999996185303, -0.28790000081062317, 2.021399974822998, 2.021399974822998, 2.021399974822998, 2.021399974822998, 2.021399974822998, 2.0213000774383545, 2.0213000774383545, 2.0213000774383545, 2.0213000774383545, 2.0213000774383545, 2.021199941635132, 2.021199941635132, 2.021199941635132, 2.021199941635132, 2.021199941635132, 2.021199941635132, 2.021199941635132, 2.021199941635132, 2.021199941635132, 2.0211000442504883, 2.0211000442504883, 2.0211000442504883, 2.0211000442504883, 2.0211000442504883, 2.0211000442504883, 2.0211000442504883, 2.0211000442504883, 2.0211000442504883, 2.0211000442504883, 2.0211000442504883, 1.7734999656677246, 1.5246000289916992, 1.5769000053405762, 0.8432000279426575, 1.649399995803833, 1.3291000127792358, 0.20069999992847443, 1.2058000564575195, 0.588699996471405], \"logprob\": [30.0, 29.0, 28.0, 27.0, 26.0, 25.0, 24.0, 23.0, 22.0, 21.0, 20.0, 19.0, 18.0, 17.0, 16.0, 15.0, 14.0, 13.0, 12.0, 11.0, 10.0, 9.0, 8.0, 7.0, 6.0, 5.0, 4.0, 3.0, 2.0, 1.0, -2.3375000953674316, -2.7783000469207764, -3.837100028991699, -3.9072999954223633, -4.1381001472473145, -4.382500171661377, -4.447199821472168, -4.464099884033203, -4.5833001136779785, -4.593599796295166, -4.600500106811523, -4.650400161743164, -4.677499771118164, -4.7667999267578125, -4.826600074768066, -4.842400074005127, -5.084000110626221, -5.267300128936768, -5.261199951171875, -5.309999942779541, -5.44379997253418, -5.468800067901611, -5.507699966430664, -5.549300193786621, -5.61460018157959, -5.633699893951416, -5.646399974822998, -5.6828999519348145, -5.767499923706055, -5.761600017547607, -4.051599979400635, -3.835400104522705, -4.376999855041504, -3.541300058364868, -4.7469000816345215, -3.276900053024292, -4.575399875640869, -4.717100143432617, -4.701600074768066, -4.099400043487549, -4.197999954223633, -4.501699924468994, -4.988699913024902, -3.1514999866485596, -3.5064001083374023, -3.5827999114990234, -3.913800001144409, -4.0721001625061035, -4.520899772644043, -4.586599826812744, -4.6350998878479, -4.67519998550415, -4.68779993057251, -4.815400123596191, -4.874300003051758, -4.90910005569458, -4.989299774169922, -4.999899864196777, -4.973100185394287, -5.042799949645996, -5.093100070953369, -5.1321001052856445, -5.226200103759766, -5.347899913787842, -5.3358001708984375, -5.3460001945495605, -5.386899948120117, -5.416100025177002, -5.434500217437744, -5.459000110626221, -5.482999801635742, -5.496600151062012, -5.561299800872803, -3.2750000953674316, -4.415999889373779, -4.366799831390381, -4.802800178527832, -5.258299827575684, -4.321199893951416, -4.302999973297119, -4.466100215911865, -5.232600212097168, -4.902299880981445, -5.047999858856201, -4.933499813079834, -5.19950008392334, -2.825000047683716, -3.177000045776367, -3.2190001010894775, -3.2386999130249023, -3.6998000144958496, -3.7060000896453857, -3.9997000694274902, -4.122099876403809, -4.323299884796143, -4.732699871063232, -4.819499969482422, -5.025899887084961, -5.117300033569336, -5.087900161743164, -5.162899971008301, -5.2947998046875, -5.3927998542785645, -5.408699989318848, -5.411099910736084, -5.545300006866455, -5.561100006103516, -5.572999954223633, -5.657299995422363, -5.657299995422363, -5.694799900054932, -5.711599826812744, -5.786799907684326, -5.829599857330322, -5.844900131225586, -5.879199981689453, -2.804500102996826, -3.12280011177063, -3.5446999073028564, -4.20959997177124, -3.6696999073028564, -4.126200199127197, -3.187700033187866, -5.220799922943115, -4.830399990081787, -4.751500129699707, -5.145100116729736, -4.5117998123168945, -5.056000232696533, -4.748899936676025, -4.459000110626221, -4.785900115966797, -4.808499813079834, -5.055600166320801, -2.281599998474121, -2.8975000381469727, -3.5587000846862793, -3.889899969100952, -3.9670000076293945, -4.054200172424316, -4.135700225830078, -4.174699783325195, -4.184800148010254, -4.399499893188477, -4.480299949645996, -4.500800132751465, -4.573500156402588, -4.714700222015381, -4.747399806976318, -4.791100025177002, -4.7947998046875, -4.865300178527832, -4.898600101470947, -4.887700080871582, -5.009500026702881, -5.025899887084961, -5.090000152587891, -5.121099948883057, -5.264599800109863, -5.3246002197265625, -5.410699844360352, -5.494699954986572, -5.4618000984191895, -5.532899856567383, -2.9997000694274902, -4.3343000411987305, -3.6698999404907227, -4.593500137329102, -4.93209981918335, -4.773200035095215, -4.3846001625061035, -4.376500129699707, -4.371699810028076, -4.814300060272217, -2.4791998863220215, -2.5566000938415527, -3.8910000324249268, -4.076399803161621, -4.083700180053711, -4.398499965667725, -4.454699993133545, -4.520299911499023, -4.611299991607666, -4.715199947357178, -4.737500190734863, -4.768700122833252, -4.818699836730957, -4.862199783325195, -4.851399898529053, -4.8821001052856445, -5.046000003814697, -5.2108001708984375, -5.237500190734863, -5.26669979095459, -5.282199859619141, -5.301599979400635, -5.374100208282471, -5.385900020599365, -5.393799781799316, -5.5609002113342285, -5.648600101470947, -5.729800224304199, -5.798799991607666, -5.761600017547607, -3.4154000282287598, -3.8703999519348145, -4.701200008392334, -4.577600002288818, -4.873700141906738, -3.9870998859405518, -4.882999897003174, -4.8856000900268555, -4.819200038909912, -4.417399883270264, -4.076099872589111, -4.737800121307373, -4.930300235748291, -2.768699884414673, -3.123699903488159, -3.571700096130371, -3.862799882888794, -4.024799823760986, -4.225299835205078, -4.507699966430664, -4.553899765014648, -4.6641998291015625, -4.730599880218506, -4.798799991607666, -4.841100215911865, -4.87060022354126, -4.941999912261963, -4.973100185394287, -4.992700099945068, -5.0269999504089355, -5.071400165557861, -5.12529993057251, -5.152100086212158, -5.155700206756592, -5.162799835205078, -5.2164998054504395, -5.235899925231934, -5.279200077056885, -5.305699825286865, -5.324999809265137, -5.335100173950195, -5.383299827575684, -5.39709997177124, -4.059100151062012, -3.041599988937378, -3.9630000591278076, -3.8710999488830566, -5.014599800109863, -4.833799839019775, -4.441699981689453, -4.935800075531006, -4.912799835205078]}, \"token.table\": {\"Topic\": [2, 5, 6, 1, 3, 2, 4, 4, 2, 5, 5, 4, 5, 4, 3, 1, 2, 2, 1, 1, 3, 6, 1, 2, 2, 1, 5, 2, 5, 6, 4, 5, 5, 6, 6, 2, 4, 3, 5, 5, 4, 1, 1, 6, 4, 4, 2, 3, 3, 3, 1, 3, 5, 1, 6, 2, 4, 4, 1, 2, 3, 5, 3, 2, 5, 4, 2, 2, 4, 5, 6, 1, 4, 3, 1, 6, 6, 2, 3, 5, 1, 4, 6, 3, 6, 4, 3, 2, 3, 4, 2, 3, 2, 5, 3, 5, 5, 4, 2, 3, 6, 3, 2, 5, 2, 3, 2, 1, 4, 2, 4, 3, 5, 3, 1, 5, 5, 5, 5, 5, 6, 1, 1, 2, 1, 2, 4, 3, 3, 3, 5, 6, 6, 3, 4, 3, 4, 5, 5, 6, 2, 6, 2, 5, 3, 2, 5, 3, 6, 2, 1, 4, 4, 6, 1, 2, 3, 2, 5, 6, 2, 3, 6, 2, 4, 3, 5, 2, 4, 4, 6, 5, 4, 2, 5, 6, 6, 1, 1, 1, 3, 1, 2, 3, 4, 5, 6, 1, 4, 2, 2, 5, 3, 2, 2, 2, 1, 2, 3, 6, 1, 6, 1, 6, 1, 2, 3, 4, 5, 6, 5, 4, 6, 1, 1, 1, 2, 6, 5, 6, 5, 5, 2, 1, 2, 3, 4, 5, 6, 5, 5, 3, 5, 3, 6, 3, 5, 5, 4, 4, 1, 6, 6, 2, 6, 1, 2, 1, 2, 3, 2, 1, 2, 1, 4, 3, 3, 1, 3, 2, 4, 4, 5, 4, 5, 5, 6, 6, 5, 2, 1, 2, 3, 4, 5, 6, 6, 3, 1, 4, 1, 2, 3, 4, 3, 5, 6, 2, 3, 2, 4, 3, 3, 4, 4, 4, 3, 3, 3, 1, 1, 1, 6, 6, 1, 6, 1, 2, 6, 3], \"Freq\": [0.25567248463630676, 0.7446045875549316, 0.9999302625656128, 1.0001572370529175, 1.0004957914352417, 0.3630262017250061, 0.6363390684127808, 0.9992040395736694, 0.20376820862293243, 0.7958772778511047, 0.9988438487052917, 1.0001020431518555, 1.0001360177993774, 0.9997307062149048, 0.9997953772544861, 0.9999918341636658, 0.9997979998588562, 1.0000368356704712, 0.9999040961265564, 0.9997684955596924, 0.21942801773548126, 0.7802361845970154, 0.8225067257881165, 0.1770867556333542, 1.0001380443572998, 0.9995214343070984, 0.9999233484268188, 0.3194693326950073, 0.4415830671787262, 0.23867689073085785, 1.0000782012939453, 0.9988682270050049, 1.0001553297042847, 1.0000226497650146, 0.9990532398223877, 1.0003852844238281, 0.999923825263977, 1.0005276203155518, 1.0001448392868042, 0.9995532631874084, 0.9996122121810913, 0.9999669194221497, 0.9999017715454102, 0.9997327327728271, 0.9996456503868103, 1.0000282526016235, 0.9999251961708069, 0.9988471269607544, 0.9989684224128723, 1.0000367164611816, 0.779360830783844, 0.11748732626438141, 0.102854423224926, 0.9996175765991211, 0.9995006322860718, 0.9994100332260132, 1.0003124475479126, 0.9998893737792969, 0.9999664425849915, 0.14611242711544037, 0.3421678841114044, 0.5115096569061279, 1.0001626014709473, 0.3219439685344696, 0.6778512597084045, 0.9993690848350525, 0.9994017481803894, 0.9996551871299744, 0.862285852432251, 0.13732317090034485, 1.0000464916229248, 1.000056505203247, 1.0003950595855713, 0.9988723397254944, 0.7304428219795227, 0.26923680305480957, 0.9997904896736145, 0.6997402310371399, 0.2997139096260071, 0.9988598823547363, 0.33637458086013794, 0.16251133382320404, 0.5000808238983154, 0.8284436464309692, 0.17134477198123932, 0.9996054768562317, 1.0004674196243286, 0.25167837738990784, 0.22641336917877197, 0.5213337540626526, 0.39541879296302795, 0.6046047210693359, 0.9999415278434753, 0.9982354044914246, 0.9999099969863892, 0.9998937845230103, 1.0000555515289307, 0.9991248250007629, 1.0000276565551758, 1.0001518726348877, 1.0000849962234497, 0.9995395541191101, 0.9997913837432861, 0.9998564720153809, 0.11003272980451584, 0.8899061679840088, 0.9995278120040894, 0.998851478099823, 0.9999912977218628, 0.22653615474700928, 0.7733054161071777, 0.698391318321228, 0.3012668490409851, 0.9993851780891418, 0.9999530911445618, 1.0001654624938965, 0.9999802112579346, 1.000064730644226, 0.9995424747467041, 1.0000145435333252, 0.9993720650672913, 1.0000122785568237, 0.3265210688114166, 0.6733459234237671, 0.12227238714694977, 0.8144014477729797, 0.0639406070113182, 0.999870240688324, 1.0001094341278076, 0.506903350353241, 0.23359054327011108, 0.25908392667770386, 0.999444842338562, 0.6337340474128723, 0.3661574423313141, 0.7872117161750793, 0.21273109316825867, 1.0000040531158447, 0.9999116063117981, 1.0002565383911133, 1.0001128911972046, 0.999040961265564, 0.24315956234931946, 0.7564029097557068, 0.9988020658493042, 0.23315538465976715, 0.7662026882171631, 0.358580619096756, 0.6412152051925659, 0.9999097585678101, 0.9987845420837402, 0.9999592304229736, 0.3914129137992859, 0.6084207892417908, 0.24060487747192383, 0.7595365643501282, 0.9992982745170593, 0.6575628519058228, 0.22215965390205383, 0.11999593675136566, 0.2930522859096527, 0.2638055384159088, 0.4422106444835663, 0.9995365142822266, 0.9996839165687561, 0.30646735429763794, 0.6933333277702332, 0.4109317362308502, 0.5888798236846924, 0.9995601773262024, 0.9988120198249817, 0.9984166622161865, 0.9999818205833435, 0.6934832334518433, 0.3062026798725128, 1.0000059604644775, 0.9992406964302063, 0.9998928904533386, 1.0000303983688354, 0.9994343519210815, 0.9999316334724426, 0.5797036290168762, 0.14465518295764923, 0.0004512014565989375, 0.09294749796390533, 0.18183419108390808, 0.0004512014565989375, 0.9998327493667603, 1.000381588935852, 0.9999755024909973, 1.0001198053359985, 0.9998154044151306, 0.9999243021011353, 0.9992174506187439, 0.999626636505127, 0.9998467564582825, 0.6051560640335083, 0.16019989550113678, 0.2342287003993988, 0.9995279312133789, 0.9991652965545654, 0.9993196129798889, 0.807381808757782, 0.19221577048301697, 0.1727515459060669, 0.17256854474544525, 0.5064511895179749, 0.14667411148548126, 0.000731998065020889, 0.0008234978304244578, 0.9993422627449036, 0.9995249509811401, 0.9986688494682312, 0.9993303418159485, 0.9994792342185974, 0.7568166255950928, 0.24263031780719757, 1.0001205205917358, 0.3106677532196045, 0.6893865466117859, 1.0001747608184814, 1.0001184940338135, 0.9999011158943176, 0.36857712268829346, 0.08097726106643677, 0.20270435512065887, 0.07379379123449326, 0.1119314655661583, 0.16195452213287354, 0.9986461400985718, 1.0000429153442383, 0.7704890370368958, 0.22918933629989624, 0.9984452128410339, 0.9992213845252991, 0.26407337188720703, 0.7355468273162842, 0.9998381733894348, 0.9998747706413269, 1.0000231266021729, 0.9999929666519165, 1.0001533031463623, 0.999802827835083, 0.9989543557167053, 0.9993414878845215, 0.9990743398666382, 1.0002521276474, 0.8112705945968628, 0.18856559693813324, 0.999141275882721, 1.000441551208496, 0.5308933854103088, 0.46879345178604126, 0.9996066689491272, 0.9997096061706543, 0.9993877410888672, 0.9999168515205383, 0.23046475648880005, 0.7694741487503052, 0.9997235536575317, 0.9996076226234436, 0.2886616587638855, 0.7113513350486755, 1.0001863241195679, 0.9993290901184082, 0.9994698166847229, 0.9999351501464844, 0.9991158843040466, 0.9996957182884216, 0.9997606873512268, 0.27573513984680176, 0.18058474361896515, 0.3893125653266907, 0.001005109865218401, 0.0006700732628814876, 0.15277670323848724, 1.000251054763794, 0.9999644160270691, 1.000242829322815, 0.999565839767456, 1.0000399351119995, 0.9998395442962646, 0.854824960231781, 0.14502547681331635, 0.7666819095611572, 0.23327945172786713, 1.0002812147140503, 1.0001755952835083, 0.9997678399085999, 0.9995751976966858, 0.9999837875366211, 0.9998377561569214, 0.7552590370178223, 0.24434851109981537, 0.9996956586837769, 0.9996815919876099, 1.0001301765441895, 0.9997654557228088, 0.9999967813491821, 0.9999128580093384, 1.0001634359359741, 0.9996793866157532, 0.9987925887107849, 0.9995597004890442, 0.692049503326416, 0.30778026580810547, 1.0000077486038208, 0.9999551773071289, 0.9987227320671082, 1.00034499168396], \"Term\": [\"able_J\", \"able_J\", \"accommodation_N\", \"air_N\", \"anything_N\", \"area_N\", \"area_N\", \"arrival_N\", \"arrive_V\", \"arrive_V\", \"ask_V\", \"attraction_N\", \"aunt_N\", \"away_R\", \"back_R\", \"bathroom_N\", \"beautiful_J\", \"beautiful_N\", \"bed_N\", \"bed_V\", \"best_J\", \"best_J\", \"big_J\", \"big_J\", \"bit_N\", \"blanket_N\", \"bos_N\", \"breakfast_N\", \"breakfast_N\", \"breakfast_N\", \"bus_N\", \"call_V\", \"care_N\", \"care_V\", \"careful_J\", \"cat_N\", \"center_N\", \"chance_N\", \"check_N\", \"check_V\", \"city_N\", \"clean_J\", \"clean_N\", \"cleanliness_N\", \"close_J\", \"close_R\", \"coffee_N\", \"cold_N\", \"come_N\", \"come_V\", \"comfortable_J\", \"comfortable_J\", \"comfortable_J\", \"conditioner_N\", \"consideration_N\", \"convenience_N\", \"convenient_J\", \"convenient_N\", \"cozy_N\", \"day_N\", \"day_N\", \"day_N\", \"definitely_R\", \"delicious_J\", \"delicious_J\", \"distance_N\", \"door_N\", \"early_J\", \"easy_J\", \"easy_J\", \"enjoy_V\", \"enough_R\", \"entrance_N\", \"everyone_N\", \"everything_N\", \"everything_N\", \"expect_V\", \"experience_N\", \"experience_N\", \"explain_V\", \"facility_N\", \"facility_N\", \"facility_N\", \"family_N\", \"family_N\", \"far_R\", \"find_N\", \"find_V\", \"find_V\", \"find_V\", \"first_J\", \"first_J\", \"floor_N\", \"free_J\", \"friend_N\", \"friendly_J\", \"friendly_R\", \"front_J\", \"front_N\", \"fruit_N\", \"full_J\", \"fun_N\", \"garden_N\", \"give_V\", \"go_V\", \"go_V\", \"guest_J\", \"haha_N\", \"hanok_J\", \"hanok_N\", \"hanok_N\", \"happy_J\", \"happy_J\", \"hard_J\", \"heat_V\", \"help_N\", \"help_V\", \"helpful_J\", \"highly_R\", \"host_N\", \"host_V\", \"hot_J\", \"house_N\", \"house_N\", \"however_R\", \"however_R\", \"however_R\", \"i'd_N\", \"i'll_N\", \"i'm_N\", \"i'm_N\", \"i'm_N\", \"i've_N\", \"jeonju_J\", \"jeonju_J\", \"jeonju_N\", \"jeonju_N\", \"kind_N\", \"kindly_R\", \"kindness_N\", \"korean_J\", \"last_J\", \"late_J\", \"late_J\", \"later_R\", \"leave_V\", \"leave_V\", \"like_V\", \"like_V\", \"little_J\", \"living_N\", \"locate_V\", \"location_N\", \"location_N\", \"lodging_N\", \"lodging_N\", \"long_J\", \"lot_N\", \"lot_N\", \"lot_N\", \"love_V\", \"love_V\", \"love_V\", \"lovely_R\", \"main_J\", \"make_V\", \"make_V\", \"many_J\", \"many_J\", \"market_N\", \"master_N\", \"message_N\", \"minute_N\", \"morning_N\", \"morning_N\", \"much_J\", \"much_R\", \"neat_J\", \"neat_N\", \"new_J\", \"next_J\", \"nice_J\", \"nice_J\", \"nice_J\", \"nice_J\", \"nice_J\", \"nice_J\", \"nice_N\", \"nice_R\", \"night_N\", \"noise_N\", \"owner_N\", \"parent_N\", \"park_N\", \"park_V\", \"parking_N\", \"people_N\", \"people_N\", \"people_N\", \"perfect_J\", \"perfect_N\", \"person_N\", \"picture_N\", \"picture_N\", \"place_N\", \"place_N\", \"place_N\", \"place_N\", \"place_N\", \"place_N\", \"please_V\", \"post_V\", \"president_N\", \"pretty_J\", \"pretty_N\", \"pretty_R\", \"pretty_R\", \"price_N\", \"provide_V\", \"provide_V\", \"question_N\", \"quickly_R\", \"quiet_J\", \"really_R\", \"really_R\", \"really_R\", \"really_R\", \"really_R\", \"really_R\", \"recommend_J\", \"recommend_N\", \"recommend_V\", \"recommend_V\", \"recommendation_N\", \"relax_V\", \"reservation_N\", \"reservation_N\", \"rest_N\", \"restaurant_N\", \"right_R\", \"room_N\", \"satisfied_J\", \"satisfy_V\", \"see_N\", \"show_V\", \"size_N\", \"sleep_N\", \"small_J\", \"small_J\", \"soundproof_V\", \"southern_J\", \"space_N\", \"space_N\", \"spacious_J\", \"station_N\", \"stay_J\", \"stay_N\", \"stay_V\", \"stay_V\", \"store_N\", \"street_N\", \"take_V\", \"take_V\", \"taxi_N\", \"tea_N\", \"tell_V\", \"thank_N\", \"thank_R\", \"thanks_N\", \"there's_N\", \"think_V\", \"think_V\", \"think_V\", \"think_V\", \"think_V\", \"think_V\", \"thought_N\", \"time_N\", \"toilet_N\", \"tourist_N\", \"towel_N\", \"traditional_J\", \"travel_V\", \"travel_V\", \"trip_N\", \"trip_N\", \"tv_N\", \"uncomfortable_J\", \"use_N\", \"view_N\", \"village_N\", \"visit_N\", \"visit_V\", \"visit_V\", \"walk_N\", \"walk_V\", \"want_J\", \"want_N\", \"want_V\", \"warm_J\", \"warm_N\", \"water_N\", \"week_N\", \"welcome_V\", \"well_R\", \"well_R\", \"wide_J\", \"wonderful_J\", \"yard_N\", \"year_N\"]}, \"R\": 30, \"lambda.step\": 0.01, \"plot.opts\": {\"xlab\": \"PC1\", \"ylab\": \"PC2\"}, \"topic.order\": [2, 3, 6, 5, 1, 4]};\n",
       "\n",
       "function LDAvis_load_lib(url, callback){\n",
       "  var s = document.createElement('script');\n",
       "  s.src = url;\n",
       "  s.async = true;\n",
       "  s.onreadystatechange = s.onload = callback;\n",
       "  s.onerror = function(){console.warn(\"failed to load library \" + url);};\n",
       "  document.getElementsByTagName(\"head\")[0].appendChild(s);\n",
       "}\n",
       "\n",
       "if(typeof(LDAvis) !== \"undefined\"){\n",
       "   // already loaded: just create the visualization\n",
       "   !function(LDAvis){\n",
       "       new LDAvis(\"#\" + \"ldavis_el1211623047388279847152367381\", ldavis_el1211623047388279847152367381_data);\n",
       "   }(LDAvis);\n",
       "}else if(typeof define === \"function\" && define.amd){\n",
       "   // require.js is available: use it to load d3/LDAvis\n",
       "   require.config({paths: {d3: \"https://cdnjs.cloudflare.com/ajax/libs/d3/3.5.5/d3.min\"}});\n",
       "   require([\"d3\"], function(d3){\n",
       "      window.d3 = d3;\n",
       "      LDAvis_load_lib(\"https://cdn.rawgit.com/bmabey/pyLDAvis/files/ldavis.v1.0.0.js\", function(){\n",
       "        new LDAvis(\"#\" + \"ldavis_el1211623047388279847152367381\", ldavis_el1211623047388279847152367381_data);\n",
       "      });\n",
       "    });\n",
       "}else{\n",
       "    // require.js not available: dynamically load d3 & LDAvis\n",
       "    LDAvis_load_lib(\"https://cdnjs.cloudflare.com/ajax/libs/d3/3.5.5/d3.min.js\", function(){\n",
       "         LDAvis_load_lib(\"https://cdn.rawgit.com/bmabey/pyLDAvis/files/ldavis.v1.0.0.js\", function(){\n",
       "                 new LDAvis(\"#\" + \"ldavis_el1211623047388279847152367381\", ldavis_el1211623047388279847152367381_data);\n",
       "            })\n",
       "         });\n",
       "}\n",
       "</script>"
      ],
      "text/plain": [
       "PreparedData(topic_coordinates=              x         y  topics  cluster       Freq\n",
       "topic                                                \n",
       "1     -0.226120 -0.132882       1        1  21.417206\n",
       "2     -0.022532 -0.091161       2        1  17.547485\n",
       "5      0.092795 -0.062569       3        1  16.878061\n",
       "4      0.204538  0.321307       4        1  15.975182\n",
       "0      0.215387 -0.211023       5        1  14.935984\n",
       "3     -0.264070  0.176329       6        1  13.246089, topic_info=     Category          Freq             Term         Total  loglift  logprob\n",
       "term                                                                        \n",
       "84    Default  16435.000000           room_N  16435.000000  30.0000  30.0000\n",
       "289   Default  12964.000000        village_N  12964.000000  29.0000  29.0000\n",
       "2     Default   9947.000000           host_N   9947.000000  28.0000  28.0000\n",
       "107   Default   9206.000000           kind_N   9206.000000  27.0000  27.0000\n",
       "28    Default  10577.000000          clean_J  10577.000000  26.0000  26.0000\n",
       "19    Default   7955.000000           time_N   7955.000000  25.0000  25.0000\n",
       "5     Default   6604.000000  accommodation_N   6604.000000  24.0000  24.0000\n",
       "14    Default   9124.000000             go_V   9124.000000  23.0000  23.0000\n",
       "3780  Default   7003.000000          hanok_J   7003.000000  22.0000  22.0000\n",
       "45    Default   8262.000000       location_N   8262.000000  21.0000  21.0000\n",
       "1843  Default   8175.000000          hanok_N   8175.000000  20.0000  20.0000\n",
       "79    Default   5966.000000          quiet_J   5966.000000  19.0000  19.0000\n",
       "53    Default   5594.000000           stay_N   5594.000000  18.0000  18.0000\n",
       "16    Default   5364.000000           next_J   5364.000000  17.0000  17.0000\n",
       "3900  Default   7502.000000         jeonju_N   7502.000000  16.0000  16.0000\n",
       "32    Default   4631.000000          thank_N   4631.000000  15.0000  15.0000\n",
       "92    Default   5259.000000           come_V   5259.000000  14.0000  14.0000\n",
       "44    Default   7831.000000          house_N   7831.000000  13.0000  13.0000\n",
       "4     Default   7125.000000           well_R   7125.000000  12.0000  12.0000\n",
       "130   Default   4184.000000          night_N   4184.000000  11.0000  11.0000\n",
       "54    Default   5483.000000           take_V   5483.000000  10.0000  10.0000\n",
       "346   Default   3876.000000         little_J   3876.000000   9.0000   9.0000\n",
       "286   Default   3615.000000         locate_V   3615.000000   8.0000   8.0000\n",
       "18    Default   5033.000000           stay_V   5033.000000   7.0000   7.0000\n",
       "310   Default   2958.000000           much_J   2958.000000   6.0000   6.0000\n",
       "37    Default   3317.000000           want_V   3317.000000   5.0000   5.0000\n",
       "39    Default   3296.000000          visit_N   3296.000000   4.0000   4.0000\n",
       "25    Default  10928.000000          place_N  10928.000000   3.0000   3.0000\n",
       "139   Default   3669.000000       bathroom_N   3669.000000   2.0000   2.0000\n",
       "90    Default   4458.000000           trip_N   4458.000000   1.0000   1.0000\n",
       "...       ...           ...              ...           ...      ...      ...\n",
       "208    Topic6    928.561279       kindness_N    928.761719   2.0213  -4.7306\n",
       "382    Topic6    867.278992           i've_N    867.481567   2.0212  -4.7988\n",
       "113    Topic6    831.430054           much_R    831.631470   2.0212  -4.8411\n",
       "327    Topic6    807.199707  consideration_N    807.403198   2.0212  -4.8706\n",
       "397    Topic6    751.611389        thought_N    751.811279   2.0212  -4.9420\n",
       "1190   Topic6    728.595337             tv_N    728.795044   2.0212  -4.9731\n",
       "73     Topic6    714.474487        careful_J    714.676636   2.0212  -4.9927\n",
       "273    Topic6    690.339111          relax_V    690.537659   2.0212  -5.0270\n",
       "673    Topic6    660.386475          thank_R    660.584045   2.0212  -5.0714\n",
       "415    Topic6    625.748596           full_J    625.946777   2.0212  -5.1253\n",
       "331    Topic6    609.204346           show_V    609.401306   2.0211  -5.1521\n",
       "516    Topic6    606.962219    cleanliness_N    607.162292   2.0211  -5.1557\n",
       "136    Topic6    602.707886      satisfied_J    602.907593   2.0211  -5.1628\n",
       "979    Topic6    571.162537           host_V    571.358765   2.0211  -5.2165\n",
       "1140   Topic6    560.184082         person_N    560.381287   2.0211  -5.2359\n",
       "554    Topic6    536.444153         master_N    536.637512   2.0211  -5.2792\n",
       "1628   Topic6    522.436951           week_N    522.631042   2.0211  -5.3057\n",
       "2992   Topic6    512.461365           yard_N    512.654785   2.0211  -5.3250\n",
       "804    Topic6    507.291718           last_J    507.486694   2.0211  -5.3351\n",
       "1616   Topic6    483.453369      president_N    483.643799   2.0211  -5.3833\n",
       "637    Topic6    476.792572           care_V    476.989197   2.0211  -5.3971\n",
       "40     Topic6   1817.374390           best_J   2328.781982   1.7735  -4.0591\n",
       "45     Topic6   5027.336914       location_N   8262.374023   1.5246  -3.0416\n",
       "15     Topic6   2000.709717           like_V   3120.637207   1.5769  -3.9630\n",
       "4      Topic6   2193.198242           well_R   7125.212891   0.8432  -3.8711\n",
       "693    Topic6    698.949219        provide_V   1013.944946   1.6494  -5.0146\n",
       "203    Topic6    837.477966       facility_N   1673.729370   1.3291  -4.8338\n",
       "35     Topic6   1239.574463         really_R   7656.470703   0.2007  -4.4417\n",
       "26     Topic6    756.259216           love_V   1709.592529   1.2058  -4.9358\n",
       "815    Topic6    773.899292      breakfast_N   3242.877930   0.5887  -4.9128\n",
       "\n",
       "[286 rows x 6 columns], token_table=      Topic      Freq             Term\n",
       "term                                  \n",
       "56        2  0.255672           able_J\n",
       "56        5  0.744605           able_J\n",
       "5         6  0.999930  accommodation_N\n",
       "256       1  1.000157            air_N\n",
       "1133      3  1.000496       anything_N\n",
       "244       2  0.363026           area_N\n",
       "244       4  0.636339           area_N\n",
       "1803      4  0.999204        arrival_N\n",
       "582       2  0.203768         arrive_V\n",
       "582       5  0.795877         arrive_V\n",
       "85        5  0.998844            ask_V\n",
       "850       4  1.000102     attraction_N\n",
       "1948      5  1.000136           aunt_N\n",
       "71        4  0.999731           away_R\n",
       "167       3  0.999795           back_R\n",
       "139       1  0.999992       bathroom_N\n",
       "379       2  0.999798      beautiful_J\n",
       "496       2  1.000037      beautiful_N\n",
       "33        1  0.999904            bed_N\n",
       "171       1  0.999768            bed_V\n",
       "40        3  0.219428           best_J\n",
       "40        6  0.780236           best_J\n",
       "201       1  0.822507            big_J\n",
       "201       2  0.177087            big_J\n",
       "285       2  1.000138            bit_N\n",
       "812       1  0.999521        blanket_N\n",
       "819       5  0.999923            bos_N\n",
       "815       2  0.319469      breakfast_N\n",
       "815       5  0.441583      breakfast_N\n",
       "815       6  0.238677      breakfast_N\n",
       "...     ...       ...              ...\n",
       "141       1  1.000040          towel_N\n",
       "1866      2  0.999840    traditional_J\n",
       "429       3  0.854825         travel_V\n",
       "429       4  0.145025         travel_V\n",
       "90        3  0.766682           trip_N\n",
       "90        5  0.233279           trip_N\n",
       "1190      6  1.000281             tv_N\n",
       "223       2  1.000176  uncomfortable_J\n",
       "403       3  0.999768            use_N\n",
       "983       2  0.999575           view_N\n",
       "289       4  0.999984        village_N\n",
       "39        3  0.999838          visit_N\n",
       "687       3  0.755259          visit_V\n",
       "687       4  0.244349          visit_V\n",
       "22        4  0.999696           walk_N\n",
       "91        4  0.999682           walk_V\n",
       "509       3  1.000130           want_J\n",
       "495       3  0.999765           want_N\n",
       "37        3  0.999997           want_V\n",
       "31        1  0.999913           warm_J\n",
       "508       1  1.000163           warm_N\n",
       "93        1  0.999679          water_N\n",
       "1628      6  0.998793           week_N\n",
       "1794      6  0.999560        welcome_V\n",
       "4         1  0.692050           well_R\n",
       "4         6  0.307780           well_R\n",
       "118       1  1.000008           wide_J\n",
       "146       2  0.999955      wonderful_J\n",
       "2992      6  0.998723           yard_N\n",
       "858       3  1.000345           year_N\n",
       "\n",
       "[310 rows x 3 columns], R=30, lambda_step=0.01, plot_opts={'xlab': 'PC1', 'ylab': 'PC2'}, topic_order=[2, 3, 6, 5, 1, 4])"
      ]
     },
     "execution_count": 30,
     "metadata": {},
     "output_type": "execute_result"
    }
   ],
   "source": [
    "vis"
   ]
  },
  {
   "cell_type": "code",
   "execution_count": 29,
   "metadata": {},
   "outputs": [],
   "source": [
    "pyLDAvis.save_html(vis,'LDA_DaeguJunju.html')"
   ]
  },
  {
   "cell_type": "code",
   "execution_count": null,
   "metadata": {},
   "outputs": [],
   "source": []
  }
 ],
 "metadata": {
  "kernelspec": {
   "display_name": "Python 3",
   "language": "python",
   "name": "python3"
  },
  "language_info": {
   "codemirror_mode": {
    "name": "ipython",
    "version": 3
   },
   "file_extension": ".py",
   "mimetype": "text/x-python",
   "name": "python",
   "nbconvert_exporter": "python",
   "pygments_lexer": "ipython3",
   "version": "3.7.0"
  }
 },
 "nbformat": 4,
 "nbformat_minor": 2
}
