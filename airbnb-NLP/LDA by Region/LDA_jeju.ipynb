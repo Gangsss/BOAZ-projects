{
 "cells": [
  {
   "cell_type": "markdown",
   "metadata": {},
   "source": [
    "### 제주 Airbnb reviews"
   ]
  },
  {
   "cell_type": "code",
   "execution_count": 1,
   "metadata": {},
   "outputs": [],
   "source": [
    "import json\n",
    "import re"
   ]
  },
  {
   "cell_type": "code",
   "execution_count": 2,
   "metadata": {},
   "outputs": [],
   "source": [
    "file_lst = ['translated_jeju.json','translated_seogwipo.json']"
   ]
  },
  {
   "cell_type": "code",
   "execution_count": 3,
   "metadata": {},
   "outputs": [],
   "source": [
    "review = {}\n",
    "for file in file_lst:\n",
    "    with open(file,'r',encoding='utf-8') as fp:\n",
    "        review.update(json.load(fp))"
   ]
  },
  {
   "cell_type": "code",
   "execution_count": 4,
   "metadata": {},
   "outputs": [],
   "source": [
    "review_en={}\n",
    "\n",
    "for home_id,rev_lsts in review.items():\n",
    "    review_en[home_id] = []\n",
    "    for rev_lst in rev_lsts:\n",
    "        try:\n",
    "            if str(rev_lst['language'][-2:]) == 'en':\n",
    "                review_en[home_id].append([rev_lst['rating'],rev_lst['t_comments']])\n",
    "        except:\n",
    "            pass"
   ]
  },
  {
   "cell_type": "code",
   "execution_count": 5,
   "metadata": {},
   "outputs": [
    {
     "data": {
      "text/plain": [
       "9976"
      ]
     },
     "execution_count": 5,
     "metadata": {},
     "output_type": "execute_result"
    }
   ],
   "source": [
    "len(review_en)"
   ]
  },
  {
   "cell_type": "markdown",
   "metadata": {},
   "source": [
    "### Data Preprocessing Step\n",
    "##### 1. Tokenization\n",
    "##### 2. Stop word elimination\n",
    "##### 3. Stemming : 단어를 기본형으로 바꾸어준다. 복수형은 단수형으로, 과거형은 현재형으로 바꾸는 과정\n",
    "##### 4. Representation"
   ]
  },
  {
   "cell_type": "code",
   "execution_count": 6,
   "metadata": {},
   "outputs": [],
   "source": [
    "import nltk\n",
    "from nltk import sent_tokenize\n",
    "from nltk.stem import WordNetLemmatizer\n",
    "import tqdm"
   ]
  },
  {
   "cell_type": "markdown",
   "metadata": {},
   "source": [
    "### Tokenization"
   ]
  },
  {
   "cell_type": "code",
   "execution_count": 7,
   "metadata": {},
   "outputs": [
    {
     "name": "stderr",
     "output_type": "stream",
     "text": [
      "100%|█████████████████████████████████████████████████████████████████████████████| 9976/9976 [00:14<00:00, 689.42it/s]\n"
     ]
    }
   ],
   "source": [
    "# 리뷰별 문장단위 tokenizing\n",
    "for home_id,rev_lst in tqdm.tqdm(review_en.items()) :\n",
    "    for rev in rev_lst:\n",
    "        rev[1] = sent_tokenize(rev[1])"
   ]
  },
  {
   "cell_type": "code",
   "execution_count": 8,
   "metadata": {},
   "outputs": [
    {
     "name": "stderr",
     "output_type": "stream",
     "text": [
      "100%|███████████████████████████████████████████████████████████████████████████| 9976/9976 [00:00<00:00, 43824.24it/s]\n"
     ]
    }
   ],
   "source": [
    "# 길이가 2보다 작은 문장 없애기\n",
    "for home_id,rev_lst in tqdm.tqdm(review_en.items()) :\n",
    "    for rev in rev_lst:\n",
    "        r = []\n",
    "        for s in rev[1] : \n",
    "            if len(s) > 2 :\n",
    "                r.append(s)\n",
    "        rev[1] = r        "
   ]
  },
  {
   "cell_type": "markdown",
   "metadata": {},
   "source": [
    "###  Stop words elimination"
   ]
  },
  {
   "cell_type": "code",
   "execution_count": 9,
   "metadata": {},
   "outputs": [],
   "source": [
    "# 소문자와 대문자가 아닌 것은 공백으로 대체\n",
    "for home_id,rev_lst in review_en.items(): \n",
    "    for rev in rev_lst:\n",
    "        for sentence in rev[1]:\n",
    "            sentence = re.sub('[^a-zA-Z\\s]', '', sentence)"
   ]
  },
  {
   "cell_type": "code",
   "execution_count": 10,
   "metadata": {
    "scrolled": true
   },
   "outputs": [
    {
     "name": "stdout",
     "output_type": "stream",
     "text": [
      "['i', 'me', 'my', 'myself', 'we', 'our', 'ours', 'ourselves', 'you', \"you're\", \"you've\", \"you'll\", \"you'd\", 'your', 'yours', 'yourself', 'yourselves', 'he', 'him', 'his', 'himself', 'she', \"she's\", 'her', 'hers', 'herself', 'it', \"it's\", 'its', 'itself', 'they', 'them', 'their', 'theirs', 'themselves', 'what', 'which', 'who', 'whom', 'this', 'that', \"that'll\", 'these', 'those', 'am', 'is', 'are', 'was', 'were', 'be', 'been', 'being', 'have', 'has', 'had', 'having', 'do', 'does', 'did', 'doing', 'a', 'an', 'the', 'and', 'but', 'if', 'or', 'because', 'as', 'until', 'while', 'of', 'at', 'by', 'for', 'with', 'about', 'against', 'between', 'into', 'through', 'during', 'before', 'after', 'above', 'below', 'to', 'from', 'up', 'down', 'in', 'out', 'on', 'off', 'over', 'under', 'again', 'further', 'then', 'once', 'here', 'there', 'when', 'where', 'why', 'how', 'all', 'any', 'both', 'each', 'few', 'more', 'most', 'other', 'some', 'such', 'no', 'nor', 'not', 'only', 'own', 'same', 'so', 'than', 'too', 'very', 's', 't', 'can', 'will', 'just', 'don', \"don't\", 'should', \"should've\", 'now', 'd', 'll', 'm', 'o', 're', 've', 'y', 'ain', 'aren', \"aren't\", 'couldn', \"couldn't\", 'didn', \"didn't\", 'doesn', \"doesn't\", 'hadn', \"hadn't\", 'hasn', \"hasn't\", 'haven', \"haven't\", 'isn', \"isn't\", 'ma', 'mightn', \"mightn't\", 'mustn', \"mustn't\", 'needn', \"needn't\", 'shan', \"shan't\", 'shouldn', \"shouldn't\", 'wasn', \"wasn't\", 'weren', \"weren't\", 'won', \"won't\", 'wouldn', \"wouldn't\"]\n"
     ]
    }
   ],
   "source": [
    "from nltk.corpus import stopwords\n",
    "stopWords =list(stopwords.words('english'))\n",
    "print(stopWords)"
   ]
  },
  {
   "cell_type": "code",
   "execution_count": 11,
   "metadata": {},
   "outputs": [],
   "source": [
    "add_stopwords = ['airbnb','im','youre','hongdae', 'seoul', 'daegu', 'jeju' ,'busan', 'korea','gangneung','itaewon','myeongdong','john','gangnam','also','even','dont','namsan','incheon']\n",
    "# additional_stopwords = []\n",
    "stopWords = set(stopWords + add_stopwords)"
   ]
  },
  {
   "cell_type": "code",
   "execution_count": 12,
   "metadata": {},
   "outputs": [
    {
     "name": "stderr",
     "output_type": "stream",
     "text": [
      "100%|██████████████████████████████████████████████████████████████████████████████| 9976/9976 [55:10<00:00,  3.01it/s]\n"
     ]
    }
   ],
   "source": [
    "# 문장별 단어단위 tokenizing 후 pos_tag\n",
    "for home_id,rev_lst in tqdm.tqdm(review_en.items()):\n",
    "    for rev in rev_lst:\n",
    "        tmp_lst = []\n",
    "        for sentence in rev[1]:\n",
    "            token = nltk.regexp_tokenize(sentence.lower() ,\"[\\w']+\")\n",
    "            no_stopword_token = [w for w in token if not w in stopWords]\n",
    "            sent_pos = nltk.pos_tag(no_stopword_token)\n",
    "            tmp_lst.append(sent_pos)\n",
    "        rev[1] = tmp_lst"
   ]
  },
  {
   "cell_type": "markdown",
   "metadata": {},
   "source": [
    "### 명사, 형용사, 동사, 부사 lemmatization"
   ]
  },
  {
   "cell_type": "code",
   "execution_count": 13,
   "metadata": {},
   "outputs": [],
   "source": [
    "lemm = WordNetLemmatizer()\n",
    "\n",
    "def njvr_lemmantizer(sent):\n",
    "    global lemm\n",
    "    \n",
    "    lemm_sent = []\n",
    "    for word_pos in sent:\n",
    "        word, pos = word_pos\n",
    "        if pos[0] == 'N':\n",
    "            lemm_sent.append(lemm.lemmatize(word,pos='n').lower() +'_N')\n",
    "        elif pos[0] == 'J':\n",
    "            lemm_sent.append(lemm.lemmatize(word,pos='a').lower() +'_J')\n",
    "        elif pos[0] == 'V':\n",
    "            lemm_sent.append(lemm.lemmatize(word,pos='v').lower() +'_V')\n",
    "        elif pos[0] == 'R':\n",
    "            lemm_sent.append(lemm.lemmatize(word,pos='r').lower() +'_R')\n",
    "        else:pass\n",
    "    return lemm_sent"
   ]
  },
  {
   "cell_type": "code",
   "execution_count": 14,
   "metadata": {},
   "outputs": [
    {
     "name": "stderr",
     "output_type": "stream",
     "text": [
      "100%|█████████████████████████████████████████████████████████████████████████████| 9976/9976 [00:14<00:00, 670.53it/s]\n"
     ]
    }
   ],
   "source": [
    "for listing_id, rev_lst in tqdm.tqdm(review_en.items()):\n",
    "    for rev in rev_lst:\n",
    "        rev_tmp = []\n",
    "        for sent in rev[1]:\n",
    "            rev_tmp.append(njvr_lemmantizer(sent))\n",
    "        rev[1] = rev_tmp"
   ]
  },
  {
   "cell_type": "code",
   "execution_count": 15,
   "metadata": {},
   "outputs": [],
   "source": [
    "with open('review_postag_jeju.json','w',encoding='utf-8') as fp:\n",
    "        json.dump(review_en,fp)"
   ]
  },
  {
   "cell_type": "markdown",
   "metadata": {},
   "source": [
    "### LDA "
   ]
  },
  {
   "cell_type": "code",
   "execution_count": 2,
   "metadata": {
    "colab": {},
    "colab_type": "code",
    "id": "RTnZXoa1u8K-"
   },
   "outputs": [],
   "source": [
    "import pandas as pd\n",
    "import numpy as np\n",
    "import time"
   ]
  },
  {
   "cell_type": "code",
   "execution_count": 3,
   "metadata": {
    "colab": {},
    "colab_type": "code",
    "id": "HsOQPD7qu8LH",
    "outputId": "0920d6b8-cb3e-40ef-9b76-2dcd4c3e4b67"
   },
   "outputs": [
    {
     "name": "stderr",
     "output_type": "stream",
     "text": [
      "C:\\Users\\asd00\\Anaconda3\\lib\\site-packages\\gensim\\utils.py:1212: UserWarning: detected Windows; aliasing chunkize to chunkize_serial\n",
      "  warnings.warn(\"detected Windows; aliasing chunkize to chunkize_serial\")\n"
     ]
    }
   ],
   "source": [
    "import gensim\n",
    "from gensim import corpora, models\n",
    "from gensim.models import CoherenceModel"
   ]
  },
  {
   "cell_type": "code",
   "execution_count": 4,
   "metadata": {
    "colab": {},
    "colab_type": "code",
    "id": "wfcRerIwu8LS"
   },
   "outputs": [],
   "source": [
    "review = {}\n",
    "with open('review_postag_jeju.json','r',encoding='utf-8') as fp:\n",
    "    review.update(json.load(fp))"
   ]
  },
  {
   "cell_type": "code",
   "execution_count": 5,
   "metadata": {
    "colab": {},
    "colab_type": "code",
    "id": "UdNMVG4Eu8Lh"
   },
   "outputs": [],
   "source": [
    "texts = []\n",
    "for home_id,rev_lst in review.items():\n",
    "    for rev in rev_lst:\n",
    "        for sentence in rev[1] :\n",
    "            texts.append(sentence)"
   ]
  },
  {
   "cell_type": "code",
   "execution_count": 6,
   "metadata": {
    "colab": {},
    "colab_type": "code",
    "id": "2A1N-I5Zu8Lm",
    "outputId": "1eae6ec2-56aa-4ad4-cfd3-fdc19c038a1c"
   },
   "outputs": [
    {
     "data": {
      "text/plain": [
       "[['disappointed_J', 'different_J', 'expect_V', 'picture_N'],\n",
       " ['couch_J', 'tv_N', 'furniture_N', 'etc_N']]"
      ]
     },
     "execution_count": 6,
     "metadata": {},
     "output_type": "execute_result"
    }
   ],
   "source": [
    "texts[:2]"
   ]
  },
  {
   "cell_type": "code",
   "execution_count": 7,
   "metadata": {
    "colab": {},
    "colab_type": "code",
    "id": "-jS3XD2Du8Lr"
   },
   "outputs": [],
   "source": [
    "dic = corpora.Dictionary(texts)"
   ]
  },
  {
   "cell_type": "code",
   "execution_count": 8,
   "metadata": {
    "colab": {},
    "colab_type": "code",
    "id": "QH--lD0Qu8L4"
   },
   "outputs": [],
   "source": [
    "corpus = [dic.doc2bow(text) for text in texts]"
   ]
  },
  {
   "cell_type": "code",
   "execution_count": 9,
   "metadata": {
    "colab": {},
    "colab_type": "code",
    "id": "2buE4y-cu8MA",
    "outputId": "9b6500d5-1de2-4f0f-deeb-6a26d7f61573"
   },
   "outputs": [
    {
     "data": {
      "text/plain": [
       "468090"
      ]
     },
     "execution_count": 9,
     "metadata": {},
     "output_type": "execute_result"
    }
   ],
   "source": [
    "len(corpus)"
   ]
  },
  {
   "cell_type": "code",
   "execution_count": 10,
   "metadata": {
    "colab": {},
    "colab_type": "code",
    "id": "XDIyQleCu8MK"
   },
   "outputs": [
    {
     "name": "stderr",
     "output_type": "stream",
     "text": [
      "C:\\Users\\asd00\\Anaconda3\\lib\\site-packages\\gensim\\models\\ldamodel.py:1023: RuntimeWarning: divide by zero encountered in log\n",
      "  diff = np.log(self.expElogbeta)\n"
     ]
    }
   ],
   "source": [
    "# corpus: the corpus used to train the topic model.\n",
    "# id2word: a dictionary that maps word numerical identifiers to word strings \n",
    "# alpha: the topic distribution. If we set it to 'auto', then we tell the algorithm to determine the topic proportions automatically.\n",
    "# num_topics: how many topics the algorithm should find.\n",
    "# passes: how many times the algorithm should go through the corpus. If you are using a large corpus , then this can be set to 1\n",
    "# model.num_topics: the number of topics.\n",
    "# model.show_topic(topic_number, topn) returns the probability distribution over words in one topic. for instance [(0.06, 'food'), (0.04, 'cook'), (0.03, 'fry'), ...]\n",
    "# model.alpha[topic_number]: the prominence of a topic.\n",
    "\n",
    "#%%time\n",
    "ldamodel = gensim.models.ldamodel.LdaModel(corpus, num_topics = 6, id2word = dic, passes = 30 ,iterations = 3000,alpha='symmetric', eta='auto') #LDA model 생성"
   ]
  },
  {
   "cell_type": "code",
   "execution_count": 11,
   "metadata": {},
   "outputs": [],
   "source": [
    "ldamodel.save('lda_jeju.lda')"
   ]
  },
  {
   "cell_type": "markdown",
   "metadata": {
    "colab_type": "text",
    "id": "q00ecmihu8MS"
   },
   "source": [
    "#### Airnb category : 정확성 / 의사소통 / 청결도 / 위치 / 체크인 / 가치"
   ]
  },
  {
   "cell_type": "code",
   "execution_count": 12,
   "metadata": {
    "colab": {},
    "colab_type": "code",
    "id": "lKYrvf-wu8MT",
    "outputId": "a298021e-8c73-4688-8696-ba04163b99dd"
   },
   "outputs": [
    {
     "data": {
      "text/plain": [
       "[(0,\n",
       "  '0.025*\"restaurant_N\" + 0.023*\"location_N\" + 0.020*\"convenient_N\" + 0.018*\"airport_N\" + 0.017*\"minute_N\" + 0.017*\"car_N\" + 0.016*\"station_N\" + 0.015*\"close_R\" + 0.015*\"bus_N\" + 0.014*\"walk_V\"'),\n",
       " (1,\n",
       "  '0.058*\"room_N\" + 0.029*\"well_R\" + 0.019*\"clean_J\" + 0.018*\"big_J\" + 0.016*\"people_N\" + 0.016*\"bathroom_N\" + 0.013*\"towel_N\" + 0.013*\"floor_N\" + 0.012*\"good_J\" + 0.012*\"bed_N\"'),\n",
       " (2,\n",
       "  '0.054*\"time_N\" + 0.041*\"go_V\" + 0.038*\"stay_V\" + 0.034*\"trip_N\" + 0.032*\"good_J\" + 0.030*\"next_J\" + 0.028*\"come_V\" + 0.027*\"day_N\" + 0.026*\"family_N\" + 0.022*\"island_N\"'),\n",
       " (3,\n",
       "  '0.028*\"breakfast_N\" + 0.023*\"morning_N\" + 0.022*\"sea_N\" + 0.022*\"see_V\" + 0.019*\"view_N\" + 0.018*\"delicious_J\" + 0.018*\"house_N\" + 0.017*\"love_V\" + 0.015*\"nice_J\" + 0.013*\"pretty_R\"'),\n",
       " (4,\n",
       "  '0.070*\"host_N\" + 0.049*\"kind_N\" + 0.028*\"thank_N\" + 0.016*\"give_V\" + 0.015*\"much_J\" + 0.015*\"make_V\" + 0.014*\"help_V\" + 0.014*\"day_N\" + 0.012*\"owner_N\" + 0.011*\"helpful_J\"'),\n",
       " (5,\n",
       "  '0.087*\"place_N\" + 0.050*\"nice_J\" + 0.042*\"clean_J\" + 0.040*\"house_N\" + 0.036*\"great_J\" + 0.033*\"quiet_J\" + 0.025*\"stay_N\" + 0.025*\"good_J\" + 0.022*\"recommend_V\" + 0.022*\"really_R\"')]"
      ]
     },
     "execution_count": 12,
     "metadata": {},
     "output_type": "execute_result"
    }
   ],
   "source": [
    "ldamodel.show_topics(num_words=10) #토픽을 구성하는 주요단어들"
   ]
  },
  {
   "cell_type": "code",
   "execution_count": 3,
   "metadata": {},
   "outputs": [],
   "source": [
    "ldamodel = gensim.models.ldamodel.LdaModel.load('lda_jeju.lda')"
   ]
  },
  {
   "cell_type": "code",
   "execution_count": 13,
   "metadata": {
    "colab": {},
    "colab_type": "code",
    "id": "eCU8dtZku8MX",
    "outputId": "838f2098-2eaa-4241-dae2-54ab4bfe012e"
   },
   "outputs": [],
   "source": [
    "import pyLDAvis\n",
    "import pyLDAvis.gensim \n",
    "import matplotlib.pyplot as plt"
   ]
  },
  {
   "cell_type": "code",
   "execution_count": 14,
   "metadata": {
    "colab": {},
    "colab_type": "code",
    "id": "wgKpDXoZu8Mf",
    "outputId": "d6aade83-caeb-42a1-978b-2fb5d86d56e7"
   },
   "outputs": [
    {
     "name": "stderr",
     "output_type": "stream",
     "text": [
      "C:\\Users\\asd00\\Anaconda3\\lib\\site-packages\\pyLDAvis\\_prepare.py:257: FutureWarning: Sorting because non-concatenation axis is not aligned. A future version\n",
      "of pandas will change to not sort by default.\n",
      "\n",
      "To accept the future behavior, pass 'sort=False'.\n",
      "\n",
      "To retain the current behavior and silence the warning, pass 'sort=True'.\n",
      "\n",
      "  return pd.concat([default_term_info] + list(topic_dfs))\n"
     ]
    },
    {
     "data": {
      "text/html": [
       "\n",
       "<link rel=\"stylesheet\" type=\"text/css\" href=\"https://cdn.rawgit.com/bmabey/pyLDAvis/files/ldavis.v1.0.0.css\">\n",
       "\n",
       "\n",
       "<div id=\"ldavis_el840826536173189121717355343\"></div>\n",
       "<script type=\"text/javascript\">\n",
       "\n",
       "var ldavis_el840826536173189121717355343_data = {\"mdsDat\": {\"x\": [-0.05775731829651232, 0.21173844508885065, 0.20242271355169392, -0.10134890476974852, 0.0939722170901715, -0.3490271526644549], \"y\": [0.04672147395176045, 0.06712456633932538, 0.05984687399899265, -0.4021988089029774, 0.03468095698686706, 0.19382493762603173], \"topics\": [1, 2, 3, 4, 5, 6], \"cluster\": [1, 1, 1, 1, 1, 1], \"Freq\": [18.9337158203125, 18.091205596923828, 17.1086483001709, 15.810574531555176, 15.333456993103027, 14.722396850585938]}, \"tinfo\": {\"Category\": [\"Default\", \"Default\", \"Default\", \"Default\", \"Default\", \"Default\", \"Default\", \"Default\", \"Default\", \"Default\", \"Default\", \"Default\", \"Default\", \"Default\", \"Default\", \"Default\", \"Default\", \"Default\", \"Default\", \"Default\", \"Default\", \"Default\", \"Default\", \"Default\", \"Default\", \"Default\", \"Default\", \"Default\", \"Default\", \"Default\", \"Topic1\", \"Topic1\", \"Topic1\", \"Topic1\", \"Topic1\", \"Topic1\", \"Topic1\", \"Topic1\", \"Topic1\", \"Topic1\", \"Topic1\", \"Topic1\", \"Topic1\", \"Topic1\", \"Topic1\", \"Topic1\", \"Topic1\", \"Topic1\", \"Topic1\", \"Topic1\", \"Topic1\", \"Topic1\", \"Topic1\", \"Topic1\", \"Topic1\", \"Topic1\", \"Topic1\", \"Topic1\", \"Topic1\", \"Topic1\", \"Topic1\", \"Topic1\", \"Topic1\", \"Topic1\", \"Topic1\", \"Topic1\", \"Topic1\", \"Topic1\", \"Topic1\", \"Topic1\", \"Topic1\", \"Topic1\", \"Topic1\", \"Topic1\", \"Topic1\", \"Topic2\", \"Topic2\", \"Topic2\", \"Topic2\", \"Topic2\", \"Topic2\", \"Topic2\", \"Topic2\", \"Topic2\", \"Topic2\", \"Topic2\", \"Topic2\", \"Topic2\", \"Topic2\", \"Topic2\", \"Topic2\", \"Topic2\", \"Topic2\", \"Topic2\", \"Topic2\", \"Topic2\", \"Topic2\", \"Topic2\", \"Topic2\", \"Topic2\", \"Topic2\", \"Topic2\", \"Topic2\", \"Topic2\", \"Topic2\", \"Topic2\", \"Topic2\", \"Topic2\", \"Topic2\", \"Topic2\", \"Topic2\", \"Topic2\", \"Topic2\", \"Topic2\", \"Topic2\", \"Topic2\", \"Topic2\", \"Topic2\", \"Topic2\", \"Topic2\", \"Topic2\", \"Topic2\", \"Topic2\", \"Topic2\", \"Topic2\", \"Topic2\", \"Topic2\", \"Topic3\", \"Topic3\", \"Topic3\", \"Topic3\", \"Topic3\", \"Topic3\", \"Topic3\", \"Topic3\", \"Topic3\", \"Topic3\", \"Topic3\", \"Topic3\", \"Topic3\", \"Topic3\", \"Topic3\", \"Topic3\", \"Topic3\", \"Topic3\", \"Topic3\", \"Topic3\", \"Topic3\", \"Topic3\", \"Topic3\", \"Topic3\", \"Topic3\", \"Topic3\", \"Topic3\", \"Topic3\", \"Topic3\", \"Topic3\", \"Topic3\", \"Topic3\", \"Topic3\", \"Topic3\", \"Topic3\", \"Topic3\", \"Topic3\", \"Topic3\", \"Topic3\", \"Topic3\", \"Topic3\", \"Topic3\", \"Topic3\", \"Topic3\", \"Topic3\", \"Topic3\", \"Topic3\", \"Topic3\", \"Topic4\", \"Topic4\", \"Topic4\", \"Topic4\", \"Topic4\", \"Topic4\", \"Topic4\", \"Topic4\", \"Topic4\", \"Topic4\", \"Topic4\", \"Topic4\", \"Topic4\", \"Topic4\", \"Topic4\", \"Topic4\", \"Topic4\", \"Topic4\", \"Topic4\", \"Topic4\", \"Topic4\", \"Topic4\", \"Topic4\", \"Topic4\", \"Topic4\", \"Topic4\", \"Topic4\", \"Topic4\", \"Topic4\", \"Topic4\", \"Topic4\", \"Topic4\", \"Topic4\", \"Topic4\", \"Topic4\", \"Topic4\", \"Topic4\", \"Topic4\", \"Topic4\", \"Topic4\", \"Topic4\", \"Topic5\", \"Topic5\", \"Topic5\", \"Topic5\", \"Topic5\", \"Topic5\", \"Topic5\", \"Topic5\", \"Topic5\", \"Topic5\", \"Topic5\", \"Topic5\", \"Topic5\", \"Topic5\", \"Topic5\", \"Topic5\", \"Topic5\", \"Topic5\", \"Topic5\", \"Topic5\", \"Topic5\", \"Topic5\", \"Topic5\", \"Topic5\", \"Topic5\", \"Topic5\", \"Topic5\", \"Topic5\", \"Topic5\", \"Topic5\", \"Topic5\", \"Topic5\", \"Topic5\", \"Topic5\", \"Topic5\", \"Topic5\", \"Topic5\", \"Topic5\", \"Topic5\", \"Topic5\", \"Topic5\", \"Topic5\", \"Topic6\", \"Topic6\", \"Topic6\", \"Topic6\", \"Topic6\", \"Topic6\", \"Topic6\", \"Topic6\", \"Topic6\", \"Topic6\", \"Topic6\", \"Topic6\", \"Topic6\", \"Topic6\", \"Topic6\", \"Topic6\", \"Topic6\", \"Topic6\", \"Topic6\", \"Topic6\", \"Topic6\", \"Topic6\", \"Topic6\", \"Topic6\", \"Topic6\", \"Topic6\", \"Topic6\", \"Topic6\", \"Topic6\", \"Topic6\", \"Topic6\", \"Topic6\", \"Topic6\", \"Topic6\", \"Topic6\", \"Topic6\", \"Topic6\", \"Topic6\", \"Topic6\"], \"Freq\": [47685.0, 31401.0, 30787.0, 39915.0, 21765.0, 34461.0, 32828.0, 21678.0, 30079.0, 19689.0, 18281.0, 24638.0, 17240.0, 15961.0, 12960.0, 21602.0, 23401.0, 12320.0, 12063.0, 17799.0, 19422.0, 12246.0, 12355.0, 22486.0, 10533.0, 11733.0, 10166.0, 10078.0, 9731.0, 15011.0, 30787.22265625, 21678.345703125, 19689.6484375, 17240.421875, 15961.4443359375, 12355.17578125, 11733.2841796875, 10486.1494140625, 8904.2744140625, 7065.96435546875, 6829.39501953125, 6045.4033203125, 4624.544921875, 4243.0654296875, 3635.04248046875, 3597.97705078125, 3496.604736328125, 2941.94384765625, 2742.63037109375, 2547.76708984375, 2158.44580078125, 2078.204833984375, 2072.95947265625, 1928.8319091796875, 1833.1124267578125, 1653.8388671875, 1589.8272705078125, 1481.62744140625, 1445.8349609375, 1420.84912109375, 15057.1845703125, 23789.537109375, 15413.5048828125, 6340.703125, 5763.47900390625, 9289.9482421875, 9787.87109375, 4651.41943359375, 18432.607421875, 4318.111328125, 9478.962890625, 8742.767578125, 4774.0498046875, 3896.296630859375, 4410.5634765625, 47685.0625, 18281.826171875, 12246.3984375, 9138.7666015625, 6419.771484375, 5405.45458984375, 4899.5244140625, 4833.4921875, 4819.19775390625, 4540.63427734375, 3249.814208984375, 3074.609619140625, 2755.926025390625, 2686.68505859375, 2592.830322265625, 2580.665771484375, 2567.97802734375, 2130.997802734375, 2132.943359375, 2033.766357421875, 2022.0697021484375, 2007.3126220703125, 1987.287353515625, 1976.406005859375, 1962.2567138671875, 1928.2255859375, 1884.083251953125, 1795.1683349609375, 1616.3697509765625, 1634.044921875, 27392.439453125, 19656.609375, 22869.572265625, 9636.51953125, 10833.9814453125, 13922.3984375, 21744.892578125, 10581.7822265625, 11866.22265625, 4659.11474609375, 5525.98681640625, 8544.5068359375, 3293.41748046875, 13748.3291015625, 9589.3671875, 5976.81884765625, 4529.99169921875, 3814.71142578125, 4181.30419921875, 5231.77294921875, 3543.068603515625, 3699.319580078125, 9236.3701171875, 8360.16796875, 8167.55322265625, 6889.6376953125, 6032.671875, 5652.59912109375, 5336.89501953125, 4117.7529296875, 4040.1865234375, 3904.60791015625, 3810.923583984375, 3669.64208984375, 3160.737060546875, 3146.921875, 2598.82958984375, 2562.7919921875, 2539.75927734375, 2524.647216796875, 2505.65625, 2352.372314453125, 2250.1201171875, 2190.7236328125, 2151.676513671875, 2013.7625732421875, 1995.2518310546875, 1977.1983642578125, 1984.612060546875, 1972.689453125, 1977.1466064453125, 1900.390869140625, 30325.990234375, 5992.0498046875, 14841.2685546875, 5128.9619140625, 6598.3896484375, 5301.7509765625, 2756.06591796875, 3794.099609375, 5533.86572265625, 9958.62890625, 3194.47998046875, 5044.138671875, 4289.66064453125, 5079.296875, 3183.753662109375, 6207.3349609375, 4697.34912109375, 3328.980224609375, 12063.3876953125, 9731.48828125, 8765.5517578125, 8175.826171875, 8086.9462890625, 7579.9912109375, 7253.36962890625, 6966.8291015625, 6855.20703125, 6485.36865234375, 6451.6396484375, 6228.98779296875, 6247.06640625, 6242.17431640625, 5824.7890625, 5291.76611328125, 4982.806640625, 4537.0361328125, 3778.625244140625, 3501.698486328125, 3424.69189453125, 3189.30078125, 3186.7099609375, 3199.094482421875, 3117.88525390625, 3137.666259765625, 2969.793701171875, 2788.58203125, 2752.263916015625, 2745.349365234375, 6443.75732421875, 6139.60986328125, 10877.9931640625, 5603.564453125, 4587.59765625, 5704.12060546875, 6133.47314453125, 4984.1796875, 6289.9697265625, 6662.51171875, 4012.20849609375, 12960.4365234375, 10533.1904296875, 10166.7724609375, 10078.369140625, 8504.7333984375, 7710.93212890625, 6144.9951171875, 5435.6005859375, 5366.07177734375, 4083.341552734375, 4005.411376953125, 3869.60888671875, 3561.129638671875, 3555.280517578125, 3457.746337890625, 3420.6572265625, 2502.92431640625, 2425.529296875, 2193.7158203125, 2184.130126953125, 2165.922607421875, 2125.531494140625, 2083.925048828125, 2078.629638671875, 1935.8804931640625, 1927.0467529296875, 1900.8155517578125, 1858.83251953125, 1882.938720703125, 1830.531005859375, 9034.4521484375, 8394.7626953125, 7068.501953125, 3748.031982421875, 4309.78857421875, 5154.79345703125, 5231.583984375, 2879.45849609375, 2491.45458984375, 2344.977294921875, 2509.85107421875, 2293.13525390625, 31401.74609375, 21765.50390625, 12320.0048828125, 7247.32568359375, 6439.595703125, 5326.439453125, 5100.4228515625, 4662.36865234375, 4482.09912109375, 4327.72314453125, 4114.0283203125, 3910.66845703125, 3661.319580078125, 3520.344970703125, 3360.0771484375, 3286.656005859375, 3245.846923828125, 3240.727783203125, 2875.148681640625, 2577.689208984375, 2530.34521484375, 2505.525146484375, 2481.193115234375, 2371.637939453125, 2189.553466796875, 2118.6884765625, 2043.94384765625, 2002.196533203125, 1945.315673828125, 1886.48193359375, 6814.46875, 6723.578125, 6188.80908203125, 3506.216796875, 3161.0048828125, 4981.80810546875, 2868.4853515625, 2644.30419921875, 2700.84326171875], \"Term\": [\"place_N\", \"host_N\", \"time_N\", \"room_N\", \"kind_N\", \"nice_J\", \"clean_J\", \"stay_V\", \"go_V\", \"trip_N\", \"quiet_J\", \"great_J\", \"next_J\", \"come_V\", \"breakfast_N\", \"day_N\", \"stay_N\", \"thank_N\", \"restaurant_N\", \"family_N\", \"location_N\", \"recommend_V\", \"island_N\", \"well_R\", \"morning_N\", \"want_V\", \"sea_N\", \"see_V\", \"convenient_N\", \"view_N\", \"time_N\", \"stay_V\", \"trip_N\", \"next_J\", \"come_V\", \"island_N\", \"want_V\", \"visit_N\", \"back_R\", \"rest_N\", \"happy_J\", \"friend_N\", \"want_J\", \"i'm_N\", \"parent_N\", \"memory_N\", \"satisfy_V\", \"chance_N\", \"long_J\", \"stay_J\", \"i'd_N\", \"husband_N\", \"i'll_N\", \"spend_V\", \"later_R\", \"refrigerator_N\", \"winter_N\", \"come_N\", \"week_N\", \"sorry_N\", \"family_N\", \"go_V\", \"day_N\", \"like_V\", \"think_V\", \"night_N\", \"take_V\", \"definitely_R\", \"good_J\", \"first_J\", \"stay_N\", \"really_R\", \"make_V\", \"home_N\", \"house_N\", \"place_N\", \"quiet_J\", \"recommend_V\", \"clean_N\", \"experience_N\", \"nice_N\", \"highly_R\", \"perfect_J\", \"cozy_N\", \"neat_N\", \"overall_J\", \"neat_J\", \"new_J\", \"neighborhood_N\", \"amaze_V\", \"relax_V\", \"photo_N\", \"recommend_J\", \"tidy_N\", \"village_N\", \"atmosphere_R\", \"live_J\", \"fantastic_J\", \"perfect_N\", \"exactly_R\", \"scenery_N\", \"pleasant_N\", \"traditional_J\", \"jungmun_N\", \"good_N\", \"nice_J\", \"great_J\", \"clean_J\", \"apartment_N\", \"accommodation_N\", \"stay_N\", \"house_N\", \"comfortable_J\", \"really_R\", \"spacious_J\", \"beautiful_J\", \"location_N\", \"wonderful_J\", \"good_J\", \"room_N\", \"view_N\", \"picture_N\", \"facility_N\", \"everything_N\", \"well_R\", \"look_V\", \"best_J\", \"big_J\", \"people_N\", \"bathroom_N\", \"towel_N\", \"bed_N\", \"bed_V\", \"large_J\", \"landlord_N\", \"kitchen_N\", \"hot_J\", \"living_N\", \"air_N\", \"live_V\", \"enough_R\", \"equip_V\", \"bos_N\", \"bedroom_N\", \"information_N\", \"expect_V\", \"ever_R\", \"sleep_V\", \"wash_V\", \"enthusiastic_J\", \"seem_V\", \"double_J\", \"host_V\", \"inconvenience_N\", \"machine_N\", \"uncomfortable_J\", \"nothing_N\", \"room_N\", \"water_N\", \"well_R\", \"use_V\", \"floor_N\", \"small_J\", \"cold_J\", \"space_N\", \"little_J\", \"clean_J\", \"warm_N\", \"best_J\", \"warm_J\", \"comfortable_J\", \"thing_N\", \"good_J\", \"house_N\", \"many_J\", \"restaurant_N\", \"convenient_N\", \"airport_N\", \"minute_N\", \"car_N\", \"station_N\", \"close_R\", \"bus_N\", \"walk_V\", \"away_R\", \"close_J\", \"store_N\", \"walk_N\", \"find_V\", \"convenience_N\", \"city_N\", \"price_N\", \"nearby_J\", \"far_R\", \"market_N\", \"convenient_J\", \"street_N\", \"taxi_N\", \"nearby_R\", \"shop_N\", \"recommend_N\", \"distance_N\", \"road_N\", \"attraction_N\", \"stop_N\", \"beach_N\", \"easy_J\", \"location_N\", \"locate_V\", \"area_N\", \"many_J\", \"take_V\", \"get_V\", \"go_V\", \"good_J\", \"lot_N\", \"breakfast_N\", \"morning_N\", \"sea_N\", \"see_V\", \"delicious_J\", \"love_V\", \"pretty_R\", \"especially_R\", \"coffee_N\", \"right_R\", \"window_N\", \"old_J\", \"beautiful_N\", \"eat_N\", \"see_N\", \"garden_N\", \"front_J\", \"fun_N\", \"liked_J\", \"cute_N\", \"cafe_J\", \"comfortably_R\", \"look_N\", \"star_N\", \"course_N\", \"island_V\", \"heal_V\", \"bread_N\", \"play_V\", \"kid_N\", \"view_N\", \"house_N\", \"nice_J\", \"beautiful_J\", \"night_N\", \"really_R\", \"good_J\", \"like_V\", \"look_V\", \"child_N\", \"make_V\", \"enjoy_V\", \"host_N\", \"kind_N\", \"thank_N\", \"give_V\", \"help_V\", \"owner_N\", \"helpful_J\", \"arrive_V\", \"check_V\", \"friendly_R\", \"late_J\", \"friendly_J\", \"reservation_N\", \"check_N\", \"help_N\", \"always_R\", \"question_N\", \"there's_N\", \"lovely_R\", \"welcome_V\", \"ask_V\", \"helpful_N\", \"problem_N\", \"consideration_N\", \"english_J\", \"mr_N\", \"mart_N\", \"kindness_N\", \"door_N\", \"service_N\", \"much_J\", \"make_V\", \"day_N\", \"thanks_N\", \"provide_V\", \"great_J\", \"need_V\", \"everything_N\", \"really_R\"], \"Total\": [47685.0, 31401.0, 30787.0, 39915.0, 21765.0, 34461.0, 32828.0, 21678.0, 30079.0, 19689.0, 18281.0, 24638.0, 17240.0, 15961.0, 12960.0, 21602.0, 23401.0, 12320.0, 12063.0, 17799.0, 19422.0, 12246.0, 12355.0, 22486.0, 10533.0, 11733.0, 10166.0, 10078.0, 9731.0, 15011.0, 30787.37890625, 21678.5, 19689.80078125, 17240.57421875, 15961.59765625, 12355.328125, 11733.4365234375, 10486.298828125, 8904.423828125, 7066.11376953125, 6829.54345703125, 6045.55126953125, 4624.6923828125, 4243.21337890625, 3635.1884765625, 3598.12255859375, 3496.751220703125, 2942.088623046875, 2742.7744140625, 2547.911865234375, 2158.58984375, 2078.346923828125, 2073.103515625, 1928.97509765625, 1833.2550048828125, 1653.980224609375, 1589.969482421875, 1481.76953125, 1445.976318359375, 1420.9915771484375, 17799.65234375, 30079.84765625, 21602.650390625, 9220.46875, 8521.3427734375, 16164.9228515625, 17650.16015625, 6638.05615234375, 50292.09375, 6450.4462890625, 23401.69921875, 28466.68359375, 14008.0087890625, 8463.6298828125, 42359.390625, 47685.21875, 18281.982421875, 12246.5517578125, 9138.9169921875, 6419.92041015625, 5405.603515625, 4899.67236328125, 4833.640625, 4819.34619140625, 4540.783203125, 3249.960693359375, 3074.757080078125, 2756.073486328125, 2686.831298828125, 2592.975341796875, 2580.81103515625, 2568.123291015625, 2131.142333984375, 2133.088134765625, 2033.9124755859375, 2022.2152099609375, 2007.45751953125, 1987.431396484375, 1976.5513916015625, 1962.400634765625, 1928.37109375, 1884.2275390625, 1795.31201171875, 1616.509033203125, 1634.1893310546875, 34461.28515625, 24638.7578125, 32828.546875, 12304.9775390625, 16578.041015625, 23401.69921875, 42359.390625, 18677.125, 28466.68359375, 7082.013671875, 9274.3330078125, 19422.833984375, 4289.1796875, 50292.09375, 39915.703125, 15011.5927734375, 8672.6337890625, 6482.4150390625, 9542.4306640625, 22486.5234375, 6034.828125, 10158.29296875, 9236.5185546875, 8360.31640625, 8167.7021484375, 6889.7861328125, 6032.81982421875, 5652.74658203125, 5337.041015625, 4117.89892578125, 4040.332763671875, 3904.75390625, 3811.069091796875, 3669.78857421875, 3160.8828125, 3147.067138671875, 2598.973876953125, 2562.936767578125, 2539.90283203125, 2524.791259765625, 2505.801513671875, 2352.51611328125, 2250.26416015625, 2190.86767578125, 2151.818603515625, 2013.90576171875, 1995.3939208984375, 1977.3404541015625, 1984.756103515625, 1972.8331298828125, 1977.2908935546875, 1900.53369140625, 39915.703125, 6773.17333984375, 22486.5234375, 6302.74267578125, 8593.1591796875, 6693.56884765625, 3102.224609375, 5301.07763671875, 10100.4013671875, 32828.546875, 4211.7333984375, 10158.29296875, 7599.9384765625, 18677.125, 5146.5185546875, 50292.09375, 42359.390625, 10022.13671875, 12063.5400390625, 9731.6376953125, 8765.701171875, 8175.9755859375, 8087.0966796875, 7580.1396484375, 7253.51806640625, 6966.97802734375, 6855.35595703125, 6485.517578125, 6451.78857421875, 6229.13671875, 6247.21533203125, 6242.3232421875, 5824.9375, 5291.9130859375, 4982.9541015625, 4537.1826171875, 3778.772216796875, 3501.843017578125, 3424.8369140625, 3189.446044921875, 3186.855224609375, 3199.24072265625, 3118.0302734375, 3137.8125, 2969.938720703125, 2788.727783203125, 2752.408447265625, 2745.493896484375, 7562.93603515625, 7154.48046875, 19422.833984375, 7823.5185546875, 6268.61474609375, 10022.13671875, 17650.16015625, 11291.796875, 30079.84765625, 50292.09375, 10112.775390625, 12960.5869140625, 10533.3388671875, 10166.9208984375, 10078.517578125, 8504.880859375, 7711.080078125, 6145.142578125, 5435.7470703125, 5366.21826171875, 4083.486328125, 4005.556640625, 3869.75341796875, 3561.273193359375, 3555.424560546875, 3457.890625, 3420.801513671875, 2503.068359375, 2425.67138671875, 2193.85888671875, 2184.273193359375, 2166.064697265625, 2125.67431640625, 2084.06689453125, 2078.771240234375, 1936.0211181640625, 1927.1885986328125, 1900.9569091796875, 1858.9722900390625, 1883.081298828125, 1830.6729736328125, 15011.5927734375, 42359.390625, 34461.28515625, 9274.3330078125, 16164.9228515625, 28466.68359375, 50292.09375, 9220.46875, 6034.828125, 5350.8046875, 14008.0087890625, 6463.103515625, 31401.904296875, 21765.66015625, 12320.158203125, 7247.47607421875, 6439.7451171875, 5326.5888671875, 5100.5712890625, 4662.51708984375, 4482.24755859375, 4327.87109375, 4114.1767578125, 3910.81591796875, 3661.468017578125, 3520.49267578125, 3360.224365234375, 3286.80322265625, 3245.99365234375, 3240.874755859375, 2875.295166015625, 2577.835205078125, 2530.49169921875, 2505.670654296875, 2481.339599609375, 2371.784912109375, 2189.698486328125, 2118.83203125, 2044.0887451171875, 2002.341796875, 1945.4617919921875, 1886.6268310546875, 11189.484375, 14008.0087890625, 21602.650390625, 6953.70703125, 6109.04833984375, 24638.7578125, 6042.34326171875, 9542.4306640625, 28466.68359375], \"loglift\": [30.0, 29.0, 28.0, 27.0, 26.0, 25.0, 24.0, 23.0, 22.0, 21.0, 20.0, 19.0, 18.0, 17.0, 16.0, 15.0, 14.0, 13.0, 12.0, 11.0, 10.0, 9.0, 8.0, 7.0, 6.0, 5.0, 4.0, 3.0, 2.0, 1.0, 1.664199948310852, 1.664199948310852, 1.664199948310852, 1.664199948310852, 1.664199948310852, 1.664199948310852, 1.664199948310852, 1.664199948310852, 1.664199948310852, 1.664199948310852, 1.664199948310852, 1.664199948310852, 1.664199948310852, 1.664199948310852, 1.664199948310852, 1.664199948310852, 1.664199948310852, 1.664199948310852, 1.664199948310852, 1.664199948310852, 1.664199948310852, 1.664199948310852, 1.664199948310852, 1.664199948310852, 1.6641000509262085, 1.6641000509262085, 1.6641000509262085, 1.6641000509262085, 1.6641000509262085, 1.6641000509262085, 1.496899962425232, 1.4296000003814697, 1.32669997215271, 1.2898000478744507, 1.2732000350952148, 1.1102999448776245, 1.0745999813079834, 1.3085999488830566, 0.6604999899864197, 1.2628999948501587, 0.7605000138282776, 0.4837000072002411, 0.5878000259399414, 0.8884999752044678, -0.5979999899864197, 1.7096999883651733, 1.7096999883651733, 1.7096999883651733, 1.7096999883651733, 1.7096999883651733, 1.7096999883651733, 1.7096999883651733, 1.7096999883651733, 1.7096999883651733, 1.7096999883651733, 1.7096999883651733, 1.7096999883651733, 1.7096999883651733, 1.7096999883651733, 1.7096999883651733, 1.7096999883651733, 1.7096999883651733, 1.7096999883651733, 1.7096999883651733, 1.7096999883651733, 1.7096999883651733, 1.7096999883651733, 1.7096999883651733, 1.7096999883651733, 1.7096999883651733, 1.7096999883651733, 1.7096999883651733, 1.7096999883651733, 1.7096999883651733, 1.7096999883651733, 1.4802000522613525, 1.4838000535964966, 1.3482999801635742, 1.4652999639511108, 1.2843999862670898, 1.1904000043869019, 1.0428999662399292, 1.1416000127792358, 0.8346999883651733, 1.2910000085830688, 1.1920000314712524, 0.8885999917984009, 1.4456000328063965, 0.41280001401901245, 0.28360000252723694, 0.7888000011444092, 1.0602999925613403, 1.1794999837875366, 0.8845999836921692, 0.2515999972820282, 1.1771999597549438, 0.6995999813079834, 1.7655999660491943, 1.7655999660491943, 1.7655999660491943, 1.7655999660491943, 1.7655999660491943, 1.7655999660491943, 1.7655999660491943, 1.7655999660491943, 1.7654999494552612, 1.7654999494552612, 1.7654999494552612, 1.7654999494552612, 1.7654999494552612, 1.7654999494552612, 1.7654999494552612, 1.7654999494552612, 1.7654999494552612, 1.7654999494552612, 1.7654999494552612, 1.7654999494552612, 1.7654999494552612, 1.7654999494552612, 1.7654999494552612, 1.7654999494552612, 1.7654999494552612, 1.7654999494552612, 1.7654999494552612, 1.7654999494552612, 1.7654999494552612, 1.7654999494552612, 1.4908000230789185, 1.6430000066757202, 1.350100040435791, 1.559499979019165, 1.5013999938964844, 1.5325000286102295, 1.6473000049591064, 1.4311000108718872, 1.1639000177383423, 0.572700023651123, 1.4890999794006348, 1.065500020980835, 1.1936999559402466, 0.4634999930858612, 1.2853000164031982, -0.3264999985694885, -0.4336000084877014, 0.6635000109672546, 1.844499945640564, 1.844499945640564, 1.844499945640564, 1.844499945640564, 1.844499945640564, 1.844499945640564, 1.844499945640564, 1.844499945640564, 1.844499945640564, 1.844499945640564, 1.844499945640564, 1.844499945640564, 1.844499945640564, 1.844499945640564, 1.844499945640564, 1.844499945640564, 1.844499945640564, 1.844499945640564, 1.844499945640564, 1.8444000482559204, 1.8444000482559204, 1.8444000482559204, 1.8444000482559204, 1.8444000482559204, 1.8444000482559204, 1.8444000482559204, 1.8444000482559204, 1.8444000482559204, 1.8444000482559204, 1.8444000482559204, 1.6842999458312988, 1.691499948501587, 1.264799952507019, 1.5108000040054321, 1.5322999954223633, 1.280900001525879, 0.7875000238418579, 1.0267000198364258, 0.27959999442100525, -0.1768999993801117, 0.9200000166893005, 1.875100016593933, 1.875100016593933, 1.875100016593933, 1.875100016593933, 1.875100016593933, 1.875100016593933, 1.875100016593933, 1.875100016593933, 1.875100016593933, 1.875100016593933, 1.875100016593933, 1.875100016593933, 1.875100016593933, 1.875100016593933, 1.875100016593933, 1.875100016593933, 1.875100016593933, 1.875100016593933, 1.875100016593933, 1.875100016593933, 1.875100016593933, 1.875100016593933, 1.875100016593933, 1.875100016593933, 1.875100016593933, 1.875100016593933, 1.875100016593933, 1.875100016593933, 1.875100016593933, 1.875100016593933, 1.367400050163269, 0.2565999925136566, 0.29089999198913574, 0.9690999984741211, 0.5532000064849854, 0.1662999987602234, -0.3880000114440918, 0.7113000154495239, 0.9904999732971191, 1.0501999855041504, 0.15569999814033508, 0.8389000296592712, 1.9157999753952026, 1.9157999753952026, 1.9157999753952026, 1.9157999753952026, 1.9157999753952026, 1.9157999753952026, 1.9157999753952026, 1.9157999753952026, 1.9157999753952026, 1.9157999753952026, 1.9157999753952026, 1.9157999753952026, 1.9157999753952026, 1.9157999753952026, 1.9157999753952026, 1.9157999753952026, 1.9157999753952026, 1.9157999753952026, 1.9156999588012695, 1.9156999588012695, 1.9156999588012695, 1.9156999588012695, 1.9156999588012695, 1.9156999588012695, 1.9156999588012695, 1.9156999588012695, 1.9156999588012695, 1.9156999588012695, 1.9156999588012695, 1.9156999588012695, 1.4198999404907227, 1.1818000078201294, 0.6657000184059143, 1.2310999631881714, 1.2568999528884888, 0.3172999918460846, 1.170799970626831, 0.6324999928474426, -0.43939998745918274], \"logprob\": [30.0, 29.0, 28.0, 27.0, 26.0, 25.0, 24.0, 23.0, 22.0, 21.0, 20.0, 19.0, 18.0, 17.0, 16.0, 15.0, 14.0, 13.0, 12.0, 11.0, 10.0, 9.0, 8.0, 7.0, 6.0, 5.0, 4.0, 3.0, 2.0, 1.0, -2.9256999492645264, -3.2764999866485596, -3.3726999759674072, -3.5055999755859375, -3.58270001411438, -3.8387999534606934, -3.890399932861328, -4.002799987792969, -4.166299819946289, -4.397500038146973, -4.431600093841553, -4.553500175476074, -4.821499824523926, -4.90749979019165, -5.06220006942749, -5.072500228881836, -5.10099983215332, -5.273799896240234, -5.343900203704834, -5.417600154876709, -5.583399772644043, -5.621300220489502, -5.623899936676025, -5.695899963378906, -5.746799945831299, -5.849699974060059, -5.889200210571289, -5.959700107574463, -5.984099864959717, -6.0015997886657715, -3.6410000324249268, -3.1835999488830566, -3.6175999641418457, -4.505799770355225, -4.60129976272583, -4.123899936676025, -4.071700096130371, -4.815700054168701, -3.438699960708618, -4.889999866485596, -4.103799819946289, -4.184599876403809, -4.789599895477295, -4.992800235748291, -4.868800163269043, -2.442699909210205, -3.401400089263916, -3.8020999431610107, -4.094799995422363, -4.44789981842041, -4.619900226593018, -4.718200206756592, -4.7316999435424805, -4.7347002029418945, -4.7941999435424805, -5.128699779510498, -5.184100151062012, -5.293600082397461, -5.318999767303467, -5.354599952697754, -5.359300136566162, -5.364200115203857, -5.5507001876831055, -5.549799919128418, -5.597400188446045, -5.6031999588012695, -5.610499858856201, -5.620500087738037, -5.625999927520752, -5.633200168609619, -5.650700092315674, -5.673900127410889, -5.7221999168396, -5.827099800109863, -5.816299915313721, -2.996999979019165, -3.328900098800659, -3.177500009536743, -4.041800022125244, -3.9245998859405518, -3.673799991607666, -3.2279000282287598, -3.948199987411499, -3.8336000442504883, -4.768499851226807, -4.597899913787842, -4.1620001792907715, -5.1153998374938965, -3.6863999366760254, -4.0467000007629395, -4.519400119781494, -4.796599864959717, -4.968400001525879, -4.876699924468994, -4.652599811553955, -5.042300224304199, -4.999199867248535, -4.028299808502197, -4.127999782562256, -4.151299953460693, -4.321499824523926, -4.4542999267578125, -4.519400119781494, -4.5767998695373535, -4.83620023727417, -4.855199813842773, -4.8892998695373535, -4.913599967956543, -4.951399803161621, -5.1006999015808105, -5.105000019073486, -5.29640007019043, -5.310400009155273, -5.319399833679199, -5.325399875640869, -5.332900047302246, -5.395999908447266, -5.440499782562256, -5.467199802398682, -5.485199928283691, -5.551499843597412, -5.560699939727783, -5.569799900054932, -5.565999984741211, -5.5721001625061035, -5.569799900054932, -5.609399795532227, -2.8394999504089355, -4.460999965667725, -3.5541000366210938, -4.616600036621094, -4.36460018157959, -4.583399772644043, -5.23769998550415, -4.918000221252441, -4.540599822998047, -3.953000068664551, -5.090000152587891, -4.633200168609619, -4.795300006866455, -4.626299858093262, -5.093400001525879, -4.4257001876831055, -4.704500198364258, -5.048799991607666, -3.6823999881744385, -3.897200107574463, -4.001699924468994, -4.071400165557861, -4.082300186157227, -4.14709997177124, -4.191100120544434, -4.231400012969971, -4.247600078582764, -4.302999973297119, -4.308199882507324, -4.343400001525879, -4.3404998779296875, -4.34119987487793, -4.410399913787842, -4.506400108337402, -4.5665998458862305, -4.660299777984619, -4.843200206756592, -4.919300079345703, -4.9415998458862305, -5.012800216674805, -5.013599872589111, -5.009699821472168, -5.035399913787842, -5.029099941253662, -5.084099769592285, -5.146999835968018, -5.160099983215332, -5.162700176239014, -4.309500217437744, -4.357800006866455, -3.785799980163574, -4.44920015335083, -4.649199962615967, -4.431399822235107, -4.358799934387207, -4.566299915313721, -4.333600044250488, -4.276100158691406, -4.783199787139893, -3.5799999237060547, -3.787400007247925, -3.8227999210357666, -3.8315000534057617, -4.001299858093262, -4.099299907684326, -4.326300144195557, -4.448999881744385, -4.4618000984191895, -4.735000133514404, -4.754300117492676, -4.78879976272583, -4.871799945831299, -4.873499870300293, -4.901299953460693, -4.912099838256836, -5.2245001792907715, -5.255899906158447, -5.356299877166748, -5.3607001304626465, -5.369100093841553, -5.387899875640869, -5.407700061798096, -5.410200119018555, -5.481400012969971, -5.485899925231934, -5.499599933624268, -5.521999835968018, -5.509099960327148, -5.537300109863281, -3.9409000873565674, -4.0142998695373535, -4.186299800872803, -4.820700168609619, -4.681000232696533, -4.501999855041504, -4.487199783325195, -5.0843000411987305, -5.229100227355957, -5.289599895477295, -5.221700191497803, -5.311999797821045, -2.654400110244751, -3.020900011062622, -3.5899999141693115, -4.12060022354126, -4.238800048828125, -4.428599834442139, -4.47189998626709, -4.561699867248535, -4.601200103759766, -4.636199951171875, -4.6869001388549805, -4.737500190734863, -4.803400039672852, -4.842700004577637, -4.8892998695373535, -4.911399841308594, -4.923900127410889, -4.92549991607666, -5.045199871063232, -5.154399871826172, -5.172900199890137, -5.182799816131592, -5.192500114440918, -5.23769998550415, -5.317599773406982, -5.350500106811523, -5.38640022277832, -5.4070000648498535, -5.435800075531006, -5.4664998054504395, -4.182199954986572, -4.1956000328063965, -4.278500080108643, -4.846700191497803, -4.950399875640869, -4.495500087738037, -5.047500133514404, -5.128799915313721, -5.107699871063232]}, \"token.table\": {\"Topic\": [1, 2, 3, 3, 4, 6, 2, 2, 4, 2, 4, 6, 6, 2, 4, 4, 1, 3, 4, 5, 2, 5, 5, 3, 3, 3, 2, 3, 5, 3, 3, 5, 5, 4, 5, 4, 1, 6, 6, 1, 3, 5, 4, 2, 3, 2, 4, 4, 5, 1, 3, 1, 1, 1, 2, 3, 5, 6, 4, 4, 4, 5, 2, 5, 1, 6, 1, 2, 5, 4, 6, 3, 4, 6, 5, 6, 1, 2, 5, 3, 3, 3, 5, 3, 2, 3, 6, 2, 3, 2, 2, 3, 1, 3, 2, 4, 4, 1, 3, 5, 3, 5, 1, 6, 6, 5, 5, 5, 1, 3, 4, 6, 6, 1, 4, 1, 2, 3, 4, 5, 6, 2, 2, 6, 1, 5, 6, 6, 6, 6, 2, 1, 2, 5, 6, 6, 3, 3, 1, 2, 3, 4, 5, 6, 1, 1, 1, 1, 3, 3, 1, 5, 2, 5, 6, 6, 3, 3, 3, 6, 1, 1, 5, 5, 3, 4, 5, 2, 3, 3, 2, 4, 2, 4, 1, 5, 2, 5, 3, 4, 5, 6, 5, 6, 3, 1, 5, 6, 3, 4, 5, 4, 6, 1, 4, 5, 6, 1, 5, 6, 4, 4, 2, 2, 2, 3, 4, 6, 2, 2, 1, 2, 5, 2, 1, 4, 5, 6, 3, 5, 2, 6, 1, 3, 2, 2, 2, 2, 3, 5, 2, 5, 2, 5, 4, 6, 3, 6, 6, 2, 1, 2, 3, 4, 5, 6, 2, 4, 2, 1, 2, 6, 1, 4, 5, 4, 2, 3, 1, 2, 5, 5, 5, 3, 6, 4, 3, 3, 5, 1, 2, 3, 2, 3, 1, 5, 4, 1, 1, 2, 1, 4, 4, 4, 1, 4, 6, 4, 6, 1, 6, 6, 3, 5, 6, 1, 3, 2, 1, 3, 2, 1, 3, 1, 3, 2, 5, 2, 1, 4, 4, 1, 1, 1, 2, 3, 6, 2, 3, 3, 3, 5, 1, 6, 1, 2, 3, 5, 1, 2, 6], \"Freq\": [0.1819274127483368, 0.653515100479126, 0.16455502808094025, 1.000057578086853, 1.0000340938568115, 1.0000598430633545, 1.000009536743164, 0.783178985118866, 0.21682283282279968, 0.2681613266468048, 0.731900155544281, 0.999889075756073, 0.9998056888580322, 0.9998936057090759, 0.9998515844345093, 0.9999201893806458, 0.9999523758888245, 1.0000364780426025, 0.8520500659942627, 0.1479584127664566, 0.5958380103111267, 0.4041261076927185, 0.9999232888221741, 1.0000299215316772, 1.000044822692871, 1.0000382661819458, 0.3641359806060791, 0.4965401291847229, 0.13919661939144135, 0.9999438524246216, 1.000024676322937, 1.0000149011611938, 0.9999547004699707, 1.0000030994415283, 0.9999701380729675, 0.9999880194664001, 0.9999698996543884, 0.9998600482940674, 0.9999447464942932, 0.48235735297203064, 0.0794273093342781, 0.4382518529891968, 1.000016450881958, 0.6966497898101807, 0.30336400866508484, 1.0000090599060059, 1.0000327825546265, 0.9999285936355591, 0.9999593496322632, 0.11153286695480347, 0.8883947134017944, 1.0001555681228638, 0.999962568283081, 0.16142740845680237, 0.5665754079818726, 0.27193692326545715, 1.0001531839370728, 1.0000907182693481, 1.0000107288360596, 1.0000475645065308, 0.9999344944953918, 0.9999890923500061, 0.9999281764030457, 0.9998749494552612, 0.7135235667228699, 0.28649261593818665, 0.7006569504737854, 0.2991839647293091, 1.000014066696167, 1.0000206232070923, 0.9997626543045044, 0.9998025894165039, 0.8582034707069397, 0.14186914265155792, 0.9998806118965149, 1.0001376867294312, 0.5031638145446777, 0.1420370191335678, 0.3547831177711487, 0.9999786615371704, 1.0000842809677124, 1.0000100135803223, 1.0000464916229248, 0.9997805953025818, 0.4381483197212219, 0.28462350368499756, 0.277078241109848, 0.9997958540916443, 1.0000791549682617, 1.0000123977661133, 0.5885152220726013, 0.4114207327365875, 0.8459153771400452, 0.15404795110225677, 0.999782919883728, 1.0000603199005127, 0.9999482035636902, 0.6694110631942749, 0.2198297530412674, 0.11069001257419586, 0.7678200602531433, 0.2320450395345688, 0.9999088048934937, 1.0000470876693726, 1.0000298023223877, 0.9999727010726929, 1.0001354217529297, 1.0000580549240112, 0.22573909163475037, 0.11973293870687485, 0.44138237833976746, 0.21307502686977386, 0.9999343156814575, 0.7908949851989746, 0.2091100960969925, 0.36651885509490967, 0.27336305379867554, 0.12341900169849396, 0.132486030459404, 0.1040322557091713, 0.0001988384174183011, 0.9998841285705566, 0.797808051109314, 0.2022017538547516, 0.9999204277992249, 1.0000226497650146, 0.9999332427978516, 1.0000395774841309, 0.999888002872467, 1.0001314878463745, 1.000066876411438, 0.4603225886821747, 0.28758347034454346, 0.12287872284650803, 0.12914080917835236, 1.0000030994415283, 0.9998278021812439, 1.0000630617141724, 0.1041327565908432, 0.5133454203605652, 0.11088450253009796, 0.07325412333011627, 0.19818510115146637, 0.00018886012549046427, 0.9998330473899841, 0.9997267723083496, 0.9999500513076782, 0.9999496936798096, 1.0001229047775269, 1.0000827312469482, 0.9999734163284302, 0.9999021291732788, 0.9996851086616516, 1.0001786947250366, 1.0000156164169312, 0.9998292922973633, 0.9999176263809204, 1.0000245571136475, 0.999992311000824, 0.9999570250511169, 0.9998608827590942, 0.6877090930938721, 0.3122400939464569, 1.0000643730163574, 0.5478990077972412, 0.29018649458885193, 0.16187475621700287, 0.9997720718383789, 1.0000370740890503, 0.9999818801879883, 0.28375980257987976, 0.7163017392158508, 0.43994608521461487, 0.5600624680519104, 1.00008225440979, 0.9999678730964661, 0.5870921015739441, 0.41277065873146057, 0.276481956243515, 0.39672592282295227, 0.11529970169067383, 0.21141575276851654, 0.9999896287918091, 0.9998973608016968, 1.000084638595581, 0.3408050537109375, 0.1791832149028778, 0.48001113533973694, 0.3321647047996521, 0.5691401362419128, 0.09868155419826508, 1.000044822692871, 0.9999566078186035, 0.9999659657478333, 1.0000029802322388, 0.9999678134918213, 1.0000792741775513, 0.22226224839687347, 0.16872984170913696, 0.6089646220207214, 0.9999597668647766, 0.9999247789382935, 1.0000790357589722, 1.0000478029251099, 0.1542447954416275, 0.32007449865341187, 0.05097360163927078, 0.4746502935886383, 1.0000628232955933, 0.9999733567237854, 0.9999666810035706, 0.7948629856109619, 0.2051287442445755, 0.9998883605003357, 0.574701189994812, 0.05716080591082573, 0.2666266858577728, 0.1014542430639267, 0.9997192025184631, 1.0000637769699097, 1.0000120401382446, 0.9998894333839417, 0.9999481439590454, 0.9999621510505676, 0.9998674392700195, 0.9997210502624512, 0.9999520182609558, 0.5223326683044434, 0.27027544379234314, 0.20743410289287567, 0.9999954104423523, 0.9999568462371826, 0.9998792409896851, 0.9999768137931824, 1.0000091791152954, 0.9998631477355957, 0.4825628995895386, 0.5174291729927063, 1.0000019073486328, 1.0000009536743164, 0.30713096261024475, 0.4168381690979004, 3.512878538458608e-05, 3.512878538458608e-05, 0.1810888797044754, 0.09488284587860107, 0.9999331831932068, 1.000059723854065, 0.9999549388885498, 1.000011920928955, 1.0000731945037842, 0.9998721480369568, 0.9999839067459106, 0.9999552369117737, 0.9998809099197388, 1.000097632408142, 0.24023127555847168, 0.7597511410713196, 1.0000711679458618, 0.9998075366020203, 1.0000077486038208, 1.000031590461731, 0.9999486207962036, 1.0000468492507935, 0.999667763710022, 0.9999902844429016, 0.9998826384544373, 0.7921035885810852, 0.2079608142375946, 1.0000059604644775, 0.28428182005882263, 0.715703547000885, 0.6578637361526489, 0.3421343266963959, 1.0000128746032715, 1.0001100301742554, 0.9999815821647644, 1.0000345706939697, 0.40505605936050415, 0.5949140787124634, 0.9999769330024719, 0.9998201131820679, 0.9999780654907227, 0.9998601675033569, 0.5545558929443359, 0.3474755883216858, 0.0979027971625328, 1.0000454187393188, 0.9999871850013733, 0.49570682644844055, 0.504191517829895, 1.0000386238098145, 0.618670642375946, 0.21626269817352295, 0.16496588289737701, 0.6763018369674683, 0.32365790009498596, 0.9999586939811707, 0.9999877214431763, 1.0000309944152832, 0.999826192855835, 1.0000101327896118, 0.9998528957366943, 0.18610945343971252, 0.8137727379798889, 0.3981589376926422, 0.6018015742301941, 1.0000430345535278, 0.9999715089797974, 0.9999655485153198, 0.9999480843544006, 1.0000665187835693, 0.9999628067016602, 0.10657981038093567, 0.17513298988342285, 0.5644782781600952, 0.15368545055389404, 0.24146828055381775, 0.758357584476471, 1.0000604391098022, 0.8846665620803833, 0.11530784517526627, 1.0000163316726685, 1.0000638961791992, 0.10730871558189392, 0.23267269134521484, 0.6599953174591064, 0.9998610615730286, 1.0000191926956177, 0.767745852470398, 0.23197908699512482], \"Term\": [\"accommodation_N\", \"accommodation_N\", \"accommodation_N\", \"air_N\", \"airport_N\", \"always_R\", \"amaze_V\", \"apartment_N\", \"apartment_N\", \"area_N\", \"area_N\", \"arrive_V\", \"ask_V\", \"atmosphere_R\", \"attraction_N\", \"away_R\", \"back_R\", \"bathroom_N\", \"beach_N\", \"beach_N\", \"beautiful_J\", \"beautiful_J\", \"beautiful_N\", \"bed_N\", \"bed_V\", \"bedroom_N\", \"best_J\", \"best_J\", \"best_J\", \"big_J\", \"bos_N\", \"bread_N\", \"breakfast_N\", \"bus_N\", \"cafe_J\", \"car_N\", \"chance_N\", \"check_N\", \"check_V\", \"child_N\", \"child_N\", \"child_N\", \"city_N\", \"clean_J\", \"clean_J\", \"clean_N\", \"close_J\", \"close_R\", \"coffee_N\", \"cold_J\", \"cold_J\", \"come_N\", \"come_V\", \"comfortable_J\", \"comfortable_J\", \"comfortable_J\", \"comfortably_R\", \"consideration_N\", \"convenience_N\", \"convenient_J\", \"convenient_N\", \"course_N\", \"cozy_N\", \"cute_N\", \"day_N\", \"day_N\", \"definitely_R\", \"definitely_R\", \"delicious_J\", \"distance_N\", \"door_N\", \"double_J\", \"easy_J\", \"easy_J\", \"eat_N\", \"english_J\", \"enjoy_V\", \"enjoy_V\", \"enjoy_V\", \"enough_R\", \"enthusiastic_J\", \"equip_V\", \"especially_R\", \"ever_R\", \"everything_N\", \"everything_N\", \"everything_N\", \"exactly_R\", \"expect_V\", \"experience_N\", \"facility_N\", \"facility_N\", \"family_N\", \"family_N\", \"fantastic_J\", \"far_R\", \"find_V\", \"first_J\", \"first_J\", \"first_J\", \"floor_N\", \"floor_N\", \"friend_N\", \"friendly_J\", \"friendly_R\", \"front_J\", \"fun_N\", \"garden_N\", \"get_V\", \"get_V\", \"get_V\", \"get_V\", \"give_V\", \"go_V\", \"go_V\", \"good_J\", \"good_J\", \"good_J\", \"good_J\", \"good_J\", \"good_J\", \"good_N\", \"great_J\", \"great_J\", \"happy_J\", \"heal_V\", \"help_N\", \"help_V\", \"helpful_J\", \"helpful_N\", \"highly_R\", \"home_N\", \"home_N\", \"home_N\", \"home_N\", \"host_N\", \"host_V\", \"hot_J\", \"house_N\", \"house_N\", \"house_N\", \"house_N\", \"house_N\", \"house_N\", \"husband_N\", \"i'd_N\", \"i'll_N\", \"i'm_N\", \"inconvenience_N\", \"information_N\", \"island_N\", \"island_V\", \"jungmun_N\", \"kid_N\", \"kind_N\", \"kindness_N\", \"kitchen_N\", \"landlord_N\", \"large_J\", \"late_J\", \"later_R\", \"like_V\", \"like_V\", \"liked_J\", \"little_J\", \"little_J\", \"little_J\", \"live_J\", \"live_V\", \"living_N\", \"locate_V\", \"locate_V\", \"location_N\", \"location_N\", \"long_J\", \"look_N\", \"look_V\", \"look_V\", \"lot_N\", \"lot_N\", \"lot_N\", \"lot_N\", \"love_V\", \"lovely_R\", \"machine_N\", \"make_V\", \"make_V\", \"make_V\", \"many_J\", \"many_J\", \"many_J\", \"market_N\", \"mart_N\", \"memory_N\", \"minute_N\", \"morning_N\", \"mr_N\", \"much_J\", \"much_J\", \"much_J\", \"nearby_J\", \"nearby_R\", \"neat_J\", \"neat_N\", \"need_V\", \"need_V\", \"need_V\", \"need_V\", \"neighborhood_N\", \"new_J\", \"next_J\", \"nice_J\", \"nice_J\", \"nice_N\", \"night_N\", \"night_N\", \"night_N\", \"night_N\", \"nothing_N\", \"old_J\", \"overall_J\", \"owner_N\", \"parent_N\", \"people_N\", \"perfect_J\", \"perfect_N\", \"photo_N\", \"picture_N\", \"picture_N\", \"picture_N\", \"place_N\", \"play_V\", \"pleasant_N\", \"pretty_R\", \"price_N\", \"problem_N\", \"provide_V\", \"provide_V\", \"question_N\", \"quiet_J\", \"really_R\", \"really_R\", \"really_R\", \"really_R\", \"really_R\", \"really_R\", \"recommend_J\", \"recommend_N\", \"recommend_V\", \"refrigerator_N\", \"relax_V\", \"reservation_N\", \"rest_N\", \"restaurant_N\", \"right_R\", \"road_N\", \"room_N\", \"room_N\", \"satisfy_V\", \"scenery_N\", \"sea_N\", \"see_N\", \"see_V\", \"seem_V\", \"service_N\", \"shop_N\", \"sleep_V\", \"small_J\", \"small_J\", \"sorry_N\", \"space_N\", \"space_N\", \"spacious_J\", \"spacious_J\", \"spend_V\", \"star_N\", \"station_N\", \"stay_J\", \"stay_N\", \"stay_N\", \"stay_V\", \"stop_N\", \"store_N\", \"street_N\", \"take_V\", \"take_V\", \"take_V\", \"taxi_N\", \"thank_N\", \"thanks_N\", \"thanks_N\", \"there's_N\", \"thing_N\", \"thing_N\", \"thing_N\", \"think_V\", \"think_V\", \"tidy_N\", \"time_N\", \"towel_N\", \"traditional_J\", \"trip_N\", \"uncomfortable_J\", \"use_V\", \"use_V\", \"view_N\", \"view_N\", \"village_N\", \"visit_N\", \"walk_N\", \"walk_V\", \"want_J\", \"want_V\", \"warm_J\", \"warm_J\", \"warm_J\", \"warm_J\", \"warm_N\", \"warm_N\", \"wash_V\", \"water_N\", \"water_N\", \"week_N\", \"welcome_V\", \"well_R\", \"well_R\", \"well_R\", \"window_N\", \"winter_N\", \"wonderful_J\", \"wonderful_J\"]}, \"R\": 30, \"lambda.step\": 0.01, \"plot.opts\": {\"xlab\": \"PC1\", \"ylab\": \"PC2\"}, \"topic.order\": [3, 6, 2, 1, 4, 5]};\n",
       "\n",
       "function LDAvis_load_lib(url, callback){\n",
       "  var s = document.createElement('script');\n",
       "  s.src = url;\n",
       "  s.async = true;\n",
       "  s.onreadystatechange = s.onload = callback;\n",
       "  s.onerror = function(){console.warn(\"failed to load library \" + url);};\n",
       "  document.getElementsByTagName(\"head\")[0].appendChild(s);\n",
       "}\n",
       "\n",
       "if(typeof(LDAvis) !== \"undefined\"){\n",
       "   // already loaded: just create the visualization\n",
       "   !function(LDAvis){\n",
       "       new LDAvis(\"#\" + \"ldavis_el840826536173189121717355343\", ldavis_el840826536173189121717355343_data);\n",
       "   }(LDAvis);\n",
       "}else if(typeof define === \"function\" && define.amd){\n",
       "   // require.js is available: use it to load d3/LDAvis\n",
       "   require.config({paths: {d3: \"https://cdnjs.cloudflare.com/ajax/libs/d3/3.5.5/d3.min\"}});\n",
       "   require([\"d3\"], function(d3){\n",
       "      window.d3 = d3;\n",
       "      LDAvis_load_lib(\"https://cdn.rawgit.com/bmabey/pyLDAvis/files/ldavis.v1.0.0.js\", function(){\n",
       "        new LDAvis(\"#\" + \"ldavis_el840826536173189121717355343\", ldavis_el840826536173189121717355343_data);\n",
       "      });\n",
       "    });\n",
       "}else{\n",
       "    // require.js not available: dynamically load d3 & LDAvis\n",
       "    LDAvis_load_lib(\"https://cdnjs.cloudflare.com/ajax/libs/d3/3.5.5/d3.min.js\", function(){\n",
       "         LDAvis_load_lib(\"https://cdn.rawgit.com/bmabey/pyLDAvis/files/ldavis.v1.0.0.js\", function(){\n",
       "                 new LDAvis(\"#\" + \"ldavis_el840826536173189121717355343\", ldavis_el840826536173189121717355343_data);\n",
       "            })\n",
       "         });\n",
       "}\n",
       "</script>"
      ],
      "text/plain": [
       "PreparedData(topic_coordinates=              x         y  topics  cluster       Freq\n",
       "topic                                                \n",
       "2     -0.057757  0.046721       1        1  18.933716\n",
       "5      0.211738  0.067125       2        1  18.091206\n",
       "1      0.202423  0.059847       3        1  17.108648\n",
       "0     -0.101349 -0.402199       4        1  15.810575\n",
       "3      0.093972  0.034681       5        1  15.333457\n",
       "4     -0.349027  0.193825       6        1  14.722397, topic_info=     Category          Freq             Term         Total  loglift  logprob\n",
       "term                                                                        \n",
       "49    Default  47685.000000          place_N  47685.000000  30.0000  30.0000\n",
       "38    Default  31401.000000           host_N  31401.000000  29.0000  29.0000\n",
       "70    Default  30787.000000           time_N  30787.000000  28.0000  28.0000\n",
       "69    Default  39915.000000           room_N  39915.000000  27.0000  27.0000\n",
       "66    Default  21765.000000           kind_N  21765.000000  26.0000  26.0000\n",
       "110   Default  34461.000000           nice_J  34461.000000  25.0000  25.0000\n",
       "77    Default  32828.000000          clean_J  32828.000000  24.0000  24.0000\n",
       "75    Default  21678.000000           stay_V  21678.000000  23.0000  23.0000\n",
       "241   Default  30079.000000             go_V  30079.000000  22.0000  22.0000\n",
       "251   Default  19689.000000           trip_N  19689.000000  21.0000  21.0000\n",
       "102   Default  18281.000000          quiet_J  18281.000000  20.0000  20.0000\n",
       "55    Default  24638.000000          great_J  24638.000000  19.0000  19.0000\n",
       "602   Default  17240.000000           next_J  17240.000000  18.0000  18.0000\n",
       "17    Default  15961.000000           come_V  15961.000000  17.0000  17.0000\n",
       "425   Default  12960.000000      breakfast_N  12960.000000  16.0000  16.0000\n",
       "20    Default  21602.000000            day_N  21602.000000  15.0000  15.0000\n",
       "45    Default  23401.000000           stay_N  23401.000000  14.0000  14.0000\n",
       "61    Default  12320.000000          thank_N  12320.000000  13.0000  13.0000\n",
       "87    Default  12063.000000     restaurant_N  12063.000000  12.0000  12.0000\n",
       "314   Default  17799.000000         family_N  17799.000000  11.0000  11.0000\n",
       "39    Default  19422.000000       location_N  19422.000000  10.0000  10.0000\n",
       "94    Default  12246.000000      recommend_V  12246.000000   9.0000   9.0000\n",
       "370   Default  12355.000000         island_N  12355.000000   8.0000   8.0000\n",
       "71    Default  22486.000000           well_R  22486.000000   7.0000   7.0000\n",
       "291   Default  10533.000000        morning_N  10533.000000   6.0000   6.0000\n",
       "219   Default  11733.000000           want_V  11733.000000   5.0000   5.0000\n",
       "119   Default  10166.000000            sea_N  10166.000000   4.0000   4.0000\n",
       "123   Default  10078.000000            see_V  10078.000000   3.0000   3.0000\n",
       "182   Default   9731.000000     convenient_N   9731.000000   2.0000   2.0000\n",
       "113   Default  15011.000000           view_N  15011.000000   1.0000   1.0000\n",
       "...       ...           ...              ...           ...      ...      ...\n",
       "280    Topic6   4327.723145       friendly_R   4327.871094   1.9158  -4.6362\n",
       "518    Topic6   4114.028320           late_J   4114.176758   1.9158  -4.6869\n",
       "194    Topic6   3910.668457       friendly_J   3910.815918   1.9158  -4.7375\n",
       "344    Topic6   3661.319580    reservation_N   3661.468018   1.9158  -4.8034\n",
       "334    Topic6   3520.344971          check_N   3520.492676   1.9158  -4.8427\n",
       "136    Topic6   3360.077148           help_N   3360.224365   1.9158  -4.8893\n",
       "133    Topic6   3286.656006         always_R   3286.803223   1.9158  -4.9114\n",
       "977    Topic6   3245.846924       question_N   3245.993652   1.9158  -4.9239\n",
       "88     Topic6   3240.727783        there's_N   3240.874756   1.9158  -4.9255\n",
       "392    Topic6   2875.148682         lovely_R   2875.295166   1.9157  -5.0452\n",
       "1395   Topic6   2577.689209        welcome_V   2577.835205   1.9157  -5.1544\n",
       "305    Topic6   2530.345215            ask_V   2530.491699   1.9157  -5.1729\n",
       "727    Topic6   2505.525146        helpful_N   2505.670654   1.9157  -5.1828\n",
       "187    Topic6   2481.193115        problem_N   2481.339600   1.9157  -5.1925\n",
       "630    Topic6   2371.637939  consideration_N   2371.784912   1.9157  -5.2377\n",
       "134    Topic6   2189.553467        english_J   2189.698486   1.9157  -5.3176\n",
       "170    Topic6   2118.688477             mr_N   2118.832031   1.9157  -5.3505\n",
       "1102   Topic6   2043.943848           mart_N   2044.088745   1.9157  -5.3864\n",
       "882    Topic6   2002.196533       kindness_N   2002.341797   1.9157  -5.4070\n",
       "30     Topic6   1945.315674           door_N   1945.461792   1.9157  -5.4358\n",
       "930    Topic6   1886.481934        service_N   1886.626831   1.9157  -5.4665\n",
       "674    Topic6   6814.468750           much_J  11189.484375   1.4199  -4.1822\n",
       "217    Topic6   6723.578125           make_V  14008.008789   1.1818  -4.1956\n",
       "20     Topic6   6188.809082            day_N  21602.650391   0.6657  -4.2785\n",
       "511    Topic6   3506.216797         thanks_N   6953.707031   1.2311  -4.8467\n",
       "456    Topic6   3161.004883        provide_V   6109.048340   1.2569  -4.9504\n",
       "55     Topic6   4981.808105          great_J  24638.757812   0.3173  -4.4955\n",
       "573    Topic6   2868.485352           need_V   6042.343262   1.1708  -5.0475\n",
       "62     Topic6   2644.304199     everything_N   9542.430664   0.6325  -5.1288\n",
       "86     Topic6   2700.843262         really_R  28466.683594  -0.4394  -5.1077\n",
       "\n",
       "[297 rows x 6 columns], token_table=      Topic      Freq             Term\n",
       "term                                  \n",
       "35        1  0.181927  accommodation_N\n",
       "35        2  0.653515  accommodation_N\n",
       "35        3  0.164555  accommodation_N\n",
       "14        3  1.000058            air_N\n",
       "81        4  1.000034        airport_N\n",
       "133       6  1.000060         always_R\n",
       "508       2  1.000010          amaze_V\n",
       "181       2  0.783179      apartment_N\n",
       "181       4  0.216823      apartment_N\n",
       "103       2  0.268161           area_N\n",
       "103       4  0.731900           area_N\n",
       "577       6  0.999889         arrive_V\n",
       "305       6  0.999806            ask_V\n",
       "785       2  0.999894     atmosphere_R\n",
       "205       4  0.999852     attraction_N\n",
       "231       4  0.999920           away_R\n",
       "476       1  0.999952           back_R\n",
       "353       3  1.000036       bathroom_N\n",
       "2048      4  0.852050          beach_N\n",
       "2048      5  0.147958          beach_N\n",
       "232       2  0.595838      beautiful_J\n",
       "232       5  0.404126      beautiful_J\n",
       "111       5  0.999923      beautiful_N\n",
       "323       3  1.000030            bed_N\n",
       "536       3  1.000045            bed_V\n",
       "354       3  1.000038        bedroom_N\n",
       "46        2  0.364136           best_J\n",
       "46        3  0.496540           best_J\n",
       "46        5  0.139197           best_J\n",
       "206       3  0.999944            big_J\n",
       "...     ...       ...              ...\n",
       "251       1  1.000010           trip_N\n",
       "337       3  0.999853  uncomfortable_J\n",
       "268       1  0.186109            use_V\n",
       "268       3  0.813773            use_V\n",
       "113       2  0.398159           view_N\n",
       "113       5  0.601802           view_N\n",
       "575       2  1.000043        village_N\n",
       "95        1  0.999972          visit_N\n",
       "368       4  0.999966           walk_N\n",
       "159       4  0.999948           walk_V\n",
       "1098      1  1.000067           want_J\n",
       "219       1  0.999963           want_V\n",
       "249       1  0.106580           warm_J\n",
       "249       2  0.175133           warm_J\n",
       "249       3  0.564478           warm_J\n",
       "249       6  0.153685           warm_J\n",
       "564       2  0.241468           warm_N\n",
       "564       3  0.758358           warm_N\n",
       "253       3  1.000060           wash_V\n",
       "303       3  0.884667          water_N\n",
       "303       5  0.115308          water_N\n",
       "666       1  1.000016           week_N\n",
       "1395      6  1.000064        welcome_V\n",
       "71        1  0.107309           well_R\n",
       "71        2  0.232673           well_R\n",
       "71        3  0.659995           well_R\n",
       "417       5  0.999861         window_N\n",
       "565       1  1.000019         winter_N\n",
       "140       2  0.767746      wonderful_J\n",
       "140       6  0.231979      wonderful_J\n",
       "\n",
       "[331 rows x 3 columns], R=30, lambda_step=0.01, plot_opts={'xlab': 'PC1', 'ylab': 'PC2'}, topic_order=[3, 6, 2, 1, 4, 5])"
      ]
     },
     "execution_count": 14,
     "metadata": {},
     "output_type": "execute_result"
    }
   ],
   "source": [
    "# Visualize the topics\n",
    "pyLDAvis.enable_notebook()\n",
    "vis = pyLDAvis.gensim.prepare(ldamodel, corpus, dic)\n",
    "vis"
   ]
  },
  {
   "cell_type": "code",
   "execution_count": 15,
   "metadata": {},
   "outputs": [],
   "source": [
    "pyLDAvis.save_html(vis,'LDA_jeju.html')"
   ]
  },
  {
   "cell_type": "code",
   "execution_count": null,
   "metadata": {},
   "outputs": [],
   "source": []
  }
 ],
 "metadata": {
  "kernelspec": {
   "display_name": "Python 3",
   "language": "python",
   "name": "python3"
  },
  "language_info": {
   "codemirror_mode": {
    "name": "ipython",
    "version": 3
   },
   "file_extension": ".py",
   "mimetype": "text/x-python",
   "name": "python",
   "nbconvert_exporter": "python",
   "pygments_lexer": "ipython3",
   "version": "3.7.0"
  }
 },
 "nbformat": 4,
 "nbformat_minor": 2
}
