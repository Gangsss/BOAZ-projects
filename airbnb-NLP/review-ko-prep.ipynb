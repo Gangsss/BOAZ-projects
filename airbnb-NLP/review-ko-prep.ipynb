{
 "cells": [
  {
   "cell_type": "code",
   "execution_count": 78,
   "metadata": {},
   "outputs": [],
   "source": [
    "import json\n",
    "import os\n",
    "from collections import Counter\n",
    "import pandas as pd\n",
    "import numpy as np\n",
    "import glob\n",
    "\n",
    "import nltk\n",
    "import nltk.tokenize\n",
    "import re"
   ]
  },
  {
   "cell_type": "code",
   "execution_count": 76,
   "metadata": {},
   "outputs": [],
   "source": [
    "import soynlp.normalizer"
   ]
  },
  {
   "cell_type": "code",
   "execution_count": 2,
   "metadata": {},
   "outputs": [
    {
     "data": {
      "text/plain": [
       "'C:\\\\Users\\\\Chankoo\\\\Desktop\\\\GitHub\\\\BOAZ-projects\\\\airbnb-NLP'"
      ]
     },
     "execution_count": 2,
     "metadata": {},
     "output_type": "execute_result"
    }
   ],
   "source": [
    "os.getcwd()"
   ]
  },
  {
   "cell_type": "code",
   "execution_count": 3,
   "metadata": {},
   "outputs": [],
   "source": [
    "os.chdir('./../airbnb-data')"
   ]
  },
  {
   "cell_type": "code",
   "execution_count": 4,
   "metadata": {},
   "outputs": [
    {
     "data": {
      "text/plain": [
       "['review_final_busan_70028.json',\n",
       " 'review_final_daegu_33689.json',\n",
       " 'review_final_jeju_143957.json',\n",
       " 'review_final_jeonju_13647.json',\n",
       " 'review_final_seogwipo_42976.json',\n",
       " 'review_final_seoul_326990.json']"
      ]
     },
     "execution_count": 4,
     "metadata": {},
     "output_type": "execute_result"
    }
   ],
   "source": [
    "review_lst = glob.glob('review_final_*.json')\n",
    "review_lst"
   ]
  },
  {
   "cell_type": "code",
   "execution_count": 5,
   "metadata": {},
   "outputs": [],
   "source": [
    "review = {}\n",
    "for file in review_lst:\n",
    "    with open(file,'r',encoding='utf-8') as fp:\n",
    "        review.update(json.load(fp))"
   ]
  },
  {
   "cell_type": "code",
   "execution_count": 6,
   "metadata": {},
   "outputs": [
    {
     "data": {
      "text/plain": [
       "28837"
      ]
     },
     "execution_count": 6,
     "metadata": {},
     "output_type": "execute_result"
    }
   ],
   "source": [
    "len(review)"
   ]
  },
  {
   "cell_type": "code",
   "execution_count": 10,
   "metadata": {},
   "outputs": [
    {
     "data": {
      "text/plain": [
       "{'collection_tag': None,\n",
       " 'comments': 's',\n",
       " 'created_at': '2018-11-11T07:05:53Z',\n",
       " 'id': 347191879,\n",
       " 'language': 'ko',\n",
       " 'localized_date': '2018년 11월',\n",
       " 'rating': 5,\n",
       " 'response': '',\n",
       " 'reviewee': {'deleted': False,\n",
       "  'first_name': 'Kim',\n",
       "  'host_name': 'Kim',\n",
       "  'id': 9737805,\n",
       "  'is_superhost': False,\n",
       "  'picture_url': 'https://a0.muscache.com/im/pictures/c7744ba1-1971-4e43-ba33-30f0a9c82d55.jpg?aki_policy=profile_x_medium',\n",
       "  'profile_path': '/users/show/9737805'},\n",
       " 'reviewer': {'deleted': False,\n",
       "  'first_name': 'H, Joon',\n",
       "  'host_name': 'H, Joon',\n",
       "  'id': 50859516,\n",
       "  'is_superhost': False,\n",
       "  'picture_url': 'https://a0.muscache.com/im/pictures/user/88c86fc9-bdfe-4f11-8bdd-a49b20ab1ac2.jpg?aki_policy=profile_x_medium',\n",
       "  'profile_path': '/users/show/50859516'}}"
      ]
     },
     "execution_count": 10,
     "metadata": {},
     "output_type": "execute_result"
    }
   ],
   "source": [
    "tmp = review['10130187'][0]\n",
    "tmp['comments'] = 's'\n",
    "tmp"
   ]
  },
  {
   "cell_type": "code",
   "execution_count": 11,
   "metadata": {},
   "outputs": [],
   "source": [
    "keys = list(review.keys())"
   ]
  },
  {
   "cell_type": "code",
   "execution_count": 20,
   "metadata": {},
   "outputs": [
    {
     "name": "stdout",
     "output_type": "stream",
     "text": [
      "10030136 ----------------------------\n",
      "\n",
      "10076276 ----------------------------\n",
      "\n",
      "10097935 ----------------------------\n",
      "\n",
      "10099617 ----------------------------\n",
      "\n",
      "10167280 ----------------------------\n",
      "\n",
      "10214584 ----------------------------\n",
      "\n",
      "10216734 ----------------------------\n",
      "\n",
      "10239132 ----------------------------\n",
      "\n",
      "10268037 ----------------------------\n",
      "\n",
      "1028157 ----------------------------\n",
      "\n"
     ]
    }
   ],
   "source": [
    "sample_corpus = []\n",
    "for k in keys[:10]:\n",
    "    print(k,'----------------------------\\n')\n",
    "    for i,rev in enumerate(review[k]):\n",
    "        if rev['language'] == 'ko':\n",
    "            sample_corpus.append(rev['comments'])"
   ]
  },
  {
   "cell_type": "code",
   "execution_count": 32,
   "metadata": {},
   "outputs": [
    {
     "data": {
      "text/plain": [
       "219"
      ]
     },
     "execution_count": 32,
     "metadata": {},
     "output_type": "execute_result"
    }
   ],
   "source": [
    "len(sample_corpus)"
   ]
  },
  {
   "cell_type": "code",
   "execution_count": 69,
   "metadata": {},
   "outputs": [],
   "source": [
    "sample = sample_corpus[0]\n",
    "# sample = review['10130187'][67]['comments']"
   ]
  },
  {
   "cell_type": "code",
   "execution_count": 70,
   "metadata": {},
   "outputs": [
    {
     "data": {
      "text/plain": [
       "['친구들이랑 6명이 갔는데\\n숙소 위치도 너무 좋고 방도 깨끗해서\\n다들 맘에 들어했어요!!',\n",
       " '에어비엔비를  처음 이용해봤는데\\n너무 좋아서 다음번에도 이용할것같아요\\n해운대해변이랑도 걸어갈수 있고\\n연락도 너무 잘됐어요']"
      ]
     },
     "execution_count": 70,
     "metadata": {},
     "output_type": "execute_result"
    }
   ],
   "source": [
    "sample = sent_tokenize(sample)\n",
    "sample"
   ]
  },
  {
   "cell_type": "code",
   "execution_count": null,
   "metadata": {},
   "outputs": [],
   "source": [
    "spacing"
   ]
  },
  {
   "cell_type": "code",
   "execution_count": 71,
   "metadata": {},
   "outputs": [],
   "source": [
    "sample = [sent.replace('.','') for sent in sample]\n",
    "sample = [sent.replace('\\n','') for sent in sample]"
   ]
  },
  {
   "cell_type": "code",
   "execution_count": 72,
   "metadata": {},
   "outputs": [
    {
     "data": {
      "text/plain": [
       "['친구들이랑 6명이 갔는데숙소 위치도 너무 좋고 방도 깨끗해서다들 맘에 들어했어요!!',\n",
       " '에어비엔비를  처음 이용해봤는데너무 좋아서 다음번에도 이용할것같아요해운대해변이랑도 걸어갈수 있고연락도 너무 잘됐어요']"
      ]
     },
     "execution_count": 72,
     "metadata": {},
     "output_type": "execute_result"
    }
   ],
   "source": [
    "sample"
   ]
  },
  {
   "cell_type": "code",
   "execution_count": 73,
   "metadata": {},
   "outputs": [
    {
     "data": {
      "text/plain": [
       "['친구들이랑 6명이 갔는데숙소 위치도 너무 좋고 방도 깨끗해서다들 맘에 들어했어요!!',\n",
       " '에어비엔비를 처음 이용해봤는데너무 좋아서 다음번에도 이용할것같아요해운대해변이랑도 걸어갈수 있고연락도 너무 잘됐어요']"
      ]
     },
     "execution_count": 73,
     "metadata": {},
     "output_type": "execute_result"
    }
   ],
   "source": [
    "sample = [emoticon_normalize(sent) for sent in sample]\n",
    "sample"
   ]
  },
  {
   "cell_type": "code",
   "execution_count": 74,
   "metadata": {},
   "outputs": [
    {
     "data": {
      "text/plain": [
       "['친구들이랑 6명이 갔는데숙소 위치도 너무 좋고 방도 깨끗해서다들 맘에 들어했어요!!',\n",
       " '에어비엔비를 처음 이용해봤는데너무 좋아서 다음번에도 이용할것같아요해운대해변이랑도 걸어갈수 있고연락도 너무 잘됐어요']"
      ]
     },
     "execution_count": 74,
     "metadata": {},
     "output_type": "execute_result"
    }
   ],
   "source": [
    "sample = [repeat_normalize(sent) for sent in sample]\n",
    "sample"
   ]
  },
  {
   "cell_type": "code",
   "execution_count": null,
   "metadata": {},
   "outputs": [],
   "source": []
  },
  {
   "cell_type": "code",
   "execution_count": null,
   "metadata": {},
   "outputs": [],
   "source": []
  },
  {
   "cell_type": "code",
   "execution_count": null,
   "metadata": {},
   "outputs": [],
   "source": []
  },
  {
   "cell_type": "code",
   "execution_count": null,
   "metadata": {},
   "outputs": [],
   "source": [
    "for rev in sample_corpus:\n",
    "    tmp = rev.replace('\\n','. ')\n",
    "    tmp = repeat_normalize(emoticon_normalize(tmp))\n",
    "    "
   ]
  },
  {
   "cell_type": "code",
   "execution_count": null,
   "metadata": {},
   "outputs": [],
   "source": []
  },
  {
   "cell_type": "code",
   "execution_count": 13,
   "metadata": {},
   "outputs": [],
   "source": [
    "review_ko_handling = {}\n",
    "ko_review_cnt = 0\n",
    "for home_id,rev_lst in review.items():\n",
    "    for rev in rev_lst:\n",
    "        if rev['language'] == 'ko':\n",
    "            ko_review_cnt+=1\n",
    "            tmp = rev['comments']\n",
    "            if '\\n' in tmp:\n",
    "                tmp = tmp.replace('\\n','. ') # 개행문자 제거 \n",
    "            \n",
    "            tmp = re.sub(\"[^ㄱ-ㅎ|ㅏ-ㅣ|가-힣|a-z|A-Z]\",\"\",tmp) # \n",
    "            \n",
    "            review_ko_handling[home_id].append(spacing(rev['comments']))\n",
    "            #######\n",
    "            \n",
    "            #######\n",
    "    \n",
    "        else:\n",
    "            pass"
   ]
  },
  {
   "cell_type": "code",
   "execution_count": 14,
   "metadata": {},
   "outputs": [
    {
     "data": {
      "text/plain": [
       "0"
      ]
     },
     "execution_count": 14,
     "metadata": {},
     "output_type": "execute_result"
    }
   ],
   "source": [
    "ko_review_cnt"
   ]
  },
  {
   "cell_type": "code",
   "execution_count": null,
   "metadata": {},
   "outputs": [],
   "source": []
  },
  {
   "cell_type": "code",
   "execution_count": 62,
   "metadata": {},
   "outputs": [
    {
     "data": {
      "text/plain": [
       "'조용히 잘 쉬ㅓㅓㅗㅗㅓㅕㅕㅏㅗㅕㅗㅗㅎ호ㅓㅓ혀ㅔㅎㄹㅍ헤ㅔㅓ\\n게임 그만해ㅜㅎ'"
      ]
     },
     "execution_count": 62,
     "metadata": {},
     "output_type": "execute_result"
    }
   ],
   "source": [
    "rev_sample = review['10130187'][67]['comments']\n",
    "rev_sample"
   ]
  },
  {
   "cell_type": "code",
   "execution_count": null,
   "metadata": {},
   "outputs": [],
   "source": [
    "rev_sample"
   ]
  },
  {
   "cell_type": "code",
   "execution_count": null,
   "metadata": {},
   "outputs": [],
   "source": [
    "spacing(rev_sample)"
   ]
  },
  {
   "cell_type": "code",
   "execution_count": null,
   "metadata": {},
   "outputs": [],
   "source": []
  },
  {
   "cell_type": "markdown",
   "metadata": {},
   "source": [
    "~~1.0 한국어 spelling~~\n",
    "\n",
    "https://lovit.github.io/nlp/2018/08/28/levenshtein_hangle/"
   ]
  },
  {
   "cell_type": "code",
   "execution_count": 11,
   "metadata": {},
   "outputs": [],
   "source": [
    "from soynlp.hangle import levenshtein\n",
    "from soynlp.hangle import jamo_levenshtein"
   ]
  },
  {
   "cell_type": "markdown",
   "metadata": {},
   "source": [
    "1.1 한국어 Tokenizing(문장단위)"
   ]
  },
  {
   "cell_type": "code",
   "execution_count": null,
   "metadata": {},
   "outputs": [],
   "source": [
    "# Kkma? nltk?"
   ]
  },
  {
   "cell_type": "code",
   "execution_count": null,
   "metadata": {},
   "outputs": [],
   "source": []
  },
  {
   "cell_type": "markdown",
   "metadata": {},
   "source": [
    "~~1.2 의미없는 기호 제거~~\n",
    "\n",
    "ex) 욕설 blind 규칙"
   ]
  },
  {
   "cell_type": "code",
   "execution_count": 93,
   "metadata": {},
   "outputs": [
    {
     "name": "stdout",
     "output_type": "stream",
     "text": [
      "제거 전:  시~발련아^^\n",
      "제거 후: 시발련아\n",
      "제거 전:  시1발련아^^\n",
      "제거 후: 시발련아\n",
      "제거 전:  시!@#%발@##련아^^\n",
      "제거 후: 시발련아\n"
     ]
    }
   ],
   "source": [
    "rowString = \"시~발련아^^ 시1발련아^^ 시!@#%발@##련아^^\"\n",
    "\n",
    "for src in rowString.split():\n",
    "    print(\"제거 전: \", src)\n",
    "    src = re.sub(\"[^ㄱ-ㅎ|ㅏ-ㅣ|가-힝]\",\"\",src)\n",
    "    print(\"제거 후:\",src)"
   ]
  },
  {
   "cell_type": "code",
   "execution_count": null,
   "metadata": {},
   "outputs": [],
   "source": []
  },
  {
   "cell_type": "code",
   "execution_count": null,
   "metadata": {},
   "outputs": [],
   "source": []
  },
  {
   "cell_type": "markdown",
   "metadata": {},
   "source": [
    "1.3 한국어 spacing (conda 환경에서 진행)\n",
    "\n",
    "https://github.com/haven-jeon/PyKoSpacing"
   ]
  },
  {
   "cell_type": "code",
   "execution_count": 2,
   "metadata": {},
   "outputs": [
    {
     "name": "stderr",
     "output_type": "stream",
     "text": [
      "Using TensorFlow backend.\n"
     ]
    },
    {
     "name": "stdout",
     "output_type": "stream",
     "text": [
      "WARNING:tensorflow:From /home/chankoo/anaconda3/envs/tensorflow/lib/python3.6/site-packages/tensorflow/python/util/deprecation.py:497: calling conv1d (from tensorflow.python.ops.nn_ops) with data_format=NHWC is deprecated and will be removed in a future version.\n",
      "Instructions for updating:\n",
      "`NHWC` for data_format is deprecated, use `NWC` instead\n"
     ]
    }
   ],
   "source": [
    "from pykospacing import spacing"
   ]
  },
  {
   "cell_type": "code",
   "execution_count": null,
   "metadata": {},
   "outputs": [],
   "source": []
  },
  {
   "cell_type": "code",
   "execution_count": 30,
   "metadata": {},
   "outputs": [
    {
     "data": {
      "text/plain": [
       "'사진으로 보고 기대했던 것과 많이 달라서 실망했습니다. 소파와 티비, 가구등 시설이 노후했고 청결도도 눈에 보이는 곳 외에는 만족스럽지 않았습니다. 첫날 에어컨에서 냄새가 나고 차가운 바람이 나오지 않아서 더위에 고생했고, 가스레인지 1구 스위치가 고장나서 요리할때 가스가 샐까 불안했습니다. 전자도어락도 고장이 나서 겨우 잠그고 겨우 열고다녔습니다. 좋았던 점은 호스트분의 후속조치가 빨랐던 것과 숙소의 위치입니다. 숙소 위치의 장점 이외에는 이 가격으로 머물기에는 많이 실망스러웠습니다.'"
      ]
     },
     "execution_count": 30,
     "metadata": {},
     "output_type": "execute_result"
    }
   ],
   "source": [
    "rev_sample"
   ]
  },
  {
   "cell_type": "code",
   "execution_count": 34,
   "metadata": {},
   "outputs": [
    {
     "name": "stderr",
     "output_type": "stream",
     "text": [
      "/home/chankoo/anaconda3/envs/tensorflow/lib/python3.6/site-packages/pykospacing/kospacing.py:56: UserWarning: One sentence can not contain more than 198 characters. : 사진으로 보고 기대했던 것과 많이 달라서 실망했습니다. 소파와 티비, 가구등 시설이 노후했고 청결도도 눈에 보이는 곳 외에는 만족스럽지 않았습니다. 첫날 에어컨에서 냄새가 나고 차가운 바람이 나오지 않아서 더위에 고생했고, 가스레인지 1구 스위치가 고장나서 요리할때 가스가 샐까 불안했습니다. 전자도어락도 고장이 나서 겨우 잠그고 겨우 열고다녔습니다. 좋았던 점은 호스트분의 후속조치가 빨랐던 것과 숙소의 위치입니다. 숙소 위치의 장점 이외에는 이 가격으로 머물기에는 많이 실망스러웠습니다.\n",
      "  warnings.warn('One sentence can not contain more than 198 characters. : {}'.format(sent))\n"
     ]
    },
    {
     "data": {
      "text/plain": [
       "'사진으로 보고 기대했던 것과 많이 달라서 실망했습니다. 소파와 티비, 가구 등 시설이 노후했고 청결도도 눈에 보이는 곳 외에는 만족스럽지 않았습니다. 첫날 에어컨에서 냄새가 나 고 차가운 바람이 나오지 않아서 더위에 고생했고, 가스레인지 1구 스위치가 고장 나서 요리할 때 가스가 샐까 불안했습니다. 전자도어락도 고장이 나서 겨우 잠그고 겨우 열고 다녔습니다. 좋았'"
      ]
     },
     "execution_count": 34,
     "metadata": {},
     "output_type": "execute_result"
    }
   ],
   "source": [
    "spacing(rev_sample)"
   ]
  },
  {
   "cell_type": "code",
   "execution_count": 31,
   "metadata": {},
   "outputs": [
    {
     "data": {
      "text/plain": [
       "['사진으로 보고 기대했던 것과 많이 달라서 실망했습니다',\n",
       " ' 소파와 티비, 가구등 시설이 노후했고 청결도도 눈에 보이는 곳 외에는 만족스럽지 않았습니다',\n",
       " ' 첫날 에어컨에서 냄새가 나고 차가운 바람이 나오지 않아서 더위에 고생했고, 가스레인지 1구 스위치가 고장나서 요리할때 가스가 샐까 불안했습니다',\n",
       " ' 전자도어락도 고장이 나서 겨우 잠그고 겨우 열고다녔습니다',\n",
       " ' 좋았던 점은 호스트분의 후속조치가 빨랐던 것과 숙소의 위치입니다',\n",
       " ' 숙소 위치의 장점 이외에는 이 가격으로 머물기에는 많이 실망스러웠습니다',\n",
       " '']"
      ]
     },
     "execution_count": 31,
     "metadata": {},
     "output_type": "execute_result"
    }
   ],
   "source": [
    "rev_sample.split('.')"
   ]
  },
  {
   "cell_type": "code",
   "execution_count": 32,
   "metadata": {},
   "outputs": [
    {
     "data": {
      "text/plain": [
       "['사진으로 보고 기대했던 것과 많이 달라서 실망했습니다',\n",
       " '소파와 티비, 가구 등 시설이 노후했고 청결도도 눈에 보이는 곳 외에는 만족스럽지 않았습니다',\n",
       " '첫날 에어컨에서 냄새가 나 고 차가운 바람이 나오지 않아서 더위에 고생했고, 가스레인지 1구 스위치가 고장 나서 요리할 때 가스가 샐까 불안했습니다',\n",
       " '전자도어락도 고장이 나서 겨우 잠그고 겨우 열고 다녔습니다',\n",
       " '좋았던 점은 호스트분의 후속 조치가 빨랐던 것과 숙소의 위치입니다',\n",
       " '숙소 위치의 장점 이외에는 이 가격으로 머물기에는 많이 실망스러웠습니다',\n",
       " '']"
      ]
     },
     "execution_count": 32,
     "metadata": {},
     "output_type": "execute_result"
    }
   ],
   "source": [
    "list(map(spacing,rev_sample.split('.')))"
   ]
  },
  {
   "cell_type": "code",
   "execution_count": null,
   "metadata": {},
   "outputs": [],
   "source": []
  }
 ],
 "metadata": {
  "kernelspec": {
   "display_name": "Python 3",
   "language": "python",
   "name": "python3"
  },
  "language_info": {
   "codemirror_mode": {
    "name": "ipython",
    "version": 3
   },
   "file_extension": ".py",
   "mimetype": "text/x-python",
   "name": "python",
   "nbconvert_exporter": "python",
   "pygments_lexer": "ipython3",
   "version": "3.6.4"
  }
 },
 "nbformat": 4,
 "nbformat_minor": 2
}
