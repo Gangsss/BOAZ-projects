{
 "cells": [
  {
   "cell_type": "code",
   "execution_count": null,
   "metadata": {},
   "outputs": [],
   "source": []
  },
  {
   "cell_type": "code",
   "execution_count": 92,
   "metadata": {},
   "outputs": [],
   "source": [
    "import json\n",
    "import os\n",
    "from collections import Counter\n",
    "import pandas as pd\n",
    "import numpy as np\n",
    "import glob\n",
    "\n",
    "import nltk\n",
    "# from konlpy.tag import Kkma\n",
    "import re"
   ]
  },
  {
   "cell_type": "code",
   "execution_count": 13,
   "metadata": {},
   "outputs": [
    {
     "data": {
      "text/plain": [
       "'/home/chankoo/GitHub/BOAZ-projects/airbnb-data'"
      ]
     },
     "execution_count": 13,
     "metadata": {},
     "output_type": "execute_result"
    }
   ],
   "source": [
    "os.getcwd()"
   ]
  },
  {
   "cell_type": "code",
   "execution_count": null,
   "metadata": {},
   "outputs": [],
   "source": [
    "os.chdir('./../airbnb-data')"
   ]
  },
  {
   "cell_type": "code",
   "execution_count": 14,
   "metadata": {},
   "outputs": [
    {
     "data": {
      "text/plain": [
       "['review_jeju_143957.json',\n",
       " 'review_jeonju_13647.json',\n",
       " 'review_seoul_326990.json',\n",
       " 'review_seogwipo_51728.json',\n",
       " 'review_busan_70028.json',\n",
       " 'review_daegu_33689.json']"
      ]
     },
     "execution_count": 14,
     "metadata": {},
     "output_type": "execute_result"
    }
   ],
   "source": [
    "review_lst = glob.glob('review_*_*.json')\n",
    "review_lst"
   ]
  },
  {
   "cell_type": "code",
   "execution_count": 15,
   "metadata": {},
   "outputs": [],
   "source": [
    "review = {}\n",
    "for file in review_lst:\n",
    "    with open(file,'r',encoding='utf-8') as fp:\n",
    "        review.update(json.load(fp))"
   ]
  },
  {
   "cell_type": "code",
   "execution_count": 16,
   "metadata": {},
   "outputs": [
    {
     "data": {
      "text/plain": [
       "28853"
      ]
     },
     "execution_count": 16,
     "metadata": {},
     "output_type": "execute_result"
    }
   ],
   "source": [
    "len(review)"
   ]
  },
  {
   "cell_type": "code",
   "execution_count": null,
   "metadata": {},
   "outputs": [],
   "source": []
  },
  {
   "cell_type": "code",
   "execution_count": null,
   "metadata": {},
   "outputs": [],
   "source": []
  },
  {
   "cell_type": "code",
   "execution_count": 80,
   "metadata": {},
   "outputs": [],
   "source": [
    "review = {}\n",
    "ko_review_cnt = 0\n",
    "for home_id,rev_lst in review.items():\n",
    "    review_ko_handling[home_id] =[]\n",
    "    for rev in rev_lst:\n",
    "        if rev['language'] == 'ko':\n",
    "            ko_review_cnt+=1\n",
    "#             review_ko_handling[home_key].append(spacing(rev['comments']))\n",
    "            review_ko_handling[home_id].append([rev['rating'],rev['comments']])\n",
    "            #######\n",
    "            \n",
    "            #######\n",
    "    \n",
    "        else:\n",
    "            review_ko_handling[home_id].append([rev['rating'],rev['comments']])"
   ]
  },
  {
   "cell_type": "code",
   "execution_count": 81,
   "metadata": {},
   "outputs": [
    {
     "data": {
      "text/plain": [
       "276892"
      ]
     },
     "execution_count": 81,
     "metadata": {},
     "output_type": "execute_result"
    }
   ],
   "source": [
    "ko_review_cnt"
   ]
  },
  {
   "cell_type": "code",
   "execution_count": 88,
   "metadata": {},
   "outputs": [],
   "source": [
    "# review_ko_handling['10130187']"
   ]
  },
  {
   "cell_type": "code",
   "execution_count": null,
   "metadata": {},
   "outputs": [],
   "source": []
  },
  {
   "cell_type": "code",
   "execution_count": 89,
   "metadata": {},
   "outputs": [
    {
     "data": {
      "text/plain": [
       "'조용히 잘 쉬ㅓㅓㅗㅗㅓㅕㅕㅏㅗㅕㅗㅗㅎ호ㅓㅓ혀ㅔㅎㄹㅍ헤ㅔㅓ\\n게임 그만해ㅜㅎ'"
      ]
     },
     "execution_count": 89,
     "metadata": {},
     "output_type": "execute_result"
    }
   ],
   "source": [
    "rev_sample = review['10130187'][67]['comments']\n",
    "rev_sample"
   ]
  },
  {
   "cell_type": "code",
   "execution_count": 90,
   "metadata": {},
   "outputs": [
    {
     "data": {
      "text/plain": [
       "'조용히 잘 쉬ㅓㅓㅗㅗㅓㅕㅕㅏㅗㅕㅗㅗㅎ호ㅓㅓ혀ㅔㅎㄹㅍ헤ㅔㅓ\\n게임 그만해ㅜㅎ'"
      ]
     },
     "execution_count": 90,
     "metadata": {},
     "output_type": "execute_result"
    }
   ],
   "source": [
    "rev_sample"
   ]
  },
  {
   "cell_type": "code",
   "execution_count": 91,
   "metadata": {},
   "outputs": [
    {
     "data": {
      "text/plain": [
       "'조용히 잘 쉬ㅓㅓㅗㅗㅓㅕㅕㅏㅗㅕㅗㅗㅎ호ㅓㅓ혀ㅔㅎㄹㅍ헤ㅔㅓ 게임 그만해 ㅜㅎ'"
      ]
     },
     "execution_count": 91,
     "metadata": {},
     "output_type": "execute_result"
    }
   ],
   "source": [
    "spacing(rev_sample)"
   ]
  },
  {
   "cell_type": "code",
   "execution_count": null,
   "metadata": {},
   "outputs": [],
   "source": []
  },
  {
   "cell_type": "markdown",
   "metadata": {},
   "source": [
    "~~1.0 한국어 spelling~~\n",
    "\n",
    "https://lovit.github.io/nlp/2018/08/28/levenshtein_hangle/"
   ]
  },
  {
   "cell_type": "code",
   "execution_count": 11,
   "metadata": {},
   "outputs": [],
   "source": [
    "from soynlp.hangle import levenshtein\n",
    "from soynlp.hangle import jamo_levenshtein"
   ]
  },
  {
   "cell_type": "markdown",
   "metadata": {},
   "source": [
    "1.1 한국어 Tokenizing(문장단위)"
   ]
  },
  {
   "cell_type": "code",
   "execution_count": null,
   "metadata": {},
   "outputs": [],
   "source": [
    "# Kkma? nltk?"
   ]
  },
  {
   "cell_type": "code",
   "execution_count": null,
   "metadata": {},
   "outputs": [],
   "source": []
  },
  {
   "cell_type": "markdown",
   "metadata": {},
   "source": [
    "1.2 의미없는 기호 제거"
   ]
  },
  {
   "cell_type": "code",
   "execution_count": 93,
   "metadata": {},
   "outputs": [
    {
     "name": "stdout",
     "output_type": "stream",
     "text": [
      "제거 전:  시~발련아^^\n",
      "제거 후: 시발련아\n",
      "제거 전:  시1발련아^^\n",
      "제거 후: 시발련아\n",
      "제거 전:  시!@#%발@##련아^^\n",
      "제거 후: 시발련아\n"
     ]
    }
   ],
   "source": [
    "rowString = \"시~발련아^^ 시1발련아^^ 시!@#%발@##련아^^\"\n",
    "\n",
    "for src in rowString.split():\n",
    "    print(\"제거 전: \", src)\n",
    "    src = re.sub(\"[^ㄱ-ㅎ|ㅏ-ㅣ|가-힝]\",\"\",src)\n",
    "    print(\"제거 후:\",src)"
   ]
  },
  {
   "cell_type": "code",
   "execution_count": null,
   "metadata": {},
   "outputs": [],
   "source": []
  },
  {
   "cell_type": "code",
   "execution_count": null,
   "metadata": {},
   "outputs": [],
   "source": []
  },
  {
   "cell_type": "markdown",
   "metadata": {},
   "source": [
    "1.3 한국어 spacing (conda 환경에서 진행)\n",
    "\n",
    "https://github.com/haven-jeon/PyKoSpacing"
   ]
  },
  {
   "cell_type": "code",
   "execution_count": 2,
   "metadata": {},
   "outputs": [
    {
     "name": "stderr",
     "output_type": "stream",
     "text": [
      "Using TensorFlow backend.\n"
     ]
    },
    {
     "name": "stdout",
     "output_type": "stream",
     "text": [
      "WARNING:tensorflow:From /home/chankoo/anaconda3/envs/tensorflow/lib/python3.6/site-packages/tensorflow/python/util/deprecation.py:497: calling conv1d (from tensorflow.python.ops.nn_ops) with data_format=NHWC is deprecated and will be removed in a future version.\n",
      "Instructions for updating:\n",
      "`NHWC` for data_format is deprecated, use `NWC` instead\n"
     ]
    }
   ],
   "source": [
    "from pykospacing import spacing"
   ]
  },
  {
   "cell_type": "code",
   "execution_count": null,
   "metadata": {},
   "outputs": [],
   "source": []
  },
  {
   "cell_type": "code",
   "execution_count": 30,
   "metadata": {},
   "outputs": [
    {
     "data": {
      "text/plain": [
       "'사진으로 보고 기대했던 것과 많이 달라서 실망했습니다. 소파와 티비, 가구등 시설이 노후했고 청결도도 눈에 보이는 곳 외에는 만족스럽지 않았습니다. 첫날 에어컨에서 냄새가 나고 차가운 바람이 나오지 않아서 더위에 고생했고, 가스레인지 1구 스위치가 고장나서 요리할때 가스가 샐까 불안했습니다. 전자도어락도 고장이 나서 겨우 잠그고 겨우 열고다녔습니다. 좋았던 점은 호스트분의 후속조치가 빨랐던 것과 숙소의 위치입니다. 숙소 위치의 장점 이외에는 이 가격으로 머물기에는 많이 실망스러웠습니다.'"
      ]
     },
     "execution_count": 30,
     "metadata": {},
     "output_type": "execute_result"
    }
   ],
   "source": [
    "rev_sample"
   ]
  },
  {
   "cell_type": "code",
   "execution_count": 34,
   "metadata": {},
   "outputs": [
    {
     "name": "stderr",
     "output_type": "stream",
     "text": [
      "/home/chankoo/anaconda3/envs/tensorflow/lib/python3.6/site-packages/pykospacing/kospacing.py:56: UserWarning: One sentence can not contain more than 198 characters. : 사진으로 보고 기대했던 것과 많이 달라서 실망했습니다. 소파와 티비, 가구등 시설이 노후했고 청결도도 눈에 보이는 곳 외에는 만족스럽지 않았습니다. 첫날 에어컨에서 냄새가 나고 차가운 바람이 나오지 않아서 더위에 고생했고, 가스레인지 1구 스위치가 고장나서 요리할때 가스가 샐까 불안했습니다. 전자도어락도 고장이 나서 겨우 잠그고 겨우 열고다녔습니다. 좋았던 점은 호스트분의 후속조치가 빨랐던 것과 숙소의 위치입니다. 숙소 위치의 장점 이외에는 이 가격으로 머물기에는 많이 실망스러웠습니다.\n",
      "  warnings.warn('One sentence can not contain more than 198 characters. : {}'.format(sent))\n"
     ]
    },
    {
     "data": {
      "text/plain": [
       "'사진으로 보고 기대했던 것과 많이 달라서 실망했습니다. 소파와 티비, 가구 등 시설이 노후했고 청결도도 눈에 보이는 곳 외에는 만족스럽지 않았습니다. 첫날 에어컨에서 냄새가 나 고 차가운 바람이 나오지 않아서 더위에 고생했고, 가스레인지 1구 스위치가 고장 나서 요리할 때 가스가 샐까 불안했습니다. 전자도어락도 고장이 나서 겨우 잠그고 겨우 열고 다녔습니다. 좋았'"
      ]
     },
     "execution_count": 34,
     "metadata": {},
     "output_type": "execute_result"
    }
   ],
   "source": [
    "spacing(rev_sample)"
   ]
  },
  {
   "cell_type": "code",
   "execution_count": 31,
   "metadata": {},
   "outputs": [
    {
     "data": {
      "text/plain": [
       "['사진으로 보고 기대했던 것과 많이 달라서 실망했습니다',\n",
       " ' 소파와 티비, 가구등 시설이 노후했고 청결도도 눈에 보이는 곳 외에는 만족스럽지 않았습니다',\n",
       " ' 첫날 에어컨에서 냄새가 나고 차가운 바람이 나오지 않아서 더위에 고생했고, 가스레인지 1구 스위치가 고장나서 요리할때 가스가 샐까 불안했습니다',\n",
       " ' 전자도어락도 고장이 나서 겨우 잠그고 겨우 열고다녔습니다',\n",
       " ' 좋았던 점은 호스트분의 후속조치가 빨랐던 것과 숙소의 위치입니다',\n",
       " ' 숙소 위치의 장점 이외에는 이 가격으로 머물기에는 많이 실망스러웠습니다',\n",
       " '']"
      ]
     },
     "execution_count": 31,
     "metadata": {},
     "output_type": "execute_result"
    }
   ],
   "source": [
    "rev_sample.split('.')"
   ]
  },
  {
   "cell_type": "code",
   "execution_count": 32,
   "metadata": {},
   "outputs": [
    {
     "data": {
      "text/plain": [
       "['사진으로 보고 기대했던 것과 많이 달라서 실망했습니다',\n",
       " '소파와 티비, 가구 등 시설이 노후했고 청결도도 눈에 보이는 곳 외에는 만족스럽지 않았습니다',\n",
       " '첫날 에어컨에서 냄새가 나 고 차가운 바람이 나오지 않아서 더위에 고생했고, 가스레인지 1구 스위치가 고장 나서 요리할 때 가스가 샐까 불안했습니다',\n",
       " '전자도어락도 고장이 나서 겨우 잠그고 겨우 열고 다녔습니다',\n",
       " '좋았던 점은 호스트분의 후속 조치가 빨랐던 것과 숙소의 위치입니다',\n",
       " '숙소 위치의 장점 이외에는 이 가격으로 머물기에는 많이 실망스러웠습니다',\n",
       " '']"
      ]
     },
     "execution_count": 32,
     "metadata": {},
     "output_type": "execute_result"
    }
   ],
   "source": [
    "list(map(spacing,rev_sample.split('.')))"
   ]
  },
  {
   "cell_type": "code",
   "execution_count": null,
   "metadata": {},
   "outputs": [],
   "source": []
  }
 ],
 "metadata": {
  "kernelspec": {
   "display_name": "Python 3",
   "language": "python",
   "name": "python3"
  },
  "language_info": {
   "codemirror_mode": {
    "name": "ipython",
    "version": 3
   },
   "file_extension": ".py",
   "mimetype": "text/x-python",
   "name": "python",
   "nbconvert_exporter": "python",
   "pygments_lexer": "ipython3",
   "version": "3.6.7"
  }
 },
 "nbformat": 4,
 "nbformat_minor": 2
}
