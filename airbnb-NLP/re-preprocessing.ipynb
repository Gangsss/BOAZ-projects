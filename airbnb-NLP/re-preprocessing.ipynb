{
 "cells": [
  {
   "cell_type": "code",
   "execution_count": 2,
   "metadata": {},
   "outputs": [],
   "source": [
    "import pickle\n",
    "import json\n",
    "with open('review_token_word.json','rb') as f:\n",
    "    review_sentence = json.load(f)"
   ]
  },
  {
   "cell_type": "code",
   "execution_count": 61,
   "metadata": {},
   "outputs": [],
   "source": [
    "with open('pos_review.json','rb') as f:\n",
    "    review_pos = json.load(f)"
   ]
  },
  {
   "cell_type": "code",
   "execution_count": 62,
   "metadata": {
    "scrolled": true
   },
   "outputs": [
    {
     "data": {
      "text/plain": [
       "['go_V', 'dormitory_N', 'friend_N']"
      ]
     },
     "execution_count": 62,
     "metadata": {},
     "output_type": "execute_result"
    }
   ],
   "source": [
    "review_pos['10030136'][0][1][0]"
   ]
  },
  {
   "cell_type": "code",
   "execution_count": 66,
   "metadata": {},
   "outputs": [],
   "source": [
    "with open('dic_review.json','r',encoding ='utf-8') as f:\n",
    "    dic_review = json.load(f)"
   ]
  },
  {
   "cell_type": "code",
   "execution_count": null,
   "metadata": {},
   "outputs": [],
   "source": [
    "review_pos_lst['10030136'][0][1][0]"
   ]
  },
  {
   "cell_type": "code",
   "execution_count": 179,
   "metadata": {},
   "outputs": [],
   "source": [
    "with open('translated_seoul.json','r',encoding='utf-8') as f:\n",
    "    review_seoul = json.load(f)"
   ]
  },
  {
   "cell_type": "code",
   "execution_count": 77,
   "metadata": {},
   "outputs": [
    {
     "data": {
      "text/plain": [
       "[{'collection_tag': None,\n",
       "  'comments': '9月19日,陪同留学的儿子一同去韩国｡在走之前我们从网上看照片  预定了这家二层别墅的民宿｡他家就在国民大学的后门 离公交站地铁站都很近 在国民大学门口坐7211到4号线吉音站길음역 就能到达东大门明洞等韩国景点\\n 我们抵达时已是半夜12点了,真的没有想到,男主人和女主人都在等待着我们的到来,让我非常感动!好客的主人把我们一直迎接到二楼,干净.宁静,整洁,雅致｡比我在网上看到的还要好\\n床盖洁净舒服,犹如回到了自己的家｡第二天一觉醒来天已大亮,没有大都市的吵杂,宛如田园一样幽静自然｡好美的风景,对面别墅,绿草,小山环抱,真是太美了!\\n由于我们语言不通,热情的男主人用韩语,英语耐心的与我们交流｡带我们去吃早饭｡为了方便把他家的钥匙给我我们,如此的信任,让我不胜惊讶 !三天的交往让我们如同家人一般!帮我们找房子,给我们送水果,茶叶让我说不出的感激!下次我要带我的家人再次光顾这里｡感谢热情好客的主人!我们还会来的!你们给我留下了太深的印象!谢谢!',\n",
       "  'created_at': '2016-09-22T02:37:07Z',\n",
       "  'id': 103326345,\n",
       "  'language': 'zh_en',\n",
       "  'localized_date': '2016년 9월',\n",
       "  'rating': 5,\n",
       "  'response': '',\n",
       "  'reviewee': {'deleted': False,\n",
       "   'first_name': '경옥',\n",
       "   'host_name': '경옥',\n",
       "   'id': 47670854,\n",
       "   'is_superhost': False,\n",
       "   'picture_url': 'https://a0.muscache.com/im/pictures/3f00e243-8970-4c98-8780-b2b81a5d7428.jpg?aki_policy=profile_x_medium',\n",
       "   'profile_path': '/users/show/47670854'},\n",
       "  'reviewer': {'deleted': False,\n",
       "   'first_name': '鸣轩',\n",
       "   'host_name': '鸣轩',\n",
       "   'id': 95528848,\n",
       "   'is_superhost': False,\n",
       "   'picture_url': 'https://a0.muscache.com/im/pictures/01b0d871-cb27-413e-9983-5140abd1dad8.jpg?aki_policy=profile_x_medium',\n",
       "   'profile_path': '/users/show/95528848'},\n",
       "  't_comments': \"On September 19, accompanying his son to South Korea, he went to Korea with his son.We watched the photo reservation on the second house before we left.At the gate of the National University of the People's Republic of China at the National University of the People's Republic of China, it was midnight at midnight, and at midnight, we arrived at midnight at 12 a.m., and didn't think that the hostess and hostess were waiting for us.The hospitable host kept us up to the second floor, clean, quiet, neat, elegant.Better a good bed than I see on the internet.The next day was bright, and there was no noise in the city, as quiet as the pastoral nature of the countryside.What a beautiful view, a villa, a green grass, a small hill surrounded by hills!Because we don't speak English fluently, our ardent hosts speak in Korean and English.Take us to breakfast.I was amazed at how much confidence I could give my house to us.Three days ' intercourse makes us feel like family!Help us find the house, give us fruit and tea. I can 't thank you enough for the tea.Next time I'm gon na bring my family back here again.Thank you very much for your hospitality.We're gon na be here!You've left deep impression on me!Thank you.\"},\n",
       " {'collection_tag': None,\n",
       "  'comments': 'The host and her families are really friendly and helpful to me. They recommended some nice places for food nearby like the university canteen and the traditional market to me and tell me the directions for not only once to make sure I can find the way. The host even bring me along to the restaurant when I arrived on the first night because she afraid it is too dangerous for a girl to walk around in the late night which is really caring and sweet for me. The room is clean and cozy, with everything I need included. I can also enjoy my own private time because the hosts are living on the first floor and the whole second floor is for the guests.\\nI enjoy my time staying here and will recommend this place to you all.',\n",
       "  'created_at': '2016-09-01T23:53:19Z',\n",
       "  'id': 98756666,\n",
       "  'language': 'en',\n",
       "  'localized_date': '2016년 9월',\n",
       "  'rating': 5,\n",
       "  'response': '',\n",
       "  'reviewee': {'deleted': False,\n",
       "   'first_name': '경옥',\n",
       "   'host_name': '경옥',\n",
       "   'id': 47670854,\n",
       "   'is_superhost': False,\n",
       "   'picture_url': 'https://a0.muscache.com/im/pictures/3f00e243-8970-4c98-8780-b2b81a5d7428.jpg?aki_policy=profile_x_medium',\n",
       "   'profile_path': '/users/show/47670854'},\n",
       "  'reviewer': {'deleted': False,\n",
       "   'first_name': 'Iris',\n",
       "   'host_name': 'Iris',\n",
       "   'id': 11988319,\n",
       "   'is_superhost': False,\n",
       "   'picture_url': 'https://a0.muscache.com/im/pictures/cade1bf7-c10c-4a9a-8e9b-8e9b40b84992.jpg?aki_policy=profile_x_medium',\n",
       "   'profile_path': '/users/show/11988319'},\n",
       "  't_comments': 'The host and her families are really friendly and helpful to me. They recommended some nice places for food nearby like the university canteen and the traditional market to me and tell me the directions for not only once to make sure I can find the way. The host even bring me along to the restaurant when I arrived on the first night because she afraid it is too dangerous for a girl to walk around in the late night which is really caring and sweet for me. The room is clean and cozy, with everything I need included. I can also enjoy my own private time because the hosts are living on the first floor and the whole second floor is for the guests.\\nI enjoy my time staying here and will recommend this place to you all.'},\n",
       " {'collection_tag': None,\n",
       "  'comments': \"Lee's home was a cute quaint older home. It was tidy and well taken care of. Lee, her daughter, and her assistant (CJ) were quite friendly and helpful! CJ walked us to the bus stop and gave us directions to the market. Unfortunately, we had to leave earlier than intended due to personal matters. However, CJ was understanding and even drove us to the subway station. Thank you Lee and CJ!\",\n",
       "  'created_at': '2016-07-15T02:04:11Z',\n",
       "  'id': 86064851,\n",
       "  'language': 'en',\n",
       "  'localized_date': '2016년 7월',\n",
       "  'rating': 3,\n",
       "  'response': '',\n",
       "  'reviewee': {'deleted': False,\n",
       "   'first_name': '경옥',\n",
       "   'host_name': '경옥',\n",
       "   'id': 47670854,\n",
       "   'is_superhost': False,\n",
       "   'picture_url': 'https://a0.muscache.com/im/pictures/3f00e243-8970-4c98-8780-b2b81a5d7428.jpg?aki_policy=profile_x_medium',\n",
       "   'profile_path': '/users/show/47670854'},\n",
       "  'reviewer': {'deleted': False,\n",
       "   'first_name': 'Erica',\n",
       "   'host_name': 'Erica',\n",
       "   'id': 69440698,\n",
       "   'is_superhost': False,\n",
       "   'picture_url': 'https://a0.muscache.com/im/pictures/fdd83d64-9086-40fc-ace6-3dc86e323145.jpg?aki_policy=profile_x_medium',\n",
       "   'profile_path': '/users/show/69440698'},\n",
       "  't_comments': \"Lee's home was a cute quaint older home. It was tidy and well taken care of. Lee, her daughter, and her assistant (CJ) were quite friendly and helpful! CJ walked us to the bus stop and gave us directions to the market. Unfortunately, we had to leave earlier than intended due to personal matters. However, CJ was understanding and even drove us to the subway station. Thank you Lee and CJ!\"},\n",
       " {'collection_tag': None,\n",
       "  'comments': \"Super on as fait que deux nuit mais l'hôte était super sympa nous donnée des super conseils\",\n",
       "  'created_at': '2016-05-26T02:20:46Z',\n",
       "  'id': 76215185,\n",
       "  'language': 'fr_en',\n",
       "  'localized_date': '2016년 5월',\n",
       "  'rating': 5,\n",
       "  'response': '',\n",
       "  'reviewee': {'deleted': False,\n",
       "   'first_name': '경옥',\n",
       "   'host_name': '경옥',\n",
       "   'id': 47670854,\n",
       "   'is_superhost': False,\n",
       "   'picture_url': 'https://a0.muscache.com/im/pictures/3f00e243-8970-4c98-8780-b2b81a5d7428.jpg?aki_policy=profile_x_medium',\n",
       "   'profile_path': '/users/show/47670854'},\n",
       "  'reviewer': {'deleted': False,\n",
       "   'first_name': 'Nils',\n",
       "   'host_name': 'Nils',\n",
       "   'id': 63933851,\n",
       "   'is_superhost': False,\n",
       "   'picture_url': 'https://a0.muscache.com/im/pictures/45623c70-03a0-4359-9054-067311696f3c.jpg?aki_policy=profile_x_medium',\n",
       "   'profile_path': '/users/show/63933851'},\n",
       "  't_comments': 'Super on only two nights but the host was super symposium'},\n",
       " {'collection_tag': None,\n",
       "  'comments': 'It\\'s really a wonderful trip that i enjoyed my birthday time with my friends here. you are really very nice and warm. i will miss you guys  and the delicious 미역국. if there have a chance to go seoul again, i will come to your big house. that\\'s the best \"HOME\".',\n",
       "  'created_at': '2016-04-17T16:09:45Z',\n",
       "  'id': 70246450,\n",
       "  'language': 'en',\n",
       "  'localized_date': '2016년 4월',\n",
       "  'rating': 5,\n",
       "  'response': '잘도착했어요?\\r\\n见到您很高兴｡ \\r\\n你真是可爱了 \\r\\n又来了…… \\r\\n那酒杯... \\r\\n爸爸喜欢吗?   ^^',\n",
       "  'reviewee': {'deleted': False,\n",
       "   'first_name': '경옥',\n",
       "   'host_name': '경옥',\n",
       "   'id': 47670854,\n",
       "   'is_superhost': False,\n",
       "   'picture_url': 'https://a0.muscache.com/im/pictures/3f00e243-8970-4c98-8780-b2b81a5d7428.jpg?aki_policy=profile_x_medium',\n",
       "   'profile_path': '/users/show/47670854'},\n",
       "  'reviewer': {'deleted': False,\n",
       "   'first_name': 'Summer',\n",
       "   'host_name': 'Summer',\n",
       "   'id': 48286752,\n",
       "   'is_superhost': False,\n",
       "   'picture_url': 'https://a0.muscache.com/im/pictures/c34baea4-8f11-42f2-9b5e-c6b8a6a92275.jpg?aki_policy=profile_x_medium',\n",
       "   'profile_path': '/users/show/48286752'},\n",
       "  't_comments': 'It\\'s really a wonderful trip that i enjoyed my birthday time with my friends here. you are really very nice and warm. i will miss you guys  and the delicious 미역국. if there have a chance to go seoul again, i will come to your big house. that\\'s the best \"HOME\".'},\n",
       " {'collection_tag': None,\n",
       "  'comments': \"是非常好的一家民宿,房东阿姨细心､善良,所有事项都会极其详细地讲给你,生怕会有差错;回家晚时会象妈妈一样担心,不停地出出进进地看;会在有空的时候给大家做晚餐……大叔和女儿也很热情｡想体验韩国真挚､善良的民风,景玉妈妈家里是最好的选择 (Website hidden by Airbnb) 房屋是韩国典型的院落结构,共2层,一层主人房,二层专用guest house,非常方便､清洁｡\\n  it's the best guesthouse l've lived in Korea till now.next time l should come back.\\n\",\n",
       "  'created_at': '2016-03-26T18:38:43Z',\n",
       "  'id': 67029278,\n",
       "  'language': 'zh_en',\n",
       "  'localized_date': '2016년 3월',\n",
       "  'rating': 5,\n",
       "  'response': '음...세령씨\\r\\n고마워요\\r\\n난 당신의 시원 시원한 성격이 정말 사이다처럼  내게 청량제가 되었어요\\r\\n당신이 한국말을 잘하니  이렇게 한국어로 써도 당신이볼수있겠지요?\\r\\n한국은 지금 벚꽃이 한창입니다\\r\\n벚꽃이 피니 벚꽃처럼 눈부신  당신이 또 그리워집니다\\r\\n가는날 보지못해서  아쉬웠어요\\r\\n건강하시고요\\r\\n 행복가득한 시간보내시기를 바랍니다^^\\r\\n',\n",
       "  'reviewee': {'deleted': False,\n",
       "   'first_name': '경옥',\n",
       "   'host_name': '경옥',\n",
       "   'id': 47670854,\n",
       "   'is_superhost': False,\n",
       "   'picture_url': 'https://a0.muscache.com/im/pictures/3f00e243-8970-4c98-8780-b2b81a5d7428.jpg?aki_policy=profile_x_medium',\n",
       "   'profile_path': '/users/show/47670854'},\n",
       "  'reviewer': {'deleted': False,\n",
       "   'first_name': 'Yu',\n",
       "   'host_name': 'Yu',\n",
       "   'id': 23354136,\n",
       "   'is_superhost': False,\n",
       "   'picture_url': 'https://a0.muscache.com/im/pictures/1dbf8a88-4d22-474b-a69c-128b14edc3f1.jpg?aki_policy=profile_x_medium',\n",
       "   'profile_path': '/users/show/23354136'},\n",
       "  't_comments': \"It was a very nice place to stay, and the landlady was careful, and everything would give you a detailed account of it.It is the best choice for Korea's classical architecture, which is a two-story guest house, a two-story guest house, a guest house, a guest house, a guest house. It's the best bet I should come back.\"},\n",
       " {'collection_tag': None,\n",
       "  'comments': '房东阿姨非常热情,非常和蔼,我们到了自己开车去接我们,想尽办法帮助我们,他们一家人叔叔能说英文,阿姨会韩文,姐姐会一点中文,沟通没有大的问题,房东阿姨每晚会和我们聊聊天,为我们解决新的问题,真的太好了!像住在家里一样,下次来还会住的!   The house and the family is so nice,i will come again in next korea time',\n",
       "  'created_at': '2016-03-09T01:39:08Z',\n",
       "  'id': 64875899,\n",
       "  'language': 'zh_en',\n",
       "  'localized_date': '2016년 3월',\n",
       "  'rating': 5,\n",
       "  'response': '',\n",
       "  'reviewee': {'deleted': False,\n",
       "   'first_name': '경옥',\n",
       "   'host_name': '경옥',\n",
       "   'id': 47670854,\n",
       "   'is_superhost': False,\n",
       "   'picture_url': 'https://a0.muscache.com/im/pictures/3f00e243-8970-4c98-8780-b2b81a5d7428.jpg?aki_policy=profile_x_medium',\n",
       "   'profile_path': '/users/show/47670854'},\n",
       "  'reviewer': {'deleted': False,\n",
       "   'first_name': 'Suri',\n",
       "   'host_name': 'Suri',\n",
       "   'id': 42016744,\n",
       "   'is_superhost': False,\n",
       "   'picture_url': 'https://a0.muscache.com/im/pictures/67c4da31-7506-405a-8b9e-a9e5be66bb0f.jpg?aki_policy=profile_x_medium',\n",
       "   'profile_path': '/users/show/42016744'},\n",
       "  't_comments': \"The landlady was very friendly, very friendly, and we went to pick up our own car to meet us.If you live at home, you'll stay here next time. The house and the family are so nice, I will come again\"},\n",
       " {'collection_tag': None,\n",
       "  'comments': ' 아무래도 가정집에서 직접 게스트하우스를 운영하셔서 그런지 보통의 상업적인 게스트하우스에 비해 체계적으로 운영된다던가 꼼꼼히 관리되는 느낌이 부족한게 살짝 아쉬웠는데,\\r\\n 보통 게스트하우스에 있을법한 커피믹스,빗,면봉이 없다던가, 세탁기 연결이 안되어 있다던가, 이불은 따듯했지만 이불커버가 없어서 세탁이 용이해 보이지는 않는 등.. 몇가지 눈에 띄는것들이 있더라는..\\r\\n\\r\\n 그러나 다음에 또 방문할 의사가 있냐고 묻는다면.. 네 ㅋ\\r\\n\\r\\n 여름이나 가을철 날씨가 포근할때, 일주일정도 푹~묵으면서 천천히 서울 구경도하고, 피곤하면 집에서 뒹굴거리며 느긋하게 여행을 즐기기에 이만큼 편한곳을 찾기는 쉽지 않을것 같다는 생각.\\r\\n\\r\\n 일단 가정집이라서 방과 거실,화장실이 가까워 이용이 편하고, 2층 전체를 게스트하우스로 사용중이라 1층 주인집과 분리된 사적인 공간처럼 느껴져서 상당히 편했다는.. (사실 처음 예약할땐 방하나를 빌려주는줄 알았는데, 오히려 2층이 2인룸, 도미토리로 전체가 게스트하우스라 더 편했던)\\r\\n 뭐 여행객이 더 많으면 좀 북적대긴 할것같지만, 거실 분위기가 완전 가정집이라 오손도손 모여서 이야기 나누기는 좋을것 같더라는..\\r\\n\\r\\n 다른 게스트하우스에 비하면 위치가 좀 외진편이긴 한데, 오히려 주택가라서 한적하고 조용히 쉴수있어서 좋고, 조금만 걸어 내려가면 있는 정릉시장을 잘 이용하면 편의점보다 저렴한 가격에 다양한 식재료를 조달 할수있어서 좋다는걸 마지막날 알게된..\\r\\n(제가 한국인이긴 하지만 이동네는 처음이니 이런부분은 미리 알려주셨으면 좋을것 같다는 ㅎ)\\r\\n\\r\\n 관광하기에는 주변에 북한산도 있고 종로,동대문,남산,이태원,대학로 등이 가깝고 (정릉능은 의외로 볼게 없더라는..), 서울의 교통편이 워낙 좋다보니 여의도,홍대,서울역,강남 까지도 둘러보는데도 크게 불편함은 없었고, 개인적으로 지하철 보다는 버스를 이용하는편이 더 좋더라는.. 저녁에 여행을 마치고 돌아올때 가로등 비취는 주택가 골목을 걷고있으면 마치 집에 돌아가는 느낌이랄까.. -0-\\r\\n\\r\\n 40년된 집이라는데 문이라던가 곳곳에 세월의 흔적이 있는편이지만 전체적으로 깔끔하게 관리된 편이라 크게 불편한점은 없었는데, \\r\\n 다만 싱크대 공간이 좁다거나, 화장실 발판이 높아서 응가할때 자세가 약간 엉성하게 수구려진다거나하는 미세하게 불편한 부분들이 있던데.. 아마 주인분이 2층에서 생활을 안하셔서 그런것 같기도하고, 가끔은 2층에서 직접생활하면서 불편한 부분들을 찾아내시는것도 좋을것 같다는 생각이 살짝.. :)\\r\\n\\r\\n 아무튼 결론은 위치때문에 살짝 고민을 좀 했는데 별로 불편한건 없었고, 가격도 괜찮고, 주인 내외분도 인상좋고 친절하시고, 집이나 동네 분위기가 편해서 장기간 머물기에 좋은곳 같다로 마무리~',\n",
       "  'created_at': '2016-03-02T17:51:12Z',\n",
       "  'id': 64344102,\n",
       "  'language': 'ko',\n",
       "  'localized_date': '2016년 3월',\n",
       "  'rating': 4,\n",
       "  'response': '여러가지로 꼼꼼히 보셨군요^^\\r\\n사실은 이층에서 저희가 살았었어도  오래 살다보니 잊어버리고 살았답니다\\r\\n여러가지로 지적을해주시니  저희가개선을  할수가 있겠군요\\r\\n제가 못느꼈던것  감사하게  생각하고 고쳐나갈게요~\\r\\n\\r\\n',\n",
       "  'reviewee': {'deleted': False,\n",
       "   'first_name': '경옥',\n",
       "   'host_name': '경옥',\n",
       "   'id': 47670854,\n",
       "   'is_superhost': False,\n",
       "   'picture_url': 'https://a0.muscache.com/im/pictures/3f00e243-8970-4c98-8780-b2b81a5d7428.jpg?aki_policy=profile_x_medium',\n",
       "   'profile_path': '/users/show/47670854'},\n",
       "  'reviewer': {'deleted': False,\n",
       "   'first_name': 'Badaro',\n",
       "   'host_name': 'Badaro',\n",
       "   'id': 24315525,\n",
       "   'is_superhost': False,\n",
       "   'picture_url': 'https://a0.muscache.com/im/pictures/2b5f329b-06c6-4336-905d-e60cc86d4383.jpg?aki_policy=profile_x_medium',\n",
       "   'profile_path': '/users/show/24315525'},\n",
       "  'error': 'True'},\n",
       " {'collection_tag': None,\n",
       "  'comments': '숙소설명을 친절하고 자세하게 해주셔서 쉽게 찾아갈 수 있었고, 가족처럼 따뜻하게 맞이해주셔서 편안하게 여행하고 왔습니다~',\n",
       "  'created_at': '2016-02-29T21:32:18Z',\n",
       "  'id': 64126259,\n",
       "  'language': 'ko_en',\n",
       "  'localized_date': '2016년 2월',\n",
       "  'rating': 5,\n",
       "  'response': '',\n",
       "  'reviewee': {'deleted': False,\n",
       "   'first_name': '경옥',\n",
       "   'host_name': '경옥',\n",
       "   'id': 47670854,\n",
       "   'is_superhost': False,\n",
       "   'picture_url': 'https://a0.muscache.com/im/pictures/3f00e243-8970-4c98-8780-b2b81a5d7428.jpg?aki_policy=profile_x_medium',\n",
       "   'profile_path': '/users/show/47670854'},\n",
       "  'reviewer': {'deleted': False,\n",
       "   'first_name': '진환',\n",
       "   'host_name': '진환',\n",
       "   'id': 48025692,\n",
       "   'is_superhost': False,\n",
       "   'picture_url': 'https://a0.muscache.com/im/pictures/9d287d93-3034-4177-9ee8-f3c6286ab303.jpg?aki_policy=profile_x_medium',\n",
       "   'profile_path': '/users/show/48025692'},\n",
       "  't_comments': 'I could easily visit you by giving you a nice and detailed name, and I traveled comfortably because you welcomed me as warm as my family.'},\n",
       " {'collection_tag': None,\n",
       "  'comments': 'It was a very pleasant stay with Kyoung-ok and her family. She was very generous with information and always caring. I was with 2 friends who were first timers in Winter Season. She catered to our requests and was very patient with us. Very helpful in booking some of the places we need to visit. We were able to meet her daughter, husband and their cute dog. We look forward to meeting them again and perhaps when they come visit the Philippines, we will sure to tour them in return if we can :)',\n",
       "  'created_at': '2016-02-20T15:04:46Z',\n",
       "  'id': 63089331,\n",
       "  'language': 'en',\n",
       "  'localized_date': '2016년 2월',\n",
       "  'rating': 5,\n",
       "  'response': \"Yeah, well, I'm very glad I came.\\r\\nWe'll miss your smile.\\r\\nI hope you will be happy.\\r\\n I am now dreaming corun Island.^^\\r\\n\\r\\n\",\n",
       "  'reviewee': {'deleted': False,\n",
       "   'first_name': '경옥',\n",
       "   'host_name': '경옥',\n",
       "   'id': 47670854,\n",
       "   'is_superhost': False,\n",
       "   'picture_url': 'https://a0.muscache.com/im/pictures/3f00e243-8970-4c98-8780-b2b81a5d7428.jpg?aki_policy=profile_x_medium',\n",
       "   'profile_path': '/users/show/47670854'},\n",
       "  'reviewer': {'deleted': False,\n",
       "   'first_name': 'Michelle',\n",
       "   'host_name': 'Michelle',\n",
       "   'id': 22684586,\n",
       "   'is_superhost': False,\n",
       "   'picture_url': 'https://a0.muscache.com/im/pictures/user/bb03c856-4332-441c-8272-0a36b606defa.jpg?aki_policy=profile_x_medium',\n",
       "   'profile_path': '/users/show/22684586'},\n",
       "  't_comments': 'It was a very pleasant stay with Kyoung-ok and her family. She was very generous with information and always caring. I was with 2 friends who were first timers in Winter Season. She catered to our requests and was very patient with us. Very helpful in booking some of the places we need to visit. We were able to meet her daughter, husband and their cute dog. We look forward to meeting them again and perhaps when they come visit the Philippines, we will sure to tour them in return if we can :)'},\n",
       " {'collection_tag': None,\n",
       "  'comments': '韩国民宿,非常不错的体验｡房间干净,交通便利,韩式早餐⋯老板一家人非常好,热心周到,无微不至,非常感谢!',\n",
       "  'created_at': '2016-02-11T12:50:59Z',\n",
       "  'id': 62077602,\n",
       "  'language': 'zh_en',\n",
       "  'localized_date': '2016년 2월',\n",
       "  'rating': 5,\n",
       "  'response': '你的家人一起,好的 .\\r\\n总是记得你 .\\r\\n你停留期间幸福 .\\r\\n奶奶,爷爷  望您健康长寿.~',\n",
       "  'reviewee': {'deleted': False,\n",
       "   'first_name': '경옥',\n",
       "   'host_name': '경옥',\n",
       "   'id': 47670854,\n",
       "   'is_superhost': False,\n",
       "   'picture_url': 'https://a0.muscache.com/im/pictures/3f00e243-8970-4c98-8780-b2b81a5d7428.jpg?aki_policy=profile_x_medium',\n",
       "   'profile_path': '/users/show/47670854'},\n",
       "  'reviewer': {'deleted': False,\n",
       "   'first_name': '媛莹',\n",
       "   'host_name': '媛莹',\n",
       "   'id': 53230121,\n",
       "   'is_superhost': False,\n",
       "   'picture_url': 'https://a0.muscache.com/im/pictures/c09a6329-8de5-4eb2-887b-d7896d10acfe.jpg?aki_policy=profile_x_medium',\n",
       "   'profile_path': '/users/show/53230121'},\n",
       "  't_comments': 'The Korean national pension is very good.The room is clean and convenient.'},\n",
       " {'collection_tag': None,\n",
       "  'comments': 'Had a very pleasant winter stay here ',\n",
       "  'created_at': '2016-01-01T17:29:27Z',\n",
       "  'id': 58217719,\n",
       "  'language': 'en',\n",
       "  'localized_date': '2016년 1월',\n",
       "  'rating': 5,\n",
       "  'response': \"Hi, how's it going? I saw the your message about the review. \\r\\nSo I've called Airbnb today and they said there is no way to edit the review once it uploded. But never mind. It's okay! \\r\\nThank you for giving us pleasant memory and enjoyable conversations! \\r\\nOur family had very happy time for you, too.\",\n",
       "  'reviewee': {'deleted': False,\n",
       "   'first_name': '경옥',\n",
       "   'host_name': '경옥',\n",
       "   'id': 47670854,\n",
       "   'is_superhost': False,\n",
       "   'picture_url': 'https://a0.muscache.com/im/pictures/3f00e243-8970-4c98-8780-b2b81a5d7428.jpg?aki_policy=profile_x_medium',\n",
       "   'profile_path': '/users/show/47670854'},\n",
       "  'reviewer': {'deleted': False,\n",
       "   'first_name': 'Rani Elizabeth',\n",
       "   'host_name': 'Rani Elizabeth',\n",
       "   'id': 51853137,\n",
       "   'is_superhost': False,\n",
       "   'picture_url': 'https://a0.muscache.com/im/pictures/97352246-03bb-4cbf-a033-189a6b9b7436.jpg?aki_policy=profile_x_medium',\n",
       "   'profile_path': '/users/show/51853137'},\n",
       "  't_comments': 'Had a very pleasant winter stay here '}]"
      ]
     },
     "execution_count": 77,
     "metadata": {},
     "output_type": "execute_result"
    }
   ],
   "source": [
    "review_seoul['10003340']"
   ]
  },
  {
   "cell_type": "markdown",
   "metadata": {},
   "source": [
    "## 리뷰 데이터에서 필요한 것은 방의 id, 점수, 번역된 리뷰 : review_en\n"
   ]
  },
  {
   "cell_type": "code",
   "execution_count": 180,
   "metadata": {},
   "outputs": [],
   "source": [
    "review_en = {}\n",
    "for home_id,rev_lst in review_seoul.items():\n",
    "    review_en[home_id] = []\n",
    "    for rev in rev_lst:\n",
    "        if rev['language']=='en':\n",
    "            review_en[home_id].append([rev['rating'],rev['comments']])\n",
    "        else:\n",
    "            continue"
   ]
  },
  {
   "cell_type": "code",
   "execution_count": 79,
   "metadata": {},
   "outputs": [],
   "source": [
    "rating_lst, rev_lst = zip(*review_en['10003340'])"
   ]
  },
  {
   "cell_type": "code",
   "execution_count": 81,
   "metadata": {},
   "outputs": [
    {
     "data": {
      "text/plain": [
       "('The host and her families are really friendly and helpful to me. They recommended some nice places for food nearby like the university canteen and the traditional market to me and tell me the directions for not only once to make sure I can find the way. The host even bring me along to the restaurant when I arrived on the first night because she afraid it is too dangerous for a girl to walk around in the late night which is really caring and sweet for me. The room is clean and cozy, with everything I need included. I can also enjoy my own private time because the hosts are living on the first floor and the whole second floor is for the guests.\\nI enjoy my time staying here and will recommend this place to you all.',\n",
       " \"Lee's home was a cute quaint older home. It was tidy and well taken care of. Lee, her daughter, and her assistant (CJ) were quite friendly and helpful! CJ walked us to the bus stop and gave us directions to the market. Unfortunately, we had to leave earlier than intended due to personal matters. However, CJ was understanding and even drove us to the subway station. Thank you Lee and CJ!\",\n",
       " 'It\\'s really a wonderful trip that i enjoyed my birthday time with my friends here. you are really very nice and warm. i will miss you guys  and the delicious 미역국. if there have a chance to go seoul again, i will come to your big house. that\\'s the best \"HOME\".',\n",
       " 'It was a very pleasant stay with Kyoung-ok and her family. She was very generous with information and always caring. I was with 2 friends who were first timers in Winter Season. She catered to our requests and was very patient with us. Very helpful in booking some of the places we need to visit. We were able to meet her daughter, husband and their cute dog. We look forward to meeting them again and perhaps when they come visit the Philippines, we will sure to tour them in return if we can :)',\n",
       " 'Had a very pleasant winter stay here ')"
      ]
     },
     "execution_count": 81,
     "metadata": {},
     "output_type": "execute_result"
    }
   ],
   "source": [
    "rev_lst"
   ]
  },
  {
   "cell_type": "markdown",
   "metadata": {},
   "source": [
    "## 일단 문장 토큰화 시키자!\n",
    "### 문장 토큰화 되어있는 거 "
   ]
  },
  {
   "cell_type": "code",
   "execution_count": 1,
   "metadata": {},
   "outputs": [],
   "source": [
    "from nltk import sent_tokenize\n",
    "import re\n",
    "\n",
    "#문장별로 토큰화 시키기\n",
    "for home_id, rev_lst in review_en.items():\n",
    "    for rev in rev_lst:\n",
    "        sents = sent_tokenize(rev[1])\n",
    "        munjang = []\n",
    "        for sentence in sents:\n",
    "                # sentence 안에 영어빼고 다른 언어가 있다면 지우기\n",
    "            sent_re = re.sub('[^a-zA-Z\\s]', '', sentence)\n",
    "            munjang.append(sent_re)\n",
    "        rev[1] = munjang\n",
    "\n",
    "#단어별로 토큰화 시키기\n",
    "for home_id, rev_lst in review_en.items():\n",
    "    for rev in rev_lst:\n",
    "        tmp_lst = []\n",
    "        for sent in rev[1]:\n",
    "#             word_lst = nltk.word_tokenize(sent)\n",
    "            token = nltk.regexp_tokenize(sent ,\"[\\w']+\")\n",
    "            token_lower = token.lower()\n",
    "            tmp_lst.append(token_lower)\n",
    "        rev[1] = tmp_lst\n",
    "        \n",
    "        \n",
    "with open('review_token_word_seoul_regexp.json','w') as fp:\n",
    "    json.dump(review_en,fp)\n",
    "    \n",
    "print('good')"
   ]
  },
  {
   "cell_type": "markdown",
   "metadata": {},
   "source": [
    "rating_lst, rev_lst = zip(*review_sentence['10022410'])"
   ]
  },
  {
   "cell_type": "code",
   "execution_count": 88,
   "metadata": {},
   "outputs": [],
   "source": [
    "rating_lst, rev_lst=zip(*review_en['10003340'])"
   ]
  },
  {
   "cell_type": "code",
   "execution_count": 101,
   "metadata": {},
   "outputs": [],
   "source": [
    "for home_id, rev_lst in review_en.items():\n",
    "    for rev in rev_lst:\n",
    "        tmp_lst = []\n",
    "        for sent in rev[1]:\n",
    "            sent_pos = nltk.pos_tag(sent)\n",
    "            tmp_lst.append(sent_pos)\n",
    "        rev[1] = tmp_lst\n",
    "        \n",
    "with open('review_postag_seoul.json','w') as fp:\n",
    "    json.dump(review_en,fp)\n",
    "    \n",
    "# for rev in rev_lst[1]:\n",
    "#     rev_pos = nltk.pos_tag(rev)\n",
    "#     print(rev_pos)"
   ]
  },
  {
   "cell_type": "code",
   "execution_count": 110,
   "metadata": {},
   "outputs": [
    {
     "data": {
      "text/plain": [
       "[('The', 'DT'),\n",
       " ('host', 'NN'),\n",
       " ('and', 'CC'),\n",
       " ('her', 'PRP$'),\n",
       " ('families', 'NNS'),\n",
       " ('are', 'VBP'),\n",
       " ('really', 'RB'),\n",
       " ('friendly', 'JJ'),\n",
       " ('and', 'CC'),\n",
       " ('helpful', 'JJ'),\n",
       " ('to', 'TO'),\n",
       " ('me', 'PRP')]"
      ]
     },
     "execution_count": 110,
     "metadata": {},
     "output_type": "execute_result"
    }
   ],
   "source": [
    "review_en['10003340'][0][1][0]"
   ]
  },
  {
   "cell_type": "code",
   "execution_count": null,
   "metadata": {},
   "outputs": [],
   "source": [
    "with open('review_postag_seoul.json','r',encoding ='utf-8') as f:\n",
    "    review_postag_seoul = json.load(f)"
   ]
  },
  {
   "cell_type": "code",
   "execution_count": null,
   "metadata": {},
   "outputs": [],
   "source": []
  },
  {
   "cell_type": "code",
   "execution_count": null,
   "metadata": {},
   "outputs": [],
   "source": []
  },
  {
   "cell_type": "markdown",
   "metadata": {},
   "source": [
    "nvjr_review_seoul - seoul review에서 nvjr품사만 남겨두고 lemm후 lower 한 json"
   ]
  },
  {
   "cell_type": "code",
   "execution_count": 114,
   "metadata": {},
   "outputs": [],
   "source": [
    "lemm = WordNetLemmatizer()\n",
    "def njvr_lemmantizer(sent):\n",
    "    global lemm\n",
    "    lemm_sent = []\n",
    "    for word_pos in sent:\n",
    "        word,pos=word_pos\n",
    "        if pos[0] == 'N':\n",
    "            lemm_sent.append(lemm.lemmatize(word,pos='n').lower())\n",
    "        elif pos[0] == 'J':\n",
    "            lemm_sent.append(lemm.lemmatize(word,pos='a').lower())\n",
    "        elif pos[0] == 'V':\n",
    "            lemm_sent.append(lemm.lemmatize(word,pos='v').lower())\n",
    "        elif pos[0] == 'R':\n",
    "            lemm_sent.append(lemm.lemmatize(word,pos='r').lower())\n",
    "        else:pass\n",
    "    return lemm_sent\n",
    "# lemm_sent"
   ]
  },
  {
   "cell_type": "code",
   "execution_count": 115,
   "metadata": {},
   "outputs": [],
   "source": [
    "nvjr_review_seoul = {}\n",
    "for keys,revs in review_en.items():\n",
    "    all_tmp = []\n",
    "    for rev in revs:\n",
    "        rev_tmp = []\n",
    "        all_sent = rev[1]\n",
    "        for sent in all_sent:\n",
    "            rev_tmp.append(njvr_lemmantizer(sent))\n",
    "        all_tmp.append(rev_tmp)\n",
    "    nvjr_review_seoul[keys] = all_tmp"
   ]
  },
  {
   "cell_type": "code",
   "execution_count": 122,
   "metadata": {},
   "outputs": [
    {
     "data": {
      "text/plain": [
       "[[['host', 'family', 'be', 'really', 'friendly', 'helpful'],\n",
       "  ['recommend',\n",
       "   'nice',\n",
       "   'place',\n",
       "   'food',\n",
       "   'nearby',\n",
       "   'university',\n",
       "   'canteen',\n",
       "   'traditional',\n",
       "   'market',\n",
       "   'tell',\n",
       "   'direction',\n",
       "   'not',\n",
       "   'only',\n",
       "   'once',\n",
       "   'make',\n",
       "   'sure',\n",
       "   'find',\n",
       "   'way'],\n",
       "  ['host',\n",
       "   'even',\n",
       "   'bring',\n",
       "   'restaurant',\n",
       "   'arrive',\n",
       "   'first',\n",
       "   'night',\n",
       "   'afraid',\n",
       "   'be',\n",
       "   'too',\n",
       "   'dangerous',\n",
       "   'girl',\n",
       "   'walk',\n",
       "   'late',\n",
       "   'night',\n",
       "   'be',\n",
       "   'really',\n",
       "   'caring',\n",
       "   'sweet'],\n",
       "  ['room', 'be', 'clean', 'cozy', 'everything', 'need', 'include'],\n",
       "  ['also',\n",
       "   'enjoy',\n",
       "   'own',\n",
       "   'private',\n",
       "   'time',\n",
       "   'host',\n",
       "   'be',\n",
       "   'live',\n",
       "   'first',\n",
       "   'floor',\n",
       "   'whole',\n",
       "   'second',\n",
       "   'floor',\n",
       "   'be',\n",
       "   'guest'],\n",
       "  ['enjoy', 'time', 'stay', 'here', 'recommend', 'place']],\n",
       " [['lees', 'home', 'be', 'cute', 'quaint', 'old', 'home'],\n",
       "  ['be', 'tidy', 'well', 'take', 'care'],\n",
       "  ['lee', 'daughter', 'assistant', 'cj', 'be', 'quite', 'friendly', 'helpful'],\n",
       "  ['cj', 'walk', 'bus', 'stop', 'give', 'direction', 'market'],\n",
       "  ['unfortunately',\n",
       "   'have',\n",
       "   'leave',\n",
       "   'early',\n",
       "   'intend',\n",
       "   'due',\n",
       "   'personal',\n",
       "   'matter'],\n",
       "  ['however', 'cj', 'be', 'understand', 'even', 'drive', 'subway', 'station'],\n",
       "  ['thank', 'lee', 'cj']],\n",
       " [['really',\n",
       "   'wonderful',\n",
       "   'trip',\n",
       "   'i',\n",
       "   'enjoy',\n",
       "   'birthday',\n",
       "   'time',\n",
       "   'friend',\n",
       "   'here'],\n",
       "  ['be', 'really', 'very', 'nice', 'warm'],\n",
       "  ['i', 'miss', 'guy', 'delicious'],\n",
       "  ['have', 'chance', 'go', 'seoul', 'again', 'i', 'come', 'big', 'house'],\n",
       "  ['thats', 'best', 'home']],\n",
       " [['be', 'very', 'pleasant', 'stay', 'kyoungok', 'family'],\n",
       "  ['be', 'very', 'generous', 'information', 'always', 'care'],\n",
       "  ['be', 'friend', 'be', 'first', 'timer', 'winter', 'season'],\n",
       "  ['cater', 'request', 'be', 'very', 'patient'],\n",
       "  ['very', 'helpful', 'book', 'place', 'need', 'visit'],\n",
       "  ['be', 'able', 'meet', 'daughter', 'husband', 'cute', 'dog'],\n",
       "  ['look',\n",
       "   'forward',\n",
       "   'meet',\n",
       "   'again',\n",
       "   'perhaps',\n",
       "   'come',\n",
       "   'philippines',\n",
       "   'sure',\n",
       "   'tour',\n",
       "   'return']],\n",
       " [['had', 'very', 'pleasant', 'winter', 'stay', 'here']]]"
      ]
     },
     "execution_count": 122,
     "metadata": {},
     "output_type": "execute_result"
    }
   ],
   "source": [
    "nvjr_review_seoul['10003340']"
   ]
  },
  {
   "cell_type": "code",
   "execution_count": 121,
   "metadata": {},
   "outputs": [
    {
     "data": {
      "text/plain": [
       "14608"
      ]
     },
     "execution_count": 121,
     "metadata": {},
     "output_type": "execute_result"
    }
   ],
   "source": [
    "len(nvjr_review_seoul.keys())"
   ]
  },
  {
   "cell_type": "code",
   "execution_count": 120,
   "metadata": {},
   "outputs": [
    {
     "data": {
      "text/plain": [
       "14608"
      ]
     },
     "execution_count": 120,
     "metadata": {},
     "output_type": "execute_result"
    }
   ],
   "source": [
    "len(nvjr_review_seoul.values())"
   ]
  },
  {
   "cell_type": "code",
   "execution_count": 124,
   "metadata": {},
   "outputs": [],
   "source": [
    "all_docs= [item for sublist in nvjr_review_seoul.values() for item in sublist]"
   ]
  },
  {
   "cell_type": "code",
   "execution_count": 146,
   "metadata": {},
   "outputs": [],
   "source": [
    "# all_docs[0]"
   ]
  },
  {
   "cell_type": "code",
   "execution_count": 134,
   "metadata": {},
   "outputs": [
    {
     "data": {
      "text/plain": [
       "181358"
      ]
     },
     "execution_count": 134,
     "metadata": {},
     "output_type": "execute_result"
    }
   ],
   "source": [
    "#181358개의 리뷰\n",
    "len(all_docs)"
   ]
  },
  {
   "cell_type": "code",
   "execution_count": null,
   "metadata": {},
   "outputs": [],
   "source": [
    "make"
   ]
  },
  {
   "cell_type": "code",
   "execution_count": 126,
   "metadata": {},
   "outputs": [],
   "source": [
    "all_sents = [item for sublist in all_docs for item in sublist]"
   ]
  },
  {
   "cell_type": "code",
   "execution_count": 127,
   "metadata": {},
   "outputs": [
    {
     "data": {
      "text/plain": [
       "['host', 'family', 'be', 'really', 'friendly', 'helpful']"
      ]
     },
     "execution_count": 127,
     "metadata": {},
     "output_type": "execute_result"
    }
   ],
   "source": [
    "all_sents[0]"
   ]
  },
  {
   "cell_type": "code",
   "execution_count": 135,
   "metadata": {},
   "outputs": [
    {
     "data": {
      "text/plain": [
       "792588"
      ]
     },
     "execution_count": 135,
     "metadata": {},
     "output_type": "execute_result"
    }
   ],
   "source": [
    "#792588개의 문장\n",
    "len(all_sents)"
   ]
  },
  {
   "cell_type": "code",
   "execution_count": 129,
   "metadata": {},
   "outputs": [],
   "source": [
    "all_words = [item for sublist in all_sents for item in sublist]"
   ]
  },
  {
   "cell_type": "code",
   "execution_count": 130,
   "metadata": {},
   "outputs": [
    {
     "data": {
      "text/plain": [
       "'host'"
      ]
     },
     "execution_count": 130,
     "metadata": {},
     "output_type": "execute_result"
    }
   ],
   "source": [
    "all_words[0]"
   ]
  },
  {
   "cell_type": "code",
   "execution_count": 177,
   "metadata": {},
   "outputs": [
    {
     "data": {
      "text/plain": [
       "5914828"
      ]
     },
     "execution_count": 177,
     "metadata": {},
     "output_type": "execute_result"
    }
   ],
   "source": [
    "#5914828개의 단어\n",
    "len(all_words)"
   ]
  },
  {
   "cell_type": "code",
   "execution_count": 178,
   "metadata": {},
   "outputs": [
    {
     "data": {
      "text/plain": [
       "58364"
      ]
     },
     "execution_count": 178,
     "metadata": {},
     "output_type": "execute_result"
    }
   ],
   "source": [
    "len(letter_count.keys())"
   ]
  },
  {
   "cell_type": "code",
   "execution_count": 139,
   "metadata": {},
   "outputs": [],
   "source": [
    "df_count = pd.DataFrame.from_dict(letter_count, orient='index')"
   ]
  },
  {
   "cell_type": "code",
   "execution_count": 140,
   "metadata": {},
   "outputs": [
    {
     "data": {
      "text/html": [
       "<div>\n",
       "<style scoped>\n",
       "    .dataframe tbody tr th:only-of-type {\n",
       "        vertical-align: middle;\n",
       "    }\n",
       "\n",
       "    .dataframe tbody tr th {\n",
       "        vertical-align: top;\n",
       "    }\n",
       "\n",
       "    .dataframe thead th {\n",
       "        text-align: right;\n",
       "    }\n",
       "</style>\n",
       "<table border=\"1\" class=\"dataframe\">\n",
       "  <thead>\n",
       "    <tr style=\"text-align: right;\">\n",
       "      <th></th>\n",
       "      <th>0</th>\n",
       "    </tr>\n",
       "  </thead>\n",
       "  <tbody>\n",
       "    <tr>\n",
       "      <th>be</th>\n",
       "      <td>544178</td>\n",
       "    </tr>\n",
       "    <tr>\n",
       "      <th>very</th>\n",
       "      <td>154891</td>\n",
       "    </tr>\n",
       "    <tr>\n",
       "      <th>place</th>\n",
       "      <td>128663</td>\n",
       "    </tr>\n",
       "    <tr>\n",
       "      <th>stay</th>\n",
       "      <td>108523</td>\n",
       "    </tr>\n",
       "    <tr>\n",
       "      <th>have</th>\n",
       "      <td>87367</td>\n",
       "    </tr>\n",
       "    <tr>\n",
       "      <th>great</th>\n",
       "      <td>78143</td>\n",
       "    </tr>\n",
       "    <tr>\n",
       "      <th>location</th>\n",
       "      <td>70930</td>\n",
       "    </tr>\n",
       "    <tr>\n",
       "      <th>host</th>\n",
       "      <td>69196</td>\n",
       "    </tr>\n",
       "    <tr>\n",
       "      <th>clean</th>\n",
       "      <td>62036</td>\n",
       "    </tr>\n",
       "    <tr>\n",
       "      <th>station</th>\n",
       "      <td>57166</td>\n",
       "    </tr>\n",
       "    <tr>\n",
       "      <th>apartment</th>\n",
       "      <td>53993</td>\n",
       "    </tr>\n",
       "    <tr>\n",
       "      <th>seoul</th>\n",
       "      <td>52584</td>\n",
       "    </tr>\n",
       "    <tr>\n",
       "      <th>good</th>\n",
       "      <td>52204</td>\n",
       "    </tr>\n",
       "    <tr>\n",
       "      <th>nice</th>\n",
       "      <td>52033</td>\n",
       "    </tr>\n",
       "    <tr>\n",
       "      <th>room</th>\n",
       "      <td>46990</td>\n",
       "    </tr>\n",
       "    <tr>\n",
       "      <th>really</th>\n",
       "      <td>46389</td>\n",
       "    </tr>\n",
       "    <tr>\n",
       "      <th>house</th>\n",
       "      <td>43799</td>\n",
       "    </tr>\n",
       "    <tr>\n",
       "      <th>also</th>\n",
       "      <td>40526</td>\n",
       "    </tr>\n",
       "    <tr>\n",
       "      <th>so</th>\n",
       "      <td>38843</td>\n",
       "    </tr>\n",
       "    <tr>\n",
       "      <th>recommend</th>\n",
       "      <td>37197</td>\n",
       "    </tr>\n",
       "    <tr>\n",
       "      <th>walk</th>\n",
       "      <td>36397</td>\n",
       "    </tr>\n",
       "    <tr>\n",
       "      <th>subway</th>\n",
       "      <td>35124</td>\n",
       "    </tr>\n",
       "    <tr>\n",
       "      <th>again</th>\n",
       "      <td>32062</td>\n",
       "    </tr>\n",
       "    <tr>\n",
       "      <th>time</th>\n",
       "      <td>31966</td>\n",
       "    </tr>\n",
       "    <tr>\n",
       "      <th>close</th>\n",
       "      <td>31160</td>\n",
       "    </tr>\n",
       "  </tbody>\n",
       "</table>\n",
       "</div>"
      ],
      "text/plain": [
       "                0\n",
       "be         544178\n",
       "very       154891\n",
       "place      128663\n",
       "stay       108523\n",
       "have        87367\n",
       "great       78143\n",
       "location    70930\n",
       "host        69196\n",
       "clean       62036\n",
       "station     57166\n",
       "apartment   53993\n",
       "seoul       52584\n",
       "good        52204\n",
       "nice        52033\n",
       "room        46990\n",
       "really      46389\n",
       "house       43799\n",
       "also        40526\n",
       "so          38843\n",
       "recommend   37197\n",
       "walk        36397\n",
       "subway      35124\n",
       "again       32062\n",
       "time        31966\n",
       "close       31160"
      ]
     },
     "execution_count": 140,
     "metadata": {},
     "output_type": "execute_result"
    }
   ],
   "source": [
    "#부사 너무 많다 부사빼고 명사 형용사 동사만 생각해보자\n",
    "df_count.sort_values(by=0,ascending=False).head(25)"
   ]
  },
  {
   "cell_type": "code",
   "execution_count": 150,
   "metadata": {},
   "outputs": [],
   "source": [
    "from nltk.corpus import stopwords\n",
    "stopwords =list(stopwords.words('english'))"
   ]
  },
  {
   "cell_type": "code",
   "execution_count": 151,
   "metadata": {},
   "outputs": [],
   "source": [
    "nvjr_stop = [w for w in all_words if not w in stopwords]"
   ]
  },
  {
   "cell_type": "code",
   "execution_count": 152,
   "metadata": {},
   "outputs": [
    {
     "data": {
      "text/plain": [
       "4801880"
      ]
     },
     "execution_count": 152,
     "metadata": {},
     "output_type": "execute_result"
    }
   ],
   "source": [
    "len(nvjr_stop)"
   ]
  },
  {
   "cell_type": "code",
   "execution_count": 156,
   "metadata": {},
   "outputs": [],
   "source": [
    "nvjr_stop_count = Counter(nvjr_stop)"
   ]
  },
  {
   "cell_type": "code",
   "execution_count": 157,
   "metadata": {},
   "outputs": [],
   "source": [
    "df_nvjr_count = pd.DataFrame.from_dict(nvjr_stop_count, orient='index')"
   ]
  },
  {
   "cell_type": "code",
   "execution_count": 158,
   "metadata": {},
   "outputs": [
    {
     "data": {
      "text/html": [
       "<div>\n",
       "<style scoped>\n",
       "    .dataframe tbody tr th:only-of-type {\n",
       "        vertical-align: middle;\n",
       "    }\n",
       "\n",
       "    .dataframe tbody tr th {\n",
       "        vertical-align: top;\n",
       "    }\n",
       "\n",
       "    .dataframe thead th {\n",
       "        text-align: right;\n",
       "    }\n",
       "</style>\n",
       "<table border=\"1\" class=\"dataframe\">\n",
       "  <thead>\n",
       "    <tr style=\"text-align: right;\">\n",
       "      <th></th>\n",
       "      <th>0</th>\n",
       "    </tr>\n",
       "  </thead>\n",
       "  <tbody>\n",
       "    <tr>\n",
       "      <th>place</th>\n",
       "      <td>128663</td>\n",
       "    </tr>\n",
       "    <tr>\n",
       "      <th>stay</th>\n",
       "      <td>108523</td>\n",
       "    </tr>\n",
       "    <tr>\n",
       "      <th>great</th>\n",
       "      <td>78143</td>\n",
       "    </tr>\n",
       "    <tr>\n",
       "      <th>location</th>\n",
       "      <td>70930</td>\n",
       "    </tr>\n",
       "    <tr>\n",
       "      <th>host</th>\n",
       "      <td>69196</td>\n",
       "    </tr>\n",
       "    <tr>\n",
       "      <th>clean</th>\n",
       "      <td>62036</td>\n",
       "    </tr>\n",
       "    <tr>\n",
       "      <th>station</th>\n",
       "      <td>57166</td>\n",
       "    </tr>\n",
       "    <tr>\n",
       "      <th>apartment</th>\n",
       "      <td>53993</td>\n",
       "    </tr>\n",
       "    <tr>\n",
       "      <th>seoul</th>\n",
       "      <td>52584</td>\n",
       "    </tr>\n",
       "    <tr>\n",
       "      <th>good</th>\n",
       "      <td>52204</td>\n",
       "    </tr>\n",
       "    <tr>\n",
       "      <th>nice</th>\n",
       "      <td>52033</td>\n",
       "    </tr>\n",
       "    <tr>\n",
       "      <th>room</th>\n",
       "      <td>46990</td>\n",
       "    </tr>\n",
       "    <tr>\n",
       "      <th>really</th>\n",
       "      <td>46389</td>\n",
       "    </tr>\n",
       "    <tr>\n",
       "      <th>house</th>\n",
       "      <td>43799</td>\n",
       "    </tr>\n",
       "    <tr>\n",
       "      <th>also</th>\n",
       "      <td>40526</td>\n",
       "    </tr>\n",
       "    <tr>\n",
       "      <th>recommend</th>\n",
       "      <td>37197</td>\n",
       "    </tr>\n",
       "    <tr>\n",
       "      <th>walk</th>\n",
       "      <td>36397</td>\n",
       "    </tr>\n",
       "    <tr>\n",
       "      <th>subway</th>\n",
       "      <td>35124</td>\n",
       "    </tr>\n",
       "    <tr>\n",
       "      <th>time</th>\n",
       "      <td>31966</td>\n",
       "    </tr>\n",
       "    <tr>\n",
       "      <th>close</th>\n",
       "      <td>31160</td>\n",
       "    </tr>\n",
       "    <tr>\n",
       "      <th>need</th>\n",
       "      <td>30573</td>\n",
       "    </tr>\n",
       "    <tr>\n",
       "      <th>convenient</th>\n",
       "      <td>30164</td>\n",
       "    </tr>\n",
       "    <tr>\n",
       "      <th>everything</th>\n",
       "      <td>29055</td>\n",
       "    </tr>\n",
       "    <tr>\n",
       "      <th>get</th>\n",
       "      <td>28616</td>\n",
       "    </tr>\n",
       "    <tr>\n",
       "      <th>helpful</th>\n",
       "      <td>27215</td>\n",
       "    </tr>\n",
       "  </tbody>\n",
       "</table>\n",
       "</div>"
      ],
      "text/plain": [
       "                 0\n",
       "place       128663\n",
       "stay        108523\n",
       "great        78143\n",
       "location     70930\n",
       "host         69196\n",
       "clean        62036\n",
       "station      57166\n",
       "apartment    53993\n",
       "seoul        52584\n",
       "good         52204\n",
       "nice         52033\n",
       "room         46990\n",
       "really       46389\n",
       "house        43799\n",
       "also         40526\n",
       "recommend    37197\n",
       "walk         36397\n",
       "subway       35124\n",
       "time         31966\n",
       "close        31160\n",
       "need         30573\n",
       "convenient   30164\n",
       "everything   29055\n",
       "get          28616\n",
       "helpful      27215"
      ]
     },
     "execution_count": 158,
     "metadata": {},
     "output_type": "execute_result"
    }
   ],
   "source": [
    "df_nvjr_count.sort_values(by=0,ascending=False).head(25)"
   ]
  },
  {
   "cell_type": "code",
   "execution_count": 142,
   "metadata": {},
   "outputs": [],
   "source": [
    "def njv_lemmantizer(sent):\n",
    "    global lemm\n",
    "    lemm_sent = []\n",
    "    for word_pos in sent:\n",
    "        word,pos=word_pos\n",
    "        if pos[0] == 'N':\n",
    "            lemm_sent.append(lemm.lemmatize(word,pos='n').lower())\n",
    "        elif pos[0] == 'J':\n",
    "            lemm_sent.append(lemm.lemmatize(word,pos='a').lower())\n",
    "        elif pos[0] == 'V':\n",
    "            lemm_sent.append(lemm.lemmatize(word,pos='v').lower())\n",
    "#         elif pos[0] == 'R':\n",
    "#             lemm_sent.append(lemm.lemmatize(word,pos='r').lower())\n",
    "        else:pass\n",
    "    return lemm_sent\n",
    "# lemm_sent"
   ]
  },
  {
   "cell_type": "code",
   "execution_count": 145,
   "metadata": {},
   "outputs": [],
   "source": [
    "njv_review_seoul = {}\n",
    "for keys,revs in review_en.items():\n",
    "    all_tmp = []\n",
    "    for rev in revs:\n",
    "        rev_tmp = []\n",
    "        all_sent = rev[1]\n",
    "        for sent in all_sent:\n",
    "            rev_tmp.append(njv_lemmantizer(sent))\n",
    "        all_tmp.append(rev_tmp)\n",
    "    njv_review_seoul[keys] = all_tmp"
   ]
  },
  {
   "cell_type": "code",
   "execution_count": 149,
   "metadata": {},
   "outputs": [],
   "source": [
    "nvj_words = []\n",
    "for room in njv_review_seoul.values():\n",
    "    for reviews in room:\n",
    "        for sents in reviews:\n",
    "            for words in sents:\n",
    "                nvj_words.append(words)"
   ]
  },
  {
   "cell_type": "code",
   "execution_count": 153,
   "metadata": {},
   "outputs": [
    {
     "data": {
      "text/plain": [
       "5077000"
      ]
     },
     "execution_count": 153,
     "metadata": {},
     "output_type": "execute_result"
    }
   ],
   "source": [
    "#단어 갯수는 50077000\n",
    "len(nvj_words)"
   ]
  },
  {
   "cell_type": "code",
   "execution_count": 154,
   "metadata": {},
   "outputs": [],
   "source": [
    "nvj_stop = [w for w in nvj_words if not w in stopwords]"
   ]
  },
  {
   "cell_type": "code",
   "execution_count": 155,
   "metadata": {},
   "outputs": [
    {
     "data": {
      "text/plain": [
       "4359055"
      ]
     },
     "execution_count": 155,
     "metadata": {},
     "output_type": "execute_result"
    }
   ],
   "source": [
    "#stopwords 제거시 50만개 차이\n",
    "len(nvj_stop)"
   ]
  },
  {
   "cell_type": "code",
   "execution_count": 159,
   "metadata": {},
   "outputs": [],
   "source": [
    "nvj_stop_count = Counter(nvj_stop)"
   ]
  },
  {
   "cell_type": "code",
   "execution_count": 160,
   "metadata": {},
   "outputs": [],
   "source": [
    "df_nvj_count = pd.DataFrame.from_dict(nvj_stop_count, orient='index')"
   ]
  },
  {
   "cell_type": "code",
   "execution_count": 161,
   "metadata": {},
   "outputs": [
    {
     "data": {
      "text/html": [
       "<div>\n",
       "<style scoped>\n",
       "    .dataframe tbody tr th:only-of-type {\n",
       "        vertical-align: middle;\n",
       "    }\n",
       "\n",
       "    .dataframe tbody tr th {\n",
       "        vertical-align: top;\n",
       "    }\n",
       "\n",
       "    .dataframe thead th {\n",
       "        text-align: right;\n",
       "    }\n",
       "</style>\n",
       "<table border=\"1\" class=\"dataframe\">\n",
       "  <thead>\n",
       "    <tr style=\"text-align: right;\">\n",
       "      <th></th>\n",
       "      <th>0</th>\n",
       "    </tr>\n",
       "  </thead>\n",
       "  <tbody>\n",
       "    <tr>\n",
       "      <th>place</th>\n",
       "      <td>128663</td>\n",
       "    </tr>\n",
       "    <tr>\n",
       "      <th>stay</th>\n",
       "      <td>108443</td>\n",
       "    </tr>\n",
       "    <tr>\n",
       "      <th>great</th>\n",
       "      <td>78143</td>\n",
       "    </tr>\n",
       "    <tr>\n",
       "      <th>location</th>\n",
       "      <td>70930</td>\n",
       "    </tr>\n",
       "    <tr>\n",
       "      <th>host</th>\n",
       "      <td>69165</td>\n",
       "    </tr>\n",
       "    <tr>\n",
       "      <th>clean</th>\n",
       "      <td>62033</td>\n",
       "    </tr>\n",
       "    <tr>\n",
       "      <th>station</th>\n",
       "      <td>57166</td>\n",
       "    </tr>\n",
       "    <tr>\n",
       "      <th>apartment</th>\n",
       "      <td>53991</td>\n",
       "    </tr>\n",
       "    <tr>\n",
       "      <th>seoul</th>\n",
       "      <td>52541</td>\n",
       "    </tr>\n",
       "    <tr>\n",
       "      <th>good</th>\n",
       "      <td>52203</td>\n",
       "    </tr>\n",
       "    <tr>\n",
       "      <th>nice</th>\n",
       "      <td>51535</td>\n",
       "    </tr>\n",
       "    <tr>\n",
       "      <th>room</th>\n",
       "      <td>46989</td>\n",
       "    </tr>\n",
       "    <tr>\n",
       "      <th>house</th>\n",
       "      <td>43799</td>\n",
       "    </tr>\n",
       "    <tr>\n",
       "      <th>recommend</th>\n",
       "      <td>37194</td>\n",
       "    </tr>\n",
       "    <tr>\n",
       "      <th>walk</th>\n",
       "      <td>36393</td>\n",
       "    </tr>\n",
       "    <tr>\n",
       "      <th>subway</th>\n",
       "      <td>34205</td>\n",
       "    </tr>\n",
       "    <tr>\n",
       "      <th>time</th>\n",
       "      <td>31966</td>\n",
       "    </tr>\n",
       "    <tr>\n",
       "      <th>need</th>\n",
       "      <td>30535</td>\n",
       "    </tr>\n",
       "    <tr>\n",
       "      <th>convenient</th>\n",
       "      <td>30164</td>\n",
       "    </tr>\n",
       "    <tr>\n",
       "      <th>everything</th>\n",
       "      <td>29055</td>\n",
       "    </tr>\n",
       "    <tr>\n",
       "      <th>get</th>\n",
       "      <td>28616</td>\n",
       "    </tr>\n",
       "    <tr>\n",
       "      <th>helpful</th>\n",
       "      <td>27211</td>\n",
       "    </tr>\n",
       "    <tr>\n",
       "      <th>comfortable</th>\n",
       "      <td>26276</td>\n",
       "    </tr>\n",
       "    <tr>\n",
       "      <th>easy</th>\n",
       "      <td>25191</td>\n",
       "    </tr>\n",
       "    <tr>\n",
       "      <th>restaurant</th>\n",
       "      <td>24365</td>\n",
       "    </tr>\n",
       "  </tbody>\n",
       "</table>\n",
       "</div>"
      ],
      "text/plain": [
       "                  0\n",
       "place        128663\n",
       "stay         108443\n",
       "great         78143\n",
       "location      70930\n",
       "host          69165\n",
       "clean         62033\n",
       "station       57166\n",
       "apartment     53991\n",
       "seoul         52541\n",
       "good          52203\n",
       "nice          51535\n",
       "room          46989\n",
       "house         43799\n",
       "recommend     37194\n",
       "walk          36393\n",
       "subway        34205\n",
       "time          31966\n",
       "need          30535\n",
       "convenient    30164\n",
       "everything    29055\n",
       "get           28616\n",
       "helpful       27211\n",
       "comfortable   26276\n",
       "easy          25191\n",
       "restaurant    24365"
      ]
     },
     "execution_count": 161,
     "metadata": {},
     "output_type": "execute_result"
    }
   ],
   "source": [
    "df_nvj_count.sort_values(by=0,ascending=False).head(25)"
   ]
  },
  {
   "cell_type": "code",
   "execution_count": 163,
   "metadata": {},
   "outputs": [
    {
     "name": "stderr",
     "output_type": "stream",
     "text": [
      "100%|███████████████████████████████████████████████████████████████████████████| 14608/14608 [00:54<00:00, 270.14it/s]\n"
     ]
    }
   ],
   "source": [
    "import tqdm\n",
    "\n",
    "for listing_id, rev_lst in tqdm.tqdm(review_en.items()):\n",
    "    for rev in rev_lst:\n",
    "        rev_tmp = []\n",
    "        for sent in rev[1]:\n",
    "            sent_lemm = njv_lemmantizer(sent)\n",
    "            no_stopword_token = [w for w in sent_lemm if not w in stopwords]\n",
    "            rev_tmp.append(no_stopword_token)\n",
    "        rev[1] = rev_tmp"
   ]
  },
  {
   "cell_type": "code",
   "execution_count": 174,
   "metadata": {},
   "outputs": [],
   "source": [
    "with open('review_new_postag_sentence_seoul.json','w',encoding='utf-8') as fp:\n",
    "        json.dump(review_en,fp)"
   ]
  },
  {
   "cell_type": "code",
   "execution_count": null,
   "metadata": {},
   "outputs": [],
   "source": []
  },
  {
   "cell_type": "code",
   "execution_count": null,
   "metadata": {},
   "outputs": [],
   "source": []
  },
  {
   "cell_type": "code",
   "execution_count": null,
   "metadata": {},
   "outputs": [],
   "source": []
  },
  {
   "cell_type": "code",
   "execution_count": null,
   "metadata": {},
   "outputs": [],
   "source": []
  },
  {
   "cell_type": "code",
   "execution_count": null,
   "metadata": {},
   "outputs": [],
   "source": []
  },
  {
   "cell_type": "code",
   "execution_count": null,
   "metadata": {},
   "outputs": [],
   "source": []
  },
  {
   "cell_type": "code",
   "execution_count": null,
   "metadata": {},
   "outputs": [],
   "source": []
  },
  {
   "cell_type": "code",
   "execution_count": null,
   "metadata": {},
   "outputs": [],
   "source": []
  },
  {
   "cell_type": "code",
   "execution_count": 173,
   "metadata": {},
   "outputs": [
    {
     "data": {
      "text/plain": [
       "[5,\n",
       " [['host', 'family', 'friendly', 'helpful'],\n",
       "  ['recommend',\n",
       "   'nice',\n",
       "   'place',\n",
       "   'food',\n",
       "   'nearby',\n",
       "   'university',\n",
       "   'canteen',\n",
       "   'traditional',\n",
       "   'market',\n",
       "   'tell',\n",
       "   'direction',\n",
       "   'make',\n",
       "   'sure',\n",
       "   'find',\n",
       "   'way'],\n",
       "  ['host',\n",
       "   'bring',\n",
       "   'restaurant',\n",
       "   'arrive',\n",
       "   'first',\n",
       "   'night',\n",
       "   'afraid',\n",
       "   'dangerous',\n",
       "   'girl',\n",
       "   'walk',\n",
       "   'late',\n",
       "   'night',\n",
       "   'caring',\n",
       "   'sweet'],\n",
       "  ['room', 'clean', 'cozy', 'everything', 'need', 'include'],\n",
       "  ['enjoy',\n",
       "   'private',\n",
       "   'time',\n",
       "   'host',\n",
       "   'live',\n",
       "   'first',\n",
       "   'floor',\n",
       "   'whole',\n",
       "   'second',\n",
       "   'floor',\n",
       "   'guest'],\n",
       "  ['enjoy', 'time', 'stay', 'recommend', 'place']]]"
      ]
     },
     "execution_count": 173,
     "metadata": {},
     "output_type": "execute_result"
    }
   ],
   "source": [
    "review_en['10003340'][0]"
   ]
  },
  {
   "cell_type": "code",
   "execution_count": 168,
   "metadata": {},
   "outputs": [],
   "source": [
    "exex = review_en['10003340'][0][1]"
   ]
  },
  {
   "cell_type": "code",
   "execution_count": 169,
   "metadata": {},
   "outputs": [],
   "source": [
    "exex_review = [item for sublist in exex for item in sublist]"
   ]
  },
  {
   "cell_type": "code",
   "execution_count": 170,
   "metadata": {},
   "outputs": [
    {
     "data": {
      "text/plain": [
       "['host',\n",
       " 'family',\n",
       " 'friendly',\n",
       " 'helpful',\n",
       " 'recommend',\n",
       " 'nice',\n",
       " 'place',\n",
       " 'food',\n",
       " 'nearby',\n",
       " 'university',\n",
       " 'canteen',\n",
       " 'traditional',\n",
       " 'market',\n",
       " 'tell',\n",
       " 'direction',\n",
       " 'make',\n",
       " 'sure',\n",
       " 'find',\n",
       " 'way',\n",
       " 'host',\n",
       " 'bring',\n",
       " 'restaurant',\n",
       " 'arrive',\n",
       " 'first',\n",
       " 'night',\n",
       " 'afraid',\n",
       " 'dangerous',\n",
       " 'girl',\n",
       " 'walk',\n",
       " 'late',\n",
       " 'night',\n",
       " 'caring',\n",
       " 'sweet',\n",
       " 'room',\n",
       " 'clean',\n",
       " 'cozy',\n",
       " 'everything',\n",
       " 'need',\n",
       " 'include',\n",
       " 'enjoy',\n",
       " 'private',\n",
       " 'time',\n",
       " 'host',\n",
       " 'live',\n",
       " 'first',\n",
       " 'floor',\n",
       " 'whole',\n",
       " 'second',\n",
       " 'floor',\n",
       " 'guest',\n",
       " 'enjoy',\n",
       " 'time',\n",
       " 'stay',\n",
       " 'recommend',\n",
       " 'place']"
      ]
     },
     "execution_count": 170,
     "metadata": {},
     "output_type": "execute_result"
    }
   ],
   "source": [
    "exex_review"
   ]
  },
  {
   "cell_type": "code",
   "execution_count": null,
   "metadata": {},
   "outputs": [],
   "source": []
  },
  {
   "cell_type": "code",
   "execution_count": null,
   "metadata": {},
   "outputs": [],
   "source": []
  },
  {
   "cell_type": "code",
   "execution_count": 3,
   "metadata": {},
   "outputs": [
    {
     "data": {
      "text/plain": [
       "['i', 'went', 'to', 'the', 'dormitory', 'with', 'my', 'friends']"
      ]
     },
     "execution_count": 3,
     "metadata": {},
     "output_type": "execute_result"
    }
   ],
   "source": [
    "#리뷰 lower+tokenize\n",
    "review_sentence['10030136'][0][1][0]\n"
   ]
  },
  {
   "cell_type": "code",
   "execution_count": 4,
   "metadata": {},
   "outputs": [
    {
     "data": {
      "text/plain": [
       "['i', 'went', 'to', 'the', 'dormitori', 'with', 'my', 'friend']"
      ]
     },
     "execution_count": 4,
     "metadata": {},
     "output_type": "execute_result"
    }
   ],
   "source": [
    "#포터 형태소 분석기는 보수적\n",
    "import nltk\n",
    "stemmer = nltk.stem.PorterStemmer()\n",
    "[stemmer.stem(w) for w in review_sentence['10030136'][0][1][0]]"
   ]
  },
  {
   "cell_type": "code",
   "execution_count": 5,
   "metadata": {},
   "outputs": [
    {
     "data": {
      "text/plain": [
       "['i', 'went', 'to', 'the', 'dormit', 'with', 'my', 'friend']"
      ]
     },
     "execution_count": 5,
     "metadata": {},
     "output_type": "execute_result"
    }
   ],
   "source": [
    "#형태소 분석 규칙의 적극성 때문에 랭커스터 형태소 분석기는 더 많은 동음이의어 형태소를 생산\n",
    "from nltk.stem.lancaster import LancasterStemmer\n",
    "lancaster_stemmer = LancasterStemmer()\n",
    "[lancaster_stemmer.stem(w) for w in review_sentence['10030136'][0][1][0]]"
   ]
  },
  {
   "cell_type": "code",
   "execution_count": 6,
   "metadata": {},
   "outputs": [
    {
     "data": {
      "text/plain": [
       "['i', 'went', 'to', 'the', 'dormitori', 'with', 'my', 'friend']"
      ]
     },
     "execution_count": 6,
     "metadata": {},
     "output_type": "execute_result"
    }
   ],
   "source": [
    "from nltk.stem.snowball import SnowballStemmer\n",
    "snow_stemmer = SnowballStemmer('english')\n",
    "[snow_stemmer.stem(w) for w in review_sentence['10030136'][0][1][0]]"
   ]
  },
  {
   "cell_type": "code",
   "execution_count": 7,
   "metadata": {},
   "outputs": [
    {
     "data": {
      "text/plain": [
       "['i', 'went', 'to', 'the', 'dormitory', 'with', 'my', 'friend']"
      ]
     },
     "execution_count": 7,
     "metadata": {},
     "output_type": "execute_result"
    }
   ],
   "source": [
    "from nltk.stem import WordNetLemmatizer\n",
    "wordnet_lemmatizer = WordNetLemmatizer()\n",
    "[wordnet_lemmatizer.lemmatize(w) for w in review_sentence['10030136'][0][1][0]]"
   ]
  },
  {
   "cell_type": "code",
   "execution_count": 8,
   "metadata": {},
   "outputs": [],
   "source": [
    "lemm = [wordnet_lemmatizer.lemmatize(w) for w in review_sentence['10030136'][0][1][0]]"
   ]
  },
  {
   "cell_type": "code",
   "execution_count": 9,
   "metadata": {},
   "outputs": [
    {
     "data": {
      "text/plain": [
       "['i', 'went', 'to', 'the', 'dormitory', 'with', 'my', 'friend']"
      ]
     },
     "execution_count": 9,
     "metadata": {},
     "output_type": "execute_result"
    }
   ],
   "source": [
    "lemm"
   ]
  },
  {
   "cell_type": "code",
   "execution_count": 10,
   "metadata": {},
   "outputs": [],
   "source": [
    "stem_lemm = [lancaster_stemmer.stem(w) for w in lemm]"
   ]
  },
  {
   "cell_type": "code",
   "execution_count": 11,
   "metadata": {},
   "outputs": [
    {
     "data": {
      "text/plain": [
       "['i', 'went', 'to', 'the', 'dormit', 'with', 'my', 'friend']"
      ]
     },
     "execution_count": 11,
     "metadata": {},
     "output_type": "execute_result"
    }
   ],
   "source": [
    "stem_lemm"
   ]
  },
  {
   "cell_type": "code",
   "execution_count": 57,
   "metadata": {},
   "outputs": [
    {
     "data": {
      "text/plain": [
       "['i', 'went', 'to', 'the', 'dormit', 'with', 'my', 'friend']"
      ]
     },
     "execution_count": 57,
     "metadata": {},
     "output_type": "execute_result"
    }
   ],
   "source": [
    "[wordnet_lemmatizer.lemmatize(w) for w in k]"
   ]
  },
  {
   "cell_type": "code",
   "execution_count": 52,
   "metadata": {},
   "outputs": [
    {
     "data": {
      "text/plain": [
       "'maxim'"
      ]
     },
     "execution_count": 52,
     "metadata": {},
     "output_type": "execute_result"
    }
   ],
   "source": [
    "lancaster_stemmer.stem('maximum')"
   ]
  },
  {
   "cell_type": "code",
   "execution_count": 51,
   "metadata": {},
   "outputs": [
    {
     "data": {
      "text/plain": [
       "'going'"
      ]
     },
     "execution_count": 51,
     "metadata": {},
     "output_type": "execute_result"
    }
   ],
   "source": [
    "wordnet_lemmatizer.lemmatize('going')"
   ]
  },
  {
   "cell_type": "code",
   "execution_count": 83,
   "metadata": {},
   "outputs": [],
   "source": [
    "ex2 = nltk.pos_tag(['koreaoe',' good', 'because', 'it',' was', 'close' ,'to','Busan' ,'station'])"
   ]
  },
  {
   "cell_type": "code",
   "execution_count": 84,
   "metadata": {},
   "outputs": [
    {
     "data": {
      "text/plain": [
       "[('koreaoe', 'VB'),\n",
       " (' good', 'NN'),\n",
       " ('because', 'IN'),\n",
       " ('it', 'PRP'),\n",
       " (' was', 'VBZ'),\n",
       " ('close', 'RB'),\n",
       " ('to', 'TO'),\n",
       " ('Busan', 'NNP'),\n",
       " ('station', 'NN')]"
      ]
     },
     "execution_count": 84,
     "metadata": {},
     "output_type": "execute_result"
    }
   ],
   "source": [
    "ex2"
   ]
  },
  {
   "cell_type": "code",
   "execution_count": null,
   "metadata": {},
   "outputs": [],
   "source": [
    "nltk.pos_tag('I love ')"
   ]
  },
  {
   "cell_type": "code",
   "execution_count": 71,
   "metadata": {},
   "outputs": [
    {
     "name": "stdout",
     "output_type": "stream",
     "text": [
      "[nltk_data] Downloading package tagsets to\n",
      "[nltk_data]     C:\\Users\\Administrator\\AppData\\Roaming\\nltk_data...\n",
      "[nltk_data]   Unzipping help\\tagsets.zip.\n"
     ]
    },
    {
     "data": {
      "text/plain": [
       "True"
      ]
     },
     "execution_count": 71,
     "metadata": {},
     "output_type": "execute_result"
    }
   ],
   "source": [
    "nltk.download('tagsets')\n"
   ]
  },
  {
   "cell_type": "code",
   "execution_count": 72,
   "metadata": {},
   "outputs": [
    {
     "name": "stdout",
     "output_type": "stream",
     "text": [
      "$: dollar\n",
      "    $ -$ --$ A$ C$ HK$ M$ NZ$ S$ U.S.$ US$\n",
      "'': closing quotation mark\n",
      "    ' ''\n",
      "(: opening parenthesis\n",
      "    ( [ {\n",
      "): closing parenthesis\n",
      "    ) ] }\n",
      ",: comma\n",
      "    ,\n",
      "--: dash\n",
      "    --\n",
      ".: sentence terminator\n",
      "    . ! ?\n",
      ":: colon or ellipsis\n",
      "    : ; ...\n",
      "CC: conjunction, coordinating\n",
      "    & 'n and both but either et for less minus neither nor or plus so\n",
      "    therefore times v. versus vs. whether yet\n",
      "CD: numeral, cardinal\n",
      "    mid-1890 nine-thirty forty-two one-tenth ten million 0.5 one forty-\n",
      "    seven 1987 twenty '79 zero two 78-degrees eighty-four IX '60s .025\n",
      "    fifteen 271,124 dozen quintillion DM2,000 ...\n",
      "DT: determiner\n",
      "    all an another any both del each either every half la many much nary\n",
      "    neither no some such that the them these this those\n",
      "EX: existential there\n",
      "    there\n",
      "FW: foreign word\n",
      "    gemeinschaft hund ich jeux habeas Haementeria Herr K'ang-si vous\n",
      "    lutihaw alai je jour objets salutaris fille quibusdam pas trop Monte\n",
      "    terram fiche oui corporis ...\n",
      "IN: preposition or conjunction, subordinating\n",
      "    astride among uppon whether out inside pro despite on by throughout\n",
      "    below within for towards near behind atop around if like until below\n",
      "    next into if beside ...\n",
      "JJ: adjective or numeral, ordinal\n",
      "    third ill-mannered pre-war regrettable oiled calamitous first separable\n",
      "    ectoplasmic battery-powered participatory fourth still-to-be-named\n",
      "    multilingual multi-disciplinary ...\n",
      "JJR: adjective, comparative\n",
      "    bleaker braver breezier briefer brighter brisker broader bumper busier\n",
      "    calmer cheaper choosier cleaner clearer closer colder commoner costlier\n",
      "    cozier creamier crunchier cuter ...\n",
      "JJS: adjective, superlative\n",
      "    calmest cheapest choicest classiest cleanest clearest closest commonest\n",
      "    corniest costliest crassest creepiest crudest cutest darkest deadliest\n",
      "    dearest deepest densest dinkiest ...\n",
      "LS: list item marker\n",
      "    A A. B B. C C. D E F First G H I J K One SP-44001 SP-44002 SP-44005\n",
      "    SP-44007 Second Third Three Two * a b c d first five four one six three\n",
      "    two\n",
      "MD: modal auxiliary\n",
      "    can cannot could couldn't dare may might must need ought shall should\n",
      "    shouldn't will would\n",
      "NN: noun, common, singular or mass\n",
      "    common-carrier cabbage knuckle-duster Casino afghan shed thermostat\n",
      "    investment slide humour falloff slick wind hyena override subhumanity\n",
      "    machinist ...\n",
      "NNP: noun, proper, singular\n",
      "    Motown Venneboerger Czestochwa Ranzer Conchita Trumplane Christos\n",
      "    Oceanside Escobar Kreisler Sawyer Cougar Yvette Ervin ODI Darryl CTCA\n",
      "    Shannon A.K.C. Meltex Liverpool ...\n",
      "NNPS: noun, proper, plural\n",
      "    Americans Americas Amharas Amityvilles Amusements Anarcho-Syndicalists\n",
      "    Andalusians Andes Andruses Angels Animals Anthony Antilles Antiques\n",
      "    Apache Apaches Apocrypha ...\n",
      "NNS: noun, common, plural\n",
      "    undergraduates scotches bric-a-brac products bodyguards facets coasts\n",
      "    divestitures storehouses designs clubs fragrances averages\n",
      "    subjectivists apprehensions muses factory-jobs ...\n",
      "PDT: pre-determiner\n",
      "    all both half many quite such sure this\n",
      "POS: genitive marker\n",
      "    ' 's\n",
      "PRP: pronoun, personal\n",
      "    hers herself him himself hisself it itself me myself one oneself ours\n",
      "    ourselves ownself self she thee theirs them themselves they thou thy us\n",
      "PRP$: pronoun, possessive\n",
      "    her his mine my our ours their thy your\n",
      "RB: adverb\n",
      "    occasionally unabatingly maddeningly adventurously professedly\n",
      "    stirringly prominently technologically magisterially predominately\n",
      "    swiftly fiscally pitilessly ...\n",
      "RBR: adverb, comparative\n",
      "    further gloomier grander graver greater grimmer harder harsher\n",
      "    healthier heavier higher however larger later leaner lengthier less-\n",
      "    perfectly lesser lonelier longer louder lower more ...\n",
      "RBS: adverb, superlative\n",
      "    best biggest bluntest earliest farthest first furthest hardest\n",
      "    heartiest highest largest least less most nearest second tightest worst\n",
      "RP: particle\n",
      "    aboard about across along apart around aside at away back before behind\n",
      "    by crop down ever fast for forth from go high i.e. in into just later\n",
      "    low more off on open out over per pie raising start teeth that through\n",
      "    under unto up up-pp upon whole with you\n",
      "SYM: symbol\n",
      "    % & ' '' ''. ) ). * + ,. < = > @ A[fj] U.S U.S.S.R * ** ***\n",
      "TO: \"to\" as preposition or infinitive marker\n",
      "    to\n",
      "UH: interjection\n",
      "    Goodbye Goody Gosh Wow Jeepers Jee-sus Hubba Hey Kee-reist Oops amen\n",
      "    huh howdy uh dammit whammo shucks heck anyways whodunnit honey golly\n",
      "    man baby diddle hush sonuvabitch ...\n",
      "VB: verb, base form\n",
      "    ask assemble assess assign assume atone attention avoid bake balkanize\n",
      "    bank begin behold believe bend benefit bevel beware bless boil bomb\n",
      "    boost brace break bring broil brush build ...\n",
      "VBD: verb, past tense\n",
      "    dipped pleaded swiped regummed soaked tidied convened halted registered\n",
      "    cushioned exacted snubbed strode aimed adopted belied figgered\n",
      "    speculated wore appreciated contemplated ...\n",
      "VBG: verb, present participle or gerund\n",
      "    telegraphing stirring focusing angering judging stalling lactating\n",
      "    hankerin' alleging veering capping approaching traveling besieging\n",
      "    encrypting interrupting erasing wincing ...\n",
      "VBN: verb, past participle\n",
      "    multihulled dilapidated aerosolized chaired languished panelized used\n",
      "    experimented flourished imitated reunifed factored condensed sheared\n",
      "    unsettled primed dubbed desired ...\n",
      "VBP: verb, present tense, not 3rd person singular\n",
      "    predominate wrap resort sue twist spill cure lengthen brush terminate\n",
      "    appear tend stray glisten obtain comprise detest tease attract\n",
      "    emphasize mold postpone sever return wag ...\n",
      "VBZ: verb, present tense, 3rd person singular\n",
      "    bases reconstructs marks mixes displeases seals carps weaves snatches\n",
      "    slumps stretches authorizes smolders pictures emerges stockpiles\n",
      "    seduces fizzes uses bolsters slaps speaks pleads ...\n",
      "WDT: WH-determiner\n",
      "    that what whatever which whichever\n",
      "WP: WH-pronoun\n",
      "    that what whatever whatsoever which who whom whosoever\n",
      "WP$: WH-pronoun, possessive\n",
      "    whose\n",
      "WRB: Wh-adverb\n",
      "    how however whence whenever where whereby whereever wherein whereof why\n",
      "``: opening quotation mark\n",
      "    ` ``\n"
     ]
    }
   ],
   "source": [
    "nltk.help.upenn_tagset()"
   ]
  },
  {
   "cell_type": "code",
   "execution_count": 15,
   "metadata": {},
   "outputs": [],
   "source": [
    "rating_lst, rev_lst = zip(*review_sentence['10022410'])"
   ]
  },
  {
   "cell_type": "code",
   "execution_count": 16,
   "metadata": {},
   "outputs": [
    {
     "data": {
      "text/plain": [
       "(4, 5, 5, 5, 5)"
      ]
     },
     "execution_count": 16,
     "metadata": {},
     "output_type": "execute_result"
    }
   ],
   "source": [
    "rating_lst[:5]"
   ]
  },
  {
   "cell_type": "code",
   "execution_count": 21,
   "metadata": {},
   "outputs": [],
   "source": [
    "ex = nltk.pos_tag(rev_lst[0][0])"
   ]
  },
  {
   "cell_type": "markdown",
   "metadata": {},
   "source": [
    "NN: noun, common, singular or mass\n",
    "    common-carrier cabbage knuckle-duster Casino afghan shed thermostat\n",
    "    investment slide humour falloff slick wind hyena override subhumanity\n",
    "    machinist ...\n",
    "    \n",
    "NNP: noun, proper, singular\n",
    "    Motown Venneboerger Czestochwa Ranzer Conchita Trumplane Christos\n",
    "    Oceanside Escobar Kreisler Sawyer Cougar Yvette Ervin ODI Darryl CTCA\n",
    "    Shannon A.K.C. Meltex Liverpool ...\n",
    "    \n",
    "NNPS: noun, proper, plural\n",
    "    Americans Americas Amharas Amityvilles Amusements Anarcho-Syndicalists\n",
    "    Andalusians Andes Andruses Angels Animals Anthony Antilles Antiques\n",
    "    Apache Apaches Apocrypha ...\n",
    "    \n",
    "NNS: noun, common, plural\n",
    "    undergraduates scotches bric-a-brac products bodyguards facets coasts\n",
    "    divestitures storehouses designs clubs fragrances averages\n",
    "    subjectivists apprehensions muses factory-jobs ...\n"
   ]
  },
  {
   "cell_type": "code",
   "execution_count": 24,
   "metadata": {},
   "outputs": [
    {
     "data": {
      "text/plain": [
       "[('kyungsoons', 'NNS'),\n",
       " ('place', 'NN'),\n",
       " ('is', 'VBZ'),\n",
       " ('located', 'VBN'),\n",
       " ('at', 'IN'),\n",
       " ('a', 'DT'),\n",
       " ('quiet', 'JJ'),\n",
       " ('and', 'CC'),\n",
       " ('peaceful', 'JJ'),\n",
       " ('neighborhood', 'NN'),\n",
       " ('not', 'RB'),\n",
       " ('far', 'RB'),\n",
       " ('from', 'IN'),\n",
       " ('the', 'DT'),\n",
       " ('city', 'NN')]"
      ]
     },
     "execution_count": 24,
     "metadata": {},
     "output_type": "execute_result"
    }
   ],
   "source": [
    "ex"
   ]
  },
  {
   "cell_type": "code",
   "execution_count": 60,
   "metadata": {},
   "outputs": [
    {
     "name": "stdout",
     "output_type": "stream",
     "text": [
      "NN\n",
      "VBD\n",
      "NN\n",
      "IN\n",
      "PRP\n",
      "VBZ\n",
      "RB\n",
      "TO\n",
      "NNP\n",
      "NN\n"
     ]
    },
    {
     "data": {
      "text/plain": [
       "['koreaoe',\n",
       " ' was',\n",
       " ' good',\n",
       " 'because',\n",
       " 'it',\n",
       " ' was',\n",
       " 'close',\n",
       " 'to',\n",
       " 'Busan',\n",
       " 'station']"
      ]
     },
     "execution_count": 60,
     "metadata": {},
     "output_type": "execute_result"
    }
   ],
   "source": [
    "njvr_lemmantizer(ex2)"
   ]
  },
  {
   "cell_type": "code",
   "execution_count": 55,
   "metadata": {},
   "outputs": [],
   "source": [
    "a = 'NNS'\n",
    "if a == 'NN':\n",
    "    print('hi')"
   ]
  },
  {
   "cell_type": "code",
   "execution_count": null,
   "metadata": {},
   "outputs": [],
   "source": [
    "njvr_lemmantizer()"
   ]
  },
  {
   "cell_type": "code",
   "execution_count": null,
   "metadata": {},
   "outputs": [],
   "source": []
  },
  {
   "cell_type": "code",
   "execution_count": 143,
   "metadata": {},
   "outputs": [
    {
     "data": {
      "text/plain": [
       "['kyungsoons',\n",
       " 'place',\n",
       " 'be',\n",
       " 'locate',\n",
       " 'quiet',\n",
       " 'peaceful',\n",
       " 'neighborhood',\n",
       " 'city']"
      ]
     },
     "execution_count": 143,
     "metadata": {},
     "output_type": "execute_result"
    }
   ],
   "source": [
    "njv_lemmantizer(ex)"
   ]
  },
  {
   "cell_type": "code",
   "execution_count": 144,
   "metadata": {},
   "outputs": [
    {
     "data": {
      "text/plain": [
       "['kyungsoons',\n",
       " 'place',\n",
       " 'be',\n",
       " 'locate',\n",
       " 'quiet',\n",
       " 'peaceful',\n",
       " 'neighborhood',\n",
       " 'not',\n",
       " 'far',\n",
       " 'city']"
      ]
     },
     "execution_count": 144,
     "metadata": {},
     "output_type": "execute_result"
    }
   ],
   "source": [
    "njvr_lemmantizer(ex)"
   ]
  },
  {
   "cell_type": "markdown",
   "metadata": {},
   "source": [
    "## pos tag - 명사(고유명사제거),동사,형용사,부사 - lemm "
   ]
  }
 ],
 "metadata": {
  "kernelspec": {
   "display_name": "Python 3",
   "language": "python",
   "name": "python3"
  },
  "language_info": {
   "codemirror_mode": {
    "name": "ipython",
    "version": 3
   },
   "file_extension": ".py",
   "mimetype": "text/x-python",
   "name": "python",
   "nbconvert_exporter": "python",
   "pygments_lexer": "ipython3",
   "version": "3.6.5"
  }
 },
 "nbformat": 4,
 "nbformat_minor": 2
}
