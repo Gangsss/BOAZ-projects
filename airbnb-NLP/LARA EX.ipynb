{
 "cells": [
  {
   "cell_type": "markdown",
   "metadata": {},
   "source": [
    "## Regression "
   ]
  },
  {
   "cell_type": "code",
   "execution_count": 29,
   "metadata": {},
   "outputs": [
    {
     "ename": "ModuleNotFoundError",
     "evalue": "No module named 'tensorflow'",
     "output_type": "error",
     "traceback": [
      "\u001b[1;31m---------------------------------------------------------------------------\u001b[0m",
      "\u001b[1;31mModuleNotFoundError\u001b[0m                       Traceback (most recent call last)",
      "\u001b[1;32m<ipython-input-29-869d7fd30d97>\u001b[0m in \u001b[0;36m<module>\u001b[1;34m()\u001b[0m\n\u001b[0;32m      1\u001b[0m \u001b[1;33m\u001b[0m\u001b[0m\n\u001b[1;32m----> 2\u001b[1;33m \u001b[1;32mimport\u001b[0m \u001b[0mtensorflow\u001b[0m \u001b[1;32mas\u001b[0m \u001b[0mtf\u001b[0m\u001b[1;33m\u001b[0m\u001b[0m\n\u001b[0m\u001b[0;32m      3\u001b[0m \u001b[1;32mimport\u001b[0m \u001b[0mnumpy\u001b[0m \u001b[1;32mas\u001b[0m \u001b[0mnp\u001b[0m\u001b[1;33m\u001b[0m\u001b[0m\n\u001b[0;32m      4\u001b[0m \u001b[1;32mfrom\u001b[0m \u001b[0maspect_segmentation\u001b[0m \u001b[1;32mimport\u001b[0m \u001b[1;33m*\u001b[0m\u001b[1;33m\u001b[0m\u001b[0m\n\u001b[0;32m      5\u001b[0m \u001b[1;33m\u001b[0m\u001b[0m\n",
      "\u001b[1;31mModuleNotFoundError\u001b[0m: No module named 'tensorflow'"
     ]
    }
   ],
   "source": [
    "import tensorflow as tf\n",
    "import numpy as np\n",
    "from aspect_segmentation import *\n",
    "\n",
    "D = 4\n",
    "k = 5\n",
    "\n",
    "alpha_d = [0 for i in range(D)]\n",
    "\n",
    "t = [0 for i in range(D)]\n",
    "s_d = [0 for i in range(D)]\n",
    "\n",
    "multiplier = [0 for i in range(D)]\n",
    "obj_func = [0 for i in range(D)]\n",
    "loss = [0 for i in range(D)]\n",
    "train_op = [0 for i in range(D)]\n",
    "ratings = tf.constant([1.,2.],shape = [1,D])\n",
    "x = [0 for i in range(D)]\n",
    "y = [0 for i in range(D)]\n",
    "\n",
    "sigma_matr = tf.placeholder(shape = [k,k],dtype = tf.float32)\n",
    "delta = tf.placeholder(dtype=tf.float32)\n",
    "mu = tf.placeholder(shape=[k,1],dtype=tf.float32)\n",
    "\n",
    "for i in range(D):\n",
    "    alpha_d[i] = tf.Variable(tf.random_uniform([k,1],0,1))\n",
    "    \n",
    "    t[i] = tf.random_uniform([k,1],0,1)\n",
    "    s_d[i] = tf.Variable(tf.truediv(t[i],tf.reduce_sum(t[i])))\n",
    "    \n",
    "    \n",
    "    x[i] = tf.mul(tf.pow(tf.mul(2.,tf.square(delta)),-1),   # tf.pow(x, y) = x^y  /  tf.pow(x, y) = x*y\n",
    "        tf.sub(ratings[0,i],tf.square(tf.reduce_sum(tf.matmul(tf.transpose(alpha_d[i]),s_d[i]))))) \n",
    "        # tf.sub(x,y) = x-y / tf.reduce 연산할 때 차원을 줄이는 함수 -> tf.reduce_sum([1,2],[3,4]) = 10\n",
    "    y[i] = 0.5*tf.reduce_sum(tf.matmul(tf.transpose(tf.sub(alpha_d[i],mu)),\n",
    "        tf.matmul(tf.matrix_inverse(sigma_matr),tf.sub(alpha_d[i],mu))))\n",
    "\n",
    "    obj_func[i] = tf.add(x[i],y[i])\n",
    "    loss[i] = tf.add(0.001*obj_func[i],tf.square(1-tf.reduce_sum(alpha_d[i])))\n",
    "    train_op[i] = tf.train.GradientDescentOptimizer(0.01).minimize(loss[i])\n"
   ]
  },
  {
   "cell_type": "code",
   "execution_count": null,
   "metadata": {},
   "outputs": [],
   "source": [
    "init = tf.initialize_all_variables()\n",
    "\n",
    "act_alpha = [ [] for i in range(D)]\n",
    "act_sigma_matr = np.identity(k)\n",
    "act_delta = 0.2\n",
    "act_mu = np.random.rand(k,1)\n",
    "\n",
    "with tf.Session() as sess:\n",
    "    sess.run(init)\n",
    "    for _ in range(3):\n",
    "        for j in range(D):\n",
    "            for i in range(80):\n",
    "                x,_ = sess.run([alpha_d[j],train_op[j]],feed_dict={sigma_matr:act_sigma_matr,mu:act_mu,delta:act_delta}) # 여기서 에러\n",
    "            act_alpha[j]=x\n",
    "\n",
    "        act_mu = (1/D)*np.sum(act_alpha,0)\n",
    "        act_mu = np.reshape(act_mu,(k,1))\n",
    "        temp_matr = np.reshape(np.transpose(act_alpha),(k,D))\n",
    "        act_sigma_matr = np.cov(temp_matr)\n",
    "\n",
    "    print(act_alpha)"
   ]
  },
  {
   "cell_type": "code",
   "execution_count": null,
   "metadata": {},
   "outputs": [],
   "source": []
  }
 ],
 "metadata": {
  "kernelspec": {
   "display_name": "Python [default]",
   "language": "python",
   "name": "python3"
  },
  "language_info": {
   "codemirror_mode": {
    "name": "ipython",
    "version": 3
   },
   "file_extension": ".py",
   "mimetype": "text/x-python",
   "name": "python",
   "nbconvert_exporter": "python",
   "pygments_lexer": "ipython3",
   "version": "3.7.0"
  }
 },
 "nbformat": 4,
 "nbformat_minor": 2
}
