{
 "cells": [
  {
   "cell_type": "code",
   "execution_count": 2,
   "metadata": {},
   "outputs": [],
   "source": [
    "import numpy as np\n",
    "import pickle\n",
    "import os"
   ]
  },
  {
   "cell_type": "code",
   "execution_count": 4,
   "metadata": {},
   "outputs": [],
   "source": [
    "D = 5\n",
    "K = 6\n",
    "N = 10"
   ]
  },
  {
   "cell_type": "code",
   "execution_count": 5,
   "metadata": {},
   "outputs": [],
   "source": [
    "ratings = [5,5,4,3,0]"
   ]
  },
  {
   "cell_type": "code",
   "execution_count": 10,
   "metadata": {},
   "outputs": [],
   "source": [
    "W = {}"
   ]
  },
  {
   "cell_type": "code",
   "execution_count": 11,
   "metadata": {},
   "outputs": [],
   "source": [
    "for k in range(K):\n",
    "    W['w_'+str(k)] = np.random.randint(0,high = 5,size=(D,N) ,dtype='int16')"
   ]
  },
  {
   "cell_type": "code",
   "execution_count": 32,
   "metadata": {},
   "outputs": [],
   "source": [
    "W2 = np.zeros((D,K,N),dtype='int16')"
   ]
  },
  {
   "cell_type": "code",
   "execution_count": 34,
   "metadata": {},
   "outputs": [],
   "source": [
    "for k in range(K):\n",
    "    for d in range(D): \n",
    "        W2[d][k] = W['w_'+str(k)][d]"
   ]
  },
  {
   "cell_type": "code",
   "execution_count": 36,
   "metadata": {},
   "outputs": [
    {
     "data": {
      "text/plain": [
       "(5, 6, 10)"
      ]
     },
     "execution_count": 36,
     "metadata": {},
     "output_type": "execute_result"
    }
   ],
   "source": [
    "W2.shape"
   ]
  },
  {
   "cell_type": "code",
   "execution_count": 147,
   "metadata": {},
   "outputs": [],
   "source": [
    "class LRR_Model:\n",
    "    global W2,ratings\n",
    "    W = W2\n",
    "    SCORE_SQUARE = False\n",
    "    \n",
    "    K = None # num of aspects\n",
    "    D = None # num of documents\n",
    "    N = None # num of words\n",
    "    \n",
    "    T = 1000 # max iteration\n",
    "    \n",
    "    mu_T = [0 for _ in range(T)]\n",
    "    sigma_T = [0 for _ in range(T)]\n",
    "    sigma_inv_T = [0 for _ in range(T)]\n",
    "    delta_T = [0 for _ in range(T)]\n",
    "    beta_T = [0 for _ in range(T)]\n",
    "    \n",
    "    aspect_weight_T = [0 for _ in range(T)] # alpha\n",
    "    aspect_rating_T = [0 for _ in range(T)] # S\n",
    "    \n",
    "    def __init__(self,k,d,n):\n",
    "        self.K = k\n",
    "        self.D = d\n",
    "        self.N = n\n",
    "        \n",
    "        mu_T[0] = np.array(np.random.rand(self.K) * 2.0 - np.ones((self.K),dtype='float32'))\n",
    "        sigma_T[0] = np.array(np.identity(self.K,dtype='float32'))\n",
    "        sigma_inv_T[0] = np.linalg.inv(sigma_T[0])\n",
    "        \n",
    "        beta_T[0] = (2*np.random.rand(self.K, self.N)-1.0)/10\n",
    "        delta_T[0] = 1.0\n",
    "        \n",
    "    \n",
    "#     def calc_covariance(self,vct):\n",
    "#         '''\n",
    "#         :param vct:\n",
    "#         :return:\n",
    "\n",
    "#         double sum = 0, s;\n",
    "# \t\tfor(int i=0; i<m_k; i++){\n",
    "# \t\t\ts = 0;\n",
    "# \t\t\tfor(int j=0; j<m_k; j++)\n",
    "# \t\t\t\ts += vct[j] * m_sigma_inv[j][i];\n",
    "# \t\t\tsum += s * vct[i];\n",
    "# \t\t}\n",
    "# \t\treturn sum;\n",
    "\n",
    "#         '''\n",
    "\n",
    "#     def calc_det(self):\n",
    "#         return np.linalg.det(self.sigma)\n",
    "\n",
    "#     def calc_sigma_inv(self,scale):\n",
    "#         self.sigma_inv = np.linalg.inv(self.sigma) * scale\n",
    "\n",
    "    def save(self,file_name:str):\n",
    "        print(os.path.join(os.getcwd(), os.path.join('model', file_name)))\n",
    "        with open(os.path.join(os.getcwd(), os.path.join('model', file_name)), 'wb') as fp:\n",
    "            pickle.dump(self,fp)\n",
    "\n",
    "    @classmethod\n",
    "    def load(cls,file_name:str):\n",
    "        try:\n",
    "            with open(os.path.join(os.getcwd(),os.path.join('model',file_name)),'rb') as fp:\n",
    "                return pickle.load(fp)\n",
    "        except Exception as e:\n",
    "            print(e)\n",
    "    \n",
    "    def get_aspect_rating(self,beta,d,t):\n",
    "        if self.SCORE_SQUARE==True:    \n",
    "            self.aspect_rating_T[t] = 0.5*np.sum(np.multiply(beta,self.W[d]),axis=1)#to avoid negative rating \n",
    "        else:\n",
    "            self.aspect_rating_T[t] = np.exp(np.sum(np.multiply(beta,self.W[d]),axis=1))#to avoid negative rating \n",
    "    \n",
    "    def infer_aspect_weight():\n",
    "        pass\n",
    "    \n",
    "    def e_step():\n",
    "        #infer_aspect_weight()\n",
    "        pass\n",
    "    def m_step():\n",
    "        pass\n",
    "    \n",
    "    def em_est(converge:float):\n",
    "#         e_step()\n",
    "#         m_step()\n",
    "        pass"
   ]
  },
  {
   "cell_type": "code",
   "execution_count": 148,
   "metadata": {},
   "outputs": [],
   "source": [
    "model = LRR_Model(6,5,10)"
   ]
  },
  {
   "cell_type": "code",
   "execution_count": 149,
   "metadata": {},
   "outputs": [
    {
     "name": "stdout",
     "output_type": "stream",
     "text": [
      "C:\\Users\\Chankoo\\Desktop\\GitHub\\BOAZ-projects\\airbnb-NLP\\model\\test.model\n"
     ]
    }
   ],
   "source": [
    "model.save('test.model')"
   ]
  },
  {
   "cell_type": "code",
   "execution_count": 150,
   "metadata": {},
   "outputs": [],
   "source": [
    "model = LRR_Model.load('test.model')"
   ]
  },
  {
   "cell_type": "code",
   "execution_count": 151,
   "metadata": {},
   "outputs": [],
   "source": [
    "model.get_aspect_rating(beta_0,0,0)"
   ]
  },
  {
   "cell_type": "code",
   "execution_count": 153,
   "metadata": {},
   "outputs": [
    {
     "data": {
      "text/plain": [
       "array([0.17475506, 0.33031899, 0.57029433, 0.18522655, 0.75022365,\n",
       "       0.01186862])"
      ]
     },
     "execution_count": 153,
     "metadata": {},
     "output_type": "execute_result"
    }
   ],
   "source": [
    "model.aspect_rating_T[0]"
   ]
  },
  {
   "cell_type": "code",
   "execution_count": null,
   "metadata": {},
   "outputs": [],
   "source": []
  },
  {
   "cell_type": "code",
   "execution_count": null,
   "metadata": {},
   "outputs": [],
   "source": []
  }
 ],
 "metadata": {
  "kernelspec": {
   "display_name": "Python 3",
   "language": "python",
   "name": "python3"
  },
  "language_info": {
   "codemirror_mode": {
    "name": "ipython",
    "version": 3
   },
   "file_extension": ".py",
   "mimetype": "text/x-python",
   "name": "python",
   "nbconvert_exporter": "python",
   "pygments_lexer": "ipython3",
   "version": "3.6.4"
  }
 },
 "nbformat": 4,
 "nbformat_minor": 2
}
