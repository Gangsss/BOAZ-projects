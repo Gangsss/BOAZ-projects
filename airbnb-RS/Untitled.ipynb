{
 "cells": [
  {
   "cell_type": "code",
   "execution_count": 52,
   "metadata": {},
   "outputs": [],
   "source": [
    "import json\n",
    "from collections import Counter\n",
    "import matplotlib.pyplot as plt\n",
    "%matplotlib inline"
   ]
  },
  {
   "cell_type": "code",
   "execution_count": 3,
   "metadata": {},
   "outputs": [
    {
     "data": {
      "text/plain": [
       "'/home/chankoo/GitHub/BOAZ-projects/airbnb-RS'"
      ]
     },
     "execution_count": 3,
     "metadata": {},
     "output_type": "execute_result"
    }
   ],
   "source": [
    "pwd"
   ]
  },
  {
   "cell_type": "code",
   "execution_count": 29,
   "metadata": {},
   "outputs": [],
   "source": [
    "with open('/home/chankoo/GitHub/BOAZ-projects/airbnb-data/review_jsn_147323.json','r') as fp:\n",
    "    review = json.load(fp)"
   ]
  },
  {
   "cell_type": "code",
   "execution_count": 31,
   "metadata": {},
   "outputs": [
    {
     "name": "stdout",
     "output_type": "stream",
     "text": [
      "리뷰가 달린 숙소의 수: 7057\n"
     ]
    }
   ],
   "source": [
    "print('리뷰가 달린 숙소의 수: {}'.format(len(review))) # 크롤링이 완전하지 않음"
   ]
  },
  {
   "cell_type": "code",
   "execution_count": 12,
   "metadata": {},
   "outputs": [
    {
     "data": {
      "text/plain": [
       "'18551259'"
      ]
     },
     "execution_count": 12,
     "metadata": {},
     "output_type": "execute_result"
    }
   ],
   "source": [
    "list(review.keys())[0] # listing_id == 숙소의 아이디"
   ]
  },
  {
   "cell_type": "code",
   "execution_count": 18,
   "metadata": {},
   "outputs": [
    {
     "data": {
      "text/plain": [
       "{'collection_tag': None,\n",
       " 'comments': '새벽이 도착했음에도 편안히 잘 쉴수 있었던 공간이었습니다. 반갑게 맞아준 헨리도 기억에 남네요. 너무 늦게 들어가서 놀아줄 시간이 없어 아쉬웠어요^^',\n",
       " 'created_at': '2018-10-06T06:15:10Z',\n",
       " 'id': 332696014,\n",
       " 'language': 'ko',\n",
       " 'localized_date': '2018년 10월',\n",
       " 'rating': 5,\n",
       " 'response': '',\n",
       " 'reviewee': {'deleted': False,\n",
       "  'first_name': 'David',\n",
       "  'host_name': 'David',\n",
       "  'id': 76010772,\n",
       "  'is_superhost': False,\n",
       "  'picture_url': 'https://a0.muscache.com/im/pictures/user/09c053d6-07a4-4c0e-a864-7fce8458baf6.jpg?aki_policy=profile_x_medium',\n",
       "  'profile_path': '/users/show/76010772'},\n",
       " 'reviewer': {'deleted': False,\n",
       "  'first_name': 'Junghee',\n",
       "  'host_name': 'Junghee',\n",
       "  'id': 111507566,\n",
       "  'is_superhost': False,\n",
       "  'picture_url': 'https://a0.muscache.com/im/pictures/c1936b91-a6f7-4702-9db6-48df6ce827f9.jpg?aki_policy=profile_x_medium',\n",
       "  'profile_path': '/users/show/111507566'}}"
      ]
     },
     "execution_count": 18,
     "metadata": {},
     "output_type": "execute_result"
    }
   ],
   "source": [
    "review['18551259'][0] # 숙소별로 리뷰를 확인할 수 있다"
   ]
  },
  {
   "cell_type": "code",
   "execution_count": 72,
   "metadata": {},
   "outputs": [],
   "source": [
    "home_rev = {}\n",
    "for k,v in review.items():\n",
    "    home_rev[k] = len(v)\n"
   ]
  },
  {
   "cell_type": "code",
   "execution_count": 74,
   "metadata": {},
   "outputs": [
    {
     "data": {
      "text/plain": [
       "69"
      ]
     },
     "execution_count": 74,
     "metadata": {},
     "output_type": "execute_result"
    }
   ],
   "source": [
    "home_rev[list(home_rev.keys())[0]]"
   ]
  },
  {
   "cell_type": "code",
   "execution_count": 75,
   "metadata": {},
   "outputs": [],
   "source": [
    "c = Counter([v for k,v in home_rev.items()])"
   ]
  },
  {
   "cell_type": "code",
   "execution_count": 76,
   "metadata": {},
   "outputs": [
    {
     "data": {
      "text/plain": [
       "Counter({69: 17,\n",
       "         25: 76,\n",
       "         44: 37,\n",
       "         20: 95,\n",
       "         6: 219,\n",
       "         18: 82,\n",
       "         11: 154,\n",
       "         9: 147,\n",
       "         64: 26,\n",
       "         55: 23,\n",
       "         0: 1096,\n",
       "         8: 175,\n",
       "         12: 109,\n",
       "         23: 58,\n",
       "         15: 103,\n",
       "         60: 25,\n",
       "         2: 424,\n",
       "         3: 292,\n",
       "         10: 157,\n",
       "         22: 61,\n",
       "         200: 201,\n",
       "         4: 294,\n",
       "         48: 22,\n",
       "         46: 37,\n",
       "         28: 47,\n",
       "         77: 9,\n",
       "         52: 26,\n",
       "         76: 13,\n",
       "         59: 25,\n",
       "         81: 9,\n",
       "         51: 24,\n",
       "         27: 53,\n",
       "         40: 33,\n",
       "         26: 57,\n",
       "         70: 16,\n",
       "         39: 32,\n",
       "         38: 36,\n",
       "         21: 76,\n",
       "         65: 14,\n",
       "         61: 26,\n",
       "         19: 80,\n",
       "         7: 202,\n",
       "         13: 127,\n",
       "         14: 120,\n",
       "         34: 49,\n",
       "         1: 541,\n",
       "         16: 99,\n",
       "         5: 247,\n",
       "         24: 68,\n",
       "         66: 15,\n",
       "         42: 25,\n",
       "         50: 26,\n",
       "         32: 49,\n",
       "         62: 18,\n",
       "         49: 27,\n",
       "         53: 19,\n",
       "         57: 24,\n",
       "         37: 38,\n",
       "         63: 17,\n",
       "         17: 90,\n",
       "         30: 47,\n",
       "         31: 48,\n",
       "         72: 12,\n",
       "         84: 12,\n",
       "         58: 22,\n",
       "         73: 15,\n",
       "         41: 33,\n",
       "         67: 18,\n",
       "         54: 22,\n",
       "         35: 41,\n",
       "         80: 12,\n",
       "         89: 10,\n",
       "         90: 6,\n",
       "         96: 4,\n",
       "         47: 29,\n",
       "         68: 13,\n",
       "         86: 12,\n",
       "         36: 34,\n",
       "         92: 7,\n",
       "         85: 6,\n",
       "         33: 44,\n",
       "         75: 14,\n",
       "         99: 5,\n",
       "         79: 15,\n",
       "         56: 21,\n",
       "         29: 49,\n",
       "         43: 38,\n",
       "         45: 29,\n",
       "         93: 9,\n",
       "         95: 9,\n",
       "         97: 9,\n",
       "         91: 10,\n",
       "         71: 12,\n",
       "         74: 13,\n",
       "         78: 12,\n",
       "         82: 10,\n",
       "         88: 8,\n",
       "         94: 12,\n",
       "         300: 6,\n",
       "         83: 16,\n",
       "         87: 3,\n",
       "         98: 3})"
      ]
     },
     "execution_count": 76,
     "metadata": {},
     "output_type": "execute_result"
    }
   ],
   "source": [
    "c"
   ]
  },
  {
   "cell_type": "code",
   "execution_count": 77,
   "metadata": {},
   "outputs": [
    {
     "data": {
      "text/plain": [
       "[(0, 1096),\n",
       " (1, 541),\n",
       " (2, 424),\n",
       " (4, 294),\n",
       " (3, 292),\n",
       " (5, 247),\n",
       " (6, 219),\n",
       " (7, 202),\n",
       " (200, 201),\n",
       " (8, 175),\n",
       " (10, 157),\n",
       " (11, 154),\n",
       " (9, 147),\n",
       " (13, 127),\n",
       " (14, 120),\n",
       " (12, 109),\n",
       " (15, 103),\n",
       " (16, 99),\n",
       " (20, 95),\n",
       " (17, 90),\n",
       " (18, 82),\n",
       " (19, 80),\n",
       " (25, 76),\n",
       " (21, 76),\n",
       " (24, 68),\n",
       " (22, 61),\n",
       " (23, 58),\n",
       " (26, 57),\n",
       " (27, 53),\n",
       " (34, 49),\n",
       " (32, 49),\n",
       " (29, 49),\n",
       " (31, 48),\n",
       " (28, 47),\n",
       " (30, 47),\n",
       " (33, 44),\n",
       " (35, 41),\n",
       " (37, 38),\n",
       " (43, 38),\n",
       " (44, 37),\n",
       " (46, 37),\n",
       " (38, 36),\n",
       " (36, 34),\n",
       " (40, 33),\n",
       " (41, 33),\n",
       " (39, 32),\n",
       " (47, 29),\n",
       " (45, 29),\n",
       " (49, 27),\n",
       " (64, 26),\n",
       " (52, 26),\n",
       " (61, 26),\n",
       " (50, 26),\n",
       " (60, 25),\n",
       " (59, 25),\n",
       " (42, 25),\n",
       " (51, 24),\n",
       " (57, 24),\n",
       " (55, 23),\n",
       " (48, 22),\n",
       " (58, 22),\n",
       " (54, 22),\n",
       " (56, 21),\n",
       " (53, 19),\n",
       " (62, 18),\n",
       " (67, 18),\n",
       " (69, 17),\n",
       " (63, 17),\n",
       " (70, 16),\n",
       " (83, 16),\n",
       " (66, 15),\n",
       " (73, 15),\n",
       " (79, 15),\n",
       " (65, 14),\n",
       " (75, 14),\n",
       " (76, 13),\n",
       " (68, 13),\n",
       " (74, 13),\n",
       " (72, 12),\n",
       " (84, 12),\n",
       " (80, 12),\n",
       " (86, 12),\n",
       " (71, 12),\n",
       " (78, 12),\n",
       " (94, 12),\n",
       " (89, 10),\n",
       " (91, 10),\n",
       " (82, 10),\n",
       " (77, 9),\n",
       " (81, 9),\n",
       " (93, 9),\n",
       " (95, 9),\n",
       " (97, 9),\n",
       " (88, 8),\n",
       " (92, 7),\n",
       " (90, 6),\n",
       " (85, 6),\n",
       " (300, 6),\n",
       " (99, 5),\n",
       " (96, 4),\n",
       " (87, 3),\n",
       " (98, 3)]"
      ]
     },
     "execution_count": 77,
     "metadata": {},
     "output_type": "execute_result"
    }
   ],
   "source": [
    "sorted(c.items(), key = lambda kv:kv[1], reverse=True)"
   ]
  },
  {
   "cell_type": "code",
   "execution_count": null,
   "metadata": {},
   "outputs": [],
   "source": []
  },
  {
   "cell_type": "code",
   "execution_count": 32,
   "metadata": {},
   "outputs": [
    {
     "data": {
      "text/plain": [
       "111507566"
      ]
     },
     "execution_count": 32,
     "metadata": {},
     "output_type": "execute_result"
    }
   ],
   "source": [
    "review['18551259'][0]['reviewer']['id'] # user_id이다. 숙소에 달린 리뷰들은 user_id 정보를 담고있다 "
   ]
  },
  {
   "cell_type": "code",
   "execution_count": null,
   "metadata": {},
   "outputs": [],
   "source": [
    "home_rev = {}\n",
    "for listing_id in review.keys():\n",
    "    for rev in review[listing_id]:\n",
    "        user_id = str(rev['reviewer']['id'])\n",
    "        if user_id not in user_rev:\n",
    "            user_rev[user_id] = []\n",
    "            user_rev[user_id] += [rev]\n",
    "        else:\n",
    "            user_rev[user_id] += [rev]"
   ]
  },
  {
   "cell_type": "markdown",
   "metadata": {},
   "source": [
    "유저를 key, 유저가 쓴 리뷰들의 리스트를 value로 하는 user_rev 딕셔너리를 통해 유저와 리뷰를 매칭하자"
   ]
  },
  {
   "cell_type": "code",
   "execution_count": 33,
   "metadata": {},
   "outputs": [],
   "source": [
    "user_rev = {}\n",
    "for listing_id in review.keys():\n",
    "    for rev in review[listing_id]:\n",
    "        user_id = str(rev['reviewer']['id'])\n",
    "        if user_id not in user_rev:\n",
    "            user_rev[user_id] = []\n",
    "            user_rev[user_id] += [rev]\n",
    "        else:\n",
    "            user_rev[user_id] += [rev]"
   ]
  },
  {
   "cell_type": "code",
   "execution_count": null,
   "metadata": {},
   "outputs": [],
   "source": []
  },
  {
   "cell_type": "code",
   "execution_count": 34,
   "metadata": {},
   "outputs": [
    {
     "data": {
      "text/plain": [
       "121316"
      ]
     },
     "execution_count": 34,
     "metadata": {},
     "output_type": "execute_result"
    }
   ],
   "source": [
    "len(user_rev.keys()) # 리뷰를 쓴 유저의 수"
   ]
  },
  {
   "cell_type": "code",
   "execution_count": 35,
   "metadata": {},
   "outputs": [
    {
     "data": {
      "text/plain": [
       "1"
      ]
     },
     "execution_count": 35,
     "metadata": {},
     "output_type": "execute_result"
    }
   ],
   "source": [
    "len(user_rev['111507566']) # 111507566 유저가 남긴 리뷰의 수 "
   ]
  },
  {
   "cell_type": "code",
   "execution_count": 40,
   "metadata": {},
   "outputs": [],
   "source": [
    "c = Counter([len(v) for k,v in user_rev.items()])"
   ]
  },
  {
   "cell_type": "code",
   "execution_count": 54,
   "metadata": {},
   "outputs": [
    {
     "data": {
      "text/plain": [
       "Counter({1: 91148,\n",
       "         2: 24851,\n",
       "         3: 3337,\n",
       "         4: 1202,\n",
       "         6: 173,\n",
       "         10: 22,\n",
       "         5: 374,\n",
       "         14: 5,\n",
       "         7: 91,\n",
       "         26: 3,\n",
       "         8: 49,\n",
       "         9: 25,\n",
       "         27: 1,\n",
       "         15: 6,\n",
       "         20: 1,\n",
       "         12: 10,\n",
       "         11: 9,\n",
       "         13: 2,\n",
       "         17: 2,\n",
       "         28: 1,\n",
       "         16: 2,\n",
       "         19: 1,\n",
       "         22: 1})"
      ]
     },
     "execution_count": 54,
     "metadata": {},
     "output_type": "execute_result"
    }
   ],
   "source": [
    "c"
   ]
  },
  {
   "cell_type": "code",
   "execution_count": 71,
   "metadata": {},
   "outputs": [
    {
     "data": {
      "text/plain": [
       "[(1, 91148),\n",
       " (2, 24851),\n",
       " (3, 3337),\n",
       " (4, 1202),\n",
       " (5, 374),\n",
       " (6, 173),\n",
       " (7, 91),\n",
       " (8, 49),\n",
       " (9, 25),\n",
       " (10, 22),\n",
       " (12, 10),\n",
       " (11, 9),\n",
       " (15, 6),\n",
       " (14, 5),\n",
       " (26, 3),\n",
       " (13, 2),\n",
       " (17, 2),\n",
       " (16, 2),\n",
       " (27, 1),\n",
       " (20, 1),\n",
       " (28, 1),\n",
       " (19, 1),\n",
       " (22, 1)]"
      ]
     },
     "execution_count": 71,
     "metadata": {},
     "output_type": "execute_result"
    }
   ],
   "source": [
    "sorted(c.items(), key = lambda kv:kv[1], reverse=True)"
   ]
  },
  {
   "cell_type": "code",
   "execution_count": null,
   "metadata": {},
   "outputs": [],
   "source": []
  },
  {
   "cell_type": "code",
   "execution_count": 6,
   "metadata": {},
   "outputs": [],
   "source": [
    "with open('/home/chankoo/GitHub/BOAZ-projects/airbnb-data/home_jsn_14610.json','r') as fp:\n",
    "    home = json.load(fp)"
   ]
  },
  {
   "cell_type": "code",
   "execution_count": 10,
   "metadata": {},
   "outputs": [
    {
     "data": {
      "text/plain": [
       "{'badges': [],\n",
       " 'bathroom_label': '1 shared bath',\n",
       " 'bathrooms': 1.0,\n",
       " 'bed_label': '2 beds',\n",
       " 'bedroom_label': '1 bedroom',\n",
       " 'bedrooms': 1,\n",
       " 'beds': 2,\n",
       " 'city': 'Bupyeong-gu, Incheon',\n",
       " 'guest_label': '3 guests',\n",
       " 'host_languages': ['en', 'ko'],\n",
       " 'host_thumbnail_url_small': 'https://a0.muscache.com/im/pictures/user/09c053d6-07a4-4c0e-a864-7fce8458baf6.jpg?aki_policy=profile_small',\n",
       " 'host_thumbnail_url': 'https://a0.muscache.com/im/pictures/user/09c053d6-07a4-4c0e-a864-7fce8458baf6.jpg?aki_policy=profile_x_medium',\n",
       " 'is_business_travel_ready': False,\n",
       " 'is_fully_refundable': True,\n",
       " 'is_host_highly_rated': True,\n",
       " 'is_new_listing': False,\n",
       " 'is_rebookable': False,\n",
       " 'is_superhost': False,\n",
       " 'kicker_content': {'messages': ['Private room', '2 beds']},\n",
       " 'lat': 37.485008,\n",
       " 'lng': 126.715294,\n",
       " 'localized_city': 'Bupyeong-gu, Incheon',\n",
       " 'name': '[Loki]Enjoy Bupyeong at good price! henryhouse',\n",
       " 'person_capacity': 3,\n",
       " 'picture_count': 7,\n",
       " 'picture_url': 'https://a0.muscache.com/im/pictures/40bafa6d-415a-421f-a488-c25eaf11ca19.jpg?aki_policy=large',\n",
       " 'picture_urls': ['https://a0.muscache.com/im/pictures/40bafa6d-415a-421f-a488-c25eaf11ca19.jpg?aki_policy=large',\n",
       "  'https://a0.muscache.com/im/pictures/e7be7dfb-f058-48d3-b3fd-f15fa7b5653e.jpg?aki_policy=large',\n",
       "  'https://a0.muscache.com/im/pictures/2f639d32-0cc5-41f4-bc91-99fbb8d03297.jpg?aki_policy=large',\n",
       "  'https://a0.muscache.com/im/pictures/3c612a47-819c-4a4e-b069-e0bb285e8490.jpg?aki_policy=large',\n",
       "  'https://a0.muscache.com/im/pictures/88a65675-2065-442c-b87c-6d1da374b181.jpg?aki_policy=large',\n",
       "  'https://a0.muscache.com/im/pictures/ae016e21-e9cc-4ee7-8adf-fb04992a3611.jpg?aki_policy=large',\n",
       "  'https://a0.muscache.com/im/pictures/65a2db9f-efa7-48d2-95f4-e13da217b085.jpg?aki_policy=large'],\n",
       " 'picture': {'id': 414516507,\n",
       "  'dominant_saturated_color': '#CFBF9E',\n",
       "  'large_ro': 'https://a0.muscache.com/im/pictures/40bafa6d-415a-421f-a488-c25eaf11ca19.jpg?aki_policy=large_ro',\n",
       "  'picture': 'https://a0.muscache.com/im/pictures/40bafa6d-415a-421f-a488-c25eaf11ca19.jpg?aki_policy=large',\n",
       "  'preview_encoded_png': 'iVBORw0KGgoAAAANSUhEUgAAAAUAAAADCAIAAADUVFKvAAAAO0lEQVQIHQEwAM//AeTf2f3+/Pj49fnv3//89wHf3drLycr08u8sJhoC/fQBxr63EhMUBAQF/fv5+vn3amYgudm3BTAAAAAASUVORK5CYII=',\n",
       "  'saturated_a11y_dark_color': '#CFBF9E',\n",
       "  'scrim_color': '#534D4D'},\n",
       " 'preview_amenities': 'Wifi, Kitchen, Washer, Free parking on premises',\n",
       " 'preview_encoded_png': 'iVBORw0KGgoAAAANSUhEUgAAAAUAAAADCAIAAADUVFKvAAAAO0lEQVQIHQEwAM//AeTf2f3+/Pj49fnv3//89wHf3drLycr08u8sJhoC/fQBxr63EhMUBAQF/fv5+vn3amYgudm3BTAAAAAASUVORK5CYII=',\n",
       " 'property_type_id': 1,\n",
       " 'reviews_count': 69,\n",
       " 'room_and_property_type': 'Private room in apartment',\n",
       " 'room_type_category': 'private_room',\n",
       " 'room_type': 'Private room',\n",
       " 'scrim_color': '#534D4D',\n",
       " 'show_structured_name': False,\n",
       " 'space_type': 'Private room',\n",
       " 'star_rating': 4.5,\n",
       " 'tier_id': 0,\n",
       " 'user': {'first_name': ' ',\n",
       "  'has_profile_pic': True,\n",
       "  'id': 76010772,\n",
       "  'is_superhost': False,\n",
       "  'picture_url': 'https://a0.muscache.com/im/pictures/user/09c053d6-07a4-4c0e-a864-7fce8458baf6.jpg?aki_policy=profile_x_medium',\n",
       "  'smart_name': ' ',\n",
       "  'thumbnail_url': 'https://a0.muscache.com/im/pictures/user/09c053d6-07a4-4c0e-a864-7fce8458baf6.jpg?aki_policy=profile_small'},\n",
       " 'wide_kicker_content': {'messages': ['Private room in apartment']},\n",
       " 'public_address': 'Bupyeong-gu, Incheon, Incheon, South Korea',\n",
       " 'seo_reviews': [],\n",
       " 'amenity_ids': [2,\n",
       "  3,\n",
       "  4,\n",
       "  8,\n",
       "  9,\n",
       "  75,\n",
       "  12,\n",
       "  77,\n",
       "  18,\n",
       "  21,\n",
       "  28,\n",
       "  30,\n",
       "  31,\n",
       "  33,\n",
       "  34,\n",
       "  35,\n",
       "  39,\n",
       "  40,\n",
       "  41,\n",
       "  42,\n",
       "  44,\n",
       "  45,\n",
       "  46,\n",
       "  47,\n",
       "  51,\n",
       "  53],\n",
       " 'preview_amenity_names': ['Wifi',\n",
       "  'Kitchen',\n",
       "  'Washer',\n",
       "  'Free parking on premises'],\n",
       " 'reviews': []}"
      ]
     },
     "execution_count": 10,
     "metadata": {},
     "output_type": "execute_result"
    }
   ],
   "source": [
    "home[list(home.keys())[0]]"
   ]
  },
  {
   "cell_type": "code",
   "execution_count": null,
   "metadata": {},
   "outputs": [],
   "source": []
  },
  {
   "cell_type": "code",
   "execution_count": null,
   "metadata": {},
   "outputs": [],
   "source": []
  },
  {
   "cell_type": "code",
   "execution_count": null,
   "metadata": {},
   "outputs": [],
   "source": []
  },
  {
   "cell_type": "code",
   "execution_count": null,
   "metadata": {},
   "outputs": [],
   "source": []
  },
  {
   "cell_type": "code",
   "execution_count": null,
   "metadata": {},
   "outputs": [],
   "source": []
  }
 ],
 "metadata": {
  "kernelspec": {
   "display_name": "Python 3",
   "language": "python",
   "name": "python3"
  },
  "language_info": {
   "codemirror_mode": {
    "name": "ipython",
    "version": 3
   },
   "file_extension": ".py",
   "mimetype": "text/x-python",
   "name": "python",
   "nbconvert_exporter": "python",
   "pygments_lexer": "ipython3",
   "version": "3.7.0"
  }
 },
 "nbformat": 4,
 "nbformat_minor": 2
}
